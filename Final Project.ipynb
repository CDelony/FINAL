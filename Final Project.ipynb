{
 "cells": [
  {
   "cell_type": "code",
   "execution_count": 2,
   "id": "7907369a",
   "metadata": {},
   "outputs": [],
   "source": [
    "import pandas as pd"
   ]
  },
  {
   "cell_type": "code",
   "execution_count": 52,
   "id": "0f0f8fbd",
   "metadata": {},
   "outputs": [],
   "source": [
    "df = pd.read_csv(\"forestfires.csv\")\n"
   ]
  },
  {
   "cell_type": "code",
   "execution_count": 27,
   "id": "4cf81940",
   "metadata": {},
   "outputs": [
    {
     "data": {
      "text/plain": [
       "Index(['X', 'Y', 'month', 'day', 'FFMC', 'DMC', 'DC', 'ISI', 'temp', 'RH',\n",
       "       'wind', 'rain', 'area'],\n",
       "      dtype='object')"
      ]
     },
     "execution_count": 27,
     "metadata": {},
     "output_type": "execute_result"
    }
   ],
   "source": [
    "df.columns"
   ]
  },
  {
   "cell_type": "code",
   "execution_count": 53,
   "id": "e77682a7",
   "metadata": {},
   "outputs": [
    {
     "data": {
      "application/vnd.plotly.v1+json": {
       "config": {
        "plotlyServerURL": "https://plot.ly"
       },
       "data": [
        {
         "alignmentgroup": "True",
         "hovertemplate": "x=%{x}<br>y=%{y}<extra></extra>",
         "legendgroup": "",
         "marker": {
          "color": "#636efa",
          "pattern": {
           "shape": ""
          }
         },
         "name": "",
         "offsetgroup": "",
         "orientation": "h",
         "showlegend": false,
         "textposition": "auto",
         "type": "bar",
         "x": [
          8.2,
          18,
          14.6,
          8.3,
          11.4,
          22.2,
          24.1,
          8,
          13.1,
          22.8,
          17.8,
          19.3,
          17,
          21.3,
          26.4,
          22.9,
          15.1,
          16.7,
          15.9,
          9.3,
          18.3,
          19.1,
          21,
          19.5,
          23.7,
          16.3,
          19,
          19.4,
          30.2,
          22.8,
          25.4,
          11.2,
          20.6,
          17.7,
          21.2,
          18.2,
          21.7,
          11.3,
          17.8,
          14.1,
          23.3,
          18.4,
          16.6,
          19.6,
          12.9,
          25.9,
          14.7,
          23,
          11.8,
          11,
          20.8,
          21.5,
          20.4,
          20.4,
          17.6,
          27.7,
          17.8,
          13.8,
          13.9,
          12.3,
          11.5,
          5.5,
          18.8,
          20.8,
          23.1,
          18.6,
          23,
          19.6,
          19.6,
          17.2,
          15.8,
          17.7,
          15.6,
          17.3,
          27.6,
          6.7,
          15.7,
          8.3,
          14.7,
          21.6,
          19.5,
          17.9,
          18.6,
          16.6,
          20.2,
          21.5,
          25.4,
          22.4,
          25.3,
          17.4,
          14.7,
          17.4,
          20.8,
          18.2,
          23.4,
          17.8,
          12.7,
          17.4,
          11.6,
          19.8,
          19.8,
          14.4,
          20.1,
          24.1,
          5.3,
          12.7,
          18.2,
          21.4,
          20.3,
          17.4,
          13.7,
          18.8,
          22.8,
          18.9,
          15.8,
          15.5,
          11.6,
          15.2,
          10.6,
          19.6,
          10.3,
          17.1,
          22.5,
          17.9,
          19.8,
          20.6,
          9,
          17.2,
          15.9,
          15.4,
          15.4,
          14,
          10.6,
          17.6,
          14.9,
          17.6,
          17.2,
          15.6,
          18,
          21.7,
          21.9,
          23.3,
          21.2,
          16.6,
          23.8,
          27.4,
          13.2,
          24.2,
          17.4,
          23.7,
          23.2,
          24.8,
          24.6,
          20.1,
          29.6,
          16.4,
          28.6,
          18.4,
          20.5,
          19,
          16.1,
          20.3,
          15.2,
          17.8,
          17.8,
          5.3,
          16.6,
          23.4,
          14.6,
          20.7,
          21.9,
          17.4,
          20.1,
          17.7,
          14.2,
          20.3,
          5.8,
          19.2,
          18.3,
          14.4,
          23.9,
          19.1,
          12.4,
          16.8,
          20.8,
          17.6,
          11.5,
          21,
          13.3,
          11.5,
          11.7,
          24.2,
          24.6,
          24.3,
          24.6,
          23.5,
          5.8,
          21.5,
          13.9,
          22.6,
          21.6,
          12.4,
          8.8,
          20.2,
          15.1,
          22.1,
          22.9,
          20.7,
          19.6,
          23.2,
          18.4,
          5.1,
          20.1,
          11,
          17,
          17,
          16.9,
          12.4,
          19.4,
          15.2,
          16.2,
          18.6,
          11,
          13.4,
          15.4,
          22.9,
          16.1,
          20.1,
          28.3,
          16.4,
          26.4,
          27.8,
          18.7,
          24.3,
          17.7,
          19.6,
          18.2,
          18.8,
          25.1,
          13.4,
          15.2,
          16.7,
          15.4,
          21.9,
          22.4,
          26.8,
          25.7,
          20.7,
          28.7,
          21.7,
          26.8,
          24,
          22.1,
          21.4,
          18.9,
          22.3,
          23.9,
          21.4,
          20.6,
          23.7,
          28.3,
          11.2,
          21.4,
          19.3,
          21.8,
          22.1,
          19.4,
          23.7,
          21,
          19.1,
          21.8,
          20.1,
          20.2,
          4.8,
          5.1,
          5.1,
          4.6,
          4.6,
          4.6,
          4.6,
          2.2,
          5.1,
          4.2,
          8.8,
          7.5,
          23.4,
          12.6,
          22.1,
          24.2,
          24.3,
          18.7,
          25.3,
          22.9,
          26.9,
          17.1,
          22.2,
          14.3,
          15.4,
          19.6,
          10.6,
          20.7,
          19.1,
          19.2,
          19.2,
          11.3,
          19,
          17.1,
          23.8,
          16,
          24.9,
          25.3,
          24.8,
          12.2,
          24.3,
          19.7,
          18.5,
          18.6,
          19.2,
          21.6,
          21.6,
          18.9,
          16.8,
          16.8,
          12.9,
          13.7,
          24.2,
          24.1,
          21.2,
          19.7,
          23.5,
          24.2,
          21.5,
          17.1,
          18.1,
          18,
          9.8,
          19.3,
          23,
          22.7,
          20.4,
          19.3,
          15.7,
          20.6,
          15.9,
          12.2,
          16.8,
          21.3,
          10.1,
          17.4,
          12.8,
          10.1,
          15.4,
          20.6,
          19.8,
          18.7,
          20.8,
          20.8,
          15.9,
          19.7,
          21.1,
          18.4,
          17.3,
          15.2,
          15.9,
          21.1,
          19.6,
          15.9,
          16.4,
          16.8,
          13.8,
          13.8,
          14.2,
          10.4,
          20.3,
          10.3,
          15.4,
          21.1,
          21.9,
          8.7,
          5.2,
          19.3,
          16.2,
          28.2,
          20.5,
          21.3,
          20.9,
          20.6,
          11.6,
          23.3,
          23.3,
          7.5,
          20.7,
          21.9,
          15.2,
          5.3,
          10.1,
          20.4,
          24.3,
          25.9,
          28,
          28,
          22.8,
          25,
          21.3,
          21.8,
          27.9,
          17,
          14.2,
          19.9,
          23.4,
          14.7,
          8.2,
          22.8,
          26.4,
          24.1,
          27.5,
          26.3,
          13.8,
          24.9,
          24.8,
          26.2,
          30.8,
          29.3,
          22.3,
          26.9,
          20.4,
          20.4,
          27.9,
          26.2,
          24.6,
          19.4,
          23.3,
          23.9,
          20.9,
          22.2,
          23.8,
          26.8,
          14.2,
          23.6,
          19.1,
          16.2,
          25.5,
          10.9,
          14.8,
          16.2,
          17.3,
          19.1,
          8.9,
          10.5,
          19.3,
          23.4,
          11.8,
          17.7,
          17.4,
          16.8,
          17.9,
          16.6,
          19.9,
          18.9,
          15.5,
          18.9,
          18.9,
          14.5,
          4.6,
          5.1,
          4.6,
          10.2,
          11.2,
          13.3,
          13.7,
          17.6,
          18,
          14.3,
          24.5,
          26.4,
          22.7,
          27.2,
          26.1,
          18.2,
          22.6,
          30.2,
          30.2,
          23.4,
          31,
          33.1,
          30.6,
          24.1,
          26.4,
          19.4,
          20.6,
          28.7,
          32.4,
          32.4,
          27.5,
          30.8,
          23.9,
          32.6,
          32.3,
          33.3,
          27.3,
          21.6,
          21.6,
          20.7,
          29.2,
          28.9,
          26.7,
          18.5,
          25.9,
          25.9,
          21.1,
          18.2,
          27.8,
          27.8,
          21.9,
          21.2,
          25.6,
          11.8
         ],
         "xaxis": "x",
         "y": [
          "mar",
          "oct",
          "oct",
          "mar",
          "mar",
          "aug",
          "aug",
          "aug",
          "sep",
          "sep",
          "sep",
          "sep",
          "aug",
          "sep",
          "sep",
          "sep",
          "mar",
          "oct",
          "mar",
          "apr",
          "sep",
          "sep",
          "jun",
          "aug",
          "aug",
          "aug",
          "sep",
          "sep",
          "sep",
          "sep",
          "sep",
          "sep",
          "sep",
          "sep",
          "sep",
          "sep",
          "oct",
          "oct",
          "oct",
          "mar",
          "jul",
          "aug",
          "aug",
          "sep",
          "sep",
          "sep",
          "sep",
          "jul",
          "mar",
          "mar",
          "sep",
          "aug",
          "aug",
          "aug",
          "aug",
          "sep",
          "sep",
          "oct",
          "feb",
          "feb",
          "mar",
          "mar",
          "aug",
          "aug",
          "aug",
          "aug",
          "sep",
          "sep",
          "sep",
          "mar",
          "mar",
          "sep",
          "mar",
          "aug",
          "sep",
          "feb",
          "feb",
          "mar",
          "aug",
          "aug",
          "aug",
          "aug",
          "aug",
          "aug",
          "aug",
          "sep",
          "sep",
          "sep",
          "sep",
          "mar",
          "aug",
          "mar",
          "aug",
          "aug",
          "aug",
          "sep",
          "feb",
          "mar",
          "aug",
          "aug",
          "aug",
          "aug",
          "aug",
          "sep",
          "jan",
          "mar",
          "mar",
          "aug",
          "sep",
          "sep",
          "mar",
          "mar",
          "sep",
          "sep",
          "mar",
          "mar",
          "mar",
          "mar",
          "mar",
          "aug",
          "aug",
          "aug",
          "sep",
          "sep",
          "sep",
          "oct",
          "mar",
          "sep",
          "oct",
          "oct",
          "feb",
          "mar",
          "mar",
          "sep",
          "mar",
          "aug",
          "sep",
          "sep",
          "jul",
          "sep",
          "sep",
          "aug",
          "aug",
          "jul",
          "aug",
          "aug",
          "mar",
          "sep",
          "aug",
          "sep",
          "jun",
          "jul",
          "jul",
          "sep",
          "sep",
          "aug",
          "sep",
          "aug",
          "aug",
          "sep",
          "mar",
          "aug",
          "mar",
          "sep",
          "sep",
          "mar",
          "aug",
          "aug",
          "mar",
          "aug",
          "sep",
          "aug",
          "aug",
          "sep",
          "aug",
          "aug",
          "apr",
          "aug",
          "sep",
          "aug",
          "sep",
          "oct",
          "feb",
          "oct",
          "aug",
          "sep",
          "mar",
          "sep",
          "mar",
          "mar",
          "mar",
          "aug",
          "aug",
          "sep",
          "aug",
          "aug",
          "apr",
          "sep",
          "sep",
          "sep",
          "sep",
          "mar",
          "feb",
          "oct",
          "mar",
          "sep",
          "aug",
          "sep",
          "sep",
          "sep",
          "oct",
          "aug",
          "sep",
          "mar",
          "mar",
          "mar",
          "sep",
          "sep",
          "sep",
          "mar",
          "aug",
          "sep",
          "mar",
          "jul",
          "sep",
          "sep",
          "oct",
          "aug",
          "sep",
          "aug",
          "sep",
          "sep",
          "sep",
          "sep",
          "sep",
          "aug",
          "sep",
          "sep",
          "sep",
          "apr",
          "apr",
          "apr",
          "aug",
          "aug",
          "aug",
          "aug",
          "aug",
          "aug",
          "aug",
          "aug",
          "aug",
          "aug",
          "aug",
          "aug",
          "aug",
          "aug",
          "aug",
          "aug",
          "aug",
          "aug",
          "aug",
          "aug",
          "aug",
          "aug",
          "aug",
          "aug",
          "aug",
          "aug",
          "aug",
          "aug",
          "aug",
          "aug",
          "aug",
          "dec",
          "dec",
          "dec",
          "dec",
          "dec",
          "dec",
          "dec",
          "dec",
          "dec",
          "feb",
          "feb",
          "feb",
          "jul",
          "jul",
          "jul",
          "jul",
          "jul",
          "jul",
          "jul",
          "jul",
          "jul",
          "jul",
          "jun",
          "jun",
          "jun",
          "jun",
          "jun",
          "jun",
          "jun",
          "jun",
          "jun",
          "may",
          "sep",
          "sep",
          "sep",
          "sep",
          "sep",
          "sep",
          "sep",
          "sep",
          "sep",
          "sep",
          "sep",
          "sep",
          "sep",
          "sep",
          "sep",
          "sep",
          "sep",
          "sep",
          "sep",
          "sep",
          "sep",
          "sep",
          "sep",
          "sep",
          "sep",
          "sep",
          "sep",
          "sep",
          "sep",
          "sep",
          "sep",
          "sep",
          "sep",
          "sep",
          "sep",
          "sep",
          "sep",
          "sep",
          "sep",
          "sep",
          "sep",
          "sep",
          "sep",
          "sep",
          "sep",
          "sep",
          "sep",
          "sep",
          "sep",
          "sep",
          "sep",
          "sep",
          "sep",
          "sep",
          "sep",
          "sep",
          "sep",
          "sep",
          "sep",
          "sep",
          "sep",
          "sep",
          "sep",
          "sep",
          "sep",
          "sep",
          "jul",
          "aug",
          "aug",
          "sep",
          "sep",
          "aug",
          "aug",
          "mar",
          "jan",
          "jul",
          "aug",
          "aug",
          "aug",
          "aug",
          "aug",
          "sep",
          "mar",
          "aug",
          "aug",
          "feb",
          "sep",
          "sep",
          "mar",
          "feb",
          "feb",
          "sep",
          "aug",
          "aug",
          "jun",
          "jun",
          "sep",
          "aug",
          "aug",
          "sep",
          "aug",
          "sep",
          "feb",
          "sep",
          "jul",
          "feb",
          "feb",
          "jul",
          "aug",
          "aug",
          "aug",
          "jul",
          "mar",
          "aug",
          "aug",
          "aug",
          "aug",
          "jul",
          "sep",
          "aug",
          "aug",
          "aug",
          "aug",
          "aug",
          "aug",
          "sep",
          "aug",
          "aug",
          "aug",
          "aug",
          "jul",
          "aug",
          "aug",
          "aug",
          "sep",
          "sep",
          "aug",
          "apr",
          "jul",
          "sep",
          "aug",
          "aug",
          "mar",
          "sep",
          "aug",
          "aug",
          "aug",
          "aug",
          "aug",
          "aug",
          "jul",
          "aug",
          "aug",
          "aug",
          "aug",
          "aug",
          "aug",
          "sep",
          "feb",
          "feb",
          "feb",
          "mar",
          "mar",
          "mar",
          "apr",
          "apr",
          "may",
          "jun",
          "jun",
          "jun",
          "jun",
          "jul",
          "jul",
          "jul",
          "jul",
          "jul",
          "jul",
          "aug",
          "aug",
          "aug",
          "aug",
          "aug",
          "aug",
          "aug",
          "aug",
          "aug",
          "aug",
          "aug",
          "aug",
          "aug",
          "aug",
          "aug",
          "aug",
          "aug",
          "aug",
          "aug",
          "aug",
          "aug",
          "aug",
          "aug",
          "aug",
          "aug",
          "aug",
          "aug",
          "aug",
          "aug",
          "aug",
          "aug",
          "aug",
          "aug",
          "aug",
          "nov"
         ],
         "yaxis": "y"
        }
       ],
       "layout": {
        "barmode": "relative",
        "legend": {
         "tracegroupgap": 0
        },
        "margin": {
         "t": 60
        },
        "template": {
         "data": {
          "bar": [
           {
            "error_x": {
             "color": "#2a3f5f"
            },
            "error_y": {
             "color": "#2a3f5f"
            },
            "marker": {
             "line": {
              "color": "#E5ECF6",
              "width": 0.5
             },
             "pattern": {
              "fillmode": "overlay",
              "size": 10,
              "solidity": 0.2
             }
            },
            "type": "bar"
           }
          ],
          "barpolar": [
           {
            "marker": {
             "line": {
              "color": "#E5ECF6",
              "width": 0.5
             },
             "pattern": {
              "fillmode": "overlay",
              "size": 10,
              "solidity": 0.2
             }
            },
            "type": "barpolar"
           }
          ],
          "carpet": [
           {
            "aaxis": {
             "endlinecolor": "#2a3f5f",
             "gridcolor": "white",
             "linecolor": "white",
             "minorgridcolor": "white",
             "startlinecolor": "#2a3f5f"
            },
            "baxis": {
             "endlinecolor": "#2a3f5f",
             "gridcolor": "white",
             "linecolor": "white",
             "minorgridcolor": "white",
             "startlinecolor": "#2a3f5f"
            },
            "type": "carpet"
           }
          ],
          "choropleth": [
           {
            "colorbar": {
             "outlinewidth": 0,
             "ticks": ""
            },
            "type": "choropleth"
           }
          ],
          "contour": [
           {
            "colorbar": {
             "outlinewidth": 0,
             "ticks": ""
            },
            "colorscale": [
             [
              0,
              "#0d0887"
             ],
             [
              0.1111111111111111,
              "#46039f"
             ],
             [
              0.2222222222222222,
              "#7201a8"
             ],
             [
              0.3333333333333333,
              "#9c179e"
             ],
             [
              0.4444444444444444,
              "#bd3786"
             ],
             [
              0.5555555555555556,
              "#d8576b"
             ],
             [
              0.6666666666666666,
              "#ed7953"
             ],
             [
              0.7777777777777778,
              "#fb9f3a"
             ],
             [
              0.8888888888888888,
              "#fdca26"
             ],
             [
              1,
              "#f0f921"
             ]
            ],
            "type": "contour"
           }
          ],
          "contourcarpet": [
           {
            "colorbar": {
             "outlinewidth": 0,
             "ticks": ""
            },
            "type": "contourcarpet"
           }
          ],
          "heatmap": [
           {
            "colorbar": {
             "outlinewidth": 0,
             "ticks": ""
            },
            "colorscale": [
             [
              0,
              "#0d0887"
             ],
             [
              0.1111111111111111,
              "#46039f"
             ],
             [
              0.2222222222222222,
              "#7201a8"
             ],
             [
              0.3333333333333333,
              "#9c179e"
             ],
             [
              0.4444444444444444,
              "#bd3786"
             ],
             [
              0.5555555555555556,
              "#d8576b"
             ],
             [
              0.6666666666666666,
              "#ed7953"
             ],
             [
              0.7777777777777778,
              "#fb9f3a"
             ],
             [
              0.8888888888888888,
              "#fdca26"
             ],
             [
              1,
              "#f0f921"
             ]
            ],
            "type": "heatmap"
           }
          ],
          "heatmapgl": [
           {
            "colorbar": {
             "outlinewidth": 0,
             "ticks": ""
            },
            "colorscale": [
             [
              0,
              "#0d0887"
             ],
             [
              0.1111111111111111,
              "#46039f"
             ],
             [
              0.2222222222222222,
              "#7201a8"
             ],
             [
              0.3333333333333333,
              "#9c179e"
             ],
             [
              0.4444444444444444,
              "#bd3786"
             ],
             [
              0.5555555555555556,
              "#d8576b"
             ],
             [
              0.6666666666666666,
              "#ed7953"
             ],
             [
              0.7777777777777778,
              "#fb9f3a"
             ],
             [
              0.8888888888888888,
              "#fdca26"
             ],
             [
              1,
              "#f0f921"
             ]
            ],
            "type": "heatmapgl"
           }
          ],
          "histogram": [
           {
            "marker": {
             "pattern": {
              "fillmode": "overlay",
              "size": 10,
              "solidity": 0.2
             }
            },
            "type": "histogram"
           }
          ],
          "histogram2d": [
           {
            "colorbar": {
             "outlinewidth": 0,
             "ticks": ""
            },
            "colorscale": [
             [
              0,
              "#0d0887"
             ],
             [
              0.1111111111111111,
              "#46039f"
             ],
             [
              0.2222222222222222,
              "#7201a8"
             ],
             [
              0.3333333333333333,
              "#9c179e"
             ],
             [
              0.4444444444444444,
              "#bd3786"
             ],
             [
              0.5555555555555556,
              "#d8576b"
             ],
             [
              0.6666666666666666,
              "#ed7953"
             ],
             [
              0.7777777777777778,
              "#fb9f3a"
             ],
             [
              0.8888888888888888,
              "#fdca26"
             ],
             [
              1,
              "#f0f921"
             ]
            ],
            "type": "histogram2d"
           }
          ],
          "histogram2dcontour": [
           {
            "colorbar": {
             "outlinewidth": 0,
             "ticks": ""
            },
            "colorscale": [
             [
              0,
              "#0d0887"
             ],
             [
              0.1111111111111111,
              "#46039f"
             ],
             [
              0.2222222222222222,
              "#7201a8"
             ],
             [
              0.3333333333333333,
              "#9c179e"
             ],
             [
              0.4444444444444444,
              "#bd3786"
             ],
             [
              0.5555555555555556,
              "#d8576b"
             ],
             [
              0.6666666666666666,
              "#ed7953"
             ],
             [
              0.7777777777777778,
              "#fb9f3a"
             ],
             [
              0.8888888888888888,
              "#fdca26"
             ],
             [
              1,
              "#f0f921"
             ]
            ],
            "type": "histogram2dcontour"
           }
          ],
          "mesh3d": [
           {
            "colorbar": {
             "outlinewidth": 0,
             "ticks": ""
            },
            "type": "mesh3d"
           }
          ],
          "parcoords": [
           {
            "line": {
             "colorbar": {
              "outlinewidth": 0,
              "ticks": ""
             }
            },
            "type": "parcoords"
           }
          ],
          "pie": [
           {
            "automargin": true,
            "type": "pie"
           }
          ],
          "scatter": [
           {
            "fillpattern": {
             "fillmode": "overlay",
             "size": 10,
             "solidity": 0.2
            },
            "type": "scatter"
           }
          ],
          "scatter3d": [
           {
            "line": {
             "colorbar": {
              "outlinewidth": 0,
              "ticks": ""
             }
            },
            "marker": {
             "colorbar": {
              "outlinewidth": 0,
              "ticks": ""
             }
            },
            "type": "scatter3d"
           }
          ],
          "scattercarpet": [
           {
            "marker": {
             "colorbar": {
              "outlinewidth": 0,
              "ticks": ""
             }
            },
            "type": "scattercarpet"
           }
          ],
          "scattergeo": [
           {
            "marker": {
             "colorbar": {
              "outlinewidth": 0,
              "ticks": ""
             }
            },
            "type": "scattergeo"
           }
          ],
          "scattergl": [
           {
            "marker": {
             "colorbar": {
              "outlinewidth": 0,
              "ticks": ""
             }
            },
            "type": "scattergl"
           }
          ],
          "scattermapbox": [
           {
            "marker": {
             "colorbar": {
              "outlinewidth": 0,
              "ticks": ""
             }
            },
            "type": "scattermapbox"
           }
          ],
          "scatterpolar": [
           {
            "marker": {
             "colorbar": {
              "outlinewidth": 0,
              "ticks": ""
             }
            },
            "type": "scatterpolar"
           }
          ],
          "scatterpolargl": [
           {
            "marker": {
             "colorbar": {
              "outlinewidth": 0,
              "ticks": ""
             }
            },
            "type": "scatterpolargl"
           }
          ],
          "scatterternary": [
           {
            "marker": {
             "colorbar": {
              "outlinewidth": 0,
              "ticks": ""
             }
            },
            "type": "scatterternary"
           }
          ],
          "surface": [
           {
            "colorbar": {
             "outlinewidth": 0,
             "ticks": ""
            },
            "colorscale": [
             [
              0,
              "#0d0887"
             ],
             [
              0.1111111111111111,
              "#46039f"
             ],
             [
              0.2222222222222222,
              "#7201a8"
             ],
             [
              0.3333333333333333,
              "#9c179e"
             ],
             [
              0.4444444444444444,
              "#bd3786"
             ],
             [
              0.5555555555555556,
              "#d8576b"
             ],
             [
              0.6666666666666666,
              "#ed7953"
             ],
             [
              0.7777777777777778,
              "#fb9f3a"
             ],
             [
              0.8888888888888888,
              "#fdca26"
             ],
             [
              1,
              "#f0f921"
             ]
            ],
            "type": "surface"
           }
          ],
          "table": [
           {
            "cells": {
             "fill": {
              "color": "#EBF0F8"
             },
             "line": {
              "color": "white"
             }
            },
            "header": {
             "fill": {
              "color": "#C8D4E3"
             },
             "line": {
              "color": "white"
             }
            },
            "type": "table"
           }
          ]
         },
         "layout": {
          "annotationdefaults": {
           "arrowcolor": "#2a3f5f",
           "arrowhead": 0,
           "arrowwidth": 1
          },
          "autotypenumbers": "strict",
          "coloraxis": {
           "colorbar": {
            "outlinewidth": 0,
            "ticks": ""
           }
          },
          "colorscale": {
           "diverging": [
            [
             0,
             "#8e0152"
            ],
            [
             0.1,
             "#c51b7d"
            ],
            [
             0.2,
             "#de77ae"
            ],
            [
             0.3,
             "#f1b6da"
            ],
            [
             0.4,
             "#fde0ef"
            ],
            [
             0.5,
             "#f7f7f7"
            ],
            [
             0.6,
             "#e6f5d0"
            ],
            [
             0.7,
             "#b8e186"
            ],
            [
             0.8,
             "#7fbc41"
            ],
            [
             0.9,
             "#4d9221"
            ],
            [
             1,
             "#276419"
            ]
           ],
           "sequential": [
            [
             0,
             "#0d0887"
            ],
            [
             0.1111111111111111,
             "#46039f"
            ],
            [
             0.2222222222222222,
             "#7201a8"
            ],
            [
             0.3333333333333333,
             "#9c179e"
            ],
            [
             0.4444444444444444,
             "#bd3786"
            ],
            [
             0.5555555555555556,
             "#d8576b"
            ],
            [
             0.6666666666666666,
             "#ed7953"
            ],
            [
             0.7777777777777778,
             "#fb9f3a"
            ],
            [
             0.8888888888888888,
             "#fdca26"
            ],
            [
             1,
             "#f0f921"
            ]
           ],
           "sequentialminus": [
            [
             0,
             "#0d0887"
            ],
            [
             0.1111111111111111,
             "#46039f"
            ],
            [
             0.2222222222222222,
             "#7201a8"
            ],
            [
             0.3333333333333333,
             "#9c179e"
            ],
            [
             0.4444444444444444,
             "#bd3786"
            ],
            [
             0.5555555555555556,
             "#d8576b"
            ],
            [
             0.6666666666666666,
             "#ed7953"
            ],
            [
             0.7777777777777778,
             "#fb9f3a"
            ],
            [
             0.8888888888888888,
             "#fdca26"
            ],
            [
             1,
             "#f0f921"
            ]
           ]
          },
          "colorway": [
           "#636efa",
           "#EF553B",
           "#00cc96",
           "#ab63fa",
           "#FFA15A",
           "#19d3f3",
           "#FF6692",
           "#B6E880",
           "#FF97FF",
           "#FECB52"
          ],
          "font": {
           "color": "#2a3f5f"
          },
          "geo": {
           "bgcolor": "white",
           "lakecolor": "white",
           "landcolor": "#E5ECF6",
           "showlakes": true,
           "showland": true,
           "subunitcolor": "white"
          },
          "hoverlabel": {
           "align": "left"
          },
          "hovermode": "closest",
          "mapbox": {
           "style": "light"
          },
          "paper_bgcolor": "white",
          "plot_bgcolor": "#E5ECF6",
          "polar": {
           "angularaxis": {
            "gridcolor": "white",
            "linecolor": "white",
            "ticks": ""
           },
           "bgcolor": "#E5ECF6",
           "radialaxis": {
            "gridcolor": "white",
            "linecolor": "white",
            "ticks": ""
           }
          },
          "scene": {
           "xaxis": {
            "backgroundcolor": "#E5ECF6",
            "gridcolor": "white",
            "gridwidth": 2,
            "linecolor": "white",
            "showbackground": true,
            "ticks": "",
            "zerolinecolor": "white"
           },
           "yaxis": {
            "backgroundcolor": "#E5ECF6",
            "gridcolor": "white",
            "gridwidth": 2,
            "linecolor": "white",
            "showbackground": true,
            "ticks": "",
            "zerolinecolor": "white"
           },
           "zaxis": {
            "backgroundcolor": "#E5ECF6",
            "gridcolor": "white",
            "gridwidth": 2,
            "linecolor": "white",
            "showbackground": true,
            "ticks": "",
            "zerolinecolor": "white"
           }
          },
          "shapedefaults": {
           "line": {
            "color": "#2a3f5f"
           }
          },
          "ternary": {
           "aaxis": {
            "gridcolor": "white",
            "linecolor": "white",
            "ticks": ""
           },
           "baxis": {
            "gridcolor": "white",
            "linecolor": "white",
            "ticks": ""
           },
           "bgcolor": "#E5ECF6",
           "caxis": {
            "gridcolor": "white",
            "linecolor": "white",
            "ticks": ""
           }
          },
          "title": {
           "x": 0.05
          },
          "xaxis": {
           "automargin": true,
           "gridcolor": "white",
           "linecolor": "white",
           "ticks": "",
           "title": {
            "standoff": 15
           },
           "zerolinecolor": "white",
           "zerolinewidth": 2
          },
          "yaxis": {
           "automargin": true,
           "gridcolor": "white",
           "linecolor": "white",
           "ticks": "",
           "title": {
            "standoff": 15
           },
           "zerolinecolor": "white",
           "zerolinewidth": 2
          }
         }
        },
        "xaxis": {
         "anchor": "y",
         "domain": [
          0,
          1
         ],
         "title": {
          "text": "x"
         }
        },
        "yaxis": {
         "anchor": "x",
         "domain": [
          0,
          1
         ],
         "title": {
          "text": "y"
         }
        }
       }
      },
      "text/html": [
       "<div>                            <div id=\"8a32bb15-902f-48a0-ade1-c8e1265da869\" class=\"plotly-graph-div\" style=\"height:525px; width:100%;\"></div>            <script type=\"text/javascript\">                require([\"plotly\"], function(Plotly) {                    window.PLOTLYENV=window.PLOTLYENV || {};                                    if (document.getElementById(\"8a32bb15-902f-48a0-ade1-c8e1265da869\")) {                    Plotly.newPlot(                        \"8a32bb15-902f-48a0-ade1-c8e1265da869\",                        [{\"alignmentgroup\":\"True\",\"hovertemplate\":\"x=%{x}<br>y=%{y}<extra></extra>\",\"legendgroup\":\"\",\"marker\":{\"color\":\"#636efa\",\"pattern\":{\"shape\":\"\"}},\"name\":\"\",\"offsetgroup\":\"\",\"orientation\":\"h\",\"showlegend\":false,\"textposition\":\"auto\",\"x\":[8.2,18.0,14.6,8.3,11.4,22.2,24.1,8.0,13.1,22.8,17.8,19.3,17.0,21.3,26.4,22.9,15.1,16.7,15.9,9.3,18.3,19.1,21.0,19.5,23.7,16.3,19.0,19.4,30.2,22.8,25.4,11.2,20.6,17.7,21.2,18.2,21.7,11.3,17.8,14.1,23.3,18.4,16.6,19.6,12.9,25.9,14.7,23.0,11.8,11.0,20.8,21.5,20.4,20.4,17.6,27.7,17.8,13.8,13.9,12.3,11.5,5.5,18.8,20.8,23.1,18.6,23.0,19.6,19.6,17.2,15.8,17.7,15.6,17.3,27.6,6.7,15.7,8.3,14.7,21.6,19.5,17.9,18.6,16.6,20.2,21.5,25.4,22.4,25.3,17.4,14.7,17.4,20.8,18.2,23.4,17.8,12.7,17.4,11.6,19.8,19.8,14.4,20.1,24.1,5.3,12.7,18.2,21.4,20.3,17.4,13.7,18.8,22.8,18.9,15.8,15.5,11.6,15.2,10.6,19.6,10.3,17.1,22.5,17.9,19.8,20.6,9.0,17.2,15.9,15.4,15.4,14.0,10.6,17.6,14.9,17.6,17.2,15.6,18.0,21.7,21.9,23.3,21.2,16.6,23.8,27.4,13.2,24.2,17.4,23.7,23.2,24.8,24.6,20.1,29.6,16.4,28.6,18.4,20.5,19.0,16.1,20.3,15.2,17.8,17.8,5.3,16.6,23.4,14.6,20.7,21.9,17.4,20.1,17.7,14.2,20.3,5.8,19.2,18.3,14.4,23.9,19.1,12.4,16.8,20.8,17.6,11.5,21.0,13.3,11.5,11.7,24.2,24.6,24.3,24.6,23.5,5.8,21.5,13.9,22.6,21.6,12.4,8.8,20.2,15.1,22.1,22.9,20.7,19.6,23.2,18.4,5.1,20.1,11.0,17.0,17.0,16.9,12.4,19.4,15.2,16.2,18.6,11.0,13.4,15.4,22.9,16.1,20.1,28.3,16.4,26.4,27.8,18.7,24.3,17.7,19.6,18.2,18.8,25.1,13.4,15.2,16.7,15.4,21.9,22.4,26.8,25.7,20.7,28.7,21.7,26.8,24.0,22.1,21.4,18.9,22.3,23.9,21.4,20.6,23.7,28.3,11.2,21.4,19.3,21.8,22.1,19.4,23.7,21.0,19.1,21.8,20.1,20.2,4.8,5.1,5.1,4.6,4.6,4.6,4.6,2.2,5.1,4.2,8.8,7.5,23.4,12.6,22.1,24.2,24.3,18.7,25.3,22.9,26.9,17.1,22.2,14.3,15.4,19.6,10.6,20.7,19.1,19.2,19.2,11.3,19.0,17.1,23.8,16.0,24.9,25.3,24.8,12.2,24.3,19.7,18.5,18.6,19.2,21.6,21.6,18.9,16.8,16.8,12.9,13.7,24.2,24.1,21.2,19.7,23.5,24.2,21.5,17.1,18.1,18.0,9.8,19.3,23.0,22.7,20.4,19.3,15.7,20.6,15.9,12.2,16.8,21.3,10.1,17.4,12.8,10.1,15.4,20.6,19.8,18.7,20.8,20.8,15.9,19.7,21.1,18.4,17.3,15.2,15.9,21.1,19.6,15.9,16.4,16.8,13.8,13.8,14.2,10.4,20.3,10.3,15.4,21.1,21.9,8.7,5.2,19.3,16.2,28.2,20.5,21.3,20.9,20.6,11.6,23.3,23.3,7.5,20.7,21.9,15.2,5.3,10.1,20.4,24.3,25.9,28.0,28.0,22.8,25.0,21.3,21.8,27.9,17.0,14.2,19.9,23.4,14.7,8.2,22.8,26.4,24.1,27.5,26.3,13.8,24.9,24.8,26.2,30.8,29.3,22.3,26.9,20.4,20.4,27.9,26.2,24.6,19.4,23.3,23.9,20.9,22.2,23.8,26.8,14.2,23.6,19.1,16.2,25.5,10.9,14.8,16.2,17.3,19.1,8.9,10.5,19.3,23.4,11.8,17.7,17.4,16.8,17.9,16.6,19.9,18.9,15.5,18.9,18.9,14.5,4.6,5.1,4.6,10.2,11.2,13.3,13.7,17.6,18.0,14.3,24.5,26.4,22.7,27.2,26.1,18.2,22.6,30.2,30.2,23.4,31.0,33.1,30.6,24.1,26.4,19.4,20.6,28.7,32.4,32.4,27.5,30.8,23.9,32.6,32.3,33.3,27.3,21.6,21.6,20.7,29.2,28.9,26.7,18.5,25.9,25.9,21.1,18.2,27.8,27.8,21.9,21.2,25.6,11.8],\"xaxis\":\"x\",\"y\":[\"mar\",\"oct\",\"oct\",\"mar\",\"mar\",\"aug\",\"aug\",\"aug\",\"sep\",\"sep\",\"sep\",\"sep\",\"aug\",\"sep\",\"sep\",\"sep\",\"mar\",\"oct\",\"mar\",\"apr\",\"sep\",\"sep\",\"jun\",\"aug\",\"aug\",\"aug\",\"sep\",\"sep\",\"sep\",\"sep\",\"sep\",\"sep\",\"sep\",\"sep\",\"sep\",\"sep\",\"oct\",\"oct\",\"oct\",\"mar\",\"jul\",\"aug\",\"aug\",\"sep\",\"sep\",\"sep\",\"sep\",\"jul\",\"mar\",\"mar\",\"sep\",\"aug\",\"aug\",\"aug\",\"aug\",\"sep\",\"sep\",\"oct\",\"feb\",\"feb\",\"mar\",\"mar\",\"aug\",\"aug\",\"aug\",\"aug\",\"sep\",\"sep\",\"sep\",\"mar\",\"mar\",\"sep\",\"mar\",\"aug\",\"sep\",\"feb\",\"feb\",\"mar\",\"aug\",\"aug\",\"aug\",\"aug\",\"aug\",\"aug\",\"aug\",\"sep\",\"sep\",\"sep\",\"sep\",\"mar\",\"aug\",\"mar\",\"aug\",\"aug\",\"aug\",\"sep\",\"feb\",\"mar\",\"aug\",\"aug\",\"aug\",\"aug\",\"aug\",\"sep\",\"jan\",\"mar\",\"mar\",\"aug\",\"sep\",\"sep\",\"mar\",\"mar\",\"sep\",\"sep\",\"mar\",\"mar\",\"mar\",\"mar\",\"mar\",\"aug\",\"aug\",\"aug\",\"sep\",\"sep\",\"sep\",\"oct\",\"mar\",\"sep\",\"oct\",\"oct\",\"feb\",\"mar\",\"mar\",\"sep\",\"mar\",\"aug\",\"sep\",\"sep\",\"jul\",\"sep\",\"sep\",\"aug\",\"aug\",\"jul\",\"aug\",\"aug\",\"mar\",\"sep\",\"aug\",\"sep\",\"jun\",\"jul\",\"jul\",\"sep\",\"sep\",\"aug\",\"sep\",\"aug\",\"aug\",\"sep\",\"mar\",\"aug\",\"mar\",\"sep\",\"sep\",\"mar\",\"aug\",\"aug\",\"mar\",\"aug\",\"sep\",\"aug\",\"aug\",\"sep\",\"aug\",\"aug\",\"apr\",\"aug\",\"sep\",\"aug\",\"sep\",\"oct\",\"feb\",\"oct\",\"aug\",\"sep\",\"mar\",\"sep\",\"mar\",\"mar\",\"mar\",\"aug\",\"aug\",\"sep\",\"aug\",\"aug\",\"apr\",\"sep\",\"sep\",\"sep\",\"sep\",\"mar\",\"feb\",\"oct\",\"mar\",\"sep\",\"aug\",\"sep\",\"sep\",\"sep\",\"oct\",\"aug\",\"sep\",\"mar\",\"mar\",\"mar\",\"sep\",\"sep\",\"sep\",\"mar\",\"aug\",\"sep\",\"mar\",\"jul\",\"sep\",\"sep\",\"oct\",\"aug\",\"sep\",\"aug\",\"sep\",\"sep\",\"sep\",\"sep\",\"sep\",\"aug\",\"sep\",\"sep\",\"sep\",\"apr\",\"apr\",\"apr\",\"aug\",\"aug\",\"aug\",\"aug\",\"aug\",\"aug\",\"aug\",\"aug\",\"aug\",\"aug\",\"aug\",\"aug\",\"aug\",\"aug\",\"aug\",\"aug\",\"aug\",\"aug\",\"aug\",\"aug\",\"aug\",\"aug\",\"aug\",\"aug\",\"aug\",\"aug\",\"aug\",\"aug\",\"aug\",\"aug\",\"aug\",\"dec\",\"dec\",\"dec\",\"dec\",\"dec\",\"dec\",\"dec\",\"dec\",\"dec\",\"feb\",\"feb\",\"feb\",\"jul\",\"jul\",\"jul\",\"jul\",\"jul\",\"jul\",\"jul\",\"jul\",\"jul\",\"jul\",\"jun\",\"jun\",\"jun\",\"jun\",\"jun\",\"jun\",\"jun\",\"jun\",\"jun\",\"may\",\"sep\",\"sep\",\"sep\",\"sep\",\"sep\",\"sep\",\"sep\",\"sep\",\"sep\",\"sep\",\"sep\",\"sep\",\"sep\",\"sep\",\"sep\",\"sep\",\"sep\",\"sep\",\"sep\",\"sep\",\"sep\",\"sep\",\"sep\",\"sep\",\"sep\",\"sep\",\"sep\",\"sep\",\"sep\",\"sep\",\"sep\",\"sep\",\"sep\",\"sep\",\"sep\",\"sep\",\"sep\",\"sep\",\"sep\",\"sep\",\"sep\",\"sep\",\"sep\",\"sep\",\"sep\",\"sep\",\"sep\",\"sep\",\"sep\",\"sep\",\"sep\",\"sep\",\"sep\",\"sep\",\"sep\",\"sep\",\"sep\",\"sep\",\"sep\",\"sep\",\"sep\",\"sep\",\"sep\",\"sep\",\"sep\",\"sep\",\"jul\",\"aug\",\"aug\",\"sep\",\"sep\",\"aug\",\"aug\",\"mar\",\"jan\",\"jul\",\"aug\",\"aug\",\"aug\",\"aug\",\"aug\",\"sep\",\"mar\",\"aug\",\"aug\",\"feb\",\"sep\",\"sep\",\"mar\",\"feb\",\"feb\",\"sep\",\"aug\",\"aug\",\"jun\",\"jun\",\"sep\",\"aug\",\"aug\",\"sep\",\"aug\",\"sep\",\"feb\",\"sep\",\"jul\",\"feb\",\"feb\",\"jul\",\"aug\",\"aug\",\"aug\",\"jul\",\"mar\",\"aug\",\"aug\",\"aug\",\"aug\",\"jul\",\"sep\",\"aug\",\"aug\",\"aug\",\"aug\",\"aug\",\"aug\",\"sep\",\"aug\",\"aug\",\"aug\",\"aug\",\"jul\",\"aug\",\"aug\",\"aug\",\"sep\",\"sep\",\"aug\",\"apr\",\"jul\",\"sep\",\"aug\",\"aug\",\"mar\",\"sep\",\"aug\",\"aug\",\"aug\",\"aug\",\"aug\",\"aug\",\"jul\",\"aug\",\"aug\",\"aug\",\"aug\",\"aug\",\"aug\",\"sep\",\"feb\",\"feb\",\"feb\",\"mar\",\"mar\",\"mar\",\"apr\",\"apr\",\"may\",\"jun\",\"jun\",\"jun\",\"jun\",\"jul\",\"jul\",\"jul\",\"jul\",\"jul\",\"jul\",\"aug\",\"aug\",\"aug\",\"aug\",\"aug\",\"aug\",\"aug\",\"aug\",\"aug\",\"aug\",\"aug\",\"aug\",\"aug\",\"aug\",\"aug\",\"aug\",\"aug\",\"aug\",\"aug\",\"aug\",\"aug\",\"aug\",\"aug\",\"aug\",\"aug\",\"aug\",\"aug\",\"aug\",\"aug\",\"aug\",\"aug\",\"aug\",\"aug\",\"aug\",\"nov\"],\"yaxis\":\"y\",\"type\":\"bar\"}],                        {\"template\":{\"data\":{\"histogram2dcontour\":[{\"type\":\"histogram2dcontour\",\"colorbar\":{\"outlinewidth\":0,\"ticks\":\"\"},\"colorscale\":[[0.0,\"#0d0887\"],[0.1111111111111111,\"#46039f\"],[0.2222222222222222,\"#7201a8\"],[0.3333333333333333,\"#9c179e\"],[0.4444444444444444,\"#bd3786\"],[0.5555555555555556,\"#d8576b\"],[0.6666666666666666,\"#ed7953\"],[0.7777777777777778,\"#fb9f3a\"],[0.8888888888888888,\"#fdca26\"],[1.0,\"#f0f921\"]]}],\"choropleth\":[{\"type\":\"choropleth\",\"colorbar\":{\"outlinewidth\":0,\"ticks\":\"\"}}],\"histogram2d\":[{\"type\":\"histogram2d\",\"colorbar\":{\"outlinewidth\":0,\"ticks\":\"\"},\"colorscale\":[[0.0,\"#0d0887\"],[0.1111111111111111,\"#46039f\"],[0.2222222222222222,\"#7201a8\"],[0.3333333333333333,\"#9c179e\"],[0.4444444444444444,\"#bd3786\"],[0.5555555555555556,\"#d8576b\"],[0.6666666666666666,\"#ed7953\"],[0.7777777777777778,\"#fb9f3a\"],[0.8888888888888888,\"#fdca26\"],[1.0,\"#f0f921\"]]}],\"heatmap\":[{\"type\":\"heatmap\",\"colorbar\":{\"outlinewidth\":0,\"ticks\":\"\"},\"colorscale\":[[0.0,\"#0d0887\"],[0.1111111111111111,\"#46039f\"],[0.2222222222222222,\"#7201a8\"],[0.3333333333333333,\"#9c179e\"],[0.4444444444444444,\"#bd3786\"],[0.5555555555555556,\"#d8576b\"],[0.6666666666666666,\"#ed7953\"],[0.7777777777777778,\"#fb9f3a\"],[0.8888888888888888,\"#fdca26\"],[1.0,\"#f0f921\"]]}],\"heatmapgl\":[{\"type\":\"heatmapgl\",\"colorbar\":{\"outlinewidth\":0,\"ticks\":\"\"},\"colorscale\":[[0.0,\"#0d0887\"],[0.1111111111111111,\"#46039f\"],[0.2222222222222222,\"#7201a8\"],[0.3333333333333333,\"#9c179e\"],[0.4444444444444444,\"#bd3786\"],[0.5555555555555556,\"#d8576b\"],[0.6666666666666666,\"#ed7953\"],[0.7777777777777778,\"#fb9f3a\"],[0.8888888888888888,\"#fdca26\"],[1.0,\"#f0f921\"]]}],\"contourcarpet\":[{\"type\":\"contourcarpet\",\"colorbar\":{\"outlinewidth\":0,\"ticks\":\"\"}}],\"contour\":[{\"type\":\"contour\",\"colorbar\":{\"outlinewidth\":0,\"ticks\":\"\"},\"colorscale\":[[0.0,\"#0d0887\"],[0.1111111111111111,\"#46039f\"],[0.2222222222222222,\"#7201a8\"],[0.3333333333333333,\"#9c179e\"],[0.4444444444444444,\"#bd3786\"],[0.5555555555555556,\"#d8576b\"],[0.6666666666666666,\"#ed7953\"],[0.7777777777777778,\"#fb9f3a\"],[0.8888888888888888,\"#fdca26\"],[1.0,\"#f0f921\"]]}],\"surface\":[{\"type\":\"surface\",\"colorbar\":{\"outlinewidth\":0,\"ticks\":\"\"},\"colorscale\":[[0.0,\"#0d0887\"],[0.1111111111111111,\"#46039f\"],[0.2222222222222222,\"#7201a8\"],[0.3333333333333333,\"#9c179e\"],[0.4444444444444444,\"#bd3786\"],[0.5555555555555556,\"#d8576b\"],[0.6666666666666666,\"#ed7953\"],[0.7777777777777778,\"#fb9f3a\"],[0.8888888888888888,\"#fdca26\"],[1.0,\"#f0f921\"]]}],\"mesh3d\":[{\"type\":\"mesh3d\",\"colorbar\":{\"outlinewidth\":0,\"ticks\":\"\"}}],\"scatter\":[{\"fillpattern\":{\"fillmode\":\"overlay\",\"size\":10,\"solidity\":0.2},\"type\":\"scatter\"}],\"parcoords\":[{\"type\":\"parcoords\",\"line\":{\"colorbar\":{\"outlinewidth\":0,\"ticks\":\"\"}}}],\"scatterpolargl\":[{\"type\":\"scatterpolargl\",\"marker\":{\"colorbar\":{\"outlinewidth\":0,\"ticks\":\"\"}}}],\"bar\":[{\"error_x\":{\"color\":\"#2a3f5f\"},\"error_y\":{\"color\":\"#2a3f5f\"},\"marker\":{\"line\":{\"color\":\"#E5ECF6\",\"width\":0.5},\"pattern\":{\"fillmode\":\"overlay\",\"size\":10,\"solidity\":0.2}},\"type\":\"bar\"}],\"scattergeo\":[{\"type\":\"scattergeo\",\"marker\":{\"colorbar\":{\"outlinewidth\":0,\"ticks\":\"\"}}}],\"scatterpolar\":[{\"type\":\"scatterpolar\",\"marker\":{\"colorbar\":{\"outlinewidth\":0,\"ticks\":\"\"}}}],\"histogram\":[{\"marker\":{\"pattern\":{\"fillmode\":\"overlay\",\"size\":10,\"solidity\":0.2}},\"type\":\"histogram\"}],\"scattergl\":[{\"type\":\"scattergl\",\"marker\":{\"colorbar\":{\"outlinewidth\":0,\"ticks\":\"\"}}}],\"scatter3d\":[{\"type\":\"scatter3d\",\"line\":{\"colorbar\":{\"outlinewidth\":0,\"ticks\":\"\"}},\"marker\":{\"colorbar\":{\"outlinewidth\":0,\"ticks\":\"\"}}}],\"scattermapbox\":[{\"type\":\"scattermapbox\",\"marker\":{\"colorbar\":{\"outlinewidth\":0,\"ticks\":\"\"}}}],\"scatterternary\":[{\"type\":\"scatterternary\",\"marker\":{\"colorbar\":{\"outlinewidth\":0,\"ticks\":\"\"}}}],\"scattercarpet\":[{\"type\":\"scattercarpet\",\"marker\":{\"colorbar\":{\"outlinewidth\":0,\"ticks\":\"\"}}}],\"carpet\":[{\"aaxis\":{\"endlinecolor\":\"#2a3f5f\",\"gridcolor\":\"white\",\"linecolor\":\"white\",\"minorgridcolor\":\"white\",\"startlinecolor\":\"#2a3f5f\"},\"baxis\":{\"endlinecolor\":\"#2a3f5f\",\"gridcolor\":\"white\",\"linecolor\":\"white\",\"minorgridcolor\":\"white\",\"startlinecolor\":\"#2a3f5f\"},\"type\":\"carpet\"}],\"table\":[{\"cells\":{\"fill\":{\"color\":\"#EBF0F8\"},\"line\":{\"color\":\"white\"}},\"header\":{\"fill\":{\"color\":\"#C8D4E3\"},\"line\":{\"color\":\"white\"}},\"type\":\"table\"}],\"barpolar\":[{\"marker\":{\"line\":{\"color\":\"#E5ECF6\",\"width\":0.5},\"pattern\":{\"fillmode\":\"overlay\",\"size\":10,\"solidity\":0.2}},\"type\":\"barpolar\"}],\"pie\":[{\"automargin\":true,\"type\":\"pie\"}]},\"layout\":{\"autotypenumbers\":\"strict\",\"colorway\":[\"#636efa\",\"#EF553B\",\"#00cc96\",\"#ab63fa\",\"#FFA15A\",\"#19d3f3\",\"#FF6692\",\"#B6E880\",\"#FF97FF\",\"#FECB52\"],\"font\":{\"color\":\"#2a3f5f\"},\"hovermode\":\"closest\",\"hoverlabel\":{\"align\":\"left\"},\"paper_bgcolor\":\"white\",\"plot_bgcolor\":\"#E5ECF6\",\"polar\":{\"bgcolor\":\"#E5ECF6\",\"angularaxis\":{\"gridcolor\":\"white\",\"linecolor\":\"white\",\"ticks\":\"\"},\"radialaxis\":{\"gridcolor\":\"white\",\"linecolor\":\"white\",\"ticks\":\"\"}},\"ternary\":{\"bgcolor\":\"#E5ECF6\",\"aaxis\":{\"gridcolor\":\"white\",\"linecolor\":\"white\",\"ticks\":\"\"},\"baxis\":{\"gridcolor\":\"white\",\"linecolor\":\"white\",\"ticks\":\"\"},\"caxis\":{\"gridcolor\":\"white\",\"linecolor\":\"white\",\"ticks\":\"\"}},\"coloraxis\":{\"colorbar\":{\"outlinewidth\":0,\"ticks\":\"\"}},\"colorscale\":{\"sequential\":[[0.0,\"#0d0887\"],[0.1111111111111111,\"#46039f\"],[0.2222222222222222,\"#7201a8\"],[0.3333333333333333,\"#9c179e\"],[0.4444444444444444,\"#bd3786\"],[0.5555555555555556,\"#d8576b\"],[0.6666666666666666,\"#ed7953\"],[0.7777777777777778,\"#fb9f3a\"],[0.8888888888888888,\"#fdca26\"],[1.0,\"#f0f921\"]],\"sequentialminus\":[[0.0,\"#0d0887\"],[0.1111111111111111,\"#46039f\"],[0.2222222222222222,\"#7201a8\"],[0.3333333333333333,\"#9c179e\"],[0.4444444444444444,\"#bd3786\"],[0.5555555555555556,\"#d8576b\"],[0.6666666666666666,\"#ed7953\"],[0.7777777777777778,\"#fb9f3a\"],[0.8888888888888888,\"#fdca26\"],[1.0,\"#f0f921\"]],\"diverging\":[[0,\"#8e0152\"],[0.1,\"#c51b7d\"],[0.2,\"#de77ae\"],[0.3,\"#f1b6da\"],[0.4,\"#fde0ef\"],[0.5,\"#f7f7f7\"],[0.6,\"#e6f5d0\"],[0.7,\"#b8e186\"],[0.8,\"#7fbc41\"],[0.9,\"#4d9221\"],[1,\"#276419\"]]},\"xaxis\":{\"gridcolor\":\"white\",\"linecolor\":\"white\",\"ticks\":\"\",\"title\":{\"standoff\":15},\"zerolinecolor\":\"white\",\"automargin\":true,\"zerolinewidth\":2},\"yaxis\":{\"gridcolor\":\"white\",\"linecolor\":\"white\",\"ticks\":\"\",\"title\":{\"standoff\":15},\"zerolinecolor\":\"white\",\"automargin\":true,\"zerolinewidth\":2},\"scene\":{\"xaxis\":{\"backgroundcolor\":\"#E5ECF6\",\"gridcolor\":\"white\",\"linecolor\":\"white\",\"showbackground\":true,\"ticks\":\"\",\"zerolinecolor\":\"white\",\"gridwidth\":2},\"yaxis\":{\"backgroundcolor\":\"#E5ECF6\",\"gridcolor\":\"white\",\"linecolor\":\"white\",\"showbackground\":true,\"ticks\":\"\",\"zerolinecolor\":\"white\",\"gridwidth\":2},\"zaxis\":{\"backgroundcolor\":\"#E5ECF6\",\"gridcolor\":\"white\",\"linecolor\":\"white\",\"showbackground\":true,\"ticks\":\"\",\"zerolinecolor\":\"white\",\"gridwidth\":2}},\"shapedefaults\":{\"line\":{\"color\":\"#2a3f5f\"}},\"annotationdefaults\":{\"arrowcolor\":\"#2a3f5f\",\"arrowhead\":0,\"arrowwidth\":1},\"geo\":{\"bgcolor\":\"white\",\"landcolor\":\"#E5ECF6\",\"subunitcolor\":\"white\",\"showland\":true,\"showlakes\":true,\"lakecolor\":\"white\"},\"title\":{\"x\":0.05},\"mapbox\":{\"style\":\"light\"}}},\"xaxis\":{\"anchor\":\"y\",\"domain\":[0.0,1.0],\"title\":{\"text\":\"x\"}},\"yaxis\":{\"anchor\":\"x\",\"domain\":[0.0,1.0],\"title\":{\"text\":\"y\"}},\"legend\":{\"tracegroupgap\":0},\"margin\":{\"t\":60},\"barmode\":\"relative\"},                        {\"responsive\": true}                    ).then(function(){\n",
       "                            \n",
       "var gd = document.getElementById('8a32bb15-902f-48a0-ade1-c8e1265da869');\n",
       "var x = new MutationObserver(function (mutations, observer) {{\n",
       "        var display = window.getComputedStyle(gd).display;\n",
       "        if (!display || display === 'none') {{\n",
       "            console.log([gd, 'removed!']);\n",
       "            Plotly.purge(gd);\n",
       "            observer.disconnect();\n",
       "        }}\n",
       "}});\n",
       "\n",
       "// Listen for the removal of the full notebook cells\n",
       "var notebookContainer = gd.closest('#notebook-container');\n",
       "if (notebookContainer) {{\n",
       "    x.observe(notebookContainer, {childList: true});\n",
       "}}\n",
       "\n",
       "// Listen for the clearing of the current output cell\n",
       "var outputEl = gd.closest('.output');\n",
       "if (outputEl) {{\n",
       "    x.observe(outputEl, {childList: true});\n",
       "}}\n",
       "\n",
       "                        })                };                });            </script>        </div>"
      ]
     },
     "metadata": {},
     "output_type": "display_data"
    }
   ],
   "source": [
    "import plotly.express as px\n",
    "\n",
    "\n",
    "fig = px.bar(x=fire[\"temp\"], y=fire[\"month\"])\n",
    "fig.show()"
   ]
  },
  {
   "cell_type": "code",
   "execution_count": 16,
   "id": "92ca7e87",
   "metadata": {},
   "outputs": [
    {
     "data": {
      "application/vnd.plotly.v1+json": {
       "config": {
        "plotlyServerURL": "https://plot.ly"
       },
       "data": [
        {
         "alignmentgroup": "True",
         "hovertemplate": "x=%{x}<br>y=%{y}<extra></extra>",
         "legendgroup": "",
         "marker": {
          "color": "#636efa",
          "pattern": {
           "shape": ""
          }
         },
         "name": "",
         "offsetgroup": "",
         "orientation": "h",
         "showlegend": false,
         "textposition": "auto",
         "type": "bar",
         "x": [
          8.2,
          18,
          14.6,
          8.3,
          11.4,
          22.2,
          24.1,
          8,
          13.1,
          22.8,
          17.8,
          19.3,
          17,
          21.3,
          26.4,
          22.9,
          15.1,
          16.7,
          15.9,
          9.3,
          18.3,
          19.1,
          21,
          19.5,
          23.7,
          16.3,
          19,
          19.4,
          30.2,
          22.8,
          25.4,
          11.2,
          20.6,
          17.7,
          21.2,
          18.2,
          21.7,
          11.3,
          17.8,
          14.1,
          23.3,
          18.4,
          16.6,
          19.6,
          12.9,
          25.9,
          14.7,
          23,
          11.8,
          11,
          20.8,
          21.5,
          20.4,
          20.4,
          17.6,
          27.7,
          17.8,
          13.8,
          13.9,
          12.3,
          11.5,
          5.5,
          18.8,
          20.8,
          23.1,
          18.6,
          23,
          19.6,
          19.6,
          17.2,
          15.8,
          17.7,
          15.6,
          17.3,
          27.6,
          6.7,
          15.7,
          8.3,
          14.7,
          21.6,
          19.5,
          17.9,
          18.6,
          16.6,
          20.2,
          21.5,
          25.4,
          22.4,
          25.3,
          17.4,
          14.7,
          17.4,
          20.8,
          18.2,
          23.4,
          17.8,
          12.7,
          17.4,
          11.6,
          19.8,
          19.8,
          14.4,
          20.1,
          24.1,
          5.3,
          12.7,
          18.2,
          21.4,
          20.3,
          17.4,
          13.7,
          18.8,
          22.8,
          18.9,
          15.8,
          15.5,
          11.6,
          15.2,
          10.6,
          19.6,
          10.3,
          17.1,
          22.5,
          17.9,
          19.8,
          20.6,
          9,
          17.2,
          15.9,
          15.4,
          15.4,
          14,
          10.6,
          17.6,
          14.9,
          17.6,
          17.2,
          15.6,
          18,
          21.7,
          21.9,
          23.3,
          21.2,
          16.6,
          23.8,
          27.4,
          13.2,
          24.2,
          17.4,
          23.7,
          23.2,
          24.8,
          24.6,
          20.1,
          29.6,
          16.4,
          28.6,
          18.4,
          20.5,
          19,
          16.1,
          20.3,
          15.2,
          17.8,
          17.8,
          5.3,
          16.6,
          23.4,
          14.6,
          20.7,
          21.9,
          17.4,
          20.1,
          17.7,
          14.2,
          20.3,
          5.8,
          19.2,
          18.3,
          14.4,
          23.9,
          19.1,
          12.4,
          16.8,
          20.8,
          17.6,
          11.5,
          21,
          13.3,
          11.5,
          11.7,
          24.2,
          24.6,
          24.3,
          24.6,
          23.5,
          5.8,
          21.5,
          13.9,
          22.6,
          21.6,
          12.4,
          8.8,
          20.2,
          15.1,
          22.1,
          22.9,
          20.7,
          19.6,
          23.2,
          18.4,
          5.1,
          20.1,
          11,
          17,
          17,
          16.9,
          12.4,
          19.4,
          15.2,
          16.2,
          18.6,
          11,
          13.4,
          15.4,
          22.9,
          16.1,
          20.1,
          28.3,
          16.4,
          26.4,
          27.8,
          18.7,
          24.3,
          17.7,
          19.6,
          18.2,
          18.8,
          25.1,
          13.4,
          15.2,
          16.7,
          15.4,
          21.9,
          22.4,
          26.8,
          25.7,
          20.7,
          28.7,
          21.7,
          26.8,
          24,
          22.1,
          21.4,
          18.9,
          22.3,
          23.9,
          21.4,
          20.6,
          23.7,
          28.3,
          11.2,
          21.4,
          19.3,
          21.8,
          22.1,
          19.4,
          23.7,
          21,
          19.1,
          21.8,
          20.1,
          20.2,
          4.8,
          5.1,
          5.1,
          4.6,
          4.6,
          4.6,
          4.6,
          2.2,
          5.1,
          4.2,
          8.8,
          7.5,
          23.4,
          12.6,
          22.1,
          24.2,
          24.3,
          18.7,
          25.3,
          22.9,
          26.9,
          17.1,
          22.2,
          14.3,
          15.4,
          19.6,
          10.6,
          20.7,
          19.1,
          19.2,
          19.2,
          11.3,
          19,
          17.1,
          23.8,
          16,
          24.9,
          25.3,
          24.8,
          12.2,
          24.3,
          19.7,
          18.5,
          18.6,
          19.2,
          21.6,
          21.6,
          18.9,
          16.8,
          16.8,
          12.9,
          13.7,
          24.2,
          24.1,
          21.2,
          19.7,
          23.5,
          24.2,
          21.5,
          17.1,
          18.1,
          18,
          9.8,
          19.3,
          23,
          22.7,
          20.4,
          19.3,
          15.7,
          20.6,
          15.9,
          12.2,
          16.8,
          21.3,
          10.1,
          17.4,
          12.8,
          10.1,
          15.4,
          20.6,
          19.8,
          18.7,
          20.8,
          20.8,
          15.9,
          19.7,
          21.1,
          18.4,
          17.3,
          15.2,
          15.9,
          21.1,
          19.6,
          15.9,
          16.4,
          16.8,
          13.8,
          13.8,
          14.2,
          10.4,
          20.3,
          10.3,
          15.4,
          21.1,
          21.9,
          8.7,
          5.2,
          19.3,
          16.2,
          28.2,
          20.5,
          21.3,
          20.9,
          20.6,
          11.6,
          23.3,
          23.3,
          7.5,
          20.7,
          21.9,
          15.2,
          5.3,
          10.1,
          20.4,
          24.3,
          25.9,
          28,
          28,
          22.8,
          25,
          21.3,
          21.8,
          27.9,
          17,
          14.2,
          19.9,
          23.4,
          14.7,
          8.2,
          22.8,
          26.4,
          24.1,
          27.5,
          26.3,
          13.8,
          24.9,
          24.8,
          26.2,
          30.8,
          29.3,
          22.3,
          26.9,
          20.4,
          20.4,
          27.9,
          26.2,
          24.6,
          19.4,
          23.3,
          23.9,
          20.9,
          22.2,
          23.8,
          26.8,
          14.2,
          23.6,
          19.1,
          16.2,
          25.5,
          10.9,
          14.8,
          16.2,
          17.3,
          19.1,
          8.9,
          10.5,
          19.3,
          23.4,
          11.8,
          17.7,
          17.4,
          16.8,
          17.9,
          16.6,
          19.9,
          18.9,
          15.5,
          18.9,
          18.9,
          14.5,
          4.6,
          5.1,
          4.6,
          10.2,
          11.2,
          13.3,
          13.7,
          17.6,
          18,
          14.3,
          24.5,
          26.4,
          22.7,
          27.2,
          26.1,
          18.2,
          22.6,
          30.2,
          30.2,
          23.4,
          31,
          33.1,
          30.6,
          24.1,
          26.4,
          19.4,
          20.6,
          28.7,
          32.4,
          32.4,
          27.5,
          30.8,
          23.9,
          32.6,
          32.3,
          33.3,
          27.3,
          21.6,
          21.6,
          20.7,
          29.2,
          28.9,
          26.7,
          18.5,
          25.9,
          25.9,
          21.1,
          18.2,
          27.8,
          27.8,
          21.9,
          21.2,
          25.6,
          11.8
         ],
         "xaxis": "x",
         "y": [
          "fri",
          "tue",
          "sat",
          "fri",
          "sun",
          "sun",
          "mon",
          "mon",
          "tue",
          "sat",
          "sat",
          "sat",
          "fri",
          "mon",
          "wed",
          "fri",
          "sat",
          "mon",
          "wed",
          "sat",
          "tue",
          "mon",
          "sun",
          "sat",
          "sat",
          "sun",
          "fri",
          "mon",
          "sat",
          "sun",
          "fri",
          "mon",
          "fri",
          "sun",
          "mon",
          "tue",
          "tue",
          "fri",
          "sat",
          "tue",
          "tue",
          "sat",
          "tue",
          "sat",
          "wed",
          "wed",
          "mon",
          "mon",
          "mon",
          "mon",
          "thu",
          "sun",
          "wed",
          "wed",
          "thu",
          "thu",
          "tue",
          "sun",
          "mon",
          "fri",
          "sun",
          "sun",
          "thu",
          "sun",
          "mon",
          "thu",
          "fri",
          "fri",
          "fri",
          "fri",
          "fri",
          "fri",
          "fri",
          "tue",
          "fri",
          "thu",
          "fri",
          "mon",
          "fri",
          "tue",
          "sun",
          "sun",
          "tue",
          "wed",
          "thu",
          "thu",
          "thu",
          "thu",
          "sun",
          "sat",
          "sat",
          "fri",
          "sun",
          "sun",
          "mon",
          "sun",
          "sat",
          "sat",
          "sun",
          "sun",
          "sun",
          "tue",
          "tue",
          "sat",
          "sat",
          "fri",
          "thu",
          "sun",
          "sat",
          "mon",
          "fri",
          "fri",
          "sun",
          "mon",
          "tue",
          "tue",
          "sat",
          "sat",
          "mon",
          "thu",
          "mon",
          "mon",
          "sun",
          "tue",
          "fri",
          "sun",
          "mon",
          "fri",
          "wed",
          "sun",
          "sat",
          "mon",
          "sun",
          "thu",
          "tue",
          "sat",
          "sun",
          "mon",
          "tue",
          "tue",
          "mon",
          "wed",
          "fri",
          "sat",
          "wed",
          "thu",
          "mon",
          "tue",
          "tue",
          "thu",
          "fri",
          "sun",
          "sat",
          "fri",
          "sat",
          "sun",
          "sat",
          "wed",
          "wed",
          "fri",
          "mon",
          "thu",
          "sat",
          "sat",
          "sun",
          "thu",
          "wed",
          "wed",
          "fri",
          "thu",
          "wed",
          "wed",
          "sun",
          "mon",
          "sat",
          "sat",
          "thu",
          "sun",
          "wed",
          "tue",
          "sun",
          "mon",
          "sun",
          "mon",
          "fri",
          "tue",
          "sun",
          "mon",
          "sat",
          "sun",
          "fri",
          "thu",
          "tue",
          "wed",
          "tue",
          "fri",
          "thu",
          "thu",
          "tue",
          "mon",
          "tue",
          "sun",
          "sun",
          "wed",
          "sat",
          "thu",
          "sat",
          "tue",
          "fri",
          "thu",
          "sat",
          "sat",
          "fri",
          "mon",
          "sat",
          "sat",
          "sun",
          "mon",
          "wed",
          "mon",
          "sun",
          "fri",
          "mon",
          "fri",
          "wed",
          "sun",
          "mon",
          "sat",
          "sun",
          "sat",
          "wed",
          "sun",
          "tue",
          "tue",
          "sat",
          "sun",
          "sat",
          "tue",
          "sat",
          "sun",
          "wed",
          "fri",
          "sun",
          "sun",
          "sun",
          "sun",
          "sun",
          "wed",
          "wed",
          "wed",
          "wed",
          "wed",
          "wed",
          "thu",
          "thu",
          "thu",
          "sat",
          "sat",
          "sat",
          "sat",
          "mon",
          "fri",
          "fri",
          "fri",
          "fri",
          "tue",
          "tue",
          "tue",
          "tue",
          "tue",
          "tue",
          "tue",
          "tue",
          "sun",
          "wed",
          "thu",
          "mon",
          "mon",
          "mon",
          "mon",
          "fri",
          "tue",
          "sun",
          "wed",
          "fri",
          "sun",
          "wed",
          "sat",
          "sat",
          "sat",
          "sat",
          "sat",
          "fri",
          "tue",
          "tue",
          "sun",
          "sun",
          "sun",
          "wed",
          "sat",
          "mon",
          "mon",
          "fri",
          "fri",
          "sat",
          "sun",
          "sun",
          "sun",
          "sun",
          "sun",
          "sun",
          "sun",
          "sun",
          "wed",
          "wed",
          "wed",
          "thu",
          "thu",
          "thu",
          "thu",
          "thu",
          "thu",
          "thu",
          "thu",
          "thu",
          "sat",
          "sat",
          "sat",
          "sat",
          "sat",
          "sat",
          "sat",
          "sat",
          "mon",
          "mon",
          "mon",
          "mon",
          "mon",
          "mon",
          "mon",
          "mon",
          "mon",
          "mon",
          "mon",
          "mon",
          "mon",
          "mon",
          "fri",
          "fri",
          "fri",
          "fri",
          "fri",
          "fri",
          "fri",
          "fri",
          "fri",
          "fri",
          "fri",
          "fri",
          "fri",
          "fri",
          "fri",
          "fri",
          "tue",
          "tue",
          "tue",
          "tue",
          "tue",
          "sat",
          "sun",
          "sun",
          "wed",
          "sun",
          "thu",
          "fri",
          "sat",
          "mon",
          "sat",
          "thu",
          "sun",
          "wed",
          "thu",
          "wed",
          "thu",
          "sat",
          "sun",
          "sun",
          "thu",
          "fri",
          "fri",
          "mon",
          "fri",
          "sun",
          "tue",
          "mon",
          "sun",
          "sun",
          "sun",
          "sat",
          "wed",
          "wed",
          "thu",
          "fri",
          "thu",
          "wed",
          "tue",
          "sat",
          "sat",
          "fri",
          "tue",
          "fri",
          "fri",
          "mon",
          "sat",
          "sun",
          "thu",
          "tue",
          "wed",
          "sun",
          "sun",
          "wed",
          "wed",
          "sun",
          "sat",
          "sat",
          "thu",
          "thu",
          "mon",
          "thu",
          "sun",
          "thu",
          "sat",
          "thu",
          "sun",
          "fri",
          "sat",
          "mon",
          "sat",
          "sat",
          "fri",
          "fri",
          "mon",
          "mon",
          "fri",
          "fri",
          "sun",
          "sun",
          "wed",
          "wed",
          "sun",
          "wed",
          "fri",
          "mon",
          "thu",
          "thu",
          "mon",
          "thu",
          "wed",
          "sat",
          "sat",
          "sat",
          "sat",
          "sun",
          "tue",
          "tue",
          "sat",
          "mon",
          "wed",
          "thu",
          "sun",
          "sun",
          "fri",
          "mon",
          "sat",
          "thu",
          "thu",
          "thu",
          "sun",
          "sun",
          "mon",
          "thu",
          "thu",
          "sun",
          "sun",
          "sun",
          "mon",
          "tue",
          "tue",
          "tue",
          "wed",
          "wed",
          "thu",
          "fri",
          "fri",
          "sat",
          "mon",
          "mon",
          "tue",
          "tue",
          "tue",
          "tue",
          "tue",
          "tue",
          "wed",
          "wed",
          "thu",
          "fri",
          "fri",
          "fri",
          "fri",
          "fri",
          "sun",
          "sun",
          "sun",
          "sun",
          "sat",
          "tue"
         ],
         "yaxis": "y"
        }
       ],
       "layout": {
        "barmode": "relative",
        "legend": {
         "tracegroupgap": 0
        },
        "margin": {
         "t": 60
        },
        "template": {
         "data": {
          "bar": [
           {
            "error_x": {
             "color": "#2a3f5f"
            },
            "error_y": {
             "color": "#2a3f5f"
            },
            "marker": {
             "line": {
              "color": "#E5ECF6",
              "width": 0.5
             },
             "pattern": {
              "fillmode": "overlay",
              "size": 10,
              "solidity": 0.2
             }
            },
            "type": "bar"
           }
          ],
          "barpolar": [
           {
            "marker": {
             "line": {
              "color": "#E5ECF6",
              "width": 0.5
             },
             "pattern": {
              "fillmode": "overlay",
              "size": 10,
              "solidity": 0.2
             }
            },
            "type": "barpolar"
           }
          ],
          "carpet": [
           {
            "aaxis": {
             "endlinecolor": "#2a3f5f",
             "gridcolor": "white",
             "linecolor": "white",
             "minorgridcolor": "white",
             "startlinecolor": "#2a3f5f"
            },
            "baxis": {
             "endlinecolor": "#2a3f5f",
             "gridcolor": "white",
             "linecolor": "white",
             "minorgridcolor": "white",
             "startlinecolor": "#2a3f5f"
            },
            "type": "carpet"
           }
          ],
          "choropleth": [
           {
            "colorbar": {
             "outlinewidth": 0,
             "ticks": ""
            },
            "type": "choropleth"
           }
          ],
          "contour": [
           {
            "colorbar": {
             "outlinewidth": 0,
             "ticks": ""
            },
            "colorscale": [
             [
              0,
              "#0d0887"
             ],
             [
              0.1111111111111111,
              "#46039f"
             ],
             [
              0.2222222222222222,
              "#7201a8"
             ],
             [
              0.3333333333333333,
              "#9c179e"
             ],
             [
              0.4444444444444444,
              "#bd3786"
             ],
             [
              0.5555555555555556,
              "#d8576b"
             ],
             [
              0.6666666666666666,
              "#ed7953"
             ],
             [
              0.7777777777777778,
              "#fb9f3a"
             ],
             [
              0.8888888888888888,
              "#fdca26"
             ],
             [
              1,
              "#f0f921"
             ]
            ],
            "type": "contour"
           }
          ],
          "contourcarpet": [
           {
            "colorbar": {
             "outlinewidth": 0,
             "ticks": ""
            },
            "type": "contourcarpet"
           }
          ],
          "heatmap": [
           {
            "colorbar": {
             "outlinewidth": 0,
             "ticks": ""
            },
            "colorscale": [
             [
              0,
              "#0d0887"
             ],
             [
              0.1111111111111111,
              "#46039f"
             ],
             [
              0.2222222222222222,
              "#7201a8"
             ],
             [
              0.3333333333333333,
              "#9c179e"
             ],
             [
              0.4444444444444444,
              "#bd3786"
             ],
             [
              0.5555555555555556,
              "#d8576b"
             ],
             [
              0.6666666666666666,
              "#ed7953"
             ],
             [
              0.7777777777777778,
              "#fb9f3a"
             ],
             [
              0.8888888888888888,
              "#fdca26"
             ],
             [
              1,
              "#f0f921"
             ]
            ],
            "type": "heatmap"
           }
          ],
          "heatmapgl": [
           {
            "colorbar": {
             "outlinewidth": 0,
             "ticks": ""
            },
            "colorscale": [
             [
              0,
              "#0d0887"
             ],
             [
              0.1111111111111111,
              "#46039f"
             ],
             [
              0.2222222222222222,
              "#7201a8"
             ],
             [
              0.3333333333333333,
              "#9c179e"
             ],
             [
              0.4444444444444444,
              "#bd3786"
             ],
             [
              0.5555555555555556,
              "#d8576b"
             ],
             [
              0.6666666666666666,
              "#ed7953"
             ],
             [
              0.7777777777777778,
              "#fb9f3a"
             ],
             [
              0.8888888888888888,
              "#fdca26"
             ],
             [
              1,
              "#f0f921"
             ]
            ],
            "type": "heatmapgl"
           }
          ],
          "histogram": [
           {
            "marker": {
             "pattern": {
              "fillmode": "overlay",
              "size": 10,
              "solidity": 0.2
             }
            },
            "type": "histogram"
           }
          ],
          "histogram2d": [
           {
            "colorbar": {
             "outlinewidth": 0,
             "ticks": ""
            },
            "colorscale": [
             [
              0,
              "#0d0887"
             ],
             [
              0.1111111111111111,
              "#46039f"
             ],
             [
              0.2222222222222222,
              "#7201a8"
             ],
             [
              0.3333333333333333,
              "#9c179e"
             ],
             [
              0.4444444444444444,
              "#bd3786"
             ],
             [
              0.5555555555555556,
              "#d8576b"
             ],
             [
              0.6666666666666666,
              "#ed7953"
             ],
             [
              0.7777777777777778,
              "#fb9f3a"
             ],
             [
              0.8888888888888888,
              "#fdca26"
             ],
             [
              1,
              "#f0f921"
             ]
            ],
            "type": "histogram2d"
           }
          ],
          "histogram2dcontour": [
           {
            "colorbar": {
             "outlinewidth": 0,
             "ticks": ""
            },
            "colorscale": [
             [
              0,
              "#0d0887"
             ],
             [
              0.1111111111111111,
              "#46039f"
             ],
             [
              0.2222222222222222,
              "#7201a8"
             ],
             [
              0.3333333333333333,
              "#9c179e"
             ],
             [
              0.4444444444444444,
              "#bd3786"
             ],
             [
              0.5555555555555556,
              "#d8576b"
             ],
             [
              0.6666666666666666,
              "#ed7953"
             ],
             [
              0.7777777777777778,
              "#fb9f3a"
             ],
             [
              0.8888888888888888,
              "#fdca26"
             ],
             [
              1,
              "#f0f921"
             ]
            ],
            "type": "histogram2dcontour"
           }
          ],
          "mesh3d": [
           {
            "colorbar": {
             "outlinewidth": 0,
             "ticks": ""
            },
            "type": "mesh3d"
           }
          ],
          "parcoords": [
           {
            "line": {
             "colorbar": {
              "outlinewidth": 0,
              "ticks": ""
             }
            },
            "type": "parcoords"
           }
          ],
          "pie": [
           {
            "automargin": true,
            "type": "pie"
           }
          ],
          "scatter": [
           {
            "fillpattern": {
             "fillmode": "overlay",
             "size": 10,
             "solidity": 0.2
            },
            "type": "scatter"
           }
          ],
          "scatter3d": [
           {
            "line": {
             "colorbar": {
              "outlinewidth": 0,
              "ticks": ""
             }
            },
            "marker": {
             "colorbar": {
              "outlinewidth": 0,
              "ticks": ""
             }
            },
            "type": "scatter3d"
           }
          ],
          "scattercarpet": [
           {
            "marker": {
             "colorbar": {
              "outlinewidth": 0,
              "ticks": ""
             }
            },
            "type": "scattercarpet"
           }
          ],
          "scattergeo": [
           {
            "marker": {
             "colorbar": {
              "outlinewidth": 0,
              "ticks": ""
             }
            },
            "type": "scattergeo"
           }
          ],
          "scattergl": [
           {
            "marker": {
             "colorbar": {
              "outlinewidth": 0,
              "ticks": ""
             }
            },
            "type": "scattergl"
           }
          ],
          "scattermapbox": [
           {
            "marker": {
             "colorbar": {
              "outlinewidth": 0,
              "ticks": ""
             }
            },
            "type": "scattermapbox"
           }
          ],
          "scatterpolar": [
           {
            "marker": {
             "colorbar": {
              "outlinewidth": 0,
              "ticks": ""
             }
            },
            "type": "scatterpolar"
           }
          ],
          "scatterpolargl": [
           {
            "marker": {
             "colorbar": {
              "outlinewidth": 0,
              "ticks": ""
             }
            },
            "type": "scatterpolargl"
           }
          ],
          "scatterternary": [
           {
            "marker": {
             "colorbar": {
              "outlinewidth": 0,
              "ticks": ""
             }
            },
            "type": "scatterternary"
           }
          ],
          "surface": [
           {
            "colorbar": {
             "outlinewidth": 0,
             "ticks": ""
            },
            "colorscale": [
             [
              0,
              "#0d0887"
             ],
             [
              0.1111111111111111,
              "#46039f"
             ],
             [
              0.2222222222222222,
              "#7201a8"
             ],
             [
              0.3333333333333333,
              "#9c179e"
             ],
             [
              0.4444444444444444,
              "#bd3786"
             ],
             [
              0.5555555555555556,
              "#d8576b"
             ],
             [
              0.6666666666666666,
              "#ed7953"
             ],
             [
              0.7777777777777778,
              "#fb9f3a"
             ],
             [
              0.8888888888888888,
              "#fdca26"
             ],
             [
              1,
              "#f0f921"
             ]
            ],
            "type": "surface"
           }
          ],
          "table": [
           {
            "cells": {
             "fill": {
              "color": "#EBF0F8"
             },
             "line": {
              "color": "white"
             }
            },
            "header": {
             "fill": {
              "color": "#C8D4E3"
             },
             "line": {
              "color": "white"
             }
            },
            "type": "table"
           }
          ]
         },
         "layout": {
          "annotationdefaults": {
           "arrowcolor": "#2a3f5f",
           "arrowhead": 0,
           "arrowwidth": 1
          },
          "autotypenumbers": "strict",
          "coloraxis": {
           "colorbar": {
            "outlinewidth": 0,
            "ticks": ""
           }
          },
          "colorscale": {
           "diverging": [
            [
             0,
             "#8e0152"
            ],
            [
             0.1,
             "#c51b7d"
            ],
            [
             0.2,
             "#de77ae"
            ],
            [
             0.3,
             "#f1b6da"
            ],
            [
             0.4,
             "#fde0ef"
            ],
            [
             0.5,
             "#f7f7f7"
            ],
            [
             0.6,
             "#e6f5d0"
            ],
            [
             0.7,
             "#b8e186"
            ],
            [
             0.8,
             "#7fbc41"
            ],
            [
             0.9,
             "#4d9221"
            ],
            [
             1,
             "#276419"
            ]
           ],
           "sequential": [
            [
             0,
             "#0d0887"
            ],
            [
             0.1111111111111111,
             "#46039f"
            ],
            [
             0.2222222222222222,
             "#7201a8"
            ],
            [
             0.3333333333333333,
             "#9c179e"
            ],
            [
             0.4444444444444444,
             "#bd3786"
            ],
            [
             0.5555555555555556,
             "#d8576b"
            ],
            [
             0.6666666666666666,
             "#ed7953"
            ],
            [
             0.7777777777777778,
             "#fb9f3a"
            ],
            [
             0.8888888888888888,
             "#fdca26"
            ],
            [
             1,
             "#f0f921"
            ]
           ],
           "sequentialminus": [
            [
             0,
             "#0d0887"
            ],
            [
             0.1111111111111111,
             "#46039f"
            ],
            [
             0.2222222222222222,
             "#7201a8"
            ],
            [
             0.3333333333333333,
             "#9c179e"
            ],
            [
             0.4444444444444444,
             "#bd3786"
            ],
            [
             0.5555555555555556,
             "#d8576b"
            ],
            [
             0.6666666666666666,
             "#ed7953"
            ],
            [
             0.7777777777777778,
             "#fb9f3a"
            ],
            [
             0.8888888888888888,
             "#fdca26"
            ],
            [
             1,
             "#f0f921"
            ]
           ]
          },
          "colorway": [
           "#636efa",
           "#EF553B",
           "#00cc96",
           "#ab63fa",
           "#FFA15A",
           "#19d3f3",
           "#FF6692",
           "#B6E880",
           "#FF97FF",
           "#FECB52"
          ],
          "font": {
           "color": "#2a3f5f"
          },
          "geo": {
           "bgcolor": "white",
           "lakecolor": "white",
           "landcolor": "#E5ECF6",
           "showlakes": true,
           "showland": true,
           "subunitcolor": "white"
          },
          "hoverlabel": {
           "align": "left"
          },
          "hovermode": "closest",
          "mapbox": {
           "style": "light"
          },
          "paper_bgcolor": "white",
          "plot_bgcolor": "#E5ECF6",
          "polar": {
           "angularaxis": {
            "gridcolor": "white",
            "linecolor": "white",
            "ticks": ""
           },
           "bgcolor": "#E5ECF6",
           "radialaxis": {
            "gridcolor": "white",
            "linecolor": "white",
            "ticks": ""
           }
          },
          "scene": {
           "xaxis": {
            "backgroundcolor": "#E5ECF6",
            "gridcolor": "white",
            "gridwidth": 2,
            "linecolor": "white",
            "showbackground": true,
            "ticks": "",
            "zerolinecolor": "white"
           },
           "yaxis": {
            "backgroundcolor": "#E5ECF6",
            "gridcolor": "white",
            "gridwidth": 2,
            "linecolor": "white",
            "showbackground": true,
            "ticks": "",
            "zerolinecolor": "white"
           },
           "zaxis": {
            "backgroundcolor": "#E5ECF6",
            "gridcolor": "white",
            "gridwidth": 2,
            "linecolor": "white",
            "showbackground": true,
            "ticks": "",
            "zerolinecolor": "white"
           }
          },
          "shapedefaults": {
           "line": {
            "color": "#2a3f5f"
           }
          },
          "ternary": {
           "aaxis": {
            "gridcolor": "white",
            "linecolor": "white",
            "ticks": ""
           },
           "baxis": {
            "gridcolor": "white",
            "linecolor": "white",
            "ticks": ""
           },
           "bgcolor": "#E5ECF6",
           "caxis": {
            "gridcolor": "white",
            "linecolor": "white",
            "ticks": ""
           }
          },
          "title": {
           "x": 0.05
          },
          "xaxis": {
           "automargin": true,
           "gridcolor": "white",
           "linecolor": "white",
           "ticks": "",
           "title": {
            "standoff": 15
           },
           "zerolinecolor": "white",
           "zerolinewidth": 2
          },
          "yaxis": {
           "automargin": true,
           "gridcolor": "white",
           "linecolor": "white",
           "ticks": "",
           "title": {
            "standoff": 15
           },
           "zerolinecolor": "white",
           "zerolinewidth": 2
          }
         }
        },
        "xaxis": {
         "anchor": "y",
         "domain": [
          0,
          1
         ],
         "title": {
          "text": "x"
         }
        },
        "yaxis": {
         "anchor": "x",
         "domain": [
          0,
          1
         ],
         "title": {
          "text": "y"
         }
        }
       }
      },
      "text/html": [
       "<div>                            <div id=\"3c6fdae7-0eff-4bd7-917e-48aeb8916317\" class=\"plotly-graph-div\" style=\"height:525px; width:100%;\"></div>            <script type=\"text/javascript\">                require([\"plotly\"], function(Plotly) {                    window.PLOTLYENV=window.PLOTLYENV || {};                                    if (document.getElementById(\"3c6fdae7-0eff-4bd7-917e-48aeb8916317\")) {                    Plotly.newPlot(                        \"3c6fdae7-0eff-4bd7-917e-48aeb8916317\",                        [{\"alignmentgroup\":\"True\",\"hovertemplate\":\"x=%{x}<br>y=%{y}<extra></extra>\",\"legendgroup\":\"\",\"marker\":{\"color\":\"#636efa\",\"pattern\":{\"shape\":\"\"}},\"name\":\"\",\"offsetgroup\":\"\",\"orientation\":\"h\",\"showlegend\":false,\"textposition\":\"auto\",\"x\":[8.2,18.0,14.6,8.3,11.4,22.2,24.1,8.0,13.1,22.8,17.8,19.3,17.0,21.3,26.4,22.9,15.1,16.7,15.9,9.3,18.3,19.1,21.0,19.5,23.7,16.3,19.0,19.4,30.2,22.8,25.4,11.2,20.6,17.7,21.2,18.2,21.7,11.3,17.8,14.1,23.3,18.4,16.6,19.6,12.9,25.9,14.7,23.0,11.8,11.0,20.8,21.5,20.4,20.4,17.6,27.7,17.8,13.8,13.9,12.3,11.5,5.5,18.8,20.8,23.1,18.6,23.0,19.6,19.6,17.2,15.8,17.7,15.6,17.3,27.6,6.7,15.7,8.3,14.7,21.6,19.5,17.9,18.6,16.6,20.2,21.5,25.4,22.4,25.3,17.4,14.7,17.4,20.8,18.2,23.4,17.8,12.7,17.4,11.6,19.8,19.8,14.4,20.1,24.1,5.3,12.7,18.2,21.4,20.3,17.4,13.7,18.8,22.8,18.9,15.8,15.5,11.6,15.2,10.6,19.6,10.3,17.1,22.5,17.9,19.8,20.6,9.0,17.2,15.9,15.4,15.4,14.0,10.6,17.6,14.9,17.6,17.2,15.6,18.0,21.7,21.9,23.3,21.2,16.6,23.8,27.4,13.2,24.2,17.4,23.7,23.2,24.8,24.6,20.1,29.6,16.4,28.6,18.4,20.5,19.0,16.1,20.3,15.2,17.8,17.8,5.3,16.6,23.4,14.6,20.7,21.9,17.4,20.1,17.7,14.2,20.3,5.8,19.2,18.3,14.4,23.9,19.1,12.4,16.8,20.8,17.6,11.5,21.0,13.3,11.5,11.7,24.2,24.6,24.3,24.6,23.5,5.8,21.5,13.9,22.6,21.6,12.4,8.8,20.2,15.1,22.1,22.9,20.7,19.6,23.2,18.4,5.1,20.1,11.0,17.0,17.0,16.9,12.4,19.4,15.2,16.2,18.6,11.0,13.4,15.4,22.9,16.1,20.1,28.3,16.4,26.4,27.8,18.7,24.3,17.7,19.6,18.2,18.8,25.1,13.4,15.2,16.7,15.4,21.9,22.4,26.8,25.7,20.7,28.7,21.7,26.8,24.0,22.1,21.4,18.9,22.3,23.9,21.4,20.6,23.7,28.3,11.2,21.4,19.3,21.8,22.1,19.4,23.7,21.0,19.1,21.8,20.1,20.2,4.8,5.1,5.1,4.6,4.6,4.6,4.6,2.2,5.1,4.2,8.8,7.5,23.4,12.6,22.1,24.2,24.3,18.7,25.3,22.9,26.9,17.1,22.2,14.3,15.4,19.6,10.6,20.7,19.1,19.2,19.2,11.3,19.0,17.1,23.8,16.0,24.9,25.3,24.8,12.2,24.3,19.7,18.5,18.6,19.2,21.6,21.6,18.9,16.8,16.8,12.9,13.7,24.2,24.1,21.2,19.7,23.5,24.2,21.5,17.1,18.1,18.0,9.8,19.3,23.0,22.7,20.4,19.3,15.7,20.6,15.9,12.2,16.8,21.3,10.1,17.4,12.8,10.1,15.4,20.6,19.8,18.7,20.8,20.8,15.9,19.7,21.1,18.4,17.3,15.2,15.9,21.1,19.6,15.9,16.4,16.8,13.8,13.8,14.2,10.4,20.3,10.3,15.4,21.1,21.9,8.7,5.2,19.3,16.2,28.2,20.5,21.3,20.9,20.6,11.6,23.3,23.3,7.5,20.7,21.9,15.2,5.3,10.1,20.4,24.3,25.9,28.0,28.0,22.8,25.0,21.3,21.8,27.9,17.0,14.2,19.9,23.4,14.7,8.2,22.8,26.4,24.1,27.5,26.3,13.8,24.9,24.8,26.2,30.8,29.3,22.3,26.9,20.4,20.4,27.9,26.2,24.6,19.4,23.3,23.9,20.9,22.2,23.8,26.8,14.2,23.6,19.1,16.2,25.5,10.9,14.8,16.2,17.3,19.1,8.9,10.5,19.3,23.4,11.8,17.7,17.4,16.8,17.9,16.6,19.9,18.9,15.5,18.9,18.9,14.5,4.6,5.1,4.6,10.2,11.2,13.3,13.7,17.6,18.0,14.3,24.5,26.4,22.7,27.2,26.1,18.2,22.6,30.2,30.2,23.4,31.0,33.1,30.6,24.1,26.4,19.4,20.6,28.7,32.4,32.4,27.5,30.8,23.9,32.6,32.3,33.3,27.3,21.6,21.6,20.7,29.2,28.9,26.7,18.5,25.9,25.9,21.1,18.2,27.8,27.8,21.9,21.2,25.6,11.8],\"xaxis\":\"x\",\"y\":[\"fri\",\"tue\",\"sat\",\"fri\",\"sun\",\"sun\",\"mon\",\"mon\",\"tue\",\"sat\",\"sat\",\"sat\",\"fri\",\"mon\",\"wed\",\"fri\",\"sat\",\"mon\",\"wed\",\"sat\",\"tue\",\"mon\",\"sun\",\"sat\",\"sat\",\"sun\",\"fri\",\"mon\",\"sat\",\"sun\",\"fri\",\"mon\",\"fri\",\"sun\",\"mon\",\"tue\",\"tue\",\"fri\",\"sat\",\"tue\",\"tue\",\"sat\",\"tue\",\"sat\",\"wed\",\"wed\",\"mon\",\"mon\",\"mon\",\"mon\",\"thu\",\"sun\",\"wed\",\"wed\",\"thu\",\"thu\",\"tue\",\"sun\",\"mon\",\"fri\",\"sun\",\"sun\",\"thu\",\"sun\",\"mon\",\"thu\",\"fri\",\"fri\",\"fri\",\"fri\",\"fri\",\"fri\",\"fri\",\"tue\",\"fri\",\"thu\",\"fri\",\"mon\",\"fri\",\"tue\",\"sun\",\"sun\",\"tue\",\"wed\",\"thu\",\"thu\",\"thu\",\"thu\",\"sun\",\"sat\",\"sat\",\"fri\",\"sun\",\"sun\",\"mon\",\"sun\",\"sat\",\"sat\",\"sun\",\"sun\",\"sun\",\"tue\",\"tue\",\"sat\",\"sat\",\"fri\",\"thu\",\"sun\",\"sat\",\"mon\",\"fri\",\"fri\",\"sun\",\"mon\",\"tue\",\"tue\",\"sat\",\"sat\",\"mon\",\"thu\",\"mon\",\"mon\",\"sun\",\"tue\",\"fri\",\"sun\",\"mon\",\"fri\",\"wed\",\"sun\",\"sat\",\"mon\",\"sun\",\"thu\",\"tue\",\"sat\",\"sun\",\"mon\",\"tue\",\"tue\",\"mon\",\"wed\",\"fri\",\"sat\",\"wed\",\"thu\",\"mon\",\"tue\",\"tue\",\"thu\",\"fri\",\"sun\",\"sat\",\"fri\",\"sat\",\"sun\",\"sat\",\"wed\",\"wed\",\"fri\",\"mon\",\"thu\",\"sat\",\"sat\",\"sun\",\"thu\",\"wed\",\"wed\",\"fri\",\"thu\",\"wed\",\"wed\",\"sun\",\"mon\",\"sat\",\"sat\",\"thu\",\"sun\",\"wed\",\"tue\",\"sun\",\"mon\",\"sun\",\"mon\",\"fri\",\"tue\",\"sun\",\"mon\",\"sat\",\"sun\",\"fri\",\"thu\",\"tue\",\"wed\",\"tue\",\"fri\",\"thu\",\"thu\",\"tue\",\"mon\",\"tue\",\"sun\",\"sun\",\"wed\",\"sat\",\"thu\",\"sat\",\"tue\",\"fri\",\"thu\",\"sat\",\"sat\",\"fri\",\"mon\",\"sat\",\"sat\",\"sun\",\"mon\",\"wed\",\"mon\",\"sun\",\"fri\",\"mon\",\"fri\",\"wed\",\"sun\",\"mon\",\"sat\",\"sun\",\"sat\",\"wed\",\"sun\",\"tue\",\"tue\",\"sat\",\"sun\",\"sat\",\"tue\",\"sat\",\"sun\",\"wed\",\"fri\",\"sun\",\"sun\",\"sun\",\"sun\",\"sun\",\"wed\",\"wed\",\"wed\",\"wed\",\"wed\",\"wed\",\"thu\",\"thu\",\"thu\",\"sat\",\"sat\",\"sat\",\"sat\",\"mon\",\"fri\",\"fri\",\"fri\",\"fri\",\"tue\",\"tue\",\"tue\",\"tue\",\"tue\",\"tue\",\"tue\",\"tue\",\"sun\",\"wed\",\"thu\",\"mon\",\"mon\",\"mon\",\"mon\",\"fri\",\"tue\",\"sun\",\"wed\",\"fri\",\"sun\",\"wed\",\"sat\",\"sat\",\"sat\",\"sat\",\"sat\",\"fri\",\"tue\",\"tue\",\"sun\",\"sun\",\"sun\",\"wed\",\"sat\",\"mon\",\"mon\",\"fri\",\"fri\",\"sat\",\"sun\",\"sun\",\"sun\",\"sun\",\"sun\",\"sun\",\"sun\",\"sun\",\"wed\",\"wed\",\"wed\",\"thu\",\"thu\",\"thu\",\"thu\",\"thu\",\"thu\",\"thu\",\"thu\",\"thu\",\"sat\",\"sat\",\"sat\",\"sat\",\"sat\",\"sat\",\"sat\",\"sat\",\"mon\",\"mon\",\"mon\",\"mon\",\"mon\",\"mon\",\"mon\",\"mon\",\"mon\",\"mon\",\"mon\",\"mon\",\"mon\",\"mon\",\"fri\",\"fri\",\"fri\",\"fri\",\"fri\",\"fri\",\"fri\",\"fri\",\"fri\",\"fri\",\"fri\",\"fri\",\"fri\",\"fri\",\"fri\",\"fri\",\"tue\",\"tue\",\"tue\",\"tue\",\"tue\",\"sat\",\"sun\",\"sun\",\"wed\",\"sun\",\"thu\",\"fri\",\"sat\",\"mon\",\"sat\",\"thu\",\"sun\",\"wed\",\"thu\",\"wed\",\"thu\",\"sat\",\"sun\",\"sun\",\"thu\",\"fri\",\"fri\",\"mon\",\"fri\",\"sun\",\"tue\",\"mon\",\"sun\",\"sun\",\"sun\",\"sat\",\"wed\",\"wed\",\"thu\",\"fri\",\"thu\",\"wed\",\"tue\",\"sat\",\"sat\",\"fri\",\"tue\",\"fri\",\"fri\",\"mon\",\"sat\",\"sun\",\"thu\",\"tue\",\"wed\",\"sun\",\"sun\",\"wed\",\"wed\",\"sun\",\"sat\",\"sat\",\"thu\",\"thu\",\"mon\",\"thu\",\"sun\",\"thu\",\"sat\",\"thu\",\"sun\",\"fri\",\"sat\",\"mon\",\"sat\",\"sat\",\"fri\",\"fri\",\"mon\",\"mon\",\"fri\",\"fri\",\"sun\",\"sun\",\"wed\",\"wed\",\"sun\",\"wed\",\"fri\",\"mon\",\"thu\",\"thu\",\"mon\",\"thu\",\"wed\",\"sat\",\"sat\",\"sat\",\"sat\",\"sun\",\"tue\",\"tue\",\"sat\",\"mon\",\"wed\",\"thu\",\"sun\",\"sun\",\"fri\",\"mon\",\"sat\",\"thu\",\"thu\",\"thu\",\"sun\",\"sun\",\"mon\",\"thu\",\"thu\",\"sun\",\"sun\",\"sun\",\"mon\",\"tue\",\"tue\",\"tue\",\"wed\",\"wed\",\"thu\",\"fri\",\"fri\",\"sat\",\"mon\",\"mon\",\"tue\",\"tue\",\"tue\",\"tue\",\"tue\",\"tue\",\"wed\",\"wed\",\"thu\",\"fri\",\"fri\",\"fri\",\"fri\",\"fri\",\"sun\",\"sun\",\"sun\",\"sun\",\"sat\",\"tue\"],\"yaxis\":\"y\",\"type\":\"bar\"}],                        {\"template\":{\"data\":{\"histogram2dcontour\":[{\"type\":\"histogram2dcontour\",\"colorbar\":{\"outlinewidth\":0,\"ticks\":\"\"},\"colorscale\":[[0.0,\"#0d0887\"],[0.1111111111111111,\"#46039f\"],[0.2222222222222222,\"#7201a8\"],[0.3333333333333333,\"#9c179e\"],[0.4444444444444444,\"#bd3786\"],[0.5555555555555556,\"#d8576b\"],[0.6666666666666666,\"#ed7953\"],[0.7777777777777778,\"#fb9f3a\"],[0.8888888888888888,\"#fdca26\"],[1.0,\"#f0f921\"]]}],\"choropleth\":[{\"type\":\"choropleth\",\"colorbar\":{\"outlinewidth\":0,\"ticks\":\"\"}}],\"histogram2d\":[{\"type\":\"histogram2d\",\"colorbar\":{\"outlinewidth\":0,\"ticks\":\"\"},\"colorscale\":[[0.0,\"#0d0887\"],[0.1111111111111111,\"#46039f\"],[0.2222222222222222,\"#7201a8\"],[0.3333333333333333,\"#9c179e\"],[0.4444444444444444,\"#bd3786\"],[0.5555555555555556,\"#d8576b\"],[0.6666666666666666,\"#ed7953\"],[0.7777777777777778,\"#fb9f3a\"],[0.8888888888888888,\"#fdca26\"],[1.0,\"#f0f921\"]]}],\"heatmap\":[{\"type\":\"heatmap\",\"colorbar\":{\"outlinewidth\":0,\"ticks\":\"\"},\"colorscale\":[[0.0,\"#0d0887\"],[0.1111111111111111,\"#46039f\"],[0.2222222222222222,\"#7201a8\"],[0.3333333333333333,\"#9c179e\"],[0.4444444444444444,\"#bd3786\"],[0.5555555555555556,\"#d8576b\"],[0.6666666666666666,\"#ed7953\"],[0.7777777777777778,\"#fb9f3a\"],[0.8888888888888888,\"#fdca26\"],[1.0,\"#f0f921\"]]}],\"heatmapgl\":[{\"type\":\"heatmapgl\",\"colorbar\":{\"outlinewidth\":0,\"ticks\":\"\"},\"colorscale\":[[0.0,\"#0d0887\"],[0.1111111111111111,\"#46039f\"],[0.2222222222222222,\"#7201a8\"],[0.3333333333333333,\"#9c179e\"],[0.4444444444444444,\"#bd3786\"],[0.5555555555555556,\"#d8576b\"],[0.6666666666666666,\"#ed7953\"],[0.7777777777777778,\"#fb9f3a\"],[0.8888888888888888,\"#fdca26\"],[1.0,\"#f0f921\"]]}],\"contourcarpet\":[{\"type\":\"contourcarpet\",\"colorbar\":{\"outlinewidth\":0,\"ticks\":\"\"}}],\"contour\":[{\"type\":\"contour\",\"colorbar\":{\"outlinewidth\":0,\"ticks\":\"\"},\"colorscale\":[[0.0,\"#0d0887\"],[0.1111111111111111,\"#46039f\"],[0.2222222222222222,\"#7201a8\"],[0.3333333333333333,\"#9c179e\"],[0.4444444444444444,\"#bd3786\"],[0.5555555555555556,\"#d8576b\"],[0.6666666666666666,\"#ed7953\"],[0.7777777777777778,\"#fb9f3a\"],[0.8888888888888888,\"#fdca26\"],[1.0,\"#f0f921\"]]}],\"surface\":[{\"type\":\"surface\",\"colorbar\":{\"outlinewidth\":0,\"ticks\":\"\"},\"colorscale\":[[0.0,\"#0d0887\"],[0.1111111111111111,\"#46039f\"],[0.2222222222222222,\"#7201a8\"],[0.3333333333333333,\"#9c179e\"],[0.4444444444444444,\"#bd3786\"],[0.5555555555555556,\"#d8576b\"],[0.6666666666666666,\"#ed7953\"],[0.7777777777777778,\"#fb9f3a\"],[0.8888888888888888,\"#fdca26\"],[1.0,\"#f0f921\"]]}],\"mesh3d\":[{\"type\":\"mesh3d\",\"colorbar\":{\"outlinewidth\":0,\"ticks\":\"\"}}],\"scatter\":[{\"fillpattern\":{\"fillmode\":\"overlay\",\"size\":10,\"solidity\":0.2},\"type\":\"scatter\"}],\"parcoords\":[{\"type\":\"parcoords\",\"line\":{\"colorbar\":{\"outlinewidth\":0,\"ticks\":\"\"}}}],\"scatterpolargl\":[{\"type\":\"scatterpolargl\",\"marker\":{\"colorbar\":{\"outlinewidth\":0,\"ticks\":\"\"}}}],\"bar\":[{\"error_x\":{\"color\":\"#2a3f5f\"},\"error_y\":{\"color\":\"#2a3f5f\"},\"marker\":{\"line\":{\"color\":\"#E5ECF6\",\"width\":0.5},\"pattern\":{\"fillmode\":\"overlay\",\"size\":10,\"solidity\":0.2}},\"type\":\"bar\"}],\"scattergeo\":[{\"type\":\"scattergeo\",\"marker\":{\"colorbar\":{\"outlinewidth\":0,\"ticks\":\"\"}}}],\"scatterpolar\":[{\"type\":\"scatterpolar\",\"marker\":{\"colorbar\":{\"outlinewidth\":0,\"ticks\":\"\"}}}],\"histogram\":[{\"marker\":{\"pattern\":{\"fillmode\":\"overlay\",\"size\":10,\"solidity\":0.2}},\"type\":\"histogram\"}],\"scattergl\":[{\"type\":\"scattergl\",\"marker\":{\"colorbar\":{\"outlinewidth\":0,\"ticks\":\"\"}}}],\"scatter3d\":[{\"type\":\"scatter3d\",\"line\":{\"colorbar\":{\"outlinewidth\":0,\"ticks\":\"\"}},\"marker\":{\"colorbar\":{\"outlinewidth\":0,\"ticks\":\"\"}}}],\"scattermapbox\":[{\"type\":\"scattermapbox\",\"marker\":{\"colorbar\":{\"outlinewidth\":0,\"ticks\":\"\"}}}],\"scatterternary\":[{\"type\":\"scatterternary\",\"marker\":{\"colorbar\":{\"outlinewidth\":0,\"ticks\":\"\"}}}],\"scattercarpet\":[{\"type\":\"scattercarpet\",\"marker\":{\"colorbar\":{\"outlinewidth\":0,\"ticks\":\"\"}}}],\"carpet\":[{\"aaxis\":{\"endlinecolor\":\"#2a3f5f\",\"gridcolor\":\"white\",\"linecolor\":\"white\",\"minorgridcolor\":\"white\",\"startlinecolor\":\"#2a3f5f\"},\"baxis\":{\"endlinecolor\":\"#2a3f5f\",\"gridcolor\":\"white\",\"linecolor\":\"white\",\"minorgridcolor\":\"white\",\"startlinecolor\":\"#2a3f5f\"},\"type\":\"carpet\"}],\"table\":[{\"cells\":{\"fill\":{\"color\":\"#EBF0F8\"},\"line\":{\"color\":\"white\"}},\"header\":{\"fill\":{\"color\":\"#C8D4E3\"},\"line\":{\"color\":\"white\"}},\"type\":\"table\"}],\"barpolar\":[{\"marker\":{\"line\":{\"color\":\"#E5ECF6\",\"width\":0.5},\"pattern\":{\"fillmode\":\"overlay\",\"size\":10,\"solidity\":0.2}},\"type\":\"barpolar\"}],\"pie\":[{\"automargin\":true,\"type\":\"pie\"}]},\"layout\":{\"autotypenumbers\":\"strict\",\"colorway\":[\"#636efa\",\"#EF553B\",\"#00cc96\",\"#ab63fa\",\"#FFA15A\",\"#19d3f3\",\"#FF6692\",\"#B6E880\",\"#FF97FF\",\"#FECB52\"],\"font\":{\"color\":\"#2a3f5f\"},\"hovermode\":\"closest\",\"hoverlabel\":{\"align\":\"left\"},\"paper_bgcolor\":\"white\",\"plot_bgcolor\":\"#E5ECF6\",\"polar\":{\"bgcolor\":\"#E5ECF6\",\"angularaxis\":{\"gridcolor\":\"white\",\"linecolor\":\"white\",\"ticks\":\"\"},\"radialaxis\":{\"gridcolor\":\"white\",\"linecolor\":\"white\",\"ticks\":\"\"}},\"ternary\":{\"bgcolor\":\"#E5ECF6\",\"aaxis\":{\"gridcolor\":\"white\",\"linecolor\":\"white\",\"ticks\":\"\"},\"baxis\":{\"gridcolor\":\"white\",\"linecolor\":\"white\",\"ticks\":\"\"},\"caxis\":{\"gridcolor\":\"white\",\"linecolor\":\"white\",\"ticks\":\"\"}},\"coloraxis\":{\"colorbar\":{\"outlinewidth\":0,\"ticks\":\"\"}},\"colorscale\":{\"sequential\":[[0.0,\"#0d0887\"],[0.1111111111111111,\"#46039f\"],[0.2222222222222222,\"#7201a8\"],[0.3333333333333333,\"#9c179e\"],[0.4444444444444444,\"#bd3786\"],[0.5555555555555556,\"#d8576b\"],[0.6666666666666666,\"#ed7953\"],[0.7777777777777778,\"#fb9f3a\"],[0.8888888888888888,\"#fdca26\"],[1.0,\"#f0f921\"]],\"sequentialminus\":[[0.0,\"#0d0887\"],[0.1111111111111111,\"#46039f\"],[0.2222222222222222,\"#7201a8\"],[0.3333333333333333,\"#9c179e\"],[0.4444444444444444,\"#bd3786\"],[0.5555555555555556,\"#d8576b\"],[0.6666666666666666,\"#ed7953\"],[0.7777777777777778,\"#fb9f3a\"],[0.8888888888888888,\"#fdca26\"],[1.0,\"#f0f921\"]],\"diverging\":[[0,\"#8e0152\"],[0.1,\"#c51b7d\"],[0.2,\"#de77ae\"],[0.3,\"#f1b6da\"],[0.4,\"#fde0ef\"],[0.5,\"#f7f7f7\"],[0.6,\"#e6f5d0\"],[0.7,\"#b8e186\"],[0.8,\"#7fbc41\"],[0.9,\"#4d9221\"],[1,\"#276419\"]]},\"xaxis\":{\"gridcolor\":\"white\",\"linecolor\":\"white\",\"ticks\":\"\",\"title\":{\"standoff\":15},\"zerolinecolor\":\"white\",\"automargin\":true,\"zerolinewidth\":2},\"yaxis\":{\"gridcolor\":\"white\",\"linecolor\":\"white\",\"ticks\":\"\",\"title\":{\"standoff\":15},\"zerolinecolor\":\"white\",\"automargin\":true,\"zerolinewidth\":2},\"scene\":{\"xaxis\":{\"backgroundcolor\":\"#E5ECF6\",\"gridcolor\":\"white\",\"linecolor\":\"white\",\"showbackground\":true,\"ticks\":\"\",\"zerolinecolor\":\"white\",\"gridwidth\":2},\"yaxis\":{\"backgroundcolor\":\"#E5ECF6\",\"gridcolor\":\"white\",\"linecolor\":\"white\",\"showbackground\":true,\"ticks\":\"\",\"zerolinecolor\":\"white\",\"gridwidth\":2},\"zaxis\":{\"backgroundcolor\":\"#E5ECF6\",\"gridcolor\":\"white\",\"linecolor\":\"white\",\"showbackground\":true,\"ticks\":\"\",\"zerolinecolor\":\"white\",\"gridwidth\":2}},\"shapedefaults\":{\"line\":{\"color\":\"#2a3f5f\"}},\"annotationdefaults\":{\"arrowcolor\":\"#2a3f5f\",\"arrowhead\":0,\"arrowwidth\":1},\"geo\":{\"bgcolor\":\"white\",\"landcolor\":\"#E5ECF6\",\"subunitcolor\":\"white\",\"showland\":true,\"showlakes\":true,\"lakecolor\":\"white\"},\"title\":{\"x\":0.05},\"mapbox\":{\"style\":\"light\"}}},\"xaxis\":{\"anchor\":\"y\",\"domain\":[0.0,1.0],\"title\":{\"text\":\"x\"}},\"yaxis\":{\"anchor\":\"x\",\"domain\":[0.0,1.0],\"title\":{\"text\":\"y\"}},\"legend\":{\"tracegroupgap\":0},\"margin\":{\"t\":60},\"barmode\":\"relative\"},                        {\"responsive\": true}                    ).then(function(){\n",
       "                            \n",
       "var gd = document.getElementById('3c6fdae7-0eff-4bd7-917e-48aeb8916317');\n",
       "var x = new MutationObserver(function (mutations, observer) {{\n",
       "        var display = window.getComputedStyle(gd).display;\n",
       "        if (!display || display === 'none') {{\n",
       "            console.log([gd, 'removed!']);\n",
       "            Plotly.purge(gd);\n",
       "            observer.disconnect();\n",
       "        }}\n",
       "}});\n",
       "\n",
       "// Listen for the removal of the full notebook cells\n",
       "var notebookContainer = gd.closest('#notebook-container');\n",
       "if (notebookContainer) {{\n",
       "    x.observe(notebookContainer, {childList: true});\n",
       "}}\n",
       "\n",
       "// Listen for the clearing of the current output cell\n",
       "var outputEl = gd.closest('.output');\n",
       "if (outputEl) {{\n",
       "    x.observe(outputEl, {childList: true});\n",
       "}}\n",
       "\n",
       "                        })                };                });            </script>        </div>"
      ]
     },
     "metadata": {},
     "output_type": "display_data"
    }
   ],
   "source": [
    "import plotly.express as px\n",
    "\n",
    "\n",
    "fig = px.bar(x=fire[\"temp\"], y=fire[\"day\"])\n",
    "fig.show()"
   ]
  },
  {
   "cell_type": "code",
   "execution_count": 40,
   "id": "f3c3856f",
   "metadata": {},
   "outputs": [
    {
     "data": {
      "application/vnd.plotly.v1+json": {
       "config": {
        "plotlyServerURL": "https://plot.ly"
       },
       "data": [
        {
         "alignmentgroup": "True",
         "bingroup": "x",
         "hovertemplate": "variable=wind<br>value=%{x}<br>count=%{y}<extra></extra>",
         "legendgroup": "wind",
         "marker": {
          "color": "#636efa",
          "opacity": 0.5,
          "pattern": {
           "shape": ""
          }
         },
         "name": "wind",
         "offsetgroup": "wind",
         "orientation": "v",
         "showlegend": true,
         "type": "histogram",
         "x": [
          6.7,
          0.9,
          1.3,
          4,
          1.8,
          5.4,
          3.1,
          2.2,
          5.4,
          4,
          7.2,
          4,
          6.7,
          2.2,
          4.5,
          5.4,
          5.4,
          4.9,
          4,
          4.5,
          2.7,
          2.7,
          4.5,
          5.8,
          5.8,
          5.4,
          5.8,
          1.3,
          2.7,
          3.6,
          3.6,
          7.6,
          1.8,
          3.6,
          2.7,
          4.5,
          4.5,
          5.4,
          4,
          2.7,
          3.1,
          6.7,
          5.4,
          2.7,
          4.9,
          4,
          3.6,
          3.1,
          1.8,
          5.8,
          1.3,
          2.2,
          4.9,
          4.9,
          3.6,
          2.2,
          4.9,
          2.7,
          5.4,
          0.9,
          5.8,
          6.3,
          4.9,
          2.7,
          3.1,
          4.5,
          4.5,
          5.4,
          6.3,
          4.5,
          7.6,
          3.6,
          6.3,
          4.5,
          1.3,
          3.1,
          3.1,
          3.1,
          2.7,
          6.7,
          6.3,
          2.2,
          4.5,
          0.9,
          3.6,
          0.9,
          2.2,
          2.2,
          3.6,
          4.9,
          5.8,
          5.4,
          6.3,
          4.9,
          2.7,
          1.3,
          1.8,
          5.4,
          4.5,
          5.4,
          5.4,
          5.4,
          4,
          4.5,
          3.1,
          6.3,
          3.1,
          3.1,
          3.1,
          5.4,
          5.8,
          4.5,
          3.6,
          2.7,
          7.6,
          6.3,
          6.3,
          4.9,
          4,
          3.1,
          2.2,
          5.4,
          5.4,
          3.1,
          5.4,
          5.4,
          2.2,
          3.1,
          3.6,
          0.9,
          2.7,
          3.1,
          4.9,
          3.1,
          2.7,
          5.8,
          1.3,
          3.1,
          2.7,
          2.2,
          1.8,
          4.5,
          8.9,
          5.4,
          5.4,
          4,
          5.4,
          3.6,
          6.7,
          4.5,
          5.4,
          2.2,
          1.8,
          4.9,
          2.7,
          1.3,
          2.2,
          3.6,
          4,
          5.8,
          3.1,
          4,
          8.5,
          1.8,
          2.2,
          4.5,
          0.9,
          4.5,
          9.4,
          2.2,
          1.8,
          4,
          5.4,
          2.2,
          1.8,
          4.9,
          5.8,
          2.7,
          2.2,
          5.4,
          6.7,
          4,
          2.2,
          4.5,
          4.9,
          3.1,
          5.8,
          2.2,
          0.9,
          4,
          4,
          2.7,
          4.5,
          4,
          4.5,
          5.4,
          5.8,
          0.9,
          6.3,
          3.6,
          2.2,
          3.6,
          2.2,
          2.7,
          4,
          1.8,
          7.2,
          2.2,
          6.3,
          4.9,
          3.1,
          5.8,
          4.9,
          5.8,
          4.9,
          4.9,
          1.3,
          6.3,
          1.3,
          3.1,
          3.1,
          3.6,
          5.8,
          3.6,
          4.5,
          4.9,
          4,
          4.5,
          3.1,
          4,
          4.5,
          3.1,
          2.7,
          3.1,
          3.1,
          5.8,
          1.8,
          2.2,
          4,
          1.8,
          2.7,
          3.1,
          4,
          7.6,
          7.6,
          6.3,
          5.4,
          2.2,
          2.7,
          0.4,
          3.1,
          3.1,
          3.6,
          2.7,
          3.1,
          4,
          2.2,
          2.7,
          0.9,
          1.8,
          4,
          7.6,
          3.1,
          3.6,
          3.1,
          7.6,
          4,
          3.1,
          3.1,
          2.7,
          3.1,
          4.5,
          4,
          8.5,
          8,
          4.9,
          8.5,
          8.5,
          8.5,
          8.5,
          4.9,
          8.5,
          4,
          3.1,
          8,
          6.3,
          7.6,
          2.7,
          1.8,
          1.8,
          1.8,
          0.9,
          1.3,
          5.4,
          3.6,
          1.3,
          1.8,
          2.2,
          4.9,
          2.7,
          4.9,
          5.4,
          4.5,
          4.5,
          4.9,
          2.2,
          5.4,
          3.6,
          1.8,
          2.2,
          2.7,
          1.8,
          6.3,
          4.9,
          1.8,
          2.7,
          5.8,
          4.9,
          2.2,
          6.3,
          7.2,
          4,
          4,
          2.7,
          1.8,
          3.1,
          3.1,
          2.2,
          1.8,
          4,
          3.1,
          4.5,
          2.2,
          3.1,
          5.4,
          1.8,
          2.2,
          2.2,
          2.2,
          1.8,
          2.2,
          2.2,
          1.8,
          4.5,
          4.9,
          3.1,
          2.2,
          3.6,
          4.5,
          3.6,
          3.6,
          6.3,
          3.6,
          2.7,
          2.2,
          4.9,
          4.9,
          3.6,
          2.7,
          2.2,
          2.2,
          4,
          3.1,
          2.2,
          2.7,
          3.1,
          5.4,
          3.6,
          4.9,
          7.6,
          7.6,
          4,
          0.9,
          2.7,
          4,
          4.9,
          2.2,
          2.2,
          5.8,
          0.9,
          7.2,
          2.7,
          1.8,
          2.7,
          4.5,
          2.2,
          5.4,
          5.4,
          3.1,
          3.1,
          6.3,
          2.7,
          4,
          7.6,
          1.8,
          1.8,
          4.9,
          3.6,
          3.1,
          4.5,
          4.5,
          4,
          4,
          3.6,
          2.2,
          2.2,
          4.9,
          4,
          3.1,
          5.4,
          2.7,
          9.4,
          4.5,
          3.6,
          4,
          4.9,
          3.1,
          5.8,
          5.4,
          4,
          4.5,
          4.5,
          3.6,
          4,
          3.6,
          2.2,
          2.2,
          2.2,
          5.8,
          4,
          3.6,
          4,
          6.7,
          4.9,
          3.6,
          1.8,
          1.3,
          2.7,
          4,
          2.2,
          3.6,
          1.8,
          3.1,
          8,
          3.6,
          4.5,
          2.2,
          8,
          4,
          4.9,
          5.4,
          4.9,
          4,
          3.1,
          3.1,
          2.7,
          2.7,
          4,
          4.9,
          8,
          4.9,
          4.9,
          7.6,
          6.3,
          5.4,
          0.9,
          5.8,
          5.4,
          3.6,
          9.4,
          5.8,
          4,
          4,
          3.1,
          2.7,
          9.4,
          1.3,
          4,
          4.5,
          4.9,
          4.5,
          4.9,
          5.8,
          5.4,
          4,
          3.6,
          6.3,
          3.6,
          7.6,
          1.3,
          4,
          4.5,
          2.2,
          4.5,
          4.9,
          2.2,
          3.1,
          2.2,
          2.7,
          4.9,
          4.9,
          4.9,
          4.9,
          4.9,
          4.9,
          1.8,
          8.5,
          3.6,
          3.6,
          7.6,
          5.4,
          2.7,
          2.7,
          5.8,
          6.7,
          4,
          4.5
         ],
         "xaxis": "x",
         "yaxis": "y"
        },
        {
         "alignmentgroup": "True",
         "bingroup": "x",
         "hovertemplate": "variable=temp<br>value=%{x}<br>count=%{y}<extra></extra>",
         "legendgroup": "temp",
         "marker": {
          "color": "#EF553B",
          "opacity": 0.5,
          "pattern": {
           "shape": ""
          }
         },
         "name": "temp",
         "offsetgroup": "temp",
         "orientation": "v",
         "showlegend": true,
         "type": "histogram",
         "x": [
          8.2,
          18,
          14.6,
          8.3,
          11.4,
          22.2,
          24.1,
          8,
          13.1,
          22.8,
          17.8,
          19.3,
          17,
          21.3,
          26.4,
          22.9,
          15.1,
          16.7,
          15.9,
          9.3,
          18.3,
          19.1,
          21,
          19.5,
          23.7,
          16.3,
          19,
          19.4,
          30.2,
          22.8,
          25.4,
          11.2,
          20.6,
          17.7,
          21.2,
          18.2,
          21.7,
          11.3,
          17.8,
          14.1,
          23.3,
          18.4,
          16.6,
          19.6,
          12.9,
          25.9,
          14.7,
          23,
          11.8,
          11,
          20.8,
          21.5,
          20.4,
          20.4,
          17.6,
          27.7,
          17.8,
          13.8,
          13.9,
          12.3,
          11.5,
          5.5,
          18.8,
          20.8,
          23.1,
          18.6,
          23,
          19.6,
          19.6,
          17.2,
          15.8,
          17.7,
          15.6,
          17.3,
          27.6,
          6.7,
          15.7,
          8.3,
          14.7,
          21.6,
          19.5,
          17.9,
          18.6,
          16.6,
          20.2,
          21.5,
          25.4,
          22.4,
          25.3,
          17.4,
          14.7,
          17.4,
          20.8,
          18.2,
          23.4,
          17.8,
          12.7,
          17.4,
          11.6,
          19.8,
          19.8,
          14.4,
          20.1,
          24.1,
          5.3,
          12.7,
          18.2,
          21.4,
          20.3,
          17.4,
          13.7,
          18.8,
          22.8,
          18.9,
          15.8,
          15.5,
          11.6,
          15.2,
          10.6,
          19.6,
          10.3,
          17.1,
          22.5,
          17.9,
          19.8,
          20.6,
          9,
          17.2,
          15.9,
          15.4,
          15.4,
          14,
          10.6,
          17.6,
          14.9,
          17.6,
          17.2,
          15.6,
          18,
          21.7,
          21.9,
          23.3,
          21.2,
          16.6,
          23.8,
          27.4,
          13.2,
          24.2,
          17.4,
          23.7,
          23.2,
          24.8,
          24.6,
          20.1,
          29.6,
          16.4,
          28.6,
          18.4,
          20.5,
          19,
          16.1,
          20.3,
          15.2,
          17.8,
          17.8,
          5.3,
          16.6,
          23.4,
          14.6,
          20.7,
          21.9,
          17.4,
          20.1,
          17.7,
          14.2,
          20.3,
          5.8,
          19.2,
          18.3,
          14.4,
          23.9,
          19.1,
          12.4,
          16.8,
          20.8,
          17.6,
          11.5,
          21,
          13.3,
          11.5,
          11.7,
          24.2,
          24.6,
          24.3,
          24.6,
          23.5,
          5.8,
          21.5,
          13.9,
          22.6,
          21.6,
          12.4,
          8.8,
          20.2,
          15.1,
          22.1,
          22.9,
          20.7,
          19.6,
          23.2,
          18.4,
          5.1,
          20.1,
          11,
          17,
          17,
          16.9,
          12.4,
          19.4,
          15.2,
          16.2,
          18.6,
          11,
          13.4,
          15.4,
          22.9,
          16.1,
          20.1,
          28.3,
          16.4,
          26.4,
          27.8,
          18.7,
          24.3,
          17.7,
          19.6,
          18.2,
          18.8,
          25.1,
          13.4,
          15.2,
          16.7,
          15.4,
          21.9,
          22.4,
          26.8,
          25.7,
          20.7,
          28.7,
          21.7,
          26.8,
          24,
          22.1,
          21.4,
          18.9,
          22.3,
          23.9,
          21.4,
          20.6,
          23.7,
          28.3,
          11.2,
          21.4,
          19.3,
          21.8,
          22.1,
          19.4,
          23.7,
          21,
          19.1,
          21.8,
          20.1,
          20.2,
          4.8,
          5.1,
          5.1,
          4.6,
          4.6,
          4.6,
          4.6,
          2.2,
          5.1,
          4.2,
          8.8,
          7.5,
          23.4,
          12.6,
          22.1,
          24.2,
          24.3,
          18.7,
          25.3,
          22.9,
          26.9,
          17.1,
          22.2,
          14.3,
          15.4,
          19.6,
          10.6,
          20.7,
          19.1,
          19.2,
          19.2,
          11.3,
          19,
          17.1,
          23.8,
          16,
          24.9,
          25.3,
          24.8,
          12.2,
          24.3,
          19.7,
          18.5,
          18.6,
          19.2,
          21.6,
          21.6,
          18.9,
          16.8,
          16.8,
          12.9,
          13.7,
          24.2,
          24.1,
          21.2,
          19.7,
          23.5,
          24.2,
          21.5,
          17.1,
          18.1,
          18,
          9.8,
          19.3,
          23,
          22.7,
          20.4,
          19.3,
          15.7,
          20.6,
          15.9,
          12.2,
          16.8,
          21.3,
          10.1,
          17.4,
          12.8,
          10.1,
          15.4,
          20.6,
          19.8,
          18.7,
          20.8,
          20.8,
          15.9,
          19.7,
          21.1,
          18.4,
          17.3,
          15.2,
          15.9,
          21.1,
          19.6,
          15.9,
          16.4,
          16.8,
          13.8,
          13.8,
          14.2,
          10.4,
          20.3,
          10.3,
          15.4,
          21.1,
          21.9,
          8.7,
          5.2,
          19.3,
          16.2,
          28.2,
          20.5,
          21.3,
          20.9,
          20.6,
          11.6,
          23.3,
          23.3,
          7.5,
          20.7,
          21.9,
          15.2,
          5.3,
          10.1,
          20.4,
          24.3,
          25.9,
          28,
          28,
          22.8,
          25,
          21.3,
          21.8,
          27.9,
          17,
          14.2,
          19.9,
          23.4,
          14.7,
          8.2,
          22.8,
          26.4,
          24.1,
          27.5,
          26.3,
          13.8,
          24.9,
          24.8,
          26.2,
          30.8,
          29.3,
          22.3,
          26.9,
          20.4,
          20.4,
          27.9,
          26.2,
          24.6,
          19.4,
          23.3,
          23.9,
          20.9,
          22.2,
          23.8,
          26.8,
          14.2,
          23.6,
          19.1,
          16.2,
          25.5,
          10.9,
          14.8,
          16.2,
          17.3,
          19.1,
          8.9,
          10.5,
          19.3,
          23.4,
          11.8,
          17.7,
          17.4,
          16.8,
          17.9,
          16.6,
          19.9,
          18.9,
          15.5,
          18.9,
          18.9,
          14.5,
          4.6,
          5.1,
          4.6,
          10.2,
          11.2,
          13.3,
          13.7,
          17.6,
          18,
          14.3,
          24.5,
          26.4,
          22.7,
          27.2,
          26.1,
          18.2,
          22.6,
          30.2,
          30.2,
          23.4,
          31,
          33.1,
          30.6,
          24.1,
          26.4,
          19.4,
          20.6,
          28.7,
          32.4,
          32.4,
          27.5,
          30.8,
          23.9,
          32.6,
          32.3,
          33.3,
          27.3,
          21.6,
          21.6,
          20.7,
          29.2,
          28.9,
          26.7,
          18.5,
          25.9,
          25.9,
          21.1,
          18.2,
          27.8,
          27.8,
          21.9,
          21.2,
          25.6,
          11.8
         ],
         "xaxis": "x",
         "yaxis": "y"
        }
       ],
       "layout": {
        "barmode": "overlay",
        "legend": {
         "title": {
          "text": "variable"
         },
         "tracegroupgap": 0
        },
        "margin": {
         "t": 60
        },
        "template": {
         "data": {
          "bar": [
           {
            "error_x": {
             "color": "#2a3f5f"
            },
            "error_y": {
             "color": "#2a3f5f"
            },
            "marker": {
             "line": {
              "color": "#E5ECF6",
              "width": 0.5
             },
             "pattern": {
              "fillmode": "overlay",
              "size": 10,
              "solidity": 0.2
             }
            },
            "type": "bar"
           }
          ],
          "barpolar": [
           {
            "marker": {
             "line": {
              "color": "#E5ECF6",
              "width": 0.5
             },
             "pattern": {
              "fillmode": "overlay",
              "size": 10,
              "solidity": 0.2
             }
            },
            "type": "barpolar"
           }
          ],
          "carpet": [
           {
            "aaxis": {
             "endlinecolor": "#2a3f5f",
             "gridcolor": "white",
             "linecolor": "white",
             "minorgridcolor": "white",
             "startlinecolor": "#2a3f5f"
            },
            "baxis": {
             "endlinecolor": "#2a3f5f",
             "gridcolor": "white",
             "linecolor": "white",
             "minorgridcolor": "white",
             "startlinecolor": "#2a3f5f"
            },
            "type": "carpet"
           }
          ],
          "choropleth": [
           {
            "colorbar": {
             "outlinewidth": 0,
             "ticks": ""
            },
            "type": "choropleth"
           }
          ],
          "contour": [
           {
            "colorbar": {
             "outlinewidth": 0,
             "ticks": ""
            },
            "colorscale": [
             [
              0,
              "#0d0887"
             ],
             [
              0.1111111111111111,
              "#46039f"
             ],
             [
              0.2222222222222222,
              "#7201a8"
             ],
             [
              0.3333333333333333,
              "#9c179e"
             ],
             [
              0.4444444444444444,
              "#bd3786"
             ],
             [
              0.5555555555555556,
              "#d8576b"
             ],
             [
              0.6666666666666666,
              "#ed7953"
             ],
             [
              0.7777777777777778,
              "#fb9f3a"
             ],
             [
              0.8888888888888888,
              "#fdca26"
             ],
             [
              1,
              "#f0f921"
             ]
            ],
            "type": "contour"
           }
          ],
          "contourcarpet": [
           {
            "colorbar": {
             "outlinewidth": 0,
             "ticks": ""
            },
            "type": "contourcarpet"
           }
          ],
          "heatmap": [
           {
            "colorbar": {
             "outlinewidth": 0,
             "ticks": ""
            },
            "colorscale": [
             [
              0,
              "#0d0887"
             ],
             [
              0.1111111111111111,
              "#46039f"
             ],
             [
              0.2222222222222222,
              "#7201a8"
             ],
             [
              0.3333333333333333,
              "#9c179e"
             ],
             [
              0.4444444444444444,
              "#bd3786"
             ],
             [
              0.5555555555555556,
              "#d8576b"
             ],
             [
              0.6666666666666666,
              "#ed7953"
             ],
             [
              0.7777777777777778,
              "#fb9f3a"
             ],
             [
              0.8888888888888888,
              "#fdca26"
             ],
             [
              1,
              "#f0f921"
             ]
            ],
            "type": "heatmap"
           }
          ],
          "heatmapgl": [
           {
            "colorbar": {
             "outlinewidth": 0,
             "ticks": ""
            },
            "colorscale": [
             [
              0,
              "#0d0887"
             ],
             [
              0.1111111111111111,
              "#46039f"
             ],
             [
              0.2222222222222222,
              "#7201a8"
             ],
             [
              0.3333333333333333,
              "#9c179e"
             ],
             [
              0.4444444444444444,
              "#bd3786"
             ],
             [
              0.5555555555555556,
              "#d8576b"
             ],
             [
              0.6666666666666666,
              "#ed7953"
             ],
             [
              0.7777777777777778,
              "#fb9f3a"
             ],
             [
              0.8888888888888888,
              "#fdca26"
             ],
             [
              1,
              "#f0f921"
             ]
            ],
            "type": "heatmapgl"
           }
          ],
          "histogram": [
           {
            "marker": {
             "pattern": {
              "fillmode": "overlay",
              "size": 10,
              "solidity": 0.2
             }
            },
            "type": "histogram"
           }
          ],
          "histogram2d": [
           {
            "colorbar": {
             "outlinewidth": 0,
             "ticks": ""
            },
            "colorscale": [
             [
              0,
              "#0d0887"
             ],
             [
              0.1111111111111111,
              "#46039f"
             ],
             [
              0.2222222222222222,
              "#7201a8"
             ],
             [
              0.3333333333333333,
              "#9c179e"
             ],
             [
              0.4444444444444444,
              "#bd3786"
             ],
             [
              0.5555555555555556,
              "#d8576b"
             ],
             [
              0.6666666666666666,
              "#ed7953"
             ],
             [
              0.7777777777777778,
              "#fb9f3a"
             ],
             [
              0.8888888888888888,
              "#fdca26"
             ],
             [
              1,
              "#f0f921"
             ]
            ],
            "type": "histogram2d"
           }
          ],
          "histogram2dcontour": [
           {
            "colorbar": {
             "outlinewidth": 0,
             "ticks": ""
            },
            "colorscale": [
             [
              0,
              "#0d0887"
             ],
             [
              0.1111111111111111,
              "#46039f"
             ],
             [
              0.2222222222222222,
              "#7201a8"
             ],
             [
              0.3333333333333333,
              "#9c179e"
             ],
             [
              0.4444444444444444,
              "#bd3786"
             ],
             [
              0.5555555555555556,
              "#d8576b"
             ],
             [
              0.6666666666666666,
              "#ed7953"
             ],
             [
              0.7777777777777778,
              "#fb9f3a"
             ],
             [
              0.8888888888888888,
              "#fdca26"
             ],
             [
              1,
              "#f0f921"
             ]
            ],
            "type": "histogram2dcontour"
           }
          ],
          "mesh3d": [
           {
            "colorbar": {
             "outlinewidth": 0,
             "ticks": ""
            },
            "type": "mesh3d"
           }
          ],
          "parcoords": [
           {
            "line": {
             "colorbar": {
              "outlinewidth": 0,
              "ticks": ""
             }
            },
            "type": "parcoords"
           }
          ],
          "pie": [
           {
            "automargin": true,
            "type": "pie"
           }
          ],
          "scatter": [
           {
            "fillpattern": {
             "fillmode": "overlay",
             "size": 10,
             "solidity": 0.2
            },
            "type": "scatter"
           }
          ],
          "scatter3d": [
           {
            "line": {
             "colorbar": {
              "outlinewidth": 0,
              "ticks": ""
             }
            },
            "marker": {
             "colorbar": {
              "outlinewidth": 0,
              "ticks": ""
             }
            },
            "type": "scatter3d"
           }
          ],
          "scattercarpet": [
           {
            "marker": {
             "colorbar": {
              "outlinewidth": 0,
              "ticks": ""
             }
            },
            "type": "scattercarpet"
           }
          ],
          "scattergeo": [
           {
            "marker": {
             "colorbar": {
              "outlinewidth": 0,
              "ticks": ""
             }
            },
            "type": "scattergeo"
           }
          ],
          "scattergl": [
           {
            "marker": {
             "colorbar": {
              "outlinewidth": 0,
              "ticks": ""
             }
            },
            "type": "scattergl"
           }
          ],
          "scattermapbox": [
           {
            "marker": {
             "colorbar": {
              "outlinewidth": 0,
              "ticks": ""
             }
            },
            "type": "scattermapbox"
           }
          ],
          "scatterpolar": [
           {
            "marker": {
             "colorbar": {
              "outlinewidth": 0,
              "ticks": ""
             }
            },
            "type": "scatterpolar"
           }
          ],
          "scatterpolargl": [
           {
            "marker": {
             "colorbar": {
              "outlinewidth": 0,
              "ticks": ""
             }
            },
            "type": "scatterpolargl"
           }
          ],
          "scatterternary": [
           {
            "marker": {
             "colorbar": {
              "outlinewidth": 0,
              "ticks": ""
             }
            },
            "type": "scatterternary"
           }
          ],
          "surface": [
           {
            "colorbar": {
             "outlinewidth": 0,
             "ticks": ""
            },
            "colorscale": [
             [
              0,
              "#0d0887"
             ],
             [
              0.1111111111111111,
              "#46039f"
             ],
             [
              0.2222222222222222,
              "#7201a8"
             ],
             [
              0.3333333333333333,
              "#9c179e"
             ],
             [
              0.4444444444444444,
              "#bd3786"
             ],
             [
              0.5555555555555556,
              "#d8576b"
             ],
             [
              0.6666666666666666,
              "#ed7953"
             ],
             [
              0.7777777777777778,
              "#fb9f3a"
             ],
             [
              0.8888888888888888,
              "#fdca26"
             ],
             [
              1,
              "#f0f921"
             ]
            ],
            "type": "surface"
           }
          ],
          "table": [
           {
            "cells": {
             "fill": {
              "color": "#EBF0F8"
             },
             "line": {
              "color": "white"
             }
            },
            "header": {
             "fill": {
              "color": "#C8D4E3"
             },
             "line": {
              "color": "white"
             }
            },
            "type": "table"
           }
          ]
         },
         "layout": {
          "annotationdefaults": {
           "arrowcolor": "#2a3f5f",
           "arrowhead": 0,
           "arrowwidth": 1
          },
          "autotypenumbers": "strict",
          "coloraxis": {
           "colorbar": {
            "outlinewidth": 0,
            "ticks": ""
           }
          },
          "colorscale": {
           "diverging": [
            [
             0,
             "#8e0152"
            ],
            [
             0.1,
             "#c51b7d"
            ],
            [
             0.2,
             "#de77ae"
            ],
            [
             0.3,
             "#f1b6da"
            ],
            [
             0.4,
             "#fde0ef"
            ],
            [
             0.5,
             "#f7f7f7"
            ],
            [
             0.6,
             "#e6f5d0"
            ],
            [
             0.7,
             "#b8e186"
            ],
            [
             0.8,
             "#7fbc41"
            ],
            [
             0.9,
             "#4d9221"
            ],
            [
             1,
             "#276419"
            ]
           ],
           "sequential": [
            [
             0,
             "#0d0887"
            ],
            [
             0.1111111111111111,
             "#46039f"
            ],
            [
             0.2222222222222222,
             "#7201a8"
            ],
            [
             0.3333333333333333,
             "#9c179e"
            ],
            [
             0.4444444444444444,
             "#bd3786"
            ],
            [
             0.5555555555555556,
             "#d8576b"
            ],
            [
             0.6666666666666666,
             "#ed7953"
            ],
            [
             0.7777777777777778,
             "#fb9f3a"
            ],
            [
             0.8888888888888888,
             "#fdca26"
            ],
            [
             1,
             "#f0f921"
            ]
           ],
           "sequentialminus": [
            [
             0,
             "#0d0887"
            ],
            [
             0.1111111111111111,
             "#46039f"
            ],
            [
             0.2222222222222222,
             "#7201a8"
            ],
            [
             0.3333333333333333,
             "#9c179e"
            ],
            [
             0.4444444444444444,
             "#bd3786"
            ],
            [
             0.5555555555555556,
             "#d8576b"
            ],
            [
             0.6666666666666666,
             "#ed7953"
            ],
            [
             0.7777777777777778,
             "#fb9f3a"
            ],
            [
             0.8888888888888888,
             "#fdca26"
            ],
            [
             1,
             "#f0f921"
            ]
           ]
          },
          "colorway": [
           "#636efa",
           "#EF553B",
           "#00cc96",
           "#ab63fa",
           "#FFA15A",
           "#19d3f3",
           "#FF6692",
           "#B6E880",
           "#FF97FF",
           "#FECB52"
          ],
          "font": {
           "color": "#2a3f5f"
          },
          "geo": {
           "bgcolor": "white",
           "lakecolor": "white",
           "landcolor": "#E5ECF6",
           "showlakes": true,
           "showland": true,
           "subunitcolor": "white"
          },
          "hoverlabel": {
           "align": "left"
          },
          "hovermode": "closest",
          "mapbox": {
           "style": "light"
          },
          "paper_bgcolor": "white",
          "plot_bgcolor": "#E5ECF6",
          "polar": {
           "angularaxis": {
            "gridcolor": "white",
            "linecolor": "white",
            "ticks": ""
           },
           "bgcolor": "#E5ECF6",
           "radialaxis": {
            "gridcolor": "white",
            "linecolor": "white",
            "ticks": ""
           }
          },
          "scene": {
           "xaxis": {
            "backgroundcolor": "#E5ECF6",
            "gridcolor": "white",
            "gridwidth": 2,
            "linecolor": "white",
            "showbackground": true,
            "ticks": "",
            "zerolinecolor": "white"
           },
           "yaxis": {
            "backgroundcolor": "#E5ECF6",
            "gridcolor": "white",
            "gridwidth": 2,
            "linecolor": "white",
            "showbackground": true,
            "ticks": "",
            "zerolinecolor": "white"
           },
           "zaxis": {
            "backgroundcolor": "#E5ECF6",
            "gridcolor": "white",
            "gridwidth": 2,
            "linecolor": "white",
            "showbackground": true,
            "ticks": "",
            "zerolinecolor": "white"
           }
          },
          "shapedefaults": {
           "line": {
            "color": "#2a3f5f"
           }
          },
          "ternary": {
           "aaxis": {
            "gridcolor": "white",
            "linecolor": "white",
            "ticks": ""
           },
           "baxis": {
            "gridcolor": "white",
            "linecolor": "white",
            "ticks": ""
           },
           "bgcolor": "#E5ECF6",
           "caxis": {
            "gridcolor": "white",
            "linecolor": "white",
            "ticks": ""
           }
          },
          "title": {
           "x": 0.05
          },
          "xaxis": {
           "automargin": true,
           "gridcolor": "white",
           "linecolor": "white",
           "ticks": "",
           "title": {
            "standoff": 15
           },
           "zerolinecolor": "white",
           "zerolinewidth": 2
          },
          "yaxis": {
           "automargin": true,
           "gridcolor": "white",
           "linecolor": "white",
           "ticks": "",
           "title": {
            "standoff": 15
           },
           "zerolinecolor": "white",
           "zerolinewidth": 2
          }
         }
        },
        "xaxis": {
         "anchor": "y",
         "domain": [
          0,
          1
         ],
         "title": {
          "text": "value"
         }
        },
        "yaxis": {
         "anchor": "x",
         "domain": [
          0,
          1
         ],
         "title": {
          "text": "count"
         }
        }
       }
      },
      "text/html": [
       "<div>                            <div id=\"3499646c-f68c-4228-b4f3-915df0a7371d\" class=\"plotly-graph-div\" style=\"height:525px; width:100%;\"></div>            <script type=\"text/javascript\">                require([\"plotly\"], function(Plotly) {                    window.PLOTLYENV=window.PLOTLYENV || {};                                    if (document.getElementById(\"3499646c-f68c-4228-b4f3-915df0a7371d\")) {                    Plotly.newPlot(                        \"3499646c-f68c-4228-b4f3-915df0a7371d\",                        [{\"alignmentgroup\":\"True\",\"bingroup\":\"x\",\"hovertemplate\":\"variable=wind<br>value=%{x}<br>count=%{y}<extra></extra>\",\"legendgroup\":\"wind\",\"marker\":{\"color\":\"#636efa\",\"opacity\":0.5,\"pattern\":{\"shape\":\"\"}},\"name\":\"wind\",\"offsetgroup\":\"wind\",\"orientation\":\"v\",\"showlegend\":true,\"x\":[6.7,0.9,1.3,4.0,1.8,5.4,3.1,2.2,5.4,4.0,7.2,4.0,6.7,2.2,4.5,5.4,5.4,4.9,4.0,4.5,2.7,2.7,4.5,5.8,5.8,5.4,5.8,1.3,2.7,3.6,3.6,7.6,1.8,3.6,2.7,4.5,4.5,5.4,4.0,2.7,3.1,6.7,5.4,2.7,4.9,4.0,3.6,3.1,1.8,5.8,1.3,2.2,4.9,4.9,3.6,2.2,4.9,2.7,5.4,0.9,5.8,6.3,4.9,2.7,3.1,4.5,4.5,5.4,6.3,4.5,7.6,3.6,6.3,4.5,1.3,3.1,3.1,3.1,2.7,6.7,6.3,2.2,4.5,0.9,3.6,0.9,2.2,2.2,3.6,4.9,5.8,5.4,6.3,4.9,2.7,1.3,1.8,5.4,4.5,5.4,5.4,5.4,4.0,4.5,3.1,6.3,3.1,3.1,3.1,5.4,5.8,4.5,3.6,2.7,7.6,6.3,6.3,4.9,4.0,3.1,2.2,5.4,5.4,3.1,5.4,5.4,2.2,3.1,3.6,0.9,2.7,3.1,4.9,3.1,2.7,5.8,1.3,3.1,2.7,2.2,1.8,4.5,8.9,5.4,5.4,4.0,5.4,3.6,6.7,4.5,5.4,2.2,1.8,4.9,2.7,1.3,2.2,3.6,4.0,5.8,3.1,4.0,8.5,1.8,2.2,4.5,0.9,4.5,9.4,2.2,1.8,4.0,5.4,2.2,1.8,4.9,5.8,2.7,2.2,5.4,6.7,4.0,2.2,4.5,4.9,3.1,5.8,2.2,0.9,4.0,4.0,2.7,4.5,4.0,4.5,5.4,5.8,0.9,6.3,3.6,2.2,3.6,2.2,2.7,4.0,1.8,7.2,2.2,6.3,4.9,3.1,5.8,4.9,5.8,4.9,4.9,1.3,6.3,1.3,3.1,3.1,3.6,5.8,3.6,4.5,4.9,4.0,4.5,3.1,4.0,4.5,3.1,2.7,3.1,3.1,5.8,1.8,2.2,4.0,1.8,2.7,3.1,4.0,7.6,7.6,6.3,5.4,2.2,2.7,0.4,3.1,3.1,3.6,2.7,3.1,4.0,2.2,2.7,0.9,1.8,4.0,7.6,3.1,3.6,3.1,7.6,4.0,3.1,3.1,2.7,3.1,4.5,4.0,8.5,8.0,4.9,8.5,8.5,8.5,8.5,4.9,8.5,4.0,3.1,8.0,6.3,7.6,2.7,1.8,1.8,1.8,0.9,1.3,5.4,3.6,1.3,1.8,2.2,4.9,2.7,4.9,5.4,4.5,4.5,4.9,2.2,5.4,3.6,1.8,2.2,2.7,1.8,6.3,4.9,1.8,2.7,5.8,4.9,2.2,6.3,7.2,4.0,4.0,2.7,1.8,3.1,3.1,2.2,1.8,4.0,3.1,4.5,2.2,3.1,5.4,1.8,2.2,2.2,2.2,1.8,2.2,2.2,1.8,4.5,4.9,3.1,2.2,3.6,4.5,3.6,3.6,6.3,3.6,2.7,2.2,4.9,4.9,3.6,2.7,2.2,2.2,4.0,3.1,2.2,2.7,3.1,5.4,3.6,4.9,7.6,7.6,4.0,0.9,2.7,4.0,4.9,2.2,2.2,5.8,0.9,7.2,2.7,1.8,2.7,4.5,2.2,5.4,5.4,3.1,3.1,6.3,2.7,4.0,7.6,1.8,1.8,4.9,3.6,3.1,4.5,4.5,4.0,4.0,3.6,2.2,2.2,4.9,4.0,3.1,5.4,2.7,9.4,4.5,3.6,4.0,4.9,3.1,5.8,5.4,4.0,4.5,4.5,3.6,4.0,3.6,2.2,2.2,2.2,5.8,4.0,3.6,4.0,6.7,4.9,3.6,1.8,1.3,2.7,4.0,2.2,3.6,1.8,3.1,8.0,3.6,4.5,2.2,8.0,4.0,4.9,5.4,4.9,4.0,3.1,3.1,2.7,2.7,4.0,4.9,8.0,4.9,4.9,7.6,6.3,5.4,0.9,5.8,5.4,3.6,9.4,5.8,4.0,4.0,3.1,2.7,9.4,1.3,4.0,4.5,4.9,4.5,4.9,5.8,5.4,4.0,3.6,6.3,3.6,7.6,1.3,4.0,4.5,2.2,4.5,4.9,2.2,3.1,2.2,2.7,4.9,4.9,4.9,4.9,4.9,4.9,1.8,8.5,3.6,3.6,7.6,5.4,2.7,2.7,5.8,6.7,4.0,4.5],\"xaxis\":\"x\",\"yaxis\":\"y\",\"type\":\"histogram\"},{\"alignmentgroup\":\"True\",\"bingroup\":\"x\",\"hovertemplate\":\"variable=temp<br>value=%{x}<br>count=%{y}<extra></extra>\",\"legendgroup\":\"temp\",\"marker\":{\"color\":\"#EF553B\",\"opacity\":0.5,\"pattern\":{\"shape\":\"\"}},\"name\":\"temp\",\"offsetgroup\":\"temp\",\"orientation\":\"v\",\"showlegend\":true,\"x\":[8.2,18.0,14.6,8.3,11.4,22.2,24.1,8.0,13.1,22.8,17.8,19.3,17.0,21.3,26.4,22.9,15.1,16.7,15.9,9.3,18.3,19.1,21.0,19.5,23.7,16.3,19.0,19.4,30.2,22.8,25.4,11.2,20.6,17.7,21.2,18.2,21.7,11.3,17.8,14.1,23.3,18.4,16.6,19.6,12.9,25.9,14.7,23.0,11.8,11.0,20.8,21.5,20.4,20.4,17.6,27.7,17.8,13.8,13.9,12.3,11.5,5.5,18.8,20.8,23.1,18.6,23.0,19.6,19.6,17.2,15.8,17.7,15.6,17.3,27.6,6.7,15.7,8.3,14.7,21.6,19.5,17.9,18.6,16.6,20.2,21.5,25.4,22.4,25.3,17.4,14.7,17.4,20.8,18.2,23.4,17.8,12.7,17.4,11.6,19.8,19.8,14.4,20.1,24.1,5.3,12.7,18.2,21.4,20.3,17.4,13.7,18.8,22.8,18.9,15.8,15.5,11.6,15.2,10.6,19.6,10.3,17.1,22.5,17.9,19.8,20.6,9.0,17.2,15.9,15.4,15.4,14.0,10.6,17.6,14.9,17.6,17.2,15.6,18.0,21.7,21.9,23.3,21.2,16.6,23.8,27.4,13.2,24.2,17.4,23.7,23.2,24.8,24.6,20.1,29.6,16.4,28.6,18.4,20.5,19.0,16.1,20.3,15.2,17.8,17.8,5.3,16.6,23.4,14.6,20.7,21.9,17.4,20.1,17.7,14.2,20.3,5.8,19.2,18.3,14.4,23.9,19.1,12.4,16.8,20.8,17.6,11.5,21.0,13.3,11.5,11.7,24.2,24.6,24.3,24.6,23.5,5.8,21.5,13.9,22.6,21.6,12.4,8.8,20.2,15.1,22.1,22.9,20.7,19.6,23.2,18.4,5.1,20.1,11.0,17.0,17.0,16.9,12.4,19.4,15.2,16.2,18.6,11.0,13.4,15.4,22.9,16.1,20.1,28.3,16.4,26.4,27.8,18.7,24.3,17.7,19.6,18.2,18.8,25.1,13.4,15.2,16.7,15.4,21.9,22.4,26.8,25.7,20.7,28.7,21.7,26.8,24.0,22.1,21.4,18.9,22.3,23.9,21.4,20.6,23.7,28.3,11.2,21.4,19.3,21.8,22.1,19.4,23.7,21.0,19.1,21.8,20.1,20.2,4.8,5.1,5.1,4.6,4.6,4.6,4.6,2.2,5.1,4.2,8.8,7.5,23.4,12.6,22.1,24.2,24.3,18.7,25.3,22.9,26.9,17.1,22.2,14.3,15.4,19.6,10.6,20.7,19.1,19.2,19.2,11.3,19.0,17.1,23.8,16.0,24.9,25.3,24.8,12.2,24.3,19.7,18.5,18.6,19.2,21.6,21.6,18.9,16.8,16.8,12.9,13.7,24.2,24.1,21.2,19.7,23.5,24.2,21.5,17.1,18.1,18.0,9.8,19.3,23.0,22.7,20.4,19.3,15.7,20.6,15.9,12.2,16.8,21.3,10.1,17.4,12.8,10.1,15.4,20.6,19.8,18.7,20.8,20.8,15.9,19.7,21.1,18.4,17.3,15.2,15.9,21.1,19.6,15.9,16.4,16.8,13.8,13.8,14.2,10.4,20.3,10.3,15.4,21.1,21.9,8.7,5.2,19.3,16.2,28.2,20.5,21.3,20.9,20.6,11.6,23.3,23.3,7.5,20.7,21.9,15.2,5.3,10.1,20.4,24.3,25.9,28.0,28.0,22.8,25.0,21.3,21.8,27.9,17.0,14.2,19.9,23.4,14.7,8.2,22.8,26.4,24.1,27.5,26.3,13.8,24.9,24.8,26.2,30.8,29.3,22.3,26.9,20.4,20.4,27.9,26.2,24.6,19.4,23.3,23.9,20.9,22.2,23.8,26.8,14.2,23.6,19.1,16.2,25.5,10.9,14.8,16.2,17.3,19.1,8.9,10.5,19.3,23.4,11.8,17.7,17.4,16.8,17.9,16.6,19.9,18.9,15.5,18.9,18.9,14.5,4.6,5.1,4.6,10.2,11.2,13.3,13.7,17.6,18.0,14.3,24.5,26.4,22.7,27.2,26.1,18.2,22.6,30.2,30.2,23.4,31.0,33.1,30.6,24.1,26.4,19.4,20.6,28.7,32.4,32.4,27.5,30.8,23.9,32.6,32.3,33.3,27.3,21.6,21.6,20.7,29.2,28.9,26.7,18.5,25.9,25.9,21.1,18.2,27.8,27.8,21.9,21.2,25.6,11.8],\"xaxis\":\"x\",\"yaxis\":\"y\",\"type\":\"histogram\"}],                        {\"template\":{\"data\":{\"histogram2dcontour\":[{\"type\":\"histogram2dcontour\",\"colorbar\":{\"outlinewidth\":0,\"ticks\":\"\"},\"colorscale\":[[0.0,\"#0d0887\"],[0.1111111111111111,\"#46039f\"],[0.2222222222222222,\"#7201a8\"],[0.3333333333333333,\"#9c179e\"],[0.4444444444444444,\"#bd3786\"],[0.5555555555555556,\"#d8576b\"],[0.6666666666666666,\"#ed7953\"],[0.7777777777777778,\"#fb9f3a\"],[0.8888888888888888,\"#fdca26\"],[1.0,\"#f0f921\"]]}],\"choropleth\":[{\"type\":\"choropleth\",\"colorbar\":{\"outlinewidth\":0,\"ticks\":\"\"}}],\"histogram2d\":[{\"type\":\"histogram2d\",\"colorbar\":{\"outlinewidth\":0,\"ticks\":\"\"},\"colorscale\":[[0.0,\"#0d0887\"],[0.1111111111111111,\"#46039f\"],[0.2222222222222222,\"#7201a8\"],[0.3333333333333333,\"#9c179e\"],[0.4444444444444444,\"#bd3786\"],[0.5555555555555556,\"#d8576b\"],[0.6666666666666666,\"#ed7953\"],[0.7777777777777778,\"#fb9f3a\"],[0.8888888888888888,\"#fdca26\"],[1.0,\"#f0f921\"]]}],\"heatmap\":[{\"type\":\"heatmap\",\"colorbar\":{\"outlinewidth\":0,\"ticks\":\"\"},\"colorscale\":[[0.0,\"#0d0887\"],[0.1111111111111111,\"#46039f\"],[0.2222222222222222,\"#7201a8\"],[0.3333333333333333,\"#9c179e\"],[0.4444444444444444,\"#bd3786\"],[0.5555555555555556,\"#d8576b\"],[0.6666666666666666,\"#ed7953\"],[0.7777777777777778,\"#fb9f3a\"],[0.8888888888888888,\"#fdca26\"],[1.0,\"#f0f921\"]]}],\"heatmapgl\":[{\"type\":\"heatmapgl\",\"colorbar\":{\"outlinewidth\":0,\"ticks\":\"\"},\"colorscale\":[[0.0,\"#0d0887\"],[0.1111111111111111,\"#46039f\"],[0.2222222222222222,\"#7201a8\"],[0.3333333333333333,\"#9c179e\"],[0.4444444444444444,\"#bd3786\"],[0.5555555555555556,\"#d8576b\"],[0.6666666666666666,\"#ed7953\"],[0.7777777777777778,\"#fb9f3a\"],[0.8888888888888888,\"#fdca26\"],[1.0,\"#f0f921\"]]}],\"contourcarpet\":[{\"type\":\"contourcarpet\",\"colorbar\":{\"outlinewidth\":0,\"ticks\":\"\"}}],\"contour\":[{\"type\":\"contour\",\"colorbar\":{\"outlinewidth\":0,\"ticks\":\"\"},\"colorscale\":[[0.0,\"#0d0887\"],[0.1111111111111111,\"#46039f\"],[0.2222222222222222,\"#7201a8\"],[0.3333333333333333,\"#9c179e\"],[0.4444444444444444,\"#bd3786\"],[0.5555555555555556,\"#d8576b\"],[0.6666666666666666,\"#ed7953\"],[0.7777777777777778,\"#fb9f3a\"],[0.8888888888888888,\"#fdca26\"],[1.0,\"#f0f921\"]]}],\"surface\":[{\"type\":\"surface\",\"colorbar\":{\"outlinewidth\":0,\"ticks\":\"\"},\"colorscale\":[[0.0,\"#0d0887\"],[0.1111111111111111,\"#46039f\"],[0.2222222222222222,\"#7201a8\"],[0.3333333333333333,\"#9c179e\"],[0.4444444444444444,\"#bd3786\"],[0.5555555555555556,\"#d8576b\"],[0.6666666666666666,\"#ed7953\"],[0.7777777777777778,\"#fb9f3a\"],[0.8888888888888888,\"#fdca26\"],[1.0,\"#f0f921\"]]}],\"mesh3d\":[{\"type\":\"mesh3d\",\"colorbar\":{\"outlinewidth\":0,\"ticks\":\"\"}}],\"scatter\":[{\"fillpattern\":{\"fillmode\":\"overlay\",\"size\":10,\"solidity\":0.2},\"type\":\"scatter\"}],\"parcoords\":[{\"type\":\"parcoords\",\"line\":{\"colorbar\":{\"outlinewidth\":0,\"ticks\":\"\"}}}],\"scatterpolargl\":[{\"type\":\"scatterpolargl\",\"marker\":{\"colorbar\":{\"outlinewidth\":0,\"ticks\":\"\"}}}],\"bar\":[{\"error_x\":{\"color\":\"#2a3f5f\"},\"error_y\":{\"color\":\"#2a3f5f\"},\"marker\":{\"line\":{\"color\":\"#E5ECF6\",\"width\":0.5},\"pattern\":{\"fillmode\":\"overlay\",\"size\":10,\"solidity\":0.2}},\"type\":\"bar\"}],\"scattergeo\":[{\"type\":\"scattergeo\",\"marker\":{\"colorbar\":{\"outlinewidth\":0,\"ticks\":\"\"}}}],\"scatterpolar\":[{\"type\":\"scatterpolar\",\"marker\":{\"colorbar\":{\"outlinewidth\":0,\"ticks\":\"\"}}}],\"histogram\":[{\"marker\":{\"pattern\":{\"fillmode\":\"overlay\",\"size\":10,\"solidity\":0.2}},\"type\":\"histogram\"}],\"scattergl\":[{\"type\":\"scattergl\",\"marker\":{\"colorbar\":{\"outlinewidth\":0,\"ticks\":\"\"}}}],\"scatter3d\":[{\"type\":\"scatter3d\",\"line\":{\"colorbar\":{\"outlinewidth\":0,\"ticks\":\"\"}},\"marker\":{\"colorbar\":{\"outlinewidth\":0,\"ticks\":\"\"}}}],\"scattermapbox\":[{\"type\":\"scattermapbox\",\"marker\":{\"colorbar\":{\"outlinewidth\":0,\"ticks\":\"\"}}}],\"scatterternary\":[{\"type\":\"scatterternary\",\"marker\":{\"colorbar\":{\"outlinewidth\":0,\"ticks\":\"\"}}}],\"scattercarpet\":[{\"type\":\"scattercarpet\",\"marker\":{\"colorbar\":{\"outlinewidth\":0,\"ticks\":\"\"}}}],\"carpet\":[{\"aaxis\":{\"endlinecolor\":\"#2a3f5f\",\"gridcolor\":\"white\",\"linecolor\":\"white\",\"minorgridcolor\":\"white\",\"startlinecolor\":\"#2a3f5f\"},\"baxis\":{\"endlinecolor\":\"#2a3f5f\",\"gridcolor\":\"white\",\"linecolor\":\"white\",\"minorgridcolor\":\"white\",\"startlinecolor\":\"#2a3f5f\"},\"type\":\"carpet\"}],\"table\":[{\"cells\":{\"fill\":{\"color\":\"#EBF0F8\"},\"line\":{\"color\":\"white\"}},\"header\":{\"fill\":{\"color\":\"#C8D4E3\"},\"line\":{\"color\":\"white\"}},\"type\":\"table\"}],\"barpolar\":[{\"marker\":{\"line\":{\"color\":\"#E5ECF6\",\"width\":0.5},\"pattern\":{\"fillmode\":\"overlay\",\"size\":10,\"solidity\":0.2}},\"type\":\"barpolar\"}],\"pie\":[{\"automargin\":true,\"type\":\"pie\"}]},\"layout\":{\"autotypenumbers\":\"strict\",\"colorway\":[\"#636efa\",\"#EF553B\",\"#00cc96\",\"#ab63fa\",\"#FFA15A\",\"#19d3f3\",\"#FF6692\",\"#B6E880\",\"#FF97FF\",\"#FECB52\"],\"font\":{\"color\":\"#2a3f5f\"},\"hovermode\":\"closest\",\"hoverlabel\":{\"align\":\"left\"},\"paper_bgcolor\":\"white\",\"plot_bgcolor\":\"#E5ECF6\",\"polar\":{\"bgcolor\":\"#E5ECF6\",\"angularaxis\":{\"gridcolor\":\"white\",\"linecolor\":\"white\",\"ticks\":\"\"},\"radialaxis\":{\"gridcolor\":\"white\",\"linecolor\":\"white\",\"ticks\":\"\"}},\"ternary\":{\"bgcolor\":\"#E5ECF6\",\"aaxis\":{\"gridcolor\":\"white\",\"linecolor\":\"white\",\"ticks\":\"\"},\"baxis\":{\"gridcolor\":\"white\",\"linecolor\":\"white\",\"ticks\":\"\"},\"caxis\":{\"gridcolor\":\"white\",\"linecolor\":\"white\",\"ticks\":\"\"}},\"coloraxis\":{\"colorbar\":{\"outlinewidth\":0,\"ticks\":\"\"}},\"colorscale\":{\"sequential\":[[0.0,\"#0d0887\"],[0.1111111111111111,\"#46039f\"],[0.2222222222222222,\"#7201a8\"],[0.3333333333333333,\"#9c179e\"],[0.4444444444444444,\"#bd3786\"],[0.5555555555555556,\"#d8576b\"],[0.6666666666666666,\"#ed7953\"],[0.7777777777777778,\"#fb9f3a\"],[0.8888888888888888,\"#fdca26\"],[1.0,\"#f0f921\"]],\"sequentialminus\":[[0.0,\"#0d0887\"],[0.1111111111111111,\"#46039f\"],[0.2222222222222222,\"#7201a8\"],[0.3333333333333333,\"#9c179e\"],[0.4444444444444444,\"#bd3786\"],[0.5555555555555556,\"#d8576b\"],[0.6666666666666666,\"#ed7953\"],[0.7777777777777778,\"#fb9f3a\"],[0.8888888888888888,\"#fdca26\"],[1.0,\"#f0f921\"]],\"diverging\":[[0,\"#8e0152\"],[0.1,\"#c51b7d\"],[0.2,\"#de77ae\"],[0.3,\"#f1b6da\"],[0.4,\"#fde0ef\"],[0.5,\"#f7f7f7\"],[0.6,\"#e6f5d0\"],[0.7,\"#b8e186\"],[0.8,\"#7fbc41\"],[0.9,\"#4d9221\"],[1,\"#276419\"]]},\"xaxis\":{\"gridcolor\":\"white\",\"linecolor\":\"white\",\"ticks\":\"\",\"title\":{\"standoff\":15},\"zerolinecolor\":\"white\",\"automargin\":true,\"zerolinewidth\":2},\"yaxis\":{\"gridcolor\":\"white\",\"linecolor\":\"white\",\"ticks\":\"\",\"title\":{\"standoff\":15},\"zerolinecolor\":\"white\",\"automargin\":true,\"zerolinewidth\":2},\"scene\":{\"xaxis\":{\"backgroundcolor\":\"#E5ECF6\",\"gridcolor\":\"white\",\"linecolor\":\"white\",\"showbackground\":true,\"ticks\":\"\",\"zerolinecolor\":\"white\",\"gridwidth\":2},\"yaxis\":{\"backgroundcolor\":\"#E5ECF6\",\"gridcolor\":\"white\",\"linecolor\":\"white\",\"showbackground\":true,\"ticks\":\"\",\"zerolinecolor\":\"white\",\"gridwidth\":2},\"zaxis\":{\"backgroundcolor\":\"#E5ECF6\",\"gridcolor\":\"white\",\"linecolor\":\"white\",\"showbackground\":true,\"ticks\":\"\",\"zerolinecolor\":\"white\",\"gridwidth\":2}},\"shapedefaults\":{\"line\":{\"color\":\"#2a3f5f\"}},\"annotationdefaults\":{\"arrowcolor\":\"#2a3f5f\",\"arrowhead\":0,\"arrowwidth\":1},\"geo\":{\"bgcolor\":\"white\",\"landcolor\":\"#E5ECF6\",\"subunitcolor\":\"white\",\"showland\":true,\"showlakes\":true,\"lakecolor\":\"white\"},\"title\":{\"x\":0.05},\"mapbox\":{\"style\":\"light\"}}},\"xaxis\":{\"anchor\":\"y\",\"domain\":[0.0,1.0],\"title\":{\"text\":\"value\"}},\"yaxis\":{\"anchor\":\"x\",\"domain\":[0.0,1.0],\"title\":{\"text\":\"count\"}},\"legend\":{\"title\":{\"text\":\"variable\"},\"tracegroupgap\":0},\"margin\":{\"t\":60},\"barmode\":\"overlay\"},                        {\"responsive\": true}                    ).then(function(){\n",
       "                            \n",
       "var gd = document.getElementById('3499646c-f68c-4228-b4f3-915df0a7371d');\n",
       "var x = new MutationObserver(function (mutations, observer) {{\n",
       "        var display = window.getComputedStyle(gd).display;\n",
       "        if (!display || display === 'none') {{\n",
       "            console.log([gd, 'removed!']);\n",
       "            Plotly.purge(gd);\n",
       "            observer.disconnect();\n",
       "        }}\n",
       "}});\n",
       "\n",
       "// Listen for the removal of the full notebook cells\n",
       "var notebookContainer = gd.closest('#notebook-container');\n",
       "if (notebookContainer) {{\n",
       "    x.observe(notebookContainer, {childList: true});\n",
       "}}\n",
       "\n",
       "// Listen for the clearing of the current output cell\n",
       "var outputEl = gd.closest('.output');\n",
       "if (outputEl) {{\n",
       "    x.observe(outputEl, {childList: true});\n",
       "}}\n",
       "\n",
       "                        })                };                });            </script>        </div>"
      ]
     },
     "metadata": {},
     "output_type": "display_data"
    }
   ],
   "source": [
    "fig = px.histogram(df, x= [\"wind\",\"temp\"],  barmode=\"overlay\")\n",
    "fig.show()"
   ]
  },
  {
   "cell_type": "code",
   "execution_count": 58,
   "id": "010935ac",
   "metadata": {},
   "outputs": [
    {
     "data": {
      "application/vnd.plotly.v1+json": {
       "config": {
        "plotlyServerURL": "https://plot.ly"
       },
       "data": [
        {
         "fillpattern": {
          "shape": ""
         },
         "hovertemplate": "day=fri<br>temp=%{x}<br>wind=%{y}<extra></extra>",
         "legendgroup": "fri",
         "line": {
          "color": "#636efa"
         },
         "marker": {
          "symbol": "circle"
         },
         "mode": "lines",
         "name": "fri",
         "orientation": "v",
         "showlegend": true,
         "stackgroup": "1",
         "type": "scatter",
         "x": [
          8.2,
          8.3,
          17,
          22.9,
          19,
          25.4,
          20.6,
          11.3,
          12.3,
          23,
          19.6,
          19.6,
          17.2,
          15.8,
          17.7,
          15.6,
          27.6,
          15.7,
          14.7,
          17.4,
          12.7,
          13.7,
          18.8,
          19.8,
          17.2,
          21.2,
          23.2,
          20.1,
          19,
          14.6,
          20.8,
          11.7,
          23.5,
          19.6,
          20.1,
          18.6,
          13.4,
          16.7,
          11.2,
          21.4,
          19.3,
          21.8,
          2.2,
          7.5,
          22.9,
          19.2,
          19.2,
          10.1,
          17.4,
          12.8,
          10.1,
          15.4,
          20.6,
          19.8,
          18.7,
          20.8,
          20.8,
          15.9,
          19.7,
          21.1,
          18.4,
          17.3,
          15.2,
          10.3,
          23.3,
          23.3,
          20.7,
          25,
          19.9,
          14.7,
          8.2,
          22.2,
          19.1,
          16.2,
          14.8,
          16.2,
          11.8,
          18,
          32.4,
          27.5,
          18.5,
          25.9,
          25.9,
          21.1,
          18.2
         ],
         "xaxis": "x",
         "y": [
          6.7,
          4,
          6.7,
          5.4,
          5.8,
          3.6,
          1.8,
          5.4,
          0.9,
          4.5,
          5.4,
          6.3,
          4.5,
          7.6,
          3.6,
          6.3,
          1.3,
          3.1,
          2.7,
          5.4,
          6.3,
          5.8,
          4.5,
          5.4,
          3.1,
          8.9,
          5.4,
          4.9,
          5.8,
          9.4,
          4.9,
          4,
          5.4,
          6.3,
          4.9,
          3.6,
          3.6,
          3.1,
          7.6,
          3.1,
          3.6,
          3.1,
          4.9,
          8,
          1.3,
          4.5,
          4.5,
          3.6,
          4.5,
          3.6,
          3.6,
          6.3,
          3.6,
          2.7,
          2.2,
          4.9,
          4.9,
          3.6,
          2.7,
          2.2,
          2.2,
          4,
          3.1,
          4,
          3.1,
          3.1,
          2.7,
          4,
          3.1,
          2.7,
          9.4,
          3.6,
          2.2,
          3.6,
          8,
          3.6,
          4.9,
          4,
          2.2,
          4.5,
          8.5,
          3.6,
          3.6,
          7.6,
          5.4
         ],
         "yaxis": "y"
        },
        {
         "fillpattern": {
          "shape": ""
         },
         "hovertemplate": "day=tue<br>temp=%{x}<br>wind=%{y}<extra></extra>",
         "legendgroup": "tue",
         "line": {
          "color": "#EF553B"
         },
         "marker": {
          "symbol": "circle"
         },
         "mode": "lines",
         "name": "tue",
         "orientation": "v",
         "showlegend": true,
         "stackgroup": "1",
         "type": "scatter",
         "x": [
          18,
          13.1,
          18.3,
          18.2,
          21.7,
          14.1,
          23.3,
          16.6,
          17.8,
          17.3,
          21.6,
          18.6,
          14.4,
          20.1,
          15.8,
          15.5,
          17.9,
          14.9,
          18,
          21.7,
          24.2,
          17.4,
          14.4,
          17.6,
          24.6,
          24.6,
          13.9,
          21.6,
          20.7,
          18.7,
          24.3,
          18.8,
          22.1,
          19.4,
          23.7,
          21,
          19.1,
          21.8,
          20.1,
          20.2,
          5.1,
          26.9,
          17.1,
          15.9,
          21.1,
          19.6,
          15.9,
          16.4,
          15.2,
          27.9,
          23.4,
          26.3,
          4.6,
          5.1,
          24.1,
          26.4,
          19.4,
          32.3,
          33.3,
          27.3,
          21.6,
          21.6,
          20.7,
          11.8
         ],
         "xaxis": "x",
         "y": [
          0.9,
          5.4,
          2.7,
          4.5,
          4.5,
          2.7,
          3.1,
          5.4,
          4.9,
          4.5,
          6.7,
          4.5,
          5.4,
          4,
          7.6,
          6.3,
          3.1,
          2.7,
          2.7,
          2.2,
          3.6,
          6.7,
          5.4,
          3.1,
          4.5,
          4.5,
          6.3,
          2.2,
          2.2,
          2.7,
          3.1,
          2.2,
          7.6,
          4,
          3.1,
          3.1,
          2.7,
          3.1,
          4.5,
          4,
          8.5,
          5.4,
          3.6,
          2.2,
          2.7,
          3.1,
          5.4,
          3.6,
          7.6,
          2.2,
          5.4,
          3.1,
          6.3,
          5.4,
          6.3,
          3.6,
          7.6,
          2.2,
          2.7,
          4.9,
          4.9,
          4.9,
          4.9,
          4.5
         ],
         "yaxis": "y"
        },
        {
         "fillpattern": {
          "shape": ""
         },
         "hovertemplate": "day=sat<br>temp=%{x}<br>wind=%{y}<extra></extra>",
         "legendgroup": "sat",
         "line": {
          "color": "#00cc96"
         },
         "marker": {
          "symbol": "circle"
         },
         "mode": "lines",
         "name": "sat",
         "orientation": "v",
         "showlegend": true,
         "stackgroup": "1",
         "type": "scatter",
         "x": [
          14.6,
          22.8,
          17.8,
          19.3,
          15.1,
          9.3,
          19.5,
          23.7,
          30.2,
          17.8,
          18.4,
          19.6,
          17.4,
          14.7,
          12.7,
          17.4,
          24.1,
          5.3,
          20.3,
          11.6,
          15.2,
          15.4,
          17.6,
          16.6,
          24.6,
          29.6,
          28.6,
          15.2,
          17.8,
          14.2,
          20.3,
          13.3,
          15.1,
          22.9,
          18.4,
          5.1,
          17,
          17,
          20.1,
          16.4,
          17.7,
          18.2,
          25.1,
          23.9,
          21.4,
          20.6,
          23.7,
          22.1,
          24.2,
          24.3,
          18.7,
          25.3,
          10.6,
          11.3,
          24.2,
          24.1,
          21.2,
          19.7,
          23.5,
          24.2,
          21.5,
          17.1,
          16.8,
          15.4,
          21.9,
          21.3,
          25.9,
          17,
          14.2,
          26.4,
          22.3,
          26.9,
          23.3,
          23.8,
          14.2,
          23.6,
          18.9,
          15.5,
          18.9,
          18.9,
          4.6,
          24.5,
          30.8,
          25.6
         ],
         "xaxis": "x",
         "y": [
          1.3,
          4,
          7.2,
          4,
          5.4,
          4.5,
          5.8,
          5.8,
          2.7,
          4,
          6.7,
          2.7,
          4.9,
          5.8,
          1.8,
          5.4,
          4.5,
          3.1,
          3.1,
          6.3,
          4.9,
          2.7,
          5.8,
          5.4,
          1.8,
          2.7,
          2.2,
          8.5,
          1.8,
          1.8,
          4.9,
          0.9,
          4,
          7.2,
          3.1,
          5.8,
          4.9,
          4.9,
          4.5,
          4,
          3.1,
          1.8,
          4,
          2.2,
          2.7,
          0.9,
          1.8,
          2.7,
          1.8,
          1.8,
          1.8,
          0.9,
          2.7,
          4.9,
          3.1,
          3.1,
          2.2,
          1.8,
          4,
          3.1,
          4.5,
          2.2,
          4.9,
          4.9,
          2.2,
          4.5,
          3.1,
          4.9,
          4,
          3.6,
          4,
          3.6,
          4,
          1.8,
          2.7,
          4,
          4.9,
          8,
          4.9,
          4.9,
          0.9,
          3.1,
          4.9,
          4
         ],
         "yaxis": "y"
        },
        {
         "fillpattern": {
          "shape": ""
         },
         "hovertemplate": "day=sun<br>temp=%{x}<br>wind=%{y}<extra></extra>",
         "legendgroup": "sun",
         "line": {
          "color": "#ab63fa"
         },
         "marker": {
          "symbol": "circle"
         },
         "mode": "lines",
         "name": "sun",
         "orientation": "v",
         "showlegend": true,
         "stackgroup": "1",
         "type": "scatter",
         "x": [
          11.4,
          22.2,
          21,
          16.3,
          22.8,
          17.7,
          21.5,
          13.8,
          11.5,
          5.5,
          20.8,
          19.5,
          17.9,
          25.3,
          20.8,
          18.2,
          17.8,
          11.6,
          19.8,
          19.8,
          21.4,
          22.8,
          22.5,
          20.6,
          15.4,
          10.6,
          17.2,
          24.8,
          16.4,
          17.8,
          20.1,
          19.2,
          23.9,
          12.4,
          11.5,
          11.5,
          12.4,
          8.8,
          16.9,
          16.2,
          22.9,
          28.3,
          27.8,
          19.6,
          13.4,
          15.4,
          21.9,
          22.4,
          26.8,
          25.7,
          4.8,
          4.2,
          23.4,
          22.2,
          14.3,
          15.4,
          19,
          17.1,
          23.8,
          16,
          24.9,
          25.3,
          24.8,
          12.2,
          13.8,
          13.8,
          10.4,
          5.2,
          20.9,
          20.6,
          21.9,
          10.1,
          20.4,
          24.3,
          24.1,
          24.9,
          24.8,
          29.3,
          24.6,
          20.9,
          17.3,
          19.1,
          19.3,
          14.5,
          13.7,
          17.6,
          26.1,
          18.2,
          23.4,
          31,
          33.1,
          27.8,
          27.8,
          21.9,
          21.2
         ],
         "xaxis": "x",
         "y": [
          1.8,
          5.4,
          4.5,
          5.4,
          3.6,
          3.6,
          2.2,
          2.7,
          5.8,
          6.3,
          2.7,
          6.3,
          2.2,
          3.6,
          6.3,
          4.9,
          1.3,
          4.5,
          5.4,
          5.4,
          3.1,
          3.6,
          5.4,
          5.4,
          0.9,
          4.9,
          1.3,
          2.2,
          1.3,
          2.2,
          5.4,
          2.7,
          6.7,
          2.2,
          5.8,
          4,
          3.6,
          2.2,
          1.3,
          3.1,
          4.9,
          3.1,
          3.1,
          5.8,
          1.8,
          4,
          7.6,
          7.6,
          6.3,
          5.4,
          8.5,
          4,
          6.3,
          1.3,
          1.8,
          2.2,
          2.2,
          5.4,
          3.6,
          1.8,
          2.2,
          2.7,
          1.8,
          6.3,
          7.6,
          7.6,
          0.9,
          0.9,
          2.2,
          5.4,
          4,
          1.8,
          4.9,
          3.6,
          4,
          5.4,
          4,
          3.6,
          4,
          4.9,
          4.5,
          2.2,
          4.9,
          7.6,
          9.4,
          5.8,
          4,
          4.5,
          5.8,
          5.4,
          4,
          2.7,
          2.7,
          5.8,
          6.7
         ],
         "yaxis": "y"
        },
        {
         "fillpattern": {
          "shape": ""
         },
         "hovertemplate": "day=mon<br>temp=%{x}<br>wind=%{y}<extra></extra>",
         "legendgroup": "mon",
         "line": {
          "color": "#FFA15A"
         },
         "marker": {
          "symbol": "circle"
         },
         "mode": "lines",
         "name": "mon",
         "orientation": "v",
         "showlegend": true,
         "stackgroup": "1",
         "type": "scatter",
         "x": [
          24.1,
          8,
          21.3,
          16.7,
          19.1,
          19.4,
          11.2,
          21.2,
          14.7,
          23,
          11.8,
          11,
          13.9,
          23.1,
          8.3,
          23.4,
          17.4,
          18.9,
          10.6,
          10.3,
          17.1,
          9,
          14,
          15.6,
          21.9,
          13.2,
          16.1,
          17.7,
          19.1,
          16.8,
          21,
          22.6,
          11,
          12.4,
          15.2,
          11,
          16.1,
          28.3,
          4.6,
          4.6,
          4.6,
          4.6,
          20.7,
          19.1,
          18.1,
          18,
          9.8,
          19.3,
          23,
          22.7,
          20.4,
          19.3,
          15.7,
          20.6,
          15.9,
          12.2,
          16.8,
          21.3,
          21.1,
          7.5,
          5.3,
          22.8,
          27.9,
          26.8,
          25.5,
          10.9,
          17.7,
          17.9,
          10.2,
          14.3,
          22.6,
          30.6,
          23.9,
          32.6
         ],
         "xaxis": "x",
         "y": [
          3.1,
          2.2,
          2.2,
          4.9,
          2.7,
          1.3,
          7.6,
          2.7,
          3.6,
          3.1,
          1.8,
          5.8,
          5.4,
          3.1,
          3.1,
          2.7,
          5.4,
          2.7,
          4,
          2.2,
          5.4,
          2.2,
          3.1,
          3.1,
          1.8,
          5.4,
          3.1,
          2.2,
          4,
          4.5,
          2.2,
          3.6,
          5.8,
          6.3,
          3.1,
          5.8,
          4,
          4,
          8.5,
          8.5,
          8.5,
          8.5,
          4.9,
          5.4,
          3.1,
          5.4,
          1.8,
          2.2,
          2.2,
          2.2,
          1.8,
          2.2,
          2.2,
          1.8,
          4.5,
          4.9,
          3.1,
          2.2,
          2.2,
          6.3,
          1.8,
          4.5,
          2.2,
          1.3,
          1.8,
          3.1,
          4,
          2.7,
          5.8,
          4,
          4.9,
          3.6,
          2.2,
          3.1
         ],
         "yaxis": "y"
        },
        {
         "fillpattern": {
          "shape": ""
         },
         "hovertemplate": "day=wed<br>temp=%{x}<br>wind=%{y}<extra></extra>",
         "legendgroup": "wed",
         "line": {
          "color": "#19d3f3"
         },
         "marker": {
          "symbol": "circle"
         },
         "mode": "lines",
         "name": "wed",
         "orientation": "v",
         "showlegend": true,
         "stackgroup": "1",
         "type": "scatter",
         "x": [
          26.4,
          15.9,
          12.9,
          25.9,
          20.4,
          20.4,
          16.6,
          15.9,
          23.3,
          23.8,
          18.4,
          20.5,
          16.6,
          23.4,
          21.9,
          17.4,
          18.3,
          24.3,
          20.2,
          19.4,
          15.4,
          26.4,
          15.2,
          20.7,
          28.7,
          21.7,
          26.8,
          24,
          22.1,
          5.1,
          8.8,
          12.6,
          19.6,
          24.3,
          19.7,
          18.5,
          14.2,
          19.3,
          28.2,
          28,
          28,
          21.8,
          13.8,
          26.2,
          30.8,
          8.9,
          10.5,
          23.4,
          19.9,
          11.2,
          20.6,
          28.7,
          29.2,
          28.9
         ],
         "xaxis": "x",
         "y": [
          4.5,
          4,
          4.9,
          4,
          4.9,
          4.9,
          0.9,
          3.6,
          4.5,
          5.4,
          3.6,
          4,
          0.9,
          4.5,
          1.8,
          4,
          2.2,
          4,
          2.7,
          1.3,
          4.5,
          4.5,
          2.7,
          2.2,
          2.7,
          0.4,
          3.1,
          3.1,
          3.6,
          8,
          3.1,
          7.6,
          4.9,
          4.9,
          1.8,
          2.7,
          4,
          7.2,
          1.8,
          4.5,
          4.5,
          2.2,
          5.8,
          4.5,
          4.5,
          8,
          4,
          5.4,
          4,
          5.4,
          1.3,
          4,
          4.9,
          4.9
         ],
         "yaxis": "y"
        },
        {
         "fillpattern": {
          "shape": ""
         },
         "hovertemplate": "day=thu<br>temp=%{x}<br>wind=%{y}<extra></extra>",
         "legendgroup": "thu",
         "line": {
          "color": "#FF6692"
         },
         "marker": {
          "symbol": "circle"
         },
         "mode": "lines",
         "name": "thu",
         "orientation": "v",
         "showlegend": true,
         "stackgroup": "1",
         "type": "scatter",
         "x": [
          20.8,
          17.6,
          27.7,
          18.8,
          18.6,
          6.7,
          20.2,
          21.5,
          25.4,
          22.4,
          18.2,
          19.6,
          17.6,
          27.4,
          23.7,
          20.3,
          5.3,
          20.7,
          5.8,
          24.2,
          5.8,
          21.5,
          22.1,
          23.2,
          21.4,
          18.9,
          22.3,
          5.1,
          18.6,
          19.2,
          21.6,
          21.6,
          18.9,
          16.8,
          16.8,
          12.9,
          13.7,
          20.3,
          8.7,
          16.2,
          20.5,
          11.6,
          22.8,
          21.3,
          27.5,
          20.4,
          20.4,
          26.2,
          19.4,
          23.9,
          17.4,
          16.8,
          16.6,
          13.3,
          26.4,
          22.7,
          27.2,
          30.2,
          30.2,
          32.4,
          26.7
         ],
         "xaxis": "x",
         "y": [
          1.3,
          3.6,
          2.2,
          4.9,
          4.5,
          3.1,
          3.6,
          0.9,
          2.2,
          2.2,
          3.1,
          3.1,
          3.1,
          4,
          4.5,
          4,
          4.5,
          2.2,
          5.8,
          2.7,
          5.8,
          0.9,
          1.8,
          4.9,
          2.7,
          3.1,
          4,
          4.9,
          5.8,
          4.9,
          2.2,
          6.3,
          7.2,
          4,
          4,
          2.7,
          1.8,
          2.7,
          5.8,
          2.7,
          2.7,
          5.4,
          4,
          3.6,
          4.9,
          2.2,
          2.2,
          5.8,
          3.6,
          6.7,
          3.1,
          3.1,
          2.7,
          3.6,
          2.7,
          9.4,
          1.3,
          4.5,
          4.9,
          4.5,
          1.8
         ],
         "yaxis": "y"
        }
       ],
       "layout": {
        "legend": {
         "title": {
          "text": "day"
         },
         "tracegroupgap": 0
        },
        "margin": {
         "t": 60
        },
        "template": {
         "data": {
          "bar": [
           {
            "error_x": {
             "color": "#2a3f5f"
            },
            "error_y": {
             "color": "#2a3f5f"
            },
            "marker": {
             "line": {
              "color": "#E5ECF6",
              "width": 0.5
             },
             "pattern": {
              "fillmode": "overlay",
              "size": 10,
              "solidity": 0.2
             }
            },
            "type": "bar"
           }
          ],
          "barpolar": [
           {
            "marker": {
             "line": {
              "color": "#E5ECF6",
              "width": 0.5
             },
             "pattern": {
              "fillmode": "overlay",
              "size": 10,
              "solidity": 0.2
             }
            },
            "type": "barpolar"
           }
          ],
          "carpet": [
           {
            "aaxis": {
             "endlinecolor": "#2a3f5f",
             "gridcolor": "white",
             "linecolor": "white",
             "minorgridcolor": "white",
             "startlinecolor": "#2a3f5f"
            },
            "baxis": {
             "endlinecolor": "#2a3f5f",
             "gridcolor": "white",
             "linecolor": "white",
             "minorgridcolor": "white",
             "startlinecolor": "#2a3f5f"
            },
            "type": "carpet"
           }
          ],
          "choropleth": [
           {
            "colorbar": {
             "outlinewidth": 0,
             "ticks": ""
            },
            "type": "choropleth"
           }
          ],
          "contour": [
           {
            "colorbar": {
             "outlinewidth": 0,
             "ticks": ""
            },
            "colorscale": [
             [
              0,
              "#0d0887"
             ],
             [
              0.1111111111111111,
              "#46039f"
             ],
             [
              0.2222222222222222,
              "#7201a8"
             ],
             [
              0.3333333333333333,
              "#9c179e"
             ],
             [
              0.4444444444444444,
              "#bd3786"
             ],
             [
              0.5555555555555556,
              "#d8576b"
             ],
             [
              0.6666666666666666,
              "#ed7953"
             ],
             [
              0.7777777777777778,
              "#fb9f3a"
             ],
             [
              0.8888888888888888,
              "#fdca26"
             ],
             [
              1,
              "#f0f921"
             ]
            ],
            "type": "contour"
           }
          ],
          "contourcarpet": [
           {
            "colorbar": {
             "outlinewidth": 0,
             "ticks": ""
            },
            "type": "contourcarpet"
           }
          ],
          "heatmap": [
           {
            "colorbar": {
             "outlinewidth": 0,
             "ticks": ""
            },
            "colorscale": [
             [
              0,
              "#0d0887"
             ],
             [
              0.1111111111111111,
              "#46039f"
             ],
             [
              0.2222222222222222,
              "#7201a8"
             ],
             [
              0.3333333333333333,
              "#9c179e"
             ],
             [
              0.4444444444444444,
              "#bd3786"
             ],
             [
              0.5555555555555556,
              "#d8576b"
             ],
             [
              0.6666666666666666,
              "#ed7953"
             ],
             [
              0.7777777777777778,
              "#fb9f3a"
             ],
             [
              0.8888888888888888,
              "#fdca26"
             ],
             [
              1,
              "#f0f921"
             ]
            ],
            "type": "heatmap"
           }
          ],
          "heatmapgl": [
           {
            "colorbar": {
             "outlinewidth": 0,
             "ticks": ""
            },
            "colorscale": [
             [
              0,
              "#0d0887"
             ],
             [
              0.1111111111111111,
              "#46039f"
             ],
             [
              0.2222222222222222,
              "#7201a8"
             ],
             [
              0.3333333333333333,
              "#9c179e"
             ],
             [
              0.4444444444444444,
              "#bd3786"
             ],
             [
              0.5555555555555556,
              "#d8576b"
             ],
             [
              0.6666666666666666,
              "#ed7953"
             ],
             [
              0.7777777777777778,
              "#fb9f3a"
             ],
             [
              0.8888888888888888,
              "#fdca26"
             ],
             [
              1,
              "#f0f921"
             ]
            ],
            "type": "heatmapgl"
           }
          ],
          "histogram": [
           {
            "marker": {
             "pattern": {
              "fillmode": "overlay",
              "size": 10,
              "solidity": 0.2
             }
            },
            "type": "histogram"
           }
          ],
          "histogram2d": [
           {
            "colorbar": {
             "outlinewidth": 0,
             "ticks": ""
            },
            "colorscale": [
             [
              0,
              "#0d0887"
             ],
             [
              0.1111111111111111,
              "#46039f"
             ],
             [
              0.2222222222222222,
              "#7201a8"
             ],
             [
              0.3333333333333333,
              "#9c179e"
             ],
             [
              0.4444444444444444,
              "#bd3786"
             ],
             [
              0.5555555555555556,
              "#d8576b"
             ],
             [
              0.6666666666666666,
              "#ed7953"
             ],
             [
              0.7777777777777778,
              "#fb9f3a"
             ],
             [
              0.8888888888888888,
              "#fdca26"
             ],
             [
              1,
              "#f0f921"
             ]
            ],
            "type": "histogram2d"
           }
          ],
          "histogram2dcontour": [
           {
            "colorbar": {
             "outlinewidth": 0,
             "ticks": ""
            },
            "colorscale": [
             [
              0,
              "#0d0887"
             ],
             [
              0.1111111111111111,
              "#46039f"
             ],
             [
              0.2222222222222222,
              "#7201a8"
             ],
             [
              0.3333333333333333,
              "#9c179e"
             ],
             [
              0.4444444444444444,
              "#bd3786"
             ],
             [
              0.5555555555555556,
              "#d8576b"
             ],
             [
              0.6666666666666666,
              "#ed7953"
             ],
             [
              0.7777777777777778,
              "#fb9f3a"
             ],
             [
              0.8888888888888888,
              "#fdca26"
             ],
             [
              1,
              "#f0f921"
             ]
            ],
            "type": "histogram2dcontour"
           }
          ],
          "mesh3d": [
           {
            "colorbar": {
             "outlinewidth": 0,
             "ticks": ""
            },
            "type": "mesh3d"
           }
          ],
          "parcoords": [
           {
            "line": {
             "colorbar": {
              "outlinewidth": 0,
              "ticks": ""
             }
            },
            "type": "parcoords"
           }
          ],
          "pie": [
           {
            "automargin": true,
            "type": "pie"
           }
          ],
          "scatter": [
           {
            "fillpattern": {
             "fillmode": "overlay",
             "size": 10,
             "solidity": 0.2
            },
            "type": "scatter"
           }
          ],
          "scatter3d": [
           {
            "line": {
             "colorbar": {
              "outlinewidth": 0,
              "ticks": ""
             }
            },
            "marker": {
             "colorbar": {
              "outlinewidth": 0,
              "ticks": ""
             }
            },
            "type": "scatter3d"
           }
          ],
          "scattercarpet": [
           {
            "marker": {
             "colorbar": {
              "outlinewidth": 0,
              "ticks": ""
             }
            },
            "type": "scattercarpet"
           }
          ],
          "scattergeo": [
           {
            "marker": {
             "colorbar": {
              "outlinewidth": 0,
              "ticks": ""
             }
            },
            "type": "scattergeo"
           }
          ],
          "scattergl": [
           {
            "marker": {
             "colorbar": {
              "outlinewidth": 0,
              "ticks": ""
             }
            },
            "type": "scattergl"
           }
          ],
          "scattermapbox": [
           {
            "marker": {
             "colorbar": {
              "outlinewidth": 0,
              "ticks": ""
             }
            },
            "type": "scattermapbox"
           }
          ],
          "scatterpolar": [
           {
            "marker": {
             "colorbar": {
              "outlinewidth": 0,
              "ticks": ""
             }
            },
            "type": "scatterpolar"
           }
          ],
          "scatterpolargl": [
           {
            "marker": {
             "colorbar": {
              "outlinewidth": 0,
              "ticks": ""
             }
            },
            "type": "scatterpolargl"
           }
          ],
          "scatterternary": [
           {
            "marker": {
             "colorbar": {
              "outlinewidth": 0,
              "ticks": ""
             }
            },
            "type": "scatterternary"
           }
          ],
          "surface": [
           {
            "colorbar": {
             "outlinewidth": 0,
             "ticks": ""
            },
            "colorscale": [
             [
              0,
              "#0d0887"
             ],
             [
              0.1111111111111111,
              "#46039f"
             ],
             [
              0.2222222222222222,
              "#7201a8"
             ],
             [
              0.3333333333333333,
              "#9c179e"
             ],
             [
              0.4444444444444444,
              "#bd3786"
             ],
             [
              0.5555555555555556,
              "#d8576b"
             ],
             [
              0.6666666666666666,
              "#ed7953"
             ],
             [
              0.7777777777777778,
              "#fb9f3a"
             ],
             [
              0.8888888888888888,
              "#fdca26"
             ],
             [
              1,
              "#f0f921"
             ]
            ],
            "type": "surface"
           }
          ],
          "table": [
           {
            "cells": {
             "fill": {
              "color": "#EBF0F8"
             },
             "line": {
              "color": "white"
             }
            },
            "header": {
             "fill": {
              "color": "#C8D4E3"
             },
             "line": {
              "color": "white"
             }
            },
            "type": "table"
           }
          ]
         },
         "layout": {
          "annotationdefaults": {
           "arrowcolor": "#2a3f5f",
           "arrowhead": 0,
           "arrowwidth": 1
          },
          "autotypenumbers": "strict",
          "coloraxis": {
           "colorbar": {
            "outlinewidth": 0,
            "ticks": ""
           }
          },
          "colorscale": {
           "diverging": [
            [
             0,
             "#8e0152"
            ],
            [
             0.1,
             "#c51b7d"
            ],
            [
             0.2,
             "#de77ae"
            ],
            [
             0.3,
             "#f1b6da"
            ],
            [
             0.4,
             "#fde0ef"
            ],
            [
             0.5,
             "#f7f7f7"
            ],
            [
             0.6,
             "#e6f5d0"
            ],
            [
             0.7,
             "#b8e186"
            ],
            [
             0.8,
             "#7fbc41"
            ],
            [
             0.9,
             "#4d9221"
            ],
            [
             1,
             "#276419"
            ]
           ],
           "sequential": [
            [
             0,
             "#0d0887"
            ],
            [
             0.1111111111111111,
             "#46039f"
            ],
            [
             0.2222222222222222,
             "#7201a8"
            ],
            [
             0.3333333333333333,
             "#9c179e"
            ],
            [
             0.4444444444444444,
             "#bd3786"
            ],
            [
             0.5555555555555556,
             "#d8576b"
            ],
            [
             0.6666666666666666,
             "#ed7953"
            ],
            [
             0.7777777777777778,
             "#fb9f3a"
            ],
            [
             0.8888888888888888,
             "#fdca26"
            ],
            [
             1,
             "#f0f921"
            ]
           ],
           "sequentialminus": [
            [
             0,
             "#0d0887"
            ],
            [
             0.1111111111111111,
             "#46039f"
            ],
            [
             0.2222222222222222,
             "#7201a8"
            ],
            [
             0.3333333333333333,
             "#9c179e"
            ],
            [
             0.4444444444444444,
             "#bd3786"
            ],
            [
             0.5555555555555556,
             "#d8576b"
            ],
            [
             0.6666666666666666,
             "#ed7953"
            ],
            [
             0.7777777777777778,
             "#fb9f3a"
            ],
            [
             0.8888888888888888,
             "#fdca26"
            ],
            [
             1,
             "#f0f921"
            ]
           ]
          },
          "colorway": [
           "#636efa",
           "#EF553B",
           "#00cc96",
           "#ab63fa",
           "#FFA15A",
           "#19d3f3",
           "#FF6692",
           "#B6E880",
           "#FF97FF",
           "#FECB52"
          ],
          "font": {
           "color": "#2a3f5f"
          },
          "geo": {
           "bgcolor": "white",
           "lakecolor": "white",
           "landcolor": "#E5ECF6",
           "showlakes": true,
           "showland": true,
           "subunitcolor": "white"
          },
          "hoverlabel": {
           "align": "left"
          },
          "hovermode": "closest",
          "mapbox": {
           "style": "light"
          },
          "paper_bgcolor": "white",
          "plot_bgcolor": "#E5ECF6",
          "polar": {
           "angularaxis": {
            "gridcolor": "white",
            "linecolor": "white",
            "ticks": ""
           },
           "bgcolor": "#E5ECF6",
           "radialaxis": {
            "gridcolor": "white",
            "linecolor": "white",
            "ticks": ""
           }
          },
          "scene": {
           "xaxis": {
            "backgroundcolor": "#E5ECF6",
            "gridcolor": "white",
            "gridwidth": 2,
            "linecolor": "white",
            "showbackground": true,
            "ticks": "",
            "zerolinecolor": "white"
           },
           "yaxis": {
            "backgroundcolor": "#E5ECF6",
            "gridcolor": "white",
            "gridwidth": 2,
            "linecolor": "white",
            "showbackground": true,
            "ticks": "",
            "zerolinecolor": "white"
           },
           "zaxis": {
            "backgroundcolor": "#E5ECF6",
            "gridcolor": "white",
            "gridwidth": 2,
            "linecolor": "white",
            "showbackground": true,
            "ticks": "",
            "zerolinecolor": "white"
           }
          },
          "shapedefaults": {
           "line": {
            "color": "#2a3f5f"
           }
          },
          "ternary": {
           "aaxis": {
            "gridcolor": "white",
            "linecolor": "white",
            "ticks": ""
           },
           "baxis": {
            "gridcolor": "white",
            "linecolor": "white",
            "ticks": ""
           },
           "bgcolor": "#E5ECF6",
           "caxis": {
            "gridcolor": "white",
            "linecolor": "white",
            "ticks": ""
           }
          },
          "title": {
           "x": 0.05
          },
          "xaxis": {
           "automargin": true,
           "gridcolor": "white",
           "linecolor": "white",
           "ticks": "",
           "title": {
            "standoff": 15
           },
           "zerolinecolor": "white",
           "zerolinewidth": 2
          },
          "yaxis": {
           "automargin": true,
           "gridcolor": "white",
           "linecolor": "white",
           "ticks": "",
           "title": {
            "standoff": 15
           },
           "zerolinecolor": "white",
           "zerolinewidth": 2
          }
         }
        },
        "xaxis": {
         "anchor": "y",
         "domain": [
          0,
          1
         ],
         "title": {
          "text": "temp"
         }
        },
        "yaxis": {
         "anchor": "x",
         "domain": [
          0,
          1
         ],
         "title": {
          "text": "wind"
         }
        }
       }
      },
      "text/html": [
       "<div>                            <div id=\"abde786a-b239-4500-b409-83a6307d590f\" class=\"plotly-graph-div\" style=\"height:525px; width:100%;\"></div>            <script type=\"text/javascript\">                require([\"plotly\"], function(Plotly) {                    window.PLOTLYENV=window.PLOTLYENV || {};                                    if (document.getElementById(\"abde786a-b239-4500-b409-83a6307d590f\")) {                    Plotly.newPlot(                        \"abde786a-b239-4500-b409-83a6307d590f\",                        [{\"fillpattern\":{\"shape\":\"\"},\"hovertemplate\":\"day=fri<br>temp=%{x}<br>wind=%{y}<extra></extra>\",\"legendgroup\":\"fri\",\"line\":{\"color\":\"#636efa\"},\"marker\":{\"symbol\":\"circle\"},\"mode\":\"lines\",\"name\":\"fri\",\"orientation\":\"v\",\"showlegend\":true,\"stackgroup\":\"1\",\"x\":[8.2,8.3,17.0,22.9,19.0,25.4,20.6,11.3,12.3,23.0,19.6,19.6,17.2,15.8,17.7,15.6,27.6,15.7,14.7,17.4,12.7,13.7,18.8,19.8,17.2,21.2,23.2,20.1,19.0,14.6,20.8,11.7,23.5,19.6,20.1,18.6,13.4,16.7,11.2,21.4,19.3,21.8,2.2,7.5,22.9,19.2,19.2,10.1,17.4,12.8,10.1,15.4,20.6,19.8,18.7,20.8,20.8,15.9,19.7,21.1,18.4,17.3,15.2,10.3,23.3,23.3,20.7,25.0,19.9,14.7,8.2,22.2,19.1,16.2,14.8,16.2,11.8,18.0,32.4,27.5,18.5,25.9,25.9,21.1,18.2],\"xaxis\":\"x\",\"y\":[6.7,4.0,6.7,5.4,5.8,3.6,1.8,5.4,0.9,4.5,5.4,6.3,4.5,7.6,3.6,6.3,1.3,3.1,2.7,5.4,6.3,5.8,4.5,5.4,3.1,8.9,5.4,4.9,5.8,9.4,4.9,4.0,5.4,6.3,4.9,3.6,3.6,3.1,7.6,3.1,3.6,3.1,4.9,8.0,1.3,4.5,4.5,3.6,4.5,3.6,3.6,6.3,3.6,2.7,2.2,4.9,4.9,3.6,2.7,2.2,2.2,4.0,3.1,4.0,3.1,3.1,2.7,4.0,3.1,2.7,9.4,3.6,2.2,3.6,8.0,3.6,4.9,4.0,2.2,4.5,8.5,3.6,3.6,7.6,5.4],\"yaxis\":\"y\",\"type\":\"scatter\"},{\"fillpattern\":{\"shape\":\"\"},\"hovertemplate\":\"day=tue<br>temp=%{x}<br>wind=%{y}<extra></extra>\",\"legendgroup\":\"tue\",\"line\":{\"color\":\"#EF553B\"},\"marker\":{\"symbol\":\"circle\"},\"mode\":\"lines\",\"name\":\"tue\",\"orientation\":\"v\",\"showlegend\":true,\"stackgroup\":\"1\",\"x\":[18.0,13.1,18.3,18.2,21.7,14.1,23.3,16.6,17.8,17.3,21.6,18.6,14.4,20.1,15.8,15.5,17.9,14.9,18.0,21.7,24.2,17.4,14.4,17.6,24.6,24.6,13.9,21.6,20.7,18.7,24.3,18.8,22.1,19.4,23.7,21.0,19.1,21.8,20.1,20.2,5.1,26.9,17.1,15.9,21.1,19.6,15.9,16.4,15.2,27.9,23.4,26.3,4.6,5.1,24.1,26.4,19.4,32.3,33.3,27.3,21.6,21.6,20.7,11.8],\"xaxis\":\"x\",\"y\":[0.9,5.4,2.7,4.5,4.5,2.7,3.1,5.4,4.9,4.5,6.7,4.5,5.4,4.0,7.6,6.3,3.1,2.7,2.7,2.2,3.6,6.7,5.4,3.1,4.5,4.5,6.3,2.2,2.2,2.7,3.1,2.2,7.6,4.0,3.1,3.1,2.7,3.1,4.5,4.0,8.5,5.4,3.6,2.2,2.7,3.1,5.4,3.6,7.6,2.2,5.4,3.1,6.3,5.4,6.3,3.6,7.6,2.2,2.7,4.9,4.9,4.9,4.9,4.5],\"yaxis\":\"y\",\"type\":\"scatter\"},{\"fillpattern\":{\"shape\":\"\"},\"hovertemplate\":\"day=sat<br>temp=%{x}<br>wind=%{y}<extra></extra>\",\"legendgroup\":\"sat\",\"line\":{\"color\":\"#00cc96\"},\"marker\":{\"symbol\":\"circle\"},\"mode\":\"lines\",\"name\":\"sat\",\"orientation\":\"v\",\"showlegend\":true,\"stackgroup\":\"1\",\"x\":[14.6,22.8,17.8,19.3,15.1,9.3,19.5,23.7,30.2,17.8,18.4,19.6,17.4,14.7,12.7,17.4,24.1,5.3,20.3,11.6,15.2,15.4,17.6,16.6,24.6,29.6,28.6,15.2,17.8,14.2,20.3,13.3,15.1,22.9,18.4,5.1,17.0,17.0,20.1,16.4,17.7,18.2,25.1,23.9,21.4,20.6,23.7,22.1,24.2,24.3,18.7,25.3,10.6,11.3,24.2,24.1,21.2,19.7,23.5,24.2,21.5,17.1,16.8,15.4,21.9,21.3,25.9,17.0,14.2,26.4,22.3,26.9,23.3,23.8,14.2,23.6,18.9,15.5,18.9,18.9,4.6,24.5,30.8,25.6],\"xaxis\":\"x\",\"y\":[1.3,4.0,7.2,4.0,5.4,4.5,5.8,5.8,2.7,4.0,6.7,2.7,4.9,5.8,1.8,5.4,4.5,3.1,3.1,6.3,4.9,2.7,5.8,5.4,1.8,2.7,2.2,8.5,1.8,1.8,4.9,0.9,4.0,7.2,3.1,5.8,4.9,4.9,4.5,4.0,3.1,1.8,4.0,2.2,2.7,0.9,1.8,2.7,1.8,1.8,1.8,0.9,2.7,4.9,3.1,3.1,2.2,1.8,4.0,3.1,4.5,2.2,4.9,4.9,2.2,4.5,3.1,4.9,4.0,3.6,4.0,3.6,4.0,1.8,2.7,4.0,4.9,8.0,4.9,4.9,0.9,3.1,4.9,4.0],\"yaxis\":\"y\",\"type\":\"scatter\"},{\"fillpattern\":{\"shape\":\"\"},\"hovertemplate\":\"day=sun<br>temp=%{x}<br>wind=%{y}<extra></extra>\",\"legendgroup\":\"sun\",\"line\":{\"color\":\"#ab63fa\"},\"marker\":{\"symbol\":\"circle\"},\"mode\":\"lines\",\"name\":\"sun\",\"orientation\":\"v\",\"showlegend\":true,\"stackgroup\":\"1\",\"x\":[11.4,22.2,21.0,16.3,22.8,17.7,21.5,13.8,11.5,5.5,20.8,19.5,17.9,25.3,20.8,18.2,17.8,11.6,19.8,19.8,21.4,22.8,22.5,20.6,15.4,10.6,17.2,24.8,16.4,17.8,20.1,19.2,23.9,12.4,11.5,11.5,12.4,8.8,16.9,16.2,22.9,28.3,27.8,19.6,13.4,15.4,21.9,22.4,26.8,25.7,4.8,4.2,23.4,22.2,14.3,15.4,19.0,17.1,23.8,16.0,24.9,25.3,24.8,12.2,13.8,13.8,10.4,5.2,20.9,20.6,21.9,10.1,20.4,24.3,24.1,24.9,24.8,29.3,24.6,20.9,17.3,19.1,19.3,14.5,13.7,17.6,26.1,18.2,23.4,31.0,33.1,27.8,27.8,21.9,21.2],\"xaxis\":\"x\",\"y\":[1.8,5.4,4.5,5.4,3.6,3.6,2.2,2.7,5.8,6.3,2.7,6.3,2.2,3.6,6.3,4.9,1.3,4.5,5.4,5.4,3.1,3.6,5.4,5.4,0.9,4.9,1.3,2.2,1.3,2.2,5.4,2.7,6.7,2.2,5.8,4.0,3.6,2.2,1.3,3.1,4.9,3.1,3.1,5.8,1.8,4.0,7.6,7.6,6.3,5.4,8.5,4.0,6.3,1.3,1.8,2.2,2.2,5.4,3.6,1.8,2.2,2.7,1.8,6.3,7.6,7.6,0.9,0.9,2.2,5.4,4.0,1.8,4.9,3.6,4.0,5.4,4.0,3.6,4.0,4.9,4.5,2.2,4.9,7.6,9.4,5.8,4.0,4.5,5.8,5.4,4.0,2.7,2.7,5.8,6.7],\"yaxis\":\"y\",\"type\":\"scatter\"},{\"fillpattern\":{\"shape\":\"\"},\"hovertemplate\":\"day=mon<br>temp=%{x}<br>wind=%{y}<extra></extra>\",\"legendgroup\":\"mon\",\"line\":{\"color\":\"#FFA15A\"},\"marker\":{\"symbol\":\"circle\"},\"mode\":\"lines\",\"name\":\"mon\",\"orientation\":\"v\",\"showlegend\":true,\"stackgroup\":\"1\",\"x\":[24.1,8.0,21.3,16.7,19.1,19.4,11.2,21.2,14.7,23.0,11.8,11.0,13.9,23.1,8.3,23.4,17.4,18.9,10.6,10.3,17.1,9.0,14.0,15.6,21.9,13.2,16.1,17.7,19.1,16.8,21.0,22.6,11.0,12.4,15.2,11.0,16.1,28.3,4.6,4.6,4.6,4.6,20.7,19.1,18.1,18.0,9.8,19.3,23.0,22.7,20.4,19.3,15.7,20.6,15.9,12.2,16.8,21.3,21.1,7.5,5.3,22.8,27.9,26.8,25.5,10.9,17.7,17.9,10.2,14.3,22.6,30.6,23.9,32.6],\"xaxis\":\"x\",\"y\":[3.1,2.2,2.2,4.9,2.7,1.3,7.6,2.7,3.6,3.1,1.8,5.8,5.4,3.1,3.1,2.7,5.4,2.7,4.0,2.2,5.4,2.2,3.1,3.1,1.8,5.4,3.1,2.2,4.0,4.5,2.2,3.6,5.8,6.3,3.1,5.8,4.0,4.0,8.5,8.5,8.5,8.5,4.9,5.4,3.1,5.4,1.8,2.2,2.2,2.2,1.8,2.2,2.2,1.8,4.5,4.9,3.1,2.2,2.2,6.3,1.8,4.5,2.2,1.3,1.8,3.1,4.0,2.7,5.8,4.0,4.9,3.6,2.2,3.1],\"yaxis\":\"y\",\"type\":\"scatter\"},{\"fillpattern\":{\"shape\":\"\"},\"hovertemplate\":\"day=wed<br>temp=%{x}<br>wind=%{y}<extra></extra>\",\"legendgroup\":\"wed\",\"line\":{\"color\":\"#19d3f3\"},\"marker\":{\"symbol\":\"circle\"},\"mode\":\"lines\",\"name\":\"wed\",\"orientation\":\"v\",\"showlegend\":true,\"stackgroup\":\"1\",\"x\":[26.4,15.9,12.9,25.9,20.4,20.4,16.6,15.9,23.3,23.8,18.4,20.5,16.6,23.4,21.9,17.4,18.3,24.3,20.2,19.4,15.4,26.4,15.2,20.7,28.7,21.7,26.8,24.0,22.1,5.1,8.8,12.6,19.6,24.3,19.7,18.5,14.2,19.3,28.2,28.0,28.0,21.8,13.8,26.2,30.8,8.9,10.5,23.4,19.9,11.2,20.6,28.7,29.2,28.9],\"xaxis\":\"x\",\"y\":[4.5,4.0,4.9,4.0,4.9,4.9,0.9,3.6,4.5,5.4,3.6,4.0,0.9,4.5,1.8,4.0,2.2,4.0,2.7,1.3,4.5,4.5,2.7,2.2,2.7,0.4,3.1,3.1,3.6,8.0,3.1,7.6,4.9,4.9,1.8,2.7,4.0,7.2,1.8,4.5,4.5,2.2,5.8,4.5,4.5,8.0,4.0,5.4,4.0,5.4,1.3,4.0,4.9,4.9],\"yaxis\":\"y\",\"type\":\"scatter\"},{\"fillpattern\":{\"shape\":\"\"},\"hovertemplate\":\"day=thu<br>temp=%{x}<br>wind=%{y}<extra></extra>\",\"legendgroup\":\"thu\",\"line\":{\"color\":\"#FF6692\"},\"marker\":{\"symbol\":\"circle\"},\"mode\":\"lines\",\"name\":\"thu\",\"orientation\":\"v\",\"showlegend\":true,\"stackgroup\":\"1\",\"x\":[20.8,17.6,27.7,18.8,18.6,6.7,20.2,21.5,25.4,22.4,18.2,19.6,17.6,27.4,23.7,20.3,5.3,20.7,5.8,24.2,5.8,21.5,22.1,23.2,21.4,18.9,22.3,5.1,18.6,19.2,21.6,21.6,18.9,16.8,16.8,12.9,13.7,20.3,8.7,16.2,20.5,11.6,22.8,21.3,27.5,20.4,20.4,26.2,19.4,23.9,17.4,16.8,16.6,13.3,26.4,22.7,27.2,30.2,30.2,32.4,26.7],\"xaxis\":\"x\",\"y\":[1.3,3.6,2.2,4.9,4.5,3.1,3.6,0.9,2.2,2.2,3.1,3.1,3.1,4.0,4.5,4.0,4.5,2.2,5.8,2.7,5.8,0.9,1.8,4.9,2.7,3.1,4.0,4.9,5.8,4.9,2.2,6.3,7.2,4.0,4.0,2.7,1.8,2.7,5.8,2.7,2.7,5.4,4.0,3.6,4.9,2.2,2.2,5.8,3.6,6.7,3.1,3.1,2.7,3.6,2.7,9.4,1.3,4.5,4.9,4.5,1.8],\"yaxis\":\"y\",\"type\":\"scatter\"}],                        {\"template\":{\"data\":{\"histogram2dcontour\":[{\"type\":\"histogram2dcontour\",\"colorbar\":{\"outlinewidth\":0,\"ticks\":\"\"},\"colorscale\":[[0.0,\"#0d0887\"],[0.1111111111111111,\"#46039f\"],[0.2222222222222222,\"#7201a8\"],[0.3333333333333333,\"#9c179e\"],[0.4444444444444444,\"#bd3786\"],[0.5555555555555556,\"#d8576b\"],[0.6666666666666666,\"#ed7953\"],[0.7777777777777778,\"#fb9f3a\"],[0.8888888888888888,\"#fdca26\"],[1.0,\"#f0f921\"]]}],\"choropleth\":[{\"type\":\"choropleth\",\"colorbar\":{\"outlinewidth\":0,\"ticks\":\"\"}}],\"histogram2d\":[{\"type\":\"histogram2d\",\"colorbar\":{\"outlinewidth\":0,\"ticks\":\"\"},\"colorscale\":[[0.0,\"#0d0887\"],[0.1111111111111111,\"#46039f\"],[0.2222222222222222,\"#7201a8\"],[0.3333333333333333,\"#9c179e\"],[0.4444444444444444,\"#bd3786\"],[0.5555555555555556,\"#d8576b\"],[0.6666666666666666,\"#ed7953\"],[0.7777777777777778,\"#fb9f3a\"],[0.8888888888888888,\"#fdca26\"],[1.0,\"#f0f921\"]]}],\"heatmap\":[{\"type\":\"heatmap\",\"colorbar\":{\"outlinewidth\":0,\"ticks\":\"\"},\"colorscale\":[[0.0,\"#0d0887\"],[0.1111111111111111,\"#46039f\"],[0.2222222222222222,\"#7201a8\"],[0.3333333333333333,\"#9c179e\"],[0.4444444444444444,\"#bd3786\"],[0.5555555555555556,\"#d8576b\"],[0.6666666666666666,\"#ed7953\"],[0.7777777777777778,\"#fb9f3a\"],[0.8888888888888888,\"#fdca26\"],[1.0,\"#f0f921\"]]}],\"heatmapgl\":[{\"type\":\"heatmapgl\",\"colorbar\":{\"outlinewidth\":0,\"ticks\":\"\"},\"colorscale\":[[0.0,\"#0d0887\"],[0.1111111111111111,\"#46039f\"],[0.2222222222222222,\"#7201a8\"],[0.3333333333333333,\"#9c179e\"],[0.4444444444444444,\"#bd3786\"],[0.5555555555555556,\"#d8576b\"],[0.6666666666666666,\"#ed7953\"],[0.7777777777777778,\"#fb9f3a\"],[0.8888888888888888,\"#fdca26\"],[1.0,\"#f0f921\"]]}],\"contourcarpet\":[{\"type\":\"contourcarpet\",\"colorbar\":{\"outlinewidth\":0,\"ticks\":\"\"}}],\"contour\":[{\"type\":\"contour\",\"colorbar\":{\"outlinewidth\":0,\"ticks\":\"\"},\"colorscale\":[[0.0,\"#0d0887\"],[0.1111111111111111,\"#46039f\"],[0.2222222222222222,\"#7201a8\"],[0.3333333333333333,\"#9c179e\"],[0.4444444444444444,\"#bd3786\"],[0.5555555555555556,\"#d8576b\"],[0.6666666666666666,\"#ed7953\"],[0.7777777777777778,\"#fb9f3a\"],[0.8888888888888888,\"#fdca26\"],[1.0,\"#f0f921\"]]}],\"surface\":[{\"type\":\"surface\",\"colorbar\":{\"outlinewidth\":0,\"ticks\":\"\"},\"colorscale\":[[0.0,\"#0d0887\"],[0.1111111111111111,\"#46039f\"],[0.2222222222222222,\"#7201a8\"],[0.3333333333333333,\"#9c179e\"],[0.4444444444444444,\"#bd3786\"],[0.5555555555555556,\"#d8576b\"],[0.6666666666666666,\"#ed7953\"],[0.7777777777777778,\"#fb9f3a\"],[0.8888888888888888,\"#fdca26\"],[1.0,\"#f0f921\"]]}],\"mesh3d\":[{\"type\":\"mesh3d\",\"colorbar\":{\"outlinewidth\":0,\"ticks\":\"\"}}],\"scatter\":[{\"fillpattern\":{\"fillmode\":\"overlay\",\"size\":10,\"solidity\":0.2},\"type\":\"scatter\"}],\"parcoords\":[{\"type\":\"parcoords\",\"line\":{\"colorbar\":{\"outlinewidth\":0,\"ticks\":\"\"}}}],\"scatterpolargl\":[{\"type\":\"scatterpolargl\",\"marker\":{\"colorbar\":{\"outlinewidth\":0,\"ticks\":\"\"}}}],\"bar\":[{\"error_x\":{\"color\":\"#2a3f5f\"},\"error_y\":{\"color\":\"#2a3f5f\"},\"marker\":{\"line\":{\"color\":\"#E5ECF6\",\"width\":0.5},\"pattern\":{\"fillmode\":\"overlay\",\"size\":10,\"solidity\":0.2}},\"type\":\"bar\"}],\"scattergeo\":[{\"type\":\"scattergeo\",\"marker\":{\"colorbar\":{\"outlinewidth\":0,\"ticks\":\"\"}}}],\"scatterpolar\":[{\"type\":\"scatterpolar\",\"marker\":{\"colorbar\":{\"outlinewidth\":0,\"ticks\":\"\"}}}],\"histogram\":[{\"marker\":{\"pattern\":{\"fillmode\":\"overlay\",\"size\":10,\"solidity\":0.2}},\"type\":\"histogram\"}],\"scattergl\":[{\"type\":\"scattergl\",\"marker\":{\"colorbar\":{\"outlinewidth\":0,\"ticks\":\"\"}}}],\"scatter3d\":[{\"type\":\"scatter3d\",\"line\":{\"colorbar\":{\"outlinewidth\":0,\"ticks\":\"\"}},\"marker\":{\"colorbar\":{\"outlinewidth\":0,\"ticks\":\"\"}}}],\"scattermapbox\":[{\"type\":\"scattermapbox\",\"marker\":{\"colorbar\":{\"outlinewidth\":0,\"ticks\":\"\"}}}],\"scatterternary\":[{\"type\":\"scatterternary\",\"marker\":{\"colorbar\":{\"outlinewidth\":0,\"ticks\":\"\"}}}],\"scattercarpet\":[{\"type\":\"scattercarpet\",\"marker\":{\"colorbar\":{\"outlinewidth\":0,\"ticks\":\"\"}}}],\"carpet\":[{\"aaxis\":{\"endlinecolor\":\"#2a3f5f\",\"gridcolor\":\"white\",\"linecolor\":\"white\",\"minorgridcolor\":\"white\",\"startlinecolor\":\"#2a3f5f\"},\"baxis\":{\"endlinecolor\":\"#2a3f5f\",\"gridcolor\":\"white\",\"linecolor\":\"white\",\"minorgridcolor\":\"white\",\"startlinecolor\":\"#2a3f5f\"},\"type\":\"carpet\"}],\"table\":[{\"cells\":{\"fill\":{\"color\":\"#EBF0F8\"},\"line\":{\"color\":\"white\"}},\"header\":{\"fill\":{\"color\":\"#C8D4E3\"},\"line\":{\"color\":\"white\"}},\"type\":\"table\"}],\"barpolar\":[{\"marker\":{\"line\":{\"color\":\"#E5ECF6\",\"width\":0.5},\"pattern\":{\"fillmode\":\"overlay\",\"size\":10,\"solidity\":0.2}},\"type\":\"barpolar\"}],\"pie\":[{\"automargin\":true,\"type\":\"pie\"}]},\"layout\":{\"autotypenumbers\":\"strict\",\"colorway\":[\"#636efa\",\"#EF553B\",\"#00cc96\",\"#ab63fa\",\"#FFA15A\",\"#19d3f3\",\"#FF6692\",\"#B6E880\",\"#FF97FF\",\"#FECB52\"],\"font\":{\"color\":\"#2a3f5f\"},\"hovermode\":\"closest\",\"hoverlabel\":{\"align\":\"left\"},\"paper_bgcolor\":\"white\",\"plot_bgcolor\":\"#E5ECF6\",\"polar\":{\"bgcolor\":\"#E5ECF6\",\"angularaxis\":{\"gridcolor\":\"white\",\"linecolor\":\"white\",\"ticks\":\"\"},\"radialaxis\":{\"gridcolor\":\"white\",\"linecolor\":\"white\",\"ticks\":\"\"}},\"ternary\":{\"bgcolor\":\"#E5ECF6\",\"aaxis\":{\"gridcolor\":\"white\",\"linecolor\":\"white\",\"ticks\":\"\"},\"baxis\":{\"gridcolor\":\"white\",\"linecolor\":\"white\",\"ticks\":\"\"},\"caxis\":{\"gridcolor\":\"white\",\"linecolor\":\"white\",\"ticks\":\"\"}},\"coloraxis\":{\"colorbar\":{\"outlinewidth\":0,\"ticks\":\"\"}},\"colorscale\":{\"sequential\":[[0.0,\"#0d0887\"],[0.1111111111111111,\"#46039f\"],[0.2222222222222222,\"#7201a8\"],[0.3333333333333333,\"#9c179e\"],[0.4444444444444444,\"#bd3786\"],[0.5555555555555556,\"#d8576b\"],[0.6666666666666666,\"#ed7953\"],[0.7777777777777778,\"#fb9f3a\"],[0.8888888888888888,\"#fdca26\"],[1.0,\"#f0f921\"]],\"sequentialminus\":[[0.0,\"#0d0887\"],[0.1111111111111111,\"#46039f\"],[0.2222222222222222,\"#7201a8\"],[0.3333333333333333,\"#9c179e\"],[0.4444444444444444,\"#bd3786\"],[0.5555555555555556,\"#d8576b\"],[0.6666666666666666,\"#ed7953\"],[0.7777777777777778,\"#fb9f3a\"],[0.8888888888888888,\"#fdca26\"],[1.0,\"#f0f921\"]],\"diverging\":[[0,\"#8e0152\"],[0.1,\"#c51b7d\"],[0.2,\"#de77ae\"],[0.3,\"#f1b6da\"],[0.4,\"#fde0ef\"],[0.5,\"#f7f7f7\"],[0.6,\"#e6f5d0\"],[0.7,\"#b8e186\"],[0.8,\"#7fbc41\"],[0.9,\"#4d9221\"],[1,\"#276419\"]]},\"xaxis\":{\"gridcolor\":\"white\",\"linecolor\":\"white\",\"ticks\":\"\",\"title\":{\"standoff\":15},\"zerolinecolor\":\"white\",\"automargin\":true,\"zerolinewidth\":2},\"yaxis\":{\"gridcolor\":\"white\",\"linecolor\":\"white\",\"ticks\":\"\",\"title\":{\"standoff\":15},\"zerolinecolor\":\"white\",\"automargin\":true,\"zerolinewidth\":2},\"scene\":{\"xaxis\":{\"backgroundcolor\":\"#E5ECF6\",\"gridcolor\":\"white\",\"linecolor\":\"white\",\"showbackground\":true,\"ticks\":\"\",\"zerolinecolor\":\"white\",\"gridwidth\":2},\"yaxis\":{\"backgroundcolor\":\"#E5ECF6\",\"gridcolor\":\"white\",\"linecolor\":\"white\",\"showbackground\":true,\"ticks\":\"\",\"zerolinecolor\":\"white\",\"gridwidth\":2},\"zaxis\":{\"backgroundcolor\":\"#E5ECF6\",\"gridcolor\":\"white\",\"linecolor\":\"white\",\"showbackground\":true,\"ticks\":\"\",\"zerolinecolor\":\"white\",\"gridwidth\":2}},\"shapedefaults\":{\"line\":{\"color\":\"#2a3f5f\"}},\"annotationdefaults\":{\"arrowcolor\":\"#2a3f5f\",\"arrowhead\":0,\"arrowwidth\":1},\"geo\":{\"bgcolor\":\"white\",\"landcolor\":\"#E5ECF6\",\"subunitcolor\":\"white\",\"showland\":true,\"showlakes\":true,\"lakecolor\":\"white\"},\"title\":{\"x\":0.05},\"mapbox\":{\"style\":\"light\"}}},\"xaxis\":{\"anchor\":\"y\",\"domain\":[0.0,1.0],\"title\":{\"text\":\"temp\"}},\"yaxis\":{\"anchor\":\"x\",\"domain\":[0.0,1.0],\"title\":{\"text\":\"wind\"}},\"legend\":{\"title\":{\"text\":\"day\"},\"tracegroupgap\":0},\"margin\":{\"t\":60}},                        {\"responsive\": true}                    ).then(function(){\n",
       "                            \n",
       "var gd = document.getElementById('abde786a-b239-4500-b409-83a6307d590f');\n",
       "var x = new MutationObserver(function (mutations, observer) {{\n",
       "        var display = window.getComputedStyle(gd).display;\n",
       "        if (!display || display === 'none') {{\n",
       "            console.log([gd, 'removed!']);\n",
       "            Plotly.purge(gd);\n",
       "            observer.disconnect();\n",
       "        }}\n",
       "}});\n",
       "\n",
       "// Listen for the removal of the full notebook cells\n",
       "var notebookContainer = gd.closest('#notebook-container');\n",
       "if (notebookContainer) {{\n",
       "    x.observe(notebookContainer, {childList: true});\n",
       "}}\n",
       "\n",
       "// Listen for the clearing of the current output cell\n",
       "var outputEl = gd.closest('.output');\n",
       "if (outputEl) {{\n",
       "    x.observe(outputEl, {childList: true});\n",
       "}}\n",
       "\n",
       "                        })                };                });            </script>        </div>"
      ]
     },
     "metadata": {},
     "output_type": "display_data"
    }
   ],
   "source": [
    "import plotly.express as px\n",
    "\n",
    "fig = px.area(df, x=\"temp\", y=\"wind\", color=\"day\")\n",
    "fig.show()"
   ]
  },
  {
   "cell_type": "code",
   "execution_count": 73,
   "id": "9aa50a7c",
   "metadata": {},
   "outputs": [
    {
     "data": {
      "application/vnd.plotly.v1+json": {
       "config": {
        "plotlyServerURL": "https://plot.ly"
       },
       "data": [
        {
         "hovertemplate": "month=%{x}<br>temp=%{marker.color}<extra></extra>",
         "legendgroup": "",
         "marker": {
          "color": [
           8.2,
           18,
           14.6,
           8.3,
           11.4,
           22.2,
           24.1,
           8,
           13.1,
           22.8,
           17.8,
           19.3,
           17,
           21.3,
           26.4,
           22.9,
           15.1,
           16.7,
           15.9,
           9.3,
           18.3,
           19.1,
           21,
           19.5,
           23.7,
           16.3,
           19,
           19.4,
           30.2,
           22.8,
           25.4,
           11.2,
           20.6,
           17.7,
           21.2,
           18.2,
           21.7,
           11.3,
           17.8,
           14.1,
           23.3,
           18.4,
           16.6,
           19.6,
           12.9,
           25.9,
           14.7,
           23,
           11.8,
           11,
           20.8,
           21.5,
           20.4,
           20.4,
           17.6,
           27.7,
           17.8,
           13.8,
           13.9,
           12.3,
           11.5,
           5.5,
           18.8,
           20.8,
           23.1,
           18.6,
           23,
           19.6,
           19.6,
           17.2,
           15.8,
           17.7,
           15.6,
           17.3,
           27.6,
           6.7,
           15.7,
           8.3,
           14.7,
           21.6,
           19.5,
           17.9,
           18.6,
           16.6,
           20.2,
           21.5,
           25.4,
           22.4,
           25.3,
           17.4,
           14.7,
           17.4,
           20.8,
           18.2,
           23.4,
           17.8,
           12.7,
           17.4,
           11.6,
           19.8,
           19.8,
           14.4,
           20.1,
           24.1,
           5.3,
           12.7,
           18.2,
           21.4,
           20.3,
           17.4,
           13.7,
           18.8,
           22.8,
           18.9,
           15.8,
           15.5,
           11.6,
           15.2,
           10.6,
           19.6,
           10.3,
           17.1,
           22.5,
           17.9,
           19.8,
           20.6,
           9,
           17.2,
           15.9,
           15.4,
           15.4,
           14,
           10.6,
           17.6,
           14.9,
           17.6,
           17.2,
           15.6,
           18,
           21.7,
           21.9,
           23.3,
           21.2,
           16.6,
           23.8,
           27.4,
           13.2,
           24.2,
           17.4,
           23.7,
           23.2,
           24.8,
           24.6,
           20.1,
           29.6,
           16.4,
           28.6,
           18.4,
           20.5,
           19,
           16.1,
           20.3,
           15.2,
           17.8,
           17.8,
           5.3,
           16.6,
           23.4,
           14.6,
           20.7,
           21.9,
           17.4,
           20.1,
           17.7,
           14.2,
           20.3,
           5.8,
           19.2,
           18.3,
           14.4,
           23.9,
           19.1,
           12.4,
           16.8,
           20.8,
           17.6,
           11.5,
           21,
           13.3,
           11.5,
           11.7,
           24.2,
           24.6,
           24.3,
           24.6,
           23.5,
           5.8,
           21.5,
           13.9,
           22.6,
           21.6,
           12.4,
           8.8,
           20.2,
           15.1,
           22.1,
           22.9,
           20.7,
           19.6,
           23.2,
           18.4,
           5.1,
           20.1,
           11,
           17,
           17,
           16.9,
           12.4,
           19.4,
           15.2,
           16.2,
           18.6,
           11,
           13.4,
           15.4,
           22.9,
           16.1,
           20.1,
           28.3,
           16.4,
           26.4,
           27.8,
           18.7,
           24.3,
           17.7,
           19.6,
           18.2,
           18.8,
           25.1,
           13.4,
           15.2,
           16.7,
           15.4,
           21.9,
           22.4,
           26.8,
           25.7,
           20.7,
           28.7,
           21.7,
           26.8,
           24,
           22.1,
           21.4,
           18.9,
           22.3,
           23.9,
           21.4,
           20.6,
           23.7,
           28.3,
           11.2,
           21.4,
           19.3,
           21.8,
           22.1,
           19.4,
           23.7,
           21,
           19.1,
           21.8,
           20.1,
           20.2,
           4.8,
           5.1,
           5.1,
           4.6,
           4.6,
           4.6,
           4.6,
           2.2,
           5.1,
           4.2,
           8.8,
           7.5,
           23.4,
           12.6,
           22.1,
           24.2,
           24.3,
           18.7,
           25.3,
           22.9,
           26.9,
           17.1,
           22.2,
           14.3,
           15.4,
           19.6,
           10.6,
           20.7,
           19.1,
           19.2,
           19.2,
           11.3,
           19,
           17.1,
           23.8,
           16,
           24.9,
           25.3,
           24.8,
           12.2,
           24.3,
           19.7,
           18.5,
           18.6,
           19.2,
           21.6,
           21.6,
           18.9,
           16.8,
           16.8,
           12.9,
           13.7,
           24.2,
           24.1,
           21.2,
           19.7,
           23.5,
           24.2,
           21.5,
           17.1,
           18.1,
           18,
           9.8,
           19.3,
           23,
           22.7,
           20.4,
           19.3,
           15.7,
           20.6,
           15.9,
           12.2,
           16.8,
           21.3,
           10.1,
           17.4,
           12.8,
           10.1,
           15.4,
           20.6,
           19.8,
           18.7,
           20.8,
           20.8,
           15.9,
           19.7,
           21.1,
           18.4,
           17.3,
           15.2,
           15.9,
           21.1,
           19.6,
           15.9,
           16.4,
           16.8,
           13.8,
           13.8,
           14.2,
           10.4,
           20.3,
           10.3,
           15.4,
           21.1,
           21.9,
           8.7,
           5.2,
           19.3,
           16.2,
           28.2,
           20.5,
           21.3,
           20.9,
           20.6,
           11.6,
           23.3,
           23.3,
           7.5,
           20.7,
           21.9,
           15.2,
           5.3,
           10.1,
           20.4,
           24.3,
           25.9,
           28,
           28,
           22.8,
           25,
           21.3,
           21.8,
           27.9,
           17,
           14.2,
           19.9,
           23.4,
           14.7,
           8.2,
           22.8,
           26.4,
           24.1,
           27.5,
           26.3,
           13.8,
           24.9,
           24.8,
           26.2,
           30.8,
           29.3,
           22.3,
           26.9,
           20.4,
           20.4,
           27.9,
           26.2,
           24.6,
           19.4,
           23.3,
           23.9,
           20.9,
           22.2,
           23.8,
           26.8,
           14.2,
           23.6,
           19.1,
           16.2,
           25.5,
           10.9,
           14.8,
           16.2,
           17.3,
           19.1,
           8.9,
           10.5,
           19.3,
           23.4,
           11.8,
           17.7,
           17.4,
           16.8,
           17.9,
           16.6,
           19.9,
           18.9,
           15.5,
           18.9,
           18.9,
           14.5,
           4.6,
           5.1,
           4.6,
           10.2,
           11.2,
           13.3,
           13.7,
           17.6,
           18,
           14.3,
           24.5,
           26.4,
           22.7,
           27.2,
           26.1,
           18.2,
           22.6,
           30.2,
           30.2,
           23.4,
           31,
           33.1,
           30.6,
           24.1,
           26.4,
           19.4,
           20.6,
           28.7,
           32.4,
           32.4,
           27.5,
           30.8,
           23.9,
           32.6,
           32.3,
           33.3,
           27.3,
           21.6,
           21.6,
           20.7,
           29.2,
           28.9,
           26.7,
           18.5,
           25.9,
           25.9,
           21.1,
           18.2,
           27.8,
           27.8,
           21.9,
           21.2,
           25.6,
           11.8
          ],
          "coloraxis": "coloraxis",
          "symbol": "circle"
         },
         "mode": "markers",
         "name": "",
         "orientation": "v",
         "showlegend": false,
         "type": "scatter",
         "x": [
          "mar",
          "oct",
          "oct",
          "mar",
          "mar",
          "aug",
          "aug",
          "aug",
          "sep",
          "sep",
          "sep",
          "sep",
          "aug",
          "sep",
          "sep",
          "sep",
          "mar",
          "oct",
          "mar",
          "apr",
          "sep",
          "sep",
          "jun",
          "aug",
          "aug",
          "aug",
          "sep",
          "sep",
          "sep",
          "sep",
          "sep",
          "sep",
          "sep",
          "sep",
          "sep",
          "sep",
          "oct",
          "oct",
          "oct",
          "mar",
          "jul",
          "aug",
          "aug",
          "sep",
          "sep",
          "sep",
          "sep",
          "jul",
          "mar",
          "mar",
          "sep",
          "aug",
          "aug",
          "aug",
          "aug",
          "sep",
          "sep",
          "oct",
          "feb",
          "feb",
          "mar",
          "mar",
          "aug",
          "aug",
          "aug",
          "aug",
          "sep",
          "sep",
          "sep",
          "mar",
          "mar",
          "sep",
          "mar",
          "aug",
          "sep",
          "feb",
          "feb",
          "mar",
          "aug",
          "aug",
          "aug",
          "aug",
          "aug",
          "aug",
          "aug",
          "sep",
          "sep",
          "sep",
          "sep",
          "mar",
          "aug",
          "mar",
          "aug",
          "aug",
          "aug",
          "sep",
          "feb",
          "mar",
          "aug",
          "aug",
          "aug",
          "aug",
          "aug",
          "sep",
          "jan",
          "mar",
          "mar",
          "aug",
          "sep",
          "sep",
          "mar",
          "mar",
          "sep",
          "sep",
          "mar",
          "mar",
          "mar",
          "mar",
          "mar",
          "aug",
          "aug",
          "aug",
          "sep",
          "sep",
          "sep",
          "oct",
          "mar",
          "sep",
          "oct",
          "oct",
          "feb",
          "mar",
          "mar",
          "sep",
          "mar",
          "aug",
          "sep",
          "sep",
          "jul",
          "sep",
          "sep",
          "aug",
          "aug",
          "jul",
          "aug",
          "aug",
          "mar",
          "sep",
          "aug",
          "sep",
          "jun",
          "jul",
          "jul",
          "sep",
          "sep",
          "aug",
          "sep",
          "aug",
          "aug",
          "sep",
          "mar",
          "aug",
          "mar",
          "sep",
          "sep",
          "mar",
          "aug",
          "aug",
          "mar",
          "aug",
          "sep",
          "aug",
          "aug",
          "sep",
          "aug",
          "aug",
          "apr",
          "aug",
          "sep",
          "aug",
          "sep",
          "oct",
          "feb",
          "oct",
          "aug",
          "sep",
          "mar",
          "sep",
          "mar",
          "mar",
          "mar",
          "aug",
          "aug",
          "sep",
          "aug",
          "aug",
          "apr",
          "sep",
          "sep",
          "sep",
          "sep",
          "mar",
          "feb",
          "oct",
          "mar",
          "sep",
          "aug",
          "sep",
          "sep",
          "sep",
          "oct",
          "aug",
          "sep",
          "mar",
          "mar",
          "mar",
          "sep",
          "sep",
          "sep",
          "mar",
          "aug",
          "sep",
          "mar",
          "jul",
          "sep",
          "sep",
          "oct",
          "aug",
          "sep",
          "aug",
          "sep",
          "sep",
          "sep",
          "sep",
          "sep",
          "aug",
          "sep",
          "sep",
          "sep",
          "apr",
          "apr",
          "apr",
          "aug",
          "aug",
          "aug",
          "aug",
          "aug",
          "aug",
          "aug",
          "aug",
          "aug",
          "aug",
          "aug",
          "aug",
          "aug",
          "aug",
          "aug",
          "aug",
          "aug",
          "aug",
          "aug",
          "aug",
          "aug",
          "aug",
          "aug",
          "aug",
          "aug",
          "aug",
          "aug",
          "aug",
          "aug",
          "aug",
          "aug",
          "dec",
          "dec",
          "dec",
          "dec",
          "dec",
          "dec",
          "dec",
          "dec",
          "dec",
          "feb",
          "feb",
          "feb",
          "jul",
          "jul",
          "jul",
          "jul",
          "jul",
          "jul",
          "jul",
          "jul",
          "jul",
          "jul",
          "jun",
          "jun",
          "jun",
          "jun",
          "jun",
          "jun",
          "jun",
          "jun",
          "jun",
          "may",
          "sep",
          "sep",
          "sep",
          "sep",
          "sep",
          "sep",
          "sep",
          "sep",
          "sep",
          "sep",
          "sep",
          "sep",
          "sep",
          "sep",
          "sep",
          "sep",
          "sep",
          "sep",
          "sep",
          "sep",
          "sep",
          "sep",
          "sep",
          "sep",
          "sep",
          "sep",
          "sep",
          "sep",
          "sep",
          "sep",
          "sep",
          "sep",
          "sep",
          "sep",
          "sep",
          "sep",
          "sep",
          "sep",
          "sep",
          "sep",
          "sep",
          "sep",
          "sep",
          "sep",
          "sep",
          "sep",
          "sep",
          "sep",
          "sep",
          "sep",
          "sep",
          "sep",
          "sep",
          "sep",
          "sep",
          "sep",
          "sep",
          "sep",
          "sep",
          "sep",
          "sep",
          "sep",
          "sep",
          "sep",
          "sep",
          "sep",
          "jul",
          "aug",
          "aug",
          "sep",
          "sep",
          "aug",
          "aug",
          "mar",
          "jan",
          "jul",
          "aug",
          "aug",
          "aug",
          "aug",
          "aug",
          "sep",
          "mar",
          "aug",
          "aug",
          "feb",
          "sep",
          "sep",
          "mar",
          "feb",
          "feb",
          "sep",
          "aug",
          "aug",
          "jun",
          "jun",
          "sep",
          "aug",
          "aug",
          "sep",
          "aug",
          "sep",
          "feb",
          "sep",
          "jul",
          "feb",
          "feb",
          "jul",
          "aug",
          "aug",
          "aug",
          "jul",
          "mar",
          "aug",
          "aug",
          "aug",
          "aug",
          "jul",
          "sep",
          "aug",
          "aug",
          "aug",
          "aug",
          "aug",
          "aug",
          "sep",
          "aug",
          "aug",
          "aug",
          "aug",
          "jul",
          "aug",
          "aug",
          "aug",
          "sep",
          "sep",
          "aug",
          "apr",
          "jul",
          "sep",
          "aug",
          "aug",
          "mar",
          "sep",
          "aug",
          "aug",
          "aug",
          "aug",
          "aug",
          "aug",
          "jul",
          "aug",
          "aug",
          "aug",
          "aug",
          "aug",
          "aug",
          "sep",
          "feb",
          "feb",
          "feb",
          "mar",
          "mar",
          "mar",
          "apr",
          "apr",
          "may",
          "jun",
          "jun",
          "jun",
          "jun",
          "jul",
          "jul",
          "jul",
          "jul",
          "jul",
          "jul",
          "aug",
          "aug",
          "aug",
          "aug",
          "aug",
          "aug",
          "aug",
          "aug",
          "aug",
          "aug",
          "aug",
          "aug",
          "aug",
          "aug",
          "aug",
          "aug",
          "aug",
          "aug",
          "aug",
          "aug",
          "aug",
          "aug",
          "aug",
          "aug",
          "aug",
          "aug",
          "aug",
          "aug",
          "aug",
          "aug",
          "aug",
          "aug",
          "aug",
          "aug",
          "nov"
         ],
         "xaxis": "x",
         "y": [
          8.2,
          18,
          14.6,
          8.3,
          11.4,
          22.2,
          24.1,
          8,
          13.1,
          22.8,
          17.8,
          19.3,
          17,
          21.3,
          26.4,
          22.9,
          15.1,
          16.7,
          15.9,
          9.3,
          18.3,
          19.1,
          21,
          19.5,
          23.7,
          16.3,
          19,
          19.4,
          30.2,
          22.8,
          25.4,
          11.2,
          20.6,
          17.7,
          21.2,
          18.2,
          21.7,
          11.3,
          17.8,
          14.1,
          23.3,
          18.4,
          16.6,
          19.6,
          12.9,
          25.9,
          14.7,
          23,
          11.8,
          11,
          20.8,
          21.5,
          20.4,
          20.4,
          17.6,
          27.7,
          17.8,
          13.8,
          13.9,
          12.3,
          11.5,
          5.5,
          18.8,
          20.8,
          23.1,
          18.6,
          23,
          19.6,
          19.6,
          17.2,
          15.8,
          17.7,
          15.6,
          17.3,
          27.6,
          6.7,
          15.7,
          8.3,
          14.7,
          21.6,
          19.5,
          17.9,
          18.6,
          16.6,
          20.2,
          21.5,
          25.4,
          22.4,
          25.3,
          17.4,
          14.7,
          17.4,
          20.8,
          18.2,
          23.4,
          17.8,
          12.7,
          17.4,
          11.6,
          19.8,
          19.8,
          14.4,
          20.1,
          24.1,
          5.3,
          12.7,
          18.2,
          21.4,
          20.3,
          17.4,
          13.7,
          18.8,
          22.8,
          18.9,
          15.8,
          15.5,
          11.6,
          15.2,
          10.6,
          19.6,
          10.3,
          17.1,
          22.5,
          17.9,
          19.8,
          20.6,
          9,
          17.2,
          15.9,
          15.4,
          15.4,
          14,
          10.6,
          17.6,
          14.9,
          17.6,
          17.2,
          15.6,
          18,
          21.7,
          21.9,
          23.3,
          21.2,
          16.6,
          23.8,
          27.4,
          13.2,
          24.2,
          17.4,
          23.7,
          23.2,
          24.8,
          24.6,
          20.1,
          29.6,
          16.4,
          28.6,
          18.4,
          20.5,
          19,
          16.1,
          20.3,
          15.2,
          17.8,
          17.8,
          5.3,
          16.6,
          23.4,
          14.6,
          20.7,
          21.9,
          17.4,
          20.1,
          17.7,
          14.2,
          20.3,
          5.8,
          19.2,
          18.3,
          14.4,
          23.9,
          19.1,
          12.4,
          16.8,
          20.8,
          17.6,
          11.5,
          21,
          13.3,
          11.5,
          11.7,
          24.2,
          24.6,
          24.3,
          24.6,
          23.5,
          5.8,
          21.5,
          13.9,
          22.6,
          21.6,
          12.4,
          8.8,
          20.2,
          15.1,
          22.1,
          22.9,
          20.7,
          19.6,
          23.2,
          18.4,
          5.1,
          20.1,
          11,
          17,
          17,
          16.9,
          12.4,
          19.4,
          15.2,
          16.2,
          18.6,
          11,
          13.4,
          15.4,
          22.9,
          16.1,
          20.1,
          28.3,
          16.4,
          26.4,
          27.8,
          18.7,
          24.3,
          17.7,
          19.6,
          18.2,
          18.8,
          25.1,
          13.4,
          15.2,
          16.7,
          15.4,
          21.9,
          22.4,
          26.8,
          25.7,
          20.7,
          28.7,
          21.7,
          26.8,
          24,
          22.1,
          21.4,
          18.9,
          22.3,
          23.9,
          21.4,
          20.6,
          23.7,
          28.3,
          11.2,
          21.4,
          19.3,
          21.8,
          22.1,
          19.4,
          23.7,
          21,
          19.1,
          21.8,
          20.1,
          20.2,
          4.8,
          5.1,
          5.1,
          4.6,
          4.6,
          4.6,
          4.6,
          2.2,
          5.1,
          4.2,
          8.8,
          7.5,
          23.4,
          12.6,
          22.1,
          24.2,
          24.3,
          18.7,
          25.3,
          22.9,
          26.9,
          17.1,
          22.2,
          14.3,
          15.4,
          19.6,
          10.6,
          20.7,
          19.1,
          19.2,
          19.2,
          11.3,
          19,
          17.1,
          23.8,
          16,
          24.9,
          25.3,
          24.8,
          12.2,
          24.3,
          19.7,
          18.5,
          18.6,
          19.2,
          21.6,
          21.6,
          18.9,
          16.8,
          16.8,
          12.9,
          13.7,
          24.2,
          24.1,
          21.2,
          19.7,
          23.5,
          24.2,
          21.5,
          17.1,
          18.1,
          18,
          9.8,
          19.3,
          23,
          22.7,
          20.4,
          19.3,
          15.7,
          20.6,
          15.9,
          12.2,
          16.8,
          21.3,
          10.1,
          17.4,
          12.8,
          10.1,
          15.4,
          20.6,
          19.8,
          18.7,
          20.8,
          20.8,
          15.9,
          19.7,
          21.1,
          18.4,
          17.3,
          15.2,
          15.9,
          21.1,
          19.6,
          15.9,
          16.4,
          16.8,
          13.8,
          13.8,
          14.2,
          10.4,
          20.3,
          10.3,
          15.4,
          21.1,
          21.9,
          8.7,
          5.2,
          19.3,
          16.2,
          28.2,
          20.5,
          21.3,
          20.9,
          20.6,
          11.6,
          23.3,
          23.3,
          7.5,
          20.7,
          21.9,
          15.2,
          5.3,
          10.1,
          20.4,
          24.3,
          25.9,
          28,
          28,
          22.8,
          25,
          21.3,
          21.8,
          27.9,
          17,
          14.2,
          19.9,
          23.4,
          14.7,
          8.2,
          22.8,
          26.4,
          24.1,
          27.5,
          26.3,
          13.8,
          24.9,
          24.8,
          26.2,
          30.8,
          29.3,
          22.3,
          26.9,
          20.4,
          20.4,
          27.9,
          26.2,
          24.6,
          19.4,
          23.3,
          23.9,
          20.9,
          22.2,
          23.8,
          26.8,
          14.2,
          23.6,
          19.1,
          16.2,
          25.5,
          10.9,
          14.8,
          16.2,
          17.3,
          19.1,
          8.9,
          10.5,
          19.3,
          23.4,
          11.8,
          17.7,
          17.4,
          16.8,
          17.9,
          16.6,
          19.9,
          18.9,
          15.5,
          18.9,
          18.9,
          14.5,
          4.6,
          5.1,
          4.6,
          10.2,
          11.2,
          13.3,
          13.7,
          17.6,
          18,
          14.3,
          24.5,
          26.4,
          22.7,
          27.2,
          26.1,
          18.2,
          22.6,
          30.2,
          30.2,
          23.4,
          31,
          33.1,
          30.6,
          24.1,
          26.4,
          19.4,
          20.6,
          28.7,
          32.4,
          32.4,
          27.5,
          30.8,
          23.9,
          32.6,
          32.3,
          33.3,
          27.3,
          21.6,
          21.6,
          20.7,
          29.2,
          28.9,
          26.7,
          18.5,
          25.9,
          25.9,
          21.1,
          18.2,
          27.8,
          27.8,
          21.9,
          21.2,
          25.6,
          11.8
         ],
         "yaxis": "y"
        }
       ],
       "layout": {
        "coloraxis": {
         "colorbar": {
          "title": {
           "text": "temp"
          }
         },
         "colorscale": [
          [
           0,
           "#0d0887"
          ],
          [
           0.1111111111111111,
           "#46039f"
          ],
          [
           0.2222222222222222,
           "#7201a8"
          ],
          [
           0.3333333333333333,
           "#9c179e"
          ],
          [
           0.4444444444444444,
           "#bd3786"
          ],
          [
           0.5555555555555556,
           "#d8576b"
          ],
          [
           0.6666666666666666,
           "#ed7953"
          ],
          [
           0.7777777777777778,
           "#fb9f3a"
          ],
          [
           0.8888888888888888,
           "#fdca26"
          ],
          [
           1,
           "#f0f921"
          ]
         ]
        },
        "legend": {
         "tracegroupgap": 0
        },
        "margin": {
         "t": 60
        },
        "template": {
         "data": {
          "bar": [
           {
            "error_x": {
             "color": "#2a3f5f"
            },
            "error_y": {
             "color": "#2a3f5f"
            },
            "marker": {
             "line": {
              "color": "#E5ECF6",
              "width": 0.5
             },
             "pattern": {
              "fillmode": "overlay",
              "size": 10,
              "solidity": 0.2
             }
            },
            "type": "bar"
           }
          ],
          "barpolar": [
           {
            "marker": {
             "line": {
              "color": "#E5ECF6",
              "width": 0.5
             },
             "pattern": {
              "fillmode": "overlay",
              "size": 10,
              "solidity": 0.2
             }
            },
            "type": "barpolar"
           }
          ],
          "carpet": [
           {
            "aaxis": {
             "endlinecolor": "#2a3f5f",
             "gridcolor": "white",
             "linecolor": "white",
             "minorgridcolor": "white",
             "startlinecolor": "#2a3f5f"
            },
            "baxis": {
             "endlinecolor": "#2a3f5f",
             "gridcolor": "white",
             "linecolor": "white",
             "minorgridcolor": "white",
             "startlinecolor": "#2a3f5f"
            },
            "type": "carpet"
           }
          ],
          "choropleth": [
           {
            "colorbar": {
             "outlinewidth": 0,
             "ticks": ""
            },
            "type": "choropleth"
           }
          ],
          "contour": [
           {
            "colorbar": {
             "outlinewidth": 0,
             "ticks": ""
            },
            "colorscale": [
             [
              0,
              "#0d0887"
             ],
             [
              0.1111111111111111,
              "#46039f"
             ],
             [
              0.2222222222222222,
              "#7201a8"
             ],
             [
              0.3333333333333333,
              "#9c179e"
             ],
             [
              0.4444444444444444,
              "#bd3786"
             ],
             [
              0.5555555555555556,
              "#d8576b"
             ],
             [
              0.6666666666666666,
              "#ed7953"
             ],
             [
              0.7777777777777778,
              "#fb9f3a"
             ],
             [
              0.8888888888888888,
              "#fdca26"
             ],
             [
              1,
              "#f0f921"
             ]
            ],
            "type": "contour"
           }
          ],
          "contourcarpet": [
           {
            "colorbar": {
             "outlinewidth": 0,
             "ticks": ""
            },
            "type": "contourcarpet"
           }
          ],
          "heatmap": [
           {
            "colorbar": {
             "outlinewidth": 0,
             "ticks": ""
            },
            "colorscale": [
             [
              0,
              "#0d0887"
             ],
             [
              0.1111111111111111,
              "#46039f"
             ],
             [
              0.2222222222222222,
              "#7201a8"
             ],
             [
              0.3333333333333333,
              "#9c179e"
             ],
             [
              0.4444444444444444,
              "#bd3786"
             ],
             [
              0.5555555555555556,
              "#d8576b"
             ],
             [
              0.6666666666666666,
              "#ed7953"
             ],
             [
              0.7777777777777778,
              "#fb9f3a"
             ],
             [
              0.8888888888888888,
              "#fdca26"
             ],
             [
              1,
              "#f0f921"
             ]
            ],
            "type": "heatmap"
           }
          ],
          "heatmapgl": [
           {
            "colorbar": {
             "outlinewidth": 0,
             "ticks": ""
            },
            "colorscale": [
             [
              0,
              "#0d0887"
             ],
             [
              0.1111111111111111,
              "#46039f"
             ],
             [
              0.2222222222222222,
              "#7201a8"
             ],
             [
              0.3333333333333333,
              "#9c179e"
             ],
             [
              0.4444444444444444,
              "#bd3786"
             ],
             [
              0.5555555555555556,
              "#d8576b"
             ],
             [
              0.6666666666666666,
              "#ed7953"
             ],
             [
              0.7777777777777778,
              "#fb9f3a"
             ],
             [
              0.8888888888888888,
              "#fdca26"
             ],
             [
              1,
              "#f0f921"
             ]
            ],
            "type": "heatmapgl"
           }
          ],
          "histogram": [
           {
            "marker": {
             "pattern": {
              "fillmode": "overlay",
              "size": 10,
              "solidity": 0.2
             }
            },
            "type": "histogram"
           }
          ],
          "histogram2d": [
           {
            "colorbar": {
             "outlinewidth": 0,
             "ticks": ""
            },
            "colorscale": [
             [
              0,
              "#0d0887"
             ],
             [
              0.1111111111111111,
              "#46039f"
             ],
             [
              0.2222222222222222,
              "#7201a8"
             ],
             [
              0.3333333333333333,
              "#9c179e"
             ],
             [
              0.4444444444444444,
              "#bd3786"
             ],
             [
              0.5555555555555556,
              "#d8576b"
             ],
             [
              0.6666666666666666,
              "#ed7953"
             ],
             [
              0.7777777777777778,
              "#fb9f3a"
             ],
             [
              0.8888888888888888,
              "#fdca26"
             ],
             [
              1,
              "#f0f921"
             ]
            ],
            "type": "histogram2d"
           }
          ],
          "histogram2dcontour": [
           {
            "colorbar": {
             "outlinewidth": 0,
             "ticks": ""
            },
            "colorscale": [
             [
              0,
              "#0d0887"
             ],
             [
              0.1111111111111111,
              "#46039f"
             ],
             [
              0.2222222222222222,
              "#7201a8"
             ],
             [
              0.3333333333333333,
              "#9c179e"
             ],
             [
              0.4444444444444444,
              "#bd3786"
             ],
             [
              0.5555555555555556,
              "#d8576b"
             ],
             [
              0.6666666666666666,
              "#ed7953"
             ],
             [
              0.7777777777777778,
              "#fb9f3a"
             ],
             [
              0.8888888888888888,
              "#fdca26"
             ],
             [
              1,
              "#f0f921"
             ]
            ],
            "type": "histogram2dcontour"
           }
          ],
          "mesh3d": [
           {
            "colorbar": {
             "outlinewidth": 0,
             "ticks": ""
            },
            "type": "mesh3d"
           }
          ],
          "parcoords": [
           {
            "line": {
             "colorbar": {
              "outlinewidth": 0,
              "ticks": ""
             }
            },
            "type": "parcoords"
           }
          ],
          "pie": [
           {
            "automargin": true,
            "type": "pie"
           }
          ],
          "scatter": [
           {
            "fillpattern": {
             "fillmode": "overlay",
             "size": 10,
             "solidity": 0.2
            },
            "type": "scatter"
           }
          ],
          "scatter3d": [
           {
            "line": {
             "colorbar": {
              "outlinewidth": 0,
              "ticks": ""
             }
            },
            "marker": {
             "colorbar": {
              "outlinewidth": 0,
              "ticks": ""
             }
            },
            "type": "scatter3d"
           }
          ],
          "scattercarpet": [
           {
            "marker": {
             "colorbar": {
              "outlinewidth": 0,
              "ticks": ""
             }
            },
            "type": "scattercarpet"
           }
          ],
          "scattergeo": [
           {
            "marker": {
             "colorbar": {
              "outlinewidth": 0,
              "ticks": ""
             }
            },
            "type": "scattergeo"
           }
          ],
          "scattergl": [
           {
            "marker": {
             "colorbar": {
              "outlinewidth": 0,
              "ticks": ""
             }
            },
            "type": "scattergl"
           }
          ],
          "scattermapbox": [
           {
            "marker": {
             "colorbar": {
              "outlinewidth": 0,
              "ticks": ""
             }
            },
            "type": "scattermapbox"
           }
          ],
          "scatterpolar": [
           {
            "marker": {
             "colorbar": {
              "outlinewidth": 0,
              "ticks": ""
             }
            },
            "type": "scatterpolar"
           }
          ],
          "scatterpolargl": [
           {
            "marker": {
             "colorbar": {
              "outlinewidth": 0,
              "ticks": ""
             }
            },
            "type": "scatterpolargl"
           }
          ],
          "scatterternary": [
           {
            "marker": {
             "colorbar": {
              "outlinewidth": 0,
              "ticks": ""
             }
            },
            "type": "scatterternary"
           }
          ],
          "surface": [
           {
            "colorbar": {
             "outlinewidth": 0,
             "ticks": ""
            },
            "colorscale": [
             [
              0,
              "#0d0887"
             ],
             [
              0.1111111111111111,
              "#46039f"
             ],
             [
              0.2222222222222222,
              "#7201a8"
             ],
             [
              0.3333333333333333,
              "#9c179e"
             ],
             [
              0.4444444444444444,
              "#bd3786"
             ],
             [
              0.5555555555555556,
              "#d8576b"
             ],
             [
              0.6666666666666666,
              "#ed7953"
             ],
             [
              0.7777777777777778,
              "#fb9f3a"
             ],
             [
              0.8888888888888888,
              "#fdca26"
             ],
             [
              1,
              "#f0f921"
             ]
            ],
            "type": "surface"
           }
          ],
          "table": [
           {
            "cells": {
             "fill": {
              "color": "#EBF0F8"
             },
             "line": {
              "color": "white"
             }
            },
            "header": {
             "fill": {
              "color": "#C8D4E3"
             },
             "line": {
              "color": "white"
             }
            },
            "type": "table"
           }
          ]
         },
         "layout": {
          "annotationdefaults": {
           "arrowcolor": "#2a3f5f",
           "arrowhead": 0,
           "arrowwidth": 1
          },
          "autotypenumbers": "strict",
          "coloraxis": {
           "colorbar": {
            "outlinewidth": 0,
            "ticks": ""
           }
          },
          "colorscale": {
           "diverging": [
            [
             0,
             "#8e0152"
            ],
            [
             0.1,
             "#c51b7d"
            ],
            [
             0.2,
             "#de77ae"
            ],
            [
             0.3,
             "#f1b6da"
            ],
            [
             0.4,
             "#fde0ef"
            ],
            [
             0.5,
             "#f7f7f7"
            ],
            [
             0.6,
             "#e6f5d0"
            ],
            [
             0.7,
             "#b8e186"
            ],
            [
             0.8,
             "#7fbc41"
            ],
            [
             0.9,
             "#4d9221"
            ],
            [
             1,
             "#276419"
            ]
           ],
           "sequential": [
            [
             0,
             "#0d0887"
            ],
            [
             0.1111111111111111,
             "#46039f"
            ],
            [
             0.2222222222222222,
             "#7201a8"
            ],
            [
             0.3333333333333333,
             "#9c179e"
            ],
            [
             0.4444444444444444,
             "#bd3786"
            ],
            [
             0.5555555555555556,
             "#d8576b"
            ],
            [
             0.6666666666666666,
             "#ed7953"
            ],
            [
             0.7777777777777778,
             "#fb9f3a"
            ],
            [
             0.8888888888888888,
             "#fdca26"
            ],
            [
             1,
             "#f0f921"
            ]
           ],
           "sequentialminus": [
            [
             0,
             "#0d0887"
            ],
            [
             0.1111111111111111,
             "#46039f"
            ],
            [
             0.2222222222222222,
             "#7201a8"
            ],
            [
             0.3333333333333333,
             "#9c179e"
            ],
            [
             0.4444444444444444,
             "#bd3786"
            ],
            [
             0.5555555555555556,
             "#d8576b"
            ],
            [
             0.6666666666666666,
             "#ed7953"
            ],
            [
             0.7777777777777778,
             "#fb9f3a"
            ],
            [
             0.8888888888888888,
             "#fdca26"
            ],
            [
             1,
             "#f0f921"
            ]
           ]
          },
          "colorway": [
           "#636efa",
           "#EF553B",
           "#00cc96",
           "#ab63fa",
           "#FFA15A",
           "#19d3f3",
           "#FF6692",
           "#B6E880",
           "#FF97FF",
           "#FECB52"
          ],
          "font": {
           "color": "#2a3f5f"
          },
          "geo": {
           "bgcolor": "white",
           "lakecolor": "white",
           "landcolor": "#E5ECF6",
           "showlakes": true,
           "showland": true,
           "subunitcolor": "white"
          },
          "hoverlabel": {
           "align": "left"
          },
          "hovermode": "closest",
          "mapbox": {
           "style": "light"
          },
          "paper_bgcolor": "white",
          "plot_bgcolor": "#E5ECF6",
          "polar": {
           "angularaxis": {
            "gridcolor": "white",
            "linecolor": "white",
            "ticks": ""
           },
           "bgcolor": "#E5ECF6",
           "radialaxis": {
            "gridcolor": "white",
            "linecolor": "white",
            "ticks": ""
           }
          },
          "scene": {
           "xaxis": {
            "backgroundcolor": "#E5ECF6",
            "gridcolor": "white",
            "gridwidth": 2,
            "linecolor": "white",
            "showbackground": true,
            "ticks": "",
            "zerolinecolor": "white"
           },
           "yaxis": {
            "backgroundcolor": "#E5ECF6",
            "gridcolor": "white",
            "gridwidth": 2,
            "linecolor": "white",
            "showbackground": true,
            "ticks": "",
            "zerolinecolor": "white"
           },
           "zaxis": {
            "backgroundcolor": "#E5ECF6",
            "gridcolor": "white",
            "gridwidth": 2,
            "linecolor": "white",
            "showbackground": true,
            "ticks": "",
            "zerolinecolor": "white"
           }
          },
          "shapedefaults": {
           "line": {
            "color": "#2a3f5f"
           }
          },
          "ternary": {
           "aaxis": {
            "gridcolor": "white",
            "linecolor": "white",
            "ticks": ""
           },
           "baxis": {
            "gridcolor": "white",
            "linecolor": "white",
            "ticks": ""
           },
           "bgcolor": "#E5ECF6",
           "caxis": {
            "gridcolor": "white",
            "linecolor": "white",
            "ticks": ""
           }
          },
          "title": {
           "x": 0.05
          },
          "xaxis": {
           "automargin": true,
           "gridcolor": "white",
           "linecolor": "white",
           "ticks": "",
           "title": {
            "standoff": 15
           },
           "zerolinecolor": "white",
           "zerolinewidth": 2
          },
          "yaxis": {
           "automargin": true,
           "gridcolor": "white",
           "linecolor": "white",
           "ticks": "",
           "title": {
            "standoff": 15
           },
           "zerolinecolor": "white",
           "zerolinewidth": 2
          }
         }
        },
        "xaxis": {
         "anchor": "y",
         "domain": [
          0,
          1
         ],
         "title": {
          "text": "month"
         }
        },
        "yaxis": {
         "anchor": "x",
         "domain": [
          0,
          1
         ],
         "title": {
          "text": "temp"
         }
        }
       }
      },
      "text/html": [
       "<div>                            <div id=\"aa41d505-7b33-4743-a962-229771374940\" class=\"plotly-graph-div\" style=\"height:525px; width:100%;\"></div>            <script type=\"text/javascript\">                require([\"plotly\"], function(Plotly) {                    window.PLOTLYENV=window.PLOTLYENV || {};                                    if (document.getElementById(\"aa41d505-7b33-4743-a962-229771374940\")) {                    Plotly.newPlot(                        \"aa41d505-7b33-4743-a962-229771374940\",                        [{\"hovertemplate\":\"month=%{x}<br>temp=%{marker.color}<extra></extra>\",\"legendgroup\":\"\",\"marker\":{\"color\":[8.2,18.0,14.6,8.3,11.4,22.2,24.1,8.0,13.1,22.8,17.8,19.3,17.0,21.3,26.4,22.9,15.1,16.7,15.9,9.3,18.3,19.1,21.0,19.5,23.7,16.3,19.0,19.4,30.2,22.8,25.4,11.2,20.6,17.7,21.2,18.2,21.7,11.3,17.8,14.1,23.3,18.4,16.6,19.6,12.9,25.9,14.7,23.0,11.8,11.0,20.8,21.5,20.4,20.4,17.6,27.7,17.8,13.8,13.9,12.3,11.5,5.5,18.8,20.8,23.1,18.6,23.0,19.6,19.6,17.2,15.8,17.7,15.6,17.3,27.6,6.7,15.7,8.3,14.7,21.6,19.5,17.9,18.6,16.6,20.2,21.5,25.4,22.4,25.3,17.4,14.7,17.4,20.8,18.2,23.4,17.8,12.7,17.4,11.6,19.8,19.8,14.4,20.1,24.1,5.3,12.7,18.2,21.4,20.3,17.4,13.7,18.8,22.8,18.9,15.8,15.5,11.6,15.2,10.6,19.6,10.3,17.1,22.5,17.9,19.8,20.6,9.0,17.2,15.9,15.4,15.4,14.0,10.6,17.6,14.9,17.6,17.2,15.6,18.0,21.7,21.9,23.3,21.2,16.6,23.8,27.4,13.2,24.2,17.4,23.7,23.2,24.8,24.6,20.1,29.6,16.4,28.6,18.4,20.5,19.0,16.1,20.3,15.2,17.8,17.8,5.3,16.6,23.4,14.6,20.7,21.9,17.4,20.1,17.7,14.2,20.3,5.8,19.2,18.3,14.4,23.9,19.1,12.4,16.8,20.8,17.6,11.5,21.0,13.3,11.5,11.7,24.2,24.6,24.3,24.6,23.5,5.8,21.5,13.9,22.6,21.6,12.4,8.8,20.2,15.1,22.1,22.9,20.7,19.6,23.2,18.4,5.1,20.1,11.0,17.0,17.0,16.9,12.4,19.4,15.2,16.2,18.6,11.0,13.4,15.4,22.9,16.1,20.1,28.3,16.4,26.4,27.8,18.7,24.3,17.7,19.6,18.2,18.8,25.1,13.4,15.2,16.7,15.4,21.9,22.4,26.8,25.7,20.7,28.7,21.7,26.8,24.0,22.1,21.4,18.9,22.3,23.9,21.4,20.6,23.7,28.3,11.2,21.4,19.3,21.8,22.1,19.4,23.7,21.0,19.1,21.8,20.1,20.2,4.8,5.1,5.1,4.6,4.6,4.6,4.6,2.2,5.1,4.2,8.8,7.5,23.4,12.6,22.1,24.2,24.3,18.7,25.3,22.9,26.9,17.1,22.2,14.3,15.4,19.6,10.6,20.7,19.1,19.2,19.2,11.3,19.0,17.1,23.8,16.0,24.9,25.3,24.8,12.2,24.3,19.7,18.5,18.6,19.2,21.6,21.6,18.9,16.8,16.8,12.9,13.7,24.2,24.1,21.2,19.7,23.5,24.2,21.5,17.1,18.1,18.0,9.8,19.3,23.0,22.7,20.4,19.3,15.7,20.6,15.9,12.2,16.8,21.3,10.1,17.4,12.8,10.1,15.4,20.6,19.8,18.7,20.8,20.8,15.9,19.7,21.1,18.4,17.3,15.2,15.9,21.1,19.6,15.9,16.4,16.8,13.8,13.8,14.2,10.4,20.3,10.3,15.4,21.1,21.9,8.7,5.2,19.3,16.2,28.2,20.5,21.3,20.9,20.6,11.6,23.3,23.3,7.5,20.7,21.9,15.2,5.3,10.1,20.4,24.3,25.9,28.0,28.0,22.8,25.0,21.3,21.8,27.9,17.0,14.2,19.9,23.4,14.7,8.2,22.8,26.4,24.1,27.5,26.3,13.8,24.9,24.8,26.2,30.8,29.3,22.3,26.9,20.4,20.4,27.9,26.2,24.6,19.4,23.3,23.9,20.9,22.2,23.8,26.8,14.2,23.6,19.1,16.2,25.5,10.9,14.8,16.2,17.3,19.1,8.9,10.5,19.3,23.4,11.8,17.7,17.4,16.8,17.9,16.6,19.9,18.9,15.5,18.9,18.9,14.5,4.6,5.1,4.6,10.2,11.2,13.3,13.7,17.6,18.0,14.3,24.5,26.4,22.7,27.2,26.1,18.2,22.6,30.2,30.2,23.4,31.0,33.1,30.6,24.1,26.4,19.4,20.6,28.7,32.4,32.4,27.5,30.8,23.9,32.6,32.3,33.3,27.3,21.6,21.6,20.7,29.2,28.9,26.7,18.5,25.9,25.9,21.1,18.2,27.8,27.8,21.9,21.2,25.6,11.8],\"coloraxis\":\"coloraxis\",\"symbol\":\"circle\"},\"mode\":\"markers\",\"name\":\"\",\"orientation\":\"v\",\"showlegend\":false,\"x\":[\"mar\",\"oct\",\"oct\",\"mar\",\"mar\",\"aug\",\"aug\",\"aug\",\"sep\",\"sep\",\"sep\",\"sep\",\"aug\",\"sep\",\"sep\",\"sep\",\"mar\",\"oct\",\"mar\",\"apr\",\"sep\",\"sep\",\"jun\",\"aug\",\"aug\",\"aug\",\"sep\",\"sep\",\"sep\",\"sep\",\"sep\",\"sep\",\"sep\",\"sep\",\"sep\",\"sep\",\"oct\",\"oct\",\"oct\",\"mar\",\"jul\",\"aug\",\"aug\",\"sep\",\"sep\",\"sep\",\"sep\",\"jul\",\"mar\",\"mar\",\"sep\",\"aug\",\"aug\",\"aug\",\"aug\",\"sep\",\"sep\",\"oct\",\"feb\",\"feb\",\"mar\",\"mar\",\"aug\",\"aug\",\"aug\",\"aug\",\"sep\",\"sep\",\"sep\",\"mar\",\"mar\",\"sep\",\"mar\",\"aug\",\"sep\",\"feb\",\"feb\",\"mar\",\"aug\",\"aug\",\"aug\",\"aug\",\"aug\",\"aug\",\"aug\",\"sep\",\"sep\",\"sep\",\"sep\",\"mar\",\"aug\",\"mar\",\"aug\",\"aug\",\"aug\",\"sep\",\"feb\",\"mar\",\"aug\",\"aug\",\"aug\",\"aug\",\"aug\",\"sep\",\"jan\",\"mar\",\"mar\",\"aug\",\"sep\",\"sep\",\"mar\",\"mar\",\"sep\",\"sep\",\"mar\",\"mar\",\"mar\",\"mar\",\"mar\",\"aug\",\"aug\",\"aug\",\"sep\",\"sep\",\"sep\",\"oct\",\"mar\",\"sep\",\"oct\",\"oct\",\"feb\",\"mar\",\"mar\",\"sep\",\"mar\",\"aug\",\"sep\",\"sep\",\"jul\",\"sep\",\"sep\",\"aug\",\"aug\",\"jul\",\"aug\",\"aug\",\"mar\",\"sep\",\"aug\",\"sep\",\"jun\",\"jul\",\"jul\",\"sep\",\"sep\",\"aug\",\"sep\",\"aug\",\"aug\",\"sep\",\"mar\",\"aug\",\"mar\",\"sep\",\"sep\",\"mar\",\"aug\",\"aug\",\"mar\",\"aug\",\"sep\",\"aug\",\"aug\",\"sep\",\"aug\",\"aug\",\"apr\",\"aug\",\"sep\",\"aug\",\"sep\",\"oct\",\"feb\",\"oct\",\"aug\",\"sep\",\"mar\",\"sep\",\"mar\",\"mar\",\"mar\",\"aug\",\"aug\",\"sep\",\"aug\",\"aug\",\"apr\",\"sep\",\"sep\",\"sep\",\"sep\",\"mar\",\"feb\",\"oct\",\"mar\",\"sep\",\"aug\",\"sep\",\"sep\",\"sep\",\"oct\",\"aug\",\"sep\",\"mar\",\"mar\",\"mar\",\"sep\",\"sep\",\"sep\",\"mar\",\"aug\",\"sep\",\"mar\",\"jul\",\"sep\",\"sep\",\"oct\",\"aug\",\"sep\",\"aug\",\"sep\",\"sep\",\"sep\",\"sep\",\"sep\",\"aug\",\"sep\",\"sep\",\"sep\",\"apr\",\"apr\",\"apr\",\"aug\",\"aug\",\"aug\",\"aug\",\"aug\",\"aug\",\"aug\",\"aug\",\"aug\",\"aug\",\"aug\",\"aug\",\"aug\",\"aug\",\"aug\",\"aug\",\"aug\",\"aug\",\"aug\",\"aug\",\"aug\",\"aug\",\"aug\",\"aug\",\"aug\",\"aug\",\"aug\",\"aug\",\"aug\",\"aug\",\"aug\",\"dec\",\"dec\",\"dec\",\"dec\",\"dec\",\"dec\",\"dec\",\"dec\",\"dec\",\"feb\",\"feb\",\"feb\",\"jul\",\"jul\",\"jul\",\"jul\",\"jul\",\"jul\",\"jul\",\"jul\",\"jul\",\"jul\",\"jun\",\"jun\",\"jun\",\"jun\",\"jun\",\"jun\",\"jun\",\"jun\",\"jun\",\"may\",\"sep\",\"sep\",\"sep\",\"sep\",\"sep\",\"sep\",\"sep\",\"sep\",\"sep\",\"sep\",\"sep\",\"sep\",\"sep\",\"sep\",\"sep\",\"sep\",\"sep\",\"sep\",\"sep\",\"sep\",\"sep\",\"sep\",\"sep\",\"sep\",\"sep\",\"sep\",\"sep\",\"sep\",\"sep\",\"sep\",\"sep\",\"sep\",\"sep\",\"sep\",\"sep\",\"sep\",\"sep\",\"sep\",\"sep\",\"sep\",\"sep\",\"sep\",\"sep\",\"sep\",\"sep\",\"sep\",\"sep\",\"sep\",\"sep\",\"sep\",\"sep\",\"sep\",\"sep\",\"sep\",\"sep\",\"sep\",\"sep\",\"sep\",\"sep\",\"sep\",\"sep\",\"sep\",\"sep\",\"sep\",\"sep\",\"sep\",\"jul\",\"aug\",\"aug\",\"sep\",\"sep\",\"aug\",\"aug\",\"mar\",\"jan\",\"jul\",\"aug\",\"aug\",\"aug\",\"aug\",\"aug\",\"sep\",\"mar\",\"aug\",\"aug\",\"feb\",\"sep\",\"sep\",\"mar\",\"feb\",\"feb\",\"sep\",\"aug\",\"aug\",\"jun\",\"jun\",\"sep\",\"aug\",\"aug\",\"sep\",\"aug\",\"sep\",\"feb\",\"sep\",\"jul\",\"feb\",\"feb\",\"jul\",\"aug\",\"aug\",\"aug\",\"jul\",\"mar\",\"aug\",\"aug\",\"aug\",\"aug\",\"jul\",\"sep\",\"aug\",\"aug\",\"aug\",\"aug\",\"aug\",\"aug\",\"sep\",\"aug\",\"aug\",\"aug\",\"aug\",\"jul\",\"aug\",\"aug\",\"aug\",\"sep\",\"sep\",\"aug\",\"apr\",\"jul\",\"sep\",\"aug\",\"aug\",\"mar\",\"sep\",\"aug\",\"aug\",\"aug\",\"aug\",\"aug\",\"aug\",\"jul\",\"aug\",\"aug\",\"aug\",\"aug\",\"aug\",\"aug\",\"sep\",\"feb\",\"feb\",\"feb\",\"mar\",\"mar\",\"mar\",\"apr\",\"apr\",\"may\",\"jun\",\"jun\",\"jun\",\"jun\",\"jul\",\"jul\",\"jul\",\"jul\",\"jul\",\"jul\",\"aug\",\"aug\",\"aug\",\"aug\",\"aug\",\"aug\",\"aug\",\"aug\",\"aug\",\"aug\",\"aug\",\"aug\",\"aug\",\"aug\",\"aug\",\"aug\",\"aug\",\"aug\",\"aug\",\"aug\",\"aug\",\"aug\",\"aug\",\"aug\",\"aug\",\"aug\",\"aug\",\"aug\",\"aug\",\"aug\",\"aug\",\"aug\",\"aug\",\"aug\",\"nov\"],\"xaxis\":\"x\",\"y\":[8.2,18.0,14.6,8.3,11.4,22.2,24.1,8.0,13.1,22.8,17.8,19.3,17.0,21.3,26.4,22.9,15.1,16.7,15.9,9.3,18.3,19.1,21.0,19.5,23.7,16.3,19.0,19.4,30.2,22.8,25.4,11.2,20.6,17.7,21.2,18.2,21.7,11.3,17.8,14.1,23.3,18.4,16.6,19.6,12.9,25.9,14.7,23.0,11.8,11.0,20.8,21.5,20.4,20.4,17.6,27.7,17.8,13.8,13.9,12.3,11.5,5.5,18.8,20.8,23.1,18.6,23.0,19.6,19.6,17.2,15.8,17.7,15.6,17.3,27.6,6.7,15.7,8.3,14.7,21.6,19.5,17.9,18.6,16.6,20.2,21.5,25.4,22.4,25.3,17.4,14.7,17.4,20.8,18.2,23.4,17.8,12.7,17.4,11.6,19.8,19.8,14.4,20.1,24.1,5.3,12.7,18.2,21.4,20.3,17.4,13.7,18.8,22.8,18.9,15.8,15.5,11.6,15.2,10.6,19.6,10.3,17.1,22.5,17.9,19.8,20.6,9.0,17.2,15.9,15.4,15.4,14.0,10.6,17.6,14.9,17.6,17.2,15.6,18.0,21.7,21.9,23.3,21.2,16.6,23.8,27.4,13.2,24.2,17.4,23.7,23.2,24.8,24.6,20.1,29.6,16.4,28.6,18.4,20.5,19.0,16.1,20.3,15.2,17.8,17.8,5.3,16.6,23.4,14.6,20.7,21.9,17.4,20.1,17.7,14.2,20.3,5.8,19.2,18.3,14.4,23.9,19.1,12.4,16.8,20.8,17.6,11.5,21.0,13.3,11.5,11.7,24.2,24.6,24.3,24.6,23.5,5.8,21.5,13.9,22.6,21.6,12.4,8.8,20.2,15.1,22.1,22.9,20.7,19.6,23.2,18.4,5.1,20.1,11.0,17.0,17.0,16.9,12.4,19.4,15.2,16.2,18.6,11.0,13.4,15.4,22.9,16.1,20.1,28.3,16.4,26.4,27.8,18.7,24.3,17.7,19.6,18.2,18.8,25.1,13.4,15.2,16.7,15.4,21.9,22.4,26.8,25.7,20.7,28.7,21.7,26.8,24.0,22.1,21.4,18.9,22.3,23.9,21.4,20.6,23.7,28.3,11.2,21.4,19.3,21.8,22.1,19.4,23.7,21.0,19.1,21.8,20.1,20.2,4.8,5.1,5.1,4.6,4.6,4.6,4.6,2.2,5.1,4.2,8.8,7.5,23.4,12.6,22.1,24.2,24.3,18.7,25.3,22.9,26.9,17.1,22.2,14.3,15.4,19.6,10.6,20.7,19.1,19.2,19.2,11.3,19.0,17.1,23.8,16.0,24.9,25.3,24.8,12.2,24.3,19.7,18.5,18.6,19.2,21.6,21.6,18.9,16.8,16.8,12.9,13.7,24.2,24.1,21.2,19.7,23.5,24.2,21.5,17.1,18.1,18.0,9.8,19.3,23.0,22.7,20.4,19.3,15.7,20.6,15.9,12.2,16.8,21.3,10.1,17.4,12.8,10.1,15.4,20.6,19.8,18.7,20.8,20.8,15.9,19.7,21.1,18.4,17.3,15.2,15.9,21.1,19.6,15.9,16.4,16.8,13.8,13.8,14.2,10.4,20.3,10.3,15.4,21.1,21.9,8.7,5.2,19.3,16.2,28.2,20.5,21.3,20.9,20.6,11.6,23.3,23.3,7.5,20.7,21.9,15.2,5.3,10.1,20.4,24.3,25.9,28.0,28.0,22.8,25.0,21.3,21.8,27.9,17.0,14.2,19.9,23.4,14.7,8.2,22.8,26.4,24.1,27.5,26.3,13.8,24.9,24.8,26.2,30.8,29.3,22.3,26.9,20.4,20.4,27.9,26.2,24.6,19.4,23.3,23.9,20.9,22.2,23.8,26.8,14.2,23.6,19.1,16.2,25.5,10.9,14.8,16.2,17.3,19.1,8.9,10.5,19.3,23.4,11.8,17.7,17.4,16.8,17.9,16.6,19.9,18.9,15.5,18.9,18.9,14.5,4.6,5.1,4.6,10.2,11.2,13.3,13.7,17.6,18.0,14.3,24.5,26.4,22.7,27.2,26.1,18.2,22.6,30.2,30.2,23.4,31.0,33.1,30.6,24.1,26.4,19.4,20.6,28.7,32.4,32.4,27.5,30.8,23.9,32.6,32.3,33.3,27.3,21.6,21.6,20.7,29.2,28.9,26.7,18.5,25.9,25.9,21.1,18.2,27.8,27.8,21.9,21.2,25.6,11.8],\"yaxis\":\"y\",\"type\":\"scatter\"}],                        {\"template\":{\"data\":{\"histogram2dcontour\":[{\"type\":\"histogram2dcontour\",\"colorbar\":{\"outlinewidth\":0,\"ticks\":\"\"},\"colorscale\":[[0.0,\"#0d0887\"],[0.1111111111111111,\"#46039f\"],[0.2222222222222222,\"#7201a8\"],[0.3333333333333333,\"#9c179e\"],[0.4444444444444444,\"#bd3786\"],[0.5555555555555556,\"#d8576b\"],[0.6666666666666666,\"#ed7953\"],[0.7777777777777778,\"#fb9f3a\"],[0.8888888888888888,\"#fdca26\"],[1.0,\"#f0f921\"]]}],\"choropleth\":[{\"type\":\"choropleth\",\"colorbar\":{\"outlinewidth\":0,\"ticks\":\"\"}}],\"histogram2d\":[{\"type\":\"histogram2d\",\"colorbar\":{\"outlinewidth\":0,\"ticks\":\"\"},\"colorscale\":[[0.0,\"#0d0887\"],[0.1111111111111111,\"#46039f\"],[0.2222222222222222,\"#7201a8\"],[0.3333333333333333,\"#9c179e\"],[0.4444444444444444,\"#bd3786\"],[0.5555555555555556,\"#d8576b\"],[0.6666666666666666,\"#ed7953\"],[0.7777777777777778,\"#fb9f3a\"],[0.8888888888888888,\"#fdca26\"],[1.0,\"#f0f921\"]]}],\"heatmap\":[{\"type\":\"heatmap\",\"colorbar\":{\"outlinewidth\":0,\"ticks\":\"\"},\"colorscale\":[[0.0,\"#0d0887\"],[0.1111111111111111,\"#46039f\"],[0.2222222222222222,\"#7201a8\"],[0.3333333333333333,\"#9c179e\"],[0.4444444444444444,\"#bd3786\"],[0.5555555555555556,\"#d8576b\"],[0.6666666666666666,\"#ed7953\"],[0.7777777777777778,\"#fb9f3a\"],[0.8888888888888888,\"#fdca26\"],[1.0,\"#f0f921\"]]}],\"heatmapgl\":[{\"type\":\"heatmapgl\",\"colorbar\":{\"outlinewidth\":0,\"ticks\":\"\"},\"colorscale\":[[0.0,\"#0d0887\"],[0.1111111111111111,\"#46039f\"],[0.2222222222222222,\"#7201a8\"],[0.3333333333333333,\"#9c179e\"],[0.4444444444444444,\"#bd3786\"],[0.5555555555555556,\"#d8576b\"],[0.6666666666666666,\"#ed7953\"],[0.7777777777777778,\"#fb9f3a\"],[0.8888888888888888,\"#fdca26\"],[1.0,\"#f0f921\"]]}],\"contourcarpet\":[{\"type\":\"contourcarpet\",\"colorbar\":{\"outlinewidth\":0,\"ticks\":\"\"}}],\"contour\":[{\"type\":\"contour\",\"colorbar\":{\"outlinewidth\":0,\"ticks\":\"\"},\"colorscale\":[[0.0,\"#0d0887\"],[0.1111111111111111,\"#46039f\"],[0.2222222222222222,\"#7201a8\"],[0.3333333333333333,\"#9c179e\"],[0.4444444444444444,\"#bd3786\"],[0.5555555555555556,\"#d8576b\"],[0.6666666666666666,\"#ed7953\"],[0.7777777777777778,\"#fb9f3a\"],[0.8888888888888888,\"#fdca26\"],[1.0,\"#f0f921\"]]}],\"surface\":[{\"type\":\"surface\",\"colorbar\":{\"outlinewidth\":0,\"ticks\":\"\"},\"colorscale\":[[0.0,\"#0d0887\"],[0.1111111111111111,\"#46039f\"],[0.2222222222222222,\"#7201a8\"],[0.3333333333333333,\"#9c179e\"],[0.4444444444444444,\"#bd3786\"],[0.5555555555555556,\"#d8576b\"],[0.6666666666666666,\"#ed7953\"],[0.7777777777777778,\"#fb9f3a\"],[0.8888888888888888,\"#fdca26\"],[1.0,\"#f0f921\"]]}],\"mesh3d\":[{\"type\":\"mesh3d\",\"colorbar\":{\"outlinewidth\":0,\"ticks\":\"\"}}],\"scatter\":[{\"fillpattern\":{\"fillmode\":\"overlay\",\"size\":10,\"solidity\":0.2},\"type\":\"scatter\"}],\"parcoords\":[{\"type\":\"parcoords\",\"line\":{\"colorbar\":{\"outlinewidth\":0,\"ticks\":\"\"}}}],\"scatterpolargl\":[{\"type\":\"scatterpolargl\",\"marker\":{\"colorbar\":{\"outlinewidth\":0,\"ticks\":\"\"}}}],\"bar\":[{\"error_x\":{\"color\":\"#2a3f5f\"},\"error_y\":{\"color\":\"#2a3f5f\"},\"marker\":{\"line\":{\"color\":\"#E5ECF6\",\"width\":0.5},\"pattern\":{\"fillmode\":\"overlay\",\"size\":10,\"solidity\":0.2}},\"type\":\"bar\"}],\"scattergeo\":[{\"type\":\"scattergeo\",\"marker\":{\"colorbar\":{\"outlinewidth\":0,\"ticks\":\"\"}}}],\"scatterpolar\":[{\"type\":\"scatterpolar\",\"marker\":{\"colorbar\":{\"outlinewidth\":0,\"ticks\":\"\"}}}],\"histogram\":[{\"marker\":{\"pattern\":{\"fillmode\":\"overlay\",\"size\":10,\"solidity\":0.2}},\"type\":\"histogram\"}],\"scattergl\":[{\"type\":\"scattergl\",\"marker\":{\"colorbar\":{\"outlinewidth\":0,\"ticks\":\"\"}}}],\"scatter3d\":[{\"type\":\"scatter3d\",\"line\":{\"colorbar\":{\"outlinewidth\":0,\"ticks\":\"\"}},\"marker\":{\"colorbar\":{\"outlinewidth\":0,\"ticks\":\"\"}}}],\"scattermapbox\":[{\"type\":\"scattermapbox\",\"marker\":{\"colorbar\":{\"outlinewidth\":0,\"ticks\":\"\"}}}],\"scatterternary\":[{\"type\":\"scatterternary\",\"marker\":{\"colorbar\":{\"outlinewidth\":0,\"ticks\":\"\"}}}],\"scattercarpet\":[{\"type\":\"scattercarpet\",\"marker\":{\"colorbar\":{\"outlinewidth\":0,\"ticks\":\"\"}}}],\"carpet\":[{\"aaxis\":{\"endlinecolor\":\"#2a3f5f\",\"gridcolor\":\"white\",\"linecolor\":\"white\",\"minorgridcolor\":\"white\",\"startlinecolor\":\"#2a3f5f\"},\"baxis\":{\"endlinecolor\":\"#2a3f5f\",\"gridcolor\":\"white\",\"linecolor\":\"white\",\"minorgridcolor\":\"white\",\"startlinecolor\":\"#2a3f5f\"},\"type\":\"carpet\"}],\"table\":[{\"cells\":{\"fill\":{\"color\":\"#EBF0F8\"},\"line\":{\"color\":\"white\"}},\"header\":{\"fill\":{\"color\":\"#C8D4E3\"},\"line\":{\"color\":\"white\"}},\"type\":\"table\"}],\"barpolar\":[{\"marker\":{\"line\":{\"color\":\"#E5ECF6\",\"width\":0.5},\"pattern\":{\"fillmode\":\"overlay\",\"size\":10,\"solidity\":0.2}},\"type\":\"barpolar\"}],\"pie\":[{\"automargin\":true,\"type\":\"pie\"}]},\"layout\":{\"autotypenumbers\":\"strict\",\"colorway\":[\"#636efa\",\"#EF553B\",\"#00cc96\",\"#ab63fa\",\"#FFA15A\",\"#19d3f3\",\"#FF6692\",\"#B6E880\",\"#FF97FF\",\"#FECB52\"],\"font\":{\"color\":\"#2a3f5f\"},\"hovermode\":\"closest\",\"hoverlabel\":{\"align\":\"left\"},\"paper_bgcolor\":\"white\",\"plot_bgcolor\":\"#E5ECF6\",\"polar\":{\"bgcolor\":\"#E5ECF6\",\"angularaxis\":{\"gridcolor\":\"white\",\"linecolor\":\"white\",\"ticks\":\"\"},\"radialaxis\":{\"gridcolor\":\"white\",\"linecolor\":\"white\",\"ticks\":\"\"}},\"ternary\":{\"bgcolor\":\"#E5ECF6\",\"aaxis\":{\"gridcolor\":\"white\",\"linecolor\":\"white\",\"ticks\":\"\"},\"baxis\":{\"gridcolor\":\"white\",\"linecolor\":\"white\",\"ticks\":\"\"},\"caxis\":{\"gridcolor\":\"white\",\"linecolor\":\"white\",\"ticks\":\"\"}},\"coloraxis\":{\"colorbar\":{\"outlinewidth\":0,\"ticks\":\"\"}},\"colorscale\":{\"sequential\":[[0.0,\"#0d0887\"],[0.1111111111111111,\"#46039f\"],[0.2222222222222222,\"#7201a8\"],[0.3333333333333333,\"#9c179e\"],[0.4444444444444444,\"#bd3786\"],[0.5555555555555556,\"#d8576b\"],[0.6666666666666666,\"#ed7953\"],[0.7777777777777778,\"#fb9f3a\"],[0.8888888888888888,\"#fdca26\"],[1.0,\"#f0f921\"]],\"sequentialminus\":[[0.0,\"#0d0887\"],[0.1111111111111111,\"#46039f\"],[0.2222222222222222,\"#7201a8\"],[0.3333333333333333,\"#9c179e\"],[0.4444444444444444,\"#bd3786\"],[0.5555555555555556,\"#d8576b\"],[0.6666666666666666,\"#ed7953\"],[0.7777777777777778,\"#fb9f3a\"],[0.8888888888888888,\"#fdca26\"],[1.0,\"#f0f921\"]],\"diverging\":[[0,\"#8e0152\"],[0.1,\"#c51b7d\"],[0.2,\"#de77ae\"],[0.3,\"#f1b6da\"],[0.4,\"#fde0ef\"],[0.5,\"#f7f7f7\"],[0.6,\"#e6f5d0\"],[0.7,\"#b8e186\"],[0.8,\"#7fbc41\"],[0.9,\"#4d9221\"],[1,\"#276419\"]]},\"xaxis\":{\"gridcolor\":\"white\",\"linecolor\":\"white\",\"ticks\":\"\",\"title\":{\"standoff\":15},\"zerolinecolor\":\"white\",\"automargin\":true,\"zerolinewidth\":2},\"yaxis\":{\"gridcolor\":\"white\",\"linecolor\":\"white\",\"ticks\":\"\",\"title\":{\"standoff\":15},\"zerolinecolor\":\"white\",\"automargin\":true,\"zerolinewidth\":2},\"scene\":{\"xaxis\":{\"backgroundcolor\":\"#E5ECF6\",\"gridcolor\":\"white\",\"linecolor\":\"white\",\"showbackground\":true,\"ticks\":\"\",\"zerolinecolor\":\"white\",\"gridwidth\":2},\"yaxis\":{\"backgroundcolor\":\"#E5ECF6\",\"gridcolor\":\"white\",\"linecolor\":\"white\",\"showbackground\":true,\"ticks\":\"\",\"zerolinecolor\":\"white\",\"gridwidth\":2},\"zaxis\":{\"backgroundcolor\":\"#E5ECF6\",\"gridcolor\":\"white\",\"linecolor\":\"white\",\"showbackground\":true,\"ticks\":\"\",\"zerolinecolor\":\"white\",\"gridwidth\":2}},\"shapedefaults\":{\"line\":{\"color\":\"#2a3f5f\"}},\"annotationdefaults\":{\"arrowcolor\":\"#2a3f5f\",\"arrowhead\":0,\"arrowwidth\":1},\"geo\":{\"bgcolor\":\"white\",\"landcolor\":\"#E5ECF6\",\"subunitcolor\":\"white\",\"showland\":true,\"showlakes\":true,\"lakecolor\":\"white\"},\"title\":{\"x\":0.05},\"mapbox\":{\"style\":\"light\"}}},\"xaxis\":{\"anchor\":\"y\",\"domain\":[0.0,1.0],\"title\":{\"text\":\"month\"}},\"yaxis\":{\"anchor\":\"x\",\"domain\":[0.0,1.0],\"title\":{\"text\":\"temp\"}},\"coloraxis\":{\"colorbar\":{\"title\":{\"text\":\"temp\"}},\"colorscale\":[[0.0,\"#0d0887\"],[0.1111111111111111,\"#46039f\"],[0.2222222222222222,\"#7201a8\"],[0.3333333333333333,\"#9c179e\"],[0.4444444444444444,\"#bd3786\"],[0.5555555555555556,\"#d8576b\"],[0.6666666666666666,\"#ed7953\"],[0.7777777777777778,\"#fb9f3a\"],[0.8888888888888888,\"#fdca26\"],[1.0,\"#f0f921\"]]},\"legend\":{\"tracegroupgap\":0},\"margin\":{\"t\":60}},                        {\"responsive\": true}                    ).then(function(){\n",
       "                            \n",
       "var gd = document.getElementById('aa41d505-7b33-4743-a962-229771374940');\n",
       "var x = new MutationObserver(function (mutations, observer) {{\n",
       "        var display = window.getComputedStyle(gd).display;\n",
       "        if (!display || display === 'none') {{\n",
       "            console.log([gd, 'removed!']);\n",
       "            Plotly.purge(gd);\n",
       "            observer.disconnect();\n",
       "        }}\n",
       "}});\n",
       "\n",
       "// Listen for the removal of the full notebook cells\n",
       "var notebookContainer = gd.closest('#notebook-container');\n",
       "if (notebookContainer) {{\n",
       "    x.observe(notebookContainer, {childList: true});\n",
       "}}\n",
       "\n",
       "// Listen for the clearing of the current output cell\n",
       "var outputEl = gd.closest('.output');\n",
       "if (outputEl) {{\n",
       "    x.observe(outputEl, {childList: true});\n",
       "}}\n",
       "\n",
       "                        })                };                });            </script>        </div>"
      ]
     },
     "metadata": {},
     "output_type": "display_data"
    }
   ],
   "source": [
    "fig = px.scatter(df, x=\"month\", y=\"temp\", color=\"temp\")\n",
    "fig.show()"
   ]
  },
  {
   "cell_type": "code",
   "execution_count": 78,
   "id": "5a8c761d",
   "metadata": {},
   "outputs": [
    {
     "data": {
      "application/vnd.plotly.v1+json": {
       "config": {
        "plotlyServerURL": "https://plot.ly"
       },
       "data": [
        {
         "fillpattern": {
          "shape": ""
         },
         "hovertemplate": "day=%{y}<br>temp=8.2<br>rain=%{x}<extra></extra>",
         "legendgroup": "fri",
         "line": {
          "color": "#636efa"
         },
         "marker": {
          "symbol": "circle"
         },
         "mode": "lines",
         "name": "fri",
         "orientation": "h",
         "showlegend": true,
         "stackgroup": "1",
         "type": "scatter",
         "x": [
          0,
          0
         ],
         "xaxis": "x",
         "y": [
          "fri",
          "fri"
         ],
         "yaxis": "y"
        },
        {
         "fillpattern": {
          "shape": ""
         },
         "hovertemplate": "day=%{y}<br>temp=18.0<br>rain=%{x}<extra></extra>",
         "legendgroup": "fri",
         "line": {
          "color": "#636efa"
         },
         "marker": {
          "symbol": "circle"
         },
         "mode": "lines",
         "name": "fri",
         "orientation": "h",
         "showlegend": false,
         "stackgroup": "1",
         "type": "scatter",
         "x": [
          0
         ],
         "xaxis": "x",
         "y": [
          "fri"
         ],
         "yaxis": "y"
        },
        {
         "fillpattern": {
          "shape": ""
         },
         "hovertemplate": "day=%{y}<br>temp=14.6<br>rain=%{x}<extra></extra>",
         "legendgroup": "fri",
         "line": {
          "color": "#636efa"
         },
         "marker": {
          "symbol": "circle"
         },
         "mode": "lines",
         "name": "fri",
         "orientation": "h",
         "showlegend": false,
         "stackgroup": "1",
         "type": "scatter",
         "x": [
          0
         ],
         "xaxis": "x",
         "y": [
          "fri"
         ],
         "yaxis": "y"
        },
        {
         "fillpattern": {
          "shape": ""
         },
         "hovertemplate": "day=%{y}<br>temp=8.3<br>rain=%{x}<extra></extra>",
         "legendgroup": "fri",
         "line": {
          "color": "#636efa"
         },
         "marker": {
          "symbol": "circle"
         },
         "mode": "lines",
         "name": "fri",
         "orientation": "h",
         "showlegend": false,
         "stackgroup": "1",
         "type": "scatter",
         "x": [
          0.2
         ],
         "xaxis": "x",
         "y": [
          "fri"
         ],
         "yaxis": "y"
        },
        {
         "fillpattern": {
          "shape": ""
         },
         "hovertemplate": "day=%{y}<br>temp=22.2<br>rain=%{x}<extra></extra>",
         "legendgroup": "fri",
         "line": {
          "color": "#636efa"
         },
         "marker": {
          "symbol": "circle"
         },
         "mode": "lines",
         "name": "fri",
         "orientation": "h",
         "showlegend": false,
         "stackgroup": "1",
         "type": "scatter",
         "x": [
          0
         ],
         "xaxis": "x",
         "y": [
          "fri"
         ],
         "yaxis": "y"
        },
        {
         "fillpattern": {
          "shape": ""
         },
         "hovertemplate": "day=%{y}<br>temp=19.3<br>rain=%{x}<extra></extra>",
         "legendgroup": "fri",
         "line": {
          "color": "#636efa"
         },
         "marker": {
          "symbol": "circle"
         },
         "mode": "lines",
         "name": "fri",
         "orientation": "h",
         "showlegend": false,
         "stackgroup": "1",
         "type": "scatter",
         "x": [
          0
         ],
         "xaxis": "x",
         "y": [
          "fri"
         ],
         "yaxis": "y"
        },
        {
         "fillpattern": {
          "shape": ""
         },
         "hovertemplate": "day=%{y}<br>temp=17.0<br>rain=%{x}<extra></extra>",
         "legendgroup": "fri",
         "line": {
          "color": "#636efa"
         },
         "marker": {
          "symbol": "circle"
         },
         "mode": "lines",
         "name": "fri",
         "orientation": "h",
         "showlegend": false,
         "stackgroup": "1",
         "type": "scatter",
         "x": [
          0
         ],
         "xaxis": "x",
         "y": [
          "fri"
         ],
         "yaxis": "y"
        },
        {
         "fillpattern": {
          "shape": ""
         },
         "hovertemplate": "day=%{y}<br>temp=22.9<br>rain=%{x}<extra></extra>",
         "legendgroup": "fri",
         "line": {
          "color": "#636efa"
         },
         "marker": {
          "symbol": "circle"
         },
         "mode": "lines",
         "name": "fri",
         "orientation": "h",
         "showlegend": false,
         "stackgroup": "1",
         "type": "scatter",
         "x": [
          0,
          0
         ],
         "xaxis": "x",
         "y": [
          "fri",
          "fri"
         ],
         "yaxis": "y"
        },
        {
         "fillpattern": {
          "shape": ""
         },
         "hovertemplate": "day=%{y}<br>temp=16.7<br>rain=%{x}<extra></extra>",
         "legendgroup": "fri",
         "line": {
          "color": "#636efa"
         },
         "marker": {
          "symbol": "circle"
         },
         "mode": "lines",
         "name": "fri",
         "orientation": "h",
         "showlegend": false,
         "stackgroup": "1",
         "type": "scatter",
         "x": [
          0
         ],
         "xaxis": "x",
         "y": [
          "fri"
         ],
         "yaxis": "y"
        },
        {
         "fillpattern": {
          "shape": ""
         },
         "hovertemplate": "day=%{y}<br>temp=15.9<br>rain=%{x}<extra></extra>",
         "legendgroup": "fri",
         "line": {
          "color": "#636efa"
         },
         "marker": {
          "symbol": "circle"
         },
         "mode": "lines",
         "name": "fri",
         "orientation": "h",
         "showlegend": false,
         "stackgroup": "1",
         "type": "scatter",
         "x": [
          0
         ],
         "xaxis": "x",
         "y": [
          "fri"
         ],
         "yaxis": "y"
        },
        {
         "fillpattern": {
          "shape": ""
         },
         "hovertemplate": "day=%{y}<br>temp=19.1<br>rain=%{x}<extra></extra>",
         "legendgroup": "fri",
         "line": {
          "color": "#636efa"
         },
         "marker": {
          "symbol": "circle"
         },
         "mode": "lines",
         "name": "fri",
         "orientation": "h",
         "showlegend": false,
         "stackgroup": "1",
         "type": "scatter",
         "x": [
          0
         ],
         "xaxis": "x",
         "y": [
          "fri"
         ],
         "yaxis": "y"
        },
        {
         "fillpattern": {
          "shape": ""
         },
         "hovertemplate": "day=%{y}<br>temp=19.0<br>rain=%{x}<extra></extra>",
         "legendgroup": "fri",
         "line": {
          "color": "#636efa"
         },
         "marker": {
          "symbol": "circle"
         },
         "mode": "lines",
         "name": "fri",
         "orientation": "h",
         "showlegend": false,
         "stackgroup": "1",
         "type": "scatter",
         "x": [
          0,
          0
         ],
         "xaxis": "x",
         "y": [
          "fri",
          "fri"
         ],
         "yaxis": "y"
        },
        {
         "fillpattern": {
          "shape": ""
         },
         "hovertemplate": "day=%{y}<br>temp=25.4<br>rain=%{x}<extra></extra>",
         "legendgroup": "fri",
         "line": {
          "color": "#636efa"
         },
         "marker": {
          "symbol": "circle"
         },
         "mode": "lines",
         "name": "fri",
         "orientation": "h",
         "showlegend": false,
         "stackgroup": "1",
         "type": "scatter",
         "x": [
          0
         ],
         "xaxis": "x",
         "y": [
          "fri"
         ],
         "yaxis": "y"
        },
        {
         "fillpattern": {
          "shape": ""
         },
         "hovertemplate": "day=%{y}<br>temp=11.2<br>rain=%{x}<extra></extra>",
         "legendgroup": "fri",
         "line": {
          "color": "#636efa"
         },
         "marker": {
          "symbol": "circle"
         },
         "mode": "lines",
         "name": "fri",
         "orientation": "h",
         "showlegend": false,
         "stackgroup": "1",
         "type": "scatter",
         "x": [
          0
         ],
         "xaxis": "x",
         "y": [
          "fri"
         ],
         "yaxis": "y"
        },
        {
         "fillpattern": {
          "shape": ""
         },
         "hovertemplate": "day=%{y}<br>temp=20.6<br>rain=%{x}<extra></extra>",
         "legendgroup": "fri",
         "line": {
          "color": "#636efa"
         },
         "marker": {
          "symbol": "circle"
         },
         "mode": "lines",
         "name": "fri",
         "orientation": "h",
         "showlegend": false,
         "stackgroup": "1",
         "type": "scatter",
         "x": [
          0,
          0
         ],
         "xaxis": "x",
         "y": [
          "fri",
          "fri"
         ],
         "yaxis": "y"
        },
        {
         "fillpattern": {
          "shape": ""
         },
         "hovertemplate": "day=%{y}<br>temp=17.7<br>rain=%{x}<extra></extra>",
         "legendgroup": "fri",
         "line": {
          "color": "#636efa"
         },
         "marker": {
          "symbol": "circle"
         },
         "mode": "lines",
         "name": "fri",
         "orientation": "h",
         "showlegend": false,
         "stackgroup": "1",
         "type": "scatter",
         "x": [
          0
         ],
         "xaxis": "x",
         "y": [
          "fri"
         ],
         "yaxis": "y"
        },
        {
         "fillpattern": {
          "shape": ""
         },
         "hovertemplate": "day=%{y}<br>temp=21.2<br>rain=%{x}<extra></extra>",
         "legendgroup": "fri",
         "line": {
          "color": "#636efa"
         },
         "marker": {
          "symbol": "circle"
         },
         "mode": "lines",
         "name": "fri",
         "orientation": "h",
         "showlegend": false,
         "stackgroup": "1",
         "type": "scatter",
         "x": [
          0
         ],
         "xaxis": "x",
         "y": [
          "fri"
         ],
         "yaxis": "y"
        },
        {
         "fillpattern": {
          "shape": ""
         },
         "hovertemplate": "day=%{y}<br>temp=18.2<br>rain=%{x}<extra></extra>",
         "legendgroup": "fri",
         "line": {
          "color": "#636efa"
         },
         "marker": {
          "symbol": "circle"
         },
         "mode": "lines",
         "name": "fri",
         "orientation": "h",
         "showlegend": false,
         "stackgroup": "1",
         "type": "scatter",
         "x": [
          0
         ],
         "xaxis": "x",
         "y": [
          "fri"
         ],
         "yaxis": "y"
        },
        {
         "fillpattern": {
          "shape": ""
         },
         "hovertemplate": "day=%{y}<br>temp=11.3<br>rain=%{x}<extra></extra>",
         "legendgroup": "fri",
         "line": {
          "color": "#636efa"
         },
         "marker": {
          "symbol": "circle"
         },
         "mode": "lines",
         "name": "fri",
         "orientation": "h",
         "showlegend": false,
         "stackgroup": "1",
         "type": "scatter",
         "x": [
          0
         ],
         "xaxis": "x",
         "y": [
          "fri"
         ],
         "yaxis": "y"
        },
        {
         "fillpattern": {
          "shape": ""
         },
         "hovertemplate": "day=%{y}<br>temp=23.3<br>rain=%{x}<extra></extra>",
         "legendgroup": "fri",
         "line": {
          "color": "#636efa"
         },
         "marker": {
          "symbol": "circle"
         },
         "mode": "lines",
         "name": "fri",
         "orientation": "h",
         "showlegend": false,
         "stackgroup": "1",
         "type": "scatter",
         "x": [
          0,
          0
         ],
         "xaxis": "x",
         "y": [
          "fri",
          "fri"
         ],
         "yaxis": "y"
        },
        {
         "fillpattern": {
          "shape": ""
         },
         "hovertemplate": "day=%{y}<br>temp=18.4<br>rain=%{x}<extra></extra>",
         "legendgroup": "fri",
         "line": {
          "color": "#636efa"
         },
         "marker": {
          "symbol": "circle"
         },
         "mode": "lines",
         "name": "fri",
         "orientation": "h",
         "showlegend": false,
         "stackgroup": "1",
         "type": "scatter",
         "x": [
          0
         ],
         "xaxis": "x",
         "y": [
          "fri"
         ],
         "yaxis": "y"
        },
        {
         "fillpattern": {
          "shape": ""
         },
         "hovertemplate": "day=%{y}<br>temp=19.6<br>rain=%{x}<extra></extra>",
         "legendgroup": "fri",
         "line": {
          "color": "#636efa"
         },
         "marker": {
          "symbol": "circle"
         },
         "mode": "lines",
         "name": "fri",
         "orientation": "h",
         "showlegend": false,
         "stackgroup": "1",
         "type": "scatter",
         "x": [
          0,
          0,
          0
         ],
         "xaxis": "x",
         "y": [
          "fri",
          "fri",
          "fri"
         ],
         "yaxis": "y"
        },
        {
         "fillpattern": {
          "shape": ""
         },
         "hovertemplate": "day=%{y}<br>temp=25.9<br>rain=%{x}<extra></extra>",
         "legendgroup": "fri",
         "line": {
          "color": "#636efa"
         },
         "marker": {
          "symbol": "circle"
         },
         "mode": "lines",
         "name": "fri",
         "orientation": "h",
         "showlegend": false,
         "stackgroup": "1",
         "type": "scatter",
         "x": [
          0,
          0
         ],
         "xaxis": "x",
         "y": [
          "fri",
          "fri"
         ],
         "yaxis": "y"
        },
        {
         "fillpattern": {
          "shape": ""
         },
         "hovertemplate": "day=%{y}<br>temp=14.7<br>rain=%{x}<extra></extra>",
         "legendgroup": "fri",
         "line": {
          "color": "#636efa"
         },
         "marker": {
          "symbol": "circle"
         },
         "mode": "lines",
         "name": "fri",
         "orientation": "h",
         "showlegend": false,
         "stackgroup": "1",
         "type": "scatter",
         "x": [
          0,
          0
         ],
         "xaxis": "x",
         "y": [
          "fri",
          "fri"
         ],
         "yaxis": "y"
        },
        {
         "fillpattern": {
          "shape": ""
         },
         "hovertemplate": "day=%{y}<br>temp=23.0<br>rain=%{x}<extra></extra>",
         "legendgroup": "fri",
         "line": {
          "color": "#636efa"
         },
         "marker": {
          "symbol": "circle"
         },
         "mode": "lines",
         "name": "fri",
         "orientation": "h",
         "showlegend": false,
         "stackgroup": "1",
         "type": "scatter",
         "x": [
          0
         ],
         "xaxis": "x",
         "y": [
          "fri"
         ],
         "yaxis": "y"
        },
        {
         "fillpattern": {
          "shape": ""
         },
         "hovertemplate": "day=%{y}<br>temp=11.8<br>rain=%{x}<extra></extra>",
         "legendgroup": "fri",
         "line": {
          "color": "#636efa"
         },
         "marker": {
          "symbol": "circle"
         },
         "mode": "lines",
         "name": "fri",
         "orientation": "h",
         "showlegend": false,
         "stackgroup": "1",
         "type": "scatter",
         "x": [
          0
         ],
         "xaxis": "x",
         "y": [
          "fri"
         ],
         "yaxis": "y"
        },
        {
         "fillpattern": {
          "shape": ""
         },
         "hovertemplate": "day=%{y}<br>temp=20.8<br>rain=%{x}<extra></extra>",
         "legendgroup": "fri",
         "line": {
          "color": "#636efa"
         },
         "marker": {
          "symbol": "circle"
         },
         "mode": "lines",
         "name": "fri",
         "orientation": "h",
         "showlegend": false,
         "stackgroup": "1",
         "type": "scatter",
         "x": [
          0,
          0,
          0
         ],
         "xaxis": "x",
         "y": [
          "fri",
          "fri",
          "fri"
         ],
         "yaxis": "y"
        },
        {
         "fillpattern": {
          "shape": ""
         },
         "hovertemplate": "day=%{y}<br>temp=12.3<br>rain=%{x}<extra></extra>",
         "legendgroup": "fri",
         "line": {
          "color": "#636efa"
         },
         "marker": {
          "symbol": "circle"
         },
         "mode": "lines",
         "name": "fri",
         "orientation": "h",
         "showlegend": false,
         "stackgroup": "1",
         "type": "scatter",
         "x": [
          0
         ],
         "xaxis": "x",
         "y": [
          "fri"
         ],
         "yaxis": "y"
        },
        {
         "fillpattern": {
          "shape": ""
         },
         "hovertemplate": "day=%{y}<br>temp=18.8<br>rain=%{x}<extra></extra>",
         "legendgroup": "fri",
         "line": {
          "color": "#636efa"
         },
         "marker": {
          "symbol": "circle"
         },
         "mode": "lines",
         "name": "fri",
         "orientation": "h",
         "showlegend": false,
         "stackgroup": "1",
         "type": "scatter",
         "x": [
          0
         ],
         "xaxis": "x",
         "y": [
          "fri"
         ],
         "yaxis": "y"
        },
        {
         "fillpattern": {
          "shape": ""
         },
         "hovertemplate": "day=%{y}<br>temp=18.6<br>rain=%{x}<extra></extra>",
         "legendgroup": "fri",
         "line": {
          "color": "#636efa"
         },
         "marker": {
          "symbol": "circle"
         },
         "mode": "lines",
         "name": "fri",
         "orientation": "h",
         "showlegend": false,
         "stackgroup": "1",
         "type": "scatter",
         "x": [
          0
         ],
         "xaxis": "x",
         "y": [
          "fri"
         ],
         "yaxis": "y"
        },
        {
         "fillpattern": {
          "shape": ""
         },
         "hovertemplate": "day=%{y}<br>temp=17.2<br>rain=%{x}<extra></extra>",
         "legendgroup": "fri",
         "line": {
          "color": "#636efa"
         },
         "marker": {
          "symbol": "circle"
         },
         "mode": "lines",
         "name": "fri",
         "orientation": "h",
         "showlegend": false,
         "stackgroup": "1",
         "type": "scatter",
         "x": [
          0,
          0
         ],
         "xaxis": "x",
         "y": [
          "fri",
          "fri"
         ],
         "yaxis": "y"
        },
        {
         "fillpattern": {
          "shape": ""
         },
         "hovertemplate": "day=%{y}<br>temp=15.8<br>rain=%{x}<extra></extra>",
         "legendgroup": "fri",
         "line": {
          "color": "#636efa"
         },
         "marker": {
          "symbol": "circle"
         },
         "mode": "lines",
         "name": "fri",
         "orientation": "h",
         "showlegend": false,
         "stackgroup": "1",
         "type": "scatter",
         "x": [
          0
         ],
         "xaxis": "x",
         "y": [
          "fri"
         ],
         "yaxis": "y"
        },
        {
         "fillpattern": {
          "shape": ""
         },
         "hovertemplate": "day=%{y}<br>temp=15.6<br>rain=%{x}<extra></extra>",
         "legendgroup": "fri",
         "line": {
          "color": "#636efa"
         },
         "marker": {
          "symbol": "circle"
         },
         "mode": "lines",
         "name": "fri",
         "orientation": "h",
         "showlegend": false,
         "stackgroup": "1",
         "type": "scatter",
         "x": [
          0
         ],
         "xaxis": "x",
         "y": [
          "fri"
         ],
         "yaxis": "y"
        },
        {
         "fillpattern": {
          "shape": ""
         },
         "hovertemplate": "day=%{y}<br>temp=17.3<br>rain=%{x}<extra></extra>",
         "legendgroup": "fri",
         "line": {
          "color": "#636efa"
         },
         "marker": {
          "symbol": "circle"
         },
         "mode": "lines",
         "name": "fri",
         "orientation": "h",
         "showlegend": false,
         "stackgroup": "1",
         "type": "scatter",
         "x": [
          0
         ],
         "xaxis": "x",
         "y": [
          "fri"
         ],
         "yaxis": "y"
        },
        {
         "fillpattern": {
          "shape": ""
         },
         "hovertemplate": "day=%{y}<br>temp=27.6<br>rain=%{x}<extra></extra>",
         "legendgroup": "fri",
         "line": {
          "color": "#636efa"
         },
         "marker": {
          "symbol": "circle"
         },
         "mode": "lines",
         "name": "fri",
         "orientation": "h",
         "showlegend": false,
         "stackgroup": "1",
         "type": "scatter",
         "x": [
          0
         ],
         "xaxis": "x",
         "y": [
          "fri"
         ],
         "yaxis": "y"
        },
        {
         "fillpattern": {
          "shape": ""
         },
         "hovertemplate": "day=%{y}<br>temp=15.7<br>rain=%{x}<extra></extra>",
         "legendgroup": "fri",
         "line": {
          "color": "#636efa"
         },
         "marker": {
          "symbol": "circle"
         },
         "mode": "lines",
         "name": "fri",
         "orientation": "h",
         "showlegend": false,
         "stackgroup": "1",
         "type": "scatter",
         "x": [
          0
         ],
         "xaxis": "x",
         "y": [
          "fri"
         ],
         "yaxis": "y"
        },
        {
         "fillpattern": {
          "shape": ""
         },
         "hovertemplate": "day=%{y}<br>temp=17.4<br>rain=%{x}<extra></extra>",
         "legendgroup": "fri",
         "line": {
          "color": "#636efa"
         },
         "marker": {
          "symbol": "circle"
         },
         "mode": "lines",
         "name": "fri",
         "orientation": "h",
         "showlegend": false,
         "stackgroup": "1",
         "type": "scatter",
         "x": [
          0,
          0
         ],
         "xaxis": "x",
         "y": [
          "fri",
          "fri"
         ],
         "yaxis": "y"
        },
        {
         "fillpattern": {
          "shape": ""
         },
         "hovertemplate": "day=%{y}<br>temp=12.7<br>rain=%{x}<extra></extra>",
         "legendgroup": "fri",
         "line": {
          "color": "#636efa"
         },
         "marker": {
          "symbol": "circle"
         },
         "mode": "lines",
         "name": "fri",
         "orientation": "h",
         "showlegend": false,
         "stackgroup": "1",
         "type": "scatter",
         "x": [
          0
         ],
         "xaxis": "x",
         "y": [
          "fri"
         ],
         "yaxis": "y"
        },
        {
         "fillpattern": {
          "shape": ""
         },
         "hovertemplate": "day=%{y}<br>temp=19.8<br>rain=%{x}<extra></extra>",
         "legendgroup": "fri",
         "line": {
          "color": "#636efa"
         },
         "marker": {
          "symbol": "circle"
         },
         "mode": "lines",
         "name": "fri",
         "orientation": "h",
         "showlegend": false,
         "stackgroup": "1",
         "type": "scatter",
         "x": [
          0,
          0
         ],
         "xaxis": "x",
         "y": [
          "fri",
          "fri"
         ],
         "yaxis": "y"
        },
        {
         "fillpattern": {
          "shape": ""
         },
         "hovertemplate": "day=%{y}<br>temp=20.1<br>rain=%{x}<extra></extra>",
         "legendgroup": "fri",
         "line": {
          "color": "#636efa"
         },
         "marker": {
          "symbol": "circle"
         },
         "mode": "lines",
         "name": "fri",
         "orientation": "h",
         "showlegend": false,
         "stackgroup": "1",
         "type": "scatter",
         "x": [
          0,
          0
         ],
         "xaxis": "x",
         "y": [
          "fri",
          "fri"
         ],
         "yaxis": "y"
        },
        {
         "fillpattern": {
          "shape": ""
         },
         "hovertemplate": "day=%{y}<br>temp=21.4<br>rain=%{x}<extra></extra>",
         "legendgroup": "fri",
         "line": {
          "color": "#636efa"
         },
         "marker": {
          "symbol": "circle"
         },
         "mode": "lines",
         "name": "fri",
         "orientation": "h",
         "showlegend": false,
         "stackgroup": "1",
         "type": "scatter",
         "x": [
          0
         ],
         "xaxis": "x",
         "y": [
          "fri"
         ],
         "yaxis": "y"
        },
        {
         "fillpattern": {
          "shape": ""
         },
         "hovertemplate": "day=%{y}<br>temp=13.7<br>rain=%{x}<extra></extra>",
         "legendgroup": "fri",
         "line": {
          "color": "#636efa"
         },
         "marker": {
          "symbol": "circle"
         },
         "mode": "lines",
         "name": "fri",
         "orientation": "h",
         "showlegend": false,
         "stackgroup": "1",
         "type": "scatter",
         "x": [
          0
         ],
         "xaxis": "x",
         "y": [
          "fri"
         ],
         "yaxis": "y"
        },
        {
         "fillpattern": {
          "shape": ""
         },
         "hovertemplate": "day=%{y}<br>temp=15.2<br>rain=%{x}<extra></extra>",
         "legendgroup": "fri",
         "line": {
          "color": "#636efa"
         },
         "marker": {
          "symbol": "circle"
         },
         "mode": "lines",
         "name": "fri",
         "orientation": "h",
         "showlegend": false,
         "stackgroup": "1",
         "type": "scatter",
         "x": [
          0
         ],
         "xaxis": "x",
         "y": [
          "fri"
         ],
         "yaxis": "y"
        },
        {
         "fillpattern": {
          "shape": ""
         },
         "hovertemplate": "day=%{y}<br>temp=10.3<br>rain=%{x}<extra></extra>",
         "legendgroup": "fri",
         "line": {
          "color": "#636efa"
         },
         "marker": {
          "symbol": "circle"
         },
         "mode": "lines",
         "name": "fri",
         "orientation": "h",
         "showlegend": false,
         "stackgroup": "1",
         "type": "scatter",
         "x": [
          0
         ],
         "xaxis": "x",
         "y": [
          "fri"
         ],
         "yaxis": "y"
        },
        {
         "fillpattern": {
          "shape": ""
         },
         "hovertemplate": "day=%{y}<br>temp=15.4<br>rain=%{x}<extra></extra>",
         "legendgroup": "fri",
         "line": {
          "color": "#636efa"
         },
         "marker": {
          "symbol": "circle"
         },
         "mode": "lines",
         "name": "fri",
         "orientation": "h",
         "showlegend": false,
         "stackgroup": "1",
         "type": "scatter",
         "x": [
          0
         ],
         "xaxis": "x",
         "y": [
          "fri"
         ],
         "yaxis": "y"
        },
        {
         "fillpattern": {
          "shape": ""
         },
         "hovertemplate": "day=%{y}<br>temp=23.2<br>rain=%{x}<extra></extra>",
         "legendgroup": "fri",
         "line": {
          "color": "#636efa"
         },
         "marker": {
          "symbol": "circle"
         },
         "mode": "lines",
         "name": "fri",
         "orientation": "h",
         "showlegend": false,
         "stackgroup": "1",
         "type": "scatter",
         "x": [
          0
         ],
         "xaxis": "x",
         "y": [
          "fri"
         ],
         "yaxis": "y"
        },
        {
         "fillpattern": {
          "shape": ""
         },
         "hovertemplate": "day=%{y}<br>temp=20.7<br>rain=%{x}<extra></extra>",
         "legendgroup": "fri",
         "line": {
          "color": "#636efa"
         },
         "marker": {
          "symbol": "circle"
         },
         "mode": "lines",
         "name": "fri",
         "orientation": "h",
         "showlegend": false,
         "stackgroup": "1",
         "type": "scatter",
         "x": [
          0
         ],
         "xaxis": "x",
         "y": [
          "fri"
         ],
         "yaxis": "y"
        },
        {
         "fillpattern": {
          "shape": ""
         },
         "hovertemplate": "day=%{y}<br>temp=19.2<br>rain=%{x}<extra></extra>",
         "legendgroup": "fri",
         "line": {
          "color": "#636efa"
         },
         "marker": {
          "symbol": "circle"
         },
         "mode": "lines",
         "name": "fri",
         "orientation": "h",
         "showlegend": false,
         "stackgroup": "1",
         "type": "scatter",
         "x": [
          0,
          0
         ],
         "xaxis": "x",
         "y": [
          "fri",
          "fri"
         ],
         "yaxis": "y"
        },
        {
         "fillpattern": {
          "shape": ""
         },
         "hovertemplate": "day=%{y}<br>temp=11.7<br>rain=%{x}<extra></extra>",
         "legendgroup": "fri",
         "line": {
          "color": "#636efa"
         },
         "marker": {
          "symbol": "circle"
         },
         "mode": "lines",
         "name": "fri",
         "orientation": "h",
         "showlegend": false,
         "stackgroup": "1",
         "type": "scatter",
         "x": [
          0
         ],
         "xaxis": "x",
         "y": [
          "fri"
         ],
         "yaxis": "y"
        },
        {
         "fillpattern": {
          "shape": ""
         },
         "hovertemplate": "day=%{y}<br>temp=23.5<br>rain=%{x}<extra></extra>",
         "legendgroup": "fri",
         "line": {
          "color": "#636efa"
         },
         "marker": {
          "symbol": "circle"
         },
         "mode": "lines",
         "name": "fri",
         "orientation": "h",
         "showlegend": false,
         "stackgroup": "1",
         "type": "scatter",
         "x": [
          0
         ],
         "xaxis": "x",
         "y": [
          "fri"
         ],
         "yaxis": "y"
        },
        {
         "fillpattern": {
          "shape": ""
         },
         "hovertemplate": "day=%{y}<br>temp=16.2<br>rain=%{x}<extra></extra>",
         "legendgroup": "fri",
         "line": {
          "color": "#636efa"
         },
         "marker": {
          "symbol": "circle"
         },
         "mode": "lines",
         "name": "fri",
         "orientation": "h",
         "showlegend": false,
         "stackgroup": "1",
         "type": "scatter",
         "x": [
          0,
          0
         ],
         "xaxis": "x",
         "y": [
          "fri",
          "fri"
         ],
         "yaxis": "y"
        },
        {
         "fillpattern": {
          "shape": ""
         },
         "hovertemplate": "day=%{y}<br>temp=13.4<br>rain=%{x}<extra></extra>",
         "legendgroup": "fri",
         "line": {
          "color": "#636efa"
         },
         "marker": {
          "symbol": "circle"
         },
         "mode": "lines",
         "name": "fri",
         "orientation": "h",
         "showlegend": false,
         "stackgroup": "1",
         "type": "scatter",
         "x": [
          0
         ],
         "xaxis": "x",
         "y": [
          "fri"
         ],
         "yaxis": "y"
        },
        {
         "fillpattern": {
          "shape": ""
         },
         "hovertemplate": "day=%{y}<br>temp=18.7<br>rain=%{x}<extra></extra>",
         "legendgroup": "fri",
         "line": {
          "color": "#636efa"
         },
         "marker": {
          "symbol": "circle"
         },
         "mode": "lines",
         "name": "fri",
         "orientation": "h",
         "showlegend": false,
         "stackgroup": "1",
         "type": "scatter",
         "x": [
          0
         ],
         "xaxis": "x",
         "y": [
          "fri"
         ],
         "yaxis": "y"
        },
        {
         "fillpattern": {
          "shape": ""
         },
         "hovertemplate": "day=%{y}<br>temp=21.8<br>rain=%{x}<extra></extra>",
         "legendgroup": "fri",
         "line": {
          "color": "#636efa"
         },
         "marker": {
          "symbol": "circle"
         },
         "mode": "lines",
         "name": "fri",
         "orientation": "h",
         "showlegend": false,
         "stackgroup": "1",
         "type": "scatter",
         "x": [
          0
         ],
         "xaxis": "x",
         "y": [
          "fri"
         ],
         "yaxis": "y"
        },
        {
         "fillpattern": {
          "shape": ""
         },
         "hovertemplate": "day=%{y}<br>temp=2.2<br>rain=%{x}<extra></extra>",
         "legendgroup": "fri",
         "line": {
          "color": "#636efa"
         },
         "marker": {
          "symbol": "circle"
         },
         "mode": "lines",
         "name": "fri",
         "orientation": "h",
         "showlegend": false,
         "stackgroup": "1",
         "type": "scatter",
         "x": [
          0
         ],
         "xaxis": "x",
         "y": [
          "fri"
         ],
         "yaxis": "y"
        },
        {
         "fillpattern": {
          "shape": ""
         },
         "hovertemplate": "day=%{y}<br>temp=7.5<br>rain=%{x}<extra></extra>",
         "legendgroup": "fri",
         "line": {
          "color": "#636efa"
         },
         "marker": {
          "symbol": "circle"
         },
         "mode": "lines",
         "name": "fri",
         "orientation": "h",
         "showlegend": false,
         "stackgroup": "1",
         "type": "scatter",
         "x": [
          0
         ],
         "xaxis": "x",
         "y": [
          "fri"
         ],
         "yaxis": "y"
        },
        {
         "fillpattern": {
          "shape": ""
         },
         "hovertemplate": "day=%{y}<br>temp=19.7<br>rain=%{x}<extra></extra>",
         "legendgroup": "fri",
         "line": {
          "color": "#636efa"
         },
         "marker": {
          "symbol": "circle"
         },
         "mode": "lines",
         "name": "fri",
         "orientation": "h",
         "showlegend": false,
         "stackgroup": "1",
         "type": "scatter",
         "x": [
          0
         ],
         "xaxis": "x",
         "y": [
          "fri"
         ],
         "yaxis": "y"
        },
        {
         "fillpattern": {
          "shape": ""
         },
         "hovertemplate": "day=%{y}<br>temp=18.5<br>rain=%{x}<extra></extra>",
         "legendgroup": "fri",
         "line": {
          "color": "#636efa"
         },
         "marker": {
          "symbol": "circle"
         },
         "mode": "lines",
         "name": "fri",
         "orientation": "h",
         "showlegend": false,
         "stackgroup": "1",
         "type": "scatter",
         "x": [
          0
         ],
         "xaxis": "x",
         "y": [
          "fri"
         ],
         "yaxis": "y"
        },
        {
         "fillpattern": {
          "shape": ""
         },
         "hovertemplate": "day=%{y}<br>temp=10.1<br>rain=%{x}<extra></extra>",
         "legendgroup": "fri",
         "line": {
          "color": "#636efa"
         },
         "marker": {
          "symbol": "circle"
         },
         "mode": "lines",
         "name": "fri",
         "orientation": "h",
         "showlegend": false,
         "stackgroup": "1",
         "type": "scatter",
         "x": [
          0,
          0
         ],
         "xaxis": "x",
         "y": [
          "fri",
          "fri"
         ],
         "yaxis": "y"
        },
        {
         "fillpattern": {
          "shape": ""
         },
         "hovertemplate": "day=%{y}<br>temp=12.8<br>rain=%{x}<extra></extra>",
         "legendgroup": "fri",
         "line": {
          "color": "#636efa"
         },
         "marker": {
          "symbol": "circle"
         },
         "mode": "lines",
         "name": "fri",
         "orientation": "h",
         "showlegend": false,
         "stackgroup": "1",
         "type": "scatter",
         "x": [
          0
         ],
         "xaxis": "x",
         "y": [
          "fri"
         ],
         "yaxis": "y"
        },
        {
         "fillpattern": {
          "shape": ""
         },
         "hovertemplate": "day=%{y}<br>temp=21.1<br>rain=%{x}<extra></extra>",
         "legendgroup": "fri",
         "line": {
          "color": "#636efa"
         },
         "marker": {
          "symbol": "circle"
         },
         "mode": "lines",
         "name": "fri",
         "orientation": "h",
         "showlegend": false,
         "stackgroup": "1",
         "type": "scatter",
         "x": [
          0,
          1.4
         ],
         "xaxis": "x",
         "y": [
          "fri",
          "fri"
         ],
         "yaxis": "y"
        },
        {
         "fillpattern": {
          "shape": ""
         },
         "hovertemplate": "day=%{y}<br>temp=25.0<br>rain=%{x}<extra></extra>",
         "legendgroup": "fri",
         "line": {
          "color": "#636efa"
         },
         "marker": {
          "symbol": "circle"
         },
         "mode": "lines",
         "name": "fri",
         "orientation": "h",
         "showlegend": false,
         "stackgroup": "1",
         "type": "scatter",
         "x": [
          0
         ],
         "xaxis": "x",
         "y": [
          "fri"
         ],
         "yaxis": "y"
        },
        {
         "fillpattern": {
          "shape": ""
         },
         "hovertemplate": "day=%{y}<br>temp=19.9<br>rain=%{x}<extra></extra>",
         "legendgroup": "fri",
         "line": {
          "color": "#636efa"
         },
         "marker": {
          "symbol": "circle"
         },
         "mode": "lines",
         "name": "fri",
         "orientation": "h",
         "showlegend": false,
         "stackgroup": "1",
         "type": "scatter",
         "x": [
          0
         ],
         "xaxis": "x",
         "y": [
          "fri"
         ],
         "yaxis": "y"
        },
        {
         "fillpattern": {
          "shape": ""
         },
         "hovertemplate": "day=%{y}<br>temp=27.5<br>rain=%{x}<extra></extra>",
         "legendgroup": "fri",
         "line": {
          "color": "#636efa"
         },
         "marker": {
          "symbol": "circle"
         },
         "mode": "lines",
         "name": "fri",
         "orientation": "h",
         "showlegend": false,
         "stackgroup": "1",
         "type": "scatter",
         "x": [
          0
         ],
         "xaxis": "x",
         "y": [
          "fri"
         ],
         "yaxis": "y"
        },
        {
         "fillpattern": {
          "shape": ""
         },
         "hovertemplate": "day=%{y}<br>temp=14.8<br>rain=%{x}<extra></extra>",
         "legendgroup": "fri",
         "line": {
          "color": "#636efa"
         },
         "marker": {
          "symbol": "circle"
         },
         "mode": "lines",
         "name": "fri",
         "orientation": "h",
         "showlegend": false,
         "stackgroup": "1",
         "type": "scatter",
         "x": [
          0
         ],
         "xaxis": "x",
         "y": [
          "fri"
         ],
         "yaxis": "y"
        },
        {
         "fillpattern": {
          "shape": ""
         },
         "hovertemplate": "day=%{y}<br>temp=32.4<br>rain=%{x}<extra></extra>",
         "legendgroup": "fri",
         "line": {
          "color": "#636efa"
         },
         "marker": {
          "symbol": "circle"
         },
         "mode": "lines",
         "name": "fri",
         "orientation": "h",
         "showlegend": false,
         "stackgroup": "1",
         "type": "scatter",
         "x": [
          0
         ],
         "xaxis": "x",
         "y": [
          "fri"
         ],
         "yaxis": "y"
        },
        {
         "fillpattern": {
          "shape": ""
         },
         "hovertemplate": "day=%{y}<br>temp=18.0<br>rain=%{x}<extra></extra>",
         "legendgroup": "tue",
         "line": {
          "color": "#EF553B"
         },
         "marker": {
          "symbol": "circle"
         },
         "mode": "lines",
         "name": "tue",
         "orientation": "h",
         "showlegend": true,
         "stackgroup": "1",
         "type": "scatter",
         "x": [
          0,
          0
         ],
         "xaxis": "x",
         "y": [
          "tue",
          "tue"
         ],
         "yaxis": "y"
        },
        {
         "fillpattern": {
          "shape": ""
         },
         "hovertemplate": "day=%{y}<br>temp=24.1<br>rain=%{x}<extra></extra>",
         "legendgroup": "tue",
         "line": {
          "color": "#EF553B"
         },
         "marker": {
          "symbol": "circle"
         },
         "mode": "lines",
         "name": "tue",
         "orientation": "h",
         "showlegend": false,
         "stackgroup": "1",
         "type": "scatter",
         "x": [
          0
         ],
         "xaxis": "x",
         "y": [
          "tue"
         ],
         "yaxis": "y"
        },
        {
         "fillpattern": {
          "shape": ""
         },
         "hovertemplate": "day=%{y}<br>temp=13.1<br>rain=%{x}<extra></extra>",
         "legendgroup": "tue",
         "line": {
          "color": "#EF553B"
         },
         "marker": {
          "symbol": "circle"
         },
         "mode": "lines",
         "name": "tue",
         "orientation": "h",
         "showlegend": false,
         "stackgroup": "1",
         "type": "scatter",
         "x": [
          0
         ],
         "xaxis": "x",
         "y": [
          "tue"
         ],
         "yaxis": "y"
        },
        {
         "fillpattern": {
          "shape": ""
         },
         "hovertemplate": "day=%{y}<br>temp=17.8<br>rain=%{x}<extra></extra>",
         "legendgroup": "tue",
         "line": {
          "color": "#EF553B"
         },
         "marker": {
          "symbol": "circle"
         },
         "mode": "lines",
         "name": "tue",
         "orientation": "h",
         "showlegend": false,
         "stackgroup": "1",
         "type": "scatter",
         "x": [
          0
         ],
         "xaxis": "x",
         "y": [
          "tue"
         ],
         "yaxis": "y"
        },
        {
         "fillpattern": {
          "shape": ""
         },
         "hovertemplate": "day=%{y}<br>temp=26.4<br>rain=%{x}<extra></extra>",
         "legendgroup": "tue",
         "line": {
          "color": "#EF553B"
         },
         "marker": {
          "symbol": "circle"
         },
         "mode": "lines",
         "name": "tue",
         "orientation": "h",
         "showlegend": false,
         "stackgroup": "1",
         "type": "scatter",
         "x": [
          0
         ],
         "xaxis": "x",
         "y": [
          "tue"
         ],
         "yaxis": "y"
        },
        {
         "fillpattern": {
          "shape": ""
         },
         "hovertemplate": "day=%{y}<br>temp=15.9<br>rain=%{x}<extra></extra>",
         "legendgroup": "tue",
         "line": {
          "color": "#EF553B"
         },
         "marker": {
          "symbol": "circle"
         },
         "mode": "lines",
         "name": "tue",
         "orientation": "h",
         "showlegend": false,
         "stackgroup": "1",
         "type": "scatter",
         "x": [
          0,
          0
         ],
         "xaxis": "x",
         "y": [
          "tue",
          "tue"
         ],
         "yaxis": "y"
        },
        {
         "fillpattern": {
          "shape": ""
         },
         "hovertemplate": "day=%{y}<br>temp=18.3<br>rain=%{x}<extra></extra>",
         "legendgroup": "tue",
         "line": {
          "color": "#EF553B"
         },
         "marker": {
          "symbol": "circle"
         },
         "mode": "lines",
         "name": "tue",
         "orientation": "h",
         "showlegend": false,
         "stackgroup": "1",
         "type": "scatter",
         "x": [
          0
         ],
         "xaxis": "x",
         "y": [
          "tue"
         ],
         "yaxis": "y"
        },
        {
         "fillpattern": {
          "shape": ""
         },
         "hovertemplate": "day=%{y}<br>temp=19.1<br>rain=%{x}<extra></extra>",
         "legendgroup": "tue",
         "line": {
          "color": "#EF553B"
         },
         "marker": {
          "symbol": "circle"
         },
         "mode": "lines",
         "name": "tue",
         "orientation": "h",
         "showlegend": false,
         "stackgroup": "1",
         "type": "scatter",
         "x": [
          0
         ],
         "xaxis": "x",
         "y": [
          "tue"
         ],
         "yaxis": "y"
        },
        {
         "fillpattern": {
          "shape": ""
         },
         "hovertemplate": "day=%{y}<br>temp=21.0<br>rain=%{x}<extra></extra>",
         "legendgroup": "tue",
         "line": {
          "color": "#EF553B"
         },
         "marker": {
          "symbol": "circle"
         },
         "mode": "lines",
         "name": "tue",
         "orientation": "h",
         "showlegend": false,
         "stackgroup": "1",
         "type": "scatter",
         "x": [
          0
         ],
         "xaxis": "x",
         "y": [
          "tue"
         ],
         "yaxis": "y"
        },
        {
         "fillpattern": {
          "shape": ""
         },
         "hovertemplate": "day=%{y}<br>temp=23.7<br>rain=%{x}<extra></extra>",
         "legendgroup": "tue",
         "line": {
          "color": "#EF553B"
         },
         "marker": {
          "symbol": "circle"
         },
         "mode": "lines",
         "name": "tue",
         "orientation": "h",
         "showlegend": false,
         "stackgroup": "1",
         "type": "scatter",
         "x": [
          0
         ],
         "xaxis": "x",
         "y": [
          "tue"
         ],
         "yaxis": "y"
        },
        {
         "fillpattern": {
          "shape": ""
         },
         "hovertemplate": "day=%{y}<br>temp=19.4<br>rain=%{x}<extra></extra>",
         "legendgroup": "tue",
         "line": {
          "color": "#EF553B"
         },
         "marker": {
          "symbol": "circle"
         },
         "mode": "lines",
         "name": "tue",
         "orientation": "h",
         "showlegend": false,
         "stackgroup": "1",
         "type": "scatter",
         "x": [
          0,
          0
         ],
         "xaxis": "x",
         "y": [
          "tue",
          "tue"
         ],
         "yaxis": "y"
        },
        {
         "fillpattern": {
          "shape": ""
         },
         "hovertemplate": "day=%{y}<br>temp=18.2<br>rain=%{x}<extra></extra>",
         "legendgroup": "tue",
         "line": {
          "color": "#EF553B"
         },
         "marker": {
          "symbol": "circle"
         },
         "mode": "lines",
         "name": "tue",
         "orientation": "h",
         "showlegend": false,
         "stackgroup": "1",
         "type": "scatter",
         "x": [
          0
         ],
         "xaxis": "x",
         "y": [
          "tue"
         ],
         "yaxis": "y"
        },
        {
         "fillpattern": {
          "shape": ""
         },
         "hovertemplate": "day=%{y}<br>temp=21.7<br>rain=%{x}<extra></extra>",
         "legendgroup": "tue",
         "line": {
          "color": "#EF553B"
         },
         "marker": {
          "symbol": "circle"
         },
         "mode": "lines",
         "name": "tue",
         "orientation": "h",
         "showlegend": false,
         "stackgroup": "1",
         "type": "scatter",
         "x": [
          0,
          0
         ],
         "xaxis": "x",
         "y": [
          "tue",
          "tue"
         ],
         "yaxis": "y"
        },
        {
         "fillpattern": {
          "shape": ""
         },
         "hovertemplate": "day=%{y}<br>temp=14.1<br>rain=%{x}<extra></extra>",
         "legendgroup": "tue",
         "line": {
          "color": "#EF553B"
         },
         "marker": {
          "symbol": "circle"
         },
         "mode": "lines",
         "name": "tue",
         "orientation": "h",
         "showlegend": false,
         "stackgroup": "1",
         "type": "scatter",
         "x": [
          0
         ],
         "xaxis": "x",
         "y": [
          "tue"
         ],
         "yaxis": "y"
        },
        {
         "fillpattern": {
          "shape": ""
         },
         "hovertemplate": "day=%{y}<br>temp=23.3<br>rain=%{x}<extra></extra>",
         "legendgroup": "tue",
         "line": {
          "color": "#EF553B"
         },
         "marker": {
          "symbol": "circle"
         },
         "mode": "lines",
         "name": "tue",
         "orientation": "h",
         "showlegend": false,
         "stackgroup": "1",
         "type": "scatter",
         "x": [
          0
         ],
         "xaxis": "x",
         "y": [
          "tue"
         ],
         "yaxis": "y"
        },
        {
         "fillpattern": {
          "shape": ""
         },
         "hovertemplate": "day=%{y}<br>temp=16.6<br>rain=%{x}<extra></extra>",
         "legendgroup": "tue",
         "line": {
          "color": "#EF553B"
         },
         "marker": {
          "symbol": "circle"
         },
         "mode": "lines",
         "name": "tue",
         "orientation": "h",
         "showlegend": false,
         "stackgroup": "1",
         "type": "scatter",
         "x": [
          0
         ],
         "xaxis": "x",
         "y": [
          "tue"
         ],
         "yaxis": "y"
        },
        {
         "fillpattern": {
          "shape": ""
         },
         "hovertemplate": "day=%{y}<br>temp=19.6<br>rain=%{x}<extra></extra>",
         "legendgroup": "tue",
         "line": {
          "color": "#EF553B"
         },
         "marker": {
          "symbol": "circle"
         },
         "mode": "lines",
         "name": "tue",
         "orientation": "h",
         "showlegend": false,
         "stackgroup": "1",
         "type": "scatter",
         "x": [
          0
         ],
         "xaxis": "x",
         "y": [
          "tue"
         ],
         "yaxis": "y"
        },
        {
         "fillpattern": {
          "shape": ""
         },
         "hovertemplate": "day=%{y}<br>temp=11.8<br>rain=%{x}<extra></extra>",
         "legendgroup": "tue",
         "line": {
          "color": "#EF553B"
         },
         "marker": {
          "symbol": "circle"
         },
         "mode": "lines",
         "name": "tue",
         "orientation": "h",
         "showlegend": false,
         "stackgroup": "1",
         "type": "scatter",
         "x": [
          0
         ],
         "xaxis": "x",
         "y": [
          "tue"
         ],
         "yaxis": "y"
        },
        {
         "fillpattern": {
          "shape": ""
         },
         "hovertemplate": "day=%{y}<br>temp=17.6<br>rain=%{x}<extra></extra>",
         "legendgroup": "tue",
         "line": {
          "color": "#EF553B"
         },
         "marker": {
          "symbol": "circle"
         },
         "mode": "lines",
         "name": "tue",
         "orientation": "h",
         "showlegend": false,
         "stackgroup": "1",
         "type": "scatter",
         "x": [
          0
         ],
         "xaxis": "x",
         "y": [
          "tue"
         ],
         "yaxis": "y"
        },
        {
         "fillpattern": {
          "shape": ""
         },
         "hovertemplate": "day=%{y}<br>temp=13.9<br>rain=%{x}<extra></extra>",
         "legendgroup": "tue",
         "line": {
          "color": "#EF553B"
         },
         "marker": {
          "symbol": "circle"
         },
         "mode": "lines",
         "name": "tue",
         "orientation": "h",
         "showlegend": false,
         "stackgroup": "1",
         "type": "scatter",
         "x": [
          0
         ],
         "xaxis": "x",
         "y": [
          "tue"
         ],
         "yaxis": "y"
        },
        {
         "fillpattern": {
          "shape": ""
         },
         "hovertemplate": "day=%{y}<br>temp=18.8<br>rain=%{x}<extra></extra>",
         "legendgroup": "tue",
         "line": {
          "color": "#EF553B"
         },
         "marker": {
          "symbol": "circle"
         },
         "mode": "lines",
         "name": "tue",
         "orientation": "h",
         "showlegend": false,
         "stackgroup": "1",
         "type": "scatter",
         "x": [
          0
         ],
         "xaxis": "x",
         "y": [
          "tue"
         ],
         "yaxis": "y"
        },
        {
         "fillpattern": {
          "shape": ""
         },
         "hovertemplate": "day=%{y}<br>temp=18.6<br>rain=%{x}<extra></extra>",
         "legendgroup": "tue",
         "line": {
          "color": "#EF553B"
         },
         "marker": {
          "symbol": "circle"
         },
         "mode": "lines",
         "name": "tue",
         "orientation": "h",
         "showlegend": false,
         "stackgroup": "1",
         "type": "scatter",
         "x": [
          0
         ],
         "xaxis": "x",
         "y": [
          "tue"
         ],
         "yaxis": "y"
        },
        {
         "fillpattern": {
          "shape": ""
         },
         "hovertemplate": "day=%{y}<br>temp=15.8<br>rain=%{x}<extra></extra>",
         "legendgroup": "tue",
         "line": {
          "color": "#EF553B"
         },
         "marker": {
          "symbol": "circle"
         },
         "mode": "lines",
         "name": "tue",
         "orientation": "h",
         "showlegend": false,
         "stackgroup": "1",
         "type": "scatter",
         "x": [
          0
         ],
         "xaxis": "x",
         "y": [
          "tue"
         ],
         "yaxis": "y"
        },
        {
         "fillpattern": {
          "shape": ""
         },
         "hovertemplate": "day=%{y}<br>temp=17.3<br>rain=%{x}<extra></extra>",
         "legendgroup": "tue",
         "line": {
          "color": "#EF553B"
         },
         "marker": {
          "symbol": "circle"
         },
         "mode": "lines",
         "name": "tue",
         "orientation": "h",
         "showlegend": false,
         "stackgroup": "1",
         "type": "scatter",
         "x": [
          0
         ],
         "xaxis": "x",
         "y": [
          "tue"
         ],
         "yaxis": "y"
        },
        {
         "fillpattern": {
          "shape": ""
         },
         "hovertemplate": "day=%{y}<br>temp=21.6<br>rain=%{x}<extra></extra>",
         "legendgroup": "tue",
         "line": {
          "color": "#EF553B"
         },
         "marker": {
          "symbol": "circle"
         },
         "mode": "lines",
         "name": "tue",
         "orientation": "h",
         "showlegend": false,
         "stackgroup": "1",
         "type": "scatter",
         "x": [
          0,
          0,
          0.8,
          0.8
         ],
         "xaxis": "x",
         "y": [
          "tue",
          "tue",
          "tue",
          "tue"
         ],
         "yaxis": "y"
        },
        {
         "fillpattern": {
          "shape": ""
         },
         "hovertemplate": "day=%{y}<br>temp=17.9<br>rain=%{x}<extra></extra>",
         "legendgroup": "tue",
         "line": {
          "color": "#EF553B"
         },
         "marker": {
          "symbol": "circle"
         },
         "mode": "lines",
         "name": "tue",
         "orientation": "h",
         "showlegend": false,
         "stackgroup": "1",
         "type": "scatter",
         "x": [
          0
         ],
         "xaxis": "x",
         "y": [
          "tue"
         ],
         "yaxis": "y"
        },
        {
         "fillpattern": {
          "shape": ""
         },
         "hovertemplate": "day=%{y}<br>temp=20.2<br>rain=%{x}<extra></extra>",
         "legendgroup": "tue",
         "line": {
          "color": "#EF553B"
         },
         "marker": {
          "symbol": "circle"
         },
         "mode": "lines",
         "name": "tue",
         "orientation": "h",
         "showlegend": false,
         "stackgroup": "1",
         "type": "scatter",
         "x": [
          0
         ],
         "xaxis": "x",
         "y": [
          "tue"
         ],
         "yaxis": "y"
        },
        {
         "fillpattern": {
          "shape": ""
         },
         "hovertemplate": "day=%{y}<br>temp=17.4<br>rain=%{x}<extra></extra>",
         "legendgroup": "tue",
         "line": {
          "color": "#EF553B"
         },
         "marker": {
          "symbol": "circle"
         },
         "mode": "lines",
         "name": "tue",
         "orientation": "h",
         "showlegend": false,
         "stackgroup": "1",
         "type": "scatter",
         "x": [
          0
         ],
         "xaxis": "x",
         "y": [
          "tue"
         ],
         "yaxis": "y"
        },
        {
         "fillpattern": {
          "shape": ""
         },
         "hovertemplate": "day=%{y}<br>temp=23.4<br>rain=%{x}<extra></extra>",
         "legendgroup": "tue",
         "line": {
          "color": "#EF553B"
         },
         "marker": {
          "symbol": "circle"
         },
         "mode": "lines",
         "name": "tue",
         "orientation": "h",
         "showlegend": false,
         "stackgroup": "1",
         "type": "scatter",
         "x": [
          0
         ],
         "xaxis": "x",
         "y": [
          "tue"
         ],
         "yaxis": "y"
        },
        {
         "fillpattern": {
          "shape": ""
         },
         "hovertemplate": "day=%{y}<br>temp=14.4<br>rain=%{x}<extra></extra>",
         "legendgroup": "tue",
         "line": {
          "color": "#EF553B"
         },
         "marker": {
          "symbol": "circle"
         },
         "mode": "lines",
         "name": "tue",
         "orientation": "h",
         "showlegend": false,
         "stackgroup": "1",
         "type": "scatter",
         "x": [
          0,
          0
         ],
         "xaxis": "x",
         "y": [
          "tue",
          "tue"
         ],
         "yaxis": "y"
        },
        {
         "fillpattern": {
          "shape": ""
         },
         "hovertemplate": "day=%{y}<br>temp=20.1<br>rain=%{x}<extra></extra>",
         "legendgroup": "tue",
         "line": {
          "color": "#EF553B"
         },
         "marker": {
          "symbol": "circle"
         },
         "mode": "lines",
         "name": "tue",
         "orientation": "h",
         "showlegend": false,
         "stackgroup": "1",
         "type": "scatter",
         "x": [
          0,
          0
         ],
         "xaxis": "x",
         "y": [
          "tue",
          "tue"
         ],
         "yaxis": "y"
        },
        {
         "fillpattern": {
          "shape": ""
         },
         "hovertemplate": "day=%{y}<br>temp=15.5<br>rain=%{x}<extra></extra>",
         "legendgroup": "tue",
         "line": {
          "color": "#EF553B"
         },
         "marker": {
          "symbol": "circle"
         },
         "mode": "lines",
         "name": "tue",
         "orientation": "h",
         "showlegend": false,
         "stackgroup": "1",
         "type": "scatter",
         "x": [
          0
         ],
         "xaxis": "x",
         "y": [
          "tue"
         ],
         "yaxis": "y"
        },
        {
         "fillpattern": {
          "shape": ""
         },
         "hovertemplate": "day=%{y}<br>temp=15.2<br>rain=%{x}<extra></extra>",
         "legendgroup": "tue",
         "line": {
          "color": "#EF553B"
         },
         "marker": {
          "symbol": "circle"
         },
         "mode": "lines",
         "name": "tue",
         "orientation": "h",
         "showlegend": false,
         "stackgroup": "1",
         "type": "scatter",
         "x": [
          0
         ],
         "xaxis": "x",
         "y": [
          "tue"
         ],
         "yaxis": "y"
        },
        {
         "fillpattern": {
          "shape": ""
         },
         "hovertemplate": "day=%{y}<br>temp=17.1<br>rain=%{x}<extra></extra>",
         "legendgroup": "tue",
         "line": {
          "color": "#EF553B"
         },
         "marker": {
          "symbol": "circle"
         },
         "mode": "lines",
         "name": "tue",
         "orientation": "h",
         "showlegend": false,
         "stackgroup": "1",
         "type": "scatter",
         "x": [
          0
         ],
         "xaxis": "x",
         "y": [
          "tue"
         ],
         "yaxis": "y"
        },
        {
         "fillpattern": {
          "shape": ""
         },
         "hovertemplate": "day=%{y}<br>temp=14.9<br>rain=%{x}<extra></extra>",
         "legendgroup": "tue",
         "line": {
          "color": "#EF553B"
         },
         "marker": {
          "symbol": "circle"
         },
         "mode": "lines",
         "name": "tue",
         "orientation": "h",
         "showlegend": false,
         "stackgroup": "1",
         "type": "scatter",
         "x": [
          0
         ],
         "xaxis": "x",
         "y": [
          "tue"
         ],
         "yaxis": "y"
        },
        {
         "fillpattern": {
          "shape": ""
         },
         "hovertemplate": "day=%{y}<br>temp=24.2<br>rain=%{x}<extra></extra>",
         "legendgroup": "tue",
         "line": {
          "color": "#EF553B"
         },
         "marker": {
          "symbol": "circle"
         },
         "mode": "lines",
         "name": "tue",
         "orientation": "h",
         "showlegend": false,
         "stackgroup": "1",
         "type": "scatter",
         "x": [
          0
         ],
         "xaxis": "x",
         "y": [
          "tue"
         ],
         "yaxis": "y"
        },
        {
         "fillpattern": {
          "shape": ""
         },
         "hovertemplate": "day=%{y}<br>temp=24.6<br>rain=%{x}<extra></extra>",
         "legendgroup": "tue",
         "line": {
          "color": "#EF553B"
         },
         "marker": {
          "symbol": "circle"
         },
         "mode": "lines",
         "name": "tue",
         "orientation": "h",
         "showlegend": false,
         "stackgroup": "1",
         "type": "scatter",
         "x": [
          0,
          0
         ],
         "xaxis": "x",
         "y": [
          "tue",
          "tue"
         ],
         "yaxis": "y"
        },
        {
         "fillpattern": {
          "shape": ""
         },
         "hovertemplate": "day=%{y}<br>temp=16.4<br>rain=%{x}<extra></extra>",
         "legendgroup": "tue",
         "line": {
          "color": "#EF553B"
         },
         "marker": {
          "symbol": "circle"
         },
         "mode": "lines",
         "name": "tue",
         "orientation": "h",
         "showlegend": false,
         "stackgroup": "1",
         "type": "scatter",
         "x": [
          0
         ],
         "xaxis": "x",
         "y": [
          "tue"
         ],
         "yaxis": "y"
        },
        {
         "fillpattern": {
          "shape": ""
         },
         "hovertemplate": "day=%{y}<br>temp=20.7<br>rain=%{x}<extra></extra>",
         "legendgroup": "tue",
         "line": {
          "color": "#EF553B"
         },
         "marker": {
          "symbol": "circle"
         },
         "mode": "lines",
         "name": "tue",
         "orientation": "h",
         "showlegend": false,
         "stackgroup": "1",
         "type": "scatter",
         "x": [
          0,
          0.4
         ],
         "xaxis": "x",
         "y": [
          "tue",
          "tue"
         ],
         "yaxis": "y"
        },
        {
         "fillpattern": {
          "shape": ""
         },
         "hovertemplate": "day=%{y}<br>temp=24.3<br>rain=%{x}<extra></extra>",
         "legendgroup": "tue",
         "line": {
          "color": "#EF553B"
         },
         "marker": {
          "symbol": "circle"
         },
         "mode": "lines",
         "name": "tue",
         "orientation": "h",
         "showlegend": false,
         "stackgroup": "1",
         "type": "scatter",
         "x": [
          0
         ],
         "xaxis": "x",
         "y": [
          "tue"
         ],
         "yaxis": "y"
        },
        {
         "fillpattern": {
          "shape": ""
         },
         "hovertemplate": "day=%{y}<br>temp=22.1<br>rain=%{x}<extra></extra>",
         "legendgroup": "tue",
         "line": {
          "color": "#EF553B"
         },
         "marker": {
          "symbol": "circle"
         },
         "mode": "lines",
         "name": "tue",
         "orientation": "h",
         "showlegend": false,
         "stackgroup": "1",
         "type": "scatter",
         "x": [
          0
         ],
         "xaxis": "x",
         "y": [
          "tue"
         ],
         "yaxis": "y"
        },
        {
         "fillpattern": {
          "shape": ""
         },
         "hovertemplate": "day=%{y}<br>temp=5.1<br>rain=%{x}<extra></extra>",
         "legendgroup": "tue",
         "line": {
          "color": "#EF553B"
         },
         "marker": {
          "symbol": "circle"
         },
         "mode": "lines",
         "name": "tue",
         "orientation": "h",
         "showlegend": false,
         "stackgroup": "1",
         "type": "scatter",
         "x": [
          0,
          0
         ],
         "xaxis": "x",
         "y": [
          "tue",
          "tue"
         ],
         "yaxis": "y"
        },
        {
         "fillpattern": {
          "shape": ""
         },
         "hovertemplate": "day=%{y}<br>temp=18.7<br>rain=%{x}<extra></extra>",
         "legendgroup": "tue",
         "line": {
          "color": "#EF553B"
         },
         "marker": {
          "symbol": "circle"
         },
         "mode": "lines",
         "name": "tue",
         "orientation": "h",
         "showlegend": false,
         "stackgroup": "1",
         "type": "scatter",
         "x": [
          0
         ],
         "xaxis": "x",
         "y": [
          "tue"
         ],
         "yaxis": "y"
        },
        {
         "fillpattern": {
          "shape": ""
         },
         "hovertemplate": "day=%{y}<br>temp=21.8<br>rain=%{x}<extra></extra>",
         "legendgroup": "tue",
         "line": {
          "color": "#EF553B"
         },
         "marker": {
          "symbol": "circle"
         },
         "mode": "lines",
         "name": "tue",
         "orientation": "h",
         "showlegend": false,
         "stackgroup": "1",
         "type": "scatter",
         "x": [
          0
         ],
         "xaxis": "x",
         "y": [
          "tue"
         ],
         "yaxis": "y"
        },
        {
         "fillpattern": {
          "shape": ""
         },
         "hovertemplate": "day=%{y}<br>temp=4.6<br>rain=%{x}<extra></extra>",
         "legendgroup": "tue",
         "line": {
          "color": "#EF553B"
         },
         "marker": {
          "symbol": "circle"
         },
         "mode": "lines",
         "name": "tue",
         "orientation": "h",
         "showlegend": false,
         "stackgroup": "1",
         "type": "scatter",
         "x": [
          0
         ],
         "xaxis": "x",
         "y": [
          "tue"
         ],
         "yaxis": "y"
        },
        {
         "fillpattern": {
          "shape": ""
         },
         "hovertemplate": "day=%{y}<br>temp=26.9<br>rain=%{x}<extra></extra>",
         "legendgroup": "tue",
         "line": {
          "color": "#EF553B"
         },
         "marker": {
          "symbol": "circle"
         },
         "mode": "lines",
         "name": "tue",
         "orientation": "h",
         "showlegend": false,
         "stackgroup": "1",
         "type": "scatter",
         "x": [
          0
         ],
         "xaxis": "x",
         "y": [
          "tue"
         ],
         "yaxis": "y"
        },
        {
         "fillpattern": {
          "shape": ""
         },
         "hovertemplate": "day=%{y}<br>temp=21.1<br>rain=%{x}<extra></extra>",
         "legendgroup": "tue",
         "line": {
          "color": "#EF553B"
         },
         "marker": {
          "symbol": "circle"
         },
         "mode": "lines",
         "name": "tue",
         "orientation": "h",
         "showlegend": false,
         "stackgroup": "1",
         "type": "scatter",
         "x": [
          0
         ],
         "xaxis": "x",
         "y": [
          "tue"
         ],
         "yaxis": "y"
        },
        {
         "fillpattern": {
          "shape": ""
         },
         "hovertemplate": "day=%{y}<br>temp=27.9<br>rain=%{x}<extra></extra>",
         "legendgroup": "tue",
         "line": {
          "color": "#EF553B"
         },
         "marker": {
          "symbol": "circle"
         },
         "mode": "lines",
         "name": "tue",
         "orientation": "h",
         "showlegend": false,
         "stackgroup": "1",
         "type": "scatter",
         "x": [
          0
         ],
         "xaxis": "x",
         "y": [
          "tue"
         ],
         "yaxis": "y"
        },
        {
         "fillpattern": {
          "shape": ""
         },
         "hovertemplate": "day=%{y}<br>temp=26.3<br>rain=%{x}<extra></extra>",
         "legendgroup": "tue",
         "line": {
          "color": "#EF553B"
         },
         "marker": {
          "symbol": "circle"
         },
         "mode": "lines",
         "name": "tue",
         "orientation": "h",
         "showlegend": false,
         "stackgroup": "1",
         "type": "scatter",
         "x": [
          0
         ],
         "xaxis": "x",
         "y": [
          "tue"
         ],
         "yaxis": "y"
        },
        {
         "fillpattern": {
          "shape": ""
         },
         "hovertemplate": "day=%{y}<br>temp=32.3<br>rain=%{x}<extra></extra>",
         "legendgroup": "tue",
         "line": {
          "color": "#EF553B"
         },
         "marker": {
          "symbol": "circle"
         },
         "mode": "lines",
         "name": "tue",
         "orientation": "h",
         "showlegend": false,
         "stackgroup": "1",
         "type": "scatter",
         "x": [
          0
         ],
         "xaxis": "x",
         "y": [
          "tue"
         ],
         "yaxis": "y"
        },
        {
         "fillpattern": {
          "shape": ""
         },
         "hovertemplate": "day=%{y}<br>temp=33.3<br>rain=%{x}<extra></extra>",
         "legendgroup": "tue",
         "line": {
          "color": "#EF553B"
         },
         "marker": {
          "symbol": "circle"
         },
         "mode": "lines",
         "name": "tue",
         "orientation": "h",
         "showlegend": false,
         "stackgroup": "1",
         "type": "scatter",
         "x": [
          0
         ],
         "xaxis": "x",
         "y": [
          "tue"
         ],
         "yaxis": "y"
        },
        {
         "fillpattern": {
          "shape": ""
         },
         "hovertemplate": "day=%{y}<br>temp=27.3<br>rain=%{x}<extra></extra>",
         "legendgroup": "tue",
         "line": {
          "color": "#EF553B"
         },
         "marker": {
          "symbol": "circle"
         },
         "mode": "lines",
         "name": "tue",
         "orientation": "h",
         "showlegend": false,
         "stackgroup": "1",
         "type": "scatter",
         "x": [
          6.4
         ],
         "xaxis": "x",
         "y": [
          "tue"
         ],
         "yaxis": "y"
        },
        {
         "fillpattern": {
          "shape": ""
         },
         "hovertemplate": "day=%{y}<br>temp=14.6<br>rain=%{x}<extra></extra>",
         "legendgroup": "sat",
         "line": {
          "color": "#00cc96"
         },
         "marker": {
          "symbol": "circle"
         },
         "mode": "lines",
         "name": "sat",
         "orientation": "h",
         "showlegend": true,
         "stackgroup": "1",
         "type": "scatter",
         "x": [
          0
         ],
         "xaxis": "x",
         "y": [
          "sat"
         ],
         "yaxis": "y"
        },
        {
         "fillpattern": {
          "shape": ""
         },
         "hovertemplate": "day=%{y}<br>temp=24.1<br>rain=%{x}<extra></extra>",
         "legendgroup": "sat",
         "line": {
          "color": "#00cc96"
         },
         "marker": {
          "symbol": "circle"
         },
         "mode": "lines",
         "name": "sat",
         "orientation": "h",
         "showlegend": false,
         "stackgroup": "1",
         "type": "scatter",
         "x": [
          0,
          0
         ],
         "xaxis": "x",
         "y": [
          "sat",
          "sat"
         ],
         "yaxis": "y"
        },
        {
         "fillpattern": {
          "shape": ""
         },
         "hovertemplate": "day=%{y}<br>temp=22.8<br>rain=%{x}<extra></extra>",
         "legendgroup": "sat",
         "line": {
          "color": "#00cc96"
         },
         "marker": {
          "symbol": "circle"
         },
         "mode": "lines",
         "name": "sat",
         "orientation": "h",
         "showlegend": false,
         "stackgroup": "1",
         "type": "scatter",
         "x": [
          0
         ],
         "xaxis": "x",
         "y": [
          "sat"
         ],
         "yaxis": "y"
        },
        {
         "fillpattern": {
          "shape": ""
         },
         "hovertemplate": "day=%{y}<br>temp=17.8<br>rain=%{x}<extra></extra>",
         "legendgroup": "sat",
         "line": {
          "color": "#00cc96"
         },
         "marker": {
          "symbol": "circle"
         },
         "mode": "lines",
         "name": "sat",
         "orientation": "h",
         "showlegend": false,
         "stackgroup": "1",
         "type": "scatter",
         "x": [
          0,
          0,
          0
         ],
         "xaxis": "x",
         "y": [
          "sat",
          "sat",
          "sat"
         ],
         "yaxis": "y"
        },
        {
         "fillpattern": {
          "shape": ""
         },
         "hovertemplate": "day=%{y}<br>temp=19.3<br>rain=%{x}<extra></extra>",
         "legendgroup": "sat",
         "line": {
          "color": "#00cc96"
         },
         "marker": {
          "symbol": "circle"
         },
         "mode": "lines",
         "name": "sat",
         "orientation": "h",
         "showlegend": false,
         "stackgroup": "1",
         "type": "scatter",
         "x": [
          0
         ],
         "xaxis": "x",
         "y": [
          "sat"
         ],
         "yaxis": "y"
        },
        {
         "fillpattern": {
          "shape": ""
         },
         "hovertemplate": "day=%{y}<br>temp=17.0<br>rain=%{x}<extra></extra>",
         "legendgroup": "sat",
         "line": {
          "color": "#00cc96"
         },
         "marker": {
          "symbol": "circle"
         },
         "mode": "lines",
         "name": "sat",
         "orientation": "h",
         "showlegend": false,
         "stackgroup": "1",
         "type": "scatter",
         "x": [
          0,
          0,
          0
         ],
         "xaxis": "x",
         "y": [
          "sat",
          "sat",
          "sat"
         ],
         "yaxis": "y"
        },
        {
         "fillpattern": {
          "shape": ""
         },
         "hovertemplate": "day=%{y}<br>temp=21.3<br>rain=%{x}<extra></extra>",
         "legendgroup": "sat",
         "line": {
          "color": "#00cc96"
         },
         "marker": {
          "symbol": "circle"
         },
         "mode": "lines",
         "name": "sat",
         "orientation": "h",
         "showlegend": false,
         "stackgroup": "1",
         "type": "scatter",
         "x": [
          0
         ],
         "xaxis": "x",
         "y": [
          "sat"
         ],
         "yaxis": "y"
        },
        {
         "fillpattern": {
          "shape": ""
         },
         "hovertemplate": "day=%{y}<br>temp=26.4<br>rain=%{x}<extra></extra>",
         "legendgroup": "sat",
         "line": {
          "color": "#00cc96"
         },
         "marker": {
          "symbol": "circle"
         },
         "mode": "lines",
         "name": "sat",
         "orientation": "h",
         "showlegend": false,
         "stackgroup": "1",
         "type": "scatter",
         "x": [
          0
         ],
         "xaxis": "x",
         "y": [
          "sat"
         ],
         "yaxis": "y"
        },
        {
         "fillpattern": {
          "shape": ""
         },
         "hovertemplate": "day=%{y}<br>temp=22.9<br>rain=%{x}<extra></extra>",
         "legendgroup": "sat",
         "line": {
          "color": "#00cc96"
         },
         "marker": {
          "symbol": "circle"
         },
         "mode": "lines",
         "name": "sat",
         "orientation": "h",
         "showlegend": false,
         "stackgroup": "1",
         "type": "scatter",
         "x": [
          0
         ],
         "xaxis": "x",
         "y": [
          "sat"
         ],
         "yaxis": "y"
        },
        {
         "fillpattern": {
          "shape": ""
         },
         "hovertemplate": "day=%{y}<br>temp=15.1<br>rain=%{x}<extra></extra>",
         "legendgroup": "sat",
         "line": {
          "color": "#00cc96"
         },
         "marker": {
          "symbol": "circle"
         },
         "mode": "lines",
         "name": "sat",
         "orientation": "h",
         "showlegend": false,
         "stackgroup": "1",
         "type": "scatter",
         "x": [
          0,
          0
         ],
         "xaxis": "x",
         "y": [
          "sat",
          "sat"
         ],
         "yaxis": "y"
        },
        {
         "fillpattern": {
          "shape": ""
         },
         "hovertemplate": "day=%{y}<br>temp=9.3<br>rain=%{x}<extra></extra>",
         "legendgroup": "sat",
         "line": {
          "color": "#00cc96"
         },
         "marker": {
          "symbol": "circle"
         },
         "mode": "lines",
         "name": "sat",
         "orientation": "h",
         "showlegend": false,
         "stackgroup": "1",
         "type": "scatter",
         "x": [
          0
         ],
         "xaxis": "x",
         "y": [
          "sat"
         ],
         "yaxis": "y"
        },
        {
         "fillpattern": {
          "shape": ""
         },
         "hovertemplate": "day=%{y}<br>temp=19.5<br>rain=%{x}<extra></extra>",
         "legendgroup": "sat",
         "line": {
          "color": "#00cc96"
         },
         "marker": {
          "symbol": "circle"
         },
         "mode": "lines",
         "name": "sat",
         "orientation": "h",
         "showlegend": false,
         "stackgroup": "1",
         "type": "scatter",
         "x": [
          0
         ],
         "xaxis": "x",
         "y": [
          "sat"
         ],
         "yaxis": "y"
        },
        {
         "fillpattern": {
          "shape": ""
         },
         "hovertemplate": "day=%{y}<br>temp=23.7<br>rain=%{x}<extra></extra>",
         "legendgroup": "sat",
         "line": {
          "color": "#00cc96"
         },
         "marker": {
          "symbol": "circle"
         },
         "mode": "lines",
         "name": "sat",
         "orientation": "h",
         "showlegend": false,
         "stackgroup": "1",
         "type": "scatter",
         "x": [
          0,
          0
         ],
         "xaxis": "x",
         "y": [
          "sat",
          "sat"
         ],
         "yaxis": "y"
        },
        {
         "fillpattern": {
          "shape": ""
         },
         "hovertemplate": "day=%{y}<br>temp=30.2<br>rain=%{x}<extra></extra>",
         "legendgroup": "sat",
         "line": {
          "color": "#00cc96"
         },
         "marker": {
          "symbol": "circle"
         },
         "mode": "lines",
         "name": "sat",
         "orientation": "h",
         "showlegend": false,
         "stackgroup": "1",
         "type": "scatter",
         "x": [
          0
         ],
         "xaxis": "x",
         "y": [
          "sat"
         ],
         "yaxis": "y"
        },
        {
         "fillpattern": {
          "shape": ""
         },
         "hovertemplate": "day=%{y}<br>temp=20.6<br>rain=%{x}<extra></extra>",
         "legendgroup": "sat",
         "line": {
          "color": "#00cc96"
         },
         "marker": {
          "symbol": "circle"
         },
         "mode": "lines",
         "name": "sat",
         "orientation": "h",
         "showlegend": false,
         "stackgroup": "1",
         "type": "scatter",
         "x": [
          0
         ],
         "xaxis": "x",
         "y": [
          "sat"
         ],
         "yaxis": "y"
        },
        {
         "fillpattern": {
          "shape": ""
         },
         "hovertemplate": "day=%{y}<br>temp=17.7<br>rain=%{x}<extra></extra>",
         "legendgroup": "sat",
         "line": {
          "color": "#00cc96"
         },
         "marker": {
          "symbol": "circle"
         },
         "mode": "lines",
         "name": "sat",
         "orientation": "h",
         "showlegend": false,
         "stackgroup": "1",
         "type": "scatter",
         "x": [
          0
         ],
         "xaxis": "x",
         "y": [
          "sat"
         ],
         "yaxis": "y"
        },
        {
         "fillpattern": {
          "shape": ""
         },
         "hovertemplate": "day=%{y}<br>temp=21.2<br>rain=%{x}<extra></extra>",
         "legendgroup": "sat",
         "line": {
          "color": "#00cc96"
         },
         "marker": {
          "symbol": "circle"
         },
         "mode": "lines",
         "name": "sat",
         "orientation": "h",
         "showlegend": false,
         "stackgroup": "1",
         "type": "scatter",
         "x": [
          0
         ],
         "xaxis": "x",
         "y": [
          "sat"
         ],
         "yaxis": "y"
        },
        {
         "fillpattern": {
          "shape": ""
         },
         "hovertemplate": "day=%{y}<br>temp=18.2<br>rain=%{x}<extra></extra>",
         "legendgroup": "sat",
         "line": {
          "color": "#00cc96"
         },
         "marker": {
          "symbol": "circle"
         },
         "mode": "lines",
         "name": "sat",
         "orientation": "h",
         "showlegend": false,
         "stackgroup": "1",
         "type": "scatter",
         "x": [
          0
         ],
         "xaxis": "x",
         "y": [
          "sat"
         ],
         "yaxis": "y"
        },
        {
         "fillpattern": {
          "shape": ""
         },
         "hovertemplate": "day=%{y}<br>temp=11.3<br>rain=%{x}<extra></extra>",
         "legendgroup": "sat",
         "line": {
          "color": "#00cc96"
         },
         "marker": {
          "symbol": "circle"
         },
         "mode": "lines",
         "name": "sat",
         "orientation": "h",
         "showlegend": false,
         "stackgroup": "1",
         "type": "scatter",
         "x": [
          0
         ],
         "xaxis": "x",
         "y": [
          "sat"
         ],
         "yaxis": "y"
        },
        {
         "fillpattern": {
          "shape": ""
         },
         "hovertemplate": "day=%{y}<br>temp=23.3<br>rain=%{x}<extra></extra>",
         "legendgroup": "sat",
         "line": {
          "color": "#00cc96"
         },
         "marker": {
          "symbol": "circle"
         },
         "mode": "lines",
         "name": "sat",
         "orientation": "h",
         "showlegend": false,
         "stackgroup": "1",
         "type": "scatter",
         "x": [
          0
         ],
         "xaxis": "x",
         "y": [
          "sat"
         ],
         "yaxis": "y"
        },
        {
         "fillpattern": {
          "shape": ""
         },
         "hovertemplate": "day=%{y}<br>temp=18.4<br>rain=%{x}<extra></extra>",
         "legendgroup": "sat",
         "line": {
          "color": "#00cc96"
         },
         "marker": {
          "symbol": "circle"
         },
         "mode": "lines",
         "name": "sat",
         "orientation": "h",
         "showlegend": false,
         "stackgroup": "1",
         "type": "scatter",
         "x": [
          0,
          0
         ],
         "xaxis": "x",
         "y": [
          "sat",
          "sat"
         ],
         "yaxis": "y"
        },
        {
         "fillpattern": {
          "shape": ""
         },
         "hovertemplate": "day=%{y}<br>temp=16.6<br>rain=%{x}<extra></extra>",
         "legendgroup": "sat",
         "line": {
          "color": "#00cc96"
         },
         "marker": {
          "symbol": "circle"
         },
         "mode": "lines",
         "name": "sat",
         "orientation": "h",
         "showlegend": false,
         "stackgroup": "1",
         "type": "scatter",
         "x": [
          0
         ],
         "xaxis": "x",
         "y": [
          "sat"
         ],
         "yaxis": "y"
        },
        {
         "fillpattern": {
          "shape": ""
         },
         "hovertemplate": "day=%{y}<br>temp=19.6<br>rain=%{x}<extra></extra>",
         "legendgroup": "sat",
         "line": {
          "color": "#00cc96"
         },
         "marker": {
          "symbol": "circle"
         },
         "mode": "lines",
         "name": "sat",
         "orientation": "h",
         "showlegend": false,
         "stackgroup": "1",
         "type": "scatter",
         "x": [
          0
         ],
         "xaxis": "x",
         "y": [
          "sat"
         ],
         "yaxis": "y"
        },
        {
         "fillpattern": {
          "shape": ""
         },
         "hovertemplate": "day=%{y}<br>temp=25.9<br>rain=%{x}<extra></extra>",
         "legendgroup": "sat",
         "line": {
          "color": "#00cc96"
         },
         "marker": {
          "symbol": "circle"
         },
         "mode": "lines",
         "name": "sat",
         "orientation": "h",
         "showlegend": false,
         "stackgroup": "1",
         "type": "scatter",
         "x": [
          0
         ],
         "xaxis": "x",
         "y": [
          "sat"
         ],
         "yaxis": "y"
        },
        {
         "fillpattern": {
          "shape": ""
         },
         "hovertemplate": "day=%{y}<br>temp=14.7<br>rain=%{x}<extra></extra>",
         "legendgroup": "sat",
         "line": {
          "color": "#00cc96"
         },
         "marker": {
          "symbol": "circle"
         },
         "mode": "lines",
         "name": "sat",
         "orientation": "h",
         "showlegend": false,
         "stackgroup": "1",
         "type": "scatter",
         "x": [
          0
         ],
         "xaxis": "x",
         "y": [
          "sat"
         ],
         "yaxis": "y"
        },
        {
         "fillpattern": {
          "shape": ""
         },
         "hovertemplate": "day=%{y}<br>temp=21.5<br>rain=%{x}<extra></extra>",
         "legendgroup": "sat",
         "line": {
          "color": "#00cc96"
         },
         "marker": {
          "symbol": "circle"
         },
         "mode": "lines",
         "name": "sat",
         "orientation": "h",
         "showlegend": false,
         "stackgroup": "1",
         "type": "scatter",
         "x": [
          0
         ],
         "xaxis": "x",
         "y": [
          "sat"
         ],
         "yaxis": "y"
        },
        {
         "fillpattern": {
          "shape": ""
         },
         "hovertemplate": "day=%{y}<br>temp=17.6<br>rain=%{x}<extra></extra>",
         "legendgroup": "sat",
         "line": {
          "color": "#00cc96"
         },
         "marker": {
          "symbol": "circle"
         },
         "mode": "lines",
         "name": "sat",
         "orientation": "h",
         "showlegend": false,
         "stackgroup": "1",
         "type": "scatter",
         "x": [
          0
         ],
         "xaxis": "x",
         "y": [
          "sat"
         ],
         "yaxis": "y"
        },
        {
         "fillpattern": {
          "shape": ""
         },
         "hovertemplate": "day=%{y}<br>temp=25.3<br>rain=%{x}<extra></extra>",
         "legendgroup": "sat",
         "line": {
          "color": "#00cc96"
         },
         "marker": {
          "symbol": "circle"
         },
         "mode": "lines",
         "name": "sat",
         "orientation": "h",
         "showlegend": false,
         "stackgroup": "1",
         "type": "scatter",
         "x": [
          0
         ],
         "xaxis": "x",
         "y": [
          "sat"
         ],
         "yaxis": "y"
        },
        {
         "fillpattern": {
          "shape": ""
         },
         "hovertemplate": "day=%{y}<br>temp=17.4<br>rain=%{x}<extra></extra>",
         "legendgroup": "sat",
         "line": {
          "color": "#00cc96"
         },
         "marker": {
          "symbol": "circle"
         },
         "mode": "lines",
         "name": "sat",
         "orientation": "h",
         "showlegend": false,
         "stackgroup": "1",
         "type": "scatter",
         "x": [
          0,
          0
         ],
         "xaxis": "x",
         "y": [
          "sat",
          "sat"
         ],
         "yaxis": "y"
        },
        {
         "fillpattern": {
          "shape": ""
         },
         "hovertemplate": "day=%{y}<br>temp=12.7<br>rain=%{x}<extra></extra>",
         "legendgroup": "sat",
         "line": {
          "color": "#00cc96"
         },
         "marker": {
          "symbol": "circle"
         },
         "mode": "lines",
         "name": "sat",
         "orientation": "h",
         "showlegend": false,
         "stackgroup": "1",
         "type": "scatter",
         "x": [
          0
         ],
         "xaxis": "x",
         "y": [
          "sat"
         ],
         "yaxis": "y"
        },
        {
         "fillpattern": {
          "shape": ""
         },
         "hovertemplate": "day=%{y}<br>temp=11.6<br>rain=%{x}<extra></extra>",
         "legendgroup": "sat",
         "line": {
          "color": "#00cc96"
         },
         "marker": {
          "symbol": "circle"
         },
         "mode": "lines",
         "name": "sat",
         "orientation": "h",
         "showlegend": false,
         "stackgroup": "1",
         "type": "scatter",
         "x": [
          0
         ],
         "xaxis": "x",
         "y": [
          "sat"
         ],
         "yaxis": "y"
        },
        {
         "fillpattern": {
          "shape": ""
         },
         "hovertemplate": "day=%{y}<br>temp=20.1<br>rain=%{x}<extra></extra>",
         "legendgroup": "sat",
         "line": {
          "color": "#00cc96"
         },
         "marker": {
          "symbol": "circle"
         },
         "mode": "lines",
         "name": "sat",
         "orientation": "h",
         "showlegend": false,
         "stackgroup": "1",
         "type": "scatter",
         "x": [
          0
         ],
         "xaxis": "x",
         "y": [
          "sat"
         ],
         "yaxis": "y"
        },
        {
         "fillpattern": {
          "shape": ""
         },
         "hovertemplate": "day=%{y}<br>temp=5.3<br>rain=%{x}<extra></extra>",
         "legendgroup": "sat",
         "line": {
          "color": "#00cc96"
         },
         "marker": {
          "symbol": "circle"
         },
         "mode": "lines",
         "name": "sat",
         "orientation": "h",
         "showlegend": false,
         "stackgroup": "1",
         "type": "scatter",
         "x": [
          0
         ],
         "xaxis": "x",
         "y": [
          "sat"
         ],
         "yaxis": "y"
        },
        {
         "fillpattern": {
          "shape": ""
         },
         "hovertemplate": "day=%{y}<br>temp=21.4<br>rain=%{x}<extra></extra>",
         "legendgroup": "sat",
         "line": {
          "color": "#00cc96"
         },
         "marker": {
          "symbol": "circle"
         },
         "mode": "lines",
         "name": "sat",
         "orientation": "h",
         "showlegend": false,
         "stackgroup": "1",
         "type": "scatter",
         "x": [
          0
         ],
         "xaxis": "x",
         "y": [
          "sat"
         ],
         "yaxis": "y"
        },
        {
         "fillpattern": {
          "shape": ""
         },
         "hovertemplate": "day=%{y}<br>temp=20.3<br>rain=%{x}<extra></extra>",
         "legendgroup": "sat",
         "line": {
          "color": "#00cc96"
         },
         "marker": {
          "symbol": "circle"
         },
         "mode": "lines",
         "name": "sat",
         "orientation": "h",
         "showlegend": false,
         "stackgroup": "1",
         "type": "scatter",
         "x": [
          0,
          0
         ],
         "xaxis": "x",
         "y": [
          "sat",
          "sat"
         ],
         "yaxis": "y"
        },
        {
         "fillpattern": {
          "shape": ""
         },
         "hovertemplate": "day=%{y}<br>temp=18.9<br>rain=%{x}<extra></extra>",
         "legendgroup": "sat",
         "line": {
          "color": "#00cc96"
         },
         "marker": {
          "symbol": "circle"
         },
         "mode": "lines",
         "name": "sat",
         "orientation": "h",
         "showlegend": false,
         "stackgroup": "1",
         "type": "scatter",
         "x": [
          0,
          0,
          0
         ],
         "xaxis": "x",
         "y": [
          "sat",
          "sat",
          "sat"
         ],
         "yaxis": "y"
        },
        {
         "fillpattern": {
          "shape": ""
         },
         "hovertemplate": "day=%{y}<br>temp=15.5<br>rain=%{x}<extra></extra>",
         "legendgroup": "sat",
         "line": {
          "color": "#00cc96"
         },
         "marker": {
          "symbol": "circle"
         },
         "mode": "lines",
         "name": "sat",
         "orientation": "h",
         "showlegend": false,
         "stackgroup": "1",
         "type": "scatter",
         "x": [
          0
         ],
         "xaxis": "x",
         "y": [
          "sat"
         ],
         "yaxis": "y"
        },
        {
         "fillpattern": {
          "shape": ""
         },
         "hovertemplate": "day=%{y}<br>temp=15.2<br>rain=%{x}<extra></extra>",
         "legendgroup": "sat",
         "line": {
          "color": "#00cc96"
         },
         "marker": {
          "symbol": "circle"
         },
         "mode": "lines",
         "name": "sat",
         "orientation": "h",
         "showlegend": false,
         "stackgroup": "1",
         "type": "scatter",
         "x": [
          0,
          0
         ],
         "xaxis": "x",
         "y": [
          "sat",
          "sat"
         ],
         "yaxis": "y"
        },
        {
         "fillpattern": {
          "shape": ""
         },
         "hovertemplate": "day=%{y}<br>temp=10.6<br>rain=%{x}<extra></extra>",
         "legendgroup": "sat",
         "line": {
          "color": "#00cc96"
         },
         "marker": {
          "symbol": "circle"
         },
         "mode": "lines",
         "name": "sat",
         "orientation": "h",
         "showlegend": false,
         "stackgroup": "1",
         "type": "scatter",
         "x": [
          0
         ],
         "xaxis": "x",
         "y": [
          "sat"
         ],
         "yaxis": "y"
        },
        {
         "fillpattern": {
          "shape": ""
         },
         "hovertemplate": "day=%{y}<br>temp=17.1<br>rain=%{x}<extra></extra>",
         "legendgroup": "sat",
         "line": {
          "color": "#00cc96"
         },
         "marker": {
          "symbol": "circle"
         },
         "mode": "lines",
         "name": "sat",
         "orientation": "h",
         "showlegend": false,
         "stackgroup": "1",
         "type": "scatter",
         "x": [
          0
         ],
         "xaxis": "x",
         "y": [
          "sat"
         ],
         "yaxis": "y"
        },
        {
         "fillpattern": {
          "shape": ""
         },
         "hovertemplate": "day=%{y}<br>temp=15.4<br>rain=%{x}<extra></extra>",
         "legendgroup": "sat",
         "line": {
          "color": "#00cc96"
         },
         "marker": {
          "symbol": "circle"
         },
         "mode": "lines",
         "name": "sat",
         "orientation": "h",
         "showlegend": false,
         "stackgroup": "1",
         "type": "scatter",
         "x": [
          0,
          0
         ],
         "xaxis": "x",
         "y": [
          "sat",
          "sat"
         ],
         "yaxis": "y"
        },
        {
         "fillpattern": {
          "shape": ""
         },
         "hovertemplate": "day=%{y}<br>temp=21.9<br>rain=%{x}<extra></extra>",
         "legendgroup": "sat",
         "line": {
          "color": "#00cc96"
         },
         "marker": {
          "symbol": "circle"
         },
         "mode": "lines",
         "name": "sat",
         "orientation": "h",
         "showlegend": false,
         "stackgroup": "1",
         "type": "scatter",
         "x": [
          0
         ],
         "xaxis": "x",
         "y": [
          "sat"
         ],
         "yaxis": "y"
        },
        {
         "fillpattern": {
          "shape": ""
         },
         "hovertemplate": "day=%{y}<br>temp=23.8<br>rain=%{x}<extra></extra>",
         "legendgroup": "sat",
         "line": {
          "color": "#00cc96"
         },
         "marker": {
          "symbol": "circle"
         },
         "mode": "lines",
         "name": "sat",
         "orientation": "h",
         "showlegend": false,
         "stackgroup": "1",
         "type": "scatter",
         "x": [
          0
         ],
         "xaxis": "x",
         "y": [
          "sat"
         ],
         "yaxis": "y"
        },
        {
         "fillpattern": {
          "shape": ""
         },
         "hovertemplate": "day=%{y}<br>temp=24.2<br>rain=%{x}<extra></extra>",
         "legendgroup": "sat",
         "line": {
          "color": "#00cc96"
         },
         "marker": {
          "symbol": "circle"
         },
         "mode": "lines",
         "name": "sat",
         "orientation": "h",
         "showlegend": false,
         "stackgroup": "1",
         "type": "scatter",
         "x": [
          0,
          0,
          0
         ],
         "xaxis": "x",
         "y": [
          "sat",
          "sat",
          "sat"
         ],
         "yaxis": "y"
        },
        {
         "fillpattern": {
          "shape": ""
         },
         "hovertemplate": "day=%{y}<br>temp=24.6<br>rain=%{x}<extra></extra>",
         "legendgroup": "sat",
         "line": {
          "color": "#00cc96"
         },
         "marker": {
          "symbol": "circle"
         },
         "mode": "lines",
         "name": "sat",
         "orientation": "h",
         "showlegend": false,
         "stackgroup": "1",
         "type": "scatter",
         "x": [
          0
         ],
         "xaxis": "x",
         "y": [
          "sat"
         ],
         "yaxis": "y"
        },
        {
         "fillpattern": {
          "shape": ""
         },
         "hovertemplate": "day=%{y}<br>temp=29.6<br>rain=%{x}<extra></extra>",
         "legendgroup": "sat",
         "line": {
          "color": "#00cc96"
         },
         "marker": {
          "symbol": "circle"
         },
         "mode": "lines",
         "name": "sat",
         "orientation": "h",
         "showlegend": false,
         "stackgroup": "1",
         "type": "scatter",
         "x": [
          0
         ],
         "xaxis": "x",
         "y": [
          "sat"
         ],
         "yaxis": "y"
        },
        {
         "fillpattern": {
          "shape": ""
         },
         "hovertemplate": "day=%{y}<br>temp=16.4<br>rain=%{x}<extra></extra>",
         "legendgroup": "sat",
         "line": {
          "color": "#00cc96"
         },
         "marker": {
          "symbol": "circle"
         },
         "mode": "lines",
         "name": "sat",
         "orientation": "h",
         "showlegend": false,
         "stackgroup": "1",
         "type": "scatter",
         "x": [
          0
         ],
         "xaxis": "x",
         "y": [
          "sat"
         ],
         "yaxis": "y"
        },
        {
         "fillpattern": {
          "shape": ""
         },
         "hovertemplate": "day=%{y}<br>temp=28.6<br>rain=%{x}<extra></extra>",
         "legendgroup": "sat",
         "line": {
          "color": "#00cc96"
         },
         "marker": {
          "symbol": "circle"
         },
         "mode": "lines",
         "name": "sat",
         "orientation": "h",
         "showlegend": false,
         "stackgroup": "1",
         "type": "scatter",
         "x": [
          0
         ],
         "xaxis": "x",
         "y": [
          "sat"
         ],
         "yaxis": "y"
        },
        {
         "fillpattern": {
          "shape": ""
         },
         "hovertemplate": "day=%{y}<br>temp=14.2<br>rain=%{x}<extra></extra>",
         "legendgroup": "sat",
         "line": {
          "color": "#00cc96"
         },
         "marker": {
          "symbol": "circle"
         },
         "mode": "lines",
         "name": "sat",
         "orientation": "h",
         "showlegend": false,
         "stackgroup": "1",
         "type": "scatter",
         "x": [
          0,
          0,
          0
         ],
         "xaxis": "x",
         "y": [
          "sat",
          "sat",
          "sat"
         ],
         "yaxis": "y"
        },
        {
         "fillpattern": {
          "shape": ""
         },
         "hovertemplate": "day=%{y}<br>temp=23.9<br>rain=%{x}<extra></extra>",
         "legendgroup": "sat",
         "line": {
          "color": "#00cc96"
         },
         "marker": {
          "symbol": "circle"
         },
         "mode": "lines",
         "name": "sat",
         "orientation": "h",
         "showlegend": false,
         "stackgroup": "1",
         "type": "scatter",
         "x": [
          0
         ],
         "xaxis": "x",
         "y": [
          "sat"
         ],
         "yaxis": "y"
        },
        {
         "fillpattern": {
          "shape": ""
         },
         "hovertemplate": "day=%{y}<br>temp=16.8<br>rain=%{x}<extra></extra>",
         "legendgroup": "sat",
         "line": {
          "color": "#00cc96"
         },
         "marker": {
          "symbol": "circle"
         },
         "mode": "lines",
         "name": "sat",
         "orientation": "h",
         "showlegend": false,
         "stackgroup": "1",
         "type": "scatter",
         "x": [
          0
         ],
         "xaxis": "x",
         "y": [
          "sat"
         ],
         "yaxis": "y"
        },
        {
         "fillpattern": {
          "shape": ""
         },
         "hovertemplate": "day=%{y}<br>temp=13.3<br>rain=%{x}<extra></extra>",
         "legendgroup": "sat",
         "line": {
          "color": "#00cc96"
         },
         "marker": {
          "symbol": "circle"
         },
         "mode": "lines",
         "name": "sat",
         "orientation": "h",
         "showlegend": false,
         "stackgroup": "1",
         "type": "scatter",
         "x": [
          0
         ],
         "xaxis": "x",
         "y": [
          "sat"
         ],
         "yaxis": "y"
        },
        {
         "fillpattern": {
          "shape": ""
         },
         "hovertemplate": "day=%{y}<br>temp=24.3<br>rain=%{x}<extra></extra>",
         "legendgroup": "sat",
         "line": {
          "color": "#00cc96"
         },
         "marker": {
          "symbol": "circle"
         },
         "mode": "lines",
         "name": "sat",
         "orientation": "h",
         "showlegend": false,
         "stackgroup": "1",
         "type": "scatter",
         "x": [
          0
         ],
         "xaxis": "x",
         "y": [
          "sat"
         ],
         "yaxis": "y"
        },
        {
         "fillpattern": {
          "shape": ""
         },
         "hovertemplate": "day=%{y}<br>temp=23.5<br>rain=%{x}<extra></extra>",
         "legendgroup": "sat",
         "line": {
          "color": "#00cc96"
         },
         "marker": {
          "symbol": "circle"
         },
         "mode": "lines",
         "name": "sat",
         "orientation": "h",
         "showlegend": false,
         "stackgroup": "1",
         "type": "scatter",
         "x": [
          0
         ],
         "xaxis": "x",
         "y": [
          "sat"
         ],
         "yaxis": "y"
        },
        {
         "fillpattern": {
          "shape": ""
         },
         "hovertemplate": "day=%{y}<br>temp=22.1<br>rain=%{x}<extra></extra>",
         "legendgroup": "sat",
         "line": {
          "color": "#00cc96"
         },
         "marker": {
          "symbol": "circle"
         },
         "mode": "lines",
         "name": "sat",
         "orientation": "h",
         "showlegend": false,
         "stackgroup": "1",
         "type": "scatter",
         "x": [
          0
         ],
         "xaxis": "x",
         "y": [
          "sat"
         ],
         "yaxis": "y"
        },
        {
         "fillpattern": {
          "shape": ""
         },
         "hovertemplate": "day=%{y}<br>temp=5.1<br>rain=%{x}<extra></extra>",
         "legendgroup": "sat",
         "line": {
          "color": "#00cc96"
         },
         "marker": {
          "symbol": "circle"
         },
         "mode": "lines",
         "name": "sat",
         "orientation": "h",
         "showlegend": false,
         "stackgroup": "1",
         "type": "scatter",
         "x": [
          0
         ],
         "xaxis": "x",
         "y": [
          "sat"
         ],
         "yaxis": "y"
        },
        {
         "fillpattern": {
          "shape": ""
         },
         "hovertemplate": "day=%{y}<br>temp=18.7<br>rain=%{x}<extra></extra>",
         "legendgroup": "sat",
         "line": {
          "color": "#00cc96"
         },
         "marker": {
          "symbol": "circle"
         },
         "mode": "lines",
         "name": "sat",
         "orientation": "h",
         "showlegend": false,
         "stackgroup": "1",
         "type": "scatter",
         "x": [
          0
         ],
         "xaxis": "x",
         "y": [
          "sat"
         ],
         "yaxis": "y"
        },
        {
         "fillpattern": {
          "shape": ""
         },
         "hovertemplate": "day=%{y}<br>temp=25.1<br>rain=%{x}<extra></extra>",
         "legendgroup": "sat",
         "line": {
          "color": "#00cc96"
         },
         "marker": {
          "symbol": "circle"
         },
         "mode": "lines",
         "name": "sat",
         "orientation": "h",
         "showlegend": false,
         "stackgroup": "1",
         "type": "scatter",
         "x": [
          0
         ],
         "xaxis": "x",
         "y": [
          "sat"
         ],
         "yaxis": "y"
        },
        {
         "fillpattern": {
          "shape": ""
         },
         "hovertemplate": "day=%{y}<br>temp=22.3<br>rain=%{x}<extra></extra>",
         "legendgroup": "sat",
         "line": {
          "color": "#00cc96"
         },
         "marker": {
          "symbol": "circle"
         },
         "mode": "lines",
         "name": "sat",
         "orientation": "h",
         "showlegend": false,
         "stackgroup": "1",
         "type": "scatter",
         "x": [
          0
         ],
         "xaxis": "x",
         "y": [
          "sat"
         ],
         "yaxis": "y"
        },
        {
         "fillpattern": {
          "shape": ""
         },
         "hovertemplate": "day=%{y}<br>temp=4.6<br>rain=%{x}<extra></extra>",
         "legendgroup": "sat",
         "line": {
          "color": "#00cc96"
         },
         "marker": {
          "symbol": "circle"
         },
         "mode": "lines",
         "name": "sat",
         "orientation": "h",
         "showlegend": false,
         "stackgroup": "1",
         "type": "scatter",
         "x": [
          0
         ],
         "xaxis": "x",
         "y": [
          "sat"
         ],
         "yaxis": "y"
        },
        {
         "fillpattern": {
          "shape": ""
         },
         "hovertemplate": "day=%{y}<br>temp=26.9<br>rain=%{x}<extra></extra>",
         "legendgroup": "sat",
         "line": {
          "color": "#00cc96"
         },
         "marker": {
          "symbol": "circle"
         },
         "mode": "lines",
         "name": "sat",
         "orientation": "h",
         "showlegend": false,
         "stackgroup": "1",
         "type": "scatter",
         "x": [
          0
         ],
         "xaxis": "x",
         "y": [
          "sat"
         ],
         "yaxis": "y"
        },
        {
         "fillpattern": {
          "shape": ""
         },
         "hovertemplate": "day=%{y}<br>temp=19.7<br>rain=%{x}<extra></extra>",
         "legendgroup": "sat",
         "line": {
          "color": "#00cc96"
         },
         "marker": {
          "symbol": "circle"
         },
         "mode": "lines",
         "name": "sat",
         "orientation": "h",
         "showlegend": false,
         "stackgroup": "1",
         "type": "scatter",
         "x": [
          0
         ],
         "xaxis": "x",
         "y": [
          "sat"
         ],
         "yaxis": "y"
        },
        {
         "fillpattern": {
          "shape": ""
         },
         "hovertemplate": "day=%{y}<br>temp=30.8<br>rain=%{x}<extra></extra>",
         "legendgroup": "sat",
         "line": {
          "color": "#00cc96"
         },
         "marker": {
          "symbol": "circle"
         },
         "mode": "lines",
         "name": "sat",
         "orientation": "h",
         "showlegend": false,
         "stackgroup": "1",
         "type": "scatter",
         "x": [
          0
         ],
         "xaxis": "x",
         "y": [
          "sat"
         ],
         "yaxis": "y"
        },
        {
         "fillpattern": {
          "shape": ""
         },
         "hovertemplate": "day=%{y}<br>temp=23.6<br>rain=%{x}<extra></extra>",
         "legendgroup": "sat",
         "line": {
          "color": "#00cc96"
         },
         "marker": {
          "symbol": "circle"
         },
         "mode": "lines",
         "name": "sat",
         "orientation": "h",
         "showlegend": false,
         "stackgroup": "1",
         "type": "scatter",
         "x": [
          0
         ],
         "xaxis": "x",
         "y": [
          "sat"
         ],
         "yaxis": "y"
        },
        {
         "fillpattern": {
          "shape": ""
         },
         "hovertemplate": "day=%{y}<br>temp=24.5<br>rain=%{x}<extra></extra>",
         "legendgroup": "sat",
         "line": {
          "color": "#00cc96"
         },
         "marker": {
          "symbol": "circle"
         },
         "mode": "lines",
         "name": "sat",
         "orientation": "h",
         "showlegend": false,
         "stackgroup": "1",
         "type": "scatter",
         "x": [
          0
         ],
         "xaxis": "x",
         "y": [
          "sat"
         ],
         "yaxis": "y"
        },
        {
         "fillpattern": {
          "shape": ""
         },
         "hovertemplate": "day=%{y}<br>temp=25.6<br>rain=%{x}<extra></extra>",
         "legendgroup": "sat",
         "line": {
          "color": "#00cc96"
         },
         "marker": {
          "symbol": "circle"
         },
         "mode": "lines",
         "name": "sat",
         "orientation": "h",
         "showlegend": false,
         "stackgroup": "1",
         "type": "scatter",
         "x": [
          0
         ],
         "xaxis": "x",
         "y": [
          "sat"
         ],
         "yaxis": "y"
        },
        {
         "fillpattern": {
          "shape": ""
         },
         "hovertemplate": "day=%{y}<br>temp=11.4<br>rain=%{x}<extra></extra>",
         "legendgroup": "sun",
         "line": {
          "color": "#ab63fa"
         },
         "marker": {
          "symbol": "circle"
         },
         "mode": "lines",
         "name": "sun",
         "orientation": "h",
         "showlegend": true,
         "stackgroup": "1",
         "type": "scatter",
         "x": [
          0
         ],
         "xaxis": "x",
         "y": [
          "sun"
         ],
         "yaxis": "y"
        },
        {
         "fillpattern": {
          "shape": ""
         },
         "hovertemplate": "day=%{y}<br>temp=22.2<br>rain=%{x}<extra></extra>",
         "legendgroup": "sun",
         "line": {
          "color": "#ab63fa"
         },
         "marker": {
          "symbol": "circle"
         },
         "mode": "lines",
         "name": "sun",
         "orientation": "h",
         "showlegend": false,
         "stackgroup": "1",
         "type": "scatter",
         "x": [
          0,
          0
         ],
         "xaxis": "x",
         "y": [
          "sun",
          "sun"
         ],
         "yaxis": "y"
        },
        {
         "fillpattern": {
          "shape": ""
         },
         "hovertemplate": "day=%{y}<br>temp=24.1<br>rain=%{x}<extra></extra>",
         "legendgroup": "sun",
         "line": {
          "color": "#ab63fa"
         },
         "marker": {
          "symbol": "circle"
         },
         "mode": "lines",
         "name": "sun",
         "orientation": "h",
         "showlegend": false,
         "stackgroup": "1",
         "type": "scatter",
         "x": [
          0
         ],
         "xaxis": "x",
         "y": [
          "sun"
         ],
         "yaxis": "y"
        },
        {
         "fillpattern": {
          "shape": ""
         },
         "hovertemplate": "day=%{y}<br>temp=22.8<br>rain=%{x}<extra></extra>",
         "legendgroup": "sun",
         "line": {
          "color": "#ab63fa"
         },
         "marker": {
          "symbol": "circle"
         },
         "mode": "lines",
         "name": "sun",
         "orientation": "h",
         "showlegend": false,
         "stackgroup": "1",
         "type": "scatter",
         "x": [
          0,
          0
         ],
         "xaxis": "x",
         "y": [
          "sun",
          "sun"
         ],
         "yaxis": "y"
        },
        {
         "fillpattern": {
          "shape": ""
         },
         "hovertemplate": "day=%{y}<br>temp=17.8<br>rain=%{x}<extra></extra>",
         "legendgroup": "sun",
         "line": {
          "color": "#ab63fa"
         },
         "marker": {
          "symbol": "circle"
         },
         "mode": "lines",
         "name": "sun",
         "orientation": "h",
         "showlegend": false,
         "stackgroup": "1",
         "type": "scatter",
         "x": [
          0,
          0
         ],
         "xaxis": "x",
         "y": [
          "sun",
          "sun"
         ],
         "yaxis": "y"
        },
        {
         "fillpattern": {
          "shape": ""
         },
         "hovertemplate": "day=%{y}<br>temp=19.3<br>rain=%{x}<extra></extra>",
         "legendgroup": "sun",
         "line": {
          "color": "#ab63fa"
         },
         "marker": {
          "symbol": "circle"
         },
         "mode": "lines",
         "name": "sun",
         "orientation": "h",
         "showlegend": false,
         "stackgroup": "1",
         "type": "scatter",
         "x": [
          0
         ],
         "xaxis": "x",
         "y": [
          "sun"
         ],
         "yaxis": "y"
        },
        {
         "fillpattern": {
          "shape": ""
         },
         "hovertemplate": "day=%{y}<br>temp=22.9<br>rain=%{x}<extra></extra>",
         "legendgroup": "sun",
         "line": {
          "color": "#ab63fa"
         },
         "marker": {
          "symbol": "circle"
         },
         "mode": "lines",
         "name": "sun",
         "orientation": "h",
         "showlegend": false,
         "stackgroup": "1",
         "type": "scatter",
         "x": [
          0
         ],
         "xaxis": "x",
         "y": [
          "sun"
         ],
         "yaxis": "y"
        },
        {
         "fillpattern": {
          "shape": ""
         },
         "hovertemplate": "day=%{y}<br>temp=19.1<br>rain=%{x}<extra></extra>",
         "legendgroup": "sun",
         "line": {
          "color": "#ab63fa"
         },
         "marker": {
          "symbol": "circle"
         },
         "mode": "lines",
         "name": "sun",
         "orientation": "h",
         "showlegend": false,
         "stackgroup": "1",
         "type": "scatter",
         "x": [
          0
         ],
         "xaxis": "x",
         "y": [
          "sun"
         ],
         "yaxis": "y"
        },
        {
         "fillpattern": {
          "shape": ""
         },
         "hovertemplate": "day=%{y}<br>temp=21.0<br>rain=%{x}<extra></extra>",
         "legendgroup": "sun",
         "line": {
          "color": "#ab63fa"
         },
         "marker": {
          "symbol": "circle"
         },
         "mode": "lines",
         "name": "sun",
         "orientation": "h",
         "showlegend": false,
         "stackgroup": "1",
         "type": "scatter",
         "x": [
          0
         ],
         "xaxis": "x",
         "y": [
          "sun"
         ],
         "yaxis": "y"
        },
        {
         "fillpattern": {
          "shape": ""
         },
         "hovertemplate": "day=%{y}<br>temp=19.5<br>rain=%{x}<extra></extra>",
         "legendgroup": "sun",
         "line": {
          "color": "#ab63fa"
         },
         "marker": {
          "symbol": "circle"
         },
         "mode": "lines",
         "name": "sun",
         "orientation": "h",
         "showlegend": false,
         "stackgroup": "1",
         "type": "scatter",
         "x": [
          0
         ],
         "xaxis": "x",
         "y": [
          "sun"
         ],
         "yaxis": "y"
        },
        {
         "fillpattern": {
          "shape": ""
         },
         "hovertemplate": "day=%{y}<br>temp=16.3<br>rain=%{x}<extra></extra>",
         "legendgroup": "sun",
         "line": {
          "color": "#ab63fa"
         },
         "marker": {
          "symbol": "circle"
         },
         "mode": "lines",
         "name": "sun",
         "orientation": "h",
         "showlegend": false,
         "stackgroup": "1",
         "type": "scatter",
         "x": [
          0
         ],
         "xaxis": "x",
         "y": [
          "sun"
         ],
         "yaxis": "y"
        },
        {
         "fillpattern": {
          "shape": ""
         },
         "hovertemplate": "day=%{y}<br>temp=19.0<br>rain=%{x}<extra></extra>",
         "legendgroup": "sun",
         "line": {
          "color": "#ab63fa"
         },
         "marker": {
          "symbol": "circle"
         },
         "mode": "lines",
         "name": "sun",
         "orientation": "h",
         "showlegend": false,
         "stackgroup": "1",
         "type": "scatter",
         "x": [
          0
         ],
         "xaxis": "x",
         "y": [
          "sun"
         ],
         "yaxis": "y"
        },
        {
         "fillpattern": {
          "shape": ""
         },
         "hovertemplate": "day=%{y}<br>temp=20.6<br>rain=%{x}<extra></extra>",
         "legendgroup": "sun",
         "line": {
          "color": "#ab63fa"
         },
         "marker": {
          "symbol": "circle"
         },
         "mode": "lines",
         "name": "sun",
         "orientation": "h",
         "showlegend": false,
         "stackgroup": "1",
         "type": "scatter",
         "x": [
          0,
          0
         ],
         "xaxis": "x",
         "y": [
          "sun",
          "sun"
         ],
         "yaxis": "y"
        },
        {
         "fillpattern": {
          "shape": ""
         },
         "hovertemplate": "day=%{y}<br>temp=17.7<br>rain=%{x}<extra></extra>",
         "legendgroup": "sun",
         "line": {
          "color": "#ab63fa"
         },
         "marker": {
          "symbol": "circle"
         },
         "mode": "lines",
         "name": "sun",
         "orientation": "h",
         "showlegend": false,
         "stackgroup": "1",
         "type": "scatter",
         "x": [
          0
         ],
         "xaxis": "x",
         "y": [
          "sun"
         ],
         "yaxis": "y"
        },
        {
         "fillpattern": {
          "shape": ""
         },
         "hovertemplate": "day=%{y}<br>temp=21.2<br>rain=%{x}<extra></extra>",
         "legendgroup": "sun",
         "line": {
          "color": "#ab63fa"
         },
         "marker": {
          "symbol": "circle"
         },
         "mode": "lines",
         "name": "sun",
         "orientation": "h",
         "showlegend": false,
         "stackgroup": "1",
         "type": "scatter",
         "x": [
          0
         ],
         "xaxis": "x",
         "y": [
          "sun"
         ],
         "yaxis": "y"
        },
        {
         "fillpattern": {
          "shape": ""
         },
         "hovertemplate": "day=%{y}<br>temp=18.2<br>rain=%{x}<extra></extra>",
         "legendgroup": "sun",
         "line": {
          "color": "#ab63fa"
         },
         "marker": {
          "symbol": "circle"
         },
         "mode": "lines",
         "name": "sun",
         "orientation": "h",
         "showlegend": false,
         "stackgroup": "1",
         "type": "scatter",
         "x": [
          0,
          0
         ],
         "xaxis": "x",
         "y": [
          "sun",
          "sun"
         ],
         "yaxis": "y"
        },
        {
         "fillpattern": {
          "shape": ""
         },
         "hovertemplate": "day=%{y}<br>temp=19.6<br>rain=%{x}<extra></extra>",
         "legendgroup": "sun",
         "line": {
          "color": "#ab63fa"
         },
         "marker": {
          "symbol": "circle"
         },
         "mode": "lines",
         "name": "sun",
         "orientation": "h",
         "showlegend": false,
         "stackgroup": "1",
         "type": "scatter",
         "x": [
          0
         ],
         "xaxis": "x",
         "y": [
          "sun"
         ],
         "yaxis": "y"
        },
        {
         "fillpattern": {
          "shape": ""
         },
         "hovertemplate": "day=%{y}<br>temp=20.8<br>rain=%{x}<extra></extra>",
         "legendgroup": "sun",
         "line": {
          "color": "#ab63fa"
         },
         "marker": {
          "symbol": "circle"
         },
         "mode": "lines",
         "name": "sun",
         "orientation": "h",
         "showlegend": false,
         "stackgroup": "1",
         "type": "scatter",
         "x": [
          0,
          0
         ],
         "xaxis": "x",
         "y": [
          "sun",
          "sun"
         ],
         "yaxis": "y"
        },
        {
         "fillpattern": {
          "shape": ""
         },
         "hovertemplate": "day=%{y}<br>temp=21.5<br>rain=%{x}<extra></extra>",
         "legendgroup": "sun",
         "line": {
          "color": "#ab63fa"
         },
         "marker": {
          "symbol": "circle"
         },
         "mode": "lines",
         "name": "sun",
         "orientation": "h",
         "showlegend": false,
         "stackgroup": "1",
         "type": "scatter",
         "x": [
          0
         ],
         "xaxis": "x",
         "y": [
          "sun"
         ],
         "yaxis": "y"
        },
        {
         "fillpattern": {
          "shape": ""
         },
         "hovertemplate": "day=%{y}<br>temp=20.4<br>rain=%{x}<extra></extra>",
         "legendgroup": "sun",
         "line": {
          "color": "#ab63fa"
         },
         "marker": {
          "symbol": "circle"
         },
         "mode": "lines",
         "name": "sun",
         "orientation": "h",
         "showlegend": false,
         "stackgroup": "1",
         "type": "scatter",
         "x": [
          0
         ],
         "xaxis": "x",
         "y": [
          "sun"
         ],
         "yaxis": "y"
        },
        {
         "fillpattern": {
          "shape": ""
         },
         "hovertemplate": "day=%{y}<br>temp=17.6<br>rain=%{x}<extra></extra>",
         "legendgroup": "sun",
         "line": {
          "color": "#ab63fa"
         },
         "marker": {
          "symbol": "circle"
         },
         "mode": "lines",
         "name": "sun",
         "orientation": "h",
         "showlegend": false,
         "stackgroup": "1",
         "type": "scatter",
         "x": [
          0
         ],
         "xaxis": "x",
         "y": [
          "sun"
         ],
         "yaxis": "y"
        },
        {
         "fillpattern": {
          "shape": ""
         },
         "hovertemplate": "day=%{y}<br>temp=13.8<br>rain=%{x}<extra></extra>",
         "legendgroup": "sun",
         "line": {
          "color": "#ab63fa"
         },
         "marker": {
          "symbol": "circle"
         },
         "mode": "lines",
         "name": "sun",
         "orientation": "h",
         "showlegend": false,
         "stackgroup": "1",
         "type": "scatter",
         "x": [
          0,
          0,
          0
         ],
         "xaxis": "x",
         "y": [
          "sun",
          "sun",
          "sun"
         ],
         "yaxis": "y"
        },
        {
         "fillpattern": {
          "shape": ""
         },
         "hovertemplate": "day=%{y}<br>temp=11.5<br>rain=%{x}<extra></extra>",
         "legendgroup": "sun",
         "line": {
          "color": "#ab63fa"
         },
         "marker": {
          "symbol": "circle"
         },
         "mode": "lines",
         "name": "sun",
         "orientation": "h",
         "showlegend": false,
         "stackgroup": "1",
         "type": "scatter",
         "x": [
          0,
          0,
          0
         ],
         "xaxis": "x",
         "y": [
          "sun",
          "sun",
          "sun"
         ],
         "yaxis": "y"
        },
        {
         "fillpattern": {
          "shape": ""
         },
         "hovertemplate": "day=%{y}<br>temp=5.5<br>rain=%{x}<extra></extra>",
         "legendgroup": "sun",
         "line": {
          "color": "#ab63fa"
         },
         "marker": {
          "symbol": "circle"
         },
         "mode": "lines",
         "name": "sun",
         "orientation": "h",
         "showlegend": false,
         "stackgroup": "1",
         "type": "scatter",
         "x": [
          0
         ],
         "xaxis": "x",
         "y": [
          "sun"
         ],
         "yaxis": "y"
        },
        {
         "fillpattern": {
          "shape": ""
         },
         "hovertemplate": "day=%{y}<br>temp=17.2<br>rain=%{x}<extra></extra>",
         "legendgroup": "sun",
         "line": {
          "color": "#ab63fa"
         },
         "marker": {
          "symbol": "circle"
         },
         "mode": "lines",
         "name": "sun",
         "orientation": "h",
         "showlegend": false,
         "stackgroup": "1",
         "type": "scatter",
         "x": [
          0
         ],
         "xaxis": "x",
         "y": [
          "sun"
         ],
         "yaxis": "y"
        },
        {
         "fillpattern": {
          "shape": ""
         },
         "hovertemplate": "day=%{y}<br>temp=17.3<br>rain=%{x}<extra></extra>",
         "legendgroup": "sun",
         "line": {
          "color": "#ab63fa"
         },
         "marker": {
          "symbol": "circle"
         },
         "mode": "lines",
         "name": "sun",
         "orientation": "h",
         "showlegend": false,
         "stackgroup": "1",
         "type": "scatter",
         "x": [
          0
         ],
         "xaxis": "x",
         "y": [
          "sun"
         ],
         "yaxis": "y"
        },
        {
         "fillpattern": {
          "shape": ""
         },
         "hovertemplate": "day=%{y}<br>temp=17.9<br>rain=%{x}<extra></extra>",
         "legendgroup": "sun",
         "line": {
          "color": "#ab63fa"
         },
         "marker": {
          "symbol": "circle"
         },
         "mode": "lines",
         "name": "sun",
         "orientation": "h",
         "showlegend": false,
         "stackgroup": "1",
         "type": "scatter",
         "x": [
          0
         ],
         "xaxis": "x",
         "y": [
          "sun"
         ],
         "yaxis": "y"
        },
        {
         "fillpattern": {
          "shape": ""
         },
         "hovertemplate": "day=%{y}<br>temp=22.4<br>rain=%{x}<extra></extra>",
         "legendgroup": "sun",
         "line": {
          "color": "#ab63fa"
         },
         "marker": {
          "symbol": "circle"
         },
         "mode": "lines",
         "name": "sun",
         "orientation": "h",
         "showlegend": false,
         "stackgroup": "1",
         "type": "scatter",
         "x": [
          0
         ],
         "xaxis": "x",
         "y": [
          "sun"
         ],
         "yaxis": "y"
        },
        {
         "fillpattern": {
          "shape": ""
         },
         "hovertemplate": "day=%{y}<br>temp=25.3<br>rain=%{x}<extra></extra>",
         "legendgroup": "sun",
         "line": {
          "color": "#ab63fa"
         },
         "marker": {
          "symbol": "circle"
         },
         "mode": "lines",
         "name": "sun",
         "orientation": "h",
         "showlegend": false,
         "stackgroup": "1",
         "type": "scatter",
         "x": [
          0,
          0
         ],
         "xaxis": "x",
         "y": [
          "sun",
          "sun"
         ],
         "yaxis": "y"
        },
        {
         "fillpattern": {
          "shape": ""
         },
         "hovertemplate": "day=%{y}<br>temp=23.4<br>rain=%{x}<extra></extra>",
         "legendgroup": "sun",
         "line": {
          "color": "#ab63fa"
         },
         "marker": {
          "symbol": "circle"
         },
         "mode": "lines",
         "name": "sun",
         "orientation": "h",
         "showlegend": false,
         "stackgroup": "1",
         "type": "scatter",
         "x": [
          0,
          0
         ],
         "xaxis": "x",
         "y": [
          "sun",
          "sun"
         ],
         "yaxis": "y"
        },
        {
         "fillpattern": {
          "shape": ""
         },
         "hovertemplate": "day=%{y}<br>temp=11.6<br>rain=%{x}<extra></extra>",
         "legendgroup": "sun",
         "line": {
          "color": "#ab63fa"
         },
         "marker": {
          "symbol": "circle"
         },
         "mode": "lines",
         "name": "sun",
         "orientation": "h",
         "showlegend": false,
         "stackgroup": "1",
         "type": "scatter",
         "x": [
          0
         ],
         "xaxis": "x",
         "y": [
          "sun"
         ],
         "yaxis": "y"
        },
        {
         "fillpattern": {
          "shape": ""
         },
         "hovertemplate": "day=%{y}<br>temp=19.8<br>rain=%{x}<extra></extra>",
         "legendgroup": "sun",
         "line": {
          "color": "#ab63fa"
         },
         "marker": {
          "symbol": "circle"
         },
         "mode": "lines",
         "name": "sun",
         "orientation": "h",
         "showlegend": false,
         "stackgroup": "1",
         "type": "scatter",
         "x": [
          0,
          0
         ],
         "xaxis": "x",
         "y": [
          "sun",
          "sun"
         ],
         "yaxis": "y"
        },
        {
         "fillpattern": {
          "shape": ""
         },
         "hovertemplate": "day=%{y}<br>temp=20.1<br>rain=%{x}<extra></extra>",
         "legendgroup": "sun",
         "line": {
          "color": "#ab63fa"
         },
         "marker": {
          "symbol": "circle"
         },
         "mode": "lines",
         "name": "sun",
         "orientation": "h",
         "showlegend": false,
         "stackgroup": "1",
         "type": "scatter",
         "x": [
          0
         ],
         "xaxis": "x",
         "y": [
          "sun"
         ],
         "yaxis": "y"
        },
        {
         "fillpattern": {
          "shape": ""
         },
         "hovertemplate": "day=%{y}<br>temp=21.4<br>rain=%{x}<extra></extra>",
         "legendgroup": "sun",
         "line": {
          "color": "#ab63fa"
         },
         "marker": {
          "symbol": "circle"
         },
         "mode": "lines",
         "name": "sun",
         "orientation": "h",
         "showlegend": false,
         "stackgroup": "1",
         "type": "scatter",
         "x": [
          0
         ],
         "xaxis": "x",
         "y": [
          "sun"
         ],
         "yaxis": "y"
        },
        {
         "fillpattern": {
          "shape": ""
         },
         "hovertemplate": "day=%{y}<br>temp=13.7<br>rain=%{x}<extra></extra>",
         "legendgroup": "sun",
         "line": {
          "color": "#ab63fa"
         },
         "marker": {
          "symbol": "circle"
         },
         "mode": "lines",
         "name": "sun",
         "orientation": "h",
         "showlegend": false,
         "stackgroup": "1",
         "type": "scatter",
         "x": [
          0
         ],
         "xaxis": "x",
         "y": [
          "sun"
         ],
         "yaxis": "y"
        },
        {
         "fillpattern": {
          "shape": ""
         },
         "hovertemplate": "day=%{y}<br>temp=10.6<br>rain=%{x}<extra></extra>",
         "legendgroup": "sun",
         "line": {
          "color": "#ab63fa"
         },
         "marker": {
          "symbol": "circle"
         },
         "mode": "lines",
         "name": "sun",
         "orientation": "h",
         "showlegend": false,
         "stackgroup": "1",
         "type": "scatter",
         "x": [
          0
         ],
         "xaxis": "x",
         "y": [
          "sun"
         ],
         "yaxis": "y"
        },
        {
         "fillpattern": {
          "shape": ""
         },
         "hovertemplate": "day=%{y}<br>temp=17.1<br>rain=%{x}<extra></extra>",
         "legendgroup": "sun",
         "line": {
          "color": "#ab63fa"
         },
         "marker": {
          "symbol": "circle"
         },
         "mode": "lines",
         "name": "sun",
         "orientation": "h",
         "showlegend": false,
         "stackgroup": "1",
         "type": "scatter",
         "x": [
          0
         ],
         "xaxis": "x",
         "y": [
          "sun"
         ],
         "yaxis": "y"
        },
        {
         "fillpattern": {
          "shape": ""
         },
         "hovertemplate": "day=%{y}<br>temp=22.5<br>rain=%{x}<extra></extra>",
         "legendgroup": "sun",
         "line": {
          "color": "#ab63fa"
         },
         "marker": {
          "symbol": "circle"
         },
         "mode": "lines",
         "name": "sun",
         "orientation": "h",
         "showlegend": false,
         "stackgroup": "1",
         "type": "scatter",
         "x": [
          0
         ],
         "xaxis": "x",
         "y": [
          "sun"
         ],
         "yaxis": "y"
        },
        {
         "fillpattern": {
          "shape": ""
         },
         "hovertemplate": "day=%{y}<br>temp=15.4<br>rain=%{x}<extra></extra>",
         "legendgroup": "sun",
         "line": {
          "color": "#ab63fa"
         },
         "marker": {
          "symbol": "circle"
         },
         "mode": "lines",
         "name": "sun",
         "orientation": "h",
         "showlegend": false,
         "stackgroup": "1",
         "type": "scatter",
         "x": [
          0,
          0,
          0
         ],
         "xaxis": "x",
         "y": [
          "sun",
          "sun",
          "sun"
         ],
         "yaxis": "y"
        },
        {
         "fillpattern": {
          "shape": ""
         },
         "hovertemplate": "day=%{y}<br>temp=21.9<br>rain=%{x}<extra></extra>",
         "legendgroup": "sun",
         "line": {
          "color": "#ab63fa"
         },
         "marker": {
          "symbol": "circle"
         },
         "mode": "lines",
         "name": "sun",
         "orientation": "h",
         "showlegend": false,
         "stackgroup": "1",
         "type": "scatter",
         "x": [
          1,
          0,
          0
         ],
         "xaxis": "x",
         "y": [
          "sun",
          "sun",
          "sun"
         ],
         "yaxis": "y"
        },
        {
         "fillpattern": {
          "shape": ""
         },
         "hovertemplate": "day=%{y}<br>temp=23.8<br>rain=%{x}<extra></extra>",
         "legendgroup": "sun",
         "line": {
          "color": "#ab63fa"
         },
         "marker": {
          "symbol": "circle"
         },
         "mode": "lines",
         "name": "sun",
         "orientation": "h",
         "showlegend": false,
         "stackgroup": "1",
         "type": "scatter",
         "x": [
          0
         ],
         "xaxis": "x",
         "y": [
          "sun"
         ],
         "yaxis": "y"
        },
        {
         "fillpattern": {
          "shape": ""
         },
         "hovertemplate": "day=%{y}<br>temp=24.8<br>rain=%{x}<extra></extra>",
         "legendgroup": "sun",
         "line": {
          "color": "#ab63fa"
         },
         "marker": {
          "symbol": "circle"
         },
         "mode": "lines",
         "name": "sun",
         "orientation": "h",
         "showlegend": false,
         "stackgroup": "1",
         "type": "scatter",
         "x": [
          0,
          0,
          0
         ],
         "xaxis": "x",
         "y": [
          "sun",
          "sun",
          "sun"
         ],
         "yaxis": "y"
        },
        {
         "fillpattern": {
          "shape": ""
         },
         "hovertemplate": "day=%{y}<br>temp=24.6<br>rain=%{x}<extra></extra>",
         "legendgroup": "sun",
         "line": {
          "color": "#ab63fa"
         },
         "marker": {
          "symbol": "circle"
         },
         "mode": "lines",
         "name": "sun",
         "orientation": "h",
         "showlegend": false,
         "stackgroup": "1",
         "type": "scatter",
         "x": [
          0
         ],
         "xaxis": "x",
         "y": [
          "sun"
         ],
         "yaxis": "y"
        },
        {
         "fillpattern": {
          "shape": ""
         },
         "hovertemplate": "day=%{y}<br>temp=16.4<br>rain=%{x}<extra></extra>",
         "legendgroup": "sun",
         "line": {
          "color": "#ab63fa"
         },
         "marker": {
          "symbol": "circle"
         },
         "mode": "lines",
         "name": "sun",
         "orientation": "h",
         "showlegend": false,
         "stackgroup": "1",
         "type": "scatter",
         "x": [
          0
         ],
         "xaxis": "x",
         "y": [
          "sun"
         ],
         "yaxis": "y"
        },
        {
         "fillpattern": {
          "shape": ""
         },
         "hovertemplate": "day=%{y}<br>temp=19.2<br>rain=%{x}<extra></extra>",
         "legendgroup": "sun",
         "line": {
          "color": "#ab63fa"
         },
         "marker": {
          "symbol": "circle"
         },
         "mode": "lines",
         "name": "sun",
         "orientation": "h",
         "showlegend": false,
         "stackgroup": "1",
         "type": "scatter",
         "x": [
          0
         ],
         "xaxis": "x",
         "y": [
          "sun"
         ],
         "yaxis": "y"
        },
        {
         "fillpattern": {
          "shape": ""
         },
         "hovertemplate": "day=%{y}<br>temp=23.9<br>rain=%{x}<extra></extra>",
         "legendgroup": "sun",
         "line": {
          "color": "#ab63fa"
         },
         "marker": {
          "symbol": "circle"
         },
         "mode": "lines",
         "name": "sun",
         "orientation": "h",
         "showlegend": false,
         "stackgroup": "1",
         "type": "scatter",
         "x": [
          0
         ],
         "xaxis": "x",
         "y": [
          "sun"
         ],
         "yaxis": "y"
        },
        {
         "fillpattern": {
          "shape": ""
         },
         "hovertemplate": "day=%{y}<br>temp=12.4<br>rain=%{x}<extra></extra>",
         "legendgroup": "sun",
         "line": {
          "color": "#ab63fa"
         },
         "marker": {
          "symbol": "circle"
         },
         "mode": "lines",
         "name": "sun",
         "orientation": "h",
         "showlegend": false,
         "stackgroup": "1",
         "type": "scatter",
         "x": [
          0,
          0
         ],
         "xaxis": "x",
         "y": [
          "sun",
          "sun"
         ],
         "yaxis": "y"
        },
        {
         "fillpattern": {
          "shape": ""
         },
         "hovertemplate": "day=%{y}<br>temp=24.3<br>rain=%{x}<extra></extra>",
         "legendgroup": "sun",
         "line": {
          "color": "#ab63fa"
         },
         "marker": {
          "symbol": "circle"
         },
         "mode": "lines",
         "name": "sun",
         "orientation": "h",
         "showlegend": false,
         "stackgroup": "1",
         "type": "scatter",
         "x": [
          0
         ],
         "xaxis": "x",
         "y": [
          "sun"
         ],
         "yaxis": "y"
        },
        {
         "fillpattern": {
          "shape": ""
         },
         "hovertemplate": "day=%{y}<br>temp=8.8<br>rain=%{x}<extra></extra>",
         "legendgroup": "sun",
         "line": {
          "color": "#ab63fa"
         },
         "marker": {
          "symbol": "circle"
         },
         "mode": "lines",
         "name": "sun",
         "orientation": "h",
         "showlegend": false,
         "stackgroup": "1",
         "type": "scatter",
         "x": [
          0
         ],
         "xaxis": "x",
         "y": [
          "sun"
         ],
         "yaxis": "y"
        },
        {
         "fillpattern": {
          "shape": ""
         },
         "hovertemplate": "day=%{y}<br>temp=16.9<br>rain=%{x}<extra></extra>",
         "legendgroup": "sun",
         "line": {
          "color": "#ab63fa"
         },
         "marker": {
          "symbol": "circle"
         },
         "mode": "lines",
         "name": "sun",
         "orientation": "h",
         "showlegend": false,
         "stackgroup": "1",
         "type": "scatter",
         "x": [
          0
         ],
         "xaxis": "x",
         "y": [
          "sun"
         ],
         "yaxis": "y"
        },
        {
         "fillpattern": {
          "shape": ""
         },
         "hovertemplate": "day=%{y}<br>temp=16.2<br>rain=%{x}<extra></extra>",
         "legendgroup": "sun",
         "line": {
          "color": "#ab63fa"
         },
         "marker": {
          "symbol": "circle"
         },
         "mode": "lines",
         "name": "sun",
         "orientation": "h",
         "showlegend": false,
         "stackgroup": "1",
         "type": "scatter",
         "x": [
          0
         ],
         "xaxis": "x",
         "y": [
          "sun"
         ],
         "yaxis": "y"
        },
        {
         "fillpattern": {
          "shape": ""
         },
         "hovertemplate": "day=%{y}<br>temp=13.4<br>rain=%{x}<extra></extra>",
         "legendgroup": "sun",
         "line": {
          "color": "#ab63fa"
         },
         "marker": {
          "symbol": "circle"
         },
         "mode": "lines",
         "name": "sun",
         "orientation": "h",
         "showlegend": false,
         "stackgroup": "1",
         "type": "scatter",
         "x": [
          0
         ],
         "xaxis": "x",
         "y": [
          "sun"
         ],
         "yaxis": "y"
        },
        {
         "fillpattern": {
          "shape": ""
         },
         "hovertemplate": "day=%{y}<br>temp=28.3<br>rain=%{x}<extra></extra>",
         "legendgroup": "sun",
         "line": {
          "color": "#ab63fa"
         },
         "marker": {
          "symbol": "circle"
         },
         "mode": "lines",
         "name": "sun",
         "orientation": "h",
         "showlegend": false,
         "stackgroup": "1",
         "type": "scatter",
         "x": [
          0
         ],
         "xaxis": "x",
         "y": [
          "sun"
         ],
         "yaxis": "y"
        },
        {
         "fillpattern": {
          "shape": ""
         },
         "hovertemplate": "day=%{y}<br>temp=27.8<br>rain=%{x}<extra></extra>",
         "legendgroup": "sun",
         "line": {
          "color": "#ab63fa"
         },
         "marker": {
          "symbol": "circle"
         },
         "mode": "lines",
         "name": "sun",
         "orientation": "h",
         "showlegend": false,
         "stackgroup": "1",
         "type": "scatter",
         "x": [
          0,
          0,
          0
         ],
         "xaxis": "x",
         "y": [
          "sun",
          "sun",
          "sun"
         ],
         "yaxis": "y"
        },
        {
         "fillpattern": {
          "shape": ""
         },
         "hovertemplate": "day=%{y}<br>temp=26.8<br>rain=%{x}<extra></extra>",
         "legendgroup": "sun",
         "line": {
          "color": "#ab63fa"
         },
         "marker": {
          "symbol": "circle"
         },
         "mode": "lines",
         "name": "sun",
         "orientation": "h",
         "showlegend": false,
         "stackgroup": "1",
         "type": "scatter",
         "x": [
          0
         ],
         "xaxis": "x",
         "y": [
          "sun"
         ],
         "yaxis": "y"
        },
        {
         "fillpattern": {
          "shape": ""
         },
         "hovertemplate": "day=%{y}<br>temp=25.7<br>rain=%{x}<extra></extra>",
         "legendgroup": "sun",
         "line": {
          "color": "#ab63fa"
         },
         "marker": {
          "symbol": "circle"
         },
         "mode": "lines",
         "name": "sun",
         "orientation": "h",
         "showlegend": false,
         "stackgroup": "1",
         "type": "scatter",
         "x": [
          0
         ],
         "xaxis": "x",
         "y": [
          "sun"
         ],
         "yaxis": "y"
        },
        {
         "fillpattern": {
          "shape": ""
         },
         "hovertemplate": "day=%{y}<br>temp=4.8<br>rain=%{x}<extra></extra>",
         "legendgroup": "sun",
         "line": {
          "color": "#ab63fa"
         },
         "marker": {
          "symbol": "circle"
         },
         "mode": "lines",
         "name": "sun",
         "orientation": "h",
         "showlegend": false,
         "stackgroup": "1",
         "type": "scatter",
         "x": [
          0
         ],
         "xaxis": "x",
         "y": [
          "sun"
         ],
         "yaxis": "y"
        },
        {
         "fillpattern": {
          "shape": ""
         },
         "hovertemplate": "day=%{y}<br>temp=4.2<br>rain=%{x}<extra></extra>",
         "legendgroup": "sun",
         "line": {
          "color": "#ab63fa"
         },
         "marker": {
          "symbol": "circle"
         },
         "mode": "lines",
         "name": "sun",
         "orientation": "h",
         "showlegend": false,
         "stackgroup": "1",
         "type": "scatter",
         "x": [
          0
         ],
         "xaxis": "x",
         "y": [
          "sun"
         ],
         "yaxis": "y"
        },
        {
         "fillpattern": {
          "shape": ""
         },
         "hovertemplate": "day=%{y}<br>temp=14.3<br>rain=%{x}<extra></extra>",
         "legendgroup": "sun",
         "line": {
          "color": "#ab63fa"
         },
         "marker": {
          "symbol": "circle"
         },
         "mode": "lines",
         "name": "sun",
         "orientation": "h",
         "showlegend": false,
         "stackgroup": "1",
         "type": "scatter",
         "x": [
          0
         ],
         "xaxis": "x",
         "y": [
          "sun"
         ],
         "yaxis": "y"
        },
        {
         "fillpattern": {
          "shape": ""
         },
         "hovertemplate": "day=%{y}<br>temp=16.0<br>rain=%{x}<extra></extra>",
         "legendgroup": "sun",
         "line": {
          "color": "#ab63fa"
         },
         "marker": {
          "symbol": "circle"
         },
         "mode": "lines",
         "name": "sun",
         "orientation": "h",
         "showlegend": false,
         "stackgroup": "1",
         "type": "scatter",
         "x": [
          0
         ],
         "xaxis": "x",
         "y": [
          "sun"
         ],
         "yaxis": "y"
        },
        {
         "fillpattern": {
          "shape": ""
         },
         "hovertemplate": "day=%{y}<br>temp=24.9<br>rain=%{x}<extra></extra>",
         "legendgroup": "sun",
         "line": {
          "color": "#ab63fa"
         },
         "marker": {
          "symbol": "circle"
         },
         "mode": "lines",
         "name": "sun",
         "orientation": "h",
         "showlegend": false,
         "stackgroup": "1",
         "type": "scatter",
         "x": [
          0,
          0
         ],
         "xaxis": "x",
         "y": [
          "sun",
          "sun"
         ],
         "yaxis": "y"
        },
        {
         "fillpattern": {
          "shape": ""
         },
         "hovertemplate": "day=%{y}<br>temp=12.2<br>rain=%{x}<extra></extra>",
         "legendgroup": "sun",
         "line": {
          "color": "#ab63fa"
         },
         "marker": {
          "symbol": "circle"
         },
         "mode": "lines",
         "name": "sun",
         "orientation": "h",
         "showlegend": false,
         "stackgroup": "1",
         "type": "scatter",
         "x": [
          0
         ],
         "xaxis": "x",
         "y": [
          "sun"
         ],
         "yaxis": "y"
        },
        {
         "fillpattern": {
          "shape": ""
         },
         "hovertemplate": "day=%{y}<br>temp=10.1<br>rain=%{x}<extra></extra>",
         "legendgroup": "sun",
         "line": {
          "color": "#ab63fa"
         },
         "marker": {
          "symbol": "circle"
         },
         "mode": "lines",
         "name": "sun",
         "orientation": "h",
         "showlegend": false,
         "stackgroup": "1",
         "type": "scatter",
         "x": [
          0
         ],
         "xaxis": "x",
         "y": [
          "sun"
         ],
         "yaxis": "y"
        },
        {
         "fillpattern": {
          "shape": ""
         },
         "hovertemplate": "day=%{y}<br>temp=10.4<br>rain=%{x}<extra></extra>",
         "legendgroup": "sun",
         "line": {
          "color": "#ab63fa"
         },
         "marker": {
          "symbol": "circle"
         },
         "mode": "lines",
         "name": "sun",
         "orientation": "h",
         "showlegend": false,
         "stackgroup": "1",
         "type": "scatter",
         "x": [
          0
         ],
         "xaxis": "x",
         "y": [
          "sun"
         ],
         "yaxis": "y"
        },
        {
         "fillpattern": {
          "shape": ""
         },
         "hovertemplate": "day=%{y}<br>temp=5.2<br>rain=%{x}<extra></extra>",
         "legendgroup": "sun",
         "line": {
          "color": "#ab63fa"
         },
         "marker": {
          "symbol": "circle"
         },
         "mode": "lines",
         "name": "sun",
         "orientation": "h",
         "showlegend": false,
         "stackgroup": "1",
         "type": "scatter",
         "x": [
          0
         ],
         "xaxis": "x",
         "y": [
          "sun"
         ],
         "yaxis": "y"
        },
        {
         "fillpattern": {
          "shape": ""
         },
         "hovertemplate": "day=%{y}<br>temp=20.9<br>rain=%{x}<extra></extra>",
         "legendgroup": "sun",
         "line": {
          "color": "#ab63fa"
         },
         "marker": {
          "symbol": "circle"
         },
         "mode": "lines",
         "name": "sun",
         "orientation": "h",
         "showlegend": false,
         "stackgroup": "1",
         "type": "scatter",
         "x": [
          0,
          0
         ],
         "xaxis": "x",
         "y": [
          "sun",
          "sun"
         ],
         "yaxis": "y"
        },
        {
         "fillpattern": {
          "shape": ""
         },
         "hovertemplate": "day=%{y}<br>temp=29.3<br>rain=%{x}<extra></extra>",
         "legendgroup": "sun",
         "line": {
          "color": "#ab63fa"
         },
         "marker": {
          "symbol": "circle"
         },
         "mode": "lines",
         "name": "sun",
         "orientation": "h",
         "showlegend": false,
         "stackgroup": "1",
         "type": "scatter",
         "x": [
          0
         ],
         "xaxis": "x",
         "y": [
          "sun"
         ],
         "yaxis": "y"
        },
        {
         "fillpattern": {
          "shape": ""
         },
         "hovertemplate": "day=%{y}<br>temp=14.5<br>rain=%{x}<extra></extra>",
         "legendgroup": "sun",
         "line": {
          "color": "#ab63fa"
         },
         "marker": {
          "symbol": "circle"
         },
         "mode": "lines",
         "name": "sun",
         "orientation": "h",
         "showlegend": false,
         "stackgroup": "1",
         "type": "scatter",
         "x": [
          0
         ],
         "xaxis": "x",
         "y": [
          "sun"
         ],
         "yaxis": "y"
        },
        {
         "fillpattern": {
          "shape": ""
         },
         "hovertemplate": "day=%{y}<br>temp=26.1<br>rain=%{x}<extra></extra>",
         "legendgroup": "sun",
         "line": {
          "color": "#ab63fa"
         },
         "marker": {
          "symbol": "circle"
         },
         "mode": "lines",
         "name": "sun",
         "orientation": "h",
         "showlegend": false,
         "stackgroup": "1",
         "type": "scatter",
         "x": [
          0
         ],
         "xaxis": "x",
         "y": [
          "sun"
         ],
         "yaxis": "y"
        },
        {
         "fillpattern": {
          "shape": ""
         },
         "hovertemplate": "day=%{y}<br>temp=31.0<br>rain=%{x}<extra></extra>",
         "legendgroup": "sun",
         "line": {
          "color": "#ab63fa"
         },
         "marker": {
          "symbol": "circle"
         },
         "mode": "lines",
         "name": "sun",
         "orientation": "h",
         "showlegend": false,
         "stackgroup": "1",
         "type": "scatter",
         "x": [
          0
         ],
         "xaxis": "x",
         "y": [
          "sun"
         ],
         "yaxis": "y"
        },
        {
         "fillpattern": {
          "shape": ""
         },
         "hovertemplate": "day=%{y}<br>temp=33.1<br>rain=%{x}<extra></extra>",
         "legendgroup": "sun",
         "line": {
          "color": "#ab63fa"
         },
         "marker": {
          "symbol": "circle"
         },
         "mode": "lines",
         "name": "sun",
         "orientation": "h",
         "showlegend": false,
         "stackgroup": "1",
         "type": "scatter",
         "x": [
          0
         ],
         "xaxis": "x",
         "y": [
          "sun"
         ],
         "yaxis": "y"
        },
        {
         "fillpattern": {
          "shape": ""
         },
         "hovertemplate": "day=%{y}<br>temp=18.0<br>rain=%{x}<extra></extra>",
         "legendgroup": "mon",
         "line": {
          "color": "#FFA15A"
         },
         "marker": {
          "symbol": "circle"
         },
         "mode": "lines",
         "name": "mon",
         "orientation": "h",
         "showlegend": true,
         "stackgroup": "1",
         "type": "scatter",
         "x": [
          0
         ],
         "xaxis": "x",
         "y": [
          "mon"
         ],
         "yaxis": "y"
        },
        {
         "fillpattern": {
          "shape": ""
         },
         "hovertemplate": "day=%{y}<br>temp=8.3<br>rain=%{x}<extra></extra>",
         "legendgroup": "mon",
         "line": {
          "color": "#FFA15A"
         },
         "marker": {
          "symbol": "circle"
         },
         "mode": "lines",
         "name": "mon",
         "orientation": "h",
         "showlegend": false,
         "stackgroup": "1",
         "type": "scatter",
         "x": [
          0
         ],
         "xaxis": "x",
         "y": [
          "mon"
         ],
         "yaxis": "y"
        },
        {
         "fillpattern": {
          "shape": ""
         },
         "hovertemplate": "day=%{y}<br>temp=24.1<br>rain=%{x}<extra></extra>",
         "legendgroup": "mon",
         "line": {
          "color": "#FFA15A"
         },
         "marker": {
          "symbol": "circle"
         },
         "mode": "lines",
         "name": "mon",
         "orientation": "h",
         "showlegend": false,
         "stackgroup": "1",
         "type": "scatter",
         "x": [
          0
         ],
         "xaxis": "x",
         "y": [
          "mon"
         ],
         "yaxis": "y"
        },
        {
         "fillpattern": {
          "shape": ""
         },
         "hovertemplate": "day=%{y}<br>temp=8.0<br>rain=%{x}<extra></extra>",
         "legendgroup": "mon",
         "line": {
          "color": "#FFA15A"
         },
         "marker": {
          "symbol": "circle"
         },
         "mode": "lines",
         "name": "mon",
         "orientation": "h",
         "showlegend": false,
         "stackgroup": "1",
         "type": "scatter",
         "x": [
          0
         ],
         "xaxis": "x",
         "y": [
          "mon"
         ],
         "yaxis": "y"
        },
        {
         "fillpattern": {
          "shape": ""
         },
         "hovertemplate": "day=%{y}<br>temp=22.8<br>rain=%{x}<extra></extra>",
         "legendgroup": "mon",
         "line": {
          "color": "#FFA15A"
         },
         "marker": {
          "symbol": "circle"
         },
         "mode": "lines",
         "name": "mon",
         "orientation": "h",
         "showlegend": false,
         "stackgroup": "1",
         "type": "scatter",
         "x": [
          0
         ],
         "xaxis": "x",
         "y": [
          "mon"
         ],
         "yaxis": "y"
        },
        {
         "fillpattern": {
          "shape": ""
         },
         "hovertemplate": "day=%{y}<br>temp=19.3<br>rain=%{x}<extra></extra>",
         "legendgroup": "mon",
         "line": {
          "color": "#FFA15A"
         },
         "marker": {
          "symbol": "circle"
         },
         "mode": "lines",
         "name": "mon",
         "orientation": "h",
         "showlegend": false,
         "stackgroup": "1",
         "type": "scatter",
         "x": [
          0,
          0
         ],
         "xaxis": "x",
         "y": [
          "mon",
          "mon"
         ],
         "yaxis": "y"
        },
        {
         "fillpattern": {
          "shape": ""
         },
         "hovertemplate": "day=%{y}<br>temp=21.3<br>rain=%{x}<extra></extra>",
         "legendgroup": "mon",
         "line": {
          "color": "#FFA15A"
         },
         "marker": {
          "symbol": "circle"
         },
         "mode": "lines",
         "name": "mon",
         "orientation": "h",
         "showlegend": false,
         "stackgroup": "1",
         "type": "scatter",
         "x": [
          0,
          0
         ],
         "xaxis": "x",
         "y": [
          "mon",
          "mon"
         ],
         "yaxis": "y"
        },
        {
         "fillpattern": {
          "shape": ""
         },
         "hovertemplate": "day=%{y}<br>temp=16.7<br>rain=%{x}<extra></extra>",
         "legendgroup": "mon",
         "line": {
          "color": "#FFA15A"
         },
         "marker": {
          "symbol": "circle"
         },
         "mode": "lines",
         "name": "mon",
         "orientation": "h",
         "showlegend": false,
         "stackgroup": "1",
         "type": "scatter",
         "x": [
          0
         ],
         "xaxis": "x",
         "y": [
          "mon"
         ],
         "yaxis": "y"
        },
        {
         "fillpattern": {
          "shape": ""
         },
         "hovertemplate": "day=%{y}<br>temp=15.9<br>rain=%{x}<extra></extra>",
         "legendgroup": "mon",
         "line": {
          "color": "#FFA15A"
         },
         "marker": {
          "symbol": "circle"
         },
         "mode": "lines",
         "name": "mon",
         "orientation": "h",
         "showlegend": false,
         "stackgroup": "1",
         "type": "scatter",
         "x": [
          0
         ],
         "xaxis": "x",
         "y": [
          "mon"
         ],
         "yaxis": "y"
        },
        {
         "fillpattern": {
          "shape": ""
         },
         "hovertemplate": "day=%{y}<br>temp=19.1<br>rain=%{x}<extra></extra>",
         "legendgroup": "mon",
         "line": {
          "color": "#FFA15A"
         },
         "marker": {
          "symbol": "circle"
         },
         "mode": "lines",
         "name": "mon",
         "orientation": "h",
         "showlegend": false,
         "stackgroup": "1",
         "type": "scatter",
         "x": [
          0,
          0,
          0
         ],
         "xaxis": "x",
         "y": [
          "mon",
          "mon",
          "mon"
         ],
         "yaxis": "y"
        },
        {
         "fillpattern": {
          "shape": ""
         },
         "hovertemplate": "day=%{y}<br>temp=21.0<br>rain=%{x}<extra></extra>",
         "legendgroup": "mon",
         "line": {
          "color": "#FFA15A"
         },
         "marker": {
          "symbol": "circle"
         },
         "mode": "lines",
         "name": "mon",
         "orientation": "h",
         "showlegend": false,
         "stackgroup": "1",
         "type": "scatter",
         "x": [
          0
         ],
         "xaxis": "x",
         "y": [
          "mon"
         ],
         "yaxis": "y"
        },
        {
         "fillpattern": {
          "shape": ""
         },
         "hovertemplate": "day=%{y}<br>temp=19.4<br>rain=%{x}<extra></extra>",
         "legendgroup": "mon",
         "line": {
          "color": "#FFA15A"
         },
         "marker": {
          "symbol": "circle"
         },
         "mode": "lines",
         "name": "mon",
         "orientation": "h",
         "showlegend": false,
         "stackgroup": "1",
         "type": "scatter",
         "x": [
          0
         ],
         "xaxis": "x",
         "y": [
          "mon"
         ],
         "yaxis": "y"
        },
        {
         "fillpattern": {
          "shape": ""
         },
         "hovertemplate": "day=%{y}<br>temp=11.2<br>rain=%{x}<extra></extra>",
         "legendgroup": "mon",
         "line": {
          "color": "#FFA15A"
         },
         "marker": {
          "symbol": "circle"
         },
         "mode": "lines",
         "name": "mon",
         "orientation": "h",
         "showlegend": false,
         "stackgroup": "1",
         "type": "scatter",
         "x": [
          0
         ],
         "xaxis": "x",
         "y": [
          "mon"
         ],
         "yaxis": "y"
        },
        {
         "fillpattern": {
          "shape": ""
         },
         "hovertemplate": "day=%{y}<br>temp=20.6<br>rain=%{x}<extra></extra>",
         "legendgroup": "mon",
         "line": {
          "color": "#FFA15A"
         },
         "marker": {
          "symbol": "circle"
         },
         "mode": "lines",
         "name": "mon",
         "orientation": "h",
         "showlegend": false,
         "stackgroup": "1",
         "type": "scatter",
         "x": [
          0
         ],
         "xaxis": "x",
         "y": [
          "mon"
         ],
         "yaxis": "y"
        },
        {
         "fillpattern": {
          "shape": ""
         },
         "hovertemplate": "day=%{y}<br>temp=17.7<br>rain=%{x}<extra></extra>",
         "legendgroup": "mon",
         "line": {
          "color": "#FFA15A"
         },
         "marker": {
          "symbol": "circle"
         },
         "mode": "lines",
         "name": "mon",
         "orientation": "h",
         "showlegend": false,
         "stackgroup": "1",
         "type": "scatter",
         "x": [
          0,
          0
         ],
         "xaxis": "x",
         "y": [
          "mon",
          "mon"
         ],
         "yaxis": "y"
        },
        {
         "fillpattern": {
          "shape": ""
         },
         "hovertemplate": "day=%{y}<br>temp=21.2<br>rain=%{x}<extra></extra>",
         "legendgroup": "mon",
         "line": {
          "color": "#FFA15A"
         },
         "marker": {
          "symbol": "circle"
         },
         "mode": "lines",
         "name": "mon",
         "orientation": "h",
         "showlegend": false,
         "stackgroup": "1",
         "type": "scatter",
         "x": [
          0
         ],
         "xaxis": "x",
         "y": [
          "mon"
         ],
         "yaxis": "y"
        },
        {
         "fillpattern": {
          "shape": ""
         },
         "hovertemplate": "day=%{y}<br>temp=14.7<br>rain=%{x}<extra></extra>",
         "legendgroup": "mon",
         "line": {
          "color": "#FFA15A"
         },
         "marker": {
          "symbol": "circle"
         },
         "mode": "lines",
         "name": "mon",
         "orientation": "h",
         "showlegend": false,
         "stackgroup": "1",
         "type": "scatter",
         "x": [
          0
         ],
         "xaxis": "x",
         "y": [
          "mon"
         ],
         "yaxis": "y"
        },
        {
         "fillpattern": {
          "shape": ""
         },
         "hovertemplate": "day=%{y}<br>temp=23.0<br>rain=%{x}<extra></extra>",
         "legendgroup": "mon",
         "line": {
          "color": "#FFA15A"
         },
         "marker": {
          "symbol": "circle"
         },
         "mode": "lines",
         "name": "mon",
         "orientation": "h",
         "showlegend": false,
         "stackgroup": "1",
         "type": "scatter",
         "x": [
          0,
          0
         ],
         "xaxis": "x",
         "y": [
          "mon",
          "mon"
         ],
         "yaxis": "y"
        },
        {
         "fillpattern": {
          "shape": ""
         },
         "hovertemplate": "day=%{y}<br>temp=11.8<br>rain=%{x}<extra></extra>",
         "legendgroup": "mon",
         "line": {
          "color": "#FFA15A"
         },
         "marker": {
          "symbol": "circle"
         },
         "mode": "lines",
         "name": "mon",
         "orientation": "h",
         "showlegend": false,
         "stackgroup": "1",
         "type": "scatter",
         "x": [
          0
         ],
         "xaxis": "x",
         "y": [
          "mon"
         ],
         "yaxis": "y"
        },
        {
         "fillpattern": {
          "shape": ""
         },
         "hovertemplate": "day=%{y}<br>temp=11.0<br>rain=%{x}<extra></extra>",
         "legendgroup": "mon",
         "line": {
          "color": "#FFA15A"
         },
         "marker": {
          "symbol": "circle"
         },
         "mode": "lines",
         "name": "mon",
         "orientation": "h",
         "showlegend": false,
         "stackgroup": "1",
         "type": "scatter",
         "x": [
          0,
          0,
          0
         ],
         "xaxis": "x",
         "y": [
          "mon",
          "mon",
          "mon"
         ],
         "yaxis": "y"
        },
        {
         "fillpattern": {
          "shape": ""
         },
         "hovertemplate": "day=%{y}<br>temp=20.4<br>rain=%{x}<extra></extra>",
         "legendgroup": "mon",
         "line": {
          "color": "#FFA15A"
         },
         "marker": {
          "symbol": "circle"
         },
         "mode": "lines",
         "name": "mon",
         "orientation": "h",
         "showlegend": false,
         "stackgroup": "1",
         "type": "scatter",
         "x": [
          0
         ],
         "xaxis": "x",
         "y": [
          "mon"
         ],
         "yaxis": "y"
        },
        {
         "fillpattern": {
          "shape": ""
         },
         "hovertemplate": "day=%{y}<br>temp=13.9<br>rain=%{x}<extra></extra>",
         "legendgroup": "mon",
         "line": {
          "color": "#FFA15A"
         },
         "marker": {
          "symbol": "circle"
         },
         "mode": "lines",
         "name": "mon",
         "orientation": "h",
         "showlegend": false,
         "stackgroup": "1",
         "type": "scatter",
         "x": [
          0
         ],
         "xaxis": "x",
         "y": [
          "mon"
         ],
         "yaxis": "y"
        },
        {
         "fillpattern": {
          "shape": ""
         },
         "hovertemplate": "day=%{y}<br>temp=23.1<br>rain=%{x}<extra></extra>",
         "legendgroup": "mon",
         "line": {
          "color": "#FFA15A"
         },
         "marker": {
          "symbol": "circle"
         },
         "mode": "lines",
         "name": "mon",
         "orientation": "h",
         "showlegend": false,
         "stackgroup": "1",
         "type": "scatter",
         "x": [
          0
         ],
         "xaxis": "x",
         "y": [
          "mon"
         ],
         "yaxis": "y"
        },
        {
         "fillpattern": {
          "shape": ""
         },
         "hovertemplate": "day=%{y}<br>temp=15.6<br>rain=%{x}<extra></extra>",
         "legendgroup": "mon",
         "line": {
          "color": "#FFA15A"
         },
         "marker": {
          "symbol": "circle"
         },
         "mode": "lines",
         "name": "mon",
         "orientation": "h",
         "showlegend": false,
         "stackgroup": "1",
         "type": "scatter",
         "x": [
          0
         ],
         "xaxis": "x",
         "y": [
          "mon"
         ],
         "yaxis": "y"
        },
        {
         "fillpattern": {
          "shape": ""
         },
         "hovertemplate": "day=%{y}<br>temp=15.7<br>rain=%{x}<extra></extra>",
         "legendgroup": "mon",
         "line": {
          "color": "#FFA15A"
         },
         "marker": {
          "symbol": "circle"
         },
         "mode": "lines",
         "name": "mon",
         "orientation": "h",
         "showlegend": false,
         "stackgroup": "1",
         "type": "scatter",
         "x": [
          0
         ],
         "xaxis": "x",
         "y": [
          "mon"
         ],
         "yaxis": "y"
        },
        {
         "fillpattern": {
          "shape": ""
         },
         "hovertemplate": "day=%{y}<br>temp=17.9<br>rain=%{x}<extra></extra>",
         "legendgroup": "mon",
         "line": {
          "color": "#FFA15A"
         },
         "marker": {
          "symbol": "circle"
         },
         "mode": "lines",
         "name": "mon",
         "orientation": "h",
         "showlegend": false,
         "stackgroup": "1",
         "type": "scatter",
         "x": [
          0
         ],
         "xaxis": "x",
         "y": [
          "mon"
         ],
         "yaxis": "y"
        },
        {
         "fillpattern": {
          "shape": ""
         },
         "hovertemplate": "day=%{y}<br>temp=17.4<br>rain=%{x}<extra></extra>",
         "legendgroup": "mon",
         "line": {
          "color": "#FFA15A"
         },
         "marker": {
          "symbol": "circle"
         },
         "mode": "lines",
         "name": "mon",
         "orientation": "h",
         "showlegend": false,
         "stackgroup": "1",
         "type": "scatter",
         "x": [
          0
         ],
         "xaxis": "x",
         "y": [
          "mon"
         ],
         "yaxis": "y"
        },
        {
         "fillpattern": {
          "shape": ""
         },
         "hovertemplate": "day=%{y}<br>temp=23.4<br>rain=%{x}<extra></extra>",
         "legendgroup": "mon",
         "line": {
          "color": "#FFA15A"
         },
         "marker": {
          "symbol": "circle"
         },
         "mode": "lines",
         "name": "mon",
         "orientation": "h",
         "showlegend": false,
         "stackgroup": "1",
         "type": "scatter",
         "x": [
          0
         ],
         "xaxis": "x",
         "y": [
          "mon"
         ],
         "yaxis": "y"
        },
        {
         "fillpattern": {
          "shape": ""
         },
         "hovertemplate": "day=%{y}<br>temp=5.3<br>rain=%{x}<extra></extra>",
         "legendgroup": "mon",
         "line": {
          "color": "#FFA15A"
         },
         "marker": {
          "symbol": "circle"
         },
         "mode": "lines",
         "name": "mon",
         "orientation": "h",
         "showlegend": false,
         "stackgroup": "1",
         "type": "scatter",
         "x": [
          0
         ],
         "xaxis": "x",
         "y": [
          "mon"
         ],
         "yaxis": "y"
        },
        {
         "fillpattern": {
          "shape": ""
         },
         "hovertemplate": "day=%{y}<br>temp=18.9<br>rain=%{x}<extra></extra>",
         "legendgroup": "mon",
         "line": {
          "color": "#FFA15A"
         },
         "marker": {
          "symbol": "circle"
         },
         "mode": "lines",
         "name": "mon",
         "orientation": "h",
         "showlegend": false,
         "stackgroup": "1",
         "type": "scatter",
         "x": [
          0
         ],
         "xaxis": "x",
         "y": [
          "mon"
         ],
         "yaxis": "y"
        },
        {
         "fillpattern": {
          "shape": ""
         },
         "hovertemplate": "day=%{y}<br>temp=15.2<br>rain=%{x}<extra></extra>",
         "legendgroup": "mon",
         "line": {
          "color": "#FFA15A"
         },
         "marker": {
          "symbol": "circle"
         },
         "mode": "lines",
         "name": "mon",
         "orientation": "h",
         "showlegend": false,
         "stackgroup": "1",
         "type": "scatter",
         "x": [
          0
         ],
         "xaxis": "x",
         "y": [
          "mon"
         ],
         "yaxis": "y"
        },
        {
         "fillpattern": {
          "shape": ""
         },
         "hovertemplate": "day=%{y}<br>temp=10.6<br>rain=%{x}<extra></extra>",
         "legendgroup": "mon",
         "line": {
          "color": "#FFA15A"
         },
         "marker": {
          "symbol": "circle"
         },
         "mode": "lines",
         "name": "mon",
         "orientation": "h",
         "showlegend": false,
         "stackgroup": "1",
         "type": "scatter",
         "x": [
          0
         ],
         "xaxis": "x",
         "y": [
          "mon"
         ],
         "yaxis": "y"
        },
        {
         "fillpattern": {
          "shape": ""
         },
         "hovertemplate": "day=%{y}<br>temp=10.3<br>rain=%{x}<extra></extra>",
         "legendgroup": "mon",
         "line": {
          "color": "#FFA15A"
         },
         "marker": {
          "symbol": "circle"
         },
         "mode": "lines",
         "name": "mon",
         "orientation": "h",
         "showlegend": false,
         "stackgroup": "1",
         "type": "scatter",
         "x": [
          0
         ],
         "xaxis": "x",
         "y": [
          "mon"
         ],
         "yaxis": "y"
        },
        {
         "fillpattern": {
          "shape": ""
         },
         "hovertemplate": "day=%{y}<br>temp=17.1<br>rain=%{x}<extra></extra>",
         "legendgroup": "mon",
         "line": {
          "color": "#FFA15A"
         },
         "marker": {
          "symbol": "circle"
         },
         "mode": "lines",
         "name": "mon",
         "orientation": "h",
         "showlegend": false,
         "stackgroup": "1",
         "type": "scatter",
         "x": [
          0
         ],
         "xaxis": "x",
         "y": [
          "mon"
         ],
         "yaxis": "y"
        },
        {
         "fillpattern": {
          "shape": ""
         },
         "hovertemplate": "day=%{y}<br>temp=9.0<br>rain=%{x}<extra></extra>",
         "legendgroup": "mon",
         "line": {
          "color": "#FFA15A"
         },
         "marker": {
          "symbol": "circle"
         },
         "mode": "lines",
         "name": "mon",
         "orientation": "h",
         "showlegend": false,
         "stackgroup": "1",
         "type": "scatter",
         "x": [
          0
         ],
         "xaxis": "x",
         "y": [
          "mon"
         ],
         "yaxis": "y"
        },
        {
         "fillpattern": {
          "shape": ""
         },
         "hovertemplate": "day=%{y}<br>temp=14.0<br>rain=%{x}<extra></extra>",
         "legendgroup": "mon",
         "line": {
          "color": "#FFA15A"
         },
         "marker": {
          "symbol": "circle"
         },
         "mode": "lines",
         "name": "mon",
         "orientation": "h",
         "showlegend": false,
         "stackgroup": "1",
         "type": "scatter",
         "x": [
          0
         ],
         "xaxis": "x",
         "y": [
          "mon"
         ],
         "yaxis": "y"
        },
        {
         "fillpattern": {
          "shape": ""
         },
         "hovertemplate": "day=%{y}<br>temp=21.9<br>rain=%{x}<extra></extra>",
         "legendgroup": "mon",
         "line": {
          "color": "#FFA15A"
         },
         "marker": {
          "symbol": "circle"
         },
         "mode": "lines",
         "name": "mon",
         "orientation": "h",
         "showlegend": false,
         "stackgroup": "1",
         "type": "scatter",
         "x": [
          0
         ],
         "xaxis": "x",
         "y": [
          "mon"
         ],
         "yaxis": "y"
        },
        {
         "fillpattern": {
          "shape": ""
         },
         "hovertemplate": "day=%{y}<br>temp=13.2<br>rain=%{x}<extra></extra>",
         "legendgroup": "mon",
         "line": {
          "color": "#FFA15A"
         },
         "marker": {
          "symbol": "circle"
         },
         "mode": "lines",
         "name": "mon",
         "orientation": "h",
         "showlegend": false,
         "stackgroup": "1",
         "type": "scatter",
         "x": [
          0
         ],
         "xaxis": "x",
         "y": [
          "mon"
         ],
         "yaxis": "y"
        },
        {
         "fillpattern": {
          "shape": ""
         },
         "hovertemplate": "day=%{y}<br>temp=16.1<br>rain=%{x}<extra></extra>",
         "legendgroup": "mon",
         "line": {
          "color": "#FFA15A"
         },
         "marker": {
          "symbol": "circle"
         },
         "mode": "lines",
         "name": "mon",
         "orientation": "h",
         "showlegend": false,
         "stackgroup": "1",
         "type": "scatter",
         "x": [
          0,
          0
         ],
         "xaxis": "x",
         "y": [
          "mon",
          "mon"
         ],
         "yaxis": "y"
        },
        {
         "fillpattern": {
          "shape": ""
         },
         "hovertemplate": "day=%{y}<br>temp=20.7<br>rain=%{x}<extra></extra>",
         "legendgroup": "mon",
         "line": {
          "color": "#FFA15A"
         },
         "marker": {
          "symbol": "circle"
         },
         "mode": "lines",
         "name": "mon",
         "orientation": "h",
         "showlegend": false,
         "stackgroup": "1",
         "type": "scatter",
         "x": [
          0
         ],
         "xaxis": "x",
         "y": [
          "mon"
         ],
         "yaxis": "y"
        },
        {
         "fillpattern": {
          "shape": ""
         },
         "hovertemplate": "day=%{y}<br>temp=23.9<br>rain=%{x}<extra></extra>",
         "legendgroup": "mon",
         "line": {
          "color": "#FFA15A"
         },
         "marker": {
          "symbol": "circle"
         },
         "mode": "lines",
         "name": "mon",
         "orientation": "h",
         "showlegend": false,
         "stackgroup": "1",
         "type": "scatter",
         "x": [
          0
         ],
         "xaxis": "x",
         "y": [
          "mon"
         ],
         "yaxis": "y"
        },
        {
         "fillpattern": {
          "shape": ""
         },
         "hovertemplate": "day=%{y}<br>temp=12.4<br>rain=%{x}<extra></extra>",
         "legendgroup": "mon",
         "line": {
          "color": "#FFA15A"
         },
         "marker": {
          "symbol": "circle"
         },
         "mode": "lines",
         "name": "mon",
         "orientation": "h",
         "showlegend": false,
         "stackgroup": "1",
         "type": "scatter",
         "x": [
          0
         ],
         "xaxis": "x",
         "y": [
          "mon"
         ],
         "yaxis": "y"
        },
        {
         "fillpattern": {
          "shape": ""
         },
         "hovertemplate": "day=%{y}<br>temp=16.8<br>rain=%{x}<extra></extra>",
         "legendgroup": "mon",
         "line": {
          "color": "#FFA15A"
         },
         "marker": {
          "symbol": "circle"
         },
         "mode": "lines",
         "name": "mon",
         "orientation": "h",
         "showlegend": false,
         "stackgroup": "1",
         "type": "scatter",
         "x": [
          0,
          0
         ],
         "xaxis": "x",
         "y": [
          "mon",
          "mon"
         ],
         "yaxis": "y"
        },
        {
         "fillpattern": {
          "shape": ""
         },
         "hovertemplate": "day=%{y}<br>temp=22.6<br>rain=%{x}<extra></extra>",
         "legendgroup": "mon",
         "line": {
          "color": "#FFA15A"
         },
         "marker": {
          "symbol": "circle"
         },
         "mode": "lines",
         "name": "mon",
         "orientation": "h",
         "showlegend": false,
         "stackgroup": "1",
         "type": "scatter",
         "x": [
          0,
          0
         ],
         "xaxis": "x",
         "y": [
          "mon",
          "mon"
         ],
         "yaxis": "y"
        },
        {
         "fillpattern": {
          "shape": ""
         },
         "hovertemplate": "day=%{y}<br>temp=28.3<br>rain=%{x}<extra></extra>",
         "legendgroup": "mon",
         "line": {
          "color": "#FFA15A"
         },
         "marker": {
          "symbol": "circle"
         },
         "mode": "lines",
         "name": "mon",
         "orientation": "h",
         "showlegend": false,
         "stackgroup": "1",
         "type": "scatter",
         "x": [
          0
         ],
         "xaxis": "x",
         "y": [
          "mon"
         ],
         "yaxis": "y"
        },
        {
         "fillpattern": {
          "shape": ""
         },
         "hovertemplate": "day=%{y}<br>temp=26.8<br>rain=%{x}<extra></extra>",
         "legendgroup": "mon",
         "line": {
          "color": "#FFA15A"
         },
         "marker": {
          "symbol": "circle"
         },
         "mode": "lines",
         "name": "mon",
         "orientation": "h",
         "showlegend": false,
         "stackgroup": "1",
         "type": "scatter",
         "x": [
          0
         ],
         "xaxis": "x",
         "y": [
          "mon"
         ],
         "yaxis": "y"
        },
        {
         "fillpattern": {
          "shape": ""
         },
         "hovertemplate": "day=%{y}<br>temp=4.6<br>rain=%{x}<extra></extra>",
         "legendgroup": "mon",
         "line": {
          "color": "#FFA15A"
         },
         "marker": {
          "symbol": "circle"
         },
         "mode": "lines",
         "name": "mon",
         "orientation": "h",
         "showlegend": false,
         "stackgroup": "1",
         "type": "scatter",
         "x": [
          0,
          0,
          0,
          0
         ],
         "xaxis": "x",
         "y": [
          "mon",
          "mon",
          "mon",
          "mon"
         ],
         "yaxis": "y"
        },
        {
         "fillpattern": {
          "shape": ""
         },
         "hovertemplate": "day=%{y}<br>temp=7.5<br>rain=%{x}<extra></extra>",
         "legendgroup": "mon",
         "line": {
          "color": "#FFA15A"
         },
         "marker": {
          "symbol": "circle"
         },
         "mode": "lines",
         "name": "mon",
         "orientation": "h",
         "showlegend": false,
         "stackgroup": "1",
         "type": "scatter",
         "x": [
          0
         ],
         "xaxis": "x",
         "y": [
          "mon"
         ],
         "yaxis": "y"
        },
        {
         "fillpattern": {
          "shape": ""
         },
         "hovertemplate": "day=%{y}<br>temp=14.3<br>rain=%{x}<extra></extra>",
         "legendgroup": "mon",
         "line": {
          "color": "#FFA15A"
         },
         "marker": {
          "symbol": "circle"
         },
         "mode": "lines",
         "name": "mon",
         "orientation": "h",
         "showlegend": false,
         "stackgroup": "1",
         "type": "scatter",
         "x": [
          0
         ],
         "xaxis": "x",
         "y": [
          "mon"
         ],
         "yaxis": "y"
        },
        {
         "fillpattern": {
          "shape": ""
         },
         "hovertemplate": "day=%{y}<br>temp=12.2<br>rain=%{x}<extra></extra>",
         "legendgroup": "mon",
         "line": {
          "color": "#FFA15A"
         },
         "marker": {
          "symbol": "circle"
         },
         "mode": "lines",
         "name": "mon",
         "orientation": "h",
         "showlegend": false,
         "stackgroup": "1",
         "type": "scatter",
         "x": [
          0
         ],
         "xaxis": "x",
         "y": [
          "mon"
         ],
         "yaxis": "y"
        },
        {
         "fillpattern": {
          "shape": ""
         },
         "hovertemplate": "day=%{y}<br>temp=18.1<br>rain=%{x}<extra></extra>",
         "legendgroup": "mon",
         "line": {
          "color": "#FFA15A"
         },
         "marker": {
          "symbol": "circle"
         },
         "mode": "lines",
         "name": "mon",
         "orientation": "h",
         "showlegend": false,
         "stackgroup": "1",
         "type": "scatter",
         "x": [
          0
         ],
         "xaxis": "x",
         "y": [
          "mon"
         ],
         "yaxis": "y"
        },
        {
         "fillpattern": {
          "shape": ""
         },
         "hovertemplate": "day=%{y}<br>temp=9.8<br>rain=%{x}<extra></extra>",
         "legendgroup": "mon",
         "line": {
          "color": "#FFA15A"
         },
         "marker": {
          "symbol": "circle"
         },
         "mode": "lines",
         "name": "mon",
         "orientation": "h",
         "showlegend": false,
         "stackgroup": "1",
         "type": "scatter",
         "x": [
          0
         ],
         "xaxis": "x",
         "y": [
          "mon"
         ],
         "yaxis": "y"
        },
        {
         "fillpattern": {
          "shape": ""
         },
         "hovertemplate": "day=%{y}<br>temp=22.7<br>rain=%{x}<extra></extra>",
         "legendgroup": "mon",
         "line": {
          "color": "#FFA15A"
         },
         "marker": {
          "symbol": "circle"
         },
         "mode": "lines",
         "name": "mon",
         "orientation": "h",
         "showlegend": false,
         "stackgroup": "1",
         "type": "scatter",
         "x": [
          0
         ],
         "xaxis": "x",
         "y": [
          "mon"
         ],
         "yaxis": "y"
        },
        {
         "fillpattern": {
          "shape": ""
         },
         "hovertemplate": "day=%{y}<br>temp=21.1<br>rain=%{x}<extra></extra>",
         "legendgroup": "mon",
         "line": {
          "color": "#FFA15A"
         },
         "marker": {
          "symbol": "circle"
         },
         "mode": "lines",
         "name": "mon",
         "orientation": "h",
         "showlegend": false,
         "stackgroup": "1",
         "type": "scatter",
         "x": [
          0
         ],
         "xaxis": "x",
         "y": [
          "mon"
         ],
         "yaxis": "y"
        },
        {
         "fillpattern": {
          "shape": ""
         },
         "hovertemplate": "day=%{y}<br>temp=27.9<br>rain=%{x}<extra></extra>",
         "legendgroup": "mon",
         "line": {
          "color": "#FFA15A"
         },
         "marker": {
          "symbol": "circle"
         },
         "mode": "lines",
         "name": "mon",
         "orientation": "h",
         "showlegend": false,
         "stackgroup": "1",
         "type": "scatter",
         "x": [
          0
         ],
         "xaxis": "x",
         "y": [
          "mon"
         ],
         "yaxis": "y"
        },
        {
         "fillpattern": {
          "shape": ""
         },
         "hovertemplate": "day=%{y}<br>temp=25.5<br>rain=%{x}<extra></extra>",
         "legendgroup": "mon",
         "line": {
          "color": "#FFA15A"
         },
         "marker": {
          "symbol": "circle"
         },
         "mode": "lines",
         "name": "mon",
         "orientation": "h",
         "showlegend": false,
         "stackgroup": "1",
         "type": "scatter",
         "x": [
          0
         ],
         "xaxis": "x",
         "y": [
          "mon"
         ],
         "yaxis": "y"
        },
        {
         "fillpattern": {
          "shape": ""
         },
         "hovertemplate": "day=%{y}<br>temp=10.9<br>rain=%{x}<extra></extra>",
         "legendgroup": "mon",
         "line": {
          "color": "#FFA15A"
         },
         "marker": {
          "symbol": "circle"
         },
         "mode": "lines",
         "name": "mon",
         "orientation": "h",
         "showlegend": false,
         "stackgroup": "1",
         "type": "scatter",
         "x": [
          0
         ],
         "xaxis": "x",
         "y": [
          "mon"
         ],
         "yaxis": "y"
        },
        {
         "fillpattern": {
          "shape": ""
         },
         "hovertemplate": "day=%{y}<br>temp=10.2<br>rain=%{x}<extra></extra>",
         "legendgroup": "mon",
         "line": {
          "color": "#FFA15A"
         },
         "marker": {
          "symbol": "circle"
         },
         "mode": "lines",
         "name": "mon",
         "orientation": "h",
         "showlegend": false,
         "stackgroup": "1",
         "type": "scatter",
         "x": [
          0
         ],
         "xaxis": "x",
         "y": [
          "mon"
         ],
         "yaxis": "y"
        },
        {
         "fillpattern": {
          "shape": ""
         },
         "hovertemplate": "day=%{y}<br>temp=30.6<br>rain=%{x}<extra></extra>",
         "legendgroup": "mon",
         "line": {
          "color": "#FFA15A"
         },
         "marker": {
          "symbol": "circle"
         },
         "mode": "lines",
         "name": "mon",
         "orientation": "h",
         "showlegend": false,
         "stackgroup": "1",
         "type": "scatter",
         "x": [
          0
         ],
         "xaxis": "x",
         "y": [
          "mon"
         ],
         "yaxis": "y"
        },
        {
         "fillpattern": {
          "shape": ""
         },
         "hovertemplate": "day=%{y}<br>temp=32.6<br>rain=%{x}<extra></extra>",
         "legendgroup": "mon",
         "line": {
          "color": "#FFA15A"
         },
         "marker": {
          "symbol": "circle"
         },
         "mode": "lines",
         "name": "mon",
         "orientation": "h",
         "showlegend": false,
         "stackgroup": "1",
         "type": "scatter",
         "x": [
          0
         ],
         "xaxis": "x",
         "y": [
          "mon"
         ],
         "yaxis": "y"
        },
        {
         "fillpattern": {
          "shape": ""
         },
         "hovertemplate": "day=%{y}<br>temp=19.3<br>rain=%{x}<extra></extra>",
         "legendgroup": "wed",
         "line": {
          "color": "#19d3f3"
         },
         "marker": {
          "symbol": "circle"
         },
         "mode": "lines",
         "name": "wed",
         "orientation": "h",
         "showlegend": true,
         "stackgroup": "1",
         "type": "scatter",
         "x": [
          0
         ],
         "xaxis": "x",
         "y": [
          "wed"
         ],
         "yaxis": "y"
        },
        {
         "fillpattern": {
          "shape": ""
         },
         "hovertemplate": "day=%{y}<br>temp=26.4<br>rain=%{x}<extra></extra>",
         "legendgroup": "wed",
         "line": {
          "color": "#19d3f3"
         },
         "marker": {
          "symbol": "circle"
         },
         "mode": "lines",
         "name": "wed",
         "orientation": "h",
         "showlegend": false,
         "stackgroup": "1",
         "type": "scatter",
         "x": [
          0,
          0
         ],
         "xaxis": "x",
         "y": [
          "wed",
          "wed"
         ],
         "yaxis": "y"
        },
        {
         "fillpattern": {
          "shape": ""
         },
         "hovertemplate": "day=%{y}<br>temp=15.9<br>rain=%{x}<extra></extra>",
         "legendgroup": "wed",
         "line": {
          "color": "#19d3f3"
         },
         "marker": {
          "symbol": "circle"
         },
         "mode": "lines",
         "name": "wed",
         "orientation": "h",
         "showlegend": false,
         "stackgroup": "1",
         "type": "scatter",
         "x": [
          0,
          0
         ],
         "xaxis": "x",
         "y": [
          "wed",
          "wed"
         ],
         "yaxis": "y"
        },
        {
         "fillpattern": {
          "shape": ""
         },
         "hovertemplate": "day=%{y}<br>temp=18.3<br>rain=%{x}<extra></extra>",
         "legendgroup": "wed",
         "line": {
          "color": "#19d3f3"
         },
         "marker": {
          "symbol": "circle"
         },
         "mode": "lines",
         "name": "wed",
         "orientation": "h",
         "showlegend": false,
         "stackgroup": "1",
         "type": "scatter",
         "x": [
          0
         ],
         "xaxis": "x",
         "y": [
          "wed"
         ],
         "yaxis": "y"
        },
        {
         "fillpattern": {
          "shape": ""
         },
         "hovertemplate": "day=%{y}<br>temp=19.4<br>rain=%{x}<extra></extra>",
         "legendgroup": "wed",
         "line": {
          "color": "#19d3f3"
         },
         "marker": {
          "symbol": "circle"
         },
         "mode": "lines",
         "name": "wed",
         "orientation": "h",
         "showlegend": false,
         "stackgroup": "1",
         "type": "scatter",
         "x": [
          0
         ],
         "xaxis": "x",
         "y": [
          "wed"
         ],
         "yaxis": "y"
        },
        {
         "fillpattern": {
          "shape": ""
         },
         "hovertemplate": "day=%{y}<br>temp=11.2<br>rain=%{x}<extra></extra>",
         "legendgroup": "wed",
         "line": {
          "color": "#19d3f3"
         },
         "marker": {
          "symbol": "circle"
         },
         "mode": "lines",
         "name": "wed",
         "orientation": "h",
         "showlegend": false,
         "stackgroup": "1",
         "type": "scatter",
         "x": [
          0
         ],
         "xaxis": "x",
         "y": [
          "wed"
         ],
         "yaxis": "y"
        },
        {
         "fillpattern": {
          "shape": ""
         },
         "hovertemplate": "day=%{y}<br>temp=20.6<br>rain=%{x}<extra></extra>",
         "legendgroup": "wed",
         "line": {
          "color": "#19d3f3"
         },
         "marker": {
          "symbol": "circle"
         },
         "mode": "lines",
         "name": "wed",
         "orientation": "h",
         "showlegend": false,
         "stackgroup": "1",
         "type": "scatter",
         "x": [
          0
         ],
         "xaxis": "x",
         "y": [
          "wed"
         ],
         "yaxis": "y"
        },
        {
         "fillpattern": {
          "shape": ""
         },
         "hovertemplate": "day=%{y}<br>temp=21.7<br>rain=%{x}<extra></extra>",
         "legendgroup": "wed",
         "line": {
          "color": "#19d3f3"
         },
         "marker": {
          "symbol": "circle"
         },
         "mode": "lines",
         "name": "wed",
         "orientation": "h",
         "showlegend": false,
         "stackgroup": "1",
         "type": "scatter",
         "x": [
          0
         ],
         "xaxis": "x",
         "y": [
          "wed"
         ],
         "yaxis": "y"
        },
        {
         "fillpattern": {
          "shape": ""
         },
         "hovertemplate": "day=%{y}<br>temp=23.3<br>rain=%{x}<extra></extra>",
         "legendgroup": "wed",
         "line": {
          "color": "#19d3f3"
         },
         "marker": {
          "symbol": "circle"
         },
         "mode": "lines",
         "name": "wed",
         "orientation": "h",
         "showlegend": false,
         "stackgroup": "1",
         "type": "scatter",
         "x": [
          0
         ],
         "xaxis": "x",
         "y": [
          "wed"
         ],
         "yaxis": "y"
        },
        {
         "fillpattern": {
          "shape": ""
         },
         "hovertemplate": "day=%{y}<br>temp=18.4<br>rain=%{x}<extra></extra>",
         "legendgroup": "wed",
         "line": {
          "color": "#19d3f3"
         },
         "marker": {
          "symbol": "circle"
         },
         "mode": "lines",
         "name": "wed",
         "orientation": "h",
         "showlegend": false,
         "stackgroup": "1",
         "type": "scatter",
         "x": [
          0
         ],
         "xaxis": "x",
         "y": [
          "wed"
         ],
         "yaxis": "y"
        },
        {
         "fillpattern": {
          "shape": ""
         },
         "hovertemplate": "day=%{y}<br>temp=16.6<br>rain=%{x}<extra></extra>",
         "legendgroup": "wed",
         "line": {
          "color": "#19d3f3"
         },
         "marker": {
          "symbol": "circle"
         },
         "mode": "lines",
         "name": "wed",
         "orientation": "h",
         "showlegend": false,
         "stackgroup": "1",
         "type": "scatter",
         "x": [
          0,
          0
         ],
         "xaxis": "x",
         "y": [
          "wed",
          "wed"
         ],
         "yaxis": "y"
        },
        {
         "fillpattern": {
          "shape": ""
         },
         "hovertemplate": "day=%{y}<br>temp=19.6<br>rain=%{x}<extra></extra>",
         "legendgroup": "wed",
         "line": {
          "color": "#19d3f3"
         },
         "marker": {
          "symbol": "circle"
         },
         "mode": "lines",
         "name": "wed",
         "orientation": "h",
         "showlegend": false,
         "stackgroup": "1",
         "type": "scatter",
         "x": [
          0
         ],
         "xaxis": "x",
         "y": [
          "wed"
         ],
         "yaxis": "y"
        },
        {
         "fillpattern": {
          "shape": ""
         },
         "hovertemplate": "day=%{y}<br>temp=12.9<br>rain=%{x}<extra></extra>",
         "legendgroup": "wed",
         "line": {
          "color": "#19d3f3"
         },
         "marker": {
          "symbol": "circle"
         },
         "mode": "lines",
         "name": "wed",
         "orientation": "h",
         "showlegend": false,
         "stackgroup": "1",
         "type": "scatter",
         "x": [
          0
         ],
         "xaxis": "x",
         "y": [
          "wed"
         ],
         "yaxis": "y"
        },
        {
         "fillpattern": {
          "shape": ""
         },
         "hovertemplate": "day=%{y}<br>temp=25.9<br>rain=%{x}<extra></extra>",
         "legendgroup": "wed",
         "line": {
          "color": "#19d3f3"
         },
         "marker": {
          "symbol": "circle"
         },
         "mode": "lines",
         "name": "wed",
         "orientation": "h",
         "showlegend": false,
         "stackgroup": "1",
         "type": "scatter",
         "x": [
          0
         ],
         "xaxis": "x",
         "y": [
          "wed"
         ],
         "yaxis": "y"
        },
        {
         "fillpattern": {
          "shape": ""
         },
         "hovertemplate": "day=%{y}<br>temp=20.4<br>rain=%{x}<extra></extra>",
         "legendgroup": "wed",
         "line": {
          "color": "#19d3f3"
         },
         "marker": {
          "symbol": "circle"
         },
         "mode": "lines",
         "name": "wed",
         "orientation": "h",
         "showlegend": false,
         "stackgroup": "1",
         "type": "scatter",
         "x": [
          0,
          0
         ],
         "xaxis": "x",
         "y": [
          "wed",
          "wed"
         ],
         "yaxis": "y"
        },
        {
         "fillpattern": {
          "shape": ""
         },
         "hovertemplate": "day=%{y}<br>temp=13.8<br>rain=%{x}<extra></extra>",
         "legendgroup": "wed",
         "line": {
          "color": "#19d3f3"
         },
         "marker": {
          "symbol": "circle"
         },
         "mode": "lines",
         "name": "wed",
         "orientation": "h",
         "showlegend": false,
         "stackgroup": "1",
         "type": "scatter",
         "x": [
          0
         ],
         "xaxis": "x",
         "y": [
          "wed"
         ],
         "yaxis": "y"
        },
        {
         "fillpattern": {
          "shape": ""
         },
         "hovertemplate": "day=%{y}<br>temp=20.2<br>rain=%{x}<extra></extra>",
         "legendgroup": "wed",
         "line": {
          "color": "#19d3f3"
         },
         "marker": {
          "symbol": "circle"
         },
         "mode": "lines",
         "name": "wed",
         "orientation": "h",
         "showlegend": false,
         "stackgroup": "1",
         "type": "scatter",
         "x": [
          0
         ],
         "xaxis": "x",
         "y": [
          "wed"
         ],
         "yaxis": "y"
        },
        {
         "fillpattern": {
          "shape": ""
         },
         "hovertemplate": "day=%{y}<br>temp=17.4<br>rain=%{x}<extra></extra>",
         "legendgroup": "wed",
         "line": {
          "color": "#19d3f3"
         },
         "marker": {
          "symbol": "circle"
         },
         "mode": "lines",
         "name": "wed",
         "orientation": "h",
         "showlegend": false,
         "stackgroup": "1",
         "type": "scatter",
         "x": [
          0
         ],
         "xaxis": "x",
         "y": [
          "wed"
         ],
         "yaxis": "y"
        },
        {
         "fillpattern": {
          "shape": ""
         },
         "hovertemplate": "day=%{y}<br>temp=23.4<br>rain=%{x}<extra></extra>",
         "legendgroup": "wed",
         "line": {
          "color": "#19d3f3"
         },
         "marker": {
          "symbol": "circle"
         },
         "mode": "lines",
         "name": "wed",
         "orientation": "h",
         "showlegend": false,
         "stackgroup": "1",
         "type": "scatter",
         "x": [
          0,
          0
         ],
         "xaxis": "x",
         "y": [
          "wed",
          "wed"
         ],
         "yaxis": "y"
        },
        {
         "fillpattern": {
          "shape": ""
         },
         "hovertemplate": "day=%{y}<br>temp=15.2<br>rain=%{x}<extra></extra>",
         "legendgroup": "wed",
         "line": {
          "color": "#19d3f3"
         },
         "marker": {
          "symbol": "circle"
         },
         "mode": "lines",
         "name": "wed",
         "orientation": "h",
         "showlegend": false,
         "stackgroup": "1",
         "type": "scatter",
         "x": [
          0
         ],
         "xaxis": "x",
         "y": [
          "wed"
         ],
         "yaxis": "y"
        },
        {
         "fillpattern": {
          "shape": ""
         },
         "hovertemplate": "day=%{y}<br>temp=15.4<br>rain=%{x}<extra></extra>",
         "legendgroup": "wed",
         "line": {
          "color": "#19d3f3"
         },
         "marker": {
          "symbol": "circle"
         },
         "mode": "lines",
         "name": "wed",
         "orientation": "h",
         "showlegend": false,
         "stackgroup": "1",
         "type": "scatter",
         "x": [
          0
         ],
         "xaxis": "x",
         "y": [
          "wed"
         ],
         "yaxis": "y"
        },
        {
         "fillpattern": {
          "shape": ""
         },
         "hovertemplate": "day=%{y}<br>temp=21.9<br>rain=%{x}<extra></extra>",
         "legendgroup": "wed",
         "line": {
          "color": "#19d3f3"
         },
         "marker": {
          "symbol": "circle"
         },
         "mode": "lines",
         "name": "wed",
         "orientation": "h",
         "showlegend": false,
         "stackgroup": "1",
         "type": "scatter",
         "x": [
          0
         ],
         "xaxis": "x",
         "y": [
          "wed"
         ],
         "yaxis": "y"
        },
        {
         "fillpattern": {
          "shape": ""
         },
         "hovertemplate": "day=%{y}<br>temp=23.8<br>rain=%{x}<extra></extra>",
         "legendgroup": "wed",
         "line": {
          "color": "#19d3f3"
         },
         "marker": {
          "symbol": "circle"
         },
         "mode": "lines",
         "name": "wed",
         "orientation": "h",
         "showlegend": false,
         "stackgroup": "1",
         "type": "scatter",
         "x": [
          0
         ],
         "xaxis": "x",
         "y": [
          "wed"
         ],
         "yaxis": "y"
        },
        {
         "fillpattern": {
          "shape": ""
         },
         "hovertemplate": "day=%{y}<br>temp=20.5<br>rain=%{x}<extra></extra>",
         "legendgroup": "wed",
         "line": {
          "color": "#19d3f3"
         },
         "marker": {
          "symbol": "circle"
         },
         "mode": "lines",
         "name": "wed",
         "orientation": "h",
         "showlegend": false,
         "stackgroup": "1",
         "type": "scatter",
         "x": [
          0
         ],
         "xaxis": "x",
         "y": [
          "wed"
         ],
         "yaxis": "y"
        },
        {
         "fillpattern": {
          "shape": ""
         },
         "hovertemplate": "day=%{y}<br>temp=20.7<br>rain=%{x}<extra></extra>",
         "legendgroup": "wed",
         "line": {
          "color": "#19d3f3"
         },
         "marker": {
          "symbol": "circle"
         },
         "mode": "lines",
         "name": "wed",
         "orientation": "h",
         "showlegend": false,
         "stackgroup": "1",
         "type": "scatter",
         "x": [
          0
         ],
         "xaxis": "x",
         "y": [
          "wed"
         ],
         "yaxis": "y"
        },
        {
         "fillpattern": {
          "shape": ""
         },
         "hovertemplate": "day=%{y}<br>temp=14.2<br>rain=%{x}<extra></extra>",
         "legendgroup": "wed",
         "line": {
          "color": "#19d3f3"
         },
         "marker": {
          "symbol": "circle"
         },
         "mode": "lines",
         "name": "wed",
         "orientation": "h",
         "showlegend": false,
         "stackgroup": "1",
         "type": "scatter",
         "x": [
          0
         ],
         "xaxis": "x",
         "y": [
          "wed"
         ],
         "yaxis": "y"
        },
        {
         "fillpattern": {
          "shape": ""
         },
         "hovertemplate": "day=%{y}<br>temp=24.3<br>rain=%{x}<extra></extra>",
         "legendgroup": "wed",
         "line": {
          "color": "#19d3f3"
         },
         "marker": {
          "symbol": "circle"
         },
         "mode": "lines",
         "name": "wed",
         "orientation": "h",
         "showlegend": false,
         "stackgroup": "1",
         "type": "scatter",
         "x": [
          0,
          0
         ],
         "xaxis": "x",
         "y": [
          "wed",
          "wed"
         ],
         "yaxis": "y"
        },
        {
         "fillpattern": {
          "shape": ""
         },
         "hovertemplate": "day=%{y}<br>temp=8.8<br>rain=%{x}<extra></extra>",
         "legendgroup": "wed",
         "line": {
          "color": "#19d3f3"
         },
         "marker": {
          "symbol": "circle"
         },
         "mode": "lines",
         "name": "wed",
         "orientation": "h",
         "showlegend": false,
         "stackgroup": "1",
         "type": "scatter",
         "x": [
          0
         ],
         "xaxis": "x",
         "y": [
          "wed"
         ],
         "yaxis": "y"
        },
        {
         "fillpattern": {
          "shape": ""
         },
         "hovertemplate": "day=%{y}<br>temp=22.1<br>rain=%{x}<extra></extra>",
         "legendgroup": "wed",
         "line": {
          "color": "#19d3f3"
         },
         "marker": {
          "symbol": "circle"
         },
         "mode": "lines",
         "name": "wed",
         "orientation": "h",
         "showlegend": false,
         "stackgroup": "1",
         "type": "scatter",
         "x": [
          0
         ],
         "xaxis": "x",
         "y": [
          "wed"
         ],
         "yaxis": "y"
        },
        {
         "fillpattern": {
          "shape": ""
         },
         "hovertemplate": "day=%{y}<br>temp=5.1<br>rain=%{x}<extra></extra>",
         "legendgroup": "wed",
         "line": {
          "color": "#19d3f3"
         },
         "marker": {
          "symbol": "circle"
         },
         "mode": "lines",
         "name": "wed",
         "orientation": "h",
         "showlegend": false,
         "stackgroup": "1",
         "type": "scatter",
         "x": [
          0
         ],
         "xaxis": "x",
         "y": [
          "wed"
         ],
         "yaxis": "y"
        },
        {
         "fillpattern": {
          "shape": ""
         },
         "hovertemplate": "day=%{y}<br>temp=26.8<br>rain=%{x}<extra></extra>",
         "legendgroup": "wed",
         "line": {
          "color": "#19d3f3"
         },
         "marker": {
          "symbol": "circle"
         },
         "mode": "lines",
         "name": "wed",
         "orientation": "h",
         "showlegend": false,
         "stackgroup": "1",
         "type": "scatter",
         "x": [
          0
         ],
         "xaxis": "x",
         "y": [
          "wed"
         ],
         "yaxis": "y"
        },
        {
         "fillpattern": {
          "shape": ""
         },
         "hovertemplate": "day=%{y}<br>temp=28.7<br>rain=%{x}<extra></extra>",
         "legendgroup": "wed",
         "line": {
          "color": "#19d3f3"
         },
         "marker": {
          "symbol": "circle"
         },
         "mode": "lines",
         "name": "wed",
         "orientation": "h",
         "showlegend": false,
         "stackgroup": "1",
         "type": "scatter",
         "x": [
          0,
          0
         ],
         "xaxis": "x",
         "y": [
          "wed",
          "wed"
         ],
         "yaxis": "y"
        },
        {
         "fillpattern": {
          "shape": ""
         },
         "hovertemplate": "day=%{y}<br>temp=24.0<br>rain=%{x}<extra></extra>",
         "legendgroup": "wed",
         "line": {
          "color": "#19d3f3"
         },
         "marker": {
          "symbol": "circle"
         },
         "mode": "lines",
         "name": "wed",
         "orientation": "h",
         "showlegend": false,
         "stackgroup": "1",
         "type": "scatter",
         "x": [
          0
         ],
         "xaxis": "x",
         "y": [
          "wed"
         ],
         "yaxis": "y"
        },
        {
         "fillpattern": {
          "shape": ""
         },
         "hovertemplate": "day=%{y}<br>temp=21.8<br>rain=%{x}<extra></extra>",
         "legendgroup": "wed",
         "line": {
          "color": "#19d3f3"
         },
         "marker": {
          "symbol": "circle"
         },
         "mode": "lines",
         "name": "wed",
         "orientation": "h",
         "showlegend": false,
         "stackgroup": "1",
         "type": "scatter",
         "x": [
          0
         ],
         "xaxis": "x",
         "y": [
          "wed"
         ],
         "yaxis": "y"
        },
        {
         "fillpattern": {
          "shape": ""
         },
         "hovertemplate": "day=%{y}<br>temp=12.6<br>rain=%{x}<extra></extra>",
         "legendgroup": "wed",
         "line": {
          "color": "#19d3f3"
         },
         "marker": {
          "symbol": "circle"
         },
         "mode": "lines",
         "name": "wed",
         "orientation": "h",
         "showlegend": false,
         "stackgroup": "1",
         "type": "scatter",
         "x": [
          0.2
         ],
         "xaxis": "x",
         "y": [
          "wed"
         ],
         "yaxis": "y"
        },
        {
         "fillpattern": {
          "shape": ""
         },
         "hovertemplate": "day=%{y}<br>temp=19.7<br>rain=%{x}<extra></extra>",
         "legendgroup": "wed",
         "line": {
          "color": "#19d3f3"
         },
         "marker": {
          "symbol": "circle"
         },
         "mode": "lines",
         "name": "wed",
         "orientation": "h",
         "showlegend": false,
         "stackgroup": "1",
         "type": "scatter",
         "x": [
          0
         ],
         "xaxis": "x",
         "y": [
          "wed"
         ],
         "yaxis": "y"
        },
        {
         "fillpattern": {
          "shape": ""
         },
         "hovertemplate": "day=%{y}<br>temp=18.5<br>rain=%{x}<extra></extra>",
         "legendgroup": "wed",
         "line": {
          "color": "#19d3f3"
         },
         "marker": {
          "symbol": "circle"
         },
         "mode": "lines",
         "name": "wed",
         "orientation": "h",
         "showlegend": false,
         "stackgroup": "1",
         "type": "scatter",
         "x": [
          0
         ],
         "xaxis": "x",
         "y": [
          "wed"
         ],
         "yaxis": "y"
        },
        {
         "fillpattern": {
          "shape": ""
         },
         "hovertemplate": "day=%{y}<br>temp=28.2<br>rain=%{x}<extra></extra>",
         "legendgroup": "wed",
         "line": {
          "color": "#19d3f3"
         },
         "marker": {
          "symbol": "circle"
         },
         "mode": "lines",
         "name": "wed",
         "orientation": "h",
         "showlegend": false,
         "stackgroup": "1",
         "type": "scatter",
         "x": [
          0
         ],
         "xaxis": "x",
         "y": [
          "wed"
         ],
         "yaxis": "y"
        },
        {
         "fillpattern": {
          "shape": ""
         },
         "hovertemplate": "day=%{y}<br>temp=28.0<br>rain=%{x}<extra></extra>",
         "legendgroup": "wed",
         "line": {
          "color": "#19d3f3"
         },
         "marker": {
          "symbol": "circle"
         },
         "mode": "lines",
         "name": "wed",
         "orientation": "h",
         "showlegend": false,
         "stackgroup": "1",
         "type": "scatter",
         "x": [
          0,
          0
         ],
         "xaxis": "x",
         "y": [
          "wed",
          "wed"
         ],
         "yaxis": "y"
        },
        {
         "fillpattern": {
          "shape": ""
         },
         "hovertemplate": "day=%{y}<br>temp=19.9<br>rain=%{x}<extra></extra>",
         "legendgroup": "wed",
         "line": {
          "color": "#19d3f3"
         },
         "marker": {
          "symbol": "circle"
         },
         "mode": "lines",
         "name": "wed",
         "orientation": "h",
         "showlegend": false,
         "stackgroup": "1",
         "type": "scatter",
         "x": [
          0
         ],
         "xaxis": "x",
         "y": [
          "wed"
         ],
         "yaxis": "y"
        },
        {
         "fillpattern": {
          "shape": ""
         },
         "hovertemplate": "day=%{y}<br>temp=26.2<br>rain=%{x}<extra></extra>",
         "legendgroup": "wed",
         "line": {
          "color": "#19d3f3"
         },
         "marker": {
          "symbol": "circle"
         },
         "mode": "lines",
         "name": "wed",
         "orientation": "h",
         "showlegend": false,
         "stackgroup": "1",
         "type": "scatter",
         "x": [
          0
         ],
         "xaxis": "x",
         "y": [
          "wed"
         ],
         "yaxis": "y"
        },
        {
         "fillpattern": {
          "shape": ""
         },
         "hovertemplate": "day=%{y}<br>temp=30.8<br>rain=%{x}<extra></extra>",
         "legendgroup": "wed",
         "line": {
          "color": "#19d3f3"
         },
         "marker": {
          "symbol": "circle"
         },
         "mode": "lines",
         "name": "wed",
         "orientation": "h",
         "showlegend": false,
         "stackgroup": "1",
         "type": "scatter",
         "x": [
          0
         ],
         "xaxis": "x",
         "y": [
          "wed"
         ],
         "yaxis": "y"
        },
        {
         "fillpattern": {
          "shape": ""
         },
         "hovertemplate": "day=%{y}<br>temp=8.9<br>rain=%{x}<extra></extra>",
         "legendgroup": "wed",
         "line": {
          "color": "#19d3f3"
         },
         "marker": {
          "symbol": "circle"
         },
         "mode": "lines",
         "name": "wed",
         "orientation": "h",
         "showlegend": false,
         "stackgroup": "1",
         "type": "scatter",
         "x": [
          0
         ],
         "xaxis": "x",
         "y": [
          "wed"
         ],
         "yaxis": "y"
        },
        {
         "fillpattern": {
          "shape": ""
         },
         "hovertemplate": "day=%{y}<br>temp=10.5<br>rain=%{x}<extra></extra>",
         "legendgroup": "wed",
         "line": {
          "color": "#19d3f3"
         },
         "marker": {
          "symbol": "circle"
         },
         "mode": "lines",
         "name": "wed",
         "orientation": "h",
         "showlegend": false,
         "stackgroup": "1",
         "type": "scatter",
         "x": [
          0
         ],
         "xaxis": "x",
         "y": [
          "wed"
         ],
         "yaxis": "y"
        },
        {
         "fillpattern": {
          "shape": ""
         },
         "hovertemplate": "day=%{y}<br>temp=29.2<br>rain=%{x}<extra></extra>",
         "legendgroup": "wed",
         "line": {
          "color": "#19d3f3"
         },
         "marker": {
          "symbol": "circle"
         },
         "mode": "lines",
         "name": "wed",
         "orientation": "h",
         "showlegend": false,
         "stackgroup": "1",
         "type": "scatter",
         "x": [
          0
         ],
         "xaxis": "x",
         "y": [
          "wed"
         ],
         "yaxis": "y"
        },
        {
         "fillpattern": {
          "shape": ""
         },
         "hovertemplate": "day=%{y}<br>temp=28.9<br>rain=%{x}<extra></extra>",
         "legendgroup": "wed",
         "line": {
          "color": "#19d3f3"
         },
         "marker": {
          "symbol": "circle"
         },
         "mode": "lines",
         "name": "wed",
         "orientation": "h",
         "showlegend": false,
         "stackgroup": "1",
         "type": "scatter",
         "x": [
          0
         ],
         "xaxis": "x",
         "y": [
          "wed"
         ],
         "yaxis": "y"
        },
        {
         "fillpattern": {
          "shape": ""
         },
         "hovertemplate": "day=%{y}<br>temp=22.8<br>rain=%{x}<extra></extra>",
         "legendgroup": "thu",
         "line": {
          "color": "#FF6692"
         },
         "marker": {
          "symbol": "circle"
         },
         "mode": "lines",
         "name": "thu",
         "orientation": "h",
         "showlegend": true,
         "stackgroup": "1",
         "type": "scatter",
         "x": [
          0
         ],
         "xaxis": "x",
         "y": [
          "thu"
         ],
         "yaxis": "y"
        },
        {
         "fillpattern": {
          "shape": ""
         },
         "hovertemplate": "day=%{y}<br>temp=21.3<br>rain=%{x}<extra></extra>",
         "legendgroup": "thu",
         "line": {
          "color": "#FF6692"
         },
         "marker": {
          "symbol": "circle"
         },
         "mode": "lines",
         "name": "thu",
         "orientation": "h",
         "showlegend": false,
         "stackgroup": "1",
         "type": "scatter",
         "x": [
          0
         ],
         "xaxis": "x",
         "y": [
          "thu"
         ],
         "yaxis": "y"
        },
        {
         "fillpattern": {
          "shape": ""
         },
         "hovertemplate": "day=%{y}<br>temp=26.4<br>rain=%{x}<extra></extra>",
         "legendgroup": "thu",
         "line": {
          "color": "#FF6692"
         },
         "marker": {
          "symbol": "circle"
         },
         "mode": "lines",
         "name": "thu",
         "orientation": "h",
         "showlegend": false,
         "stackgroup": "1",
         "type": "scatter",
         "x": [
          0
         ],
         "xaxis": "x",
         "y": [
          "thu"
         ],
         "yaxis": "y"
        },
        {
         "fillpattern": {
          "shape": ""
         },
         "hovertemplate": "day=%{y}<br>temp=23.7<br>rain=%{x}<extra></extra>",
         "legendgroup": "thu",
         "line": {
          "color": "#FF6692"
         },
         "marker": {
          "symbol": "circle"
         },
         "mode": "lines",
         "name": "thu",
         "orientation": "h",
         "showlegend": false,
         "stackgroup": "1",
         "type": "scatter",
         "x": [
          0
         ],
         "xaxis": "x",
         "y": [
          "thu"
         ],
         "yaxis": "y"
        },
        {
         "fillpattern": {
          "shape": ""
         },
         "hovertemplate": "day=%{y}<br>temp=19.4<br>rain=%{x}<extra></extra>",
         "legendgroup": "thu",
         "line": {
          "color": "#FF6692"
         },
         "marker": {
          "symbol": "circle"
         },
         "mode": "lines",
         "name": "thu",
         "orientation": "h",
         "showlegend": false,
         "stackgroup": "1",
         "type": "scatter",
         "x": [
          0
         ],
         "xaxis": "x",
         "y": [
          "thu"
         ],
         "yaxis": "y"
        },
        {
         "fillpattern": {
          "shape": ""
         },
         "hovertemplate": "day=%{y}<br>temp=30.2<br>rain=%{x}<extra></extra>",
         "legendgroup": "thu",
         "line": {
          "color": "#FF6692"
         },
         "marker": {
          "symbol": "circle"
         },
         "mode": "lines",
         "name": "thu",
         "orientation": "h",
         "showlegend": false,
         "stackgroup": "1",
         "type": "scatter",
         "x": [
          0,
          0
         ],
         "xaxis": "x",
         "y": [
          "thu",
          "thu"
         ],
         "yaxis": "y"
        },
        {
         "fillpattern": {
          "shape": ""
         },
         "hovertemplate": "day=%{y}<br>temp=25.4<br>rain=%{x}<extra></extra>",
         "legendgroup": "thu",
         "line": {
          "color": "#FF6692"
         },
         "marker": {
          "symbol": "circle"
         },
         "mode": "lines",
         "name": "thu",
         "orientation": "h",
         "showlegend": false,
         "stackgroup": "1",
         "type": "scatter",
         "x": [
          0
         ],
         "xaxis": "x",
         "y": [
          "thu"
         ],
         "yaxis": "y"
        },
        {
         "fillpattern": {
          "shape": ""
         },
         "hovertemplate": "day=%{y}<br>temp=18.2<br>rain=%{x}<extra></extra>",
         "legendgroup": "thu",
         "line": {
          "color": "#FF6692"
         },
         "marker": {
          "symbol": "circle"
         },
         "mode": "lines",
         "name": "thu",
         "orientation": "h",
         "showlegend": false,
         "stackgroup": "1",
         "type": "scatter",
         "x": [
          0
         ],
         "xaxis": "x",
         "y": [
          "thu"
         ],
         "yaxis": "y"
        },
        {
         "fillpattern": {
          "shape": ""
         },
         "hovertemplate": "day=%{y}<br>temp=16.6<br>rain=%{x}<extra></extra>",
         "legendgroup": "thu",
         "line": {
          "color": "#FF6692"
         },
         "marker": {
          "symbol": "circle"
         },
         "mode": "lines",
         "name": "thu",
         "orientation": "h",
         "showlegend": false,
         "stackgroup": "1",
         "type": "scatter",
         "x": [
          0
         ],
         "xaxis": "x",
         "y": [
          "thu"
         ],
         "yaxis": "y"
        },
        {
         "fillpattern": {
          "shape": ""
         },
         "hovertemplate": "day=%{y}<br>temp=19.6<br>rain=%{x}<extra></extra>",
         "legendgroup": "thu",
         "line": {
          "color": "#FF6692"
         },
         "marker": {
          "symbol": "circle"
         },
         "mode": "lines",
         "name": "thu",
         "orientation": "h",
         "showlegend": false,
         "stackgroup": "1",
         "type": "scatter",
         "x": [
          0
         ],
         "xaxis": "x",
         "y": [
          "thu"
         ],
         "yaxis": "y"
        },
        {
         "fillpattern": {
          "shape": ""
         },
         "hovertemplate": "day=%{y}<br>temp=12.9<br>rain=%{x}<extra></extra>",
         "legendgroup": "thu",
         "line": {
          "color": "#FF6692"
         },
         "marker": {
          "symbol": "circle"
         },
         "mode": "lines",
         "name": "thu",
         "orientation": "h",
         "showlegend": false,
         "stackgroup": "1",
         "type": "scatter",
         "x": [
          0
         ],
         "xaxis": "x",
         "y": [
          "thu"
         ],
         "yaxis": "y"
        },
        {
         "fillpattern": {
          "shape": ""
         },
         "hovertemplate": "day=%{y}<br>temp=20.8<br>rain=%{x}<extra></extra>",
         "legendgroup": "thu",
         "line": {
          "color": "#FF6692"
         },
         "marker": {
          "symbol": "circle"
         },
         "mode": "lines",
         "name": "thu",
         "orientation": "h",
         "showlegend": false,
         "stackgroup": "1",
         "type": "scatter",
         "x": [
          0
         ],
         "xaxis": "x",
         "y": [
          "thu"
         ],
         "yaxis": "y"
        },
        {
         "fillpattern": {
          "shape": ""
         },
         "hovertemplate": "day=%{y}<br>temp=21.5<br>rain=%{x}<extra></extra>",
         "legendgroup": "thu",
         "line": {
          "color": "#FF6692"
         },
         "marker": {
          "symbol": "circle"
         },
         "mode": "lines",
         "name": "thu",
         "orientation": "h",
         "showlegend": false,
         "stackgroup": "1",
         "type": "scatter",
         "x": [
          0,
          0
         ],
         "xaxis": "x",
         "y": [
          "thu",
          "thu"
         ],
         "yaxis": "y"
        },
        {
         "fillpattern": {
          "shape": ""
         },
         "hovertemplate": "day=%{y}<br>temp=20.4<br>rain=%{x}<extra></extra>",
         "legendgroup": "thu",
         "line": {
          "color": "#FF6692"
         },
         "marker": {
          "symbol": "circle"
         },
         "mode": "lines",
         "name": "thu",
         "orientation": "h",
         "showlegend": false,
         "stackgroup": "1",
         "type": "scatter",
         "x": [
          0,
          0
         ],
         "xaxis": "x",
         "y": [
          "thu",
          "thu"
         ],
         "yaxis": "y"
        },
        {
         "fillpattern": {
          "shape": ""
         },
         "hovertemplate": "day=%{y}<br>temp=17.6<br>rain=%{x}<extra></extra>",
         "legendgroup": "thu",
         "line": {
          "color": "#FF6692"
         },
         "marker": {
          "symbol": "circle"
         },
         "mode": "lines",
         "name": "thu",
         "orientation": "h",
         "showlegend": false,
         "stackgroup": "1",
         "type": "scatter",
         "x": [
          0,
          0
         ],
         "xaxis": "x",
         "y": [
          "thu",
          "thu"
         ],
         "yaxis": "y"
        },
        {
         "fillpattern": {
          "shape": ""
         },
         "hovertemplate": "day=%{y}<br>temp=27.7<br>rain=%{x}<extra></extra>",
         "legendgroup": "thu",
         "line": {
          "color": "#FF6692"
         },
         "marker": {
          "symbol": "circle"
         },
         "mode": "lines",
         "name": "thu",
         "orientation": "h",
         "showlegend": false,
         "stackgroup": "1",
         "type": "scatter",
         "x": [
          0
         ],
         "xaxis": "x",
         "y": [
          "thu"
         ],
         "yaxis": "y"
        },
        {
         "fillpattern": {
          "shape": ""
         },
         "hovertemplate": "day=%{y}<br>temp=18.8<br>rain=%{x}<extra></extra>",
         "legendgroup": "thu",
         "line": {
          "color": "#FF6692"
         },
         "marker": {
          "symbol": "circle"
         },
         "mode": "lines",
         "name": "thu",
         "orientation": "h",
         "showlegend": false,
         "stackgroup": "1",
         "type": "scatter",
         "x": [
          0
         ],
         "xaxis": "x",
         "y": [
          "thu"
         ],
         "yaxis": "y"
        },
        {
         "fillpattern": {
          "shape": ""
         },
         "hovertemplate": "day=%{y}<br>temp=18.6<br>rain=%{x}<extra></extra>",
         "legendgroup": "thu",
         "line": {
          "color": "#FF6692"
         },
         "marker": {
          "symbol": "circle"
         },
         "mode": "lines",
         "name": "thu",
         "orientation": "h",
         "showlegend": false,
         "stackgroup": "1",
         "type": "scatter",
         "x": [
          0,
          0
         ],
         "xaxis": "x",
         "y": [
          "thu",
          "thu"
         ],
         "yaxis": "y"
        },
        {
         "fillpattern": {
          "shape": ""
         },
         "hovertemplate": "day=%{y}<br>temp=6.7<br>rain=%{x}<extra></extra>",
         "legendgroup": "thu",
         "line": {
          "color": "#FF6692"
         },
         "marker": {
          "symbol": "circle"
         },
         "mode": "lines",
         "name": "thu",
         "orientation": "h",
         "showlegend": false,
         "stackgroup": "1",
         "type": "scatter",
         "x": [
          0
         ],
         "xaxis": "x",
         "y": [
          "thu"
         ],
         "yaxis": "y"
        },
        {
         "fillpattern": {
          "shape": ""
         },
         "hovertemplate": "day=%{y}<br>temp=21.6<br>rain=%{x}<extra></extra>",
         "legendgroup": "thu",
         "line": {
          "color": "#FF6692"
         },
         "marker": {
          "symbol": "circle"
         },
         "mode": "lines",
         "name": "thu",
         "orientation": "h",
         "showlegend": false,
         "stackgroup": "1",
         "type": "scatter",
         "x": [
          0,
          0
         ],
         "xaxis": "x",
         "y": [
          "thu",
          "thu"
         ],
         "yaxis": "y"
        },
        {
         "fillpattern": {
          "shape": ""
         },
         "hovertemplate": "day=%{y}<br>temp=20.2<br>rain=%{x}<extra></extra>",
         "legendgroup": "thu",
         "line": {
          "color": "#FF6692"
         },
         "marker": {
          "symbol": "circle"
         },
         "mode": "lines",
         "name": "thu",
         "orientation": "h",
         "showlegend": false,
         "stackgroup": "1",
         "type": "scatter",
         "x": [
          0
         ],
         "xaxis": "x",
         "y": [
          "thu"
         ],
         "yaxis": "y"
        },
        {
         "fillpattern": {
          "shape": ""
         },
         "hovertemplate": "day=%{y}<br>temp=22.4<br>rain=%{x}<extra></extra>",
         "legendgroup": "thu",
         "line": {
          "color": "#FF6692"
         },
         "marker": {
          "symbol": "circle"
         },
         "mode": "lines",
         "name": "thu",
         "orientation": "h",
         "showlegend": false,
         "stackgroup": "1",
         "type": "scatter",
         "x": [
          0
         ],
         "xaxis": "x",
         "y": [
          "thu"
         ],
         "yaxis": "y"
        },
        {
         "fillpattern": {
          "shape": ""
         },
         "hovertemplate": "day=%{y}<br>temp=17.4<br>rain=%{x}<extra></extra>",
         "legendgroup": "thu",
         "line": {
          "color": "#FF6692"
         },
         "marker": {
          "symbol": "circle"
         },
         "mode": "lines",
         "name": "thu",
         "orientation": "h",
         "showlegend": false,
         "stackgroup": "1",
         "type": "scatter",
         "x": [
          0
         ],
         "xaxis": "x",
         "y": [
          "thu"
         ],
         "yaxis": "y"
        },
        {
         "fillpattern": {
          "shape": ""
         },
         "hovertemplate": "day=%{y}<br>temp=11.6<br>rain=%{x}<extra></extra>",
         "legendgroup": "thu",
         "line": {
          "color": "#FF6692"
         },
         "marker": {
          "symbol": "circle"
         },
         "mode": "lines",
         "name": "thu",
         "orientation": "h",
         "showlegend": false,
         "stackgroup": "1",
         "type": "scatter",
         "x": [
          0
         ],
         "xaxis": "x",
         "y": [
          "thu"
         ],
         "yaxis": "y"
        },
        {
         "fillpattern": {
          "shape": ""
         },
         "hovertemplate": "day=%{y}<br>temp=5.3<br>rain=%{x}<extra></extra>",
         "legendgroup": "thu",
         "line": {
          "color": "#FF6692"
         },
         "marker": {
          "symbol": "circle"
         },
         "mode": "lines",
         "name": "thu",
         "orientation": "h",
         "showlegend": false,
         "stackgroup": "1",
         "type": "scatter",
         "x": [
          0
         ],
         "xaxis": "x",
         "y": [
          "thu"
         ],
         "yaxis": "y"
        },
        {
         "fillpattern": {
          "shape": ""
         },
         "hovertemplate": "day=%{y}<br>temp=21.4<br>rain=%{x}<extra></extra>",
         "legendgroup": "thu",
         "line": {
          "color": "#FF6692"
         },
         "marker": {
          "symbol": "circle"
         },
         "mode": "lines",
         "name": "thu",
         "orientation": "h",
         "showlegend": false,
         "stackgroup": "1",
         "type": "scatter",
         "x": [
          0
         ],
         "xaxis": "x",
         "y": [
          "thu"
         ],
         "yaxis": "y"
        },
        {
         "fillpattern": {
          "shape": ""
         },
         "hovertemplate": "day=%{y}<br>temp=20.3<br>rain=%{x}<extra></extra>",
         "legendgroup": "thu",
         "line": {
          "color": "#FF6692"
         },
         "marker": {
          "symbol": "circle"
         },
         "mode": "lines",
         "name": "thu",
         "orientation": "h",
         "showlegend": false,
         "stackgroup": "1",
         "type": "scatter",
         "x": [
          0,
          0
         ],
         "xaxis": "x",
         "y": [
          "thu",
          "thu"
         ],
         "yaxis": "y"
        },
        {
         "fillpattern": {
          "shape": ""
         },
         "hovertemplate": "day=%{y}<br>temp=13.7<br>rain=%{x}<extra></extra>",
         "legendgroup": "thu",
         "line": {
          "color": "#FF6692"
         },
         "marker": {
          "symbol": "circle"
         },
         "mode": "lines",
         "name": "thu",
         "orientation": "h",
         "showlegend": false,
         "stackgroup": "1",
         "type": "scatter",
         "x": [
          0
         ],
         "xaxis": "x",
         "y": [
          "thu"
         ],
         "yaxis": "y"
        },
        {
         "fillpattern": {
          "shape": ""
         },
         "hovertemplate": "day=%{y}<br>temp=18.9<br>rain=%{x}<extra></extra>",
         "legendgroup": "thu",
         "line": {
          "color": "#FF6692"
         },
         "marker": {
          "symbol": "circle"
         },
         "mode": "lines",
         "name": "thu",
         "orientation": "h",
         "showlegend": false,
         "stackgroup": "1",
         "type": "scatter",
         "x": [
          0,
          0
         ],
         "xaxis": "x",
         "y": [
          "thu",
          "thu"
         ],
         "yaxis": "y"
        },
        {
         "fillpattern": {
          "shape": ""
         },
         "hovertemplate": "day=%{y}<br>temp=27.4<br>rain=%{x}<extra></extra>",
         "legendgroup": "thu",
         "line": {
          "color": "#FF6692"
         },
         "marker": {
          "symbol": "circle"
         },
         "mode": "lines",
         "name": "thu",
         "orientation": "h",
         "showlegend": false,
         "stackgroup": "1",
         "type": "scatter",
         "x": [
          0
         ],
         "xaxis": "x",
         "y": [
          "thu"
         ],
         "yaxis": "y"
        },
        {
         "fillpattern": {
          "shape": ""
         },
         "hovertemplate": "day=%{y}<br>temp=24.2<br>rain=%{x}<extra></extra>",
         "legendgroup": "thu",
         "line": {
          "color": "#FF6692"
         },
         "marker": {
          "symbol": "circle"
         },
         "mode": "lines",
         "name": "thu",
         "orientation": "h",
         "showlegend": false,
         "stackgroup": "1",
         "type": "scatter",
         "x": [
          0
         ],
         "xaxis": "x",
         "y": [
          "thu"
         ],
         "yaxis": "y"
        },
        {
         "fillpattern": {
          "shape": ""
         },
         "hovertemplate": "day=%{y}<br>temp=23.2<br>rain=%{x}<extra></extra>",
         "legendgroup": "thu",
         "line": {
          "color": "#FF6692"
         },
         "marker": {
          "symbol": "circle"
         },
         "mode": "lines",
         "name": "thu",
         "orientation": "h",
         "showlegend": false,
         "stackgroup": "1",
         "type": "scatter",
         "x": [
          0
         ],
         "xaxis": "x",
         "y": [
          "thu"
         ],
         "yaxis": "y"
        },
        {
         "fillpattern": {
          "shape": ""
         },
         "hovertemplate": "day=%{y}<br>temp=20.5<br>rain=%{x}<extra></extra>",
         "legendgroup": "thu",
         "line": {
          "color": "#FF6692"
         },
         "marker": {
          "symbol": "circle"
         },
         "mode": "lines",
         "name": "thu",
         "orientation": "h",
         "showlegend": false,
         "stackgroup": "1",
         "type": "scatter",
         "x": [
          0
         ],
         "xaxis": "x",
         "y": [
          "thu"
         ],
         "yaxis": "y"
        },
        {
         "fillpattern": {
          "shape": ""
         },
         "hovertemplate": "day=%{y}<br>temp=20.7<br>rain=%{x}<extra></extra>",
         "legendgroup": "thu",
         "line": {
          "color": "#FF6692"
         },
         "marker": {
          "symbol": "circle"
         },
         "mode": "lines",
         "name": "thu",
         "orientation": "h",
         "showlegend": false,
         "stackgroup": "1",
         "type": "scatter",
         "x": [
          0
         ],
         "xaxis": "x",
         "y": [
          "thu"
         ],
         "yaxis": "y"
        },
        {
         "fillpattern": {
          "shape": ""
         },
         "hovertemplate": "day=%{y}<br>temp=5.8<br>rain=%{x}<extra></extra>",
         "legendgroup": "thu",
         "line": {
          "color": "#FF6692"
         },
         "marker": {
          "symbol": "circle"
         },
         "mode": "lines",
         "name": "thu",
         "orientation": "h",
         "showlegend": false,
         "stackgroup": "1",
         "type": "scatter",
         "x": [
          0,
          0
         ],
         "xaxis": "x",
         "y": [
          "thu",
          "thu"
         ],
         "yaxis": "y"
        },
        {
         "fillpattern": {
          "shape": ""
         },
         "hovertemplate": "day=%{y}<br>temp=19.2<br>rain=%{x}<extra></extra>",
         "legendgroup": "thu",
         "line": {
          "color": "#FF6692"
         },
         "marker": {
          "symbol": "circle"
         },
         "mode": "lines",
         "name": "thu",
         "orientation": "h",
         "showlegend": false,
         "stackgroup": "1",
         "type": "scatter",
         "x": [
          0
         ],
         "xaxis": "x",
         "y": [
          "thu"
         ],
         "yaxis": "y"
        },
        {
         "fillpattern": {
          "shape": ""
         },
         "hovertemplate": "day=%{y}<br>temp=23.9<br>rain=%{x}<extra></extra>",
         "legendgroup": "thu",
         "line": {
          "color": "#FF6692"
         },
         "marker": {
          "symbol": "circle"
         },
         "mode": "lines",
         "name": "thu",
         "orientation": "h",
         "showlegend": false,
         "stackgroup": "1",
         "type": "scatter",
         "x": [
          0
         ],
         "xaxis": "x",
         "y": [
          "thu"
         ],
         "yaxis": "y"
        },
        {
         "fillpattern": {
          "shape": ""
         },
         "hovertemplate": "day=%{y}<br>temp=16.8<br>rain=%{x}<extra></extra>",
         "legendgroup": "thu",
         "line": {
          "color": "#FF6692"
         },
         "marker": {
          "symbol": "circle"
         },
         "mode": "lines",
         "name": "thu",
         "orientation": "h",
         "showlegend": false,
         "stackgroup": "1",
         "type": "scatter",
         "x": [
          0,
          0,
          0
         ],
         "xaxis": "x",
         "y": [
          "thu",
          "thu",
          "thu"
         ],
         "yaxis": "y"
        },
        {
         "fillpattern": {
          "shape": ""
         },
         "hovertemplate": "day=%{y}<br>temp=13.3<br>rain=%{x}<extra></extra>",
         "legendgroup": "thu",
         "line": {
          "color": "#FF6692"
         },
         "marker": {
          "symbol": "circle"
         },
         "mode": "lines",
         "name": "thu",
         "orientation": "h",
         "showlegend": false,
         "stackgroup": "1",
         "type": "scatter",
         "x": [
          0
         ],
         "xaxis": "x",
         "y": [
          "thu"
         ],
         "yaxis": "y"
        },
        {
         "fillpattern": {
          "shape": ""
         },
         "hovertemplate": "day=%{y}<br>temp=22.1<br>rain=%{x}<extra></extra>",
         "legendgroup": "thu",
         "line": {
          "color": "#FF6692"
         },
         "marker": {
          "symbol": "circle"
         },
         "mode": "lines",
         "name": "thu",
         "orientation": "h",
         "showlegend": false,
         "stackgroup": "1",
         "type": "scatter",
         "x": [
          0
         ],
         "xaxis": "x",
         "y": [
          "thu"
         ],
         "yaxis": "y"
        },
        {
         "fillpattern": {
          "shape": ""
         },
         "hovertemplate": "day=%{y}<br>temp=5.1<br>rain=%{x}<extra></extra>",
         "legendgroup": "thu",
         "line": {
          "color": "#FF6692"
         },
         "marker": {
          "symbol": "circle"
         },
         "mode": "lines",
         "name": "thu",
         "orientation": "h",
         "showlegend": false,
         "stackgroup": "1",
         "type": "scatter",
         "x": [
          0
         ],
         "xaxis": "x",
         "y": [
          "thu"
         ],
         "yaxis": "y"
        },
        {
         "fillpattern": {
          "shape": ""
         },
         "hovertemplate": "day=%{y}<br>temp=16.2<br>rain=%{x}<extra></extra>",
         "legendgroup": "thu",
         "line": {
          "color": "#FF6692"
         },
         "marker": {
          "symbol": "circle"
         },
         "mode": "lines",
         "name": "thu",
         "orientation": "h",
         "showlegend": false,
         "stackgroup": "1",
         "type": "scatter",
         "x": [
          0
         ],
         "xaxis": "x",
         "y": [
          "thu"
         ],
         "yaxis": "y"
        },
        {
         "fillpattern": {
          "shape": ""
         },
         "hovertemplate": "day=%{y}<br>temp=22.3<br>rain=%{x}<extra></extra>",
         "legendgroup": "thu",
         "line": {
          "color": "#FF6692"
         },
         "marker": {
          "symbol": "circle"
         },
         "mode": "lines",
         "name": "thu",
         "orientation": "h",
         "showlegend": false,
         "stackgroup": "1",
         "type": "scatter",
         "x": [
          0
         ],
         "xaxis": "x",
         "y": [
          "thu"
         ],
         "yaxis": "y"
        },
        {
         "fillpattern": {
          "shape": ""
         },
         "hovertemplate": "day=%{y}<br>temp=22.7<br>rain=%{x}<extra></extra>",
         "legendgroup": "thu",
         "line": {
          "color": "#FF6692"
         },
         "marker": {
          "symbol": "circle"
         },
         "mode": "lines",
         "name": "thu",
         "orientation": "h",
         "showlegend": false,
         "stackgroup": "1",
         "type": "scatter",
         "x": [
          0
         ],
         "xaxis": "x",
         "y": [
          "thu"
         ],
         "yaxis": "y"
        },
        {
         "fillpattern": {
          "shape": ""
         },
         "hovertemplate": "day=%{y}<br>temp=8.7<br>rain=%{x}<extra></extra>",
         "legendgroup": "thu",
         "line": {
          "color": "#FF6692"
         },
         "marker": {
          "symbol": "circle"
         },
         "mode": "lines",
         "name": "thu",
         "orientation": "h",
         "showlegend": false,
         "stackgroup": "1",
         "type": "scatter",
         "x": [
          0
         ],
         "xaxis": "x",
         "y": [
          "thu"
         ],
         "yaxis": "y"
        },
        {
         "fillpattern": {
          "shape": ""
         },
         "hovertemplate": "day=%{y}<br>temp=27.5<br>rain=%{x}<extra></extra>",
         "legendgroup": "thu",
         "line": {
          "color": "#FF6692"
         },
         "marker": {
          "symbol": "circle"
         },
         "mode": "lines",
         "name": "thu",
         "orientation": "h",
         "showlegend": false,
         "stackgroup": "1",
         "type": "scatter",
         "x": [
          0
         ],
         "xaxis": "x",
         "y": [
          "thu"
         ],
         "yaxis": "y"
        },
        {
         "fillpattern": {
          "shape": ""
         },
         "hovertemplate": "day=%{y}<br>temp=26.2<br>rain=%{x}<extra></extra>",
         "legendgroup": "thu",
         "line": {
          "color": "#FF6692"
         },
         "marker": {
          "symbol": "circle"
         },
         "mode": "lines",
         "name": "thu",
         "orientation": "h",
         "showlegend": false,
         "stackgroup": "1",
         "type": "scatter",
         "x": [
          0
         ],
         "xaxis": "x",
         "y": [
          "thu"
         ],
         "yaxis": "y"
        },
        {
         "fillpattern": {
          "shape": ""
         },
         "hovertemplate": "day=%{y}<br>temp=27.2<br>rain=%{x}<extra></extra>",
         "legendgroup": "thu",
         "line": {
          "color": "#FF6692"
         },
         "marker": {
          "symbol": "circle"
         },
         "mode": "lines",
         "name": "thu",
         "orientation": "h",
         "showlegend": false,
         "stackgroup": "1",
         "type": "scatter",
         "x": [
          0
         ],
         "xaxis": "x",
         "y": [
          "thu"
         ],
         "yaxis": "y"
        },
        {
         "fillpattern": {
          "shape": ""
         },
         "hovertemplate": "day=%{y}<br>temp=32.4<br>rain=%{x}<extra></extra>",
         "legendgroup": "thu",
         "line": {
          "color": "#FF6692"
         },
         "marker": {
          "symbol": "circle"
         },
         "mode": "lines",
         "name": "thu",
         "orientation": "h",
         "showlegend": false,
         "stackgroup": "1",
         "type": "scatter",
         "x": [
          0
         ],
         "xaxis": "x",
         "y": [
          "thu"
         ],
         "yaxis": "y"
        },
        {
         "fillpattern": {
          "shape": ""
         },
         "hovertemplate": "day=%{y}<br>temp=26.7<br>rain=%{x}<extra></extra>",
         "legendgroup": "thu",
         "line": {
          "color": "#FF6692"
         },
         "marker": {
          "symbol": "circle"
         },
         "mode": "lines",
         "name": "thu",
         "orientation": "h",
         "showlegend": false,
         "stackgroup": "1",
         "type": "scatter",
         "x": [
          0
         ],
         "xaxis": "x",
         "y": [
          "thu"
         ],
         "yaxis": "y"
        }
       ],
       "layout": {
        "legend": {
         "title": {
          "text": "day"
         },
         "tracegroupgap": 0
        },
        "margin": {
         "t": 60
        },
        "template": {
         "data": {
          "bar": [
           {
            "error_x": {
             "color": "#2a3f5f"
            },
            "error_y": {
             "color": "#2a3f5f"
            },
            "marker": {
             "line": {
              "color": "#E5ECF6",
              "width": 0.5
             },
             "pattern": {
              "fillmode": "overlay",
              "size": 10,
              "solidity": 0.2
             }
            },
            "type": "bar"
           }
          ],
          "barpolar": [
           {
            "marker": {
             "line": {
              "color": "#E5ECF6",
              "width": 0.5
             },
             "pattern": {
              "fillmode": "overlay",
              "size": 10,
              "solidity": 0.2
             }
            },
            "type": "barpolar"
           }
          ],
          "carpet": [
           {
            "aaxis": {
             "endlinecolor": "#2a3f5f",
             "gridcolor": "white",
             "linecolor": "white",
             "minorgridcolor": "white",
             "startlinecolor": "#2a3f5f"
            },
            "baxis": {
             "endlinecolor": "#2a3f5f",
             "gridcolor": "white",
             "linecolor": "white",
             "minorgridcolor": "white",
             "startlinecolor": "#2a3f5f"
            },
            "type": "carpet"
           }
          ],
          "choropleth": [
           {
            "colorbar": {
             "outlinewidth": 0,
             "ticks": ""
            },
            "type": "choropleth"
           }
          ],
          "contour": [
           {
            "colorbar": {
             "outlinewidth": 0,
             "ticks": ""
            },
            "colorscale": [
             [
              0,
              "#0d0887"
             ],
             [
              0.1111111111111111,
              "#46039f"
             ],
             [
              0.2222222222222222,
              "#7201a8"
             ],
             [
              0.3333333333333333,
              "#9c179e"
             ],
             [
              0.4444444444444444,
              "#bd3786"
             ],
             [
              0.5555555555555556,
              "#d8576b"
             ],
             [
              0.6666666666666666,
              "#ed7953"
             ],
             [
              0.7777777777777778,
              "#fb9f3a"
             ],
             [
              0.8888888888888888,
              "#fdca26"
             ],
             [
              1,
              "#f0f921"
             ]
            ],
            "type": "contour"
           }
          ],
          "contourcarpet": [
           {
            "colorbar": {
             "outlinewidth": 0,
             "ticks": ""
            },
            "type": "contourcarpet"
           }
          ],
          "heatmap": [
           {
            "colorbar": {
             "outlinewidth": 0,
             "ticks": ""
            },
            "colorscale": [
             [
              0,
              "#0d0887"
             ],
             [
              0.1111111111111111,
              "#46039f"
             ],
             [
              0.2222222222222222,
              "#7201a8"
             ],
             [
              0.3333333333333333,
              "#9c179e"
             ],
             [
              0.4444444444444444,
              "#bd3786"
             ],
             [
              0.5555555555555556,
              "#d8576b"
             ],
             [
              0.6666666666666666,
              "#ed7953"
             ],
             [
              0.7777777777777778,
              "#fb9f3a"
             ],
             [
              0.8888888888888888,
              "#fdca26"
             ],
             [
              1,
              "#f0f921"
             ]
            ],
            "type": "heatmap"
           }
          ],
          "heatmapgl": [
           {
            "colorbar": {
             "outlinewidth": 0,
             "ticks": ""
            },
            "colorscale": [
             [
              0,
              "#0d0887"
             ],
             [
              0.1111111111111111,
              "#46039f"
             ],
             [
              0.2222222222222222,
              "#7201a8"
             ],
             [
              0.3333333333333333,
              "#9c179e"
             ],
             [
              0.4444444444444444,
              "#bd3786"
             ],
             [
              0.5555555555555556,
              "#d8576b"
             ],
             [
              0.6666666666666666,
              "#ed7953"
             ],
             [
              0.7777777777777778,
              "#fb9f3a"
             ],
             [
              0.8888888888888888,
              "#fdca26"
             ],
             [
              1,
              "#f0f921"
             ]
            ],
            "type": "heatmapgl"
           }
          ],
          "histogram": [
           {
            "marker": {
             "pattern": {
              "fillmode": "overlay",
              "size": 10,
              "solidity": 0.2
             }
            },
            "type": "histogram"
           }
          ],
          "histogram2d": [
           {
            "colorbar": {
             "outlinewidth": 0,
             "ticks": ""
            },
            "colorscale": [
             [
              0,
              "#0d0887"
             ],
             [
              0.1111111111111111,
              "#46039f"
             ],
             [
              0.2222222222222222,
              "#7201a8"
             ],
             [
              0.3333333333333333,
              "#9c179e"
             ],
             [
              0.4444444444444444,
              "#bd3786"
             ],
             [
              0.5555555555555556,
              "#d8576b"
             ],
             [
              0.6666666666666666,
              "#ed7953"
             ],
             [
              0.7777777777777778,
              "#fb9f3a"
             ],
             [
              0.8888888888888888,
              "#fdca26"
             ],
             [
              1,
              "#f0f921"
             ]
            ],
            "type": "histogram2d"
           }
          ],
          "histogram2dcontour": [
           {
            "colorbar": {
             "outlinewidth": 0,
             "ticks": ""
            },
            "colorscale": [
             [
              0,
              "#0d0887"
             ],
             [
              0.1111111111111111,
              "#46039f"
             ],
             [
              0.2222222222222222,
              "#7201a8"
             ],
             [
              0.3333333333333333,
              "#9c179e"
             ],
             [
              0.4444444444444444,
              "#bd3786"
             ],
             [
              0.5555555555555556,
              "#d8576b"
             ],
             [
              0.6666666666666666,
              "#ed7953"
             ],
             [
              0.7777777777777778,
              "#fb9f3a"
             ],
             [
              0.8888888888888888,
              "#fdca26"
             ],
             [
              1,
              "#f0f921"
             ]
            ],
            "type": "histogram2dcontour"
           }
          ],
          "mesh3d": [
           {
            "colorbar": {
             "outlinewidth": 0,
             "ticks": ""
            },
            "type": "mesh3d"
           }
          ],
          "parcoords": [
           {
            "line": {
             "colorbar": {
              "outlinewidth": 0,
              "ticks": ""
             }
            },
            "type": "parcoords"
           }
          ],
          "pie": [
           {
            "automargin": true,
            "type": "pie"
           }
          ],
          "scatter": [
           {
            "fillpattern": {
             "fillmode": "overlay",
             "size": 10,
             "solidity": 0.2
            },
            "type": "scatter"
           }
          ],
          "scatter3d": [
           {
            "line": {
             "colorbar": {
              "outlinewidth": 0,
              "ticks": ""
             }
            },
            "marker": {
             "colorbar": {
              "outlinewidth": 0,
              "ticks": ""
             }
            },
            "type": "scatter3d"
           }
          ],
          "scattercarpet": [
           {
            "marker": {
             "colorbar": {
              "outlinewidth": 0,
              "ticks": ""
             }
            },
            "type": "scattercarpet"
           }
          ],
          "scattergeo": [
           {
            "marker": {
             "colorbar": {
              "outlinewidth": 0,
              "ticks": ""
             }
            },
            "type": "scattergeo"
           }
          ],
          "scattergl": [
           {
            "marker": {
             "colorbar": {
              "outlinewidth": 0,
              "ticks": ""
             }
            },
            "type": "scattergl"
           }
          ],
          "scattermapbox": [
           {
            "marker": {
             "colorbar": {
              "outlinewidth": 0,
              "ticks": ""
             }
            },
            "type": "scattermapbox"
           }
          ],
          "scatterpolar": [
           {
            "marker": {
             "colorbar": {
              "outlinewidth": 0,
              "ticks": ""
             }
            },
            "type": "scatterpolar"
           }
          ],
          "scatterpolargl": [
           {
            "marker": {
             "colorbar": {
              "outlinewidth": 0,
              "ticks": ""
             }
            },
            "type": "scatterpolargl"
           }
          ],
          "scatterternary": [
           {
            "marker": {
             "colorbar": {
              "outlinewidth": 0,
              "ticks": ""
             }
            },
            "type": "scatterternary"
           }
          ],
          "surface": [
           {
            "colorbar": {
             "outlinewidth": 0,
             "ticks": ""
            },
            "colorscale": [
             [
              0,
              "#0d0887"
             ],
             [
              0.1111111111111111,
              "#46039f"
             ],
             [
              0.2222222222222222,
              "#7201a8"
             ],
             [
              0.3333333333333333,
              "#9c179e"
             ],
             [
              0.4444444444444444,
              "#bd3786"
             ],
             [
              0.5555555555555556,
              "#d8576b"
             ],
             [
              0.6666666666666666,
              "#ed7953"
             ],
             [
              0.7777777777777778,
              "#fb9f3a"
             ],
             [
              0.8888888888888888,
              "#fdca26"
             ],
             [
              1,
              "#f0f921"
             ]
            ],
            "type": "surface"
           }
          ],
          "table": [
           {
            "cells": {
             "fill": {
              "color": "#EBF0F8"
             },
             "line": {
              "color": "white"
             }
            },
            "header": {
             "fill": {
              "color": "#C8D4E3"
             },
             "line": {
              "color": "white"
             }
            },
            "type": "table"
           }
          ]
         },
         "layout": {
          "annotationdefaults": {
           "arrowcolor": "#2a3f5f",
           "arrowhead": 0,
           "arrowwidth": 1
          },
          "autotypenumbers": "strict",
          "coloraxis": {
           "colorbar": {
            "outlinewidth": 0,
            "ticks": ""
           }
          },
          "colorscale": {
           "diverging": [
            [
             0,
             "#8e0152"
            ],
            [
             0.1,
             "#c51b7d"
            ],
            [
             0.2,
             "#de77ae"
            ],
            [
             0.3,
             "#f1b6da"
            ],
            [
             0.4,
             "#fde0ef"
            ],
            [
             0.5,
             "#f7f7f7"
            ],
            [
             0.6,
             "#e6f5d0"
            ],
            [
             0.7,
             "#b8e186"
            ],
            [
             0.8,
             "#7fbc41"
            ],
            [
             0.9,
             "#4d9221"
            ],
            [
             1,
             "#276419"
            ]
           ],
           "sequential": [
            [
             0,
             "#0d0887"
            ],
            [
             0.1111111111111111,
             "#46039f"
            ],
            [
             0.2222222222222222,
             "#7201a8"
            ],
            [
             0.3333333333333333,
             "#9c179e"
            ],
            [
             0.4444444444444444,
             "#bd3786"
            ],
            [
             0.5555555555555556,
             "#d8576b"
            ],
            [
             0.6666666666666666,
             "#ed7953"
            ],
            [
             0.7777777777777778,
             "#fb9f3a"
            ],
            [
             0.8888888888888888,
             "#fdca26"
            ],
            [
             1,
             "#f0f921"
            ]
           ],
           "sequentialminus": [
            [
             0,
             "#0d0887"
            ],
            [
             0.1111111111111111,
             "#46039f"
            ],
            [
             0.2222222222222222,
             "#7201a8"
            ],
            [
             0.3333333333333333,
             "#9c179e"
            ],
            [
             0.4444444444444444,
             "#bd3786"
            ],
            [
             0.5555555555555556,
             "#d8576b"
            ],
            [
             0.6666666666666666,
             "#ed7953"
            ],
            [
             0.7777777777777778,
             "#fb9f3a"
            ],
            [
             0.8888888888888888,
             "#fdca26"
            ],
            [
             1,
             "#f0f921"
            ]
           ]
          },
          "colorway": [
           "#636efa",
           "#EF553B",
           "#00cc96",
           "#ab63fa",
           "#FFA15A",
           "#19d3f3",
           "#FF6692",
           "#B6E880",
           "#FF97FF",
           "#FECB52"
          ],
          "font": {
           "color": "#2a3f5f"
          },
          "geo": {
           "bgcolor": "white",
           "lakecolor": "white",
           "landcolor": "#E5ECF6",
           "showlakes": true,
           "showland": true,
           "subunitcolor": "white"
          },
          "hoverlabel": {
           "align": "left"
          },
          "hovermode": "closest",
          "mapbox": {
           "style": "light"
          },
          "paper_bgcolor": "white",
          "plot_bgcolor": "#E5ECF6",
          "polar": {
           "angularaxis": {
            "gridcolor": "white",
            "linecolor": "white",
            "ticks": ""
           },
           "bgcolor": "#E5ECF6",
           "radialaxis": {
            "gridcolor": "white",
            "linecolor": "white",
            "ticks": ""
           }
          },
          "scene": {
           "xaxis": {
            "backgroundcolor": "#E5ECF6",
            "gridcolor": "white",
            "gridwidth": 2,
            "linecolor": "white",
            "showbackground": true,
            "ticks": "",
            "zerolinecolor": "white"
           },
           "yaxis": {
            "backgroundcolor": "#E5ECF6",
            "gridcolor": "white",
            "gridwidth": 2,
            "linecolor": "white",
            "showbackground": true,
            "ticks": "",
            "zerolinecolor": "white"
           },
           "zaxis": {
            "backgroundcolor": "#E5ECF6",
            "gridcolor": "white",
            "gridwidth": 2,
            "linecolor": "white",
            "showbackground": true,
            "ticks": "",
            "zerolinecolor": "white"
           }
          },
          "shapedefaults": {
           "line": {
            "color": "#2a3f5f"
           }
          },
          "ternary": {
           "aaxis": {
            "gridcolor": "white",
            "linecolor": "white",
            "ticks": ""
           },
           "baxis": {
            "gridcolor": "white",
            "linecolor": "white",
            "ticks": ""
           },
           "bgcolor": "#E5ECF6",
           "caxis": {
            "gridcolor": "white",
            "linecolor": "white",
            "ticks": ""
           }
          },
          "title": {
           "x": 0.05
          },
          "xaxis": {
           "automargin": true,
           "gridcolor": "white",
           "linecolor": "white",
           "ticks": "",
           "title": {
            "standoff": 15
           },
           "zerolinecolor": "white",
           "zerolinewidth": 2
          },
          "yaxis": {
           "automargin": true,
           "gridcolor": "white",
           "linecolor": "white",
           "ticks": "",
           "title": {
            "standoff": 15
           },
           "zerolinecolor": "white",
           "zerolinewidth": 2
          }
         }
        },
        "xaxis": {
         "anchor": "y",
         "domain": [
          0,
          1
         ],
         "title": {
          "text": "rain"
         }
        },
        "yaxis": {
         "anchor": "x",
         "categoryarray": [
          "thu",
          "wed",
          "mon",
          "sun",
          "sat",
          "tue",
          "fri"
         ],
         "categoryorder": "array",
         "domain": [
          0,
          1
         ],
         "title": {
          "text": "day"
         }
        }
       }
      },
      "text/html": [
       "<div>                            <div id=\"7701b6ce-7fd0-42d4-b54f-82cb8e2709e8\" class=\"plotly-graph-div\" style=\"height:525px; width:100%;\"></div>            <script type=\"text/javascript\">                require([\"plotly\"], function(Plotly) {                    window.PLOTLYENV=window.PLOTLYENV || {};                                    if (document.getElementById(\"7701b6ce-7fd0-42d4-b54f-82cb8e2709e8\")) {                    Plotly.newPlot(                        \"7701b6ce-7fd0-42d4-b54f-82cb8e2709e8\",                        [{\"fillpattern\":{\"shape\":\"\"},\"hovertemplate\":\"day=%{y}<br>temp=8.2<br>rain=%{x}<extra></extra>\",\"legendgroup\":\"fri\",\"line\":{\"color\":\"#636efa\"},\"marker\":{\"symbol\":\"circle\"},\"mode\":\"lines\",\"name\":\"fri\",\"orientation\":\"h\",\"showlegend\":true,\"stackgroup\":\"1\",\"x\":[0.0,0.0],\"xaxis\":\"x\",\"y\":[\"fri\",\"fri\"],\"yaxis\":\"y\",\"type\":\"scatter\"},{\"fillpattern\":{\"shape\":\"\"},\"hovertemplate\":\"day=%{y}<br>temp=18.0<br>rain=%{x}<extra></extra>\",\"legendgroup\":\"fri\",\"line\":{\"color\":\"#636efa\"},\"marker\":{\"symbol\":\"circle\"},\"mode\":\"lines\",\"name\":\"fri\",\"orientation\":\"h\",\"showlegend\":false,\"stackgroup\":\"1\",\"x\":[0.0],\"xaxis\":\"x\",\"y\":[\"fri\"],\"yaxis\":\"y\",\"type\":\"scatter\"},{\"fillpattern\":{\"shape\":\"\"},\"hovertemplate\":\"day=%{y}<br>temp=14.6<br>rain=%{x}<extra></extra>\",\"legendgroup\":\"fri\",\"line\":{\"color\":\"#636efa\"},\"marker\":{\"symbol\":\"circle\"},\"mode\":\"lines\",\"name\":\"fri\",\"orientation\":\"h\",\"showlegend\":false,\"stackgroup\":\"1\",\"x\":[0.0],\"xaxis\":\"x\",\"y\":[\"fri\"],\"yaxis\":\"y\",\"type\":\"scatter\"},{\"fillpattern\":{\"shape\":\"\"},\"hovertemplate\":\"day=%{y}<br>temp=8.3<br>rain=%{x}<extra></extra>\",\"legendgroup\":\"fri\",\"line\":{\"color\":\"#636efa\"},\"marker\":{\"symbol\":\"circle\"},\"mode\":\"lines\",\"name\":\"fri\",\"orientation\":\"h\",\"showlegend\":false,\"stackgroup\":\"1\",\"x\":[0.2],\"xaxis\":\"x\",\"y\":[\"fri\"],\"yaxis\":\"y\",\"type\":\"scatter\"},{\"fillpattern\":{\"shape\":\"\"},\"hovertemplate\":\"day=%{y}<br>temp=22.2<br>rain=%{x}<extra></extra>\",\"legendgroup\":\"fri\",\"line\":{\"color\":\"#636efa\"},\"marker\":{\"symbol\":\"circle\"},\"mode\":\"lines\",\"name\":\"fri\",\"orientation\":\"h\",\"showlegend\":false,\"stackgroup\":\"1\",\"x\":[0.0],\"xaxis\":\"x\",\"y\":[\"fri\"],\"yaxis\":\"y\",\"type\":\"scatter\"},{\"fillpattern\":{\"shape\":\"\"},\"hovertemplate\":\"day=%{y}<br>temp=19.3<br>rain=%{x}<extra></extra>\",\"legendgroup\":\"fri\",\"line\":{\"color\":\"#636efa\"},\"marker\":{\"symbol\":\"circle\"},\"mode\":\"lines\",\"name\":\"fri\",\"orientation\":\"h\",\"showlegend\":false,\"stackgroup\":\"1\",\"x\":[0.0],\"xaxis\":\"x\",\"y\":[\"fri\"],\"yaxis\":\"y\",\"type\":\"scatter\"},{\"fillpattern\":{\"shape\":\"\"},\"hovertemplate\":\"day=%{y}<br>temp=17.0<br>rain=%{x}<extra></extra>\",\"legendgroup\":\"fri\",\"line\":{\"color\":\"#636efa\"},\"marker\":{\"symbol\":\"circle\"},\"mode\":\"lines\",\"name\":\"fri\",\"orientation\":\"h\",\"showlegend\":false,\"stackgroup\":\"1\",\"x\":[0.0],\"xaxis\":\"x\",\"y\":[\"fri\"],\"yaxis\":\"y\",\"type\":\"scatter\"},{\"fillpattern\":{\"shape\":\"\"},\"hovertemplate\":\"day=%{y}<br>temp=22.9<br>rain=%{x}<extra></extra>\",\"legendgroup\":\"fri\",\"line\":{\"color\":\"#636efa\"},\"marker\":{\"symbol\":\"circle\"},\"mode\":\"lines\",\"name\":\"fri\",\"orientation\":\"h\",\"showlegend\":false,\"stackgroup\":\"1\",\"x\":[0.0,0.0],\"xaxis\":\"x\",\"y\":[\"fri\",\"fri\"],\"yaxis\":\"y\",\"type\":\"scatter\"},{\"fillpattern\":{\"shape\":\"\"},\"hovertemplate\":\"day=%{y}<br>temp=16.7<br>rain=%{x}<extra></extra>\",\"legendgroup\":\"fri\",\"line\":{\"color\":\"#636efa\"},\"marker\":{\"symbol\":\"circle\"},\"mode\":\"lines\",\"name\":\"fri\",\"orientation\":\"h\",\"showlegend\":false,\"stackgroup\":\"1\",\"x\":[0.0],\"xaxis\":\"x\",\"y\":[\"fri\"],\"yaxis\":\"y\",\"type\":\"scatter\"},{\"fillpattern\":{\"shape\":\"\"},\"hovertemplate\":\"day=%{y}<br>temp=15.9<br>rain=%{x}<extra></extra>\",\"legendgroup\":\"fri\",\"line\":{\"color\":\"#636efa\"},\"marker\":{\"symbol\":\"circle\"},\"mode\":\"lines\",\"name\":\"fri\",\"orientation\":\"h\",\"showlegend\":false,\"stackgroup\":\"1\",\"x\":[0.0],\"xaxis\":\"x\",\"y\":[\"fri\"],\"yaxis\":\"y\",\"type\":\"scatter\"},{\"fillpattern\":{\"shape\":\"\"},\"hovertemplate\":\"day=%{y}<br>temp=19.1<br>rain=%{x}<extra></extra>\",\"legendgroup\":\"fri\",\"line\":{\"color\":\"#636efa\"},\"marker\":{\"symbol\":\"circle\"},\"mode\":\"lines\",\"name\":\"fri\",\"orientation\":\"h\",\"showlegend\":false,\"stackgroup\":\"1\",\"x\":[0.0],\"xaxis\":\"x\",\"y\":[\"fri\"],\"yaxis\":\"y\",\"type\":\"scatter\"},{\"fillpattern\":{\"shape\":\"\"},\"hovertemplate\":\"day=%{y}<br>temp=19.0<br>rain=%{x}<extra></extra>\",\"legendgroup\":\"fri\",\"line\":{\"color\":\"#636efa\"},\"marker\":{\"symbol\":\"circle\"},\"mode\":\"lines\",\"name\":\"fri\",\"orientation\":\"h\",\"showlegend\":false,\"stackgroup\":\"1\",\"x\":[0.0,0.0],\"xaxis\":\"x\",\"y\":[\"fri\",\"fri\"],\"yaxis\":\"y\",\"type\":\"scatter\"},{\"fillpattern\":{\"shape\":\"\"},\"hovertemplate\":\"day=%{y}<br>temp=25.4<br>rain=%{x}<extra></extra>\",\"legendgroup\":\"fri\",\"line\":{\"color\":\"#636efa\"},\"marker\":{\"symbol\":\"circle\"},\"mode\":\"lines\",\"name\":\"fri\",\"orientation\":\"h\",\"showlegend\":false,\"stackgroup\":\"1\",\"x\":[0.0],\"xaxis\":\"x\",\"y\":[\"fri\"],\"yaxis\":\"y\",\"type\":\"scatter\"},{\"fillpattern\":{\"shape\":\"\"},\"hovertemplate\":\"day=%{y}<br>temp=11.2<br>rain=%{x}<extra></extra>\",\"legendgroup\":\"fri\",\"line\":{\"color\":\"#636efa\"},\"marker\":{\"symbol\":\"circle\"},\"mode\":\"lines\",\"name\":\"fri\",\"orientation\":\"h\",\"showlegend\":false,\"stackgroup\":\"1\",\"x\":[0.0],\"xaxis\":\"x\",\"y\":[\"fri\"],\"yaxis\":\"y\",\"type\":\"scatter\"},{\"fillpattern\":{\"shape\":\"\"},\"hovertemplate\":\"day=%{y}<br>temp=20.6<br>rain=%{x}<extra></extra>\",\"legendgroup\":\"fri\",\"line\":{\"color\":\"#636efa\"},\"marker\":{\"symbol\":\"circle\"},\"mode\":\"lines\",\"name\":\"fri\",\"orientation\":\"h\",\"showlegend\":false,\"stackgroup\":\"1\",\"x\":[0.0,0.0],\"xaxis\":\"x\",\"y\":[\"fri\",\"fri\"],\"yaxis\":\"y\",\"type\":\"scatter\"},{\"fillpattern\":{\"shape\":\"\"},\"hovertemplate\":\"day=%{y}<br>temp=17.7<br>rain=%{x}<extra></extra>\",\"legendgroup\":\"fri\",\"line\":{\"color\":\"#636efa\"},\"marker\":{\"symbol\":\"circle\"},\"mode\":\"lines\",\"name\":\"fri\",\"orientation\":\"h\",\"showlegend\":false,\"stackgroup\":\"1\",\"x\":[0.0],\"xaxis\":\"x\",\"y\":[\"fri\"],\"yaxis\":\"y\",\"type\":\"scatter\"},{\"fillpattern\":{\"shape\":\"\"},\"hovertemplate\":\"day=%{y}<br>temp=21.2<br>rain=%{x}<extra></extra>\",\"legendgroup\":\"fri\",\"line\":{\"color\":\"#636efa\"},\"marker\":{\"symbol\":\"circle\"},\"mode\":\"lines\",\"name\":\"fri\",\"orientation\":\"h\",\"showlegend\":false,\"stackgroup\":\"1\",\"x\":[0.0],\"xaxis\":\"x\",\"y\":[\"fri\"],\"yaxis\":\"y\",\"type\":\"scatter\"},{\"fillpattern\":{\"shape\":\"\"},\"hovertemplate\":\"day=%{y}<br>temp=18.2<br>rain=%{x}<extra></extra>\",\"legendgroup\":\"fri\",\"line\":{\"color\":\"#636efa\"},\"marker\":{\"symbol\":\"circle\"},\"mode\":\"lines\",\"name\":\"fri\",\"orientation\":\"h\",\"showlegend\":false,\"stackgroup\":\"1\",\"x\":[0.0],\"xaxis\":\"x\",\"y\":[\"fri\"],\"yaxis\":\"y\",\"type\":\"scatter\"},{\"fillpattern\":{\"shape\":\"\"},\"hovertemplate\":\"day=%{y}<br>temp=11.3<br>rain=%{x}<extra></extra>\",\"legendgroup\":\"fri\",\"line\":{\"color\":\"#636efa\"},\"marker\":{\"symbol\":\"circle\"},\"mode\":\"lines\",\"name\":\"fri\",\"orientation\":\"h\",\"showlegend\":false,\"stackgroup\":\"1\",\"x\":[0.0],\"xaxis\":\"x\",\"y\":[\"fri\"],\"yaxis\":\"y\",\"type\":\"scatter\"},{\"fillpattern\":{\"shape\":\"\"},\"hovertemplate\":\"day=%{y}<br>temp=23.3<br>rain=%{x}<extra></extra>\",\"legendgroup\":\"fri\",\"line\":{\"color\":\"#636efa\"},\"marker\":{\"symbol\":\"circle\"},\"mode\":\"lines\",\"name\":\"fri\",\"orientation\":\"h\",\"showlegend\":false,\"stackgroup\":\"1\",\"x\":[0.0,0.0],\"xaxis\":\"x\",\"y\":[\"fri\",\"fri\"],\"yaxis\":\"y\",\"type\":\"scatter\"},{\"fillpattern\":{\"shape\":\"\"},\"hovertemplate\":\"day=%{y}<br>temp=18.4<br>rain=%{x}<extra></extra>\",\"legendgroup\":\"fri\",\"line\":{\"color\":\"#636efa\"},\"marker\":{\"symbol\":\"circle\"},\"mode\":\"lines\",\"name\":\"fri\",\"orientation\":\"h\",\"showlegend\":false,\"stackgroup\":\"1\",\"x\":[0.0],\"xaxis\":\"x\",\"y\":[\"fri\"],\"yaxis\":\"y\",\"type\":\"scatter\"},{\"fillpattern\":{\"shape\":\"\"},\"hovertemplate\":\"day=%{y}<br>temp=19.6<br>rain=%{x}<extra></extra>\",\"legendgroup\":\"fri\",\"line\":{\"color\":\"#636efa\"},\"marker\":{\"symbol\":\"circle\"},\"mode\":\"lines\",\"name\":\"fri\",\"orientation\":\"h\",\"showlegend\":false,\"stackgroup\":\"1\",\"x\":[0.0,0.0,0.0],\"xaxis\":\"x\",\"y\":[\"fri\",\"fri\",\"fri\"],\"yaxis\":\"y\",\"type\":\"scatter\"},{\"fillpattern\":{\"shape\":\"\"},\"hovertemplate\":\"day=%{y}<br>temp=25.9<br>rain=%{x}<extra></extra>\",\"legendgroup\":\"fri\",\"line\":{\"color\":\"#636efa\"},\"marker\":{\"symbol\":\"circle\"},\"mode\":\"lines\",\"name\":\"fri\",\"orientation\":\"h\",\"showlegend\":false,\"stackgroup\":\"1\",\"x\":[0.0,0.0],\"xaxis\":\"x\",\"y\":[\"fri\",\"fri\"],\"yaxis\":\"y\",\"type\":\"scatter\"},{\"fillpattern\":{\"shape\":\"\"},\"hovertemplate\":\"day=%{y}<br>temp=14.7<br>rain=%{x}<extra></extra>\",\"legendgroup\":\"fri\",\"line\":{\"color\":\"#636efa\"},\"marker\":{\"symbol\":\"circle\"},\"mode\":\"lines\",\"name\":\"fri\",\"orientation\":\"h\",\"showlegend\":false,\"stackgroup\":\"1\",\"x\":[0.0,0.0],\"xaxis\":\"x\",\"y\":[\"fri\",\"fri\"],\"yaxis\":\"y\",\"type\":\"scatter\"},{\"fillpattern\":{\"shape\":\"\"},\"hovertemplate\":\"day=%{y}<br>temp=23.0<br>rain=%{x}<extra></extra>\",\"legendgroup\":\"fri\",\"line\":{\"color\":\"#636efa\"},\"marker\":{\"symbol\":\"circle\"},\"mode\":\"lines\",\"name\":\"fri\",\"orientation\":\"h\",\"showlegend\":false,\"stackgroup\":\"1\",\"x\":[0.0],\"xaxis\":\"x\",\"y\":[\"fri\"],\"yaxis\":\"y\",\"type\":\"scatter\"},{\"fillpattern\":{\"shape\":\"\"},\"hovertemplate\":\"day=%{y}<br>temp=11.8<br>rain=%{x}<extra></extra>\",\"legendgroup\":\"fri\",\"line\":{\"color\":\"#636efa\"},\"marker\":{\"symbol\":\"circle\"},\"mode\":\"lines\",\"name\":\"fri\",\"orientation\":\"h\",\"showlegend\":false,\"stackgroup\":\"1\",\"x\":[0.0],\"xaxis\":\"x\",\"y\":[\"fri\"],\"yaxis\":\"y\",\"type\":\"scatter\"},{\"fillpattern\":{\"shape\":\"\"},\"hovertemplate\":\"day=%{y}<br>temp=20.8<br>rain=%{x}<extra></extra>\",\"legendgroup\":\"fri\",\"line\":{\"color\":\"#636efa\"},\"marker\":{\"symbol\":\"circle\"},\"mode\":\"lines\",\"name\":\"fri\",\"orientation\":\"h\",\"showlegend\":false,\"stackgroup\":\"1\",\"x\":[0.0,0.0,0.0],\"xaxis\":\"x\",\"y\":[\"fri\",\"fri\",\"fri\"],\"yaxis\":\"y\",\"type\":\"scatter\"},{\"fillpattern\":{\"shape\":\"\"},\"hovertemplate\":\"day=%{y}<br>temp=12.3<br>rain=%{x}<extra></extra>\",\"legendgroup\":\"fri\",\"line\":{\"color\":\"#636efa\"},\"marker\":{\"symbol\":\"circle\"},\"mode\":\"lines\",\"name\":\"fri\",\"orientation\":\"h\",\"showlegend\":false,\"stackgroup\":\"1\",\"x\":[0.0],\"xaxis\":\"x\",\"y\":[\"fri\"],\"yaxis\":\"y\",\"type\":\"scatter\"},{\"fillpattern\":{\"shape\":\"\"},\"hovertemplate\":\"day=%{y}<br>temp=18.8<br>rain=%{x}<extra></extra>\",\"legendgroup\":\"fri\",\"line\":{\"color\":\"#636efa\"},\"marker\":{\"symbol\":\"circle\"},\"mode\":\"lines\",\"name\":\"fri\",\"orientation\":\"h\",\"showlegend\":false,\"stackgroup\":\"1\",\"x\":[0.0],\"xaxis\":\"x\",\"y\":[\"fri\"],\"yaxis\":\"y\",\"type\":\"scatter\"},{\"fillpattern\":{\"shape\":\"\"},\"hovertemplate\":\"day=%{y}<br>temp=18.6<br>rain=%{x}<extra></extra>\",\"legendgroup\":\"fri\",\"line\":{\"color\":\"#636efa\"},\"marker\":{\"symbol\":\"circle\"},\"mode\":\"lines\",\"name\":\"fri\",\"orientation\":\"h\",\"showlegend\":false,\"stackgroup\":\"1\",\"x\":[0.0],\"xaxis\":\"x\",\"y\":[\"fri\"],\"yaxis\":\"y\",\"type\":\"scatter\"},{\"fillpattern\":{\"shape\":\"\"},\"hovertemplate\":\"day=%{y}<br>temp=17.2<br>rain=%{x}<extra></extra>\",\"legendgroup\":\"fri\",\"line\":{\"color\":\"#636efa\"},\"marker\":{\"symbol\":\"circle\"},\"mode\":\"lines\",\"name\":\"fri\",\"orientation\":\"h\",\"showlegend\":false,\"stackgroup\":\"1\",\"x\":[0.0,0.0],\"xaxis\":\"x\",\"y\":[\"fri\",\"fri\"],\"yaxis\":\"y\",\"type\":\"scatter\"},{\"fillpattern\":{\"shape\":\"\"},\"hovertemplate\":\"day=%{y}<br>temp=15.8<br>rain=%{x}<extra></extra>\",\"legendgroup\":\"fri\",\"line\":{\"color\":\"#636efa\"},\"marker\":{\"symbol\":\"circle\"},\"mode\":\"lines\",\"name\":\"fri\",\"orientation\":\"h\",\"showlegend\":false,\"stackgroup\":\"1\",\"x\":[0.0],\"xaxis\":\"x\",\"y\":[\"fri\"],\"yaxis\":\"y\",\"type\":\"scatter\"},{\"fillpattern\":{\"shape\":\"\"},\"hovertemplate\":\"day=%{y}<br>temp=15.6<br>rain=%{x}<extra></extra>\",\"legendgroup\":\"fri\",\"line\":{\"color\":\"#636efa\"},\"marker\":{\"symbol\":\"circle\"},\"mode\":\"lines\",\"name\":\"fri\",\"orientation\":\"h\",\"showlegend\":false,\"stackgroup\":\"1\",\"x\":[0.0],\"xaxis\":\"x\",\"y\":[\"fri\"],\"yaxis\":\"y\",\"type\":\"scatter\"},{\"fillpattern\":{\"shape\":\"\"},\"hovertemplate\":\"day=%{y}<br>temp=17.3<br>rain=%{x}<extra></extra>\",\"legendgroup\":\"fri\",\"line\":{\"color\":\"#636efa\"},\"marker\":{\"symbol\":\"circle\"},\"mode\":\"lines\",\"name\":\"fri\",\"orientation\":\"h\",\"showlegend\":false,\"stackgroup\":\"1\",\"x\":[0.0],\"xaxis\":\"x\",\"y\":[\"fri\"],\"yaxis\":\"y\",\"type\":\"scatter\"},{\"fillpattern\":{\"shape\":\"\"},\"hovertemplate\":\"day=%{y}<br>temp=27.6<br>rain=%{x}<extra></extra>\",\"legendgroup\":\"fri\",\"line\":{\"color\":\"#636efa\"},\"marker\":{\"symbol\":\"circle\"},\"mode\":\"lines\",\"name\":\"fri\",\"orientation\":\"h\",\"showlegend\":false,\"stackgroup\":\"1\",\"x\":[0.0],\"xaxis\":\"x\",\"y\":[\"fri\"],\"yaxis\":\"y\",\"type\":\"scatter\"},{\"fillpattern\":{\"shape\":\"\"},\"hovertemplate\":\"day=%{y}<br>temp=15.7<br>rain=%{x}<extra></extra>\",\"legendgroup\":\"fri\",\"line\":{\"color\":\"#636efa\"},\"marker\":{\"symbol\":\"circle\"},\"mode\":\"lines\",\"name\":\"fri\",\"orientation\":\"h\",\"showlegend\":false,\"stackgroup\":\"1\",\"x\":[0.0],\"xaxis\":\"x\",\"y\":[\"fri\"],\"yaxis\":\"y\",\"type\":\"scatter\"},{\"fillpattern\":{\"shape\":\"\"},\"hovertemplate\":\"day=%{y}<br>temp=17.4<br>rain=%{x}<extra></extra>\",\"legendgroup\":\"fri\",\"line\":{\"color\":\"#636efa\"},\"marker\":{\"symbol\":\"circle\"},\"mode\":\"lines\",\"name\":\"fri\",\"orientation\":\"h\",\"showlegend\":false,\"stackgroup\":\"1\",\"x\":[0.0,0.0],\"xaxis\":\"x\",\"y\":[\"fri\",\"fri\"],\"yaxis\":\"y\",\"type\":\"scatter\"},{\"fillpattern\":{\"shape\":\"\"},\"hovertemplate\":\"day=%{y}<br>temp=12.7<br>rain=%{x}<extra></extra>\",\"legendgroup\":\"fri\",\"line\":{\"color\":\"#636efa\"},\"marker\":{\"symbol\":\"circle\"},\"mode\":\"lines\",\"name\":\"fri\",\"orientation\":\"h\",\"showlegend\":false,\"stackgroup\":\"1\",\"x\":[0.0],\"xaxis\":\"x\",\"y\":[\"fri\"],\"yaxis\":\"y\",\"type\":\"scatter\"},{\"fillpattern\":{\"shape\":\"\"},\"hovertemplate\":\"day=%{y}<br>temp=19.8<br>rain=%{x}<extra></extra>\",\"legendgroup\":\"fri\",\"line\":{\"color\":\"#636efa\"},\"marker\":{\"symbol\":\"circle\"},\"mode\":\"lines\",\"name\":\"fri\",\"orientation\":\"h\",\"showlegend\":false,\"stackgroup\":\"1\",\"x\":[0.0,0.0],\"xaxis\":\"x\",\"y\":[\"fri\",\"fri\"],\"yaxis\":\"y\",\"type\":\"scatter\"},{\"fillpattern\":{\"shape\":\"\"},\"hovertemplate\":\"day=%{y}<br>temp=20.1<br>rain=%{x}<extra></extra>\",\"legendgroup\":\"fri\",\"line\":{\"color\":\"#636efa\"},\"marker\":{\"symbol\":\"circle\"},\"mode\":\"lines\",\"name\":\"fri\",\"orientation\":\"h\",\"showlegend\":false,\"stackgroup\":\"1\",\"x\":[0.0,0.0],\"xaxis\":\"x\",\"y\":[\"fri\",\"fri\"],\"yaxis\":\"y\",\"type\":\"scatter\"},{\"fillpattern\":{\"shape\":\"\"},\"hovertemplate\":\"day=%{y}<br>temp=21.4<br>rain=%{x}<extra></extra>\",\"legendgroup\":\"fri\",\"line\":{\"color\":\"#636efa\"},\"marker\":{\"symbol\":\"circle\"},\"mode\":\"lines\",\"name\":\"fri\",\"orientation\":\"h\",\"showlegend\":false,\"stackgroup\":\"1\",\"x\":[0.0],\"xaxis\":\"x\",\"y\":[\"fri\"],\"yaxis\":\"y\",\"type\":\"scatter\"},{\"fillpattern\":{\"shape\":\"\"},\"hovertemplate\":\"day=%{y}<br>temp=13.7<br>rain=%{x}<extra></extra>\",\"legendgroup\":\"fri\",\"line\":{\"color\":\"#636efa\"},\"marker\":{\"symbol\":\"circle\"},\"mode\":\"lines\",\"name\":\"fri\",\"orientation\":\"h\",\"showlegend\":false,\"stackgroup\":\"1\",\"x\":[0.0],\"xaxis\":\"x\",\"y\":[\"fri\"],\"yaxis\":\"y\",\"type\":\"scatter\"},{\"fillpattern\":{\"shape\":\"\"},\"hovertemplate\":\"day=%{y}<br>temp=15.2<br>rain=%{x}<extra></extra>\",\"legendgroup\":\"fri\",\"line\":{\"color\":\"#636efa\"},\"marker\":{\"symbol\":\"circle\"},\"mode\":\"lines\",\"name\":\"fri\",\"orientation\":\"h\",\"showlegend\":false,\"stackgroup\":\"1\",\"x\":[0.0],\"xaxis\":\"x\",\"y\":[\"fri\"],\"yaxis\":\"y\",\"type\":\"scatter\"},{\"fillpattern\":{\"shape\":\"\"},\"hovertemplate\":\"day=%{y}<br>temp=10.3<br>rain=%{x}<extra></extra>\",\"legendgroup\":\"fri\",\"line\":{\"color\":\"#636efa\"},\"marker\":{\"symbol\":\"circle\"},\"mode\":\"lines\",\"name\":\"fri\",\"orientation\":\"h\",\"showlegend\":false,\"stackgroup\":\"1\",\"x\":[0.0],\"xaxis\":\"x\",\"y\":[\"fri\"],\"yaxis\":\"y\",\"type\":\"scatter\"},{\"fillpattern\":{\"shape\":\"\"},\"hovertemplate\":\"day=%{y}<br>temp=15.4<br>rain=%{x}<extra></extra>\",\"legendgroup\":\"fri\",\"line\":{\"color\":\"#636efa\"},\"marker\":{\"symbol\":\"circle\"},\"mode\":\"lines\",\"name\":\"fri\",\"orientation\":\"h\",\"showlegend\":false,\"stackgroup\":\"1\",\"x\":[0.0],\"xaxis\":\"x\",\"y\":[\"fri\"],\"yaxis\":\"y\",\"type\":\"scatter\"},{\"fillpattern\":{\"shape\":\"\"},\"hovertemplate\":\"day=%{y}<br>temp=23.2<br>rain=%{x}<extra></extra>\",\"legendgroup\":\"fri\",\"line\":{\"color\":\"#636efa\"},\"marker\":{\"symbol\":\"circle\"},\"mode\":\"lines\",\"name\":\"fri\",\"orientation\":\"h\",\"showlegend\":false,\"stackgroup\":\"1\",\"x\":[0.0],\"xaxis\":\"x\",\"y\":[\"fri\"],\"yaxis\":\"y\",\"type\":\"scatter\"},{\"fillpattern\":{\"shape\":\"\"},\"hovertemplate\":\"day=%{y}<br>temp=20.7<br>rain=%{x}<extra></extra>\",\"legendgroup\":\"fri\",\"line\":{\"color\":\"#636efa\"},\"marker\":{\"symbol\":\"circle\"},\"mode\":\"lines\",\"name\":\"fri\",\"orientation\":\"h\",\"showlegend\":false,\"stackgroup\":\"1\",\"x\":[0.0],\"xaxis\":\"x\",\"y\":[\"fri\"],\"yaxis\":\"y\",\"type\":\"scatter\"},{\"fillpattern\":{\"shape\":\"\"},\"hovertemplate\":\"day=%{y}<br>temp=19.2<br>rain=%{x}<extra></extra>\",\"legendgroup\":\"fri\",\"line\":{\"color\":\"#636efa\"},\"marker\":{\"symbol\":\"circle\"},\"mode\":\"lines\",\"name\":\"fri\",\"orientation\":\"h\",\"showlegend\":false,\"stackgroup\":\"1\",\"x\":[0.0,0.0],\"xaxis\":\"x\",\"y\":[\"fri\",\"fri\"],\"yaxis\":\"y\",\"type\":\"scatter\"},{\"fillpattern\":{\"shape\":\"\"},\"hovertemplate\":\"day=%{y}<br>temp=11.7<br>rain=%{x}<extra></extra>\",\"legendgroup\":\"fri\",\"line\":{\"color\":\"#636efa\"},\"marker\":{\"symbol\":\"circle\"},\"mode\":\"lines\",\"name\":\"fri\",\"orientation\":\"h\",\"showlegend\":false,\"stackgroup\":\"1\",\"x\":[0.0],\"xaxis\":\"x\",\"y\":[\"fri\"],\"yaxis\":\"y\",\"type\":\"scatter\"},{\"fillpattern\":{\"shape\":\"\"},\"hovertemplate\":\"day=%{y}<br>temp=23.5<br>rain=%{x}<extra></extra>\",\"legendgroup\":\"fri\",\"line\":{\"color\":\"#636efa\"},\"marker\":{\"symbol\":\"circle\"},\"mode\":\"lines\",\"name\":\"fri\",\"orientation\":\"h\",\"showlegend\":false,\"stackgroup\":\"1\",\"x\":[0.0],\"xaxis\":\"x\",\"y\":[\"fri\"],\"yaxis\":\"y\",\"type\":\"scatter\"},{\"fillpattern\":{\"shape\":\"\"},\"hovertemplate\":\"day=%{y}<br>temp=16.2<br>rain=%{x}<extra></extra>\",\"legendgroup\":\"fri\",\"line\":{\"color\":\"#636efa\"},\"marker\":{\"symbol\":\"circle\"},\"mode\":\"lines\",\"name\":\"fri\",\"orientation\":\"h\",\"showlegend\":false,\"stackgroup\":\"1\",\"x\":[0.0,0.0],\"xaxis\":\"x\",\"y\":[\"fri\",\"fri\"],\"yaxis\":\"y\",\"type\":\"scatter\"},{\"fillpattern\":{\"shape\":\"\"},\"hovertemplate\":\"day=%{y}<br>temp=13.4<br>rain=%{x}<extra></extra>\",\"legendgroup\":\"fri\",\"line\":{\"color\":\"#636efa\"},\"marker\":{\"symbol\":\"circle\"},\"mode\":\"lines\",\"name\":\"fri\",\"orientation\":\"h\",\"showlegend\":false,\"stackgroup\":\"1\",\"x\":[0.0],\"xaxis\":\"x\",\"y\":[\"fri\"],\"yaxis\":\"y\",\"type\":\"scatter\"},{\"fillpattern\":{\"shape\":\"\"},\"hovertemplate\":\"day=%{y}<br>temp=18.7<br>rain=%{x}<extra></extra>\",\"legendgroup\":\"fri\",\"line\":{\"color\":\"#636efa\"},\"marker\":{\"symbol\":\"circle\"},\"mode\":\"lines\",\"name\":\"fri\",\"orientation\":\"h\",\"showlegend\":false,\"stackgroup\":\"1\",\"x\":[0.0],\"xaxis\":\"x\",\"y\":[\"fri\"],\"yaxis\":\"y\",\"type\":\"scatter\"},{\"fillpattern\":{\"shape\":\"\"},\"hovertemplate\":\"day=%{y}<br>temp=21.8<br>rain=%{x}<extra></extra>\",\"legendgroup\":\"fri\",\"line\":{\"color\":\"#636efa\"},\"marker\":{\"symbol\":\"circle\"},\"mode\":\"lines\",\"name\":\"fri\",\"orientation\":\"h\",\"showlegend\":false,\"stackgroup\":\"1\",\"x\":[0.0],\"xaxis\":\"x\",\"y\":[\"fri\"],\"yaxis\":\"y\",\"type\":\"scatter\"},{\"fillpattern\":{\"shape\":\"\"},\"hovertemplate\":\"day=%{y}<br>temp=2.2<br>rain=%{x}<extra></extra>\",\"legendgroup\":\"fri\",\"line\":{\"color\":\"#636efa\"},\"marker\":{\"symbol\":\"circle\"},\"mode\":\"lines\",\"name\":\"fri\",\"orientation\":\"h\",\"showlegend\":false,\"stackgroup\":\"1\",\"x\":[0.0],\"xaxis\":\"x\",\"y\":[\"fri\"],\"yaxis\":\"y\",\"type\":\"scatter\"},{\"fillpattern\":{\"shape\":\"\"},\"hovertemplate\":\"day=%{y}<br>temp=7.5<br>rain=%{x}<extra></extra>\",\"legendgroup\":\"fri\",\"line\":{\"color\":\"#636efa\"},\"marker\":{\"symbol\":\"circle\"},\"mode\":\"lines\",\"name\":\"fri\",\"orientation\":\"h\",\"showlegend\":false,\"stackgroup\":\"1\",\"x\":[0.0],\"xaxis\":\"x\",\"y\":[\"fri\"],\"yaxis\":\"y\",\"type\":\"scatter\"},{\"fillpattern\":{\"shape\":\"\"},\"hovertemplate\":\"day=%{y}<br>temp=19.7<br>rain=%{x}<extra></extra>\",\"legendgroup\":\"fri\",\"line\":{\"color\":\"#636efa\"},\"marker\":{\"symbol\":\"circle\"},\"mode\":\"lines\",\"name\":\"fri\",\"orientation\":\"h\",\"showlegend\":false,\"stackgroup\":\"1\",\"x\":[0.0],\"xaxis\":\"x\",\"y\":[\"fri\"],\"yaxis\":\"y\",\"type\":\"scatter\"},{\"fillpattern\":{\"shape\":\"\"},\"hovertemplate\":\"day=%{y}<br>temp=18.5<br>rain=%{x}<extra></extra>\",\"legendgroup\":\"fri\",\"line\":{\"color\":\"#636efa\"},\"marker\":{\"symbol\":\"circle\"},\"mode\":\"lines\",\"name\":\"fri\",\"orientation\":\"h\",\"showlegend\":false,\"stackgroup\":\"1\",\"x\":[0.0],\"xaxis\":\"x\",\"y\":[\"fri\"],\"yaxis\":\"y\",\"type\":\"scatter\"},{\"fillpattern\":{\"shape\":\"\"},\"hovertemplate\":\"day=%{y}<br>temp=10.1<br>rain=%{x}<extra></extra>\",\"legendgroup\":\"fri\",\"line\":{\"color\":\"#636efa\"},\"marker\":{\"symbol\":\"circle\"},\"mode\":\"lines\",\"name\":\"fri\",\"orientation\":\"h\",\"showlegend\":false,\"stackgroup\":\"1\",\"x\":[0.0,0.0],\"xaxis\":\"x\",\"y\":[\"fri\",\"fri\"],\"yaxis\":\"y\",\"type\":\"scatter\"},{\"fillpattern\":{\"shape\":\"\"},\"hovertemplate\":\"day=%{y}<br>temp=12.8<br>rain=%{x}<extra></extra>\",\"legendgroup\":\"fri\",\"line\":{\"color\":\"#636efa\"},\"marker\":{\"symbol\":\"circle\"},\"mode\":\"lines\",\"name\":\"fri\",\"orientation\":\"h\",\"showlegend\":false,\"stackgroup\":\"1\",\"x\":[0.0],\"xaxis\":\"x\",\"y\":[\"fri\"],\"yaxis\":\"y\",\"type\":\"scatter\"},{\"fillpattern\":{\"shape\":\"\"},\"hovertemplate\":\"day=%{y}<br>temp=21.1<br>rain=%{x}<extra></extra>\",\"legendgroup\":\"fri\",\"line\":{\"color\":\"#636efa\"},\"marker\":{\"symbol\":\"circle\"},\"mode\":\"lines\",\"name\":\"fri\",\"orientation\":\"h\",\"showlegend\":false,\"stackgroup\":\"1\",\"x\":[0.0,1.4],\"xaxis\":\"x\",\"y\":[\"fri\",\"fri\"],\"yaxis\":\"y\",\"type\":\"scatter\"},{\"fillpattern\":{\"shape\":\"\"},\"hovertemplate\":\"day=%{y}<br>temp=25.0<br>rain=%{x}<extra></extra>\",\"legendgroup\":\"fri\",\"line\":{\"color\":\"#636efa\"},\"marker\":{\"symbol\":\"circle\"},\"mode\":\"lines\",\"name\":\"fri\",\"orientation\":\"h\",\"showlegend\":false,\"stackgroup\":\"1\",\"x\":[0.0],\"xaxis\":\"x\",\"y\":[\"fri\"],\"yaxis\":\"y\",\"type\":\"scatter\"},{\"fillpattern\":{\"shape\":\"\"},\"hovertemplate\":\"day=%{y}<br>temp=19.9<br>rain=%{x}<extra></extra>\",\"legendgroup\":\"fri\",\"line\":{\"color\":\"#636efa\"},\"marker\":{\"symbol\":\"circle\"},\"mode\":\"lines\",\"name\":\"fri\",\"orientation\":\"h\",\"showlegend\":false,\"stackgroup\":\"1\",\"x\":[0.0],\"xaxis\":\"x\",\"y\":[\"fri\"],\"yaxis\":\"y\",\"type\":\"scatter\"},{\"fillpattern\":{\"shape\":\"\"},\"hovertemplate\":\"day=%{y}<br>temp=27.5<br>rain=%{x}<extra></extra>\",\"legendgroup\":\"fri\",\"line\":{\"color\":\"#636efa\"},\"marker\":{\"symbol\":\"circle\"},\"mode\":\"lines\",\"name\":\"fri\",\"orientation\":\"h\",\"showlegend\":false,\"stackgroup\":\"1\",\"x\":[0.0],\"xaxis\":\"x\",\"y\":[\"fri\"],\"yaxis\":\"y\",\"type\":\"scatter\"},{\"fillpattern\":{\"shape\":\"\"},\"hovertemplate\":\"day=%{y}<br>temp=14.8<br>rain=%{x}<extra></extra>\",\"legendgroup\":\"fri\",\"line\":{\"color\":\"#636efa\"},\"marker\":{\"symbol\":\"circle\"},\"mode\":\"lines\",\"name\":\"fri\",\"orientation\":\"h\",\"showlegend\":false,\"stackgroup\":\"1\",\"x\":[0.0],\"xaxis\":\"x\",\"y\":[\"fri\"],\"yaxis\":\"y\",\"type\":\"scatter\"},{\"fillpattern\":{\"shape\":\"\"},\"hovertemplate\":\"day=%{y}<br>temp=32.4<br>rain=%{x}<extra></extra>\",\"legendgroup\":\"fri\",\"line\":{\"color\":\"#636efa\"},\"marker\":{\"symbol\":\"circle\"},\"mode\":\"lines\",\"name\":\"fri\",\"orientation\":\"h\",\"showlegend\":false,\"stackgroup\":\"1\",\"x\":[0.0],\"xaxis\":\"x\",\"y\":[\"fri\"],\"yaxis\":\"y\",\"type\":\"scatter\"},{\"fillpattern\":{\"shape\":\"\"},\"hovertemplate\":\"day=%{y}<br>temp=18.0<br>rain=%{x}<extra></extra>\",\"legendgroup\":\"tue\",\"line\":{\"color\":\"#EF553B\"},\"marker\":{\"symbol\":\"circle\"},\"mode\":\"lines\",\"name\":\"tue\",\"orientation\":\"h\",\"showlegend\":true,\"stackgroup\":\"1\",\"x\":[0.0,0.0],\"xaxis\":\"x\",\"y\":[\"tue\",\"tue\"],\"yaxis\":\"y\",\"type\":\"scatter\"},{\"fillpattern\":{\"shape\":\"\"},\"hovertemplate\":\"day=%{y}<br>temp=24.1<br>rain=%{x}<extra></extra>\",\"legendgroup\":\"tue\",\"line\":{\"color\":\"#EF553B\"},\"marker\":{\"symbol\":\"circle\"},\"mode\":\"lines\",\"name\":\"tue\",\"orientation\":\"h\",\"showlegend\":false,\"stackgroup\":\"1\",\"x\":[0.0],\"xaxis\":\"x\",\"y\":[\"tue\"],\"yaxis\":\"y\",\"type\":\"scatter\"},{\"fillpattern\":{\"shape\":\"\"},\"hovertemplate\":\"day=%{y}<br>temp=13.1<br>rain=%{x}<extra></extra>\",\"legendgroup\":\"tue\",\"line\":{\"color\":\"#EF553B\"},\"marker\":{\"symbol\":\"circle\"},\"mode\":\"lines\",\"name\":\"tue\",\"orientation\":\"h\",\"showlegend\":false,\"stackgroup\":\"1\",\"x\":[0.0],\"xaxis\":\"x\",\"y\":[\"tue\"],\"yaxis\":\"y\",\"type\":\"scatter\"},{\"fillpattern\":{\"shape\":\"\"},\"hovertemplate\":\"day=%{y}<br>temp=17.8<br>rain=%{x}<extra></extra>\",\"legendgroup\":\"tue\",\"line\":{\"color\":\"#EF553B\"},\"marker\":{\"symbol\":\"circle\"},\"mode\":\"lines\",\"name\":\"tue\",\"orientation\":\"h\",\"showlegend\":false,\"stackgroup\":\"1\",\"x\":[0.0],\"xaxis\":\"x\",\"y\":[\"tue\"],\"yaxis\":\"y\",\"type\":\"scatter\"},{\"fillpattern\":{\"shape\":\"\"},\"hovertemplate\":\"day=%{y}<br>temp=26.4<br>rain=%{x}<extra></extra>\",\"legendgroup\":\"tue\",\"line\":{\"color\":\"#EF553B\"},\"marker\":{\"symbol\":\"circle\"},\"mode\":\"lines\",\"name\":\"tue\",\"orientation\":\"h\",\"showlegend\":false,\"stackgroup\":\"1\",\"x\":[0.0],\"xaxis\":\"x\",\"y\":[\"tue\"],\"yaxis\":\"y\",\"type\":\"scatter\"},{\"fillpattern\":{\"shape\":\"\"},\"hovertemplate\":\"day=%{y}<br>temp=15.9<br>rain=%{x}<extra></extra>\",\"legendgroup\":\"tue\",\"line\":{\"color\":\"#EF553B\"},\"marker\":{\"symbol\":\"circle\"},\"mode\":\"lines\",\"name\":\"tue\",\"orientation\":\"h\",\"showlegend\":false,\"stackgroup\":\"1\",\"x\":[0.0,0.0],\"xaxis\":\"x\",\"y\":[\"tue\",\"tue\"],\"yaxis\":\"y\",\"type\":\"scatter\"},{\"fillpattern\":{\"shape\":\"\"},\"hovertemplate\":\"day=%{y}<br>temp=18.3<br>rain=%{x}<extra></extra>\",\"legendgroup\":\"tue\",\"line\":{\"color\":\"#EF553B\"},\"marker\":{\"symbol\":\"circle\"},\"mode\":\"lines\",\"name\":\"tue\",\"orientation\":\"h\",\"showlegend\":false,\"stackgroup\":\"1\",\"x\":[0.0],\"xaxis\":\"x\",\"y\":[\"tue\"],\"yaxis\":\"y\",\"type\":\"scatter\"},{\"fillpattern\":{\"shape\":\"\"},\"hovertemplate\":\"day=%{y}<br>temp=19.1<br>rain=%{x}<extra></extra>\",\"legendgroup\":\"tue\",\"line\":{\"color\":\"#EF553B\"},\"marker\":{\"symbol\":\"circle\"},\"mode\":\"lines\",\"name\":\"tue\",\"orientation\":\"h\",\"showlegend\":false,\"stackgroup\":\"1\",\"x\":[0.0],\"xaxis\":\"x\",\"y\":[\"tue\"],\"yaxis\":\"y\",\"type\":\"scatter\"},{\"fillpattern\":{\"shape\":\"\"},\"hovertemplate\":\"day=%{y}<br>temp=21.0<br>rain=%{x}<extra></extra>\",\"legendgroup\":\"tue\",\"line\":{\"color\":\"#EF553B\"},\"marker\":{\"symbol\":\"circle\"},\"mode\":\"lines\",\"name\":\"tue\",\"orientation\":\"h\",\"showlegend\":false,\"stackgroup\":\"1\",\"x\":[0.0],\"xaxis\":\"x\",\"y\":[\"tue\"],\"yaxis\":\"y\",\"type\":\"scatter\"},{\"fillpattern\":{\"shape\":\"\"},\"hovertemplate\":\"day=%{y}<br>temp=23.7<br>rain=%{x}<extra></extra>\",\"legendgroup\":\"tue\",\"line\":{\"color\":\"#EF553B\"},\"marker\":{\"symbol\":\"circle\"},\"mode\":\"lines\",\"name\":\"tue\",\"orientation\":\"h\",\"showlegend\":false,\"stackgroup\":\"1\",\"x\":[0.0],\"xaxis\":\"x\",\"y\":[\"tue\"],\"yaxis\":\"y\",\"type\":\"scatter\"},{\"fillpattern\":{\"shape\":\"\"},\"hovertemplate\":\"day=%{y}<br>temp=19.4<br>rain=%{x}<extra></extra>\",\"legendgroup\":\"tue\",\"line\":{\"color\":\"#EF553B\"},\"marker\":{\"symbol\":\"circle\"},\"mode\":\"lines\",\"name\":\"tue\",\"orientation\":\"h\",\"showlegend\":false,\"stackgroup\":\"1\",\"x\":[0.0,0.0],\"xaxis\":\"x\",\"y\":[\"tue\",\"tue\"],\"yaxis\":\"y\",\"type\":\"scatter\"},{\"fillpattern\":{\"shape\":\"\"},\"hovertemplate\":\"day=%{y}<br>temp=18.2<br>rain=%{x}<extra></extra>\",\"legendgroup\":\"tue\",\"line\":{\"color\":\"#EF553B\"},\"marker\":{\"symbol\":\"circle\"},\"mode\":\"lines\",\"name\":\"tue\",\"orientation\":\"h\",\"showlegend\":false,\"stackgroup\":\"1\",\"x\":[0.0],\"xaxis\":\"x\",\"y\":[\"tue\"],\"yaxis\":\"y\",\"type\":\"scatter\"},{\"fillpattern\":{\"shape\":\"\"},\"hovertemplate\":\"day=%{y}<br>temp=21.7<br>rain=%{x}<extra></extra>\",\"legendgroup\":\"tue\",\"line\":{\"color\":\"#EF553B\"},\"marker\":{\"symbol\":\"circle\"},\"mode\":\"lines\",\"name\":\"tue\",\"orientation\":\"h\",\"showlegend\":false,\"stackgroup\":\"1\",\"x\":[0.0,0.0],\"xaxis\":\"x\",\"y\":[\"tue\",\"tue\"],\"yaxis\":\"y\",\"type\":\"scatter\"},{\"fillpattern\":{\"shape\":\"\"},\"hovertemplate\":\"day=%{y}<br>temp=14.1<br>rain=%{x}<extra></extra>\",\"legendgroup\":\"tue\",\"line\":{\"color\":\"#EF553B\"},\"marker\":{\"symbol\":\"circle\"},\"mode\":\"lines\",\"name\":\"tue\",\"orientation\":\"h\",\"showlegend\":false,\"stackgroup\":\"1\",\"x\":[0.0],\"xaxis\":\"x\",\"y\":[\"tue\"],\"yaxis\":\"y\",\"type\":\"scatter\"},{\"fillpattern\":{\"shape\":\"\"},\"hovertemplate\":\"day=%{y}<br>temp=23.3<br>rain=%{x}<extra></extra>\",\"legendgroup\":\"tue\",\"line\":{\"color\":\"#EF553B\"},\"marker\":{\"symbol\":\"circle\"},\"mode\":\"lines\",\"name\":\"tue\",\"orientation\":\"h\",\"showlegend\":false,\"stackgroup\":\"1\",\"x\":[0.0],\"xaxis\":\"x\",\"y\":[\"tue\"],\"yaxis\":\"y\",\"type\":\"scatter\"},{\"fillpattern\":{\"shape\":\"\"},\"hovertemplate\":\"day=%{y}<br>temp=16.6<br>rain=%{x}<extra></extra>\",\"legendgroup\":\"tue\",\"line\":{\"color\":\"#EF553B\"},\"marker\":{\"symbol\":\"circle\"},\"mode\":\"lines\",\"name\":\"tue\",\"orientation\":\"h\",\"showlegend\":false,\"stackgroup\":\"1\",\"x\":[0.0],\"xaxis\":\"x\",\"y\":[\"tue\"],\"yaxis\":\"y\",\"type\":\"scatter\"},{\"fillpattern\":{\"shape\":\"\"},\"hovertemplate\":\"day=%{y}<br>temp=19.6<br>rain=%{x}<extra></extra>\",\"legendgroup\":\"tue\",\"line\":{\"color\":\"#EF553B\"},\"marker\":{\"symbol\":\"circle\"},\"mode\":\"lines\",\"name\":\"tue\",\"orientation\":\"h\",\"showlegend\":false,\"stackgroup\":\"1\",\"x\":[0.0],\"xaxis\":\"x\",\"y\":[\"tue\"],\"yaxis\":\"y\",\"type\":\"scatter\"},{\"fillpattern\":{\"shape\":\"\"},\"hovertemplate\":\"day=%{y}<br>temp=11.8<br>rain=%{x}<extra></extra>\",\"legendgroup\":\"tue\",\"line\":{\"color\":\"#EF553B\"},\"marker\":{\"symbol\":\"circle\"},\"mode\":\"lines\",\"name\":\"tue\",\"orientation\":\"h\",\"showlegend\":false,\"stackgroup\":\"1\",\"x\":[0.0],\"xaxis\":\"x\",\"y\":[\"tue\"],\"yaxis\":\"y\",\"type\":\"scatter\"},{\"fillpattern\":{\"shape\":\"\"},\"hovertemplate\":\"day=%{y}<br>temp=17.6<br>rain=%{x}<extra></extra>\",\"legendgroup\":\"tue\",\"line\":{\"color\":\"#EF553B\"},\"marker\":{\"symbol\":\"circle\"},\"mode\":\"lines\",\"name\":\"tue\",\"orientation\":\"h\",\"showlegend\":false,\"stackgroup\":\"1\",\"x\":[0.0],\"xaxis\":\"x\",\"y\":[\"tue\"],\"yaxis\":\"y\",\"type\":\"scatter\"},{\"fillpattern\":{\"shape\":\"\"},\"hovertemplate\":\"day=%{y}<br>temp=13.9<br>rain=%{x}<extra></extra>\",\"legendgroup\":\"tue\",\"line\":{\"color\":\"#EF553B\"},\"marker\":{\"symbol\":\"circle\"},\"mode\":\"lines\",\"name\":\"tue\",\"orientation\":\"h\",\"showlegend\":false,\"stackgroup\":\"1\",\"x\":[0.0],\"xaxis\":\"x\",\"y\":[\"tue\"],\"yaxis\":\"y\",\"type\":\"scatter\"},{\"fillpattern\":{\"shape\":\"\"},\"hovertemplate\":\"day=%{y}<br>temp=18.8<br>rain=%{x}<extra></extra>\",\"legendgroup\":\"tue\",\"line\":{\"color\":\"#EF553B\"},\"marker\":{\"symbol\":\"circle\"},\"mode\":\"lines\",\"name\":\"tue\",\"orientation\":\"h\",\"showlegend\":false,\"stackgroup\":\"1\",\"x\":[0.0],\"xaxis\":\"x\",\"y\":[\"tue\"],\"yaxis\":\"y\",\"type\":\"scatter\"},{\"fillpattern\":{\"shape\":\"\"},\"hovertemplate\":\"day=%{y}<br>temp=18.6<br>rain=%{x}<extra></extra>\",\"legendgroup\":\"tue\",\"line\":{\"color\":\"#EF553B\"},\"marker\":{\"symbol\":\"circle\"},\"mode\":\"lines\",\"name\":\"tue\",\"orientation\":\"h\",\"showlegend\":false,\"stackgroup\":\"1\",\"x\":[0.0],\"xaxis\":\"x\",\"y\":[\"tue\"],\"yaxis\":\"y\",\"type\":\"scatter\"},{\"fillpattern\":{\"shape\":\"\"},\"hovertemplate\":\"day=%{y}<br>temp=15.8<br>rain=%{x}<extra></extra>\",\"legendgroup\":\"tue\",\"line\":{\"color\":\"#EF553B\"},\"marker\":{\"symbol\":\"circle\"},\"mode\":\"lines\",\"name\":\"tue\",\"orientation\":\"h\",\"showlegend\":false,\"stackgroup\":\"1\",\"x\":[0.0],\"xaxis\":\"x\",\"y\":[\"tue\"],\"yaxis\":\"y\",\"type\":\"scatter\"},{\"fillpattern\":{\"shape\":\"\"},\"hovertemplate\":\"day=%{y}<br>temp=17.3<br>rain=%{x}<extra></extra>\",\"legendgroup\":\"tue\",\"line\":{\"color\":\"#EF553B\"},\"marker\":{\"symbol\":\"circle\"},\"mode\":\"lines\",\"name\":\"tue\",\"orientation\":\"h\",\"showlegend\":false,\"stackgroup\":\"1\",\"x\":[0.0],\"xaxis\":\"x\",\"y\":[\"tue\"],\"yaxis\":\"y\",\"type\":\"scatter\"},{\"fillpattern\":{\"shape\":\"\"},\"hovertemplate\":\"day=%{y}<br>temp=21.6<br>rain=%{x}<extra></extra>\",\"legendgroup\":\"tue\",\"line\":{\"color\":\"#EF553B\"},\"marker\":{\"symbol\":\"circle\"},\"mode\":\"lines\",\"name\":\"tue\",\"orientation\":\"h\",\"showlegend\":false,\"stackgroup\":\"1\",\"x\":[0.0,0.0,0.8,0.8],\"xaxis\":\"x\",\"y\":[\"tue\",\"tue\",\"tue\",\"tue\"],\"yaxis\":\"y\",\"type\":\"scatter\"},{\"fillpattern\":{\"shape\":\"\"},\"hovertemplate\":\"day=%{y}<br>temp=17.9<br>rain=%{x}<extra></extra>\",\"legendgroup\":\"tue\",\"line\":{\"color\":\"#EF553B\"},\"marker\":{\"symbol\":\"circle\"},\"mode\":\"lines\",\"name\":\"tue\",\"orientation\":\"h\",\"showlegend\":false,\"stackgroup\":\"1\",\"x\":[0.0],\"xaxis\":\"x\",\"y\":[\"tue\"],\"yaxis\":\"y\",\"type\":\"scatter\"},{\"fillpattern\":{\"shape\":\"\"},\"hovertemplate\":\"day=%{y}<br>temp=20.2<br>rain=%{x}<extra></extra>\",\"legendgroup\":\"tue\",\"line\":{\"color\":\"#EF553B\"},\"marker\":{\"symbol\":\"circle\"},\"mode\":\"lines\",\"name\":\"tue\",\"orientation\":\"h\",\"showlegend\":false,\"stackgroup\":\"1\",\"x\":[0.0],\"xaxis\":\"x\",\"y\":[\"tue\"],\"yaxis\":\"y\",\"type\":\"scatter\"},{\"fillpattern\":{\"shape\":\"\"},\"hovertemplate\":\"day=%{y}<br>temp=17.4<br>rain=%{x}<extra></extra>\",\"legendgroup\":\"tue\",\"line\":{\"color\":\"#EF553B\"},\"marker\":{\"symbol\":\"circle\"},\"mode\":\"lines\",\"name\":\"tue\",\"orientation\":\"h\",\"showlegend\":false,\"stackgroup\":\"1\",\"x\":[0.0],\"xaxis\":\"x\",\"y\":[\"tue\"],\"yaxis\":\"y\",\"type\":\"scatter\"},{\"fillpattern\":{\"shape\":\"\"},\"hovertemplate\":\"day=%{y}<br>temp=23.4<br>rain=%{x}<extra></extra>\",\"legendgroup\":\"tue\",\"line\":{\"color\":\"#EF553B\"},\"marker\":{\"symbol\":\"circle\"},\"mode\":\"lines\",\"name\":\"tue\",\"orientation\":\"h\",\"showlegend\":false,\"stackgroup\":\"1\",\"x\":[0.0],\"xaxis\":\"x\",\"y\":[\"tue\"],\"yaxis\":\"y\",\"type\":\"scatter\"},{\"fillpattern\":{\"shape\":\"\"},\"hovertemplate\":\"day=%{y}<br>temp=14.4<br>rain=%{x}<extra></extra>\",\"legendgroup\":\"tue\",\"line\":{\"color\":\"#EF553B\"},\"marker\":{\"symbol\":\"circle\"},\"mode\":\"lines\",\"name\":\"tue\",\"orientation\":\"h\",\"showlegend\":false,\"stackgroup\":\"1\",\"x\":[0.0,0.0],\"xaxis\":\"x\",\"y\":[\"tue\",\"tue\"],\"yaxis\":\"y\",\"type\":\"scatter\"},{\"fillpattern\":{\"shape\":\"\"},\"hovertemplate\":\"day=%{y}<br>temp=20.1<br>rain=%{x}<extra></extra>\",\"legendgroup\":\"tue\",\"line\":{\"color\":\"#EF553B\"},\"marker\":{\"symbol\":\"circle\"},\"mode\":\"lines\",\"name\":\"tue\",\"orientation\":\"h\",\"showlegend\":false,\"stackgroup\":\"1\",\"x\":[0.0,0.0],\"xaxis\":\"x\",\"y\":[\"tue\",\"tue\"],\"yaxis\":\"y\",\"type\":\"scatter\"},{\"fillpattern\":{\"shape\":\"\"},\"hovertemplate\":\"day=%{y}<br>temp=15.5<br>rain=%{x}<extra></extra>\",\"legendgroup\":\"tue\",\"line\":{\"color\":\"#EF553B\"},\"marker\":{\"symbol\":\"circle\"},\"mode\":\"lines\",\"name\":\"tue\",\"orientation\":\"h\",\"showlegend\":false,\"stackgroup\":\"1\",\"x\":[0.0],\"xaxis\":\"x\",\"y\":[\"tue\"],\"yaxis\":\"y\",\"type\":\"scatter\"},{\"fillpattern\":{\"shape\":\"\"},\"hovertemplate\":\"day=%{y}<br>temp=15.2<br>rain=%{x}<extra></extra>\",\"legendgroup\":\"tue\",\"line\":{\"color\":\"#EF553B\"},\"marker\":{\"symbol\":\"circle\"},\"mode\":\"lines\",\"name\":\"tue\",\"orientation\":\"h\",\"showlegend\":false,\"stackgroup\":\"1\",\"x\":[0.0],\"xaxis\":\"x\",\"y\":[\"tue\"],\"yaxis\":\"y\",\"type\":\"scatter\"},{\"fillpattern\":{\"shape\":\"\"},\"hovertemplate\":\"day=%{y}<br>temp=17.1<br>rain=%{x}<extra></extra>\",\"legendgroup\":\"tue\",\"line\":{\"color\":\"#EF553B\"},\"marker\":{\"symbol\":\"circle\"},\"mode\":\"lines\",\"name\":\"tue\",\"orientation\":\"h\",\"showlegend\":false,\"stackgroup\":\"1\",\"x\":[0.0],\"xaxis\":\"x\",\"y\":[\"tue\"],\"yaxis\":\"y\",\"type\":\"scatter\"},{\"fillpattern\":{\"shape\":\"\"},\"hovertemplate\":\"day=%{y}<br>temp=14.9<br>rain=%{x}<extra></extra>\",\"legendgroup\":\"tue\",\"line\":{\"color\":\"#EF553B\"},\"marker\":{\"symbol\":\"circle\"},\"mode\":\"lines\",\"name\":\"tue\",\"orientation\":\"h\",\"showlegend\":false,\"stackgroup\":\"1\",\"x\":[0.0],\"xaxis\":\"x\",\"y\":[\"tue\"],\"yaxis\":\"y\",\"type\":\"scatter\"},{\"fillpattern\":{\"shape\":\"\"},\"hovertemplate\":\"day=%{y}<br>temp=24.2<br>rain=%{x}<extra></extra>\",\"legendgroup\":\"tue\",\"line\":{\"color\":\"#EF553B\"},\"marker\":{\"symbol\":\"circle\"},\"mode\":\"lines\",\"name\":\"tue\",\"orientation\":\"h\",\"showlegend\":false,\"stackgroup\":\"1\",\"x\":[0.0],\"xaxis\":\"x\",\"y\":[\"tue\"],\"yaxis\":\"y\",\"type\":\"scatter\"},{\"fillpattern\":{\"shape\":\"\"},\"hovertemplate\":\"day=%{y}<br>temp=24.6<br>rain=%{x}<extra></extra>\",\"legendgroup\":\"tue\",\"line\":{\"color\":\"#EF553B\"},\"marker\":{\"symbol\":\"circle\"},\"mode\":\"lines\",\"name\":\"tue\",\"orientation\":\"h\",\"showlegend\":false,\"stackgroup\":\"1\",\"x\":[0.0,0.0],\"xaxis\":\"x\",\"y\":[\"tue\",\"tue\"],\"yaxis\":\"y\",\"type\":\"scatter\"},{\"fillpattern\":{\"shape\":\"\"},\"hovertemplate\":\"day=%{y}<br>temp=16.4<br>rain=%{x}<extra></extra>\",\"legendgroup\":\"tue\",\"line\":{\"color\":\"#EF553B\"},\"marker\":{\"symbol\":\"circle\"},\"mode\":\"lines\",\"name\":\"tue\",\"orientation\":\"h\",\"showlegend\":false,\"stackgroup\":\"1\",\"x\":[0.0],\"xaxis\":\"x\",\"y\":[\"tue\"],\"yaxis\":\"y\",\"type\":\"scatter\"},{\"fillpattern\":{\"shape\":\"\"},\"hovertemplate\":\"day=%{y}<br>temp=20.7<br>rain=%{x}<extra></extra>\",\"legendgroup\":\"tue\",\"line\":{\"color\":\"#EF553B\"},\"marker\":{\"symbol\":\"circle\"},\"mode\":\"lines\",\"name\":\"tue\",\"orientation\":\"h\",\"showlegend\":false,\"stackgroup\":\"1\",\"x\":[0.0,0.4],\"xaxis\":\"x\",\"y\":[\"tue\",\"tue\"],\"yaxis\":\"y\",\"type\":\"scatter\"},{\"fillpattern\":{\"shape\":\"\"},\"hovertemplate\":\"day=%{y}<br>temp=24.3<br>rain=%{x}<extra></extra>\",\"legendgroup\":\"tue\",\"line\":{\"color\":\"#EF553B\"},\"marker\":{\"symbol\":\"circle\"},\"mode\":\"lines\",\"name\":\"tue\",\"orientation\":\"h\",\"showlegend\":false,\"stackgroup\":\"1\",\"x\":[0.0],\"xaxis\":\"x\",\"y\":[\"tue\"],\"yaxis\":\"y\",\"type\":\"scatter\"},{\"fillpattern\":{\"shape\":\"\"},\"hovertemplate\":\"day=%{y}<br>temp=22.1<br>rain=%{x}<extra></extra>\",\"legendgroup\":\"tue\",\"line\":{\"color\":\"#EF553B\"},\"marker\":{\"symbol\":\"circle\"},\"mode\":\"lines\",\"name\":\"tue\",\"orientation\":\"h\",\"showlegend\":false,\"stackgroup\":\"1\",\"x\":[0.0],\"xaxis\":\"x\",\"y\":[\"tue\"],\"yaxis\":\"y\",\"type\":\"scatter\"},{\"fillpattern\":{\"shape\":\"\"},\"hovertemplate\":\"day=%{y}<br>temp=5.1<br>rain=%{x}<extra></extra>\",\"legendgroup\":\"tue\",\"line\":{\"color\":\"#EF553B\"},\"marker\":{\"symbol\":\"circle\"},\"mode\":\"lines\",\"name\":\"tue\",\"orientation\":\"h\",\"showlegend\":false,\"stackgroup\":\"1\",\"x\":[0.0,0.0],\"xaxis\":\"x\",\"y\":[\"tue\",\"tue\"],\"yaxis\":\"y\",\"type\":\"scatter\"},{\"fillpattern\":{\"shape\":\"\"},\"hovertemplate\":\"day=%{y}<br>temp=18.7<br>rain=%{x}<extra></extra>\",\"legendgroup\":\"tue\",\"line\":{\"color\":\"#EF553B\"},\"marker\":{\"symbol\":\"circle\"},\"mode\":\"lines\",\"name\":\"tue\",\"orientation\":\"h\",\"showlegend\":false,\"stackgroup\":\"1\",\"x\":[0.0],\"xaxis\":\"x\",\"y\":[\"tue\"],\"yaxis\":\"y\",\"type\":\"scatter\"},{\"fillpattern\":{\"shape\":\"\"},\"hovertemplate\":\"day=%{y}<br>temp=21.8<br>rain=%{x}<extra></extra>\",\"legendgroup\":\"tue\",\"line\":{\"color\":\"#EF553B\"},\"marker\":{\"symbol\":\"circle\"},\"mode\":\"lines\",\"name\":\"tue\",\"orientation\":\"h\",\"showlegend\":false,\"stackgroup\":\"1\",\"x\":[0.0],\"xaxis\":\"x\",\"y\":[\"tue\"],\"yaxis\":\"y\",\"type\":\"scatter\"},{\"fillpattern\":{\"shape\":\"\"},\"hovertemplate\":\"day=%{y}<br>temp=4.6<br>rain=%{x}<extra></extra>\",\"legendgroup\":\"tue\",\"line\":{\"color\":\"#EF553B\"},\"marker\":{\"symbol\":\"circle\"},\"mode\":\"lines\",\"name\":\"tue\",\"orientation\":\"h\",\"showlegend\":false,\"stackgroup\":\"1\",\"x\":[0.0],\"xaxis\":\"x\",\"y\":[\"tue\"],\"yaxis\":\"y\",\"type\":\"scatter\"},{\"fillpattern\":{\"shape\":\"\"},\"hovertemplate\":\"day=%{y}<br>temp=26.9<br>rain=%{x}<extra></extra>\",\"legendgroup\":\"tue\",\"line\":{\"color\":\"#EF553B\"},\"marker\":{\"symbol\":\"circle\"},\"mode\":\"lines\",\"name\":\"tue\",\"orientation\":\"h\",\"showlegend\":false,\"stackgroup\":\"1\",\"x\":[0.0],\"xaxis\":\"x\",\"y\":[\"tue\"],\"yaxis\":\"y\",\"type\":\"scatter\"},{\"fillpattern\":{\"shape\":\"\"},\"hovertemplate\":\"day=%{y}<br>temp=21.1<br>rain=%{x}<extra></extra>\",\"legendgroup\":\"tue\",\"line\":{\"color\":\"#EF553B\"},\"marker\":{\"symbol\":\"circle\"},\"mode\":\"lines\",\"name\":\"tue\",\"orientation\":\"h\",\"showlegend\":false,\"stackgroup\":\"1\",\"x\":[0.0],\"xaxis\":\"x\",\"y\":[\"tue\"],\"yaxis\":\"y\",\"type\":\"scatter\"},{\"fillpattern\":{\"shape\":\"\"},\"hovertemplate\":\"day=%{y}<br>temp=27.9<br>rain=%{x}<extra></extra>\",\"legendgroup\":\"tue\",\"line\":{\"color\":\"#EF553B\"},\"marker\":{\"symbol\":\"circle\"},\"mode\":\"lines\",\"name\":\"tue\",\"orientation\":\"h\",\"showlegend\":false,\"stackgroup\":\"1\",\"x\":[0.0],\"xaxis\":\"x\",\"y\":[\"tue\"],\"yaxis\":\"y\",\"type\":\"scatter\"},{\"fillpattern\":{\"shape\":\"\"},\"hovertemplate\":\"day=%{y}<br>temp=26.3<br>rain=%{x}<extra></extra>\",\"legendgroup\":\"tue\",\"line\":{\"color\":\"#EF553B\"},\"marker\":{\"symbol\":\"circle\"},\"mode\":\"lines\",\"name\":\"tue\",\"orientation\":\"h\",\"showlegend\":false,\"stackgroup\":\"1\",\"x\":[0.0],\"xaxis\":\"x\",\"y\":[\"tue\"],\"yaxis\":\"y\",\"type\":\"scatter\"},{\"fillpattern\":{\"shape\":\"\"},\"hovertemplate\":\"day=%{y}<br>temp=32.3<br>rain=%{x}<extra></extra>\",\"legendgroup\":\"tue\",\"line\":{\"color\":\"#EF553B\"},\"marker\":{\"symbol\":\"circle\"},\"mode\":\"lines\",\"name\":\"tue\",\"orientation\":\"h\",\"showlegend\":false,\"stackgroup\":\"1\",\"x\":[0.0],\"xaxis\":\"x\",\"y\":[\"tue\"],\"yaxis\":\"y\",\"type\":\"scatter\"},{\"fillpattern\":{\"shape\":\"\"},\"hovertemplate\":\"day=%{y}<br>temp=33.3<br>rain=%{x}<extra></extra>\",\"legendgroup\":\"tue\",\"line\":{\"color\":\"#EF553B\"},\"marker\":{\"symbol\":\"circle\"},\"mode\":\"lines\",\"name\":\"tue\",\"orientation\":\"h\",\"showlegend\":false,\"stackgroup\":\"1\",\"x\":[0.0],\"xaxis\":\"x\",\"y\":[\"tue\"],\"yaxis\":\"y\",\"type\":\"scatter\"},{\"fillpattern\":{\"shape\":\"\"},\"hovertemplate\":\"day=%{y}<br>temp=27.3<br>rain=%{x}<extra></extra>\",\"legendgroup\":\"tue\",\"line\":{\"color\":\"#EF553B\"},\"marker\":{\"symbol\":\"circle\"},\"mode\":\"lines\",\"name\":\"tue\",\"orientation\":\"h\",\"showlegend\":false,\"stackgroup\":\"1\",\"x\":[6.4],\"xaxis\":\"x\",\"y\":[\"tue\"],\"yaxis\":\"y\",\"type\":\"scatter\"},{\"fillpattern\":{\"shape\":\"\"},\"hovertemplate\":\"day=%{y}<br>temp=14.6<br>rain=%{x}<extra></extra>\",\"legendgroup\":\"sat\",\"line\":{\"color\":\"#00cc96\"},\"marker\":{\"symbol\":\"circle\"},\"mode\":\"lines\",\"name\":\"sat\",\"orientation\":\"h\",\"showlegend\":true,\"stackgroup\":\"1\",\"x\":[0.0],\"xaxis\":\"x\",\"y\":[\"sat\"],\"yaxis\":\"y\",\"type\":\"scatter\"},{\"fillpattern\":{\"shape\":\"\"},\"hovertemplate\":\"day=%{y}<br>temp=24.1<br>rain=%{x}<extra></extra>\",\"legendgroup\":\"sat\",\"line\":{\"color\":\"#00cc96\"},\"marker\":{\"symbol\":\"circle\"},\"mode\":\"lines\",\"name\":\"sat\",\"orientation\":\"h\",\"showlegend\":false,\"stackgroup\":\"1\",\"x\":[0.0,0.0],\"xaxis\":\"x\",\"y\":[\"sat\",\"sat\"],\"yaxis\":\"y\",\"type\":\"scatter\"},{\"fillpattern\":{\"shape\":\"\"},\"hovertemplate\":\"day=%{y}<br>temp=22.8<br>rain=%{x}<extra></extra>\",\"legendgroup\":\"sat\",\"line\":{\"color\":\"#00cc96\"},\"marker\":{\"symbol\":\"circle\"},\"mode\":\"lines\",\"name\":\"sat\",\"orientation\":\"h\",\"showlegend\":false,\"stackgroup\":\"1\",\"x\":[0.0],\"xaxis\":\"x\",\"y\":[\"sat\"],\"yaxis\":\"y\",\"type\":\"scatter\"},{\"fillpattern\":{\"shape\":\"\"},\"hovertemplate\":\"day=%{y}<br>temp=17.8<br>rain=%{x}<extra></extra>\",\"legendgroup\":\"sat\",\"line\":{\"color\":\"#00cc96\"},\"marker\":{\"symbol\":\"circle\"},\"mode\":\"lines\",\"name\":\"sat\",\"orientation\":\"h\",\"showlegend\":false,\"stackgroup\":\"1\",\"x\":[0.0,0.0,0.0],\"xaxis\":\"x\",\"y\":[\"sat\",\"sat\",\"sat\"],\"yaxis\":\"y\",\"type\":\"scatter\"},{\"fillpattern\":{\"shape\":\"\"},\"hovertemplate\":\"day=%{y}<br>temp=19.3<br>rain=%{x}<extra></extra>\",\"legendgroup\":\"sat\",\"line\":{\"color\":\"#00cc96\"},\"marker\":{\"symbol\":\"circle\"},\"mode\":\"lines\",\"name\":\"sat\",\"orientation\":\"h\",\"showlegend\":false,\"stackgroup\":\"1\",\"x\":[0.0],\"xaxis\":\"x\",\"y\":[\"sat\"],\"yaxis\":\"y\",\"type\":\"scatter\"},{\"fillpattern\":{\"shape\":\"\"},\"hovertemplate\":\"day=%{y}<br>temp=17.0<br>rain=%{x}<extra></extra>\",\"legendgroup\":\"sat\",\"line\":{\"color\":\"#00cc96\"},\"marker\":{\"symbol\":\"circle\"},\"mode\":\"lines\",\"name\":\"sat\",\"orientation\":\"h\",\"showlegend\":false,\"stackgroup\":\"1\",\"x\":[0.0,0.0,0.0],\"xaxis\":\"x\",\"y\":[\"sat\",\"sat\",\"sat\"],\"yaxis\":\"y\",\"type\":\"scatter\"},{\"fillpattern\":{\"shape\":\"\"},\"hovertemplate\":\"day=%{y}<br>temp=21.3<br>rain=%{x}<extra></extra>\",\"legendgroup\":\"sat\",\"line\":{\"color\":\"#00cc96\"},\"marker\":{\"symbol\":\"circle\"},\"mode\":\"lines\",\"name\":\"sat\",\"orientation\":\"h\",\"showlegend\":false,\"stackgroup\":\"1\",\"x\":[0.0],\"xaxis\":\"x\",\"y\":[\"sat\"],\"yaxis\":\"y\",\"type\":\"scatter\"},{\"fillpattern\":{\"shape\":\"\"},\"hovertemplate\":\"day=%{y}<br>temp=26.4<br>rain=%{x}<extra></extra>\",\"legendgroup\":\"sat\",\"line\":{\"color\":\"#00cc96\"},\"marker\":{\"symbol\":\"circle\"},\"mode\":\"lines\",\"name\":\"sat\",\"orientation\":\"h\",\"showlegend\":false,\"stackgroup\":\"1\",\"x\":[0.0],\"xaxis\":\"x\",\"y\":[\"sat\"],\"yaxis\":\"y\",\"type\":\"scatter\"},{\"fillpattern\":{\"shape\":\"\"},\"hovertemplate\":\"day=%{y}<br>temp=22.9<br>rain=%{x}<extra></extra>\",\"legendgroup\":\"sat\",\"line\":{\"color\":\"#00cc96\"},\"marker\":{\"symbol\":\"circle\"},\"mode\":\"lines\",\"name\":\"sat\",\"orientation\":\"h\",\"showlegend\":false,\"stackgroup\":\"1\",\"x\":[0.0],\"xaxis\":\"x\",\"y\":[\"sat\"],\"yaxis\":\"y\",\"type\":\"scatter\"},{\"fillpattern\":{\"shape\":\"\"},\"hovertemplate\":\"day=%{y}<br>temp=15.1<br>rain=%{x}<extra></extra>\",\"legendgroup\":\"sat\",\"line\":{\"color\":\"#00cc96\"},\"marker\":{\"symbol\":\"circle\"},\"mode\":\"lines\",\"name\":\"sat\",\"orientation\":\"h\",\"showlegend\":false,\"stackgroup\":\"1\",\"x\":[0.0,0.0],\"xaxis\":\"x\",\"y\":[\"sat\",\"sat\"],\"yaxis\":\"y\",\"type\":\"scatter\"},{\"fillpattern\":{\"shape\":\"\"},\"hovertemplate\":\"day=%{y}<br>temp=9.3<br>rain=%{x}<extra></extra>\",\"legendgroup\":\"sat\",\"line\":{\"color\":\"#00cc96\"},\"marker\":{\"symbol\":\"circle\"},\"mode\":\"lines\",\"name\":\"sat\",\"orientation\":\"h\",\"showlegend\":false,\"stackgroup\":\"1\",\"x\":[0.0],\"xaxis\":\"x\",\"y\":[\"sat\"],\"yaxis\":\"y\",\"type\":\"scatter\"},{\"fillpattern\":{\"shape\":\"\"},\"hovertemplate\":\"day=%{y}<br>temp=19.5<br>rain=%{x}<extra></extra>\",\"legendgroup\":\"sat\",\"line\":{\"color\":\"#00cc96\"},\"marker\":{\"symbol\":\"circle\"},\"mode\":\"lines\",\"name\":\"sat\",\"orientation\":\"h\",\"showlegend\":false,\"stackgroup\":\"1\",\"x\":[0.0],\"xaxis\":\"x\",\"y\":[\"sat\"],\"yaxis\":\"y\",\"type\":\"scatter\"},{\"fillpattern\":{\"shape\":\"\"},\"hovertemplate\":\"day=%{y}<br>temp=23.7<br>rain=%{x}<extra></extra>\",\"legendgroup\":\"sat\",\"line\":{\"color\":\"#00cc96\"},\"marker\":{\"symbol\":\"circle\"},\"mode\":\"lines\",\"name\":\"sat\",\"orientation\":\"h\",\"showlegend\":false,\"stackgroup\":\"1\",\"x\":[0.0,0.0],\"xaxis\":\"x\",\"y\":[\"sat\",\"sat\"],\"yaxis\":\"y\",\"type\":\"scatter\"},{\"fillpattern\":{\"shape\":\"\"},\"hovertemplate\":\"day=%{y}<br>temp=30.2<br>rain=%{x}<extra></extra>\",\"legendgroup\":\"sat\",\"line\":{\"color\":\"#00cc96\"},\"marker\":{\"symbol\":\"circle\"},\"mode\":\"lines\",\"name\":\"sat\",\"orientation\":\"h\",\"showlegend\":false,\"stackgroup\":\"1\",\"x\":[0.0],\"xaxis\":\"x\",\"y\":[\"sat\"],\"yaxis\":\"y\",\"type\":\"scatter\"},{\"fillpattern\":{\"shape\":\"\"},\"hovertemplate\":\"day=%{y}<br>temp=20.6<br>rain=%{x}<extra></extra>\",\"legendgroup\":\"sat\",\"line\":{\"color\":\"#00cc96\"},\"marker\":{\"symbol\":\"circle\"},\"mode\":\"lines\",\"name\":\"sat\",\"orientation\":\"h\",\"showlegend\":false,\"stackgroup\":\"1\",\"x\":[0.0],\"xaxis\":\"x\",\"y\":[\"sat\"],\"yaxis\":\"y\",\"type\":\"scatter\"},{\"fillpattern\":{\"shape\":\"\"},\"hovertemplate\":\"day=%{y}<br>temp=17.7<br>rain=%{x}<extra></extra>\",\"legendgroup\":\"sat\",\"line\":{\"color\":\"#00cc96\"},\"marker\":{\"symbol\":\"circle\"},\"mode\":\"lines\",\"name\":\"sat\",\"orientation\":\"h\",\"showlegend\":false,\"stackgroup\":\"1\",\"x\":[0.0],\"xaxis\":\"x\",\"y\":[\"sat\"],\"yaxis\":\"y\",\"type\":\"scatter\"},{\"fillpattern\":{\"shape\":\"\"},\"hovertemplate\":\"day=%{y}<br>temp=21.2<br>rain=%{x}<extra></extra>\",\"legendgroup\":\"sat\",\"line\":{\"color\":\"#00cc96\"},\"marker\":{\"symbol\":\"circle\"},\"mode\":\"lines\",\"name\":\"sat\",\"orientation\":\"h\",\"showlegend\":false,\"stackgroup\":\"1\",\"x\":[0.0],\"xaxis\":\"x\",\"y\":[\"sat\"],\"yaxis\":\"y\",\"type\":\"scatter\"},{\"fillpattern\":{\"shape\":\"\"},\"hovertemplate\":\"day=%{y}<br>temp=18.2<br>rain=%{x}<extra></extra>\",\"legendgroup\":\"sat\",\"line\":{\"color\":\"#00cc96\"},\"marker\":{\"symbol\":\"circle\"},\"mode\":\"lines\",\"name\":\"sat\",\"orientation\":\"h\",\"showlegend\":false,\"stackgroup\":\"1\",\"x\":[0.0],\"xaxis\":\"x\",\"y\":[\"sat\"],\"yaxis\":\"y\",\"type\":\"scatter\"},{\"fillpattern\":{\"shape\":\"\"},\"hovertemplate\":\"day=%{y}<br>temp=11.3<br>rain=%{x}<extra></extra>\",\"legendgroup\":\"sat\",\"line\":{\"color\":\"#00cc96\"},\"marker\":{\"symbol\":\"circle\"},\"mode\":\"lines\",\"name\":\"sat\",\"orientation\":\"h\",\"showlegend\":false,\"stackgroup\":\"1\",\"x\":[0.0],\"xaxis\":\"x\",\"y\":[\"sat\"],\"yaxis\":\"y\",\"type\":\"scatter\"},{\"fillpattern\":{\"shape\":\"\"},\"hovertemplate\":\"day=%{y}<br>temp=23.3<br>rain=%{x}<extra></extra>\",\"legendgroup\":\"sat\",\"line\":{\"color\":\"#00cc96\"},\"marker\":{\"symbol\":\"circle\"},\"mode\":\"lines\",\"name\":\"sat\",\"orientation\":\"h\",\"showlegend\":false,\"stackgroup\":\"1\",\"x\":[0.0],\"xaxis\":\"x\",\"y\":[\"sat\"],\"yaxis\":\"y\",\"type\":\"scatter\"},{\"fillpattern\":{\"shape\":\"\"},\"hovertemplate\":\"day=%{y}<br>temp=18.4<br>rain=%{x}<extra></extra>\",\"legendgroup\":\"sat\",\"line\":{\"color\":\"#00cc96\"},\"marker\":{\"symbol\":\"circle\"},\"mode\":\"lines\",\"name\":\"sat\",\"orientation\":\"h\",\"showlegend\":false,\"stackgroup\":\"1\",\"x\":[0.0,0.0],\"xaxis\":\"x\",\"y\":[\"sat\",\"sat\"],\"yaxis\":\"y\",\"type\":\"scatter\"},{\"fillpattern\":{\"shape\":\"\"},\"hovertemplate\":\"day=%{y}<br>temp=16.6<br>rain=%{x}<extra></extra>\",\"legendgroup\":\"sat\",\"line\":{\"color\":\"#00cc96\"},\"marker\":{\"symbol\":\"circle\"},\"mode\":\"lines\",\"name\":\"sat\",\"orientation\":\"h\",\"showlegend\":false,\"stackgroup\":\"1\",\"x\":[0.0],\"xaxis\":\"x\",\"y\":[\"sat\"],\"yaxis\":\"y\",\"type\":\"scatter\"},{\"fillpattern\":{\"shape\":\"\"},\"hovertemplate\":\"day=%{y}<br>temp=19.6<br>rain=%{x}<extra></extra>\",\"legendgroup\":\"sat\",\"line\":{\"color\":\"#00cc96\"},\"marker\":{\"symbol\":\"circle\"},\"mode\":\"lines\",\"name\":\"sat\",\"orientation\":\"h\",\"showlegend\":false,\"stackgroup\":\"1\",\"x\":[0.0],\"xaxis\":\"x\",\"y\":[\"sat\"],\"yaxis\":\"y\",\"type\":\"scatter\"},{\"fillpattern\":{\"shape\":\"\"},\"hovertemplate\":\"day=%{y}<br>temp=25.9<br>rain=%{x}<extra></extra>\",\"legendgroup\":\"sat\",\"line\":{\"color\":\"#00cc96\"},\"marker\":{\"symbol\":\"circle\"},\"mode\":\"lines\",\"name\":\"sat\",\"orientation\":\"h\",\"showlegend\":false,\"stackgroup\":\"1\",\"x\":[0.0],\"xaxis\":\"x\",\"y\":[\"sat\"],\"yaxis\":\"y\",\"type\":\"scatter\"},{\"fillpattern\":{\"shape\":\"\"},\"hovertemplate\":\"day=%{y}<br>temp=14.7<br>rain=%{x}<extra></extra>\",\"legendgroup\":\"sat\",\"line\":{\"color\":\"#00cc96\"},\"marker\":{\"symbol\":\"circle\"},\"mode\":\"lines\",\"name\":\"sat\",\"orientation\":\"h\",\"showlegend\":false,\"stackgroup\":\"1\",\"x\":[0.0],\"xaxis\":\"x\",\"y\":[\"sat\"],\"yaxis\":\"y\",\"type\":\"scatter\"},{\"fillpattern\":{\"shape\":\"\"},\"hovertemplate\":\"day=%{y}<br>temp=21.5<br>rain=%{x}<extra></extra>\",\"legendgroup\":\"sat\",\"line\":{\"color\":\"#00cc96\"},\"marker\":{\"symbol\":\"circle\"},\"mode\":\"lines\",\"name\":\"sat\",\"orientation\":\"h\",\"showlegend\":false,\"stackgroup\":\"1\",\"x\":[0.0],\"xaxis\":\"x\",\"y\":[\"sat\"],\"yaxis\":\"y\",\"type\":\"scatter\"},{\"fillpattern\":{\"shape\":\"\"},\"hovertemplate\":\"day=%{y}<br>temp=17.6<br>rain=%{x}<extra></extra>\",\"legendgroup\":\"sat\",\"line\":{\"color\":\"#00cc96\"},\"marker\":{\"symbol\":\"circle\"},\"mode\":\"lines\",\"name\":\"sat\",\"orientation\":\"h\",\"showlegend\":false,\"stackgroup\":\"1\",\"x\":[0.0],\"xaxis\":\"x\",\"y\":[\"sat\"],\"yaxis\":\"y\",\"type\":\"scatter\"},{\"fillpattern\":{\"shape\":\"\"},\"hovertemplate\":\"day=%{y}<br>temp=25.3<br>rain=%{x}<extra></extra>\",\"legendgroup\":\"sat\",\"line\":{\"color\":\"#00cc96\"},\"marker\":{\"symbol\":\"circle\"},\"mode\":\"lines\",\"name\":\"sat\",\"orientation\":\"h\",\"showlegend\":false,\"stackgroup\":\"1\",\"x\":[0.0],\"xaxis\":\"x\",\"y\":[\"sat\"],\"yaxis\":\"y\",\"type\":\"scatter\"},{\"fillpattern\":{\"shape\":\"\"},\"hovertemplate\":\"day=%{y}<br>temp=17.4<br>rain=%{x}<extra></extra>\",\"legendgroup\":\"sat\",\"line\":{\"color\":\"#00cc96\"},\"marker\":{\"symbol\":\"circle\"},\"mode\":\"lines\",\"name\":\"sat\",\"orientation\":\"h\",\"showlegend\":false,\"stackgroup\":\"1\",\"x\":[0.0,0.0],\"xaxis\":\"x\",\"y\":[\"sat\",\"sat\"],\"yaxis\":\"y\",\"type\":\"scatter\"},{\"fillpattern\":{\"shape\":\"\"},\"hovertemplate\":\"day=%{y}<br>temp=12.7<br>rain=%{x}<extra></extra>\",\"legendgroup\":\"sat\",\"line\":{\"color\":\"#00cc96\"},\"marker\":{\"symbol\":\"circle\"},\"mode\":\"lines\",\"name\":\"sat\",\"orientation\":\"h\",\"showlegend\":false,\"stackgroup\":\"1\",\"x\":[0.0],\"xaxis\":\"x\",\"y\":[\"sat\"],\"yaxis\":\"y\",\"type\":\"scatter\"},{\"fillpattern\":{\"shape\":\"\"},\"hovertemplate\":\"day=%{y}<br>temp=11.6<br>rain=%{x}<extra></extra>\",\"legendgroup\":\"sat\",\"line\":{\"color\":\"#00cc96\"},\"marker\":{\"symbol\":\"circle\"},\"mode\":\"lines\",\"name\":\"sat\",\"orientation\":\"h\",\"showlegend\":false,\"stackgroup\":\"1\",\"x\":[0.0],\"xaxis\":\"x\",\"y\":[\"sat\"],\"yaxis\":\"y\",\"type\":\"scatter\"},{\"fillpattern\":{\"shape\":\"\"},\"hovertemplate\":\"day=%{y}<br>temp=20.1<br>rain=%{x}<extra></extra>\",\"legendgroup\":\"sat\",\"line\":{\"color\":\"#00cc96\"},\"marker\":{\"symbol\":\"circle\"},\"mode\":\"lines\",\"name\":\"sat\",\"orientation\":\"h\",\"showlegend\":false,\"stackgroup\":\"1\",\"x\":[0.0],\"xaxis\":\"x\",\"y\":[\"sat\"],\"yaxis\":\"y\",\"type\":\"scatter\"},{\"fillpattern\":{\"shape\":\"\"},\"hovertemplate\":\"day=%{y}<br>temp=5.3<br>rain=%{x}<extra></extra>\",\"legendgroup\":\"sat\",\"line\":{\"color\":\"#00cc96\"},\"marker\":{\"symbol\":\"circle\"},\"mode\":\"lines\",\"name\":\"sat\",\"orientation\":\"h\",\"showlegend\":false,\"stackgroup\":\"1\",\"x\":[0.0],\"xaxis\":\"x\",\"y\":[\"sat\"],\"yaxis\":\"y\",\"type\":\"scatter\"},{\"fillpattern\":{\"shape\":\"\"},\"hovertemplate\":\"day=%{y}<br>temp=21.4<br>rain=%{x}<extra></extra>\",\"legendgroup\":\"sat\",\"line\":{\"color\":\"#00cc96\"},\"marker\":{\"symbol\":\"circle\"},\"mode\":\"lines\",\"name\":\"sat\",\"orientation\":\"h\",\"showlegend\":false,\"stackgroup\":\"1\",\"x\":[0.0],\"xaxis\":\"x\",\"y\":[\"sat\"],\"yaxis\":\"y\",\"type\":\"scatter\"},{\"fillpattern\":{\"shape\":\"\"},\"hovertemplate\":\"day=%{y}<br>temp=20.3<br>rain=%{x}<extra></extra>\",\"legendgroup\":\"sat\",\"line\":{\"color\":\"#00cc96\"},\"marker\":{\"symbol\":\"circle\"},\"mode\":\"lines\",\"name\":\"sat\",\"orientation\":\"h\",\"showlegend\":false,\"stackgroup\":\"1\",\"x\":[0.0,0.0],\"xaxis\":\"x\",\"y\":[\"sat\",\"sat\"],\"yaxis\":\"y\",\"type\":\"scatter\"},{\"fillpattern\":{\"shape\":\"\"},\"hovertemplate\":\"day=%{y}<br>temp=18.9<br>rain=%{x}<extra></extra>\",\"legendgroup\":\"sat\",\"line\":{\"color\":\"#00cc96\"},\"marker\":{\"symbol\":\"circle\"},\"mode\":\"lines\",\"name\":\"sat\",\"orientation\":\"h\",\"showlegend\":false,\"stackgroup\":\"1\",\"x\":[0.0,0.0,0.0],\"xaxis\":\"x\",\"y\":[\"sat\",\"sat\",\"sat\"],\"yaxis\":\"y\",\"type\":\"scatter\"},{\"fillpattern\":{\"shape\":\"\"},\"hovertemplate\":\"day=%{y}<br>temp=15.5<br>rain=%{x}<extra></extra>\",\"legendgroup\":\"sat\",\"line\":{\"color\":\"#00cc96\"},\"marker\":{\"symbol\":\"circle\"},\"mode\":\"lines\",\"name\":\"sat\",\"orientation\":\"h\",\"showlegend\":false,\"stackgroup\":\"1\",\"x\":[0.0],\"xaxis\":\"x\",\"y\":[\"sat\"],\"yaxis\":\"y\",\"type\":\"scatter\"},{\"fillpattern\":{\"shape\":\"\"},\"hovertemplate\":\"day=%{y}<br>temp=15.2<br>rain=%{x}<extra></extra>\",\"legendgroup\":\"sat\",\"line\":{\"color\":\"#00cc96\"},\"marker\":{\"symbol\":\"circle\"},\"mode\":\"lines\",\"name\":\"sat\",\"orientation\":\"h\",\"showlegend\":false,\"stackgroup\":\"1\",\"x\":[0.0,0.0],\"xaxis\":\"x\",\"y\":[\"sat\",\"sat\"],\"yaxis\":\"y\",\"type\":\"scatter\"},{\"fillpattern\":{\"shape\":\"\"},\"hovertemplate\":\"day=%{y}<br>temp=10.6<br>rain=%{x}<extra></extra>\",\"legendgroup\":\"sat\",\"line\":{\"color\":\"#00cc96\"},\"marker\":{\"symbol\":\"circle\"},\"mode\":\"lines\",\"name\":\"sat\",\"orientation\":\"h\",\"showlegend\":false,\"stackgroup\":\"1\",\"x\":[0.0],\"xaxis\":\"x\",\"y\":[\"sat\"],\"yaxis\":\"y\",\"type\":\"scatter\"},{\"fillpattern\":{\"shape\":\"\"},\"hovertemplate\":\"day=%{y}<br>temp=17.1<br>rain=%{x}<extra></extra>\",\"legendgroup\":\"sat\",\"line\":{\"color\":\"#00cc96\"},\"marker\":{\"symbol\":\"circle\"},\"mode\":\"lines\",\"name\":\"sat\",\"orientation\":\"h\",\"showlegend\":false,\"stackgroup\":\"1\",\"x\":[0.0],\"xaxis\":\"x\",\"y\":[\"sat\"],\"yaxis\":\"y\",\"type\":\"scatter\"},{\"fillpattern\":{\"shape\":\"\"},\"hovertemplate\":\"day=%{y}<br>temp=15.4<br>rain=%{x}<extra></extra>\",\"legendgroup\":\"sat\",\"line\":{\"color\":\"#00cc96\"},\"marker\":{\"symbol\":\"circle\"},\"mode\":\"lines\",\"name\":\"sat\",\"orientation\":\"h\",\"showlegend\":false,\"stackgroup\":\"1\",\"x\":[0.0,0.0],\"xaxis\":\"x\",\"y\":[\"sat\",\"sat\"],\"yaxis\":\"y\",\"type\":\"scatter\"},{\"fillpattern\":{\"shape\":\"\"},\"hovertemplate\":\"day=%{y}<br>temp=21.9<br>rain=%{x}<extra></extra>\",\"legendgroup\":\"sat\",\"line\":{\"color\":\"#00cc96\"},\"marker\":{\"symbol\":\"circle\"},\"mode\":\"lines\",\"name\":\"sat\",\"orientation\":\"h\",\"showlegend\":false,\"stackgroup\":\"1\",\"x\":[0.0],\"xaxis\":\"x\",\"y\":[\"sat\"],\"yaxis\":\"y\",\"type\":\"scatter\"},{\"fillpattern\":{\"shape\":\"\"},\"hovertemplate\":\"day=%{y}<br>temp=23.8<br>rain=%{x}<extra></extra>\",\"legendgroup\":\"sat\",\"line\":{\"color\":\"#00cc96\"},\"marker\":{\"symbol\":\"circle\"},\"mode\":\"lines\",\"name\":\"sat\",\"orientation\":\"h\",\"showlegend\":false,\"stackgroup\":\"1\",\"x\":[0.0],\"xaxis\":\"x\",\"y\":[\"sat\"],\"yaxis\":\"y\",\"type\":\"scatter\"},{\"fillpattern\":{\"shape\":\"\"},\"hovertemplate\":\"day=%{y}<br>temp=24.2<br>rain=%{x}<extra></extra>\",\"legendgroup\":\"sat\",\"line\":{\"color\":\"#00cc96\"},\"marker\":{\"symbol\":\"circle\"},\"mode\":\"lines\",\"name\":\"sat\",\"orientation\":\"h\",\"showlegend\":false,\"stackgroup\":\"1\",\"x\":[0.0,0.0,0.0],\"xaxis\":\"x\",\"y\":[\"sat\",\"sat\",\"sat\"],\"yaxis\":\"y\",\"type\":\"scatter\"},{\"fillpattern\":{\"shape\":\"\"},\"hovertemplate\":\"day=%{y}<br>temp=24.6<br>rain=%{x}<extra></extra>\",\"legendgroup\":\"sat\",\"line\":{\"color\":\"#00cc96\"},\"marker\":{\"symbol\":\"circle\"},\"mode\":\"lines\",\"name\":\"sat\",\"orientation\":\"h\",\"showlegend\":false,\"stackgroup\":\"1\",\"x\":[0.0],\"xaxis\":\"x\",\"y\":[\"sat\"],\"yaxis\":\"y\",\"type\":\"scatter\"},{\"fillpattern\":{\"shape\":\"\"},\"hovertemplate\":\"day=%{y}<br>temp=29.6<br>rain=%{x}<extra></extra>\",\"legendgroup\":\"sat\",\"line\":{\"color\":\"#00cc96\"},\"marker\":{\"symbol\":\"circle\"},\"mode\":\"lines\",\"name\":\"sat\",\"orientation\":\"h\",\"showlegend\":false,\"stackgroup\":\"1\",\"x\":[0.0],\"xaxis\":\"x\",\"y\":[\"sat\"],\"yaxis\":\"y\",\"type\":\"scatter\"},{\"fillpattern\":{\"shape\":\"\"},\"hovertemplate\":\"day=%{y}<br>temp=16.4<br>rain=%{x}<extra></extra>\",\"legendgroup\":\"sat\",\"line\":{\"color\":\"#00cc96\"},\"marker\":{\"symbol\":\"circle\"},\"mode\":\"lines\",\"name\":\"sat\",\"orientation\":\"h\",\"showlegend\":false,\"stackgroup\":\"1\",\"x\":[0.0],\"xaxis\":\"x\",\"y\":[\"sat\"],\"yaxis\":\"y\",\"type\":\"scatter\"},{\"fillpattern\":{\"shape\":\"\"},\"hovertemplate\":\"day=%{y}<br>temp=28.6<br>rain=%{x}<extra></extra>\",\"legendgroup\":\"sat\",\"line\":{\"color\":\"#00cc96\"},\"marker\":{\"symbol\":\"circle\"},\"mode\":\"lines\",\"name\":\"sat\",\"orientation\":\"h\",\"showlegend\":false,\"stackgroup\":\"1\",\"x\":[0.0],\"xaxis\":\"x\",\"y\":[\"sat\"],\"yaxis\":\"y\",\"type\":\"scatter\"},{\"fillpattern\":{\"shape\":\"\"},\"hovertemplate\":\"day=%{y}<br>temp=14.2<br>rain=%{x}<extra></extra>\",\"legendgroup\":\"sat\",\"line\":{\"color\":\"#00cc96\"},\"marker\":{\"symbol\":\"circle\"},\"mode\":\"lines\",\"name\":\"sat\",\"orientation\":\"h\",\"showlegend\":false,\"stackgroup\":\"1\",\"x\":[0.0,0.0,0.0],\"xaxis\":\"x\",\"y\":[\"sat\",\"sat\",\"sat\"],\"yaxis\":\"y\",\"type\":\"scatter\"},{\"fillpattern\":{\"shape\":\"\"},\"hovertemplate\":\"day=%{y}<br>temp=23.9<br>rain=%{x}<extra></extra>\",\"legendgroup\":\"sat\",\"line\":{\"color\":\"#00cc96\"},\"marker\":{\"symbol\":\"circle\"},\"mode\":\"lines\",\"name\":\"sat\",\"orientation\":\"h\",\"showlegend\":false,\"stackgroup\":\"1\",\"x\":[0.0],\"xaxis\":\"x\",\"y\":[\"sat\"],\"yaxis\":\"y\",\"type\":\"scatter\"},{\"fillpattern\":{\"shape\":\"\"},\"hovertemplate\":\"day=%{y}<br>temp=16.8<br>rain=%{x}<extra></extra>\",\"legendgroup\":\"sat\",\"line\":{\"color\":\"#00cc96\"},\"marker\":{\"symbol\":\"circle\"},\"mode\":\"lines\",\"name\":\"sat\",\"orientation\":\"h\",\"showlegend\":false,\"stackgroup\":\"1\",\"x\":[0.0],\"xaxis\":\"x\",\"y\":[\"sat\"],\"yaxis\":\"y\",\"type\":\"scatter\"},{\"fillpattern\":{\"shape\":\"\"},\"hovertemplate\":\"day=%{y}<br>temp=13.3<br>rain=%{x}<extra></extra>\",\"legendgroup\":\"sat\",\"line\":{\"color\":\"#00cc96\"},\"marker\":{\"symbol\":\"circle\"},\"mode\":\"lines\",\"name\":\"sat\",\"orientation\":\"h\",\"showlegend\":false,\"stackgroup\":\"1\",\"x\":[0.0],\"xaxis\":\"x\",\"y\":[\"sat\"],\"yaxis\":\"y\",\"type\":\"scatter\"},{\"fillpattern\":{\"shape\":\"\"},\"hovertemplate\":\"day=%{y}<br>temp=24.3<br>rain=%{x}<extra></extra>\",\"legendgroup\":\"sat\",\"line\":{\"color\":\"#00cc96\"},\"marker\":{\"symbol\":\"circle\"},\"mode\":\"lines\",\"name\":\"sat\",\"orientation\":\"h\",\"showlegend\":false,\"stackgroup\":\"1\",\"x\":[0.0],\"xaxis\":\"x\",\"y\":[\"sat\"],\"yaxis\":\"y\",\"type\":\"scatter\"},{\"fillpattern\":{\"shape\":\"\"},\"hovertemplate\":\"day=%{y}<br>temp=23.5<br>rain=%{x}<extra></extra>\",\"legendgroup\":\"sat\",\"line\":{\"color\":\"#00cc96\"},\"marker\":{\"symbol\":\"circle\"},\"mode\":\"lines\",\"name\":\"sat\",\"orientation\":\"h\",\"showlegend\":false,\"stackgroup\":\"1\",\"x\":[0.0],\"xaxis\":\"x\",\"y\":[\"sat\"],\"yaxis\":\"y\",\"type\":\"scatter\"},{\"fillpattern\":{\"shape\":\"\"},\"hovertemplate\":\"day=%{y}<br>temp=22.1<br>rain=%{x}<extra></extra>\",\"legendgroup\":\"sat\",\"line\":{\"color\":\"#00cc96\"},\"marker\":{\"symbol\":\"circle\"},\"mode\":\"lines\",\"name\":\"sat\",\"orientation\":\"h\",\"showlegend\":false,\"stackgroup\":\"1\",\"x\":[0.0],\"xaxis\":\"x\",\"y\":[\"sat\"],\"yaxis\":\"y\",\"type\":\"scatter\"},{\"fillpattern\":{\"shape\":\"\"},\"hovertemplate\":\"day=%{y}<br>temp=5.1<br>rain=%{x}<extra></extra>\",\"legendgroup\":\"sat\",\"line\":{\"color\":\"#00cc96\"},\"marker\":{\"symbol\":\"circle\"},\"mode\":\"lines\",\"name\":\"sat\",\"orientation\":\"h\",\"showlegend\":false,\"stackgroup\":\"1\",\"x\":[0.0],\"xaxis\":\"x\",\"y\":[\"sat\"],\"yaxis\":\"y\",\"type\":\"scatter\"},{\"fillpattern\":{\"shape\":\"\"},\"hovertemplate\":\"day=%{y}<br>temp=18.7<br>rain=%{x}<extra></extra>\",\"legendgroup\":\"sat\",\"line\":{\"color\":\"#00cc96\"},\"marker\":{\"symbol\":\"circle\"},\"mode\":\"lines\",\"name\":\"sat\",\"orientation\":\"h\",\"showlegend\":false,\"stackgroup\":\"1\",\"x\":[0.0],\"xaxis\":\"x\",\"y\":[\"sat\"],\"yaxis\":\"y\",\"type\":\"scatter\"},{\"fillpattern\":{\"shape\":\"\"},\"hovertemplate\":\"day=%{y}<br>temp=25.1<br>rain=%{x}<extra></extra>\",\"legendgroup\":\"sat\",\"line\":{\"color\":\"#00cc96\"},\"marker\":{\"symbol\":\"circle\"},\"mode\":\"lines\",\"name\":\"sat\",\"orientation\":\"h\",\"showlegend\":false,\"stackgroup\":\"1\",\"x\":[0.0],\"xaxis\":\"x\",\"y\":[\"sat\"],\"yaxis\":\"y\",\"type\":\"scatter\"},{\"fillpattern\":{\"shape\":\"\"},\"hovertemplate\":\"day=%{y}<br>temp=22.3<br>rain=%{x}<extra></extra>\",\"legendgroup\":\"sat\",\"line\":{\"color\":\"#00cc96\"},\"marker\":{\"symbol\":\"circle\"},\"mode\":\"lines\",\"name\":\"sat\",\"orientation\":\"h\",\"showlegend\":false,\"stackgroup\":\"1\",\"x\":[0.0],\"xaxis\":\"x\",\"y\":[\"sat\"],\"yaxis\":\"y\",\"type\":\"scatter\"},{\"fillpattern\":{\"shape\":\"\"},\"hovertemplate\":\"day=%{y}<br>temp=4.6<br>rain=%{x}<extra></extra>\",\"legendgroup\":\"sat\",\"line\":{\"color\":\"#00cc96\"},\"marker\":{\"symbol\":\"circle\"},\"mode\":\"lines\",\"name\":\"sat\",\"orientation\":\"h\",\"showlegend\":false,\"stackgroup\":\"1\",\"x\":[0.0],\"xaxis\":\"x\",\"y\":[\"sat\"],\"yaxis\":\"y\",\"type\":\"scatter\"},{\"fillpattern\":{\"shape\":\"\"},\"hovertemplate\":\"day=%{y}<br>temp=26.9<br>rain=%{x}<extra></extra>\",\"legendgroup\":\"sat\",\"line\":{\"color\":\"#00cc96\"},\"marker\":{\"symbol\":\"circle\"},\"mode\":\"lines\",\"name\":\"sat\",\"orientation\":\"h\",\"showlegend\":false,\"stackgroup\":\"1\",\"x\":[0.0],\"xaxis\":\"x\",\"y\":[\"sat\"],\"yaxis\":\"y\",\"type\":\"scatter\"},{\"fillpattern\":{\"shape\":\"\"},\"hovertemplate\":\"day=%{y}<br>temp=19.7<br>rain=%{x}<extra></extra>\",\"legendgroup\":\"sat\",\"line\":{\"color\":\"#00cc96\"},\"marker\":{\"symbol\":\"circle\"},\"mode\":\"lines\",\"name\":\"sat\",\"orientation\":\"h\",\"showlegend\":false,\"stackgroup\":\"1\",\"x\":[0.0],\"xaxis\":\"x\",\"y\":[\"sat\"],\"yaxis\":\"y\",\"type\":\"scatter\"},{\"fillpattern\":{\"shape\":\"\"},\"hovertemplate\":\"day=%{y}<br>temp=30.8<br>rain=%{x}<extra></extra>\",\"legendgroup\":\"sat\",\"line\":{\"color\":\"#00cc96\"},\"marker\":{\"symbol\":\"circle\"},\"mode\":\"lines\",\"name\":\"sat\",\"orientation\":\"h\",\"showlegend\":false,\"stackgroup\":\"1\",\"x\":[0.0],\"xaxis\":\"x\",\"y\":[\"sat\"],\"yaxis\":\"y\",\"type\":\"scatter\"},{\"fillpattern\":{\"shape\":\"\"},\"hovertemplate\":\"day=%{y}<br>temp=23.6<br>rain=%{x}<extra></extra>\",\"legendgroup\":\"sat\",\"line\":{\"color\":\"#00cc96\"},\"marker\":{\"symbol\":\"circle\"},\"mode\":\"lines\",\"name\":\"sat\",\"orientation\":\"h\",\"showlegend\":false,\"stackgroup\":\"1\",\"x\":[0.0],\"xaxis\":\"x\",\"y\":[\"sat\"],\"yaxis\":\"y\",\"type\":\"scatter\"},{\"fillpattern\":{\"shape\":\"\"},\"hovertemplate\":\"day=%{y}<br>temp=24.5<br>rain=%{x}<extra></extra>\",\"legendgroup\":\"sat\",\"line\":{\"color\":\"#00cc96\"},\"marker\":{\"symbol\":\"circle\"},\"mode\":\"lines\",\"name\":\"sat\",\"orientation\":\"h\",\"showlegend\":false,\"stackgroup\":\"1\",\"x\":[0.0],\"xaxis\":\"x\",\"y\":[\"sat\"],\"yaxis\":\"y\",\"type\":\"scatter\"},{\"fillpattern\":{\"shape\":\"\"},\"hovertemplate\":\"day=%{y}<br>temp=25.6<br>rain=%{x}<extra></extra>\",\"legendgroup\":\"sat\",\"line\":{\"color\":\"#00cc96\"},\"marker\":{\"symbol\":\"circle\"},\"mode\":\"lines\",\"name\":\"sat\",\"orientation\":\"h\",\"showlegend\":false,\"stackgroup\":\"1\",\"x\":[0.0],\"xaxis\":\"x\",\"y\":[\"sat\"],\"yaxis\":\"y\",\"type\":\"scatter\"},{\"fillpattern\":{\"shape\":\"\"},\"hovertemplate\":\"day=%{y}<br>temp=11.4<br>rain=%{x}<extra></extra>\",\"legendgroup\":\"sun\",\"line\":{\"color\":\"#ab63fa\"},\"marker\":{\"symbol\":\"circle\"},\"mode\":\"lines\",\"name\":\"sun\",\"orientation\":\"h\",\"showlegend\":true,\"stackgroup\":\"1\",\"x\":[0.0],\"xaxis\":\"x\",\"y\":[\"sun\"],\"yaxis\":\"y\",\"type\":\"scatter\"},{\"fillpattern\":{\"shape\":\"\"},\"hovertemplate\":\"day=%{y}<br>temp=22.2<br>rain=%{x}<extra></extra>\",\"legendgroup\":\"sun\",\"line\":{\"color\":\"#ab63fa\"},\"marker\":{\"symbol\":\"circle\"},\"mode\":\"lines\",\"name\":\"sun\",\"orientation\":\"h\",\"showlegend\":false,\"stackgroup\":\"1\",\"x\":[0.0,0.0],\"xaxis\":\"x\",\"y\":[\"sun\",\"sun\"],\"yaxis\":\"y\",\"type\":\"scatter\"},{\"fillpattern\":{\"shape\":\"\"},\"hovertemplate\":\"day=%{y}<br>temp=24.1<br>rain=%{x}<extra></extra>\",\"legendgroup\":\"sun\",\"line\":{\"color\":\"#ab63fa\"},\"marker\":{\"symbol\":\"circle\"},\"mode\":\"lines\",\"name\":\"sun\",\"orientation\":\"h\",\"showlegend\":false,\"stackgroup\":\"1\",\"x\":[0.0],\"xaxis\":\"x\",\"y\":[\"sun\"],\"yaxis\":\"y\",\"type\":\"scatter\"},{\"fillpattern\":{\"shape\":\"\"},\"hovertemplate\":\"day=%{y}<br>temp=22.8<br>rain=%{x}<extra></extra>\",\"legendgroup\":\"sun\",\"line\":{\"color\":\"#ab63fa\"},\"marker\":{\"symbol\":\"circle\"},\"mode\":\"lines\",\"name\":\"sun\",\"orientation\":\"h\",\"showlegend\":false,\"stackgroup\":\"1\",\"x\":[0.0,0.0],\"xaxis\":\"x\",\"y\":[\"sun\",\"sun\"],\"yaxis\":\"y\",\"type\":\"scatter\"},{\"fillpattern\":{\"shape\":\"\"},\"hovertemplate\":\"day=%{y}<br>temp=17.8<br>rain=%{x}<extra></extra>\",\"legendgroup\":\"sun\",\"line\":{\"color\":\"#ab63fa\"},\"marker\":{\"symbol\":\"circle\"},\"mode\":\"lines\",\"name\":\"sun\",\"orientation\":\"h\",\"showlegend\":false,\"stackgroup\":\"1\",\"x\":[0.0,0.0],\"xaxis\":\"x\",\"y\":[\"sun\",\"sun\"],\"yaxis\":\"y\",\"type\":\"scatter\"},{\"fillpattern\":{\"shape\":\"\"},\"hovertemplate\":\"day=%{y}<br>temp=19.3<br>rain=%{x}<extra></extra>\",\"legendgroup\":\"sun\",\"line\":{\"color\":\"#ab63fa\"},\"marker\":{\"symbol\":\"circle\"},\"mode\":\"lines\",\"name\":\"sun\",\"orientation\":\"h\",\"showlegend\":false,\"stackgroup\":\"1\",\"x\":[0.0],\"xaxis\":\"x\",\"y\":[\"sun\"],\"yaxis\":\"y\",\"type\":\"scatter\"},{\"fillpattern\":{\"shape\":\"\"},\"hovertemplate\":\"day=%{y}<br>temp=22.9<br>rain=%{x}<extra></extra>\",\"legendgroup\":\"sun\",\"line\":{\"color\":\"#ab63fa\"},\"marker\":{\"symbol\":\"circle\"},\"mode\":\"lines\",\"name\":\"sun\",\"orientation\":\"h\",\"showlegend\":false,\"stackgroup\":\"1\",\"x\":[0.0],\"xaxis\":\"x\",\"y\":[\"sun\"],\"yaxis\":\"y\",\"type\":\"scatter\"},{\"fillpattern\":{\"shape\":\"\"},\"hovertemplate\":\"day=%{y}<br>temp=19.1<br>rain=%{x}<extra></extra>\",\"legendgroup\":\"sun\",\"line\":{\"color\":\"#ab63fa\"},\"marker\":{\"symbol\":\"circle\"},\"mode\":\"lines\",\"name\":\"sun\",\"orientation\":\"h\",\"showlegend\":false,\"stackgroup\":\"1\",\"x\":[0.0],\"xaxis\":\"x\",\"y\":[\"sun\"],\"yaxis\":\"y\",\"type\":\"scatter\"},{\"fillpattern\":{\"shape\":\"\"},\"hovertemplate\":\"day=%{y}<br>temp=21.0<br>rain=%{x}<extra></extra>\",\"legendgroup\":\"sun\",\"line\":{\"color\":\"#ab63fa\"},\"marker\":{\"symbol\":\"circle\"},\"mode\":\"lines\",\"name\":\"sun\",\"orientation\":\"h\",\"showlegend\":false,\"stackgroup\":\"1\",\"x\":[0.0],\"xaxis\":\"x\",\"y\":[\"sun\"],\"yaxis\":\"y\",\"type\":\"scatter\"},{\"fillpattern\":{\"shape\":\"\"},\"hovertemplate\":\"day=%{y}<br>temp=19.5<br>rain=%{x}<extra></extra>\",\"legendgroup\":\"sun\",\"line\":{\"color\":\"#ab63fa\"},\"marker\":{\"symbol\":\"circle\"},\"mode\":\"lines\",\"name\":\"sun\",\"orientation\":\"h\",\"showlegend\":false,\"stackgroup\":\"1\",\"x\":[0.0],\"xaxis\":\"x\",\"y\":[\"sun\"],\"yaxis\":\"y\",\"type\":\"scatter\"},{\"fillpattern\":{\"shape\":\"\"},\"hovertemplate\":\"day=%{y}<br>temp=16.3<br>rain=%{x}<extra></extra>\",\"legendgroup\":\"sun\",\"line\":{\"color\":\"#ab63fa\"},\"marker\":{\"symbol\":\"circle\"},\"mode\":\"lines\",\"name\":\"sun\",\"orientation\":\"h\",\"showlegend\":false,\"stackgroup\":\"1\",\"x\":[0.0],\"xaxis\":\"x\",\"y\":[\"sun\"],\"yaxis\":\"y\",\"type\":\"scatter\"},{\"fillpattern\":{\"shape\":\"\"},\"hovertemplate\":\"day=%{y}<br>temp=19.0<br>rain=%{x}<extra></extra>\",\"legendgroup\":\"sun\",\"line\":{\"color\":\"#ab63fa\"},\"marker\":{\"symbol\":\"circle\"},\"mode\":\"lines\",\"name\":\"sun\",\"orientation\":\"h\",\"showlegend\":false,\"stackgroup\":\"1\",\"x\":[0.0],\"xaxis\":\"x\",\"y\":[\"sun\"],\"yaxis\":\"y\",\"type\":\"scatter\"},{\"fillpattern\":{\"shape\":\"\"},\"hovertemplate\":\"day=%{y}<br>temp=20.6<br>rain=%{x}<extra></extra>\",\"legendgroup\":\"sun\",\"line\":{\"color\":\"#ab63fa\"},\"marker\":{\"symbol\":\"circle\"},\"mode\":\"lines\",\"name\":\"sun\",\"orientation\":\"h\",\"showlegend\":false,\"stackgroup\":\"1\",\"x\":[0.0,0.0],\"xaxis\":\"x\",\"y\":[\"sun\",\"sun\"],\"yaxis\":\"y\",\"type\":\"scatter\"},{\"fillpattern\":{\"shape\":\"\"},\"hovertemplate\":\"day=%{y}<br>temp=17.7<br>rain=%{x}<extra></extra>\",\"legendgroup\":\"sun\",\"line\":{\"color\":\"#ab63fa\"},\"marker\":{\"symbol\":\"circle\"},\"mode\":\"lines\",\"name\":\"sun\",\"orientation\":\"h\",\"showlegend\":false,\"stackgroup\":\"1\",\"x\":[0.0],\"xaxis\":\"x\",\"y\":[\"sun\"],\"yaxis\":\"y\",\"type\":\"scatter\"},{\"fillpattern\":{\"shape\":\"\"},\"hovertemplate\":\"day=%{y}<br>temp=21.2<br>rain=%{x}<extra></extra>\",\"legendgroup\":\"sun\",\"line\":{\"color\":\"#ab63fa\"},\"marker\":{\"symbol\":\"circle\"},\"mode\":\"lines\",\"name\":\"sun\",\"orientation\":\"h\",\"showlegend\":false,\"stackgroup\":\"1\",\"x\":[0.0],\"xaxis\":\"x\",\"y\":[\"sun\"],\"yaxis\":\"y\",\"type\":\"scatter\"},{\"fillpattern\":{\"shape\":\"\"},\"hovertemplate\":\"day=%{y}<br>temp=18.2<br>rain=%{x}<extra></extra>\",\"legendgroup\":\"sun\",\"line\":{\"color\":\"#ab63fa\"},\"marker\":{\"symbol\":\"circle\"},\"mode\":\"lines\",\"name\":\"sun\",\"orientation\":\"h\",\"showlegend\":false,\"stackgroup\":\"1\",\"x\":[0.0,0.0],\"xaxis\":\"x\",\"y\":[\"sun\",\"sun\"],\"yaxis\":\"y\",\"type\":\"scatter\"},{\"fillpattern\":{\"shape\":\"\"},\"hovertemplate\":\"day=%{y}<br>temp=19.6<br>rain=%{x}<extra></extra>\",\"legendgroup\":\"sun\",\"line\":{\"color\":\"#ab63fa\"},\"marker\":{\"symbol\":\"circle\"},\"mode\":\"lines\",\"name\":\"sun\",\"orientation\":\"h\",\"showlegend\":false,\"stackgroup\":\"1\",\"x\":[0.0],\"xaxis\":\"x\",\"y\":[\"sun\"],\"yaxis\":\"y\",\"type\":\"scatter\"},{\"fillpattern\":{\"shape\":\"\"},\"hovertemplate\":\"day=%{y}<br>temp=20.8<br>rain=%{x}<extra></extra>\",\"legendgroup\":\"sun\",\"line\":{\"color\":\"#ab63fa\"},\"marker\":{\"symbol\":\"circle\"},\"mode\":\"lines\",\"name\":\"sun\",\"orientation\":\"h\",\"showlegend\":false,\"stackgroup\":\"1\",\"x\":[0.0,0.0],\"xaxis\":\"x\",\"y\":[\"sun\",\"sun\"],\"yaxis\":\"y\",\"type\":\"scatter\"},{\"fillpattern\":{\"shape\":\"\"},\"hovertemplate\":\"day=%{y}<br>temp=21.5<br>rain=%{x}<extra></extra>\",\"legendgroup\":\"sun\",\"line\":{\"color\":\"#ab63fa\"},\"marker\":{\"symbol\":\"circle\"},\"mode\":\"lines\",\"name\":\"sun\",\"orientation\":\"h\",\"showlegend\":false,\"stackgroup\":\"1\",\"x\":[0.0],\"xaxis\":\"x\",\"y\":[\"sun\"],\"yaxis\":\"y\",\"type\":\"scatter\"},{\"fillpattern\":{\"shape\":\"\"},\"hovertemplate\":\"day=%{y}<br>temp=20.4<br>rain=%{x}<extra></extra>\",\"legendgroup\":\"sun\",\"line\":{\"color\":\"#ab63fa\"},\"marker\":{\"symbol\":\"circle\"},\"mode\":\"lines\",\"name\":\"sun\",\"orientation\":\"h\",\"showlegend\":false,\"stackgroup\":\"1\",\"x\":[0.0],\"xaxis\":\"x\",\"y\":[\"sun\"],\"yaxis\":\"y\",\"type\":\"scatter\"},{\"fillpattern\":{\"shape\":\"\"},\"hovertemplate\":\"day=%{y}<br>temp=17.6<br>rain=%{x}<extra></extra>\",\"legendgroup\":\"sun\",\"line\":{\"color\":\"#ab63fa\"},\"marker\":{\"symbol\":\"circle\"},\"mode\":\"lines\",\"name\":\"sun\",\"orientation\":\"h\",\"showlegend\":false,\"stackgroup\":\"1\",\"x\":[0.0],\"xaxis\":\"x\",\"y\":[\"sun\"],\"yaxis\":\"y\",\"type\":\"scatter\"},{\"fillpattern\":{\"shape\":\"\"},\"hovertemplate\":\"day=%{y}<br>temp=13.8<br>rain=%{x}<extra></extra>\",\"legendgroup\":\"sun\",\"line\":{\"color\":\"#ab63fa\"},\"marker\":{\"symbol\":\"circle\"},\"mode\":\"lines\",\"name\":\"sun\",\"orientation\":\"h\",\"showlegend\":false,\"stackgroup\":\"1\",\"x\":[0.0,0.0,0.0],\"xaxis\":\"x\",\"y\":[\"sun\",\"sun\",\"sun\"],\"yaxis\":\"y\",\"type\":\"scatter\"},{\"fillpattern\":{\"shape\":\"\"},\"hovertemplate\":\"day=%{y}<br>temp=11.5<br>rain=%{x}<extra></extra>\",\"legendgroup\":\"sun\",\"line\":{\"color\":\"#ab63fa\"},\"marker\":{\"symbol\":\"circle\"},\"mode\":\"lines\",\"name\":\"sun\",\"orientation\":\"h\",\"showlegend\":false,\"stackgroup\":\"1\",\"x\":[0.0,0.0,0.0],\"xaxis\":\"x\",\"y\":[\"sun\",\"sun\",\"sun\"],\"yaxis\":\"y\",\"type\":\"scatter\"},{\"fillpattern\":{\"shape\":\"\"},\"hovertemplate\":\"day=%{y}<br>temp=5.5<br>rain=%{x}<extra></extra>\",\"legendgroup\":\"sun\",\"line\":{\"color\":\"#ab63fa\"},\"marker\":{\"symbol\":\"circle\"},\"mode\":\"lines\",\"name\":\"sun\",\"orientation\":\"h\",\"showlegend\":false,\"stackgroup\":\"1\",\"x\":[0.0],\"xaxis\":\"x\",\"y\":[\"sun\"],\"yaxis\":\"y\",\"type\":\"scatter\"},{\"fillpattern\":{\"shape\":\"\"},\"hovertemplate\":\"day=%{y}<br>temp=17.2<br>rain=%{x}<extra></extra>\",\"legendgroup\":\"sun\",\"line\":{\"color\":\"#ab63fa\"},\"marker\":{\"symbol\":\"circle\"},\"mode\":\"lines\",\"name\":\"sun\",\"orientation\":\"h\",\"showlegend\":false,\"stackgroup\":\"1\",\"x\":[0.0],\"xaxis\":\"x\",\"y\":[\"sun\"],\"yaxis\":\"y\",\"type\":\"scatter\"},{\"fillpattern\":{\"shape\":\"\"},\"hovertemplate\":\"day=%{y}<br>temp=17.3<br>rain=%{x}<extra></extra>\",\"legendgroup\":\"sun\",\"line\":{\"color\":\"#ab63fa\"},\"marker\":{\"symbol\":\"circle\"},\"mode\":\"lines\",\"name\":\"sun\",\"orientation\":\"h\",\"showlegend\":false,\"stackgroup\":\"1\",\"x\":[0.0],\"xaxis\":\"x\",\"y\":[\"sun\"],\"yaxis\":\"y\",\"type\":\"scatter\"},{\"fillpattern\":{\"shape\":\"\"},\"hovertemplate\":\"day=%{y}<br>temp=17.9<br>rain=%{x}<extra></extra>\",\"legendgroup\":\"sun\",\"line\":{\"color\":\"#ab63fa\"},\"marker\":{\"symbol\":\"circle\"},\"mode\":\"lines\",\"name\":\"sun\",\"orientation\":\"h\",\"showlegend\":false,\"stackgroup\":\"1\",\"x\":[0.0],\"xaxis\":\"x\",\"y\":[\"sun\"],\"yaxis\":\"y\",\"type\":\"scatter\"},{\"fillpattern\":{\"shape\":\"\"},\"hovertemplate\":\"day=%{y}<br>temp=22.4<br>rain=%{x}<extra></extra>\",\"legendgroup\":\"sun\",\"line\":{\"color\":\"#ab63fa\"},\"marker\":{\"symbol\":\"circle\"},\"mode\":\"lines\",\"name\":\"sun\",\"orientation\":\"h\",\"showlegend\":false,\"stackgroup\":\"1\",\"x\":[0.0],\"xaxis\":\"x\",\"y\":[\"sun\"],\"yaxis\":\"y\",\"type\":\"scatter\"},{\"fillpattern\":{\"shape\":\"\"},\"hovertemplate\":\"day=%{y}<br>temp=25.3<br>rain=%{x}<extra></extra>\",\"legendgroup\":\"sun\",\"line\":{\"color\":\"#ab63fa\"},\"marker\":{\"symbol\":\"circle\"},\"mode\":\"lines\",\"name\":\"sun\",\"orientation\":\"h\",\"showlegend\":false,\"stackgroup\":\"1\",\"x\":[0.0,0.0],\"xaxis\":\"x\",\"y\":[\"sun\",\"sun\"],\"yaxis\":\"y\",\"type\":\"scatter\"},{\"fillpattern\":{\"shape\":\"\"},\"hovertemplate\":\"day=%{y}<br>temp=23.4<br>rain=%{x}<extra></extra>\",\"legendgroup\":\"sun\",\"line\":{\"color\":\"#ab63fa\"},\"marker\":{\"symbol\":\"circle\"},\"mode\":\"lines\",\"name\":\"sun\",\"orientation\":\"h\",\"showlegend\":false,\"stackgroup\":\"1\",\"x\":[0.0,0.0],\"xaxis\":\"x\",\"y\":[\"sun\",\"sun\"],\"yaxis\":\"y\",\"type\":\"scatter\"},{\"fillpattern\":{\"shape\":\"\"},\"hovertemplate\":\"day=%{y}<br>temp=11.6<br>rain=%{x}<extra></extra>\",\"legendgroup\":\"sun\",\"line\":{\"color\":\"#ab63fa\"},\"marker\":{\"symbol\":\"circle\"},\"mode\":\"lines\",\"name\":\"sun\",\"orientation\":\"h\",\"showlegend\":false,\"stackgroup\":\"1\",\"x\":[0.0],\"xaxis\":\"x\",\"y\":[\"sun\"],\"yaxis\":\"y\",\"type\":\"scatter\"},{\"fillpattern\":{\"shape\":\"\"},\"hovertemplate\":\"day=%{y}<br>temp=19.8<br>rain=%{x}<extra></extra>\",\"legendgroup\":\"sun\",\"line\":{\"color\":\"#ab63fa\"},\"marker\":{\"symbol\":\"circle\"},\"mode\":\"lines\",\"name\":\"sun\",\"orientation\":\"h\",\"showlegend\":false,\"stackgroup\":\"1\",\"x\":[0.0,0.0],\"xaxis\":\"x\",\"y\":[\"sun\",\"sun\"],\"yaxis\":\"y\",\"type\":\"scatter\"},{\"fillpattern\":{\"shape\":\"\"},\"hovertemplate\":\"day=%{y}<br>temp=20.1<br>rain=%{x}<extra></extra>\",\"legendgroup\":\"sun\",\"line\":{\"color\":\"#ab63fa\"},\"marker\":{\"symbol\":\"circle\"},\"mode\":\"lines\",\"name\":\"sun\",\"orientation\":\"h\",\"showlegend\":false,\"stackgroup\":\"1\",\"x\":[0.0],\"xaxis\":\"x\",\"y\":[\"sun\"],\"yaxis\":\"y\",\"type\":\"scatter\"},{\"fillpattern\":{\"shape\":\"\"},\"hovertemplate\":\"day=%{y}<br>temp=21.4<br>rain=%{x}<extra></extra>\",\"legendgroup\":\"sun\",\"line\":{\"color\":\"#ab63fa\"},\"marker\":{\"symbol\":\"circle\"},\"mode\":\"lines\",\"name\":\"sun\",\"orientation\":\"h\",\"showlegend\":false,\"stackgroup\":\"1\",\"x\":[0.0],\"xaxis\":\"x\",\"y\":[\"sun\"],\"yaxis\":\"y\",\"type\":\"scatter\"},{\"fillpattern\":{\"shape\":\"\"},\"hovertemplate\":\"day=%{y}<br>temp=13.7<br>rain=%{x}<extra></extra>\",\"legendgroup\":\"sun\",\"line\":{\"color\":\"#ab63fa\"},\"marker\":{\"symbol\":\"circle\"},\"mode\":\"lines\",\"name\":\"sun\",\"orientation\":\"h\",\"showlegend\":false,\"stackgroup\":\"1\",\"x\":[0.0],\"xaxis\":\"x\",\"y\":[\"sun\"],\"yaxis\":\"y\",\"type\":\"scatter\"},{\"fillpattern\":{\"shape\":\"\"},\"hovertemplate\":\"day=%{y}<br>temp=10.6<br>rain=%{x}<extra></extra>\",\"legendgroup\":\"sun\",\"line\":{\"color\":\"#ab63fa\"},\"marker\":{\"symbol\":\"circle\"},\"mode\":\"lines\",\"name\":\"sun\",\"orientation\":\"h\",\"showlegend\":false,\"stackgroup\":\"1\",\"x\":[0.0],\"xaxis\":\"x\",\"y\":[\"sun\"],\"yaxis\":\"y\",\"type\":\"scatter\"},{\"fillpattern\":{\"shape\":\"\"},\"hovertemplate\":\"day=%{y}<br>temp=17.1<br>rain=%{x}<extra></extra>\",\"legendgroup\":\"sun\",\"line\":{\"color\":\"#ab63fa\"},\"marker\":{\"symbol\":\"circle\"},\"mode\":\"lines\",\"name\":\"sun\",\"orientation\":\"h\",\"showlegend\":false,\"stackgroup\":\"1\",\"x\":[0.0],\"xaxis\":\"x\",\"y\":[\"sun\"],\"yaxis\":\"y\",\"type\":\"scatter\"},{\"fillpattern\":{\"shape\":\"\"},\"hovertemplate\":\"day=%{y}<br>temp=22.5<br>rain=%{x}<extra></extra>\",\"legendgroup\":\"sun\",\"line\":{\"color\":\"#ab63fa\"},\"marker\":{\"symbol\":\"circle\"},\"mode\":\"lines\",\"name\":\"sun\",\"orientation\":\"h\",\"showlegend\":false,\"stackgroup\":\"1\",\"x\":[0.0],\"xaxis\":\"x\",\"y\":[\"sun\"],\"yaxis\":\"y\",\"type\":\"scatter\"},{\"fillpattern\":{\"shape\":\"\"},\"hovertemplate\":\"day=%{y}<br>temp=15.4<br>rain=%{x}<extra></extra>\",\"legendgroup\":\"sun\",\"line\":{\"color\":\"#ab63fa\"},\"marker\":{\"symbol\":\"circle\"},\"mode\":\"lines\",\"name\":\"sun\",\"orientation\":\"h\",\"showlegend\":false,\"stackgroup\":\"1\",\"x\":[0.0,0.0,0.0],\"xaxis\":\"x\",\"y\":[\"sun\",\"sun\",\"sun\"],\"yaxis\":\"y\",\"type\":\"scatter\"},{\"fillpattern\":{\"shape\":\"\"},\"hovertemplate\":\"day=%{y}<br>temp=21.9<br>rain=%{x}<extra></extra>\",\"legendgroup\":\"sun\",\"line\":{\"color\":\"#ab63fa\"},\"marker\":{\"symbol\":\"circle\"},\"mode\":\"lines\",\"name\":\"sun\",\"orientation\":\"h\",\"showlegend\":false,\"stackgroup\":\"1\",\"x\":[1.0,0.0,0.0],\"xaxis\":\"x\",\"y\":[\"sun\",\"sun\",\"sun\"],\"yaxis\":\"y\",\"type\":\"scatter\"},{\"fillpattern\":{\"shape\":\"\"},\"hovertemplate\":\"day=%{y}<br>temp=23.8<br>rain=%{x}<extra></extra>\",\"legendgroup\":\"sun\",\"line\":{\"color\":\"#ab63fa\"},\"marker\":{\"symbol\":\"circle\"},\"mode\":\"lines\",\"name\":\"sun\",\"orientation\":\"h\",\"showlegend\":false,\"stackgroup\":\"1\",\"x\":[0.0],\"xaxis\":\"x\",\"y\":[\"sun\"],\"yaxis\":\"y\",\"type\":\"scatter\"},{\"fillpattern\":{\"shape\":\"\"},\"hovertemplate\":\"day=%{y}<br>temp=24.8<br>rain=%{x}<extra></extra>\",\"legendgroup\":\"sun\",\"line\":{\"color\":\"#ab63fa\"},\"marker\":{\"symbol\":\"circle\"},\"mode\":\"lines\",\"name\":\"sun\",\"orientation\":\"h\",\"showlegend\":false,\"stackgroup\":\"1\",\"x\":[0.0,0.0,0.0],\"xaxis\":\"x\",\"y\":[\"sun\",\"sun\",\"sun\"],\"yaxis\":\"y\",\"type\":\"scatter\"},{\"fillpattern\":{\"shape\":\"\"},\"hovertemplate\":\"day=%{y}<br>temp=24.6<br>rain=%{x}<extra></extra>\",\"legendgroup\":\"sun\",\"line\":{\"color\":\"#ab63fa\"},\"marker\":{\"symbol\":\"circle\"},\"mode\":\"lines\",\"name\":\"sun\",\"orientation\":\"h\",\"showlegend\":false,\"stackgroup\":\"1\",\"x\":[0.0],\"xaxis\":\"x\",\"y\":[\"sun\"],\"yaxis\":\"y\",\"type\":\"scatter\"},{\"fillpattern\":{\"shape\":\"\"},\"hovertemplate\":\"day=%{y}<br>temp=16.4<br>rain=%{x}<extra></extra>\",\"legendgroup\":\"sun\",\"line\":{\"color\":\"#ab63fa\"},\"marker\":{\"symbol\":\"circle\"},\"mode\":\"lines\",\"name\":\"sun\",\"orientation\":\"h\",\"showlegend\":false,\"stackgroup\":\"1\",\"x\":[0.0],\"xaxis\":\"x\",\"y\":[\"sun\"],\"yaxis\":\"y\",\"type\":\"scatter\"},{\"fillpattern\":{\"shape\":\"\"},\"hovertemplate\":\"day=%{y}<br>temp=19.2<br>rain=%{x}<extra></extra>\",\"legendgroup\":\"sun\",\"line\":{\"color\":\"#ab63fa\"},\"marker\":{\"symbol\":\"circle\"},\"mode\":\"lines\",\"name\":\"sun\",\"orientation\":\"h\",\"showlegend\":false,\"stackgroup\":\"1\",\"x\":[0.0],\"xaxis\":\"x\",\"y\":[\"sun\"],\"yaxis\":\"y\",\"type\":\"scatter\"},{\"fillpattern\":{\"shape\":\"\"},\"hovertemplate\":\"day=%{y}<br>temp=23.9<br>rain=%{x}<extra></extra>\",\"legendgroup\":\"sun\",\"line\":{\"color\":\"#ab63fa\"},\"marker\":{\"symbol\":\"circle\"},\"mode\":\"lines\",\"name\":\"sun\",\"orientation\":\"h\",\"showlegend\":false,\"stackgroup\":\"1\",\"x\":[0.0],\"xaxis\":\"x\",\"y\":[\"sun\"],\"yaxis\":\"y\",\"type\":\"scatter\"},{\"fillpattern\":{\"shape\":\"\"},\"hovertemplate\":\"day=%{y}<br>temp=12.4<br>rain=%{x}<extra></extra>\",\"legendgroup\":\"sun\",\"line\":{\"color\":\"#ab63fa\"},\"marker\":{\"symbol\":\"circle\"},\"mode\":\"lines\",\"name\":\"sun\",\"orientation\":\"h\",\"showlegend\":false,\"stackgroup\":\"1\",\"x\":[0.0,0.0],\"xaxis\":\"x\",\"y\":[\"sun\",\"sun\"],\"yaxis\":\"y\",\"type\":\"scatter\"},{\"fillpattern\":{\"shape\":\"\"},\"hovertemplate\":\"day=%{y}<br>temp=24.3<br>rain=%{x}<extra></extra>\",\"legendgroup\":\"sun\",\"line\":{\"color\":\"#ab63fa\"},\"marker\":{\"symbol\":\"circle\"},\"mode\":\"lines\",\"name\":\"sun\",\"orientation\":\"h\",\"showlegend\":false,\"stackgroup\":\"1\",\"x\":[0.0],\"xaxis\":\"x\",\"y\":[\"sun\"],\"yaxis\":\"y\",\"type\":\"scatter\"},{\"fillpattern\":{\"shape\":\"\"},\"hovertemplate\":\"day=%{y}<br>temp=8.8<br>rain=%{x}<extra></extra>\",\"legendgroup\":\"sun\",\"line\":{\"color\":\"#ab63fa\"},\"marker\":{\"symbol\":\"circle\"},\"mode\":\"lines\",\"name\":\"sun\",\"orientation\":\"h\",\"showlegend\":false,\"stackgroup\":\"1\",\"x\":[0.0],\"xaxis\":\"x\",\"y\":[\"sun\"],\"yaxis\":\"y\",\"type\":\"scatter\"},{\"fillpattern\":{\"shape\":\"\"},\"hovertemplate\":\"day=%{y}<br>temp=16.9<br>rain=%{x}<extra></extra>\",\"legendgroup\":\"sun\",\"line\":{\"color\":\"#ab63fa\"},\"marker\":{\"symbol\":\"circle\"},\"mode\":\"lines\",\"name\":\"sun\",\"orientation\":\"h\",\"showlegend\":false,\"stackgroup\":\"1\",\"x\":[0.0],\"xaxis\":\"x\",\"y\":[\"sun\"],\"yaxis\":\"y\",\"type\":\"scatter\"},{\"fillpattern\":{\"shape\":\"\"},\"hovertemplate\":\"day=%{y}<br>temp=16.2<br>rain=%{x}<extra></extra>\",\"legendgroup\":\"sun\",\"line\":{\"color\":\"#ab63fa\"},\"marker\":{\"symbol\":\"circle\"},\"mode\":\"lines\",\"name\":\"sun\",\"orientation\":\"h\",\"showlegend\":false,\"stackgroup\":\"1\",\"x\":[0.0],\"xaxis\":\"x\",\"y\":[\"sun\"],\"yaxis\":\"y\",\"type\":\"scatter\"},{\"fillpattern\":{\"shape\":\"\"},\"hovertemplate\":\"day=%{y}<br>temp=13.4<br>rain=%{x}<extra></extra>\",\"legendgroup\":\"sun\",\"line\":{\"color\":\"#ab63fa\"},\"marker\":{\"symbol\":\"circle\"},\"mode\":\"lines\",\"name\":\"sun\",\"orientation\":\"h\",\"showlegend\":false,\"stackgroup\":\"1\",\"x\":[0.0],\"xaxis\":\"x\",\"y\":[\"sun\"],\"yaxis\":\"y\",\"type\":\"scatter\"},{\"fillpattern\":{\"shape\":\"\"},\"hovertemplate\":\"day=%{y}<br>temp=28.3<br>rain=%{x}<extra></extra>\",\"legendgroup\":\"sun\",\"line\":{\"color\":\"#ab63fa\"},\"marker\":{\"symbol\":\"circle\"},\"mode\":\"lines\",\"name\":\"sun\",\"orientation\":\"h\",\"showlegend\":false,\"stackgroup\":\"1\",\"x\":[0.0],\"xaxis\":\"x\",\"y\":[\"sun\"],\"yaxis\":\"y\",\"type\":\"scatter\"},{\"fillpattern\":{\"shape\":\"\"},\"hovertemplate\":\"day=%{y}<br>temp=27.8<br>rain=%{x}<extra></extra>\",\"legendgroup\":\"sun\",\"line\":{\"color\":\"#ab63fa\"},\"marker\":{\"symbol\":\"circle\"},\"mode\":\"lines\",\"name\":\"sun\",\"orientation\":\"h\",\"showlegend\":false,\"stackgroup\":\"1\",\"x\":[0.0,0.0,0.0],\"xaxis\":\"x\",\"y\":[\"sun\",\"sun\",\"sun\"],\"yaxis\":\"y\",\"type\":\"scatter\"},{\"fillpattern\":{\"shape\":\"\"},\"hovertemplate\":\"day=%{y}<br>temp=26.8<br>rain=%{x}<extra></extra>\",\"legendgroup\":\"sun\",\"line\":{\"color\":\"#ab63fa\"},\"marker\":{\"symbol\":\"circle\"},\"mode\":\"lines\",\"name\":\"sun\",\"orientation\":\"h\",\"showlegend\":false,\"stackgroup\":\"1\",\"x\":[0.0],\"xaxis\":\"x\",\"y\":[\"sun\"],\"yaxis\":\"y\",\"type\":\"scatter\"},{\"fillpattern\":{\"shape\":\"\"},\"hovertemplate\":\"day=%{y}<br>temp=25.7<br>rain=%{x}<extra></extra>\",\"legendgroup\":\"sun\",\"line\":{\"color\":\"#ab63fa\"},\"marker\":{\"symbol\":\"circle\"},\"mode\":\"lines\",\"name\":\"sun\",\"orientation\":\"h\",\"showlegend\":false,\"stackgroup\":\"1\",\"x\":[0.0],\"xaxis\":\"x\",\"y\":[\"sun\"],\"yaxis\":\"y\",\"type\":\"scatter\"},{\"fillpattern\":{\"shape\":\"\"},\"hovertemplate\":\"day=%{y}<br>temp=4.8<br>rain=%{x}<extra></extra>\",\"legendgroup\":\"sun\",\"line\":{\"color\":\"#ab63fa\"},\"marker\":{\"symbol\":\"circle\"},\"mode\":\"lines\",\"name\":\"sun\",\"orientation\":\"h\",\"showlegend\":false,\"stackgroup\":\"1\",\"x\":[0.0],\"xaxis\":\"x\",\"y\":[\"sun\"],\"yaxis\":\"y\",\"type\":\"scatter\"},{\"fillpattern\":{\"shape\":\"\"},\"hovertemplate\":\"day=%{y}<br>temp=4.2<br>rain=%{x}<extra></extra>\",\"legendgroup\":\"sun\",\"line\":{\"color\":\"#ab63fa\"},\"marker\":{\"symbol\":\"circle\"},\"mode\":\"lines\",\"name\":\"sun\",\"orientation\":\"h\",\"showlegend\":false,\"stackgroup\":\"1\",\"x\":[0.0],\"xaxis\":\"x\",\"y\":[\"sun\"],\"yaxis\":\"y\",\"type\":\"scatter\"},{\"fillpattern\":{\"shape\":\"\"},\"hovertemplate\":\"day=%{y}<br>temp=14.3<br>rain=%{x}<extra></extra>\",\"legendgroup\":\"sun\",\"line\":{\"color\":\"#ab63fa\"},\"marker\":{\"symbol\":\"circle\"},\"mode\":\"lines\",\"name\":\"sun\",\"orientation\":\"h\",\"showlegend\":false,\"stackgroup\":\"1\",\"x\":[0.0],\"xaxis\":\"x\",\"y\":[\"sun\"],\"yaxis\":\"y\",\"type\":\"scatter\"},{\"fillpattern\":{\"shape\":\"\"},\"hovertemplate\":\"day=%{y}<br>temp=16.0<br>rain=%{x}<extra></extra>\",\"legendgroup\":\"sun\",\"line\":{\"color\":\"#ab63fa\"},\"marker\":{\"symbol\":\"circle\"},\"mode\":\"lines\",\"name\":\"sun\",\"orientation\":\"h\",\"showlegend\":false,\"stackgroup\":\"1\",\"x\":[0.0],\"xaxis\":\"x\",\"y\":[\"sun\"],\"yaxis\":\"y\",\"type\":\"scatter\"},{\"fillpattern\":{\"shape\":\"\"},\"hovertemplate\":\"day=%{y}<br>temp=24.9<br>rain=%{x}<extra></extra>\",\"legendgroup\":\"sun\",\"line\":{\"color\":\"#ab63fa\"},\"marker\":{\"symbol\":\"circle\"},\"mode\":\"lines\",\"name\":\"sun\",\"orientation\":\"h\",\"showlegend\":false,\"stackgroup\":\"1\",\"x\":[0.0,0.0],\"xaxis\":\"x\",\"y\":[\"sun\",\"sun\"],\"yaxis\":\"y\",\"type\":\"scatter\"},{\"fillpattern\":{\"shape\":\"\"},\"hovertemplate\":\"day=%{y}<br>temp=12.2<br>rain=%{x}<extra></extra>\",\"legendgroup\":\"sun\",\"line\":{\"color\":\"#ab63fa\"},\"marker\":{\"symbol\":\"circle\"},\"mode\":\"lines\",\"name\":\"sun\",\"orientation\":\"h\",\"showlegend\":false,\"stackgroup\":\"1\",\"x\":[0.0],\"xaxis\":\"x\",\"y\":[\"sun\"],\"yaxis\":\"y\",\"type\":\"scatter\"},{\"fillpattern\":{\"shape\":\"\"},\"hovertemplate\":\"day=%{y}<br>temp=10.1<br>rain=%{x}<extra></extra>\",\"legendgroup\":\"sun\",\"line\":{\"color\":\"#ab63fa\"},\"marker\":{\"symbol\":\"circle\"},\"mode\":\"lines\",\"name\":\"sun\",\"orientation\":\"h\",\"showlegend\":false,\"stackgroup\":\"1\",\"x\":[0.0],\"xaxis\":\"x\",\"y\":[\"sun\"],\"yaxis\":\"y\",\"type\":\"scatter\"},{\"fillpattern\":{\"shape\":\"\"},\"hovertemplate\":\"day=%{y}<br>temp=10.4<br>rain=%{x}<extra></extra>\",\"legendgroup\":\"sun\",\"line\":{\"color\":\"#ab63fa\"},\"marker\":{\"symbol\":\"circle\"},\"mode\":\"lines\",\"name\":\"sun\",\"orientation\":\"h\",\"showlegend\":false,\"stackgroup\":\"1\",\"x\":[0.0],\"xaxis\":\"x\",\"y\":[\"sun\"],\"yaxis\":\"y\",\"type\":\"scatter\"},{\"fillpattern\":{\"shape\":\"\"},\"hovertemplate\":\"day=%{y}<br>temp=5.2<br>rain=%{x}<extra></extra>\",\"legendgroup\":\"sun\",\"line\":{\"color\":\"#ab63fa\"},\"marker\":{\"symbol\":\"circle\"},\"mode\":\"lines\",\"name\":\"sun\",\"orientation\":\"h\",\"showlegend\":false,\"stackgroup\":\"1\",\"x\":[0.0],\"xaxis\":\"x\",\"y\":[\"sun\"],\"yaxis\":\"y\",\"type\":\"scatter\"},{\"fillpattern\":{\"shape\":\"\"},\"hovertemplate\":\"day=%{y}<br>temp=20.9<br>rain=%{x}<extra></extra>\",\"legendgroup\":\"sun\",\"line\":{\"color\":\"#ab63fa\"},\"marker\":{\"symbol\":\"circle\"},\"mode\":\"lines\",\"name\":\"sun\",\"orientation\":\"h\",\"showlegend\":false,\"stackgroup\":\"1\",\"x\":[0.0,0.0],\"xaxis\":\"x\",\"y\":[\"sun\",\"sun\"],\"yaxis\":\"y\",\"type\":\"scatter\"},{\"fillpattern\":{\"shape\":\"\"},\"hovertemplate\":\"day=%{y}<br>temp=29.3<br>rain=%{x}<extra></extra>\",\"legendgroup\":\"sun\",\"line\":{\"color\":\"#ab63fa\"},\"marker\":{\"symbol\":\"circle\"},\"mode\":\"lines\",\"name\":\"sun\",\"orientation\":\"h\",\"showlegend\":false,\"stackgroup\":\"1\",\"x\":[0.0],\"xaxis\":\"x\",\"y\":[\"sun\"],\"yaxis\":\"y\",\"type\":\"scatter\"},{\"fillpattern\":{\"shape\":\"\"},\"hovertemplate\":\"day=%{y}<br>temp=14.5<br>rain=%{x}<extra></extra>\",\"legendgroup\":\"sun\",\"line\":{\"color\":\"#ab63fa\"},\"marker\":{\"symbol\":\"circle\"},\"mode\":\"lines\",\"name\":\"sun\",\"orientation\":\"h\",\"showlegend\":false,\"stackgroup\":\"1\",\"x\":[0.0],\"xaxis\":\"x\",\"y\":[\"sun\"],\"yaxis\":\"y\",\"type\":\"scatter\"},{\"fillpattern\":{\"shape\":\"\"},\"hovertemplate\":\"day=%{y}<br>temp=26.1<br>rain=%{x}<extra></extra>\",\"legendgroup\":\"sun\",\"line\":{\"color\":\"#ab63fa\"},\"marker\":{\"symbol\":\"circle\"},\"mode\":\"lines\",\"name\":\"sun\",\"orientation\":\"h\",\"showlegend\":false,\"stackgroup\":\"1\",\"x\":[0.0],\"xaxis\":\"x\",\"y\":[\"sun\"],\"yaxis\":\"y\",\"type\":\"scatter\"},{\"fillpattern\":{\"shape\":\"\"},\"hovertemplate\":\"day=%{y}<br>temp=31.0<br>rain=%{x}<extra></extra>\",\"legendgroup\":\"sun\",\"line\":{\"color\":\"#ab63fa\"},\"marker\":{\"symbol\":\"circle\"},\"mode\":\"lines\",\"name\":\"sun\",\"orientation\":\"h\",\"showlegend\":false,\"stackgroup\":\"1\",\"x\":[0.0],\"xaxis\":\"x\",\"y\":[\"sun\"],\"yaxis\":\"y\",\"type\":\"scatter\"},{\"fillpattern\":{\"shape\":\"\"},\"hovertemplate\":\"day=%{y}<br>temp=33.1<br>rain=%{x}<extra></extra>\",\"legendgroup\":\"sun\",\"line\":{\"color\":\"#ab63fa\"},\"marker\":{\"symbol\":\"circle\"},\"mode\":\"lines\",\"name\":\"sun\",\"orientation\":\"h\",\"showlegend\":false,\"stackgroup\":\"1\",\"x\":[0.0],\"xaxis\":\"x\",\"y\":[\"sun\"],\"yaxis\":\"y\",\"type\":\"scatter\"},{\"fillpattern\":{\"shape\":\"\"},\"hovertemplate\":\"day=%{y}<br>temp=18.0<br>rain=%{x}<extra></extra>\",\"legendgroup\":\"mon\",\"line\":{\"color\":\"#FFA15A\"},\"marker\":{\"symbol\":\"circle\"},\"mode\":\"lines\",\"name\":\"mon\",\"orientation\":\"h\",\"showlegend\":true,\"stackgroup\":\"1\",\"x\":[0.0],\"xaxis\":\"x\",\"y\":[\"mon\"],\"yaxis\":\"y\",\"type\":\"scatter\"},{\"fillpattern\":{\"shape\":\"\"},\"hovertemplate\":\"day=%{y}<br>temp=8.3<br>rain=%{x}<extra></extra>\",\"legendgroup\":\"mon\",\"line\":{\"color\":\"#FFA15A\"},\"marker\":{\"symbol\":\"circle\"},\"mode\":\"lines\",\"name\":\"mon\",\"orientation\":\"h\",\"showlegend\":false,\"stackgroup\":\"1\",\"x\":[0.0],\"xaxis\":\"x\",\"y\":[\"mon\"],\"yaxis\":\"y\",\"type\":\"scatter\"},{\"fillpattern\":{\"shape\":\"\"},\"hovertemplate\":\"day=%{y}<br>temp=24.1<br>rain=%{x}<extra></extra>\",\"legendgroup\":\"mon\",\"line\":{\"color\":\"#FFA15A\"},\"marker\":{\"symbol\":\"circle\"},\"mode\":\"lines\",\"name\":\"mon\",\"orientation\":\"h\",\"showlegend\":false,\"stackgroup\":\"1\",\"x\":[0.0],\"xaxis\":\"x\",\"y\":[\"mon\"],\"yaxis\":\"y\",\"type\":\"scatter\"},{\"fillpattern\":{\"shape\":\"\"},\"hovertemplate\":\"day=%{y}<br>temp=8.0<br>rain=%{x}<extra></extra>\",\"legendgroup\":\"mon\",\"line\":{\"color\":\"#FFA15A\"},\"marker\":{\"symbol\":\"circle\"},\"mode\":\"lines\",\"name\":\"mon\",\"orientation\":\"h\",\"showlegend\":false,\"stackgroup\":\"1\",\"x\":[0.0],\"xaxis\":\"x\",\"y\":[\"mon\"],\"yaxis\":\"y\",\"type\":\"scatter\"},{\"fillpattern\":{\"shape\":\"\"},\"hovertemplate\":\"day=%{y}<br>temp=22.8<br>rain=%{x}<extra></extra>\",\"legendgroup\":\"mon\",\"line\":{\"color\":\"#FFA15A\"},\"marker\":{\"symbol\":\"circle\"},\"mode\":\"lines\",\"name\":\"mon\",\"orientation\":\"h\",\"showlegend\":false,\"stackgroup\":\"1\",\"x\":[0.0],\"xaxis\":\"x\",\"y\":[\"mon\"],\"yaxis\":\"y\",\"type\":\"scatter\"},{\"fillpattern\":{\"shape\":\"\"},\"hovertemplate\":\"day=%{y}<br>temp=19.3<br>rain=%{x}<extra></extra>\",\"legendgroup\":\"mon\",\"line\":{\"color\":\"#FFA15A\"},\"marker\":{\"symbol\":\"circle\"},\"mode\":\"lines\",\"name\":\"mon\",\"orientation\":\"h\",\"showlegend\":false,\"stackgroup\":\"1\",\"x\":[0.0,0.0],\"xaxis\":\"x\",\"y\":[\"mon\",\"mon\"],\"yaxis\":\"y\",\"type\":\"scatter\"},{\"fillpattern\":{\"shape\":\"\"},\"hovertemplate\":\"day=%{y}<br>temp=21.3<br>rain=%{x}<extra></extra>\",\"legendgroup\":\"mon\",\"line\":{\"color\":\"#FFA15A\"},\"marker\":{\"symbol\":\"circle\"},\"mode\":\"lines\",\"name\":\"mon\",\"orientation\":\"h\",\"showlegend\":false,\"stackgroup\":\"1\",\"x\":[0.0,0.0],\"xaxis\":\"x\",\"y\":[\"mon\",\"mon\"],\"yaxis\":\"y\",\"type\":\"scatter\"},{\"fillpattern\":{\"shape\":\"\"},\"hovertemplate\":\"day=%{y}<br>temp=16.7<br>rain=%{x}<extra></extra>\",\"legendgroup\":\"mon\",\"line\":{\"color\":\"#FFA15A\"},\"marker\":{\"symbol\":\"circle\"},\"mode\":\"lines\",\"name\":\"mon\",\"orientation\":\"h\",\"showlegend\":false,\"stackgroup\":\"1\",\"x\":[0.0],\"xaxis\":\"x\",\"y\":[\"mon\"],\"yaxis\":\"y\",\"type\":\"scatter\"},{\"fillpattern\":{\"shape\":\"\"},\"hovertemplate\":\"day=%{y}<br>temp=15.9<br>rain=%{x}<extra></extra>\",\"legendgroup\":\"mon\",\"line\":{\"color\":\"#FFA15A\"},\"marker\":{\"symbol\":\"circle\"},\"mode\":\"lines\",\"name\":\"mon\",\"orientation\":\"h\",\"showlegend\":false,\"stackgroup\":\"1\",\"x\":[0.0],\"xaxis\":\"x\",\"y\":[\"mon\"],\"yaxis\":\"y\",\"type\":\"scatter\"},{\"fillpattern\":{\"shape\":\"\"},\"hovertemplate\":\"day=%{y}<br>temp=19.1<br>rain=%{x}<extra></extra>\",\"legendgroup\":\"mon\",\"line\":{\"color\":\"#FFA15A\"},\"marker\":{\"symbol\":\"circle\"},\"mode\":\"lines\",\"name\":\"mon\",\"orientation\":\"h\",\"showlegend\":false,\"stackgroup\":\"1\",\"x\":[0.0,0.0,0.0],\"xaxis\":\"x\",\"y\":[\"mon\",\"mon\",\"mon\"],\"yaxis\":\"y\",\"type\":\"scatter\"},{\"fillpattern\":{\"shape\":\"\"},\"hovertemplate\":\"day=%{y}<br>temp=21.0<br>rain=%{x}<extra></extra>\",\"legendgroup\":\"mon\",\"line\":{\"color\":\"#FFA15A\"},\"marker\":{\"symbol\":\"circle\"},\"mode\":\"lines\",\"name\":\"mon\",\"orientation\":\"h\",\"showlegend\":false,\"stackgroup\":\"1\",\"x\":[0.0],\"xaxis\":\"x\",\"y\":[\"mon\"],\"yaxis\":\"y\",\"type\":\"scatter\"},{\"fillpattern\":{\"shape\":\"\"},\"hovertemplate\":\"day=%{y}<br>temp=19.4<br>rain=%{x}<extra></extra>\",\"legendgroup\":\"mon\",\"line\":{\"color\":\"#FFA15A\"},\"marker\":{\"symbol\":\"circle\"},\"mode\":\"lines\",\"name\":\"mon\",\"orientation\":\"h\",\"showlegend\":false,\"stackgroup\":\"1\",\"x\":[0.0],\"xaxis\":\"x\",\"y\":[\"mon\"],\"yaxis\":\"y\",\"type\":\"scatter\"},{\"fillpattern\":{\"shape\":\"\"},\"hovertemplate\":\"day=%{y}<br>temp=11.2<br>rain=%{x}<extra></extra>\",\"legendgroup\":\"mon\",\"line\":{\"color\":\"#FFA15A\"},\"marker\":{\"symbol\":\"circle\"},\"mode\":\"lines\",\"name\":\"mon\",\"orientation\":\"h\",\"showlegend\":false,\"stackgroup\":\"1\",\"x\":[0.0],\"xaxis\":\"x\",\"y\":[\"mon\"],\"yaxis\":\"y\",\"type\":\"scatter\"},{\"fillpattern\":{\"shape\":\"\"},\"hovertemplate\":\"day=%{y}<br>temp=20.6<br>rain=%{x}<extra></extra>\",\"legendgroup\":\"mon\",\"line\":{\"color\":\"#FFA15A\"},\"marker\":{\"symbol\":\"circle\"},\"mode\":\"lines\",\"name\":\"mon\",\"orientation\":\"h\",\"showlegend\":false,\"stackgroup\":\"1\",\"x\":[0.0],\"xaxis\":\"x\",\"y\":[\"mon\"],\"yaxis\":\"y\",\"type\":\"scatter\"},{\"fillpattern\":{\"shape\":\"\"},\"hovertemplate\":\"day=%{y}<br>temp=17.7<br>rain=%{x}<extra></extra>\",\"legendgroup\":\"mon\",\"line\":{\"color\":\"#FFA15A\"},\"marker\":{\"symbol\":\"circle\"},\"mode\":\"lines\",\"name\":\"mon\",\"orientation\":\"h\",\"showlegend\":false,\"stackgroup\":\"1\",\"x\":[0.0,0.0],\"xaxis\":\"x\",\"y\":[\"mon\",\"mon\"],\"yaxis\":\"y\",\"type\":\"scatter\"},{\"fillpattern\":{\"shape\":\"\"},\"hovertemplate\":\"day=%{y}<br>temp=21.2<br>rain=%{x}<extra></extra>\",\"legendgroup\":\"mon\",\"line\":{\"color\":\"#FFA15A\"},\"marker\":{\"symbol\":\"circle\"},\"mode\":\"lines\",\"name\":\"mon\",\"orientation\":\"h\",\"showlegend\":false,\"stackgroup\":\"1\",\"x\":[0.0],\"xaxis\":\"x\",\"y\":[\"mon\"],\"yaxis\":\"y\",\"type\":\"scatter\"},{\"fillpattern\":{\"shape\":\"\"},\"hovertemplate\":\"day=%{y}<br>temp=14.7<br>rain=%{x}<extra></extra>\",\"legendgroup\":\"mon\",\"line\":{\"color\":\"#FFA15A\"},\"marker\":{\"symbol\":\"circle\"},\"mode\":\"lines\",\"name\":\"mon\",\"orientation\":\"h\",\"showlegend\":false,\"stackgroup\":\"1\",\"x\":[0.0],\"xaxis\":\"x\",\"y\":[\"mon\"],\"yaxis\":\"y\",\"type\":\"scatter\"},{\"fillpattern\":{\"shape\":\"\"},\"hovertemplate\":\"day=%{y}<br>temp=23.0<br>rain=%{x}<extra></extra>\",\"legendgroup\":\"mon\",\"line\":{\"color\":\"#FFA15A\"},\"marker\":{\"symbol\":\"circle\"},\"mode\":\"lines\",\"name\":\"mon\",\"orientation\":\"h\",\"showlegend\":false,\"stackgroup\":\"1\",\"x\":[0.0,0.0],\"xaxis\":\"x\",\"y\":[\"mon\",\"mon\"],\"yaxis\":\"y\",\"type\":\"scatter\"},{\"fillpattern\":{\"shape\":\"\"},\"hovertemplate\":\"day=%{y}<br>temp=11.8<br>rain=%{x}<extra></extra>\",\"legendgroup\":\"mon\",\"line\":{\"color\":\"#FFA15A\"},\"marker\":{\"symbol\":\"circle\"},\"mode\":\"lines\",\"name\":\"mon\",\"orientation\":\"h\",\"showlegend\":false,\"stackgroup\":\"1\",\"x\":[0.0],\"xaxis\":\"x\",\"y\":[\"mon\"],\"yaxis\":\"y\",\"type\":\"scatter\"},{\"fillpattern\":{\"shape\":\"\"},\"hovertemplate\":\"day=%{y}<br>temp=11.0<br>rain=%{x}<extra></extra>\",\"legendgroup\":\"mon\",\"line\":{\"color\":\"#FFA15A\"},\"marker\":{\"symbol\":\"circle\"},\"mode\":\"lines\",\"name\":\"mon\",\"orientation\":\"h\",\"showlegend\":false,\"stackgroup\":\"1\",\"x\":[0.0,0.0,0.0],\"xaxis\":\"x\",\"y\":[\"mon\",\"mon\",\"mon\"],\"yaxis\":\"y\",\"type\":\"scatter\"},{\"fillpattern\":{\"shape\":\"\"},\"hovertemplate\":\"day=%{y}<br>temp=20.4<br>rain=%{x}<extra></extra>\",\"legendgroup\":\"mon\",\"line\":{\"color\":\"#FFA15A\"},\"marker\":{\"symbol\":\"circle\"},\"mode\":\"lines\",\"name\":\"mon\",\"orientation\":\"h\",\"showlegend\":false,\"stackgroup\":\"1\",\"x\":[0.0],\"xaxis\":\"x\",\"y\":[\"mon\"],\"yaxis\":\"y\",\"type\":\"scatter\"},{\"fillpattern\":{\"shape\":\"\"},\"hovertemplate\":\"day=%{y}<br>temp=13.9<br>rain=%{x}<extra></extra>\",\"legendgroup\":\"mon\",\"line\":{\"color\":\"#FFA15A\"},\"marker\":{\"symbol\":\"circle\"},\"mode\":\"lines\",\"name\":\"mon\",\"orientation\":\"h\",\"showlegend\":false,\"stackgroup\":\"1\",\"x\":[0.0],\"xaxis\":\"x\",\"y\":[\"mon\"],\"yaxis\":\"y\",\"type\":\"scatter\"},{\"fillpattern\":{\"shape\":\"\"},\"hovertemplate\":\"day=%{y}<br>temp=23.1<br>rain=%{x}<extra></extra>\",\"legendgroup\":\"mon\",\"line\":{\"color\":\"#FFA15A\"},\"marker\":{\"symbol\":\"circle\"},\"mode\":\"lines\",\"name\":\"mon\",\"orientation\":\"h\",\"showlegend\":false,\"stackgroup\":\"1\",\"x\":[0.0],\"xaxis\":\"x\",\"y\":[\"mon\"],\"yaxis\":\"y\",\"type\":\"scatter\"},{\"fillpattern\":{\"shape\":\"\"},\"hovertemplate\":\"day=%{y}<br>temp=15.6<br>rain=%{x}<extra></extra>\",\"legendgroup\":\"mon\",\"line\":{\"color\":\"#FFA15A\"},\"marker\":{\"symbol\":\"circle\"},\"mode\":\"lines\",\"name\":\"mon\",\"orientation\":\"h\",\"showlegend\":false,\"stackgroup\":\"1\",\"x\":[0.0],\"xaxis\":\"x\",\"y\":[\"mon\"],\"yaxis\":\"y\",\"type\":\"scatter\"},{\"fillpattern\":{\"shape\":\"\"},\"hovertemplate\":\"day=%{y}<br>temp=15.7<br>rain=%{x}<extra></extra>\",\"legendgroup\":\"mon\",\"line\":{\"color\":\"#FFA15A\"},\"marker\":{\"symbol\":\"circle\"},\"mode\":\"lines\",\"name\":\"mon\",\"orientation\":\"h\",\"showlegend\":false,\"stackgroup\":\"1\",\"x\":[0.0],\"xaxis\":\"x\",\"y\":[\"mon\"],\"yaxis\":\"y\",\"type\":\"scatter\"},{\"fillpattern\":{\"shape\":\"\"},\"hovertemplate\":\"day=%{y}<br>temp=17.9<br>rain=%{x}<extra></extra>\",\"legendgroup\":\"mon\",\"line\":{\"color\":\"#FFA15A\"},\"marker\":{\"symbol\":\"circle\"},\"mode\":\"lines\",\"name\":\"mon\",\"orientation\":\"h\",\"showlegend\":false,\"stackgroup\":\"1\",\"x\":[0.0],\"xaxis\":\"x\",\"y\":[\"mon\"],\"yaxis\":\"y\",\"type\":\"scatter\"},{\"fillpattern\":{\"shape\":\"\"},\"hovertemplate\":\"day=%{y}<br>temp=17.4<br>rain=%{x}<extra></extra>\",\"legendgroup\":\"mon\",\"line\":{\"color\":\"#FFA15A\"},\"marker\":{\"symbol\":\"circle\"},\"mode\":\"lines\",\"name\":\"mon\",\"orientation\":\"h\",\"showlegend\":false,\"stackgroup\":\"1\",\"x\":[0.0],\"xaxis\":\"x\",\"y\":[\"mon\"],\"yaxis\":\"y\",\"type\":\"scatter\"},{\"fillpattern\":{\"shape\":\"\"},\"hovertemplate\":\"day=%{y}<br>temp=23.4<br>rain=%{x}<extra></extra>\",\"legendgroup\":\"mon\",\"line\":{\"color\":\"#FFA15A\"},\"marker\":{\"symbol\":\"circle\"},\"mode\":\"lines\",\"name\":\"mon\",\"orientation\":\"h\",\"showlegend\":false,\"stackgroup\":\"1\",\"x\":[0.0],\"xaxis\":\"x\",\"y\":[\"mon\"],\"yaxis\":\"y\",\"type\":\"scatter\"},{\"fillpattern\":{\"shape\":\"\"},\"hovertemplate\":\"day=%{y}<br>temp=5.3<br>rain=%{x}<extra></extra>\",\"legendgroup\":\"mon\",\"line\":{\"color\":\"#FFA15A\"},\"marker\":{\"symbol\":\"circle\"},\"mode\":\"lines\",\"name\":\"mon\",\"orientation\":\"h\",\"showlegend\":false,\"stackgroup\":\"1\",\"x\":[0.0],\"xaxis\":\"x\",\"y\":[\"mon\"],\"yaxis\":\"y\",\"type\":\"scatter\"},{\"fillpattern\":{\"shape\":\"\"},\"hovertemplate\":\"day=%{y}<br>temp=18.9<br>rain=%{x}<extra></extra>\",\"legendgroup\":\"mon\",\"line\":{\"color\":\"#FFA15A\"},\"marker\":{\"symbol\":\"circle\"},\"mode\":\"lines\",\"name\":\"mon\",\"orientation\":\"h\",\"showlegend\":false,\"stackgroup\":\"1\",\"x\":[0.0],\"xaxis\":\"x\",\"y\":[\"mon\"],\"yaxis\":\"y\",\"type\":\"scatter\"},{\"fillpattern\":{\"shape\":\"\"},\"hovertemplate\":\"day=%{y}<br>temp=15.2<br>rain=%{x}<extra></extra>\",\"legendgroup\":\"mon\",\"line\":{\"color\":\"#FFA15A\"},\"marker\":{\"symbol\":\"circle\"},\"mode\":\"lines\",\"name\":\"mon\",\"orientation\":\"h\",\"showlegend\":false,\"stackgroup\":\"1\",\"x\":[0.0],\"xaxis\":\"x\",\"y\":[\"mon\"],\"yaxis\":\"y\",\"type\":\"scatter\"},{\"fillpattern\":{\"shape\":\"\"},\"hovertemplate\":\"day=%{y}<br>temp=10.6<br>rain=%{x}<extra></extra>\",\"legendgroup\":\"mon\",\"line\":{\"color\":\"#FFA15A\"},\"marker\":{\"symbol\":\"circle\"},\"mode\":\"lines\",\"name\":\"mon\",\"orientation\":\"h\",\"showlegend\":false,\"stackgroup\":\"1\",\"x\":[0.0],\"xaxis\":\"x\",\"y\":[\"mon\"],\"yaxis\":\"y\",\"type\":\"scatter\"},{\"fillpattern\":{\"shape\":\"\"},\"hovertemplate\":\"day=%{y}<br>temp=10.3<br>rain=%{x}<extra></extra>\",\"legendgroup\":\"mon\",\"line\":{\"color\":\"#FFA15A\"},\"marker\":{\"symbol\":\"circle\"},\"mode\":\"lines\",\"name\":\"mon\",\"orientation\":\"h\",\"showlegend\":false,\"stackgroup\":\"1\",\"x\":[0.0],\"xaxis\":\"x\",\"y\":[\"mon\"],\"yaxis\":\"y\",\"type\":\"scatter\"},{\"fillpattern\":{\"shape\":\"\"},\"hovertemplate\":\"day=%{y}<br>temp=17.1<br>rain=%{x}<extra></extra>\",\"legendgroup\":\"mon\",\"line\":{\"color\":\"#FFA15A\"},\"marker\":{\"symbol\":\"circle\"},\"mode\":\"lines\",\"name\":\"mon\",\"orientation\":\"h\",\"showlegend\":false,\"stackgroup\":\"1\",\"x\":[0.0],\"xaxis\":\"x\",\"y\":[\"mon\"],\"yaxis\":\"y\",\"type\":\"scatter\"},{\"fillpattern\":{\"shape\":\"\"},\"hovertemplate\":\"day=%{y}<br>temp=9.0<br>rain=%{x}<extra></extra>\",\"legendgroup\":\"mon\",\"line\":{\"color\":\"#FFA15A\"},\"marker\":{\"symbol\":\"circle\"},\"mode\":\"lines\",\"name\":\"mon\",\"orientation\":\"h\",\"showlegend\":false,\"stackgroup\":\"1\",\"x\":[0.0],\"xaxis\":\"x\",\"y\":[\"mon\"],\"yaxis\":\"y\",\"type\":\"scatter\"},{\"fillpattern\":{\"shape\":\"\"},\"hovertemplate\":\"day=%{y}<br>temp=14.0<br>rain=%{x}<extra></extra>\",\"legendgroup\":\"mon\",\"line\":{\"color\":\"#FFA15A\"},\"marker\":{\"symbol\":\"circle\"},\"mode\":\"lines\",\"name\":\"mon\",\"orientation\":\"h\",\"showlegend\":false,\"stackgroup\":\"1\",\"x\":[0.0],\"xaxis\":\"x\",\"y\":[\"mon\"],\"yaxis\":\"y\",\"type\":\"scatter\"},{\"fillpattern\":{\"shape\":\"\"},\"hovertemplate\":\"day=%{y}<br>temp=21.9<br>rain=%{x}<extra></extra>\",\"legendgroup\":\"mon\",\"line\":{\"color\":\"#FFA15A\"},\"marker\":{\"symbol\":\"circle\"},\"mode\":\"lines\",\"name\":\"mon\",\"orientation\":\"h\",\"showlegend\":false,\"stackgroup\":\"1\",\"x\":[0.0],\"xaxis\":\"x\",\"y\":[\"mon\"],\"yaxis\":\"y\",\"type\":\"scatter\"},{\"fillpattern\":{\"shape\":\"\"},\"hovertemplate\":\"day=%{y}<br>temp=13.2<br>rain=%{x}<extra></extra>\",\"legendgroup\":\"mon\",\"line\":{\"color\":\"#FFA15A\"},\"marker\":{\"symbol\":\"circle\"},\"mode\":\"lines\",\"name\":\"mon\",\"orientation\":\"h\",\"showlegend\":false,\"stackgroup\":\"1\",\"x\":[0.0],\"xaxis\":\"x\",\"y\":[\"mon\"],\"yaxis\":\"y\",\"type\":\"scatter\"},{\"fillpattern\":{\"shape\":\"\"},\"hovertemplate\":\"day=%{y}<br>temp=16.1<br>rain=%{x}<extra></extra>\",\"legendgroup\":\"mon\",\"line\":{\"color\":\"#FFA15A\"},\"marker\":{\"symbol\":\"circle\"},\"mode\":\"lines\",\"name\":\"mon\",\"orientation\":\"h\",\"showlegend\":false,\"stackgroup\":\"1\",\"x\":[0.0,0.0],\"xaxis\":\"x\",\"y\":[\"mon\",\"mon\"],\"yaxis\":\"y\",\"type\":\"scatter\"},{\"fillpattern\":{\"shape\":\"\"},\"hovertemplate\":\"day=%{y}<br>temp=20.7<br>rain=%{x}<extra></extra>\",\"legendgroup\":\"mon\",\"line\":{\"color\":\"#FFA15A\"},\"marker\":{\"symbol\":\"circle\"},\"mode\":\"lines\",\"name\":\"mon\",\"orientation\":\"h\",\"showlegend\":false,\"stackgroup\":\"1\",\"x\":[0.0],\"xaxis\":\"x\",\"y\":[\"mon\"],\"yaxis\":\"y\",\"type\":\"scatter\"},{\"fillpattern\":{\"shape\":\"\"},\"hovertemplate\":\"day=%{y}<br>temp=23.9<br>rain=%{x}<extra></extra>\",\"legendgroup\":\"mon\",\"line\":{\"color\":\"#FFA15A\"},\"marker\":{\"symbol\":\"circle\"},\"mode\":\"lines\",\"name\":\"mon\",\"orientation\":\"h\",\"showlegend\":false,\"stackgroup\":\"1\",\"x\":[0.0],\"xaxis\":\"x\",\"y\":[\"mon\"],\"yaxis\":\"y\",\"type\":\"scatter\"},{\"fillpattern\":{\"shape\":\"\"},\"hovertemplate\":\"day=%{y}<br>temp=12.4<br>rain=%{x}<extra></extra>\",\"legendgroup\":\"mon\",\"line\":{\"color\":\"#FFA15A\"},\"marker\":{\"symbol\":\"circle\"},\"mode\":\"lines\",\"name\":\"mon\",\"orientation\":\"h\",\"showlegend\":false,\"stackgroup\":\"1\",\"x\":[0.0],\"xaxis\":\"x\",\"y\":[\"mon\"],\"yaxis\":\"y\",\"type\":\"scatter\"},{\"fillpattern\":{\"shape\":\"\"},\"hovertemplate\":\"day=%{y}<br>temp=16.8<br>rain=%{x}<extra></extra>\",\"legendgroup\":\"mon\",\"line\":{\"color\":\"#FFA15A\"},\"marker\":{\"symbol\":\"circle\"},\"mode\":\"lines\",\"name\":\"mon\",\"orientation\":\"h\",\"showlegend\":false,\"stackgroup\":\"1\",\"x\":[0.0,0.0],\"xaxis\":\"x\",\"y\":[\"mon\",\"mon\"],\"yaxis\":\"y\",\"type\":\"scatter\"},{\"fillpattern\":{\"shape\":\"\"},\"hovertemplate\":\"day=%{y}<br>temp=22.6<br>rain=%{x}<extra></extra>\",\"legendgroup\":\"mon\",\"line\":{\"color\":\"#FFA15A\"},\"marker\":{\"symbol\":\"circle\"},\"mode\":\"lines\",\"name\":\"mon\",\"orientation\":\"h\",\"showlegend\":false,\"stackgroup\":\"1\",\"x\":[0.0,0.0],\"xaxis\":\"x\",\"y\":[\"mon\",\"mon\"],\"yaxis\":\"y\",\"type\":\"scatter\"},{\"fillpattern\":{\"shape\":\"\"},\"hovertemplate\":\"day=%{y}<br>temp=28.3<br>rain=%{x}<extra></extra>\",\"legendgroup\":\"mon\",\"line\":{\"color\":\"#FFA15A\"},\"marker\":{\"symbol\":\"circle\"},\"mode\":\"lines\",\"name\":\"mon\",\"orientation\":\"h\",\"showlegend\":false,\"stackgroup\":\"1\",\"x\":[0.0],\"xaxis\":\"x\",\"y\":[\"mon\"],\"yaxis\":\"y\",\"type\":\"scatter\"},{\"fillpattern\":{\"shape\":\"\"},\"hovertemplate\":\"day=%{y}<br>temp=26.8<br>rain=%{x}<extra></extra>\",\"legendgroup\":\"mon\",\"line\":{\"color\":\"#FFA15A\"},\"marker\":{\"symbol\":\"circle\"},\"mode\":\"lines\",\"name\":\"mon\",\"orientation\":\"h\",\"showlegend\":false,\"stackgroup\":\"1\",\"x\":[0.0],\"xaxis\":\"x\",\"y\":[\"mon\"],\"yaxis\":\"y\",\"type\":\"scatter\"},{\"fillpattern\":{\"shape\":\"\"},\"hovertemplate\":\"day=%{y}<br>temp=4.6<br>rain=%{x}<extra></extra>\",\"legendgroup\":\"mon\",\"line\":{\"color\":\"#FFA15A\"},\"marker\":{\"symbol\":\"circle\"},\"mode\":\"lines\",\"name\":\"mon\",\"orientation\":\"h\",\"showlegend\":false,\"stackgroup\":\"1\",\"x\":[0.0,0.0,0.0,0.0],\"xaxis\":\"x\",\"y\":[\"mon\",\"mon\",\"mon\",\"mon\"],\"yaxis\":\"y\",\"type\":\"scatter\"},{\"fillpattern\":{\"shape\":\"\"},\"hovertemplate\":\"day=%{y}<br>temp=7.5<br>rain=%{x}<extra></extra>\",\"legendgroup\":\"mon\",\"line\":{\"color\":\"#FFA15A\"},\"marker\":{\"symbol\":\"circle\"},\"mode\":\"lines\",\"name\":\"mon\",\"orientation\":\"h\",\"showlegend\":false,\"stackgroup\":\"1\",\"x\":[0.0],\"xaxis\":\"x\",\"y\":[\"mon\"],\"yaxis\":\"y\",\"type\":\"scatter\"},{\"fillpattern\":{\"shape\":\"\"},\"hovertemplate\":\"day=%{y}<br>temp=14.3<br>rain=%{x}<extra></extra>\",\"legendgroup\":\"mon\",\"line\":{\"color\":\"#FFA15A\"},\"marker\":{\"symbol\":\"circle\"},\"mode\":\"lines\",\"name\":\"mon\",\"orientation\":\"h\",\"showlegend\":false,\"stackgroup\":\"1\",\"x\":[0.0],\"xaxis\":\"x\",\"y\":[\"mon\"],\"yaxis\":\"y\",\"type\":\"scatter\"},{\"fillpattern\":{\"shape\":\"\"},\"hovertemplate\":\"day=%{y}<br>temp=12.2<br>rain=%{x}<extra></extra>\",\"legendgroup\":\"mon\",\"line\":{\"color\":\"#FFA15A\"},\"marker\":{\"symbol\":\"circle\"},\"mode\":\"lines\",\"name\":\"mon\",\"orientation\":\"h\",\"showlegend\":false,\"stackgroup\":\"1\",\"x\":[0.0],\"xaxis\":\"x\",\"y\":[\"mon\"],\"yaxis\":\"y\",\"type\":\"scatter\"},{\"fillpattern\":{\"shape\":\"\"},\"hovertemplate\":\"day=%{y}<br>temp=18.1<br>rain=%{x}<extra></extra>\",\"legendgroup\":\"mon\",\"line\":{\"color\":\"#FFA15A\"},\"marker\":{\"symbol\":\"circle\"},\"mode\":\"lines\",\"name\":\"mon\",\"orientation\":\"h\",\"showlegend\":false,\"stackgroup\":\"1\",\"x\":[0.0],\"xaxis\":\"x\",\"y\":[\"mon\"],\"yaxis\":\"y\",\"type\":\"scatter\"},{\"fillpattern\":{\"shape\":\"\"},\"hovertemplate\":\"day=%{y}<br>temp=9.8<br>rain=%{x}<extra></extra>\",\"legendgroup\":\"mon\",\"line\":{\"color\":\"#FFA15A\"},\"marker\":{\"symbol\":\"circle\"},\"mode\":\"lines\",\"name\":\"mon\",\"orientation\":\"h\",\"showlegend\":false,\"stackgroup\":\"1\",\"x\":[0.0],\"xaxis\":\"x\",\"y\":[\"mon\"],\"yaxis\":\"y\",\"type\":\"scatter\"},{\"fillpattern\":{\"shape\":\"\"},\"hovertemplate\":\"day=%{y}<br>temp=22.7<br>rain=%{x}<extra></extra>\",\"legendgroup\":\"mon\",\"line\":{\"color\":\"#FFA15A\"},\"marker\":{\"symbol\":\"circle\"},\"mode\":\"lines\",\"name\":\"mon\",\"orientation\":\"h\",\"showlegend\":false,\"stackgroup\":\"1\",\"x\":[0.0],\"xaxis\":\"x\",\"y\":[\"mon\"],\"yaxis\":\"y\",\"type\":\"scatter\"},{\"fillpattern\":{\"shape\":\"\"},\"hovertemplate\":\"day=%{y}<br>temp=21.1<br>rain=%{x}<extra></extra>\",\"legendgroup\":\"mon\",\"line\":{\"color\":\"#FFA15A\"},\"marker\":{\"symbol\":\"circle\"},\"mode\":\"lines\",\"name\":\"mon\",\"orientation\":\"h\",\"showlegend\":false,\"stackgroup\":\"1\",\"x\":[0.0],\"xaxis\":\"x\",\"y\":[\"mon\"],\"yaxis\":\"y\",\"type\":\"scatter\"},{\"fillpattern\":{\"shape\":\"\"},\"hovertemplate\":\"day=%{y}<br>temp=27.9<br>rain=%{x}<extra></extra>\",\"legendgroup\":\"mon\",\"line\":{\"color\":\"#FFA15A\"},\"marker\":{\"symbol\":\"circle\"},\"mode\":\"lines\",\"name\":\"mon\",\"orientation\":\"h\",\"showlegend\":false,\"stackgroup\":\"1\",\"x\":[0.0],\"xaxis\":\"x\",\"y\":[\"mon\"],\"yaxis\":\"y\",\"type\":\"scatter\"},{\"fillpattern\":{\"shape\":\"\"},\"hovertemplate\":\"day=%{y}<br>temp=25.5<br>rain=%{x}<extra></extra>\",\"legendgroup\":\"mon\",\"line\":{\"color\":\"#FFA15A\"},\"marker\":{\"symbol\":\"circle\"},\"mode\":\"lines\",\"name\":\"mon\",\"orientation\":\"h\",\"showlegend\":false,\"stackgroup\":\"1\",\"x\":[0.0],\"xaxis\":\"x\",\"y\":[\"mon\"],\"yaxis\":\"y\",\"type\":\"scatter\"},{\"fillpattern\":{\"shape\":\"\"},\"hovertemplate\":\"day=%{y}<br>temp=10.9<br>rain=%{x}<extra></extra>\",\"legendgroup\":\"mon\",\"line\":{\"color\":\"#FFA15A\"},\"marker\":{\"symbol\":\"circle\"},\"mode\":\"lines\",\"name\":\"mon\",\"orientation\":\"h\",\"showlegend\":false,\"stackgroup\":\"1\",\"x\":[0.0],\"xaxis\":\"x\",\"y\":[\"mon\"],\"yaxis\":\"y\",\"type\":\"scatter\"},{\"fillpattern\":{\"shape\":\"\"},\"hovertemplate\":\"day=%{y}<br>temp=10.2<br>rain=%{x}<extra></extra>\",\"legendgroup\":\"mon\",\"line\":{\"color\":\"#FFA15A\"},\"marker\":{\"symbol\":\"circle\"},\"mode\":\"lines\",\"name\":\"mon\",\"orientation\":\"h\",\"showlegend\":false,\"stackgroup\":\"1\",\"x\":[0.0],\"xaxis\":\"x\",\"y\":[\"mon\"],\"yaxis\":\"y\",\"type\":\"scatter\"},{\"fillpattern\":{\"shape\":\"\"},\"hovertemplate\":\"day=%{y}<br>temp=30.6<br>rain=%{x}<extra></extra>\",\"legendgroup\":\"mon\",\"line\":{\"color\":\"#FFA15A\"},\"marker\":{\"symbol\":\"circle\"},\"mode\":\"lines\",\"name\":\"mon\",\"orientation\":\"h\",\"showlegend\":false,\"stackgroup\":\"1\",\"x\":[0.0],\"xaxis\":\"x\",\"y\":[\"mon\"],\"yaxis\":\"y\",\"type\":\"scatter\"},{\"fillpattern\":{\"shape\":\"\"},\"hovertemplate\":\"day=%{y}<br>temp=32.6<br>rain=%{x}<extra></extra>\",\"legendgroup\":\"mon\",\"line\":{\"color\":\"#FFA15A\"},\"marker\":{\"symbol\":\"circle\"},\"mode\":\"lines\",\"name\":\"mon\",\"orientation\":\"h\",\"showlegend\":false,\"stackgroup\":\"1\",\"x\":[0.0],\"xaxis\":\"x\",\"y\":[\"mon\"],\"yaxis\":\"y\",\"type\":\"scatter\"},{\"fillpattern\":{\"shape\":\"\"},\"hovertemplate\":\"day=%{y}<br>temp=19.3<br>rain=%{x}<extra></extra>\",\"legendgroup\":\"wed\",\"line\":{\"color\":\"#19d3f3\"},\"marker\":{\"symbol\":\"circle\"},\"mode\":\"lines\",\"name\":\"wed\",\"orientation\":\"h\",\"showlegend\":true,\"stackgroup\":\"1\",\"x\":[0.0],\"xaxis\":\"x\",\"y\":[\"wed\"],\"yaxis\":\"y\",\"type\":\"scatter\"},{\"fillpattern\":{\"shape\":\"\"},\"hovertemplate\":\"day=%{y}<br>temp=26.4<br>rain=%{x}<extra></extra>\",\"legendgroup\":\"wed\",\"line\":{\"color\":\"#19d3f3\"},\"marker\":{\"symbol\":\"circle\"},\"mode\":\"lines\",\"name\":\"wed\",\"orientation\":\"h\",\"showlegend\":false,\"stackgroup\":\"1\",\"x\":[0.0,0.0],\"xaxis\":\"x\",\"y\":[\"wed\",\"wed\"],\"yaxis\":\"y\",\"type\":\"scatter\"},{\"fillpattern\":{\"shape\":\"\"},\"hovertemplate\":\"day=%{y}<br>temp=15.9<br>rain=%{x}<extra></extra>\",\"legendgroup\":\"wed\",\"line\":{\"color\":\"#19d3f3\"},\"marker\":{\"symbol\":\"circle\"},\"mode\":\"lines\",\"name\":\"wed\",\"orientation\":\"h\",\"showlegend\":false,\"stackgroup\":\"1\",\"x\":[0.0,0.0],\"xaxis\":\"x\",\"y\":[\"wed\",\"wed\"],\"yaxis\":\"y\",\"type\":\"scatter\"},{\"fillpattern\":{\"shape\":\"\"},\"hovertemplate\":\"day=%{y}<br>temp=18.3<br>rain=%{x}<extra></extra>\",\"legendgroup\":\"wed\",\"line\":{\"color\":\"#19d3f3\"},\"marker\":{\"symbol\":\"circle\"},\"mode\":\"lines\",\"name\":\"wed\",\"orientation\":\"h\",\"showlegend\":false,\"stackgroup\":\"1\",\"x\":[0.0],\"xaxis\":\"x\",\"y\":[\"wed\"],\"yaxis\":\"y\",\"type\":\"scatter\"},{\"fillpattern\":{\"shape\":\"\"},\"hovertemplate\":\"day=%{y}<br>temp=19.4<br>rain=%{x}<extra></extra>\",\"legendgroup\":\"wed\",\"line\":{\"color\":\"#19d3f3\"},\"marker\":{\"symbol\":\"circle\"},\"mode\":\"lines\",\"name\":\"wed\",\"orientation\":\"h\",\"showlegend\":false,\"stackgroup\":\"1\",\"x\":[0.0],\"xaxis\":\"x\",\"y\":[\"wed\"],\"yaxis\":\"y\",\"type\":\"scatter\"},{\"fillpattern\":{\"shape\":\"\"},\"hovertemplate\":\"day=%{y}<br>temp=11.2<br>rain=%{x}<extra></extra>\",\"legendgroup\":\"wed\",\"line\":{\"color\":\"#19d3f3\"},\"marker\":{\"symbol\":\"circle\"},\"mode\":\"lines\",\"name\":\"wed\",\"orientation\":\"h\",\"showlegend\":false,\"stackgroup\":\"1\",\"x\":[0.0],\"xaxis\":\"x\",\"y\":[\"wed\"],\"yaxis\":\"y\",\"type\":\"scatter\"},{\"fillpattern\":{\"shape\":\"\"},\"hovertemplate\":\"day=%{y}<br>temp=20.6<br>rain=%{x}<extra></extra>\",\"legendgroup\":\"wed\",\"line\":{\"color\":\"#19d3f3\"},\"marker\":{\"symbol\":\"circle\"},\"mode\":\"lines\",\"name\":\"wed\",\"orientation\":\"h\",\"showlegend\":false,\"stackgroup\":\"1\",\"x\":[0.0],\"xaxis\":\"x\",\"y\":[\"wed\"],\"yaxis\":\"y\",\"type\":\"scatter\"},{\"fillpattern\":{\"shape\":\"\"},\"hovertemplate\":\"day=%{y}<br>temp=21.7<br>rain=%{x}<extra></extra>\",\"legendgroup\":\"wed\",\"line\":{\"color\":\"#19d3f3\"},\"marker\":{\"symbol\":\"circle\"},\"mode\":\"lines\",\"name\":\"wed\",\"orientation\":\"h\",\"showlegend\":false,\"stackgroup\":\"1\",\"x\":[0.0],\"xaxis\":\"x\",\"y\":[\"wed\"],\"yaxis\":\"y\",\"type\":\"scatter\"},{\"fillpattern\":{\"shape\":\"\"},\"hovertemplate\":\"day=%{y}<br>temp=23.3<br>rain=%{x}<extra></extra>\",\"legendgroup\":\"wed\",\"line\":{\"color\":\"#19d3f3\"},\"marker\":{\"symbol\":\"circle\"},\"mode\":\"lines\",\"name\":\"wed\",\"orientation\":\"h\",\"showlegend\":false,\"stackgroup\":\"1\",\"x\":[0.0],\"xaxis\":\"x\",\"y\":[\"wed\"],\"yaxis\":\"y\",\"type\":\"scatter\"},{\"fillpattern\":{\"shape\":\"\"},\"hovertemplate\":\"day=%{y}<br>temp=18.4<br>rain=%{x}<extra></extra>\",\"legendgroup\":\"wed\",\"line\":{\"color\":\"#19d3f3\"},\"marker\":{\"symbol\":\"circle\"},\"mode\":\"lines\",\"name\":\"wed\",\"orientation\":\"h\",\"showlegend\":false,\"stackgroup\":\"1\",\"x\":[0.0],\"xaxis\":\"x\",\"y\":[\"wed\"],\"yaxis\":\"y\",\"type\":\"scatter\"},{\"fillpattern\":{\"shape\":\"\"},\"hovertemplate\":\"day=%{y}<br>temp=16.6<br>rain=%{x}<extra></extra>\",\"legendgroup\":\"wed\",\"line\":{\"color\":\"#19d3f3\"},\"marker\":{\"symbol\":\"circle\"},\"mode\":\"lines\",\"name\":\"wed\",\"orientation\":\"h\",\"showlegend\":false,\"stackgroup\":\"1\",\"x\":[0.0,0.0],\"xaxis\":\"x\",\"y\":[\"wed\",\"wed\"],\"yaxis\":\"y\",\"type\":\"scatter\"},{\"fillpattern\":{\"shape\":\"\"},\"hovertemplate\":\"day=%{y}<br>temp=19.6<br>rain=%{x}<extra></extra>\",\"legendgroup\":\"wed\",\"line\":{\"color\":\"#19d3f3\"},\"marker\":{\"symbol\":\"circle\"},\"mode\":\"lines\",\"name\":\"wed\",\"orientation\":\"h\",\"showlegend\":false,\"stackgroup\":\"1\",\"x\":[0.0],\"xaxis\":\"x\",\"y\":[\"wed\"],\"yaxis\":\"y\",\"type\":\"scatter\"},{\"fillpattern\":{\"shape\":\"\"},\"hovertemplate\":\"day=%{y}<br>temp=12.9<br>rain=%{x}<extra></extra>\",\"legendgroup\":\"wed\",\"line\":{\"color\":\"#19d3f3\"},\"marker\":{\"symbol\":\"circle\"},\"mode\":\"lines\",\"name\":\"wed\",\"orientation\":\"h\",\"showlegend\":false,\"stackgroup\":\"1\",\"x\":[0.0],\"xaxis\":\"x\",\"y\":[\"wed\"],\"yaxis\":\"y\",\"type\":\"scatter\"},{\"fillpattern\":{\"shape\":\"\"},\"hovertemplate\":\"day=%{y}<br>temp=25.9<br>rain=%{x}<extra></extra>\",\"legendgroup\":\"wed\",\"line\":{\"color\":\"#19d3f3\"},\"marker\":{\"symbol\":\"circle\"},\"mode\":\"lines\",\"name\":\"wed\",\"orientation\":\"h\",\"showlegend\":false,\"stackgroup\":\"1\",\"x\":[0.0],\"xaxis\":\"x\",\"y\":[\"wed\"],\"yaxis\":\"y\",\"type\":\"scatter\"},{\"fillpattern\":{\"shape\":\"\"},\"hovertemplate\":\"day=%{y}<br>temp=20.4<br>rain=%{x}<extra></extra>\",\"legendgroup\":\"wed\",\"line\":{\"color\":\"#19d3f3\"},\"marker\":{\"symbol\":\"circle\"},\"mode\":\"lines\",\"name\":\"wed\",\"orientation\":\"h\",\"showlegend\":false,\"stackgroup\":\"1\",\"x\":[0.0,0.0],\"xaxis\":\"x\",\"y\":[\"wed\",\"wed\"],\"yaxis\":\"y\",\"type\":\"scatter\"},{\"fillpattern\":{\"shape\":\"\"},\"hovertemplate\":\"day=%{y}<br>temp=13.8<br>rain=%{x}<extra></extra>\",\"legendgroup\":\"wed\",\"line\":{\"color\":\"#19d3f3\"},\"marker\":{\"symbol\":\"circle\"},\"mode\":\"lines\",\"name\":\"wed\",\"orientation\":\"h\",\"showlegend\":false,\"stackgroup\":\"1\",\"x\":[0.0],\"xaxis\":\"x\",\"y\":[\"wed\"],\"yaxis\":\"y\",\"type\":\"scatter\"},{\"fillpattern\":{\"shape\":\"\"},\"hovertemplate\":\"day=%{y}<br>temp=20.2<br>rain=%{x}<extra></extra>\",\"legendgroup\":\"wed\",\"line\":{\"color\":\"#19d3f3\"},\"marker\":{\"symbol\":\"circle\"},\"mode\":\"lines\",\"name\":\"wed\",\"orientation\":\"h\",\"showlegend\":false,\"stackgroup\":\"1\",\"x\":[0.0],\"xaxis\":\"x\",\"y\":[\"wed\"],\"yaxis\":\"y\",\"type\":\"scatter\"},{\"fillpattern\":{\"shape\":\"\"},\"hovertemplate\":\"day=%{y}<br>temp=17.4<br>rain=%{x}<extra></extra>\",\"legendgroup\":\"wed\",\"line\":{\"color\":\"#19d3f3\"},\"marker\":{\"symbol\":\"circle\"},\"mode\":\"lines\",\"name\":\"wed\",\"orientation\":\"h\",\"showlegend\":false,\"stackgroup\":\"1\",\"x\":[0.0],\"xaxis\":\"x\",\"y\":[\"wed\"],\"yaxis\":\"y\",\"type\":\"scatter\"},{\"fillpattern\":{\"shape\":\"\"},\"hovertemplate\":\"day=%{y}<br>temp=23.4<br>rain=%{x}<extra></extra>\",\"legendgroup\":\"wed\",\"line\":{\"color\":\"#19d3f3\"},\"marker\":{\"symbol\":\"circle\"},\"mode\":\"lines\",\"name\":\"wed\",\"orientation\":\"h\",\"showlegend\":false,\"stackgroup\":\"1\",\"x\":[0.0,0.0],\"xaxis\":\"x\",\"y\":[\"wed\",\"wed\"],\"yaxis\":\"y\",\"type\":\"scatter\"},{\"fillpattern\":{\"shape\":\"\"},\"hovertemplate\":\"day=%{y}<br>temp=15.2<br>rain=%{x}<extra></extra>\",\"legendgroup\":\"wed\",\"line\":{\"color\":\"#19d3f3\"},\"marker\":{\"symbol\":\"circle\"},\"mode\":\"lines\",\"name\":\"wed\",\"orientation\":\"h\",\"showlegend\":false,\"stackgroup\":\"1\",\"x\":[0.0],\"xaxis\":\"x\",\"y\":[\"wed\"],\"yaxis\":\"y\",\"type\":\"scatter\"},{\"fillpattern\":{\"shape\":\"\"},\"hovertemplate\":\"day=%{y}<br>temp=15.4<br>rain=%{x}<extra></extra>\",\"legendgroup\":\"wed\",\"line\":{\"color\":\"#19d3f3\"},\"marker\":{\"symbol\":\"circle\"},\"mode\":\"lines\",\"name\":\"wed\",\"orientation\":\"h\",\"showlegend\":false,\"stackgroup\":\"1\",\"x\":[0.0],\"xaxis\":\"x\",\"y\":[\"wed\"],\"yaxis\":\"y\",\"type\":\"scatter\"},{\"fillpattern\":{\"shape\":\"\"},\"hovertemplate\":\"day=%{y}<br>temp=21.9<br>rain=%{x}<extra></extra>\",\"legendgroup\":\"wed\",\"line\":{\"color\":\"#19d3f3\"},\"marker\":{\"symbol\":\"circle\"},\"mode\":\"lines\",\"name\":\"wed\",\"orientation\":\"h\",\"showlegend\":false,\"stackgroup\":\"1\",\"x\":[0.0],\"xaxis\":\"x\",\"y\":[\"wed\"],\"yaxis\":\"y\",\"type\":\"scatter\"},{\"fillpattern\":{\"shape\":\"\"},\"hovertemplate\":\"day=%{y}<br>temp=23.8<br>rain=%{x}<extra></extra>\",\"legendgroup\":\"wed\",\"line\":{\"color\":\"#19d3f3\"},\"marker\":{\"symbol\":\"circle\"},\"mode\":\"lines\",\"name\":\"wed\",\"orientation\":\"h\",\"showlegend\":false,\"stackgroup\":\"1\",\"x\":[0.0],\"xaxis\":\"x\",\"y\":[\"wed\"],\"yaxis\":\"y\",\"type\":\"scatter\"},{\"fillpattern\":{\"shape\":\"\"},\"hovertemplate\":\"day=%{y}<br>temp=20.5<br>rain=%{x}<extra></extra>\",\"legendgroup\":\"wed\",\"line\":{\"color\":\"#19d3f3\"},\"marker\":{\"symbol\":\"circle\"},\"mode\":\"lines\",\"name\":\"wed\",\"orientation\":\"h\",\"showlegend\":false,\"stackgroup\":\"1\",\"x\":[0.0],\"xaxis\":\"x\",\"y\":[\"wed\"],\"yaxis\":\"y\",\"type\":\"scatter\"},{\"fillpattern\":{\"shape\":\"\"},\"hovertemplate\":\"day=%{y}<br>temp=20.7<br>rain=%{x}<extra></extra>\",\"legendgroup\":\"wed\",\"line\":{\"color\":\"#19d3f3\"},\"marker\":{\"symbol\":\"circle\"},\"mode\":\"lines\",\"name\":\"wed\",\"orientation\":\"h\",\"showlegend\":false,\"stackgroup\":\"1\",\"x\":[0.0],\"xaxis\":\"x\",\"y\":[\"wed\"],\"yaxis\":\"y\",\"type\":\"scatter\"},{\"fillpattern\":{\"shape\":\"\"},\"hovertemplate\":\"day=%{y}<br>temp=14.2<br>rain=%{x}<extra></extra>\",\"legendgroup\":\"wed\",\"line\":{\"color\":\"#19d3f3\"},\"marker\":{\"symbol\":\"circle\"},\"mode\":\"lines\",\"name\":\"wed\",\"orientation\":\"h\",\"showlegend\":false,\"stackgroup\":\"1\",\"x\":[0.0],\"xaxis\":\"x\",\"y\":[\"wed\"],\"yaxis\":\"y\",\"type\":\"scatter\"},{\"fillpattern\":{\"shape\":\"\"},\"hovertemplate\":\"day=%{y}<br>temp=24.3<br>rain=%{x}<extra></extra>\",\"legendgroup\":\"wed\",\"line\":{\"color\":\"#19d3f3\"},\"marker\":{\"symbol\":\"circle\"},\"mode\":\"lines\",\"name\":\"wed\",\"orientation\":\"h\",\"showlegend\":false,\"stackgroup\":\"1\",\"x\":[0.0,0.0],\"xaxis\":\"x\",\"y\":[\"wed\",\"wed\"],\"yaxis\":\"y\",\"type\":\"scatter\"},{\"fillpattern\":{\"shape\":\"\"},\"hovertemplate\":\"day=%{y}<br>temp=8.8<br>rain=%{x}<extra></extra>\",\"legendgroup\":\"wed\",\"line\":{\"color\":\"#19d3f3\"},\"marker\":{\"symbol\":\"circle\"},\"mode\":\"lines\",\"name\":\"wed\",\"orientation\":\"h\",\"showlegend\":false,\"stackgroup\":\"1\",\"x\":[0.0],\"xaxis\":\"x\",\"y\":[\"wed\"],\"yaxis\":\"y\",\"type\":\"scatter\"},{\"fillpattern\":{\"shape\":\"\"},\"hovertemplate\":\"day=%{y}<br>temp=22.1<br>rain=%{x}<extra></extra>\",\"legendgroup\":\"wed\",\"line\":{\"color\":\"#19d3f3\"},\"marker\":{\"symbol\":\"circle\"},\"mode\":\"lines\",\"name\":\"wed\",\"orientation\":\"h\",\"showlegend\":false,\"stackgroup\":\"1\",\"x\":[0.0],\"xaxis\":\"x\",\"y\":[\"wed\"],\"yaxis\":\"y\",\"type\":\"scatter\"},{\"fillpattern\":{\"shape\":\"\"},\"hovertemplate\":\"day=%{y}<br>temp=5.1<br>rain=%{x}<extra></extra>\",\"legendgroup\":\"wed\",\"line\":{\"color\":\"#19d3f3\"},\"marker\":{\"symbol\":\"circle\"},\"mode\":\"lines\",\"name\":\"wed\",\"orientation\":\"h\",\"showlegend\":false,\"stackgroup\":\"1\",\"x\":[0.0],\"xaxis\":\"x\",\"y\":[\"wed\"],\"yaxis\":\"y\",\"type\":\"scatter\"},{\"fillpattern\":{\"shape\":\"\"},\"hovertemplate\":\"day=%{y}<br>temp=26.8<br>rain=%{x}<extra></extra>\",\"legendgroup\":\"wed\",\"line\":{\"color\":\"#19d3f3\"},\"marker\":{\"symbol\":\"circle\"},\"mode\":\"lines\",\"name\":\"wed\",\"orientation\":\"h\",\"showlegend\":false,\"stackgroup\":\"1\",\"x\":[0.0],\"xaxis\":\"x\",\"y\":[\"wed\"],\"yaxis\":\"y\",\"type\":\"scatter\"},{\"fillpattern\":{\"shape\":\"\"},\"hovertemplate\":\"day=%{y}<br>temp=28.7<br>rain=%{x}<extra></extra>\",\"legendgroup\":\"wed\",\"line\":{\"color\":\"#19d3f3\"},\"marker\":{\"symbol\":\"circle\"},\"mode\":\"lines\",\"name\":\"wed\",\"orientation\":\"h\",\"showlegend\":false,\"stackgroup\":\"1\",\"x\":[0.0,0.0],\"xaxis\":\"x\",\"y\":[\"wed\",\"wed\"],\"yaxis\":\"y\",\"type\":\"scatter\"},{\"fillpattern\":{\"shape\":\"\"},\"hovertemplate\":\"day=%{y}<br>temp=24.0<br>rain=%{x}<extra></extra>\",\"legendgroup\":\"wed\",\"line\":{\"color\":\"#19d3f3\"},\"marker\":{\"symbol\":\"circle\"},\"mode\":\"lines\",\"name\":\"wed\",\"orientation\":\"h\",\"showlegend\":false,\"stackgroup\":\"1\",\"x\":[0.0],\"xaxis\":\"x\",\"y\":[\"wed\"],\"yaxis\":\"y\",\"type\":\"scatter\"},{\"fillpattern\":{\"shape\":\"\"},\"hovertemplate\":\"day=%{y}<br>temp=21.8<br>rain=%{x}<extra></extra>\",\"legendgroup\":\"wed\",\"line\":{\"color\":\"#19d3f3\"},\"marker\":{\"symbol\":\"circle\"},\"mode\":\"lines\",\"name\":\"wed\",\"orientation\":\"h\",\"showlegend\":false,\"stackgroup\":\"1\",\"x\":[0.0],\"xaxis\":\"x\",\"y\":[\"wed\"],\"yaxis\":\"y\",\"type\":\"scatter\"},{\"fillpattern\":{\"shape\":\"\"},\"hovertemplate\":\"day=%{y}<br>temp=12.6<br>rain=%{x}<extra></extra>\",\"legendgroup\":\"wed\",\"line\":{\"color\":\"#19d3f3\"},\"marker\":{\"symbol\":\"circle\"},\"mode\":\"lines\",\"name\":\"wed\",\"orientation\":\"h\",\"showlegend\":false,\"stackgroup\":\"1\",\"x\":[0.2],\"xaxis\":\"x\",\"y\":[\"wed\"],\"yaxis\":\"y\",\"type\":\"scatter\"},{\"fillpattern\":{\"shape\":\"\"},\"hovertemplate\":\"day=%{y}<br>temp=19.7<br>rain=%{x}<extra></extra>\",\"legendgroup\":\"wed\",\"line\":{\"color\":\"#19d3f3\"},\"marker\":{\"symbol\":\"circle\"},\"mode\":\"lines\",\"name\":\"wed\",\"orientation\":\"h\",\"showlegend\":false,\"stackgroup\":\"1\",\"x\":[0.0],\"xaxis\":\"x\",\"y\":[\"wed\"],\"yaxis\":\"y\",\"type\":\"scatter\"},{\"fillpattern\":{\"shape\":\"\"},\"hovertemplate\":\"day=%{y}<br>temp=18.5<br>rain=%{x}<extra></extra>\",\"legendgroup\":\"wed\",\"line\":{\"color\":\"#19d3f3\"},\"marker\":{\"symbol\":\"circle\"},\"mode\":\"lines\",\"name\":\"wed\",\"orientation\":\"h\",\"showlegend\":false,\"stackgroup\":\"1\",\"x\":[0.0],\"xaxis\":\"x\",\"y\":[\"wed\"],\"yaxis\":\"y\",\"type\":\"scatter\"},{\"fillpattern\":{\"shape\":\"\"},\"hovertemplate\":\"day=%{y}<br>temp=28.2<br>rain=%{x}<extra></extra>\",\"legendgroup\":\"wed\",\"line\":{\"color\":\"#19d3f3\"},\"marker\":{\"symbol\":\"circle\"},\"mode\":\"lines\",\"name\":\"wed\",\"orientation\":\"h\",\"showlegend\":false,\"stackgroup\":\"1\",\"x\":[0.0],\"xaxis\":\"x\",\"y\":[\"wed\"],\"yaxis\":\"y\",\"type\":\"scatter\"},{\"fillpattern\":{\"shape\":\"\"},\"hovertemplate\":\"day=%{y}<br>temp=28.0<br>rain=%{x}<extra></extra>\",\"legendgroup\":\"wed\",\"line\":{\"color\":\"#19d3f3\"},\"marker\":{\"symbol\":\"circle\"},\"mode\":\"lines\",\"name\":\"wed\",\"orientation\":\"h\",\"showlegend\":false,\"stackgroup\":\"1\",\"x\":[0.0,0.0],\"xaxis\":\"x\",\"y\":[\"wed\",\"wed\"],\"yaxis\":\"y\",\"type\":\"scatter\"},{\"fillpattern\":{\"shape\":\"\"},\"hovertemplate\":\"day=%{y}<br>temp=19.9<br>rain=%{x}<extra></extra>\",\"legendgroup\":\"wed\",\"line\":{\"color\":\"#19d3f3\"},\"marker\":{\"symbol\":\"circle\"},\"mode\":\"lines\",\"name\":\"wed\",\"orientation\":\"h\",\"showlegend\":false,\"stackgroup\":\"1\",\"x\":[0.0],\"xaxis\":\"x\",\"y\":[\"wed\"],\"yaxis\":\"y\",\"type\":\"scatter\"},{\"fillpattern\":{\"shape\":\"\"},\"hovertemplate\":\"day=%{y}<br>temp=26.2<br>rain=%{x}<extra></extra>\",\"legendgroup\":\"wed\",\"line\":{\"color\":\"#19d3f3\"},\"marker\":{\"symbol\":\"circle\"},\"mode\":\"lines\",\"name\":\"wed\",\"orientation\":\"h\",\"showlegend\":false,\"stackgroup\":\"1\",\"x\":[0.0],\"xaxis\":\"x\",\"y\":[\"wed\"],\"yaxis\":\"y\",\"type\":\"scatter\"},{\"fillpattern\":{\"shape\":\"\"},\"hovertemplate\":\"day=%{y}<br>temp=30.8<br>rain=%{x}<extra></extra>\",\"legendgroup\":\"wed\",\"line\":{\"color\":\"#19d3f3\"},\"marker\":{\"symbol\":\"circle\"},\"mode\":\"lines\",\"name\":\"wed\",\"orientation\":\"h\",\"showlegend\":false,\"stackgroup\":\"1\",\"x\":[0.0],\"xaxis\":\"x\",\"y\":[\"wed\"],\"yaxis\":\"y\",\"type\":\"scatter\"},{\"fillpattern\":{\"shape\":\"\"},\"hovertemplate\":\"day=%{y}<br>temp=8.9<br>rain=%{x}<extra></extra>\",\"legendgroup\":\"wed\",\"line\":{\"color\":\"#19d3f3\"},\"marker\":{\"symbol\":\"circle\"},\"mode\":\"lines\",\"name\":\"wed\",\"orientation\":\"h\",\"showlegend\":false,\"stackgroup\":\"1\",\"x\":[0.0],\"xaxis\":\"x\",\"y\":[\"wed\"],\"yaxis\":\"y\",\"type\":\"scatter\"},{\"fillpattern\":{\"shape\":\"\"},\"hovertemplate\":\"day=%{y}<br>temp=10.5<br>rain=%{x}<extra></extra>\",\"legendgroup\":\"wed\",\"line\":{\"color\":\"#19d3f3\"},\"marker\":{\"symbol\":\"circle\"},\"mode\":\"lines\",\"name\":\"wed\",\"orientation\":\"h\",\"showlegend\":false,\"stackgroup\":\"1\",\"x\":[0.0],\"xaxis\":\"x\",\"y\":[\"wed\"],\"yaxis\":\"y\",\"type\":\"scatter\"},{\"fillpattern\":{\"shape\":\"\"},\"hovertemplate\":\"day=%{y}<br>temp=29.2<br>rain=%{x}<extra></extra>\",\"legendgroup\":\"wed\",\"line\":{\"color\":\"#19d3f3\"},\"marker\":{\"symbol\":\"circle\"},\"mode\":\"lines\",\"name\":\"wed\",\"orientation\":\"h\",\"showlegend\":false,\"stackgroup\":\"1\",\"x\":[0.0],\"xaxis\":\"x\",\"y\":[\"wed\"],\"yaxis\":\"y\",\"type\":\"scatter\"},{\"fillpattern\":{\"shape\":\"\"},\"hovertemplate\":\"day=%{y}<br>temp=28.9<br>rain=%{x}<extra></extra>\",\"legendgroup\":\"wed\",\"line\":{\"color\":\"#19d3f3\"},\"marker\":{\"symbol\":\"circle\"},\"mode\":\"lines\",\"name\":\"wed\",\"orientation\":\"h\",\"showlegend\":false,\"stackgroup\":\"1\",\"x\":[0.0],\"xaxis\":\"x\",\"y\":[\"wed\"],\"yaxis\":\"y\",\"type\":\"scatter\"},{\"fillpattern\":{\"shape\":\"\"},\"hovertemplate\":\"day=%{y}<br>temp=22.8<br>rain=%{x}<extra></extra>\",\"legendgroup\":\"thu\",\"line\":{\"color\":\"#FF6692\"},\"marker\":{\"symbol\":\"circle\"},\"mode\":\"lines\",\"name\":\"thu\",\"orientation\":\"h\",\"showlegend\":true,\"stackgroup\":\"1\",\"x\":[0.0],\"xaxis\":\"x\",\"y\":[\"thu\"],\"yaxis\":\"y\",\"type\":\"scatter\"},{\"fillpattern\":{\"shape\":\"\"},\"hovertemplate\":\"day=%{y}<br>temp=21.3<br>rain=%{x}<extra></extra>\",\"legendgroup\":\"thu\",\"line\":{\"color\":\"#FF6692\"},\"marker\":{\"symbol\":\"circle\"},\"mode\":\"lines\",\"name\":\"thu\",\"orientation\":\"h\",\"showlegend\":false,\"stackgroup\":\"1\",\"x\":[0.0],\"xaxis\":\"x\",\"y\":[\"thu\"],\"yaxis\":\"y\",\"type\":\"scatter\"},{\"fillpattern\":{\"shape\":\"\"},\"hovertemplate\":\"day=%{y}<br>temp=26.4<br>rain=%{x}<extra></extra>\",\"legendgroup\":\"thu\",\"line\":{\"color\":\"#FF6692\"},\"marker\":{\"symbol\":\"circle\"},\"mode\":\"lines\",\"name\":\"thu\",\"orientation\":\"h\",\"showlegend\":false,\"stackgroup\":\"1\",\"x\":[0.0],\"xaxis\":\"x\",\"y\":[\"thu\"],\"yaxis\":\"y\",\"type\":\"scatter\"},{\"fillpattern\":{\"shape\":\"\"},\"hovertemplate\":\"day=%{y}<br>temp=23.7<br>rain=%{x}<extra></extra>\",\"legendgroup\":\"thu\",\"line\":{\"color\":\"#FF6692\"},\"marker\":{\"symbol\":\"circle\"},\"mode\":\"lines\",\"name\":\"thu\",\"orientation\":\"h\",\"showlegend\":false,\"stackgroup\":\"1\",\"x\":[0.0],\"xaxis\":\"x\",\"y\":[\"thu\"],\"yaxis\":\"y\",\"type\":\"scatter\"},{\"fillpattern\":{\"shape\":\"\"},\"hovertemplate\":\"day=%{y}<br>temp=19.4<br>rain=%{x}<extra></extra>\",\"legendgroup\":\"thu\",\"line\":{\"color\":\"#FF6692\"},\"marker\":{\"symbol\":\"circle\"},\"mode\":\"lines\",\"name\":\"thu\",\"orientation\":\"h\",\"showlegend\":false,\"stackgroup\":\"1\",\"x\":[0.0],\"xaxis\":\"x\",\"y\":[\"thu\"],\"yaxis\":\"y\",\"type\":\"scatter\"},{\"fillpattern\":{\"shape\":\"\"},\"hovertemplate\":\"day=%{y}<br>temp=30.2<br>rain=%{x}<extra></extra>\",\"legendgroup\":\"thu\",\"line\":{\"color\":\"#FF6692\"},\"marker\":{\"symbol\":\"circle\"},\"mode\":\"lines\",\"name\":\"thu\",\"orientation\":\"h\",\"showlegend\":false,\"stackgroup\":\"1\",\"x\":[0.0,0.0],\"xaxis\":\"x\",\"y\":[\"thu\",\"thu\"],\"yaxis\":\"y\",\"type\":\"scatter\"},{\"fillpattern\":{\"shape\":\"\"},\"hovertemplate\":\"day=%{y}<br>temp=25.4<br>rain=%{x}<extra></extra>\",\"legendgroup\":\"thu\",\"line\":{\"color\":\"#FF6692\"},\"marker\":{\"symbol\":\"circle\"},\"mode\":\"lines\",\"name\":\"thu\",\"orientation\":\"h\",\"showlegend\":false,\"stackgroup\":\"1\",\"x\":[0.0],\"xaxis\":\"x\",\"y\":[\"thu\"],\"yaxis\":\"y\",\"type\":\"scatter\"},{\"fillpattern\":{\"shape\":\"\"},\"hovertemplate\":\"day=%{y}<br>temp=18.2<br>rain=%{x}<extra></extra>\",\"legendgroup\":\"thu\",\"line\":{\"color\":\"#FF6692\"},\"marker\":{\"symbol\":\"circle\"},\"mode\":\"lines\",\"name\":\"thu\",\"orientation\":\"h\",\"showlegend\":false,\"stackgroup\":\"1\",\"x\":[0.0],\"xaxis\":\"x\",\"y\":[\"thu\"],\"yaxis\":\"y\",\"type\":\"scatter\"},{\"fillpattern\":{\"shape\":\"\"},\"hovertemplate\":\"day=%{y}<br>temp=16.6<br>rain=%{x}<extra></extra>\",\"legendgroup\":\"thu\",\"line\":{\"color\":\"#FF6692\"},\"marker\":{\"symbol\":\"circle\"},\"mode\":\"lines\",\"name\":\"thu\",\"orientation\":\"h\",\"showlegend\":false,\"stackgroup\":\"1\",\"x\":[0.0],\"xaxis\":\"x\",\"y\":[\"thu\"],\"yaxis\":\"y\",\"type\":\"scatter\"},{\"fillpattern\":{\"shape\":\"\"},\"hovertemplate\":\"day=%{y}<br>temp=19.6<br>rain=%{x}<extra></extra>\",\"legendgroup\":\"thu\",\"line\":{\"color\":\"#FF6692\"},\"marker\":{\"symbol\":\"circle\"},\"mode\":\"lines\",\"name\":\"thu\",\"orientation\":\"h\",\"showlegend\":false,\"stackgroup\":\"1\",\"x\":[0.0],\"xaxis\":\"x\",\"y\":[\"thu\"],\"yaxis\":\"y\",\"type\":\"scatter\"},{\"fillpattern\":{\"shape\":\"\"},\"hovertemplate\":\"day=%{y}<br>temp=12.9<br>rain=%{x}<extra></extra>\",\"legendgroup\":\"thu\",\"line\":{\"color\":\"#FF6692\"},\"marker\":{\"symbol\":\"circle\"},\"mode\":\"lines\",\"name\":\"thu\",\"orientation\":\"h\",\"showlegend\":false,\"stackgroup\":\"1\",\"x\":[0.0],\"xaxis\":\"x\",\"y\":[\"thu\"],\"yaxis\":\"y\",\"type\":\"scatter\"},{\"fillpattern\":{\"shape\":\"\"},\"hovertemplate\":\"day=%{y}<br>temp=20.8<br>rain=%{x}<extra></extra>\",\"legendgroup\":\"thu\",\"line\":{\"color\":\"#FF6692\"},\"marker\":{\"symbol\":\"circle\"},\"mode\":\"lines\",\"name\":\"thu\",\"orientation\":\"h\",\"showlegend\":false,\"stackgroup\":\"1\",\"x\":[0.0],\"xaxis\":\"x\",\"y\":[\"thu\"],\"yaxis\":\"y\",\"type\":\"scatter\"},{\"fillpattern\":{\"shape\":\"\"},\"hovertemplate\":\"day=%{y}<br>temp=21.5<br>rain=%{x}<extra></extra>\",\"legendgroup\":\"thu\",\"line\":{\"color\":\"#FF6692\"},\"marker\":{\"symbol\":\"circle\"},\"mode\":\"lines\",\"name\":\"thu\",\"orientation\":\"h\",\"showlegend\":false,\"stackgroup\":\"1\",\"x\":[0.0,0.0],\"xaxis\":\"x\",\"y\":[\"thu\",\"thu\"],\"yaxis\":\"y\",\"type\":\"scatter\"},{\"fillpattern\":{\"shape\":\"\"},\"hovertemplate\":\"day=%{y}<br>temp=20.4<br>rain=%{x}<extra></extra>\",\"legendgroup\":\"thu\",\"line\":{\"color\":\"#FF6692\"},\"marker\":{\"symbol\":\"circle\"},\"mode\":\"lines\",\"name\":\"thu\",\"orientation\":\"h\",\"showlegend\":false,\"stackgroup\":\"1\",\"x\":[0.0,0.0],\"xaxis\":\"x\",\"y\":[\"thu\",\"thu\"],\"yaxis\":\"y\",\"type\":\"scatter\"},{\"fillpattern\":{\"shape\":\"\"},\"hovertemplate\":\"day=%{y}<br>temp=17.6<br>rain=%{x}<extra></extra>\",\"legendgroup\":\"thu\",\"line\":{\"color\":\"#FF6692\"},\"marker\":{\"symbol\":\"circle\"},\"mode\":\"lines\",\"name\":\"thu\",\"orientation\":\"h\",\"showlegend\":false,\"stackgroup\":\"1\",\"x\":[0.0,0.0],\"xaxis\":\"x\",\"y\":[\"thu\",\"thu\"],\"yaxis\":\"y\",\"type\":\"scatter\"},{\"fillpattern\":{\"shape\":\"\"},\"hovertemplate\":\"day=%{y}<br>temp=27.7<br>rain=%{x}<extra></extra>\",\"legendgroup\":\"thu\",\"line\":{\"color\":\"#FF6692\"},\"marker\":{\"symbol\":\"circle\"},\"mode\":\"lines\",\"name\":\"thu\",\"orientation\":\"h\",\"showlegend\":false,\"stackgroup\":\"1\",\"x\":[0.0],\"xaxis\":\"x\",\"y\":[\"thu\"],\"yaxis\":\"y\",\"type\":\"scatter\"},{\"fillpattern\":{\"shape\":\"\"},\"hovertemplate\":\"day=%{y}<br>temp=18.8<br>rain=%{x}<extra></extra>\",\"legendgroup\":\"thu\",\"line\":{\"color\":\"#FF6692\"},\"marker\":{\"symbol\":\"circle\"},\"mode\":\"lines\",\"name\":\"thu\",\"orientation\":\"h\",\"showlegend\":false,\"stackgroup\":\"1\",\"x\":[0.0],\"xaxis\":\"x\",\"y\":[\"thu\"],\"yaxis\":\"y\",\"type\":\"scatter\"},{\"fillpattern\":{\"shape\":\"\"},\"hovertemplate\":\"day=%{y}<br>temp=18.6<br>rain=%{x}<extra></extra>\",\"legendgroup\":\"thu\",\"line\":{\"color\":\"#FF6692\"},\"marker\":{\"symbol\":\"circle\"},\"mode\":\"lines\",\"name\":\"thu\",\"orientation\":\"h\",\"showlegend\":false,\"stackgroup\":\"1\",\"x\":[0.0,0.0],\"xaxis\":\"x\",\"y\":[\"thu\",\"thu\"],\"yaxis\":\"y\",\"type\":\"scatter\"},{\"fillpattern\":{\"shape\":\"\"},\"hovertemplate\":\"day=%{y}<br>temp=6.7<br>rain=%{x}<extra></extra>\",\"legendgroup\":\"thu\",\"line\":{\"color\":\"#FF6692\"},\"marker\":{\"symbol\":\"circle\"},\"mode\":\"lines\",\"name\":\"thu\",\"orientation\":\"h\",\"showlegend\":false,\"stackgroup\":\"1\",\"x\":[0.0],\"xaxis\":\"x\",\"y\":[\"thu\"],\"yaxis\":\"y\",\"type\":\"scatter\"},{\"fillpattern\":{\"shape\":\"\"},\"hovertemplate\":\"day=%{y}<br>temp=21.6<br>rain=%{x}<extra></extra>\",\"legendgroup\":\"thu\",\"line\":{\"color\":\"#FF6692\"},\"marker\":{\"symbol\":\"circle\"},\"mode\":\"lines\",\"name\":\"thu\",\"orientation\":\"h\",\"showlegend\":false,\"stackgroup\":\"1\",\"x\":[0.0,0.0],\"xaxis\":\"x\",\"y\":[\"thu\",\"thu\"],\"yaxis\":\"y\",\"type\":\"scatter\"},{\"fillpattern\":{\"shape\":\"\"},\"hovertemplate\":\"day=%{y}<br>temp=20.2<br>rain=%{x}<extra></extra>\",\"legendgroup\":\"thu\",\"line\":{\"color\":\"#FF6692\"},\"marker\":{\"symbol\":\"circle\"},\"mode\":\"lines\",\"name\":\"thu\",\"orientation\":\"h\",\"showlegend\":false,\"stackgroup\":\"1\",\"x\":[0.0],\"xaxis\":\"x\",\"y\":[\"thu\"],\"yaxis\":\"y\",\"type\":\"scatter\"},{\"fillpattern\":{\"shape\":\"\"},\"hovertemplate\":\"day=%{y}<br>temp=22.4<br>rain=%{x}<extra></extra>\",\"legendgroup\":\"thu\",\"line\":{\"color\":\"#FF6692\"},\"marker\":{\"symbol\":\"circle\"},\"mode\":\"lines\",\"name\":\"thu\",\"orientation\":\"h\",\"showlegend\":false,\"stackgroup\":\"1\",\"x\":[0.0],\"xaxis\":\"x\",\"y\":[\"thu\"],\"yaxis\":\"y\",\"type\":\"scatter\"},{\"fillpattern\":{\"shape\":\"\"},\"hovertemplate\":\"day=%{y}<br>temp=17.4<br>rain=%{x}<extra></extra>\",\"legendgroup\":\"thu\",\"line\":{\"color\":\"#FF6692\"},\"marker\":{\"symbol\":\"circle\"},\"mode\":\"lines\",\"name\":\"thu\",\"orientation\":\"h\",\"showlegend\":false,\"stackgroup\":\"1\",\"x\":[0.0],\"xaxis\":\"x\",\"y\":[\"thu\"],\"yaxis\":\"y\",\"type\":\"scatter\"},{\"fillpattern\":{\"shape\":\"\"},\"hovertemplate\":\"day=%{y}<br>temp=11.6<br>rain=%{x}<extra></extra>\",\"legendgroup\":\"thu\",\"line\":{\"color\":\"#FF6692\"},\"marker\":{\"symbol\":\"circle\"},\"mode\":\"lines\",\"name\":\"thu\",\"orientation\":\"h\",\"showlegend\":false,\"stackgroup\":\"1\",\"x\":[0.0],\"xaxis\":\"x\",\"y\":[\"thu\"],\"yaxis\":\"y\",\"type\":\"scatter\"},{\"fillpattern\":{\"shape\":\"\"},\"hovertemplate\":\"day=%{y}<br>temp=5.3<br>rain=%{x}<extra></extra>\",\"legendgroup\":\"thu\",\"line\":{\"color\":\"#FF6692\"},\"marker\":{\"symbol\":\"circle\"},\"mode\":\"lines\",\"name\":\"thu\",\"orientation\":\"h\",\"showlegend\":false,\"stackgroup\":\"1\",\"x\":[0.0],\"xaxis\":\"x\",\"y\":[\"thu\"],\"yaxis\":\"y\",\"type\":\"scatter\"},{\"fillpattern\":{\"shape\":\"\"},\"hovertemplate\":\"day=%{y}<br>temp=21.4<br>rain=%{x}<extra></extra>\",\"legendgroup\":\"thu\",\"line\":{\"color\":\"#FF6692\"},\"marker\":{\"symbol\":\"circle\"},\"mode\":\"lines\",\"name\":\"thu\",\"orientation\":\"h\",\"showlegend\":false,\"stackgroup\":\"1\",\"x\":[0.0],\"xaxis\":\"x\",\"y\":[\"thu\"],\"yaxis\":\"y\",\"type\":\"scatter\"},{\"fillpattern\":{\"shape\":\"\"},\"hovertemplate\":\"day=%{y}<br>temp=20.3<br>rain=%{x}<extra></extra>\",\"legendgroup\":\"thu\",\"line\":{\"color\":\"#FF6692\"},\"marker\":{\"symbol\":\"circle\"},\"mode\":\"lines\",\"name\":\"thu\",\"orientation\":\"h\",\"showlegend\":false,\"stackgroup\":\"1\",\"x\":[0.0,0.0],\"xaxis\":\"x\",\"y\":[\"thu\",\"thu\"],\"yaxis\":\"y\",\"type\":\"scatter\"},{\"fillpattern\":{\"shape\":\"\"},\"hovertemplate\":\"day=%{y}<br>temp=13.7<br>rain=%{x}<extra></extra>\",\"legendgroup\":\"thu\",\"line\":{\"color\":\"#FF6692\"},\"marker\":{\"symbol\":\"circle\"},\"mode\":\"lines\",\"name\":\"thu\",\"orientation\":\"h\",\"showlegend\":false,\"stackgroup\":\"1\",\"x\":[0.0],\"xaxis\":\"x\",\"y\":[\"thu\"],\"yaxis\":\"y\",\"type\":\"scatter\"},{\"fillpattern\":{\"shape\":\"\"},\"hovertemplate\":\"day=%{y}<br>temp=18.9<br>rain=%{x}<extra></extra>\",\"legendgroup\":\"thu\",\"line\":{\"color\":\"#FF6692\"},\"marker\":{\"symbol\":\"circle\"},\"mode\":\"lines\",\"name\":\"thu\",\"orientation\":\"h\",\"showlegend\":false,\"stackgroup\":\"1\",\"x\":[0.0,0.0],\"xaxis\":\"x\",\"y\":[\"thu\",\"thu\"],\"yaxis\":\"y\",\"type\":\"scatter\"},{\"fillpattern\":{\"shape\":\"\"},\"hovertemplate\":\"day=%{y}<br>temp=27.4<br>rain=%{x}<extra></extra>\",\"legendgroup\":\"thu\",\"line\":{\"color\":\"#FF6692\"},\"marker\":{\"symbol\":\"circle\"},\"mode\":\"lines\",\"name\":\"thu\",\"orientation\":\"h\",\"showlegend\":false,\"stackgroup\":\"1\",\"x\":[0.0],\"xaxis\":\"x\",\"y\":[\"thu\"],\"yaxis\":\"y\",\"type\":\"scatter\"},{\"fillpattern\":{\"shape\":\"\"},\"hovertemplate\":\"day=%{y}<br>temp=24.2<br>rain=%{x}<extra></extra>\",\"legendgroup\":\"thu\",\"line\":{\"color\":\"#FF6692\"},\"marker\":{\"symbol\":\"circle\"},\"mode\":\"lines\",\"name\":\"thu\",\"orientation\":\"h\",\"showlegend\":false,\"stackgroup\":\"1\",\"x\":[0.0],\"xaxis\":\"x\",\"y\":[\"thu\"],\"yaxis\":\"y\",\"type\":\"scatter\"},{\"fillpattern\":{\"shape\":\"\"},\"hovertemplate\":\"day=%{y}<br>temp=23.2<br>rain=%{x}<extra></extra>\",\"legendgroup\":\"thu\",\"line\":{\"color\":\"#FF6692\"},\"marker\":{\"symbol\":\"circle\"},\"mode\":\"lines\",\"name\":\"thu\",\"orientation\":\"h\",\"showlegend\":false,\"stackgroup\":\"1\",\"x\":[0.0],\"xaxis\":\"x\",\"y\":[\"thu\"],\"yaxis\":\"y\",\"type\":\"scatter\"},{\"fillpattern\":{\"shape\":\"\"},\"hovertemplate\":\"day=%{y}<br>temp=20.5<br>rain=%{x}<extra></extra>\",\"legendgroup\":\"thu\",\"line\":{\"color\":\"#FF6692\"},\"marker\":{\"symbol\":\"circle\"},\"mode\":\"lines\",\"name\":\"thu\",\"orientation\":\"h\",\"showlegend\":false,\"stackgroup\":\"1\",\"x\":[0.0],\"xaxis\":\"x\",\"y\":[\"thu\"],\"yaxis\":\"y\",\"type\":\"scatter\"},{\"fillpattern\":{\"shape\":\"\"},\"hovertemplate\":\"day=%{y}<br>temp=20.7<br>rain=%{x}<extra></extra>\",\"legendgroup\":\"thu\",\"line\":{\"color\":\"#FF6692\"},\"marker\":{\"symbol\":\"circle\"},\"mode\":\"lines\",\"name\":\"thu\",\"orientation\":\"h\",\"showlegend\":false,\"stackgroup\":\"1\",\"x\":[0.0],\"xaxis\":\"x\",\"y\":[\"thu\"],\"yaxis\":\"y\",\"type\":\"scatter\"},{\"fillpattern\":{\"shape\":\"\"},\"hovertemplate\":\"day=%{y}<br>temp=5.8<br>rain=%{x}<extra></extra>\",\"legendgroup\":\"thu\",\"line\":{\"color\":\"#FF6692\"},\"marker\":{\"symbol\":\"circle\"},\"mode\":\"lines\",\"name\":\"thu\",\"orientation\":\"h\",\"showlegend\":false,\"stackgroup\":\"1\",\"x\":[0.0,0.0],\"xaxis\":\"x\",\"y\":[\"thu\",\"thu\"],\"yaxis\":\"y\",\"type\":\"scatter\"},{\"fillpattern\":{\"shape\":\"\"},\"hovertemplate\":\"day=%{y}<br>temp=19.2<br>rain=%{x}<extra></extra>\",\"legendgroup\":\"thu\",\"line\":{\"color\":\"#FF6692\"},\"marker\":{\"symbol\":\"circle\"},\"mode\":\"lines\",\"name\":\"thu\",\"orientation\":\"h\",\"showlegend\":false,\"stackgroup\":\"1\",\"x\":[0.0],\"xaxis\":\"x\",\"y\":[\"thu\"],\"yaxis\":\"y\",\"type\":\"scatter\"},{\"fillpattern\":{\"shape\":\"\"},\"hovertemplate\":\"day=%{y}<br>temp=23.9<br>rain=%{x}<extra></extra>\",\"legendgroup\":\"thu\",\"line\":{\"color\":\"#FF6692\"},\"marker\":{\"symbol\":\"circle\"},\"mode\":\"lines\",\"name\":\"thu\",\"orientation\":\"h\",\"showlegend\":false,\"stackgroup\":\"1\",\"x\":[0.0],\"xaxis\":\"x\",\"y\":[\"thu\"],\"yaxis\":\"y\",\"type\":\"scatter\"},{\"fillpattern\":{\"shape\":\"\"},\"hovertemplate\":\"day=%{y}<br>temp=16.8<br>rain=%{x}<extra></extra>\",\"legendgroup\":\"thu\",\"line\":{\"color\":\"#FF6692\"},\"marker\":{\"symbol\":\"circle\"},\"mode\":\"lines\",\"name\":\"thu\",\"orientation\":\"h\",\"showlegend\":false,\"stackgroup\":\"1\",\"x\":[0.0,0.0,0.0],\"xaxis\":\"x\",\"y\":[\"thu\",\"thu\",\"thu\"],\"yaxis\":\"y\",\"type\":\"scatter\"},{\"fillpattern\":{\"shape\":\"\"},\"hovertemplate\":\"day=%{y}<br>temp=13.3<br>rain=%{x}<extra></extra>\",\"legendgroup\":\"thu\",\"line\":{\"color\":\"#FF6692\"},\"marker\":{\"symbol\":\"circle\"},\"mode\":\"lines\",\"name\":\"thu\",\"orientation\":\"h\",\"showlegend\":false,\"stackgroup\":\"1\",\"x\":[0.0],\"xaxis\":\"x\",\"y\":[\"thu\"],\"yaxis\":\"y\",\"type\":\"scatter\"},{\"fillpattern\":{\"shape\":\"\"},\"hovertemplate\":\"day=%{y}<br>temp=22.1<br>rain=%{x}<extra></extra>\",\"legendgroup\":\"thu\",\"line\":{\"color\":\"#FF6692\"},\"marker\":{\"symbol\":\"circle\"},\"mode\":\"lines\",\"name\":\"thu\",\"orientation\":\"h\",\"showlegend\":false,\"stackgroup\":\"1\",\"x\":[0.0],\"xaxis\":\"x\",\"y\":[\"thu\"],\"yaxis\":\"y\",\"type\":\"scatter\"},{\"fillpattern\":{\"shape\":\"\"},\"hovertemplate\":\"day=%{y}<br>temp=5.1<br>rain=%{x}<extra></extra>\",\"legendgroup\":\"thu\",\"line\":{\"color\":\"#FF6692\"},\"marker\":{\"symbol\":\"circle\"},\"mode\":\"lines\",\"name\":\"thu\",\"orientation\":\"h\",\"showlegend\":false,\"stackgroup\":\"1\",\"x\":[0.0],\"xaxis\":\"x\",\"y\":[\"thu\"],\"yaxis\":\"y\",\"type\":\"scatter\"},{\"fillpattern\":{\"shape\":\"\"},\"hovertemplate\":\"day=%{y}<br>temp=16.2<br>rain=%{x}<extra></extra>\",\"legendgroup\":\"thu\",\"line\":{\"color\":\"#FF6692\"},\"marker\":{\"symbol\":\"circle\"},\"mode\":\"lines\",\"name\":\"thu\",\"orientation\":\"h\",\"showlegend\":false,\"stackgroup\":\"1\",\"x\":[0.0],\"xaxis\":\"x\",\"y\":[\"thu\"],\"yaxis\":\"y\",\"type\":\"scatter\"},{\"fillpattern\":{\"shape\":\"\"},\"hovertemplate\":\"day=%{y}<br>temp=22.3<br>rain=%{x}<extra></extra>\",\"legendgroup\":\"thu\",\"line\":{\"color\":\"#FF6692\"},\"marker\":{\"symbol\":\"circle\"},\"mode\":\"lines\",\"name\":\"thu\",\"orientation\":\"h\",\"showlegend\":false,\"stackgroup\":\"1\",\"x\":[0.0],\"xaxis\":\"x\",\"y\":[\"thu\"],\"yaxis\":\"y\",\"type\":\"scatter\"},{\"fillpattern\":{\"shape\":\"\"},\"hovertemplate\":\"day=%{y}<br>temp=22.7<br>rain=%{x}<extra></extra>\",\"legendgroup\":\"thu\",\"line\":{\"color\":\"#FF6692\"},\"marker\":{\"symbol\":\"circle\"},\"mode\":\"lines\",\"name\":\"thu\",\"orientation\":\"h\",\"showlegend\":false,\"stackgroup\":\"1\",\"x\":[0.0],\"xaxis\":\"x\",\"y\":[\"thu\"],\"yaxis\":\"y\",\"type\":\"scatter\"},{\"fillpattern\":{\"shape\":\"\"},\"hovertemplate\":\"day=%{y}<br>temp=8.7<br>rain=%{x}<extra></extra>\",\"legendgroup\":\"thu\",\"line\":{\"color\":\"#FF6692\"},\"marker\":{\"symbol\":\"circle\"},\"mode\":\"lines\",\"name\":\"thu\",\"orientation\":\"h\",\"showlegend\":false,\"stackgroup\":\"1\",\"x\":[0.0],\"xaxis\":\"x\",\"y\":[\"thu\"],\"yaxis\":\"y\",\"type\":\"scatter\"},{\"fillpattern\":{\"shape\":\"\"},\"hovertemplate\":\"day=%{y}<br>temp=27.5<br>rain=%{x}<extra></extra>\",\"legendgroup\":\"thu\",\"line\":{\"color\":\"#FF6692\"},\"marker\":{\"symbol\":\"circle\"},\"mode\":\"lines\",\"name\":\"thu\",\"orientation\":\"h\",\"showlegend\":false,\"stackgroup\":\"1\",\"x\":[0.0],\"xaxis\":\"x\",\"y\":[\"thu\"],\"yaxis\":\"y\",\"type\":\"scatter\"},{\"fillpattern\":{\"shape\":\"\"},\"hovertemplate\":\"day=%{y}<br>temp=26.2<br>rain=%{x}<extra></extra>\",\"legendgroup\":\"thu\",\"line\":{\"color\":\"#FF6692\"},\"marker\":{\"symbol\":\"circle\"},\"mode\":\"lines\",\"name\":\"thu\",\"orientation\":\"h\",\"showlegend\":false,\"stackgroup\":\"1\",\"x\":[0.0],\"xaxis\":\"x\",\"y\":[\"thu\"],\"yaxis\":\"y\",\"type\":\"scatter\"},{\"fillpattern\":{\"shape\":\"\"},\"hovertemplate\":\"day=%{y}<br>temp=27.2<br>rain=%{x}<extra></extra>\",\"legendgroup\":\"thu\",\"line\":{\"color\":\"#FF6692\"},\"marker\":{\"symbol\":\"circle\"},\"mode\":\"lines\",\"name\":\"thu\",\"orientation\":\"h\",\"showlegend\":false,\"stackgroup\":\"1\",\"x\":[0.0],\"xaxis\":\"x\",\"y\":[\"thu\"],\"yaxis\":\"y\",\"type\":\"scatter\"},{\"fillpattern\":{\"shape\":\"\"},\"hovertemplate\":\"day=%{y}<br>temp=32.4<br>rain=%{x}<extra></extra>\",\"legendgroup\":\"thu\",\"line\":{\"color\":\"#FF6692\"},\"marker\":{\"symbol\":\"circle\"},\"mode\":\"lines\",\"name\":\"thu\",\"orientation\":\"h\",\"showlegend\":false,\"stackgroup\":\"1\",\"x\":[0.0],\"xaxis\":\"x\",\"y\":[\"thu\"],\"yaxis\":\"y\",\"type\":\"scatter\"},{\"fillpattern\":{\"shape\":\"\"},\"hovertemplate\":\"day=%{y}<br>temp=26.7<br>rain=%{x}<extra></extra>\",\"legendgroup\":\"thu\",\"line\":{\"color\":\"#FF6692\"},\"marker\":{\"symbol\":\"circle\"},\"mode\":\"lines\",\"name\":\"thu\",\"orientation\":\"h\",\"showlegend\":false,\"stackgroup\":\"1\",\"x\":[0.0],\"xaxis\":\"x\",\"y\":[\"thu\"],\"yaxis\":\"y\",\"type\":\"scatter\"}],                        {\"template\":{\"data\":{\"histogram2dcontour\":[{\"type\":\"histogram2dcontour\",\"colorbar\":{\"outlinewidth\":0,\"ticks\":\"\"},\"colorscale\":[[0.0,\"#0d0887\"],[0.1111111111111111,\"#46039f\"],[0.2222222222222222,\"#7201a8\"],[0.3333333333333333,\"#9c179e\"],[0.4444444444444444,\"#bd3786\"],[0.5555555555555556,\"#d8576b\"],[0.6666666666666666,\"#ed7953\"],[0.7777777777777778,\"#fb9f3a\"],[0.8888888888888888,\"#fdca26\"],[1.0,\"#f0f921\"]]}],\"choropleth\":[{\"type\":\"choropleth\",\"colorbar\":{\"outlinewidth\":0,\"ticks\":\"\"}}],\"histogram2d\":[{\"type\":\"histogram2d\",\"colorbar\":{\"outlinewidth\":0,\"ticks\":\"\"},\"colorscale\":[[0.0,\"#0d0887\"],[0.1111111111111111,\"#46039f\"],[0.2222222222222222,\"#7201a8\"],[0.3333333333333333,\"#9c179e\"],[0.4444444444444444,\"#bd3786\"],[0.5555555555555556,\"#d8576b\"],[0.6666666666666666,\"#ed7953\"],[0.7777777777777778,\"#fb9f3a\"],[0.8888888888888888,\"#fdca26\"],[1.0,\"#f0f921\"]]}],\"heatmap\":[{\"type\":\"heatmap\",\"colorbar\":{\"outlinewidth\":0,\"ticks\":\"\"},\"colorscale\":[[0.0,\"#0d0887\"],[0.1111111111111111,\"#46039f\"],[0.2222222222222222,\"#7201a8\"],[0.3333333333333333,\"#9c179e\"],[0.4444444444444444,\"#bd3786\"],[0.5555555555555556,\"#d8576b\"],[0.6666666666666666,\"#ed7953\"],[0.7777777777777778,\"#fb9f3a\"],[0.8888888888888888,\"#fdca26\"],[1.0,\"#f0f921\"]]}],\"heatmapgl\":[{\"type\":\"heatmapgl\",\"colorbar\":{\"outlinewidth\":0,\"ticks\":\"\"},\"colorscale\":[[0.0,\"#0d0887\"],[0.1111111111111111,\"#46039f\"],[0.2222222222222222,\"#7201a8\"],[0.3333333333333333,\"#9c179e\"],[0.4444444444444444,\"#bd3786\"],[0.5555555555555556,\"#d8576b\"],[0.6666666666666666,\"#ed7953\"],[0.7777777777777778,\"#fb9f3a\"],[0.8888888888888888,\"#fdca26\"],[1.0,\"#f0f921\"]]}],\"contourcarpet\":[{\"type\":\"contourcarpet\",\"colorbar\":{\"outlinewidth\":0,\"ticks\":\"\"}}],\"contour\":[{\"type\":\"contour\",\"colorbar\":{\"outlinewidth\":0,\"ticks\":\"\"},\"colorscale\":[[0.0,\"#0d0887\"],[0.1111111111111111,\"#46039f\"],[0.2222222222222222,\"#7201a8\"],[0.3333333333333333,\"#9c179e\"],[0.4444444444444444,\"#bd3786\"],[0.5555555555555556,\"#d8576b\"],[0.6666666666666666,\"#ed7953\"],[0.7777777777777778,\"#fb9f3a\"],[0.8888888888888888,\"#fdca26\"],[1.0,\"#f0f921\"]]}],\"surface\":[{\"type\":\"surface\",\"colorbar\":{\"outlinewidth\":0,\"ticks\":\"\"},\"colorscale\":[[0.0,\"#0d0887\"],[0.1111111111111111,\"#46039f\"],[0.2222222222222222,\"#7201a8\"],[0.3333333333333333,\"#9c179e\"],[0.4444444444444444,\"#bd3786\"],[0.5555555555555556,\"#d8576b\"],[0.6666666666666666,\"#ed7953\"],[0.7777777777777778,\"#fb9f3a\"],[0.8888888888888888,\"#fdca26\"],[1.0,\"#f0f921\"]]}],\"mesh3d\":[{\"type\":\"mesh3d\",\"colorbar\":{\"outlinewidth\":0,\"ticks\":\"\"}}],\"scatter\":[{\"fillpattern\":{\"fillmode\":\"overlay\",\"size\":10,\"solidity\":0.2},\"type\":\"scatter\"}],\"parcoords\":[{\"type\":\"parcoords\",\"line\":{\"colorbar\":{\"outlinewidth\":0,\"ticks\":\"\"}}}],\"scatterpolargl\":[{\"type\":\"scatterpolargl\",\"marker\":{\"colorbar\":{\"outlinewidth\":0,\"ticks\":\"\"}}}],\"bar\":[{\"error_x\":{\"color\":\"#2a3f5f\"},\"error_y\":{\"color\":\"#2a3f5f\"},\"marker\":{\"line\":{\"color\":\"#E5ECF6\",\"width\":0.5},\"pattern\":{\"fillmode\":\"overlay\",\"size\":10,\"solidity\":0.2}},\"type\":\"bar\"}],\"scattergeo\":[{\"type\":\"scattergeo\",\"marker\":{\"colorbar\":{\"outlinewidth\":0,\"ticks\":\"\"}}}],\"scatterpolar\":[{\"type\":\"scatterpolar\",\"marker\":{\"colorbar\":{\"outlinewidth\":0,\"ticks\":\"\"}}}],\"histogram\":[{\"marker\":{\"pattern\":{\"fillmode\":\"overlay\",\"size\":10,\"solidity\":0.2}},\"type\":\"histogram\"}],\"scattergl\":[{\"type\":\"scattergl\",\"marker\":{\"colorbar\":{\"outlinewidth\":0,\"ticks\":\"\"}}}],\"scatter3d\":[{\"type\":\"scatter3d\",\"line\":{\"colorbar\":{\"outlinewidth\":0,\"ticks\":\"\"}},\"marker\":{\"colorbar\":{\"outlinewidth\":0,\"ticks\":\"\"}}}],\"scattermapbox\":[{\"type\":\"scattermapbox\",\"marker\":{\"colorbar\":{\"outlinewidth\":0,\"ticks\":\"\"}}}],\"scatterternary\":[{\"type\":\"scatterternary\",\"marker\":{\"colorbar\":{\"outlinewidth\":0,\"ticks\":\"\"}}}],\"scattercarpet\":[{\"type\":\"scattercarpet\",\"marker\":{\"colorbar\":{\"outlinewidth\":0,\"ticks\":\"\"}}}],\"carpet\":[{\"aaxis\":{\"endlinecolor\":\"#2a3f5f\",\"gridcolor\":\"white\",\"linecolor\":\"white\",\"minorgridcolor\":\"white\",\"startlinecolor\":\"#2a3f5f\"},\"baxis\":{\"endlinecolor\":\"#2a3f5f\",\"gridcolor\":\"white\",\"linecolor\":\"white\",\"minorgridcolor\":\"white\",\"startlinecolor\":\"#2a3f5f\"},\"type\":\"carpet\"}],\"table\":[{\"cells\":{\"fill\":{\"color\":\"#EBF0F8\"},\"line\":{\"color\":\"white\"}},\"header\":{\"fill\":{\"color\":\"#C8D4E3\"},\"line\":{\"color\":\"white\"}},\"type\":\"table\"}],\"barpolar\":[{\"marker\":{\"line\":{\"color\":\"#E5ECF6\",\"width\":0.5},\"pattern\":{\"fillmode\":\"overlay\",\"size\":10,\"solidity\":0.2}},\"type\":\"barpolar\"}],\"pie\":[{\"automargin\":true,\"type\":\"pie\"}]},\"layout\":{\"autotypenumbers\":\"strict\",\"colorway\":[\"#636efa\",\"#EF553B\",\"#00cc96\",\"#ab63fa\",\"#FFA15A\",\"#19d3f3\",\"#FF6692\",\"#B6E880\",\"#FF97FF\",\"#FECB52\"],\"font\":{\"color\":\"#2a3f5f\"},\"hovermode\":\"closest\",\"hoverlabel\":{\"align\":\"left\"},\"paper_bgcolor\":\"white\",\"plot_bgcolor\":\"#E5ECF6\",\"polar\":{\"bgcolor\":\"#E5ECF6\",\"angularaxis\":{\"gridcolor\":\"white\",\"linecolor\":\"white\",\"ticks\":\"\"},\"radialaxis\":{\"gridcolor\":\"white\",\"linecolor\":\"white\",\"ticks\":\"\"}},\"ternary\":{\"bgcolor\":\"#E5ECF6\",\"aaxis\":{\"gridcolor\":\"white\",\"linecolor\":\"white\",\"ticks\":\"\"},\"baxis\":{\"gridcolor\":\"white\",\"linecolor\":\"white\",\"ticks\":\"\"},\"caxis\":{\"gridcolor\":\"white\",\"linecolor\":\"white\",\"ticks\":\"\"}},\"coloraxis\":{\"colorbar\":{\"outlinewidth\":0,\"ticks\":\"\"}},\"colorscale\":{\"sequential\":[[0.0,\"#0d0887\"],[0.1111111111111111,\"#46039f\"],[0.2222222222222222,\"#7201a8\"],[0.3333333333333333,\"#9c179e\"],[0.4444444444444444,\"#bd3786\"],[0.5555555555555556,\"#d8576b\"],[0.6666666666666666,\"#ed7953\"],[0.7777777777777778,\"#fb9f3a\"],[0.8888888888888888,\"#fdca26\"],[1.0,\"#f0f921\"]],\"sequentialminus\":[[0.0,\"#0d0887\"],[0.1111111111111111,\"#46039f\"],[0.2222222222222222,\"#7201a8\"],[0.3333333333333333,\"#9c179e\"],[0.4444444444444444,\"#bd3786\"],[0.5555555555555556,\"#d8576b\"],[0.6666666666666666,\"#ed7953\"],[0.7777777777777778,\"#fb9f3a\"],[0.8888888888888888,\"#fdca26\"],[1.0,\"#f0f921\"]],\"diverging\":[[0,\"#8e0152\"],[0.1,\"#c51b7d\"],[0.2,\"#de77ae\"],[0.3,\"#f1b6da\"],[0.4,\"#fde0ef\"],[0.5,\"#f7f7f7\"],[0.6,\"#e6f5d0\"],[0.7,\"#b8e186\"],[0.8,\"#7fbc41\"],[0.9,\"#4d9221\"],[1,\"#276419\"]]},\"xaxis\":{\"gridcolor\":\"white\",\"linecolor\":\"white\",\"ticks\":\"\",\"title\":{\"standoff\":15},\"zerolinecolor\":\"white\",\"automargin\":true,\"zerolinewidth\":2},\"yaxis\":{\"gridcolor\":\"white\",\"linecolor\":\"white\",\"ticks\":\"\",\"title\":{\"standoff\":15},\"zerolinecolor\":\"white\",\"automargin\":true,\"zerolinewidth\":2},\"scene\":{\"xaxis\":{\"backgroundcolor\":\"#E5ECF6\",\"gridcolor\":\"white\",\"linecolor\":\"white\",\"showbackground\":true,\"ticks\":\"\",\"zerolinecolor\":\"white\",\"gridwidth\":2},\"yaxis\":{\"backgroundcolor\":\"#E5ECF6\",\"gridcolor\":\"white\",\"linecolor\":\"white\",\"showbackground\":true,\"ticks\":\"\",\"zerolinecolor\":\"white\",\"gridwidth\":2},\"zaxis\":{\"backgroundcolor\":\"#E5ECF6\",\"gridcolor\":\"white\",\"linecolor\":\"white\",\"showbackground\":true,\"ticks\":\"\",\"zerolinecolor\":\"white\",\"gridwidth\":2}},\"shapedefaults\":{\"line\":{\"color\":\"#2a3f5f\"}},\"annotationdefaults\":{\"arrowcolor\":\"#2a3f5f\",\"arrowhead\":0,\"arrowwidth\":1},\"geo\":{\"bgcolor\":\"white\",\"landcolor\":\"#E5ECF6\",\"subunitcolor\":\"white\",\"showland\":true,\"showlakes\":true,\"lakecolor\":\"white\"},\"title\":{\"x\":0.05},\"mapbox\":{\"style\":\"light\"}}},\"xaxis\":{\"anchor\":\"y\",\"domain\":[0.0,1.0],\"title\":{\"text\":\"rain\"}},\"yaxis\":{\"anchor\":\"x\",\"domain\":[0.0,1.0],\"title\":{\"text\":\"day\"},\"categoryorder\":\"array\",\"categoryarray\":[\"thu\",\"wed\",\"mon\",\"sun\",\"sat\",\"tue\",\"fri\"]},\"legend\":{\"title\":{\"text\":\"day\"},\"tracegroupgap\":0},\"margin\":{\"t\":60}},                        {\"responsive\": true}                    ).then(function(){\n",
       "                            \n",
       "var gd = document.getElementById('7701b6ce-7fd0-42d4-b54f-82cb8e2709e8');\n",
       "var x = new MutationObserver(function (mutations, observer) {{\n",
       "        var display = window.getComputedStyle(gd).display;\n",
       "        if (!display || display === 'none') {{\n",
       "            console.log([gd, 'removed!']);\n",
       "            Plotly.purge(gd);\n",
       "            observer.disconnect();\n",
       "        }}\n",
       "}});\n",
       "\n",
       "// Listen for the removal of the full notebook cells\n",
       "var notebookContainer = gd.closest('#notebook-container');\n",
       "if (notebookContainer) {{\n",
       "    x.observe(notebookContainer, {childList: true});\n",
       "}}\n",
       "\n",
       "// Listen for the clearing of the current output cell\n",
       "var outputEl = gd.closest('.output');\n",
       "if (outputEl) {{\n",
       "    x.observe(outputEl, {childList: true});\n",
       "}}\n",
       "\n",
       "                        })                };                });            </script>        </div>"
      ]
     },
     "metadata": {},
     "output_type": "display_data"
    }
   ],
   "source": [
    "fig = px.area(df, x=\"rain\", y=\"day\", color=\"day\", line_group=\"temp\")\n",
    "fig.show()"
   ]
  },
  {
   "cell_type": "code",
   "execution_count": 99,
   "id": "faf8bdfb",
   "metadata": {
    "scrolled": false
   },
   "outputs": [
    {
     "name": "stdout",
     "output_type": "stream",
     "text": [
      "R-squared: -0.11621634563060179\n"
     ]
    }
   ],
   "source": [
    "import pandas as pd\n",
    "from sklearn.ensemble import RandomForestRegressor\n",
    "from sklearn.model_selection import train_test_split\n",
    "from sklearn.metrics import r2_score\n",
    "\n",
    "\n",
    "# Had to add another read line for some reason it wouldn't work without me putting it here again\n",
    "data = pd.read_csv(\"forestfires.csv\")\n",
    "\n",
    "# Convert month names to month numbers\n",
    "month_map = {\n",
    "    'jan': 1, 'feb': 2, 'mar': 3, 'apr': 4, 'may': 5, 'jun': 6,\n",
    "    'jul': 7, 'aug': 8, 'sep': 9, 'oct': 10, 'nov': 11, 'dec': 12\n",
    "}\n",
    "data['month'] = data['month'].map(month_map)\n",
    "\n",
    "# Convert day names to day numbers\n",
    "day_map = {\n",
    "    'mon': 1, 'tue': 2, 'wed': 3, 'thu': 4, 'fri': 5, 'sat': 6, 'sun': 7\n",
    "}\n",
    "data['day'] = data['day'].map(day_map)\n",
    "\n",
    "# Prepare the data for regression\n",
    "X = data.iloc[:, :-1].values\n",
    "y = data.iloc[:, -1].values\n",
    "\n",
    "# Split the data into training and test sets\n",
    "X_train, X_test, y_train, y_test = train_test_split(X, y, test_size=0.2, random_state=0)\n",
    "\n",
    "# Train a random forest regression model\n",
    "model = RandomForestRegressor(n_estimators=100, random_state=0)\n",
    "model.fit(X_train, y_train)\n",
    "\n",
    "# Make predictions on the test set\n",
    "y_pred = model.predict(X_test)\n",
    "\n",
    "# Evaluate the model using R-squared\n",
    "score = r2_score(y_test, y_pred)\n",
    "print(\"R-squared:\", score)\n"
   ]
  },
  {
   "cell_type": "code",
   "execution_count": 88,
   "id": "ec9a800f",
   "metadata": {},
   "outputs": [
    {
     "data": {
      "image/png": "[encoded data removed]",
      "text/plain": [
       "<Figure size 640x480 with 1 Axes>"
      ]
     },
     "metadata": {},
     "output_type": "display_data"
    }
   ],
   "source": [
    "import matplotlib.pyplot as plt\n",
    "\n",
    "# Plot the results\n",
    "plt.scatter(X_test[:, 0], y_test, color='black')\n",
    "plt.plot(X_test[:, 0], y_pred)\n",
    "\n",
    "plt.title(\"Random Forest Regression\")\n",
    "plt.xlabel(\"Temperature (C)\")\n",
    "plt.ylabel(\"Area burned (ha)\")\n",
    "plt.show()\n"
   ]
  },
  {
   "cell_type": "code",
   "execution_count": 79,
   "id": "bed29d29",
   "metadata": {},
   "outputs": [
    {
     "data": {
      "text/html": [
       "<div>\n",
       "<style scoped>\n",
       "    .dataframe tbody tr th:only-of-type {\n",
       "        vertical-align: middle;\n",
       "    }\n",
       "\n",
       "    .dataframe tbody tr th {\n",
       "        vertical-align: top;\n",
       "    }\n",
       "\n",
       "    .dataframe thead th {\n",
       "        text-align: right;\n",
       "    }\n",
       "</style>\n",
       "<table border=\"1\" class=\"dataframe\">\n",
       "  <thead>\n",
       "    <tr style=\"text-align: right;\">\n",
       "      <th></th>\n",
       "      <th>temp</th>\n",
       "    </tr>\n",
       "    <tr>\n",
       "      <th>month</th>\n",
       "      <th></th>\n",
       "    </tr>\n",
       "  </thead>\n",
       "  <tbody>\n",
       "    <tr>\n",
       "      <th>1</th>\n",
       "      <td>5.250000</td>\n",
       "    </tr>\n",
       "    <tr>\n",
       "      <th>2</th>\n",
       "      <td>9.635000</td>\n",
       "    </tr>\n",
       "    <tr>\n",
       "      <th>3</th>\n",
       "      <td>13.083333</td>\n",
       "    </tr>\n",
       "    <tr>\n",
       "      <th>4</th>\n",
       "      <td>12.044444</td>\n",
       "    </tr>\n",
       "    <tr>\n",
       "      <th>5</th>\n",
       "      <td>14.650000</td>\n",
       "    </tr>\n",
       "    <tr>\n",
       "      <th>6</th>\n",
       "      <td>20.494118</td>\n",
       "    </tr>\n",
       "    <tr>\n",
       "      <th>7</th>\n",
       "      <td>22.109375</td>\n",
       "    </tr>\n",
       "    <tr>\n",
       "      <th>8</th>\n",
       "      <td>21.631522</td>\n",
       "    </tr>\n",
       "    <tr>\n",
       "      <th>9</th>\n",
       "      <td>19.612209</td>\n",
       "    </tr>\n",
       "    <tr>\n",
       "      <th>10</th>\n",
       "      <td>17.093333</td>\n",
       "    </tr>\n",
       "    <tr>\n",
       "      <th>11</th>\n",
       "      <td>11.800000</td>\n",
       "    </tr>\n",
       "    <tr>\n",
       "      <th>12</th>\n",
       "      <td>4.522222</td>\n",
       "    </tr>\n",
       "  </tbody>\n",
       "</table>\n",
       "</div>"
      ],
      "text/plain": [
       "            temp\n",
       "month           \n",
       "1       5.250000\n",
       "2       9.635000\n",
       "3      13.083333\n",
       "4      12.044444\n",
       "5      14.650000\n",
       "6      20.494118\n",
       "7      22.109375\n",
       "8      21.631522\n",
       "9      19.612209\n",
       "10     17.093333\n",
       "11     11.800000\n",
       "12      4.522222"
      ]
     },
     "execution_count": 79,
     "metadata": {},
     "output_type": "execute_result"
    }
   ],
   "source": [
    "\n",
    "monthly_data = data.groupby('month')['temp'].mean()\n",
    "\n",
    "grpd_df = pd.DataFrame(monthly_data)\n",
    "grpd_df "
   ]
  },
  {
   "cell_type": "code",
   "execution_count": 93,
   "id": "b99fa885",
   "metadata": {},
   "outputs": [
    {
     "data": {
      "text/html": [
       "<div>\n",
       "<style scoped>\n",
       "    .dataframe tbody tr th:only-of-type {\n",
       "        vertical-align: middle;\n",
       "    }\n",
       "\n",
       "    .dataframe tbody tr th {\n",
       "        vertical-align: top;\n",
       "    }\n",
       "\n",
       "    .dataframe thead th {\n",
       "        text-align: right;\n",
       "    }\n",
       "</style>\n",
       "<table border=\"1\" class=\"dataframe\">\n",
       "  <thead>\n",
       "    <tr style=\"text-align: right;\">\n",
       "      <th></th>\n",
       "      <th>temp</th>\n",
       "    </tr>\n",
       "    <tr>\n",
       "      <th>day</th>\n",
       "      <th></th>\n",
       "    </tr>\n",
       "  </thead>\n",
       "  <tbody>\n",
       "    <tr>\n",
       "      <th>fri</th>\n",
       "      <td>17.948235</td>\n",
       "    </tr>\n",
       "    <tr>\n",
       "      <th>mon</th>\n",
       "      <td>16.951351</td>\n",
       "    </tr>\n",
       "    <tr>\n",
       "      <th>sat</th>\n",
       "      <td>19.348810</td>\n",
       "    </tr>\n",
       "    <tr>\n",
       "      <th>sun</th>\n",
       "      <td>19.065263</td>\n",
       "    </tr>\n",
       "    <tr>\n",
       "      <th>thu</th>\n",
       "      <td>19.704918</td>\n",
       "    </tr>\n",
       "    <tr>\n",
       "      <th>tue</th>\n",
       "      <td>19.439062</td>\n",
       "    </tr>\n",
       "    <tr>\n",
       "      <th>wed</th>\n",
       "      <td>20.427778</td>\n",
       "    </tr>\n",
       "  </tbody>\n",
       "</table>\n",
       "</div>"
      ],
      "text/plain": [
       "          temp\n",
       "day           \n",
       "fri  17.948235\n",
       "mon  16.951351\n",
       "sat  19.348810\n",
       "sun  19.065263\n",
       "thu  19.704918\n",
       "tue  19.439062\n",
       "wed  20.427778"
      ]
     },
     "execution_count": 93,
     "metadata": {},
     "output_type": "execute_result"
    }
   ],
   "source": [
    "\n",
    "# Group by month and calculate the mean for each column\n",
    "monthly_stats = df.groupby('day')['temp'].mean()\n",
    "\n",
    "group = pd.DataFrame(monthly_stats)\n",
    "group"
   ]
  }
 ],
 "metadata": {
  "kernelspec": {
   "display_name": "Python 3 (ipykernel)",
   "language": "python",
   "name": "python3"
  },
  "language_info": {
   "codemirror_mode": {
    "name": "ipython",
    "version": 3
   },
   "file_extension": ".py",
   "mimetype": "text/x-python",
   "name": "python",
   "nbconvert_exporter": "python",
   "pygments_lexer": "ipython3",
   "version": "3.9.13"
  }
 },
 "nbformat": 4,
 "nbformat_minor": 5
}
